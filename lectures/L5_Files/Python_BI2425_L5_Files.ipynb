{
 "cells": [
  {
   "cell_type": "markdown",
   "id": "8d7cf656",
   "metadata": {},
   "source": [
    "# <center>  Python for biologists"
   ]
  },
  {
   "cell_type": "markdown",
   "id": "eaad065b",
   "metadata": {},
   "source": [
    "# Lecture 5, Files\n"
   ]
  },
  {
   "cell_type": "markdown",
   "id": "6a6150f9",
   "metadata": {},
   "source": [
    "---"
   ]
  },
  {
   "cell_type": "markdown",
   "id": "af4ab24d-35cd-48c3-a6f3-34dc9b826a46",
   "metadata": {},
   "source": [
    "# Two afterwords about previous lectures"
   ]
  },
  {
   "cell_type": "markdown",
   "id": "ffba3057-30c6-4490-bbec-b2e77a703d42",
   "metadata": {},
   "source": [
    "## 1. Naming conventions\n",
    "\n",
    "There two schemes of naming: ***snake_case*** and ***CamelCase***. Do not mix them!!\n",
    "\n",
    "In Python we use:\n",
    " - *snake_case* for variables and functions\n",
    " - *CamelCase* for Classes (next semester)\n",
    " \n",
    "So in the first semestr stick to the snake_case for everything you do!\n",
    " \n",
    "How should I create a name for something?\n",
    " \n",
    " ### Variables\n",
    "- **Variable: noun** (переменные называем именами существительными)\n",
    "    - **Collections: plural** (коллекции - множественным числом)\n",
    "    \n",
    "Example:\n",
    "```python\n",
    "student_id = 1\n",
    "sequence = 'ATG'\n",
    "\n",
    "student_ids = [1, 2, 3]\n",
    "sequences = ('A', 'ATCG', 'ATG')\n",
    "```\n",
    "\n",
    "**Do not** inculde data types in the name of the variable:\n",
    "```python\n",
    "sequence_str = 'ATG' # BAD\n",
    "sequence = 'ATG' # GOOD\n",
    "```"
   ]
  },
  {
   "cell_type": "markdown",
   "id": "653ac17d-eda7-451f-870b-c10718ccc622",
   "metadata": {},
   "source": [
    "### Functions\n",
    "- **Functions: verb** (функции называем глаголами)\n",
    "\n",
    "Example:\n",
    "```python\n",
    "def reverse(seq):\n",
    "    return seq[::-1]\n",
    "\n",
    "def update_database():\n",
    "    pass\n",
    "\n",
    "def plot_histogram():\n",
    "    pass\n",
    "\n",
    "def validate_args():\n",
    "    pass\n",
    "```\n",
    "\n",
    "- There some commonly used prefixes:\n",
    "    + `is_`: mean function returns `bool` (`is_dna`, `isdigit`)\n",
    "    + `get_`\n",
    "    + `fetch_`: same as get but means getting from internet\n",
    "    \n",
    "**Do not** include function arguments in the function name:\n",
    "```python\n",
    "# BAD\n",
    "def reverse_seq(seq):\n",
    "    pass\n",
    "\n",
    "def validate_args(args):\n",
    "    pass\n",
    "\n",
    "# GOOD\n",
    "def reverse(seq):\n",
    "    pass\n",
    "\n",
    "def validate(args):\n",
    "    pass\n",
    "# or\n",
    "def validate_args():\n",
    "    pass\n",
    "```"
   ]
  },
  {
   "cell_type": "markdown",
   "id": "49fc657a-fb12-4886-9064-feeac80b76c0",
   "metadata": {},
   "source": [
    "## 2. Standard library modules\n",
    "\n",
    "Here are most used modules in the python standart library:\n",
    "\n",
    "- sys \\*\\*\n",
    "- os \\*\\*\\*\n",
    "- re \\*\\*\n",
    "- os.path \\*\\*\\*, glob, pathlib\n",
    "- argparse \\*\n",
    "- venv \\*\n",
    "- datetime \\*\n",
    "- itertools, functools \\*\n",
    "- multiprocessing, threading \\*\n",
    "- collections\n",
    "- copy\n",
    "- pprint\n",
    "- typing\n",
    "- gc\n",
    "\n",
    "**sys**:\n",
    "- exit\n",
    "- getsizeof\n",
    "- path\n",
    "- stdin, stdout, stderr \\*\\*\\*\n",
    "\n",
    "**os**:\n",
    "- chdir, getcwd\n",
    "- mkdir\n",
    "- chmod, chown\n",
    "- listdir \\*\\*\n",
    "- rename\n",
    "- cpu_count\n",
    "\n",
    "**os.path**:\n",
    "- basename\n",
    "- exist\n",
    "- isfile, isfile \\*\n",
    "- join \\*\\*\\*\n",
    "s\n",
    "- isfile, isfile *\n",
    "- join ***\n"
   ]
  },
  {
   "cell_type": "markdown",
   "id": "96e0ce07-3863-4789-84d1-88f64b39b858",
   "metadata": {},
   "source": [
    "## Inspecting OS Filesystem"
   ]
  },
  {
   "cell_type": "code",
   "execution_count": 5,
   "id": "36566113-ef2e-4f26-a832-62d8c437a46f",
   "metadata": {},
   "outputs": [],
   "source": [
    "import os"
   ]
  },
  {
   "cell_type": "markdown",
   "id": "155ec075-1cf0-4f2f-afb3-e0a3f5e6970e",
   "metadata": {},
   "source": [
    "Listing files in the directory"
   ]
  },
  {
   "cell_type": "code",
   "execution_count": 17,
   "id": "093b1c36-de90-443c-9e59-9197f6f4221d",
   "metadata": {},
   "outputs": [
    {
     "name": "stdout",
     "output_type": "stream",
     "text": [
      "['.ipynb_checkpoints', 'data', 'Lecture_6_Files.ipynb', 'Python_BI2425_L5_Files.ipynb']\n",
      "['.ipynb_checkpoints', 'script.py', 'snps.vcf', 'test.fastq']\n"
     ]
    }
   ],
   "source": [
    "print(os.listdir()) # in current\n",
    "print(os.listdir('data')) # in some specific"
   ]
  },
  {
   "cell_type": "markdown",
   "id": "cd0be1ac-7200-40fc-b629-e8db37e7476d",
   "metadata": {},
   "source": [
    "Check whether the path a file or not (there are the same function for dirs and links)"
   ]
  },
  {
   "cell_type": "code",
   "execution_count": 18,
   "id": "dc6abd07-fe1f-49c8-86b3-11b777ccd204",
   "metadata": {},
   "outputs": [
    {
     "data": {
      "text/plain": [
       "True"
      ]
     },
     "execution_count": 18,
     "metadata": {},
     "output_type": "execute_result"
    }
   ],
   "source": [
    "os.path.isfile('data/snps.vcf') "
   ]
  },
  {
   "cell_type": "markdown",
   "id": "e49b071d-628a-4780-8636-a0c254d65a88",
   "metadata": {},
   "source": [
    "To construct paths in OS-independent way - use this function"
   ]
  },
  {
   "cell_type": "code",
   "execution_count": 19,
   "id": "60fd54cc-1094-446a-b0f9-7f44b9a6eac5",
   "metadata": {},
   "outputs": [
    {
     "data": {
      "text/plain": [
       "'data/snps.vcf'"
      ]
     },
     "execution_count": 19,
     "metadata": {},
     "output_type": "execute_result"
    }
   ],
   "source": [
    "os.path.join('data', 'snps.vcf')"
   ]
  },
  {
   "cell_type": "code",
   "execution_count": 20,
   "id": "b6ca3a85-c6ea-40d6-89f3-bcce92da9f15",
   "metadata": {},
   "outputs": [],
   "source": [
    "out_dir = 'data'\n",
    "out_file = 'A1_filtered_sorted.txt'"
   ]
  },
  {
   "cell_type": "code",
   "execution_count": 21,
   "id": "a6767338-a453-4477-af1a-c429c77bdebf",
   "metadata": {},
   "outputs": [
    {
     "data": {
      "text/plain": [
       "'data/A1_filtered_sorted.txt'"
      ]
     },
     "execution_count": 21,
     "metadata": {},
     "output_type": "execute_result"
    }
   ],
   "source": [
    "os.path.join(out_dir, out_file)"
   ]
  },
  {
   "cell_type": "markdown",
   "id": "dc90c4fa-1f59-4c81-9fb0-ab9fbfb88481",
   "metadata": {},
   "source": [
    "## Connecting to files - open"
   ]
  },
  {
   "cell_type": "code",
   "execution_count": 28,
   "id": "b2824660-a77f-4672-95ac-8d55163da7c6",
   "metadata": {},
   "outputs": [],
   "source": [
    "file = open('data/script.py')"
   ]
  },
  {
   "cell_type": "code",
   "execution_count": 29,
   "id": "86d4930a-6abe-4c5b-a5ae-c9adeaee3fd9",
   "metadata": {},
   "outputs": [],
   "source": [
    "text = file.read()"
   ]
  },
  {
   "cell_type": "code",
   "execution_count": 30,
   "id": "63526827-cf35-4142-a8bf-516b44f22c42",
   "metadata": {},
   "outputs": [
    {
     "data": {
      "text/plain": [
       "type"
      ]
     },
     "execution_count": 30,
     "metadata": {},
     "output_type": "execute_result"
    }
   ],
   "source": [
    "type(str)"
   ]
  },
  {
   "cell_type": "code",
   "execution_count": 31,
   "id": "3d85aaf9-ad7b-460a-804b-f7a186d18816",
   "metadata": {},
   "outputs": [
    {
     "data": {
      "text/plain": [
       "'joke = \"\"\"There are 10 types of people: \\n          those who understand binary and \\n          those who don\\'t.\"\"\"\\n\\nif __name__ == \"__main__\":\\n    print(joke)'"
      ]
     },
     "execution_count": 31,
     "metadata": {},
     "output_type": "execute_result"
    }
   ],
   "source": [
    "text"
   ]
  },
  {
   "cell_type": "markdown",
   "id": "6a636c25-f01b-48c4-9789-4cba74bebfce",
   "metadata": {},
   "source": [
    "Pay attention to '\\n' symbols (linebreaks). The `print` function can display it in a nice way"
   ]
  },
  {
   "cell_type": "code",
   "execution_count": 32,
   "id": "de5cee8e-5cee-4d32-bd02-41042d16e304",
   "metadata": {},
   "outputs": [
    {
     "name": "stdout",
     "output_type": "stream",
     "text": [
      "joke = \"\"\"There are 10 types of people: \n",
      "          those who understand binary and \n",
      "          those who don't.\"\"\"\n",
      "\n",
      "if __name__ == \"__main__\":\n",
      "    print(joke)\n"
     ]
    }
   ],
   "source": [
    "print(text)"
   ]
  },
  {
   "cell_type": "markdown",
   "id": "8bcafc05-4b3f-492a-8cb8-a123216a895a",
   "metadata": {},
   "source": [
    "UNIX-like OS: '\\n' \n",
    "\n",
    "Windows: '\\r\\n'"
   ]
  },
  {
   "cell_type": "markdown",
   "id": "6dfcc11f-c6ef-48ad-8b47-04ae637b08f6",
   "metadata": {},
   "source": [
    "### But,\n",
    "the most important thing to do with file - to close it"
   ]
  },
  {
   "cell_type": "code",
   "execution_count": 33,
   "id": "73126b5d-337e-42dd-801e-366971f29d47",
   "metadata": {},
   "outputs": [],
   "source": [
    "file.close()"
   ]
  },
  {
   "cell_type": "markdown",
   "id": "de07d673-708b-431b-b6d1-c934475c26c7",
   "metadata": {},
   "source": [
    "Due to this fact, in python we work with files using special so-called `context manager`:"
   ]
  },
  {
   "cell_type": "code",
   "execution_count": 35,
   "id": "54065c51-1b27-420e-acb2-0a1d16ab6792",
   "metadata": {},
   "outputs": [
    {
     "name": "stdout",
     "output_type": "stream",
     "text": [
      "joke = \"\"\"There are 10 types of people: \n",
      "          those who understand binary and \n",
      "          those who don't.\"\"\"\n",
      "\n",
      "if __name__ == \"__main__\":\n",
      "    print(joke)\n",
      "_\n"
     ]
    },
    {
     "ename": "ValueError",
     "evalue": "I/O operation on closed file.",
     "output_type": "error",
     "traceback": [
      "\u001b[0;31m---------------------------------------------------------------------------\u001b[0m",
      "\u001b[0;31mValueError\u001b[0m                                Traceback (most recent call last)",
      "Cell \u001b[0;32mIn[35], line 5\u001b[0m\n\u001b[1;32m      3\u001b[0m                           \u001b[38;5;66;03m# вне блока файл закрывается \u001b[39;00m\n\u001b[1;32m      4\u001b[0m \u001b[38;5;28mprint\u001b[39m(\u001b[38;5;124m'\u001b[39m\u001b[38;5;124m_\u001b[39m\u001b[38;5;124m'\u001b[39m)\n\u001b[0;32m----> 5\u001b[0m \u001b[38;5;28mprint\u001b[39m(\u001b[43mfile\u001b[49m\u001b[38;5;241;43m.\u001b[39;49m\u001b[43mread\u001b[49m\u001b[43m(\u001b[49m\u001b[43m)\u001b[49m) \u001b[38;5;66;03m# тут файл уже закрыт и его чтение дает ошибку\u001b[39;00m\n",
      "\u001b[0;31mValueError\u001b[0m: I/O operation on closed file."
     ]
    }
   ],
   "source": [
    "with open('data/script.py') as file: # контекстный менеджер\n",
    "    print(file.read()) # работаем с файлом внутри блока\n",
    "                          # вне блока файл закрывается \n",
    "print('_')\n",
    "print(file.read()) # тут файл уже закрыт и его чтение дает ошибку"
   ]
  },
  {
   "cell_type": "markdown",
   "id": "946eda66-c54a-47b6-a87b-4144f92e3988",
   "metadata": {},
   "source": [
    "- В `open` хорошо бы подавать пути через `os.path.join`.\n",
    "- Читать весь файл единым киричем за раз - не очень хорошо. И работать сложно, и компьютеру может быть больно. Можно читать отдельные строки. Каждый раз читая строку, вы переходите на следующую"
   ]
  },
  {
   "cell_type": "code",
   "execution_count": 36,
   "id": "d9385661-6c0d-4673-8d32-4d2267d87129",
   "metadata": {},
   "outputs": [
    {
     "name": "stdout",
     "output_type": "stream",
     "text": [
      "##fileformat=VCFv4.2\n",
      "##fileDate=20230207\n"
     ]
    }
   ],
   "source": [
    "data_dir = 'data'\n",
    "with open(os.path.join(data_dir, 'snps.vcf')) as vcf_file:\n",
    "    print(vcf_file.readline(), end='')\n",
    "    print(vcf_file.readline(), end='')"
   ]
  },
  {
   "cell_type": "markdown",
   "id": "8f53f92c-c25e-4b29-9d1c-834b5f6cd4a8",
   "metadata": {},
   "source": [
    "Чтобы вернуться назад, можно попросить питон найти \"нулевой\" байт в вашем файле и перейти на него. Но так обычно редко приходится делать."
   ]
  },
  {
   "cell_type": "code",
   "execution_count": 37,
   "id": "b958f7ad-994a-4382-b1e1-b27b2323fb0b",
   "metadata": {},
   "outputs": [
    {
     "name": "stdout",
     "output_type": "stream",
     "text": [
      "##fileformat=VCFv4.2\n",
      "##fileDate=20230207\n",
      "##source=PLINKv1.90\n",
      "\n",
      "##fileformat=VCFv4.2\n"
     ]
    }
   ],
   "source": [
    "data_dir = 'data'\n",
    "with open(os.path.join(data_dir, 'snps.vcf')) as vcf_file:\n",
    "    print(vcf_file.readline(), end='')\n",
    "    print(vcf_file.readline(), end='')\n",
    "    print(vcf_file.readline(), end='')\n",
    "    vcf_file.seek(0)\n",
    "    print()\n",
    "    print(vcf_file.readline(), end='')"
   ]
  },
  {
   "cell_type": "markdown",
   "id": "033fbaed-68d8-4160-b54d-0b73830a7351",
   "metadata": {},
   "source": [
    "**Задача 1**\n",
    "\n",
    "> Напечатать самую первую строчку после комментариев в VCF-файле"
   ]
  },
  {
   "cell_type": "code",
   "execution_count": 38,
   "id": "c1d02a14-9d84-4fde-83da-19f6433199a6",
   "metadata": {
    "scrolled": true
   },
   "outputs": [
    {
     "name": "stdout",
     "output_type": "stream",
     "text": [
      "#CHROM\tPOS\tID\tREF\tALT\tQUAL\tFILTER\tINFO\tFORMAT\tFAM001_ID001\n",
      "Y\t2649694\ti4000095\tT\t.\t.\t.\tPR\tGT\t0/0\n"
     ]
    }
   ],
   "source": [
    "with open(os.path.join(data_dir, 'snps.vcf')) as vcf_file:\n",
    "    line = vcf_file.readline()\n",
    "    while line.startswith('##'):\n",
    "        line = vcf_file.readline()\n",
    "    print(line, end='')\n",
    "    print(vcf_file.readline(), end='')\n",
    "        \n",
    "    "
   ]
  },
  {
   "cell_type": "markdown",
   "id": "0aca03b8-89a9-4281-bdf4-061cf4361c9f",
   "metadata": {},
   "source": [
    "Также можно прочитать все строки за раз, но этом может перегрузить память компьютера, будьте аккуратнее"
   ]
  },
  {
   "cell_type": "code",
   "execution_count": 39,
   "id": "7da11b92-0870-48e8-bca6-5f551d0b392a",
   "metadata": {},
   "outputs": [],
   "source": [
    "with open(os.path.join(data_dir, 'snps.vcf')) as vcf_file:\n",
    "    lines = vcf_file.readlines()"
   ]
  },
  {
   "cell_type": "code",
   "execution_count": 40,
   "id": "e3d2d845-4f74-43f6-92c9-8d148b01c79f",
   "metadata": {},
   "outputs": [
    {
     "data": {
      "text/plain": [
       "['##fileformat=VCFv4.2\\n',\n",
       " '##fileDate=20230207\\n',\n",
       " '##source=PLINKv1.90\\n',\n",
       " '##contig=<ID=1,length=249218993>\\n',\n",
       " '##contig=<ID=2,length=243048761>\\n']"
      ]
     },
     "execution_count": 40,
     "metadata": {},
     "output_type": "execute_result"
    }
   ],
   "source": [
    "lines[:5]"
   ]
  },
  {
   "cell_type": "markdown",
   "id": "0af8bc42-15ef-4767-9e2d-c788e48e4f06",
   "metadata": {},
   "source": [
    "Но так зато можно работать со строками вполне в привычном для нас режиме"
   ]
  },
  {
   "cell_type": "code",
   "execution_count": 41,
   "id": "c44bc059-be18-453a-b085-b67751e43228",
   "metadata": {},
   "outputs": [],
   "source": [
    "data = []\n",
    "for line in lines:\n",
    "    if not line.startswith('#'):\n",
    "        data.append(line)"
   ]
  },
  {
   "cell_type": "code",
   "execution_count": 42,
   "id": "5d4032b1-7e33-409e-9caa-2bac9ff04a92",
   "metadata": {},
   "outputs": [
    {
     "data": {
      "text/plain": [
       "['Y\\t2649694\\ti4000095\\tT\\t.\\t.\\t.\\tPR\\tGT\\t0/0\\n',\n",
       " 'Y\\t2649696\\ti4000093\\tN\\t.\\t.\\t.\\tPR\\tGT\\t./.\\n',\n",
       " 'Y\\t2655180\\trs11575897\\tG\\t.\\t.\\t.\\tPR\\tGT\\t0/0\\n',\n",
       " 'Y\\t2655248\\ti5004371\\tG\\t.\\t.\\t.\\tPR\\tGT\\t0/0\\n',\n",
       " 'Y\\t2655265\\ti5004367\\tT\\t.\\t.\\t.\\tPR\\tGT\\t0/0\\n',\n",
       " 'Y\\t2655308\\ti5004381\\tC\\t.\\t.\\t.\\tPR\\tGT\\t0/0\\n',\n",
       " 'Y\\t2655319\\ti5004386\\tA\\t.\\t.\\t.\\tPR\\tGT\\t0/0\\n',\n",
       " 'Y\\t2655324\\ti5004379\\tC\\t.\\t.\\t.\\tPR\\tGT\\t0/0\\n',\n",
       " 'Y\\t2655325\\ti5004380\\tC\\t.\\t.\\t.\\tPR\\tGT\\t0/0\\n',\n",
       " 'Y\\t2655328\\ti5004382\\tT\\t.\\t.\\t.\\tPR\\tGT\\t0/0\\n']"
      ]
     },
     "execution_count": 42,
     "metadata": {},
     "output_type": "execute_result"
    }
   ],
   "source": [
    "data[:10]"
   ]
  },
  {
   "cell_type": "markdown",
   "id": "3ed3e00a-7d5d-4f15-ad3c-5d43c45b88a3",
   "metadata": {},
   "source": [
    "На самом деле, **можно итерироваться сразу по файлу!**"
   ]
  },
  {
   "cell_type": "code",
   "execution_count": 43,
   "id": "e199a82a-d54d-4638-b438-13cb645086c6",
   "metadata": {},
   "outputs": [
    {
     "name": "stdout",
     "output_type": "stream",
     "text": [
      "Y\t2649694\ti4000095\tT\t.\t.\t.\tPR\tGT\t0/0\n",
      "\n"
     ]
    }
   ],
   "source": [
    "with open(os.path.join(data_dir, 'snps.vcf')) as vcf_file:\n",
    "    for line in vcf_file:\n",
    "        if not line.startswith('#'):\n",
    "            print(line)\n",
    "            break"
   ]
  },
  {
   "cell_type": "markdown",
   "id": "6ed008ed-9c1d-438d-8763-45c5ea0347d5",
   "metadata": {},
   "source": [
    "Давайте посомтрим на нашу строчку. Что нам делать с такой ерундовиной?"
   ]
  },
  {
   "cell_type": "code",
   "execution_count": 44,
   "id": "c508eed6-801d-47dc-b7da-fe934cc4bed3",
   "metadata": {},
   "outputs": [
    {
     "data": {
      "text/plain": [
       "'Y\\t2649694\\ti4000095\\tT\\t.\\t.\\t.\\tPR\\tGT\\t0/0\\n'"
      ]
     },
     "execution_count": 44,
     "metadata": {},
     "output_type": "execute_result"
    }
   ],
   "source": [
    "line # тут куча всяких технических вещей типо \\t (TAB) и \\n (перенос строки)"
   ]
  },
  {
   "cell_type": "markdown",
   "id": "3d9f4540-beba-471c-ad20-51af5bc7e788",
   "metadata": {},
   "source": [
    "Откусить символы с конца строки (по дефолту как раз \\n): "
   ]
  },
  {
   "cell_type": "code",
   "execution_count": 45,
   "id": "5b092dd3-d6d4-4b6b-afc3-562ba0522b7d",
   "metadata": {},
   "outputs": [],
   "source": [
    "line = line.strip()"
   ]
  },
  {
   "cell_type": "markdown",
   "id": "639d5381-e8c9-413e-b76b-f6b7d44ebef7",
   "metadata": {},
   "source": [
    "Разбить строку по символам"
   ]
  },
  {
   "cell_type": "code",
   "execution_count": 46,
   "id": "cdc7e40b-2c8f-40c4-baf4-6cd2c4cf7b69",
   "metadata": {},
   "outputs": [
    {
     "data": {
      "text/plain": [
       "['Y', '2649694', 'i4000095', 'T', '.', '.', '.', 'PR', 'GT', '0/0']"
      ]
     },
     "execution_count": 46,
     "metadata": {},
     "output_type": "execute_result"
    }
   ],
   "source": [
    "line.split('\\t')"
   ]
  },
  {
   "attachments": {
    "df81d8a6-8db3-4576-9788-ac770c1441e2.png": {
     "image/png": "[encoded data removed]"
    }
   },
   "cell_type": "markdown",
   "id": "7c094e30-ed09-41d4-a840-c06dcb8fdfdb",
   "metadata": {},
   "source": [
    "**Задача 2**\n",
    "\n",
    "> Из комментариев в VCF-файле достать названия хромосом (ID) и их длины\n",
    "\n",
    "![image.png](attachment:df81d8a6-8db3-4576-9788-ac770c1441e2.png)"
   ]
  },
  {
   "cell_type": "code",
   "execution_count": 47,
   "id": "b4efad24-883b-4fc7-9638-2a7f2c64a8ea",
   "metadata": {},
   "outputs": [],
   "source": [
    "with open(os.path.join(data_dir, 'snps.vcf')) as vcf_file:\n",
    "    lines = []\n",
    "    for line in vcf_file:\n",
    "        if line.startswith('##contig='):\n",
    "            line = line.strip('>\\n')\n",
    "            line = line.replace('##contig=<ID=', '')\n",
    "            line = line.split(',length=')\n",
    "            lines.append(line)\n"
   ]
  },
  {
   "cell_type": "code",
   "execution_count": 48,
   "id": "3d41bcb1-7eb7-49f9-9f66-4bdf312b5668",
   "metadata": {},
   "outputs": [
    {
     "data": {
      "text/plain": [
       "[['1', '249218993'],\n",
       " ['2', '243048761'],\n",
       " ['3', '197833759'],\n",
       " ['4', '190939666'],\n",
       " ['5', '180696890'],\n",
       " ['6', '170919471'],\n",
       " ['7', '159119221'],\n",
       " ['8', '146296415'],\n",
       " ['9', '141066492'],\n",
       " ['10', '135523247'],\n",
       " ['11', '134940417'],\n",
       " ['12', '133838354'],\n",
       " ['13', '115103151'],\n",
       " ['14', '107285438'],\n",
       " ['15', '102398632'],\n",
       " ['16', '90163276'],\n",
       " ['17', '81047709'],\n",
       " ['18', '78015181'],\n",
       " ['19', '59094137'],\n",
       " ['20', '62960293'],\n",
       " ['21', '48100156'],\n",
       " ['22', '51214250'],\n",
       " ['Y', '59032810'],\n",
       " ['M', '16548']]"
      ]
     },
     "execution_count": 48,
     "metadata": {},
     "output_type": "execute_result"
    }
   ],
   "source": [
    "lines"
   ]
  },
  {
   "cell_type": "markdown",
   "id": "24552bbc-32a0-4d00-a58d-679171911ea8",
   "metadata": {},
   "source": [
    "### Режимы работы с файлами\n",
    "- r - чтение (по-умолчанию)\n",
    "- w - запись\n",
    "- a - дозапись\n",
    "- b - бинарные файлы\n",
    "\n",
    "Можно комбинировать типо `mode='rb'`\n",
    "\n",
    "\n",
    "Читаем файлы:"
   ]
  },
  {
   "cell_type": "code",
   "execution_count": 49,
   "id": "96cf66e7-16a9-40e6-bfb7-38164743ffbe",
   "metadata": {},
   "outputs": [],
   "source": [
    "with open(os.path.join(data_dir, 'snps.vcf'), mode='r') as vcf_file:\n",
    "    pass # "
   ]
  },
  {
   "cell_type": "markdown",
   "id": "b6328ea2-1f23-499b-ac86-fc6c4e8e77e1",
   "metadata": {},
   "source": [
    "Записываем что-то в файлы\n",
    "\n",
    "Есть только метод write, он принимает строчку которую надо записать.\n",
    "Если хотите записывать несколько строк, надо вручную добавлять `\\n`."
   ]
  },
  {
   "cell_type": "code",
   "execution_count": 50,
   "id": "8f654ba8-ff88-449a-a94b-e009f25f0091",
   "metadata": {},
   "outputs": [],
   "source": [
    "with open(os.path.join(data_dir, 'text.txt'), mode='w') as file:\n",
    "    for text in ('a', 'b', 'c'):\n",
    "        file.write(text + '\\n')"
   ]
  },
  {
   "cell_type": "markdown",
   "id": "46a851c6-9626-4a0a-9605-a0f5b333056e",
   "metadata": {},
   "source": [
    "Для работы с сжатыми файлами есть специальные средства, например, `gzip`"
   ]
  },
  {
   "cell_type": "code",
   "execution_count": 51,
   "id": "2f2a35dd-75a9-40fe-ba75-384e531432a3",
   "metadata": {},
   "outputs": [
    {
     "data": {
      "text/plain": [
       "b'\\x1f\\x8b\\x08\\x001\\xb5\\xfff\\x02\\xffsttt\\x04\\x00\\xf1\\x08\\r\\x9b\\x04\\x00\\x00\\x00'"
      ]
     },
     "execution_count": 51,
     "metadata": {},
     "output_type": "execute_result"
    }
   ],
   "source": [
    "import gzip\n",
    "gzip.compress(b'AAAA') # ASCII"
   ]
  },
  {
   "cell_type": "code",
   "execution_count": 52,
   "id": "ae1c80f1-cde0-462f-889a-fa542690b9d0",
   "metadata": {},
   "outputs": [],
   "source": [
    "with gzip.open(os.path.join(data_dir, 'text.txt'), mode='w') as file:\n",
    "    file.write(gzip.compress(b'AAAA'))"
   ]
  },
  {
   "cell_type": "code",
   "execution_count": 53,
   "id": "6a4a5546-4601-42ea-a17b-5830e14397f0",
   "metadata": {},
   "outputs": [
    {
     "name": "stdout",
     "output_type": "stream",
     "text": [
      "b'AAAA'\n"
     ]
    }
   ],
   "source": [
    "with gzip.open(os.path.join(data_dir, 'text.txt')) as file:\n",
    "    print(gzip.decompress(file.read()))"
   ]
  },
  {
   "cell_type": "code",
   "execution_count": null,
   "id": "b29b1912-3566-44b3-8966-17941e84b82d",
   "metadata": {},
   "outputs": [],
   "source": []
  }
 ],
 "metadata": {
  "kernelspec": {
   "display_name": "Python 3 (ipykernel)",
   "language": "python",
   "name": "python3"
  },
  "language_info": {
   "codemirror_mode": {
    "name": "ipython",
    "version": 3
   },
   "file_extension": ".py",
   "mimetype": "text/x-python",
   "name": "python",
   "nbconvert_exporter": "python",
   "pygments_lexer": "ipython3",
   "version": "3.11.9"
  }
 },
 "nbformat": 4,
 "nbformat_minor": 5
}
