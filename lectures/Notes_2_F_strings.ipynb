{
 "cells": [
  {
   "cell_type": "markdown",
   "id": "8d7cf656",
   "metadata": {},
   "source": [
    "# <center>  Python for biologists"
   ]
  },
  {
   "cell_type": "markdown",
   "id": "eaad065b",
   "metadata": {},
   "source": [
    "## Notes 2, F-strings\n",
    "\n",
    "\n",
    "> Nikita Vaulin, vaulin@ro.ru, tg: @nvaulin\n",
    "    "
   ]
  },
  {
   "cell_type": "markdown",
   "id": "3c1bc47d",
   "metadata": {},
   "source": [
    "***Notion 0***. Feel free to start using shortcuts when working with Jupyter Notebook:\n",
    "- To run the cell `Ctrl`+`Enter`\n",
    "- To run the cell and step to the next one `Shift` + `Enter`\n",
    "- To run the cell and create the new one `Alt` + `Enter`\n",
    "\n",
    "There are two modes of action: cell-editing (the line on the left is green) and cell-selecting (the line on the left is blue). \n",
    "\n",
    "- cell-editing mode &#8594; `Esc` &#8594; cell-selecting mode\n",
    "- cell-selecting mode &#8594; `Enter` &#8594; cell-editing mode\n",
    "\n",
    "In cell-selecting mode you can:\n",
    "\n",
    "- Delete  a cell - `DD`\n",
    "- Undo deleting - `Z`\n"
   ]
  },
  {
   "cell_type": "markdown",
   "id": "2bf8e64a",
   "metadata": {},
   "source": [
    "### <center> Let's move on!"
   ]
  },
  {
   "cell_type": "markdown",
   "id": "6a6150f9",
   "metadata": {},
   "source": [
    "---"
   ]
  },
  {
   "cell_type": "markdown",
   "id": "f74f7de2-27e7-4525-9f29-a5ab4b7516a2",
   "metadata": {},
   "source": [
    ">## Содержание\n",
    "> - F-строки\n",
    "> - Несколько фактов про f-строки\n",
    "> - Применения f-строк в биоинформатике"
   ]
  },
  {
   "cell_type": "markdown",
   "id": "b469302e-fa59-49ab-aa21-09975b18d0bb",
   "metadata": {},
   "source": [
    "## F-строки\n",
    "\n",
    "`F` - от слова *format*. Они нужны, когда мы хотим каким либо образом модифицировать (форматировать) строки в нашем коде. \n",
    "\n",
    "Например, я получаю имя человека и хочу с ним поздороваться. Это можно сделать и через сложение строк:"
   ]
  },
  {
   "cell_type": "code",
   "execution_count": 143,
   "id": "2bde9f43-8d4c-4b69-9f9d-aa175b6724cb",
   "metadata": {},
   "outputs": [
    {
     "data": {
      "text/plain": [
       "'Hello, my name is nikita'"
      ]
     },
     "execution_count": 143,
     "metadata": {},
     "output_type": "execute_result"
    }
   ],
   "source": [
    "greeting = 'Hello, my name is '\n",
    "name = 'nikita'\n",
    "greeting + name"
   ]
  },
  {
   "cell_type": "markdown",
   "id": "80cd9574-e8a9-4d6b-a491-8772ee4e6446",
   "metadata": {},
   "source": [
    "Но то же самое можно сделать с помощью форматирования строк. Для этого в начале строки ставится символ `f` и нужные нам объекты передаются внутри `{` фигурных `}` скобок."
   ]
  },
  {
   "cell_type": "code",
   "execution_count": 145,
   "id": "a68d89e8-1930-47da-a4b9-030bc65d41ff",
   "metadata": {},
   "outputs": [
    {
     "data": {
      "text/plain": [
       "'Hello, my name is nikita'"
      ]
     },
     "execution_count": 145,
     "metadata": {},
     "output_type": "execute_result"
    }
   ],
   "source": [
    "f'Hello, my name is {name}'"
   ]
  },
  {
   "cell_type": "markdown",
   "id": "f2f670a3-600d-4674-a701-dcde08f06691",
   "metadata": {},
   "source": [
    "### Несколько фактов про f-строки.\n",
    "\n",
    "- **Внутри фигурных скобок можно делать какие-то операции.**\n",
    "\n",
    "Например, было бы логично сделать имя с заглавной буквы"
   ]
  },
  {
   "cell_type": "markdown",
   "id": "3295d73c-76f4-4fc1-a708-5039164dbb5b",
   "metadata": {},
   "source": [
    "- **F-строки удобно использовать во всяких таких историях шаблон + конкретный объект**"
   ]
  },
  {
   "cell_type": "code",
   "execution_count": 156,
   "id": "f9429099-283d-476e-90ff-03729f82a094",
   "metadata": {},
   "outputs": [
    {
     "name": "stdout",
     "output_type": "stream",
     "text": [
      "Hello, my name is nikita!\n",
      "Hello, my name is sasha!\n",
      "Hello, my name is lena!\n"
     ]
    }
   ],
   "source": [
    "names = ('nikita', 'sasha', 'lena')\n",
    "for name in names:\n",
    "    print(f\"Hello, my name is {name}!\")"
   ]
  },
  {
   "cell_type": "code",
   "execution_count": 153,
   "id": "be97d64b-7390-4ba3-b571-74b65a77c560",
   "metadata": {},
   "outputs": [
    {
     "data": {
      "text/plain": [
       "'Hello, my name is Lena!'"
      ]
     },
     "execution_count": 153,
     "metadata": {},
     "output_type": "execute_result"
    }
   ],
   "source": [
    "f\"Hello, my name is {name.capitalize()}!\""
   ]
  },
  {
   "cell_type": "markdown",
   "id": "74ec2c4c-01a9-4ac7-8c2c-65e886d27625",
   "metadata": {},
   "source": [
    "Можно математические операции делать"
   ]
  },
  {
   "cell_type": "code",
   "execution_count": 149,
   "id": "c9d66155-dfd1-40b3-9d87-5446889eb53c",
   "metadata": {},
   "outputs": [
    {
     "data": {
      "text/plain": [
       "\"Your number is 3 (that's a lie)\""
      ]
     },
     "execution_count": 149,
     "metadata": {},
     "output_type": "execute_result"
    }
   ],
   "source": [
    "my_num = 2\n",
    "f\"Your number is {my_num + 1} (that's a lie)\""
   ]
  },
  {
   "cell_type": "markdown",
   "id": "3e715d62-e818-47cf-95d7-a1245a5b7dbc",
   "metadata": {},
   "source": [
    "Но будьте аккуратнее! Какую-то одну штучку сделать ок. Если же вы там какую-то обработку будете делать, это уже будет плохо читаться. Сперва делайте обработку, потом подставляйте в шаблон, чтобы не было все вперемешку."
   ]
  },
  {
   "cell_type": "markdown",
   "id": "0d8a0fc2-8980-42e7-8ff7-ce1b962c72b8",
   "metadata": {},
   "source": [
    "- **Внутри фигурных скобок можно информативно отобразить переменную:**\n",
    "\n",
    "Здесь знак `=` - специальный символ, который позволяет подставить само значение."
   ]
  },
  {
   "cell_type": "code",
   "execution_count": 155,
   "id": "f9c2fbba-ac44-4f88-8e43-1203fc4c5e75",
   "metadata": {},
   "outputs": [
    {
     "name": "stdout",
     "output_type": "stream",
     "text": [
      " My 22\n",
      " My age = 22\n"
     ]
    }
   ],
   "source": [
    "age = 22\n",
    "print(f' My {age}')\n",
    "print(f' My {age = }') "
   ]
  },
  {
   "cell_type": "markdown",
   "id": "5caf2fc9-d711-4067-bc18-5fff3f684a3e",
   "metadata": {},
   "source": [
    "- **Внутри фигурных скобок форматировать числа с помощью `:`:**"
   ]
  },
  {
   "cell_type": "code",
   "execution_count": 170,
   "id": "cfb8823f-45dd-4c8a-aae4-4ccab35d3119",
   "metadata": {},
   "outputs": [
    {
     "name": "stdout",
     "output_type": "stream",
     "text": [
      "Pi is 3.141592653589794!\n",
      "Pi is 3.14!\n",
      "Pi is 3.142e+00!\n"
     ]
    }
   ],
   "source": [
    "pi = 3.141592653589793846\n",
    "print(f\"Pi is {pi}!\")\n",
    "print(f\"Pi is {pi:.2f}!\") # float-point, 2 знака после запятой\n",
    "print(f\"Pi is {pi:.3e}!\") # exponential, 3 знака после запятой"
   ]
  },
  {
   "cell_type": "code",
   "execution_count": 171,
   "id": "d3259130-8e3d-426d-bf5d-648bef40e5d5",
   "metadata": {},
   "outputs": [
    {
     "name": "stdout",
     "output_type": "stream",
     "text": [
      "Pi is pi = 3.14!\n"
     ]
    }
   ],
   "source": [
    "print(f\"Pi is {pi = :.2f}!\") # кстати можно комбинировать:)"
   ]
  },
  {
   "cell_type": "markdown",
   "id": "26c860d4-4b94-4249-901c-b1c14fcc537e",
   "metadata": {},
   "source": [
    "- **Текст внутри  можно дополнительно оформлять для печати:**\n",
    "\n",
    "Мы тут:\n",
    "  - Ставим `:` чтобы задать правила оформления\n",
    "  - Ставим число чтобы задать ширину блока в символах (штуках)\n",
    "  - Между `:` и числом можно поставить любой символ из `<` `^` `>` чтобы выровнять текст (влево, по-центру и вправо). По-умолчанию выравнивание вправо.\n",
    "  - Между `:` и символом выравнивания можно добавить символ, которых будет заполнять пустоту"
   ]
  },
  {
   "cell_type": "code",
   "execution_count": 194,
   "id": "32c6f54e-6dd7-4ab5-9ea5-461e4247be5a",
   "metadata": {},
   "outputs": [
    {
     "name": "stdout",
     "output_type": "stream",
     "text": [
      "Pi is 3!\n",
      "Pi is          3! (ширина 10, вправо (дефолт))\n",
      "Pi is 3         ! (ширина 10, влево)\n",
      "Pi is     3     ! (ширина 10, по-центру)\n",
      "Pi is          3! (ширина 10, вправо)\n",
      "Pi is ----3-----! (ширина 10, по-центру, заполнили пустоту)\n",
      "Pi is ====3=====! (ширина 10, по-центру, заполнили пустоту)\n"
     ]
    }
   ],
   "source": [
    "pi = 3\n",
    "print(f\"Pi is {pi}!\")\n",
    "print(f\"Pi is {pi:10}! (ширина 10, вправо (дефолт))\")\n",
    "print(f\"Pi is {pi:<10}! (ширина 10, влево)\")\n",
    "print(f\"Pi is {pi:^10}! (ширина 10, по-центру)\")\n",
    "print(f\"Pi is {pi:>10}! (ширина 10, вправо)\")\n",
    "print(f\"Pi is {pi:-^10}! (ширина 10, по-центру, заполнили пустоту)\")\n",
    "print(f\"Pi is {pi:=^10}! (ширина 10, по-центру, заполнили пустоту)\")"
   ]
  },
  {
   "cell_type": "markdown",
   "id": "d2c350d2-5e00-4e9c-82b6-8be597a45d73",
   "metadata": {},
   "source": [
    "- **Можно форматировать не только текст и числа, но и целые даты!:**\n",
    "\n",
    "Здесь используются символы через `%`. Посмотреть значение каждого можно в [табличке тут](https://docs.python.org/3/library/datetime.html#datetime.timezone). Между ними можно писать что угодно\n"
   ]
  },
  {
   "cell_type": "code",
   "execution_count": 203,
   "id": "b10c8a77-c814-4015-9997-17097711f636",
   "metadata": {},
   "outputs": [
    {
     "name": "stdout",
     "output_type": "stream",
     "text": [
      "2023-10-10\n",
      "Year 2023, month 10, day 10\n",
      "22:30 (10:30PM)\n"
     ]
    }
   ],
   "source": [
    "import datetime\n",
    "today = datetime.datetime.today()\n",
    "print(f\"{today:%Y-%m-%d}\") # год месяц день\n",
    "print(f\"{today:Year %Y, month %m, day %d}\") # год месяц день\n",
    "print(f\"{today:%H:%M (%I:%M%p)}\") # часы:минуты (часы:минуты в 12-часовом формате)"
   ]
  },
  {
   "cell_type": "markdown",
   "id": "a13e0478-143c-4ae2-a26a-c8ee136df75d",
   "metadata": {},
   "source": [
    "- **Можно делать f-строки вложенными, если менять типы кавычек:**\n",
    "\n",
    "*только зачем...*\n"
   ]
  },
  {
   "cell_type": "code",
   "execution_count": 204,
   "id": "a82f0047-b2f3-4b1c-9640-8e66fc125729",
   "metadata": {},
   "outputs": [
    {
     "name": "stdout",
     "output_type": "stream",
     "text": [
      "-*+.F-string.+*-\n"
     ]
    }
   ],
   "source": [
    "x = 'F-string'\n",
    "print(f'''-{f\"\"\"*{f\"+{f'.{x}.'}+\"}*\"\"\"}-''')"
   ]
  },
  {
   "cell_type": "markdown",
   "id": "252136c5-7fd9-44cc-aedf-8b285661adf9",
   "metadata": {},
   "source": [
    "### Применения f-строк в биоинформатике\n",
    "\n",
    "Тут чисто примеры, самих применений немеренное множество\n",
    "\n",
    "- **Писать сообщение пользователю**\n",
    "\n",
    "    Например, если он ввел вам неправильную операцию "
   ]
  },
  {
   "cell_type": "code",
   "execution_count": 206,
   "id": "2f4e7049-efc3-40c2-8064-a88447cbb263",
   "metadata": {},
   "outputs": [
    {
     "name": "stdout",
     "output_type": "stream",
     "text": [
      "Unknown operation multiply!\n"
     ]
    }
   ],
   "source": [
    "operation = 'multiply'\n",
    "operations = ['add', 'divide']\n",
    "\n",
    "if operation not in operations:\n",
    "    print( f\"Unknown operation {operation}!\")"
   ]
  },
  {
   "cell_type": "markdown",
   "id": "68e5fbcc-bddf-4858-9212-4add2237ce9a",
   "metadata": {},
   "source": [
    "- **Простейшее логгирование - уведомлять какой образец был обработан**"
   ]
  },
  {
   "cell_type": "code",
   "execution_count": 215,
   "id": "79622230-3270-48bc-a235-c1d4435857b1",
   "metadata": {},
   "outputs": [
    {
     "name": "stdout",
     "output_type": "stream",
     "text": [
      "---------------A1---------------\n",
      "Start doings\n",
      "Sample A1 succesefully processed\n",
      "---------------A2---------------\n",
      "Start doings\n",
      "Sample A2 succesefully processed\n",
      "---------------B1---------------\n",
      "Start doings\n",
      "Sample B1 succesefully processed\n",
      "---------------B2---------------\n",
      "Start doings\n",
      "Sample B2 succesefully processed\n"
     ]
    }
   ],
   "source": [
    "# Набор образцов\n",
    "samples = [\n",
    "    'A1', 'A2', \n",
    "    'B1', 'B2'\n",
    "]\n",
    "\n",
    "# Функция которую нам нужно с ними сделать (очень полезная, но долгая)\n",
    "def some_doings(data):\n",
    "    for i in range(1, 10000):\n",
    "        nothing = 0\n",
    "    return data\n",
    "\n",
    "# перебираем образцы\n",
    "for sample in samples:\n",
    "    print(f'{sample:-^32}') # взяли образец\n",
    "    print('Start doings') # оповестили что начали работу\n",
    "    sample = some_doings(sample)\n",
    "    print(f'Sample {sample} succesefully processed') # оповестили о завершении"
   ]
  },
  {
   "cell_type": "markdown",
   "id": "950104a4-38c3-4f79-9f4f-44a1d13bbd86",
   "metadata": {},
   "source": [
    "- **Читать и записывать файлы с сложными названиями, формировать названия образцов и т.п.**"
   ]
  },
  {
   "cell_type": "code",
   "execution_count": 218,
   "id": "a2404be1-2441-430b-b004-38403401aadc",
   "metadata": {},
   "outputs": [
    {
     "name": "stdout",
     "output_type": "stream",
     "text": [
      "Reading file `data/ChIPSeq_A1_filtered.fastq.gz`\n",
      "Reading file `data/ChIPSeq_A2_filtered.fastq.gz`\n",
      "Reading file `data/ChIPSeq_B1_filtered.fastq.gz`\n",
      "Reading file `data/ChIPSeq_B2_filtered.fastq.gz`\n"
     ]
    }
   ],
   "source": [
    "import os\n",
    "\n",
    "# Набор образцов\n",
    "samples = [\n",
    "    'A1', 'A2', \n",
    "    'B1', 'B2'\n",
    "]\n",
    "\n",
    "def read_file(path):\n",
    "    return 666\n",
    "\n",
    "# перебираем образцы\n",
    "for sample in samples:\n",
    "    filename = f'ChIPSeq_{sample}_filtered.fastq.gz'\n",
    "    path = os.path.join('data', filename)\n",
    "    print(f'Reading file `{path}`' )"
   ]
  },
  {
   "cell_type": "markdown",
   "id": "730a6698-f448-4ff3-bd4a-938f819e4642",
   "metadata": {},
   "source": [
    "Тут понятно можно выдумывать что-то совсем жуткое))\n",
    "\n",
    "```python\n",
    "for qval in (0.01, 0.05):\n",
    "    for res in (50000, 100000):\n",
    "        for bl in (0.01, 0.1, 0.5):\n",
    "            filename = f\"HiC_{res//1000}kb_bl{bl}_merged_all_q{qval}.pkl\"\n",
    "            path = os.path.join('data', filename)\n",
    "            df = pd.read_pickle(path)\n",
    "```"
   ]
  },
  {
   "cell_type": "markdown",
   "id": "9dcd1d54-fb39-407a-ae12-044e1e061c4e",
   "metadata": {},
   "source": [
    "- **И многое многое другое...**"
   ]
  },
  {
   "cell_type": "code",
   "execution_count": 166,
   "id": "02fde9b5-7147-42a1-a4ce-937901267df1",
   "metadata": {},
   "outputs": [
    {
     "name": "stdout",
     "output_type": "stream",
     "text": [
      "ChIPseq_sample1.fastq\n",
      "ChIPseq_sample2.fastq\n",
      "ChIPseq_sample3.fastq\n",
      "ChIPseq_sample4.fastq\n"
     ]
    }
   ],
   "source": [
    "samples = [1, 2, 3, 4]\n",
    "for sample in samples:\n",
    "    filename = f'ChIPseq_sample{sample}.fastq'\n",
    "    print(filename)"
   ]
  },
  {
   "cell_type": "code",
   "execution_count": 141,
   "id": "eb6086d3-042a-4e41-be4c-267d7ad72cd0",
   "metadata": {},
   "outputs": [
    {
     "name": "stdout",
     "output_type": "stream",
     "text": [
      "         1\n",
      "ChIPseq_run1.fastq\n",
      "         2\n",
      "ChIPseq_run2.fastq\n",
      "         3\n",
      "ChIPseq_run3.fastq\n",
      "         4\n",
      "ChIPseq_run4.fastq\n"
     ]
    }
   ],
   "source": [
    "samples = [1, 2, 3, 4]\n",
    "for sample in samples:\n",
    "    print(f'{sample:=10}')\n",
    "    filename = f'ChIPseq_run{sample}.fastq'\n",
    "    print(filename)"
   ]
  },
  {
   "cell_type": "code",
   "execution_count": null,
   "id": "02ef1eab-2855-4f87-8be3-e20e25013a77",
   "metadata": {},
   "outputs": [],
   "source": []
  }
 ],
 "metadata": {
  "kernelspec": {
   "display_name": "Python 3 (ipykernel)",
   "language": "python",
   "name": "python3"
  },
  "language_info": {
   "codemirror_mode": {
    "name": "ipython",
    "version": 3
   },
   "file_extension": ".py",
   "mimetype": "text/x-python",
   "name": "python",
   "nbconvert_exporter": "python",
   "pygments_lexer": "ipython3",
   "version": "3.11.4"
  }
 },
 "nbformat": 4,
 "nbformat_minor": 5
}
