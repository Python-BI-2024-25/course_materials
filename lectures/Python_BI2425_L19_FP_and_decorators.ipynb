{
 "cells": [
  {
   "cell_type": "markdown",
   "id": "8d7cf656",
   "metadata": {},
   "source": [
    "# <center>  Python for biologists"
   ]
  },
  {
   "attachments": {},
   "cell_type": "markdown",
   "id": "eaad065b",
   "metadata": {},
   "source": [
    "## Lecture 18, Decorators and FP\n"
   ]
  },
  {
   "cell_type": "markdown",
   "id": "6a6150f9",
   "metadata": {},
   "source": [
    "---"
   ]
  },
  {
   "cell_type": "markdown",
   "id": "1bb1162d-38ab-4c45-8661-8adc2ff0798f",
   "metadata": {},
   "source": [
    "# Функциональное программирование\n",
    "\n",
    "**OOP:** *x* $\\rightarrow$  `x.f()` & `x.g()` & `x.h()` $\\rightarrow$ *result* </br>\n",
    "Модификация данных методами. Говорят что *\"исходные данные изменяемы\"*.\n",
    "\n",
    "**FP:** *x* $\\rightarrow f(x) \\rightarrow g(f(x)) \\rightarrow h(g(f(x))) \\rightarrow$ *result* </br>\n",
    "Передача данных через функции. Говорят что *\"исходные данные* ***не*** *изменяемы\"*.\n",
    "\n",
    "## Некоторые базовые определения \n",
    "\n",
    "+ **Функции высшего порядка** - это функции, которые принимают в качестве аргумента или возвращают в качестве результата другие функции\n",
    "+ **Чистая функция** - функция, которая при один и тех же входных параметрах возвращает один и тот же результат, не вызывая побочных эффектов\n",
    "\n",
    "    ```python\n",
    "    total = 0 \n",
    "    \n",
    "    def add_pure(a, b):\n",
    "        total = a + b\n",
    "        return total\n",
    "        \n",
    "    def add_impure(a, b)\n",
    "        global total # результат функции зависит не только от аргументов a и b\n",
    "        total += a + b # побочный эффект - изменение глобальной переменной\n",
    "        return total\n",
    "    ```\n",
    "    \n",
    "    За счет своих преимуществ, чистые функции удобно тестировать, параллелизовать, переиспользовать в любой части проекта, кэшировать и просто читать :)\n",
    " \n",
    "## Инструменты функционального программирования\n",
    "\n",
    "### `map`\n",
    "\n",
    "\n",
    "`map` - один из ключевых элементов ФП-стороны python. Он как раз занимается тем чтобы применять функции к данным, при чем делает это \"экономно\" - хранит результат в виде итератора. Существуют также еще `filter` и целая уйма всего в модуле [functools](https://docs.python.org/3/library/functools.html). Например, если интересно, можете обратить внимание на `reduce` и `partial`.\n",
    "\n",
    "Вот задания которые может быть полезно сделать если вам интерено ФП:\n",
    "\n",
    "1) Напишите функцию `sequential_map` - функция должна принимать в качестве аргументов любое количество функций (позиционными аргументами, не списком), а также контейнер с какими-то значениями. Функция должна возвращать список результатов последовательного применения переданных функций к значениям в контейнере. Например:\n",
    "\n",
    "```python\n",
    "res = sequential_map(np.square, \n",
    "                     np.sqrt, \n",
    "                     lambda x: x**3, \n",
    "                     [1, 2, 3, 4, 5])\n",
    "print(res)\n",
    ">>> [1, 8, 27, 64, 125]\n",
    "```\n",
    "\n",
    "2) Напишите функцию `consensus_filter` -  функция должна принимать в качестве аргументов любое количество функций (позиционными  аргументами, НЕ списком), возвращающих True или False, а также контейнер с какими-то значениями. Функция должна возвращать список значений, которые при передаче их во все функции дают True. Например:\n",
    "\n",
    "```python\n",
    "res = consensus_filter(lambda x: x > 0, \n",
    "                       lambda x: x > 5, \n",
    "                       lambda x: x < 10, \n",
    "                       [-2, 0, 4, 6, 11])\n",
    "print(res)\n",
    ">>> [6]\n",
    "```\n",
    "\n",
    "\n",
    "3) Напишите функцию `conditional_reduce` -  ункция должна принимать 2 функции, а также контейнер с значениями. Первая функция должна принимать 1 аргумент и возвращать True или False, вторая также принимает 2 аргумента и возвращает значение (как в обычной функции reduce). conditional_reduce должна возвращать одно значение - результат reduce, пропуская значения с которыми первая функция выдала False. Например:\n",
    "\n",
    "```python\n",
    "res = conditional_reduce(lambda x: x < 5, \n",
    "                         lambda x, y: x + y, \n",
    "                         [1, 3, 5, 10])\n",
    "print(res)\n",
    ">>> 4\n",
    "```\n",
    "    \n",
    "Однако на практике в 90% случаях биоинформатикам нужен лишь `map` и...\n",
    "\n",
    "\n",
    "\n",
    "### $\\lambda$-функции\n",
    "\n",
    "Это попросту альтернативный механизм создания функций. Выглядит это так:\n",
    "```python\n",
    "lambda x, y: print(x + y)\n",
    "```\n",
    "\n",
    "Оно состоит из 3-х частей:\n",
    "1) Ключевое слово `lambda` - объявляет создание $\\lambda$-функции\n",
    "2) Перечесление ожидаемых аргументов\n",
    "3) Тело функции\n",
    "\n",
    "При этом как видете во всем этом деле никак не фигурирует имя функции. В теории $\\lambda$-функции можно присвоить имя:\n",
    "```python\n",
    "f = lambda x, y: print(x + y)\n",
    "```\n",
    "\n",
    "Интересно, что здесь немного стираются границы между функциями и переменными. В python есть просто объекты и ссылки на них (имена). При этом имена вообще не знают о том, являются ли объекты под ними callable или нет.\n",
    "\n",
    "Именования $\\lambda$-функции соотвествует записи:\n",
    "```python\n",
    "def f(x, y):\n",
    "    print(x, y)\n",
    "```\n",
    "\n",
    "Однако, **не надо именовать $\\lambda$-функции**. $\\lambda$-функции еще принято называть \"анонимными\", подчеркивая что им не принято давать имена.\n",
    "\n",
    "#### Зачем нужны $\\lambda$-функции?\n",
    "\n",
    "Чтобы быстро и немногословно определить и сразу же использовать функцию именно там где нужно. \n",
    "\n",
    "#### Пример $\\lambda$-1. Работа с дата-фреймами \n",
    "\n",
    "1) Можно лакончино что-нибудь переименовать\n",
    "2) Можно лаконично что-то сделать с данными"
   ]
  },
  {
   "cell_type": "code",
   "execution_count": 8,
   "id": "e42e48fd-d6c1-4a92-9f6d-52bee7ee990d",
   "metadata": {},
   "outputs": [
    {
     "data": {
      "text/html": [
       "<div>\n",
       "<style scoped>\n",
       "    .dataframe tbody tr th:only-of-type {\n",
       "        vertical-align: middle;\n",
       "    }\n",
       "\n",
       "    .dataframe tbody tr th {\n",
       "        vertical-align: top;\n",
       "    }\n",
       "\n",
       "    .dataframe thead th {\n",
       "        text-align: right;\n",
       "    }\n",
       "</style>\n",
       "<table border=\"1\" class=\"dataframe\">\n",
       "  <thead>\n",
       "    <tr style=\"text-align: right;\">\n",
       "      <th></th>\n",
       "      <th>col1_start</th>\n",
       "      <th>col2_end</th>\n",
       "      <th>col3_value</th>\n",
       "    </tr>\n",
       "  </thead>\n",
       "  <tbody>\n",
       "    <tr>\n",
       "      <th>0</th>\n",
       "      <td>1</td>\n",
       "      <td>5</td>\n",
       "      <td>0</td>\n",
       "    </tr>\n",
       "    <tr>\n",
       "      <th>1</th>\n",
       "      <td>2</td>\n",
       "      <td>6</td>\n",
       "      <td>0</td>\n",
       "    </tr>\n",
       "    <tr>\n",
       "      <th>2</th>\n",
       "      <td>3</td>\n",
       "      <td>7</td>\n",
       "      <td>2</td>\n",
       "    </tr>\n",
       "  </tbody>\n",
       "</table>\n",
       "</div>"
      ],
      "text/plain": [
       "   col1_start  col2_end  col3_value\n",
       "0           1         5           0\n",
       "1           2         6           0\n",
       "2           3         7           2"
      ]
     },
     "execution_count": 8,
     "metadata": {},
     "output_type": "execute_result"
    }
   ],
   "source": [
    "import numpy as np\n",
    "import pandas as pd\n",
    "\n",
    "df = pd.DataFrame({'col1_start': [1, 2, 3],\n",
    "                   'col2_end': [5, 6, 7],\n",
    "                   'col3_value': [0, 0, 2]\n",
    "                  })\n",
    "\n",
    "df"
   ]
  },
  {
   "cell_type": "code",
   "execution_count": 9,
   "id": "fb42610e-954f-4ff1-bf99-6e55f8f4c9e0",
   "metadata": {},
   "outputs": [
    {
     "data": {
      "text/html": [
       "<div>\n",
       "<style scoped>\n",
       "    .dataframe tbody tr th:only-of-type {\n",
       "        vertical-align: middle;\n",
       "    }\n",
       "\n",
       "    .dataframe tbody tr th {\n",
       "        vertical-align: top;\n",
       "    }\n",
       "\n",
       "    .dataframe thead th {\n",
       "        text-align: right;\n",
       "    }\n",
       "</style>\n",
       "<table border=\"1\" class=\"dataframe\">\n",
       "  <thead>\n",
       "    <tr style=\"text-align: right;\">\n",
       "      <th></th>\n",
       "      <th>start</th>\n",
       "      <th>end</th>\n",
       "      <th>value</th>\n",
       "    </tr>\n",
       "  </thead>\n",
       "  <tbody>\n",
       "    <tr>\n",
       "      <th>0</th>\n",
       "      <td>1</td>\n",
       "      <td>5</td>\n",
       "      <td>0</td>\n",
       "    </tr>\n",
       "    <tr>\n",
       "      <th>1</th>\n",
       "      <td>2</td>\n",
       "      <td>6</td>\n",
       "      <td>0</td>\n",
       "    </tr>\n",
       "    <tr>\n",
       "      <th>2</th>\n",
       "      <td>3</td>\n",
       "      <td>7</td>\n",
       "      <td>2</td>\n",
       "    </tr>\n",
       "  </tbody>\n",
       "</table>\n",
       "</div>"
      ],
      "text/plain": [
       "   start  end  value\n",
       "0      1    5      0\n",
       "1      2    6      0\n",
       "2      3    7      2"
      ]
     },
     "execution_count": 9,
     "metadata": {},
     "output_type": "execute_result"
    }
   ],
   "source": [
    "df.rename(lambda x: x.split('_')[1], axis=1) # переименование колонок"
   ]
  },
  {
   "cell_type": "code",
   "execution_count": 10,
   "id": "88ab4eb4-fa8e-4a06-af37-107144a49870",
   "metadata": {},
   "outputs": [
    {
     "data": {
      "text/html": [
       "<div>\n",
       "<style scoped>\n",
       "    .dataframe tbody tr th:only-of-type {\n",
       "        vertical-align: middle;\n",
       "    }\n",
       "\n",
       "    .dataframe tbody tr th {\n",
       "        vertical-align: top;\n",
       "    }\n",
       "\n",
       "    .dataframe thead th {\n",
       "        text-align: right;\n",
       "    }\n",
       "</style>\n",
       "<table border=\"1\" class=\"dataframe\">\n",
       "  <thead>\n",
       "    <tr style=\"text-align: right;\">\n",
       "      <th></th>\n",
       "      <th>col1_start</th>\n",
       "      <th>col2_end</th>\n",
       "      <th>col3_value</th>\n",
       "    </tr>\n",
       "  </thead>\n",
       "  <tbody>\n",
       "    <tr>\n",
       "      <th>0</th>\n",
       "      <td>0.166667</td>\n",
       "      <td>0.277778</td>\n",
       "      <td>0.0</td>\n",
       "    </tr>\n",
       "    <tr>\n",
       "      <th>1</th>\n",
       "      <td>0.333333</td>\n",
       "      <td>0.333333</td>\n",
       "      <td>0.0</td>\n",
       "    </tr>\n",
       "    <tr>\n",
       "      <th>2</th>\n",
       "      <td>0.500000</td>\n",
       "      <td>0.388889</td>\n",
       "      <td>1.0</td>\n",
       "    </tr>\n",
       "  </tbody>\n",
       "</table>\n",
       "</div>"
      ],
      "text/plain": [
       "   col1_start  col2_end  col3_value\n",
       "0    0.166667  0.277778         0.0\n",
       "1    0.333333  0.333333         0.0\n",
       "2    0.500000  0.388889         1.0"
      ]
     },
     "execution_count": 10,
     "metadata": {},
     "output_type": "execute_result"
    }
   ],
   "source": [
    "df.apply(lambda x: x / x.sum(), axis=0) # нормировка"
   ]
  },
  {
   "cell_type": "markdown",
   "id": "91049e97-67c3-4dc4-ad3d-e3c90ba4c1ff",
   "metadata": {},
   "source": [
    "#### Пример $\\lambda$-2. Соленый язык без проблем с регистром"
   ]
  },
  {
   "cell_type": "code",
   "execution_count": 11,
   "id": "70ca50d4-581a-4b89-be3f-e959311bf84c",
   "metadata": {},
   "outputs": [],
   "source": [
    "import re\n",
    "\n",
    "def salt(text):\n",
    "    vowels = r'([ауоиэыяюеёАУОИЭЫЯЮЕЁ])'\n",
    "    return re.sub(vowels, \n",
    "                  lambda x: x.group(0) + 'c' + x.group(0).lower(), \n",
    "                  text)"
   ]
  },
  {
   "cell_type": "code",
   "execution_count": 12,
   "id": "4586d53b-9f54-4111-9baa-d22699a281c1",
   "metadata": {},
   "outputs": [
    {
     "data": {
      "text/plain": [
       "'Уcураcа!'"
      ]
     },
     "execution_count": 12,
     "metadata": {},
     "output_type": "execute_result"
    }
   ],
   "source": [
    "salt('Ура!') # дубликат буквы \"У\" в нижнем регистре"
   ]
  },
  {
   "cell_type": "markdown",
   "id": "8642288e-7885-4e57-bffb-1c1c7259e016",
   "metadata": {},
   "source": [
    "#### Пример $\\lambda$-3. Идеальная пара: `map` и $\\lambda$-функции"
   ]
  },
  {
   "cell_type": "code",
   "execution_count": 13,
   "id": "1987aa39-caa0-4451-8266-b91fb6f4c10c",
   "metadata": {},
   "outputs": [
    {
     "data": {
      "text/plain": [
       "[1, 2, 5, 10]"
      ]
     },
     "execution_count": 13,
     "metadata": {},
     "output_type": "execute_result"
    }
   ],
   "source": [
    "my_list = [11, 21, 51, 101]\n",
    "res = map(lambda x: x//10, my_list)\n",
    "list(res)"
   ]
  },
  {
   "cell_type": "code",
   "execution_count": null,
   "id": "ec6b4243",
   "metadata": {},
   "outputs": [],
   "source": [
    "seqs = [\"ATGG\", \"GCGC\", \"ATA\", \"ATGCTACG\", \"ATACCGACTACGAC\", \"ACGAGCACGCGAGCGACG\"]\n",
    "\n",
    "def reverse(seq):\n",
    "    return seq[::-1]"
   ]
  },
  {
   "cell_type": "code",
   "execution_count": null,
   "id": "193d3bd7",
   "metadata": {},
   "outputs": [
    {
     "name": "stdout",
     "output_type": "stream",
     "text": [
      "CPU times: user 43 µs, sys: 4 µs, total: 47 µs\n",
      "Wall time: 56.5 µs\n"
     ]
    },
    {
     "data": {
      "text/plain": [
       "['GGTA', 'CGCG', 'ATA', 'GCATCGTA', 'CAGCATCAGCCATA', 'GCAGCGAGCGCACGAGCA']"
      ]
     },
     "metadata": {},
     "output_type": "display_data"
    }
   ],
   "source": [
    "%%time\n",
    "\n",
    "seqs_reversed = []\n",
    "\n",
    "for seq in seqs:\n",
    "    seqs_reversed.append(reverse(seq))\n",
    "\n",
    "seqs_reversed"
   ]
  },
  {
   "cell_type": "code",
   "execution_count": null,
   "id": "61907bd3",
   "metadata": {},
   "outputs": [
    {
     "name": "stdout",
     "output_type": "stream",
     "text": [
      "CPU times: user 14 µs, sys: 1 µs, total: 15 µs\n",
      "Wall time: 21 µs\n"
     ]
    },
    {
     "data": {
      "text/plain": [
       "['GGTA', 'CGCG', 'ATA', 'GCATCGTA', 'CAGCATCAGCCATA', 'GCAGCGAGCGCACGAGCA']"
      ]
     },
     "metadata": {},
     "output_type": "display_data"
    }
   ],
   "source": [
    "%%time\n",
    "\n",
    "[reverse(seq) for seq in seqs]"
   ]
  },
  {
   "cell_type": "code",
   "execution_count": null,
   "id": "9bf4fe0e",
   "metadata": {},
   "outputs": [
    {
     "name": "stdout",
     "output_type": "stream",
     "text": [
      "CPU times: user 18 µs, sys: 2 µs, total: 20 µs\n",
      "Wall time: 24.3 µs\n"
     ]
    },
    {
     "data": {
      "text/plain": [
       "['GGTA', 'CGCG', 'ATA', 'GCATCGTA', 'CAGCATCAGCCATA', 'GCAGCGAGCGCACGAGCA']"
      ]
     },
     "metadata": {},
     "output_type": "display_data"
    }
   ],
   "source": [
    "%%time\n",
    "\n",
    "list(map(reverse, seqs))"
   ]
  },
  {
   "cell_type": "code",
   "execution_count": null,
   "id": "c46b747e",
   "metadata": {},
   "outputs": [
    {
     "name": "stdout",
     "output_type": "stream",
     "text": [
      "CPU times: user 11 µs, sys: 1 µs, total: 12 µs\n",
      "Wall time: 15.3 µs\n"
     ]
    },
    {
     "data": {
      "text/plain": [
       "['GGTA', 'CGCG', 'ATA', 'GCATCGTA', 'CAGCATCAGCCATA', 'GCAGCGAGCGCACGAGCA']"
      ]
     },
     "metadata": {},
     "output_type": "display_data"
    }
   ],
   "source": [
    "%%time\n",
    "\n",
    "list(map(lambda x: x[::-1], seqs))"
   ]
  },
  {
   "cell_type": "code",
   "execution_count": null,
   "id": "6308f635",
   "metadata": {},
   "outputs": [
    {
     "data": {
      "text/plain": [
       "['atgg', 'gcgc', 'ata', 'atgctacg', 'ataccgactacgac', 'acgagcacgcgagcgacg']"
      ]
     },
     "metadata": {},
     "output_type": "display_data"
    }
   ],
   "source": [
    "list(map(str.lower, seqs))"
   ]
  },
  {
   "cell_type": "code",
   "execution_count": null,
   "id": "7779b7b5",
   "metadata": {},
   "outputs": [
    {
     "data": {
      "text/plain": [
       "['ATGG', 'ATA', 'ATGCTACG', 'ATACCGACTACGAC', 'ACGAGCACGCGAGCGACG']"
      ]
     },
     "metadata": {},
     "output_type": "display_data"
    }
   ],
   "source": [
    "list(filter(lambda x: x.startswith(\"A\"), seqs))"
   ]
  },
  {
   "cell_type": "code",
   "execution_count": null,
   "id": "859d3f6f",
   "metadata": {},
   "outputs": [],
   "source": [
    "from functools import reduce"
   ]
  },
  {
   "cell_type": "code",
   "execution_count": null,
   "id": "69475403",
   "metadata": {},
   "outputs": [
    {
     "data": {
      "text/plain": [
       "9"
      ]
     },
     "metadata": {},
     "output_type": "display_data"
    }
   ],
   "source": [
    "reduce(lambda x, y: x + y, [1, 5, 3])"
   ]
  },
  {
   "cell_type": "code",
   "execution_count": null,
   "id": "6994b250",
   "metadata": {},
   "outputs": [],
   "source": [
    "mvs = [[\"16:45\"],\n",
    "       [\"09:25\"],\n",
    "       [\"412:5646\"]]"
   ]
  },
  {
   "cell_type": "code",
   "execution_count": null,
   "id": "d8f16b40",
   "metadata": {},
   "outputs": [
    {
     "data": {
      "text/plain": [
       "[[16, 45], [9, 25], [412, 5646]]"
      ]
     },
     "metadata": {},
     "output_type": "display_data"
    }
   ],
   "source": [
    "list(map(lambda x: list(map(int, x[0].split(\":\"))), mvs))"
   ]
  },
  {
   "cell_type": "markdown",
   "id": "c225285a-ca73-477f-bf56-21bab996657a",
   "metadata": {},
   "source": [
    "#### Где испольовать $\\lambda$-функции, а где обычные?\n",
    "\n",
    "- Если код функции не влезает в 1 строчку - вам нужна обычная\n",
    "- Если функция используется более 1 раза - вам нужна обычная\n",
    "- Если вам нужно дать функции имя - вам нужна обычная\n",
    "\n",
    "- Если вам нужно применить небольшую функцию к набору данных - вам нужна $\\lambda$-функция\n",
    "\n",
    "- Если вы не уверены, вам нужна обычная функция"
   ]
  },
  {
   "cell_type": "code",
   "execution_count": null,
   "id": "dd7c4c97",
   "metadata": {},
   "outputs": [],
   "source": [
    "def fnc():\n",
    "    return print"
   ]
  },
  {
   "cell_type": "code",
   "execution_count": null,
   "id": "4f3f010d",
   "metadata": {},
   "outputs": [
    {
     "data": {
      "text/plain": [
       "<function __main__.fnc()>"
      ]
     },
     "metadata": {},
     "output_type": "display_data"
    }
   ],
   "source": [
    "fnc"
   ]
  },
  {
   "cell_type": "code",
   "execution_count": null,
   "id": "7e46dd4b",
   "metadata": {},
   "outputs": [
    {
     "data": {
      "text/plain": [
       "<function print>"
      ]
     },
     "metadata": {},
     "output_type": "display_data"
    }
   ],
   "source": [
    "fnc()"
   ]
  },
  {
   "cell_type": "code",
   "execution_count": null,
   "id": "2ef53f83",
   "metadata": {},
   "outputs": [
    {
     "name": "stdout",
     "output_type": "stream",
     "text": [
      "7\n"
     ]
    }
   ],
   "source": [
    "my_func = fnc()\n",
    "\n",
    "my_func(7)"
   ]
  },
  {
   "cell_type": "code",
   "execution_count": null,
   "id": "b4797971",
   "metadata": {},
   "outputs": [
    {
     "data": {
      "text/plain": [
       "20"
      ]
     },
     "metadata": {},
     "output_type": "display_data"
    }
   ],
   "source": [
    "my_func = fnc()\n",
    "\n",
    "my_func(10)"
   ]
  },
  {
   "cell_type": "markdown",
   "id": "d7059281-0df7-4b46-9beb-a44e42af0bad",
   "metadata": {},
   "source": [
    "### Декораторы\n",
    "\n",
    "*По простому*:\n",
    "- Это специальная штука в питоне, которая возволяет как-то модифицировать поведение функции\n",
    "\n",
    "\n",
    "\n",
    "> **Задача** - замерить время выполнения функции"
   ]
  },
  {
   "cell_type": "code",
   "execution_count": 13,
   "id": "18abecdc-576b-42ea-acfc-ab803f45684e",
   "metadata": {},
   "outputs": [],
   "source": [
    "import random\n",
    "\n",
    "def small_work():\n",
    "    for _ in range(10**4):\n",
    "        random.uniform(0, 1000) ** random.uniform(0, 5)\n",
    "        \n",
    "def big_work():\n",
    "    for _ in range(10**6):\n",
    "        random.uniform(0, 1000) ** random.uniform(0, 5)"
   ]
  },
  {
   "cell_type": "markdown",
   "id": "02202d4a-669b-4d36-829a-cfed4cae7564",
   "metadata": {},
   "source": [
    "Мы хотим замерить время выполнения этих функций\n",
    "\n",
    "Для справки `time.time()` возвращает [UNIX время](https://en.wikipedia.org/wiki/Unix_time) в секундах, само по себе это значение бесполезно, но мы можем использовать разность двух значений для измерения длительности чего-то. Вообще, для измерения времени работы чего-либо, стоит использовать `time.perf_counter()`, но мне кажется, что `time.time()` проще запомнить"
   ]
  },
  {
   "cell_type": "code",
   "execution_count": 14,
   "id": "510fb14d-45b7-4bb1-9769-c37550020bee",
   "metadata": {},
   "outputs": [
    {
     "name": "stdout",
     "output_type": "stream",
     "text": [
      "Function small_work has finished in 0.0025815963745117188 second\n",
      "Function big_work has finished in 0.2594475746154785 second\n"
     ]
    }
   ],
   "source": [
    "import time\n",
    "\n",
    "\n",
    "start = time.time()\n",
    "small_work()\n",
    "end = time.time()\n",
    "print(f\"Function small_work has finished in {end - start} second\")\n",
    "\n",
    "\n",
    "start = time.time()\n",
    "big_work()\n",
    "end = time.time()\n",
    "print(f\"Function big_work has finished in {end - start} second\")"
   ]
  },
  {
   "cell_type": "code",
   "execution_count": 15,
   "id": "d4664015-b950-4106-95a5-b410bf78696d",
   "metadata": {},
   "outputs": [
    {
     "name": "stdout",
     "output_type": "stream",
     "text": [
      "Function small_work has finished in 0.0026433467864990234 second\n",
      "Function big_work has finished in 0.25968265533447266 second\n"
     ]
    }
   ],
   "source": [
    "for function in [small_work, big_work]:\n",
    "    start = time.time()\n",
    "    function()\n",
    "    end = time.time()\n",
    "    print(f\"Function {function.__name__} has finished in {end - start} second\")"
   ]
  },
  {
   "cell_type": "markdown",
   "id": "90a23b66-95aa-4d2f-b303-5557ca693530",
   "metadata": {},
   "source": [
    "Уже лучше, мы сделали цикл по функциям, но этот способ будет очень неудобен, если наши функции будут принимать какие-то аргументы. В таком случае нам пришлось бы как-то отдельно хранить аргументы для функций, отдельно итерироватся по ним и т.д., короче сложно"
   ]
  },
  {
   "cell_type": "markdown",
   "id": "e4a1d97d-bdd3-41a6-ae6a-fdf5ed7e9ab1",
   "metadata": {},
   "source": [
    "#### Базовый синтаксис декораторов"
   ]
  },
  {
   "cell_type": "markdown",
   "id": "57d2b346-f354-4516-a8f9-651c743a2390",
   "metadata": {},
   "source": [
    "Мы с вами уже знаем, что в питоне любая **функция** это **объект**. Функции можно записывать в переменные и передавать в другие функции. Такие функции (в которые мы передаём другие функции) называются **фукциями высшего порядка**. Пример - `map` (принимает функцию и коллекцию элементов).\n",
    "\n",
    "Давайте напишем вот такую функцию:"
   ]
  },
  {
   "cell_type": "code",
   "execution_count": 20,
   "id": "692ba263-9468-4bef-9999-fe0d8bd30845",
   "metadata": {},
   "outputs": [],
   "source": [
    "def measure_time(func):\n",
    "    def inner_function():\n",
    "        start = time.time()\n",
    "        func()\n",
    "        end = time.time()\n",
    "        print(f\"Function {func.__name__} has finished in {end - start} seconds\")\n",
    "    return inner_function"
   ]
  },
  {
   "cell_type": "code",
   "execution_count": 21,
   "id": "70a34f6d-bc85-4f88-af4f-1e75232e1dc4",
   "metadata": {},
   "outputs": [],
   "source": [
    "small_work = measure_time(small_work)\n",
    "big_work = measure_time(big_work)"
   ]
  },
  {
   "cell_type": "code",
   "execution_count": 22,
   "id": "607541d7-fb19-43a6-a51c-e9032737c96a",
   "metadata": {},
   "outputs": [
    {
     "name": "stdout",
     "output_type": "stream",
     "text": [
      "Function small_work has finished in 0.002505064010620117 seconds\n",
      "Function big_work has finished in 0.2819654941558838 seconds\n"
     ]
    }
   ],
   "source": [
    "small_work()\n",
    "big_work()"
   ]
  },
  {
   "attachments": {
    "f64d5023-32a3-491c-8c1d-25e3e8119974.png": {
     "image/png": "[encoded data removed]"
    }
   },
   "cell_type": "markdown",
   "id": "1bc919f2-db28-4642-ac99-7fecd49812b7",
   "metadata": {},
   "source": [
    "Давайте разберём, что здесь произошло. Мы создали функцию `measure_time`, которая принимает на вход любую другую функцию, мы будем передавать в неё наши фунции `xxxx_work`, Внутри `measure_time` мы через `def` объявляем новую функцию `inner_function`, которую затем возвращаем. Обратите внимание, что внутри `measure_time` мы **НЕ вызываем** `inner_function`, а просто **возвращаем её как объект**. После возвращения из `measure_time` функция `inner_function` запишется в переменную `small_work` вот в этой строке\n",
    "```python\n",
    "small_work = measure_time(small_work)\n",
    "```\n",
    "Пока мы не разбирали, что происходит в `inner_function`, нам было важно лишь то, что её объявили внутри функции `measure_time` и вернули из неё.\n",
    "\n",
    "Но всё-таки интересно, что там произошло. Ведь этой самой функцией мы по сути подменяем наши оригинальные (как в примере выше). Давайте разбираться\n",
    "\n",
    "Внутри `inner_function` происходит знакомый нам расчёт времени выполнения функции `func`, которая изначально была передана в `measure_time`. По сути сам вызов функции не изменятся, он только \"оборачивается\" в дополнительный функционал вычисления времени выполнения (или иначе говоря, **\"декорируется\"**) и запаковывается в новую функцию `inner_function`, которая возвращается нам.\n",
    "\n",
    "Функция `measure_time` является **декоратором**, а `func` **декорируемой** функцией. Проще говоря, декораторы просто \"оборачивают\" наши функции в дополнительный функционал, без изменений их кода и логики работы. Т.е. `func` отрабатывает без каких-либо изменений, но добавляется дополнительный код до и после её вызова.\n",
    "\n",
    "На картинке обозначены основные элементы декоратора\n",
    "\n",
    "![image.png](attachment:f64d5023-32a3-491c-8c1d-25e3e8119974.png)"
   ]
  },
  {
   "cell_type": "markdown",
   "id": "c250201f-e89c-44f9-a142-d6a24df88507",
   "metadata": {},
   "source": [
    "Пример выше демонстрирует основной синтаксис декораторов в питоне и да, это выглядит страшно :)"
   ]
  },
  {
   "cell_type": "markdown",
   "id": "8873d8bf-fff7-4a3d-a65c-e71698096c66",
   "metadata": {},
   "source": [
    "#### Декорируем функции, принимающие аргументы"
   ]
  },
  {
   "cell_type": "markdown",
   "id": "f435d826-fa7a-4460-89c3-37fce025dcf8",
   "metadata": {},
   "source": [
    "Мы можем сделать ещё одно улучшение и добавить возможность принимать функции с любыми аргументами, а также возвращать значение, так как в примере выше мы имеем самый простой вариант - ничего не возвращающую функцию без аргументов"
   ]
  },
  {
   "cell_type": "code",
   "execution_count": 23,
   "id": "f114f74e-8749-4c6d-b3bf-ad63c69fadd3",
   "metadata": {},
   "outputs": [],
   "source": [
    "def measure_time(func):\n",
    "    def inner_function(*args, **kwargs):\n",
    "        start = time.time()\n",
    "        result = func(*args, **kwargs)\n",
    "        end = time.time()\n",
    "        print(f\"Function {func.__name__} has finished in {end - start} second\")\n",
    "        return result\n",
    "    return inner_function"
   ]
  },
  {
   "cell_type": "markdown",
   "id": "784ee3c3-6977-4f16-9ef7-af77929c4f1f",
   "metadata": {},
   "source": [
    "Теперь функция возвращаемая из декоратора (`inner_function`) будет принимать любое количество позиционных и именованных аргументов, которые затем будут просто \"пробрасываться\" в внутренний вызов `func`\n",
    "\n",
    "Результат выполнения нашей декорируемой функции мы сохранили в переменную `result` и возвращаем её в самом конце. Мы не можем сразу написать `return func(*args, **kwargs)`, так как у нас есть действия, которые мы ходим выполнить **после** вызова декорируемой функции. Сохранить результат её выполнения в переменную и вернуть в самом конце - стандартная практика\n",
    "\n",
    "Убедимся, что всё работает на примерах"
   ]
  },
  {
   "cell_type": "code",
   "execution_count": 24,
   "id": "db371c2f-b88f-4ea1-ae0e-a1d60f864e6d",
   "metadata": {},
   "outputs": [],
   "source": [
    "def add(a, b):\n",
    "    return a + b\n",
    "\n",
    "def square_list(lst):\n",
    "    return [i**2 for i in lst]\n",
    "\n",
    "def invert_dictionary(dct):\n",
    "    return dict(zip(dct.values(), dct.keys()))\n",
    "\n",
    "def repeat_string(string, n_repeats=2):\n",
    "    return string * n_repeats"
   ]
  },
  {
   "cell_type": "code",
   "execution_count": 25,
   "id": "44c8f293-0374-40b1-b598-28b8a3e0ff61",
   "metadata": {},
   "outputs": [
    {
     "name": "stdout",
     "output_type": "stream",
     "text": [
      "Function add has finished in 7.152557373046875e-07 second\n",
      "3903488384679\n",
      "\n",
      "Function square_list has finished in 2.384185791015625e-06 second\n",
      "[0, 1, 4, 9, 16, 25, 36, 49, 64, 81, 100, 121, 144, 169, 196, 225, 256, 289, 324, 361, 400, 441, 484, 529, 576]\n",
      "\n",
      "Function invert_dictionary has finished in 3.123283386230469e-05 second\n",
      "{1: 'a', 2: 'b', 3: 'c', 4: 'd'}\n",
      "\n",
      "Function repeat_string has finished in 9.5367431640625e-07 second\n",
      "ABCDEFG*ABCDEFG*ABCDEFG*ABCDEFG*ABCDEFG*ABCDEFG*ABCDEFG*ABCDEFG*ABCDEFG*ABCDEFG*\n"
     ]
    }
   ],
   "source": [
    "add = measure_time(add)\n",
    "square_list = measure_time(square_list)\n",
    "invert_dictionary = measure_time(invert_dictionary)\n",
    "repeat_string = measure_time(repeat_string)\n",
    "\n",
    "\n",
    "print(add(10012401204, 3893475983475), end=\"\\n\\n\")\n",
    "print(square_list(list(range(25))), end=\"\\n\\n\")\n",
    "print(invert_dictionary({\"a\": 1, \"b\": 2, \"c\": 3, \"d\": 4}), end=\"\\n\\n\")\n",
    "print(repeat_string(\"ABCDEFG*\", n_repeats=10))"
   ]
  },
  {
   "cell_type": "markdown",
   "id": "e6d70724-3604-434f-bb22-119670fd10e9",
   "metadata": {},
   "source": [
    "#### Делаем запись более удобной\n",
    "\n",
    "Всё работает! Функции выполняют свои обычные операции и при этом пишут сообщения о времени выполнения. Заметим только, что нам всё равно приходится вручную декорировать наши функции вот такой неудобной записью, передавая каждую как аргумент декоратору\n",
    "```python\n",
    "add = measure_time(add)\n",
    "square_list = measure_time(square_list)\n",
    "invert_dictionary = measure_time(invert_dictionary)\n",
    "repeat_string = measure_time(repeat_string)\n",
    "```\n",
    "Это исправимо, в питоне для этого есть специальный очень удобный синтаксис. При объявлении функций мы как бы помечаем их следующим образом"
   ]
  },
  {
   "cell_type": "code",
   "execution_count": 26,
   "id": "d26a887e-46a1-4664-91ae-9b73a179bb92",
   "metadata": {},
   "outputs": [
    {
     "name": "stdout",
     "output_type": "stream",
     "text": [
      "Function add has finished in 9.5367431640625e-07 second\n",
      "3903488384679\n",
      "\n",
      "Function square_list has finished in 1.6689300537109375e-06 second\n",
      "[0, 1, 4, 9, 16, 25, 36, 49, 64, 81, 100, 121, 144, 169, 196, 225, 256, 289, 324, 361, 400, 441, 484, 529, 576]\n",
      "\n",
      "Function invert_dictionary has finished in 3.814697265625e-06 second\n",
      "{1: 'a', 2: 'b', 3: 'c', 4: 'd'}\n",
      "\n",
      "Function repeat_string has finished in 1.1920928955078125e-06 second\n",
      "ABCDEFG*ABCDEFG*ABCDEFG*ABCDEFG*ABCDEFG*ABCDEFG*ABCDEFG*ABCDEFG*ABCDEFG*ABCDEFG*\n"
     ]
    }
   ],
   "source": [
    "@measure_time\n",
    "def add(a, b):\n",
    "    return a + b\n",
    "\n",
    "@measure_time\n",
    "def square_list(lst):\n",
    "    return [i**2 for i in lst]\n",
    "\n",
    "@measure_time\n",
    "def invert_dictionary(dct):\n",
    "    return dict(zip(dct.values(), dct.keys()))\n",
    "\n",
    "@measure_time\n",
    "def repeat_string(string, n_repeats=2):\n",
    "    return string * n_repeats\n",
    "\n",
    "\n",
    "print(add(10012401204, 3893475983475), end=\"\\n\\n\")\n",
    "print(square_list(list(range(25))), end=\"\\n\\n\")\n",
    "print(invert_dictionary({\"a\": 1, \"b\": 2, \"c\": 3, \"d\": 4}), end=\"\\n\\n\")\n",
    "print(repeat_string(\"ABCDEFG*\", n_repeats=10))"
   ]
  },
  {
   "cell_type": "markdown",
   "id": "ea5feb40-854a-4417-88a9-f154a99d8582",
   "metadata": {},
   "source": [
    "Всё работает точно также, но синтаксис стал намного красивее. Теперь мы можем \"повесить\" `@measure_time` на любую функцию в нашей программе и она будет способна измерять время своего исполнения.\n",
    "\n",
    "Как вы уже поняли записи\n",
    "```python\n",
    "@measure_time\n",
    "def add(a, b):\n",
    "    ...\n",
    "```\n",
    "и\n",
    "```python\n",
    "add = measure_time(add)\n",
    "```\n",
    "абсолютно равнозначны\n",
    "\n",
    "\n",
    "#### Декораторы с параметрами\n",
    "\n",
    "А что если мы захотим как-то управлять поведением декоратора, например, передавать ему какие-то параметры? Для демонстрации мы попытаемся написать декоратор, который заставит функцию выполняться, пока та не отработает без ошибок, причём мы сможем задать количество попыток запустить функцию\n",
    "\n",
    "Но для начала напишем такую функцию"
   ]
  },
  {
   "cell_type": "code",
   "execution_count": 27,
   "id": "92bcf1ed-9c0c-48db-9e99-4b1e2025827f",
   "metadata": {},
   "outputs": [],
   "source": [
    "def problematic_function(probability_of_error):\n",
    "    if random.random() < probability_of_error:\n",
    "        raise RuntimeError\n",
    "    else:\n",
    "        return \"Success\""
   ]
  },
  {
   "cell_type": "markdown",
   "id": "680c7cfb-3531-44eb-b961-1b905bd34fff",
   "metadata": {},
   "source": [
    "Функция принимает один аргумент - вероятность ошибки и кидает ошибку с данной вероятностью. Наша задача написать декоратор, который заставит её выполняться определённое число попыток или же до успешного исполнения.\n",
    "\n",
    "Без декоратора это выглядело бы примерно так"
   ]
  },
  {
   "cell_type": "code",
   "execution_count": 29,
   "id": "ea02f3ca-4135-4a7a-aa08-71ccab8fdedd",
   "metadata": {},
   "outputs": [
    {
     "ename": "RuntimeError",
     "evalue": "",
     "output_type": "error",
     "traceback": [
      "\u001b[0;31m---------------------------------------------------------------------------\u001b[0m",
      "\u001b[0;31mRuntimeError\u001b[0m                              Traceback (most recent call last)",
      "Cell \u001b[0;32mIn[29], line 9\u001b[0m\n\u001b[1;32m      7\u001b[0m         \u001b[38;5;28;01mcontinue\u001b[39;00m\n\u001b[1;32m      8\u001b[0m \u001b[38;5;28;01melse\u001b[39;00m:   \u001b[38;5;66;03m# Если мы не вышли из цикла досрочно (через break), то кидаем ошибку, так как это значит, что все попытки провалились\u001b[39;00m\n\u001b[0;32m----> 9\u001b[0m     \u001b[38;5;28;01mraise\u001b[39;00m \u001b[38;5;167;01mRuntimeError\u001b[39;00m\n",
      "\u001b[0;31mRuntimeError\u001b[0m: "
     ]
    }
   ],
   "source": [
    "n_tries = 5\n",
    "for _ in range(n_tries):\n",
    "    try:\n",
    "        print(problematic_function(0.9))\n",
    "        break\n",
    "    except RuntimeError:\n",
    "        continue\n",
    "else:   # Если мы не вышли из цикла досрочно (через break), то кидаем ошибку, так как это значит, что все попытки провалились\n",
    "    raise RuntimeError"
   ]
  },
  {
   "cell_type": "markdown",
   "id": "420aa296-3a92-4f6e-8a9e-8090027666b2",
   "metadata": {},
   "source": [
    "Давайте напишем декоратор, который будет принимать число попыток (`n_tries`) в качестве аргумента, но ещё добавим возможность исполнения до успеха.\n",
    "\n",
    "Попробуйте осознать этот код"
   ]
  },
  {
   "cell_type": "code",
   "execution_count": 30,
   "id": "0c17b98c-f086-4809-af38-6e50a8656db8",
   "metadata": {},
   "outputs": [],
   "source": [
    "def try_n_times(func, n_tries=None):\n",
    "    def inner_func(*args, **kwargs):\n",
    "        try_num = 0\n",
    "        while try_num != n_tries:  # Если n_tries это None, то у нас будет вечный цикл пока функция успешно не выполнится\n",
    "            try:\n",
    "                return func(*args, **kwargs)\n",
    "            except RuntimeError:\n",
    "                try_num += 1\n",
    "                continue\n",
    "        else:\n",
    "            raise RuntimeError\n",
    "    return inner_func"
   ]
  },
  {
   "cell_type": "code",
   "execution_count": 31,
   "id": "804a7bd0-54e0-4b48-abe1-59c8c383be00",
   "metadata": {},
   "outputs": [
    {
     "ename": "TypeError",
     "evalue": "try_n_times() missing 1 required positional argument: 'func'",
     "output_type": "error",
     "traceback": [
      "\u001b[0;31m---------------------------------------------------------------------------\u001b[0m",
      "\u001b[0;31mTypeError\u001b[0m                                 Traceback (most recent call last)",
      "Cell \u001b[0;32mIn[31], line 1\u001b[0m\n\u001b[0;32m----> 1\u001b[0m \u001b[38;5;129m@try_n_times\u001b[39m\u001b[43m(\u001b[49m\u001b[43mn_tries\u001b[49m\u001b[38;5;241;43m=\u001b[39;49m\u001b[38;5;241;43m5\u001b[39;49m\u001b[43m)\u001b[49m\n\u001b[1;32m      2\u001b[0m \u001b[38;5;28;01mdef\u001b[39;00m \u001b[38;5;21mproblematic_function\u001b[39m(probability_of_error):\n\u001b[1;32m      3\u001b[0m     \u001b[38;5;28;01mif\u001b[39;00m random\u001b[38;5;241m.\u001b[39mrandom() \u001b[38;5;241m<\u001b[39m probability_of_error:\n\u001b[1;32m      4\u001b[0m         \u001b[38;5;28;01mraise\u001b[39;00m \u001b[38;5;167;01mRuntimeError\u001b[39;00m\n",
      "\u001b[0;31mTypeError\u001b[0m: try_n_times() missing 1 required positional argument: 'func'"
     ]
    }
   ],
   "source": [
    "@try_n_times(n_tries=5)\n",
    "def problematic_function(probability_of_error):\n",
    "    if random.random() < probability_of_error:\n",
    "        raise RuntimeError\n",
    "    else:\n",
    "        return \"Success\""
   ]
  },
  {
   "cell_type": "markdown",
   "id": "6d14fc30-eaa2-4ecc-84cf-0e6b1cd82df6",
   "metadata": {},
   "source": [
    "Не работает, давайте теперь попробуем стандартный синтаксис декорирования"
   ]
  },
  {
   "cell_type": "code",
   "execution_count": 35,
   "id": "768807a0-8ce9-4601-8c6b-eb8fb47a54e7",
   "metadata": {},
   "outputs": [],
   "source": [
    "problematic_function = try_n_times(problematic_function, n_tries=5)"
   ]
  },
  {
   "cell_type": "code",
   "execution_count": 36,
   "id": "70fa8bfd-1c68-4e13-aaa7-d555fb8fb96d",
   "metadata": {},
   "outputs": [
    {
     "data": {
      "text/plain": [
       "'Success'"
      ]
     },
     "execution_count": 36,
     "metadata": {},
     "output_type": "execute_result"
    }
   ],
   "source": [
    "problematic_function(0.9)"
   ]
  },
  {
   "attachments": {
    "9ffdd51e-2b64-44bc-880c-389d1615bf7d.png": {
     "image/png": "[encoded data removed]"
    }
   },
   "cell_type": "markdown",
   "id": "5b9204ee-1fbd-4c75-98a8-a4c1e2e5d8f2",
   "metadata": {},
   "source": [
    "На этот раз всё работает. Дело в том, что синтаксис `@` ожидает, что декоратор будет принимать всего один аргумент - **декорируемую функцию**, поэтому мы не можем передать никакие параметры. Однако, мы очень часто видим, что декораторы в различных библиотеках могут принимать параметры, вот пример из фреймворка *Flask*\n",
    "\n",
    "![image.png](attachment:9ffdd51e-2b64-44bc-880c-389d1615bf7d.png)\n",
    "\n",
    "Как же это работает? Давайте разберём, здесь всё будет довольно запутанно..."
   ]
  },
  {
   "cell_type": "code",
   "execution_count": 44,
   "id": "7e3f79e3-6009-4901-bff1-35000ee44388",
   "metadata": {},
   "outputs": [],
   "source": [
    "def try_n_times(n_tries=None):\n",
    "    def decorator(func):\n",
    "        def inner_func(*args, **kwargs):\n",
    "            try_num = 0\n",
    "            while try_num != n_tries:\n",
    "                try:\n",
    "                    return func(*args, **kwargs)\n",
    "                except RuntimeError:\n",
    "                    try_num += 1\n",
    "                    continue\n",
    "            else:\n",
    "                raise RuntimeError\n",
    "        return inner_func\n",
    "    return decorator"
   ]
  },
  {
   "cell_type": "code",
   "execution_count": 45,
   "id": "926f2fc5-18f2-48fb-97f5-eb25e564ab51",
   "metadata": {},
   "outputs": [],
   "source": [
    "@try_n_times(n_tries=5)\n",
    "def problematic_function(probability_of_error):\n",
    "    if random.random() < probability_of_error:\n",
    "        raise RuntimeError\n",
    "    else:\n",
    "        return \"Success\""
   ]
  },
  {
   "cell_type": "code",
   "execution_count": 46,
   "id": "f2ff3b6c-4571-4ab5-98c5-845335305cd0",
   "metadata": {},
   "outputs": [
    {
     "data": {
      "text/plain": [
       "'Success'"
      ]
     },
     "execution_count": 46,
     "metadata": {},
     "output_type": "execute_result"
    }
   ],
   "source": [
    "problematic_function(0.9)"
   ]
  },
  {
   "cell_type": "markdown",
   "id": "d18d62d1-f85c-405d-94f4-1478b9086b9a",
   "metadata": {},
   "source": [
    "В этот раз всё работает, разберём код\n",
    "\n",
    "По сути здесь не произошло принципиальных изменений, мы лишь обернули наш декоратор ещё в одну функцию, но зачем?\n",
    "\n",
    "Во-первых, стоит заметить, что то, что было декоратором в предыдущем примере (функция `decorator`) теперь принимает всего один аргумент - **декорируемую функцию**, т.е. мы удовлетворили данному условию использования `@`.\n",
    "\n",
    "Во-вторых, у нас появилась новая функция - `try_n_times`. Обратите внимание на то, что она не является декоратором, так как не принимает на вход другую функцию, она принимает только параметр `n_tries`. Но зачем же она нужна? Последняя строка этой функции говорит сама за себя, она **возвращает декоратор**. Причём этот декоратор имеет заданные свойства, так как сохраняет в себе данные о количестве попыток, которые нужно произвести (`n_tries`)\n",
    "\n",
    "Так что же на самом деле произошло здесь?\n",
    "```python\n",
    "@try_n_times(n_tries=5)\n",
    "def problematic_function(probability_of_error):\n",
    "```\n",
    "Мы уже знаем, что `try_n_times` не является декоратором, но она **возвращает декоратор**, который будет пытаться выполнить функцию 5 раз. Т.е. запись выше в процессе выполнения раскрывается в нечто подобное\n",
    "```python\n",
    "decorator = try_n_times(n_tries=5)\n",
    "@decorator\n",
    "def problematic_function(probability_of_error):\n",
    "```"
   ]
  },
  {
   "cell_type": "markdown",
   "id": "8f502b04-3021-43ce-ba17-682490578b87",
   "metadata": {},
   "source": [
    "То есть `try_n_times` это такой завод по производству декораторов, так можно создавать самые разные декораторы просто указывая различные аргументы"
   ]
  },
  {
   "cell_type": "code",
   "execution_count": 47,
   "id": "980045ec-70c9-4b32-80c9-505385937ef5",
   "metadata": {},
   "outputs": [],
   "source": [
    "infinite_decorator = try_n_times(n_tries=None)\n",
    "single_attempt_decorator = try_n_times(n_tries=1)\n",
    "six_attempts_decorator = try_n_times(n_tries=6)"
   ]
  },
  {
   "cell_type": "markdown",
   "id": "35927ccb-de35-4384-a5a8-eeee80345be0",
   "metadata": {},
   "source": [
    "#### Замыкания\n",
    "\n",
    "Вы уже заметили, что при использовании декораторов мы постоянно используем переменные из более внешних областей видимости во вложенных функциях. Например, параметр `n_tries` в примере выше. Декорируемая функция тоже не является исключением, так как мы используем её в более вложенных. Но это работает не только с декораторами. Рассмотрим вот такой пример...\n"
   ]
  },
  {
   "cell_type": "code",
   "execution_count": 48,
   "id": "1b90ec0f-01ec-4107-98a6-cb83c6baee4f",
   "metadata": {},
   "outputs": [],
   "source": [
    "a = 5\n",
    "\n",
    "def wrapper(a):\n",
    "    def func():\n",
    "        return a\n",
    "    return func\n",
    "    \n",
    "func = wrapper(a)"
   ]
  },
  {
   "cell_type": "markdown",
   "id": "52ea6549-1e79-46d2-841e-f6c685da24b4",
   "metadata": {},
   "source": [
    "Мы вызываем функцию `wrapper` с одним аргументом, которая отдаёт нам функцию `func`, \"запомнившую\" этот аргумент и возвращающую его. Убедимся, что это работает."
   ]
  },
  {
   "cell_type": "code",
   "execution_count": 49,
   "id": "6a836347-3467-494b-902b-3384c5f9c99a",
   "metadata": {},
   "outputs": [
    {
     "data": {
      "text/plain": [
       "5"
      ]
     },
     "execution_count": 49,
     "metadata": {},
     "output_type": "execute_result"
    }
   ],
   "source": [
    "func()"
   ]
  },
  {
   "cell_type": "markdown",
   "id": "c5b54718-a0f7-4d5e-afed-154ab6438e46",
   "metadata": {},
   "source": [
    "Здесь также важно заметить, что `func` \"запоминает\" НЕ переменную `a` из глобальной области видимости, а переменную `a` из локального окружения функции `wrapper`. Убедимся в этом, удалив глобальную переменную `a`"
   ]
  },
  {
   "cell_type": "code",
   "execution_count": 50,
   "id": "f8957967-04e9-4e31-85c2-15e9a312d1d0",
   "metadata": {},
   "outputs": [
    {
     "data": {
      "text/plain": [
       "5"
      ]
     },
     "execution_count": 50,
     "metadata": {},
     "output_type": "execute_result"
    }
   ],
   "source": [
    "del a\n",
    "func()"
   ]
  },
  {
   "cell_type": "markdown",
   "id": "392008b0-504d-401c-98af-8496b15b3a05",
   "metadata": {},
   "source": [
    "Функция по прежнему работает, хотя переменная была удалена, значит, что она её \"запомнила\". Ещё раз убедимся в этом, явно указав функции `func`, что нужно использовать глобальную переменную. После удаления переменной и вызова функции мы получим ошибку"
   ]
  },
  {
   "cell_type": "code",
   "execution_count": 51,
   "id": "fb755c00-1599-44c4-a916-b864d031628b",
   "metadata": {},
   "outputs": [
    {
     "ename": "NameError",
     "evalue": "name 'a' is not defined",
     "output_type": "error",
     "traceback": [
      "\u001b[0;31m---------------------------------------------------------------------------\u001b[0m",
      "\u001b[0;31mNameError\u001b[0m                                 Traceback (most recent call last)",
      "Cell \u001b[0;32mIn[51], line 11\u001b[0m\n\u001b[1;32m      9\u001b[0m func \u001b[38;5;241m=\u001b[39m wrapper(a)\n\u001b[1;32m     10\u001b[0m \u001b[38;5;28;01mdel\u001b[39;00m a\n\u001b[0;32m---> 11\u001b[0m \u001b[43mfunc\u001b[49m\u001b[43m(\u001b[49m\u001b[43m)\u001b[49m\n",
      "Cell \u001b[0;32mIn[51], line 6\u001b[0m, in \u001b[0;36mwrapper.<locals>.func\u001b[0;34m()\u001b[0m\n\u001b[1;32m      4\u001b[0m \u001b[38;5;28;01mdef\u001b[39;00m \u001b[38;5;21mfunc\u001b[39m():\n\u001b[1;32m      5\u001b[0m     \u001b[38;5;28;01mglobal\u001b[39;00m a\n\u001b[0;32m----> 6\u001b[0m     \u001b[38;5;28;01mreturn\u001b[39;00m \u001b[43ma\u001b[49m\n",
      "\u001b[0;31mNameError\u001b[0m: name 'a' is not defined"
     ]
    }
   ],
   "source": [
    "a = 5\n",
    "\n",
    "def wrapper(a):\n",
    "    def func():\n",
    "        global a\n",
    "        return a\n",
    "    return func\n",
    "    \n",
    "func = wrapper(a)\n",
    "del a\n",
    "func()"
   ]
  },
  {
   "cell_type": "markdown",
   "id": "9aea8fac-3f72-43f1-8aaa-039748ccfd97",
   "metadata": {},
   "source": [
    "Такой механиханизм \"запоминания\" называется **замыканием (closure)**.\n",
    "\n",
    "В питоне есть сборщик мусора, которые удаляет все объекты на которые не осталось ссылок. Команда `del` как раз таки удаляет эти ссылки (не объекты). Получается, что в замыкании создаются новые ссылки, так как функция спокойно работает после удаления внешней переменной. А если есть новые ссылки, получается, что эти данные можно как-то достать"
   ]
  },
  {
   "cell_type": "code",
   "execution_count": 52,
   "id": "16ccf548-d598-4815-933b-39ddfdb9843d",
   "metadata": {},
   "outputs": [],
   "source": [
    "a = 5\n",
    "b = [1, 2, 3]\n",
    "c = {1: 2, \"a\": \"b\"}\n",
    "\n",
    "def wrapper(a, b, c):\n",
    "    def func():\n",
    "        return a, b, c\n",
    "    return func\n",
    "    \n",
    "func = wrapper(a, b, c)"
   ]
  },
  {
   "cell_type": "markdown",
   "id": "3d4110d0-60b2-4a30-8aea-7c0045000701",
   "metadata": {},
   "source": [
    "Ради интереса мы положили в замыкание чуть больше разных объектов. До списка этих объектов можно достучаться через атрибут `__closure__` у функции, но я не знаю где вам это может пригодиться :)"
   ]
  },
  {
   "cell_type": "code",
   "execution_count": 53,
   "id": "37af1ee4-b22d-4578-833a-dd70a1ccd35f",
   "metadata": {},
   "outputs": [
    {
     "name": "stdout",
     "output_type": "stream",
     "text": [
      "5\n",
      "[1, 2, 3]\n",
      "{1: 2, 'a': 'b'}\n"
     ]
    }
   ],
   "source": [
    "for element_idx in range(3):\n",
    "    print(func.__closure__[element_idx].cell_contents)"
   ]
  },
  {
   "cell_type": "markdown",
   "id": "6c462e49-e38b-4a2b-a8ff-06df1d0d00e6",
   "metadata": {},
   "source": [
    "#### Полезные декораторы\n",
    "\n",
    "В этом разделе мы поговорим о библиотечных и встроенных декораторах, которые довольно полезны и рекомендуются к применению. Для удобства полный список с ссылками приведён ниже:\n",
    "\n",
    "+ [classmethod и staticmethod](https://webdevblog.ru/obyasnenie-classmethod-i-staticmethod-v-python/) - используются постоянно, если вы работаете с ООП - знать и использовать нужно обязательно (встроенные в питон, импортировать не нужно)\n",
    "+ [functools.lru_cache](https://docs-python.ru/standart-library/modul-functools-python/dekorator-lru-cache-modulja-functools/)\n",
    "+ [dataclass](https://habr.com/ru/post/415829/)\n",
    "+ [property](https://www.programiz.com/python-programming/property) - также часто появляется в объектно-ориентированном коде (встроен в питон)\n",
    "+ [wraps](https://stackoverflow.com/questions/308999/what-does-functools-wraps-do)"
   ]
  },
  {
   "cell_type": "markdown",
   "id": "e6480f34-5f7a-44db-9947-3823f89a01db",
   "metadata": {},
   "source": [
    "##### *classmethod*\n",
    "\n",
    "Декоратор `classmethod` необходим для того, чтобы сделать метод классовым\n",
    "\n",
    "Допустим, что у нас есть класс, представляющий структуру данных похожую на словарь и мы хотим уметь создавать её разными способами. Для этого у нас есть отдельные методы, возвращающие экземпляр этого же класса. Создание экщемпляров класса через методы это очень часто используемая практика."
   ]
  },
  {
   "cell_type": "code",
   "execution_count": 54,
   "id": "0e40bd70-5af6-47d6-a6e5-d66f5441eaa6",
   "metadata": {},
   "outputs": [],
   "source": [
    "class MyCustomMap:\n",
    "    def __init__(self, dct=None):\n",
    "        self.__map = dct\n",
    "        \n",
    "    def from_dict(self, dct):\n",
    "        return MyCustomMap(dct)\n",
    "    \n",
    "    def from_lists(self, list1, list2):\n",
    "        return MyCustomMap(dict(zip(list1, list2)))\n",
    "    \n",
    "    def from_strings(self, str1, str2):\n",
    "        return type(self)(dict(zip(str1, str2)))\n",
    "    \n",
    "    def __repr__(self):\n",
    "        return f\"My custom map {self.__map}\""
   ]
  },
  {
   "cell_type": "markdown",
   "id": "5ef5746d-999a-4762-8363-5d29b89d93de",
   "metadata": {},
   "source": [
    "Очевидно, что данные методы используются только для создания объектов. Они никак не взаимодействуют с данными, хранящимися в атрибутах экземпляров класса (в коде этих методов мы не видим никакого использования `self`), а значит им вовсе необязательно быть связанными с экземплярами. К тому же вызывать их мы сможем только от экземпляров, что не очень удобно."
   ]
  },
  {
   "cell_type": "code",
   "execution_count": 56,
   "id": "b411922d-ffef-4ed6-ac7a-ac3fbcf6bc75",
   "metadata": {},
   "outputs": [
    {
     "ename": "TypeError",
     "evalue": "MyCustomMap.from_strings() missing 1 required positional argument: 'str2'",
     "output_type": "error",
     "traceback": [
      "\u001b[0;31m---------------------------------------------------------------------------\u001b[0m",
      "\u001b[0;31mTypeError\u001b[0m                                 Traceback (most recent call last)",
      "Cell \u001b[0;32mIn[56], line 1\u001b[0m\n\u001b[0;32m----> 1\u001b[0m \u001b[43mMyCustomMap\u001b[49m\u001b[38;5;241;43m.\u001b[39;49m\u001b[43mfrom_strings\u001b[49m\u001b[43m(\u001b[49m\u001b[38;5;124;43m\"\u001b[39;49m\u001b[38;5;124;43mABCD\u001b[39;49m\u001b[38;5;124;43m\"\u001b[39;49m\u001b[43m,\u001b[49m\u001b[43m \u001b[49m\u001b[38;5;124;43m\"\u001b[39;49m\u001b[38;5;124;43mEFGH\u001b[39;49m\u001b[38;5;124;43m\"\u001b[39;49m\u001b[43m)\u001b[49m   \u001b[38;5;66;03m# Пытаемся вызывать метод from_strings от класса. Ничего не получается, так как метод ожидает объект данного класса (self) в качестве первого аргумента\u001b[39;00m\n",
      "\u001b[0;31mTypeError\u001b[0m: MyCustomMap.from_strings() missing 1 required positional argument: 'str2'"
     ]
    }
   ],
   "source": [
    "MyCustomMap.from_strings(\"ABCD\", \"EFGH\")   # Пытаемся вызывать метод from_strings от класса. Ничего не получается, так как метод ожидает объект данного класса (self) в качестве первого аргумента"
   ]
  },
  {
   "cell_type": "code",
   "execution_count": 57,
   "id": "6e961a5c-5155-4e34-b727-fde0230363d2",
   "metadata": {},
   "outputs": [
    {
     "data": {
      "text/plain": [
       "My custom map {'A': 'E', 'B': 'F', 'C': 'G', 'D': 'H'}"
      ]
     },
     "execution_count": 57,
     "metadata": {},
     "output_type": "execute_result"
    }
   ],
   "source": [
    "MyCustomMap().from_strings(\"ABCD\", \"EFGH\")   # Получилось, но мы бы не хотели создавать экземпляр MyCustomMap()"
   ]
  },
  {
   "cell_type": "markdown",
   "id": "d426a258-e341-4b94-b500-05218a356936",
   "metadata": {},
   "source": [
    "Мы хотим, чтобы было как в пандасе с созданием датафрейма, примеры ниже"
   ]
  },
  {
   "cell_type": "code",
   "execution_count": 58,
   "id": "b2ae7567-4ecd-48f9-93b9-b84c9b8d1a3f",
   "metadata": {},
   "outputs": [
    {
     "name": "stderr",
     "output_type": "stream",
     "text": [
      "/tmp/ipykernel_971/3418334676.py:1: DeprecationWarning: \n",
      "Pyarrow will become a required dependency of pandas in the next major release of pandas (pandas 3.0),\n",
      "(to allow more performant data types, such as the Arrow string type, and better interoperability with other libraries)\n",
      "but was not found to be installed on your system.\n",
      "If this would cause problems for you,\n",
      "please provide us feedback at https://github.com/pandas-dev/pandas/issues/54466\n",
      "        \n",
      "  import pandas as pd\n"
     ]
    },
    {
     "data": {
      "text/html": [
       "<div>\n",
       "<style scoped>\n",
       "    .dataframe tbody tr th:only-of-type {\n",
       "        vertical-align: middle;\n",
       "    }\n",
       "\n",
       "    .dataframe tbody tr th {\n",
       "        vertical-align: top;\n",
       "    }\n",
       "\n",
       "    .dataframe thead th {\n",
       "        text-align: right;\n",
       "    }\n",
       "</style>\n",
       "<table border=\"1\" class=\"dataframe\">\n",
       "  <thead>\n",
       "    <tr style=\"text-align: right;\">\n",
       "      <th></th>\n",
       "      <th>Column1</th>\n",
       "    </tr>\n",
       "  </thead>\n",
       "  <tbody>\n",
       "    <tr>\n",
       "      <th>0</th>\n",
       "      <td>1</td>\n",
       "    </tr>\n",
       "    <tr>\n",
       "      <th>1</th>\n",
       "      <td>2</td>\n",
       "    </tr>\n",
       "  </tbody>\n",
       "</table>\n",
       "</div>"
      ],
      "text/plain": [
       "   Column1\n",
       "0        1\n",
       "1        2"
      ]
     },
     "execution_count": 58,
     "metadata": {},
     "output_type": "execute_result"
    }
   ],
   "source": [
    "import pandas as pd\n",
    "\n",
    "\n",
    "pd.DataFrame.from_dict({\"Column1\": [1, 2]})"
   ]
  },
  {
   "cell_type": "code",
   "execution_count": 59,
   "id": "1ce0a1c5-0016-4275-af85-c09fafc7b748",
   "metadata": {},
   "outputs": [
    {
     "data": {
      "text/html": [
       "<div>\n",
       "<style scoped>\n",
       "    .dataframe tbody tr th:only-of-type {\n",
       "        vertical-align: middle;\n",
       "    }\n",
       "\n",
       "    .dataframe tbody tr th {\n",
       "        vertical-align: top;\n",
       "    }\n",
       "\n",
       "    .dataframe thead th {\n",
       "        text-align: right;\n",
       "    }\n",
       "</style>\n",
       "<table border=\"1\" class=\"dataframe\">\n",
       "  <thead>\n",
       "    <tr style=\"text-align: right;\">\n",
       "      <th></th>\n",
       "      <th>0</th>\n",
       "      <th>1</th>\n",
       "    </tr>\n",
       "  </thead>\n",
       "  <tbody>\n",
       "    <tr>\n",
       "      <th>0</th>\n",
       "      <td>A</td>\n",
       "      <td>1</td>\n",
       "    </tr>\n",
       "    <tr>\n",
       "      <th>1</th>\n",
       "      <td>B</td>\n",
       "      <td>2</td>\n",
       "    </tr>\n",
       "  </tbody>\n",
       "</table>\n",
       "</div>"
      ],
      "text/plain": [
       "   0  1\n",
       "0  A  1\n",
       "1  B  2"
      ]
     },
     "execution_count": 59,
     "metadata": {},
     "output_type": "execute_result"
    }
   ],
   "source": [
    "pd.DataFrame.from_records([(\"A\", \"1\"), (\"B\", 2)])"
   ]
  },
  {
   "cell_type": "markdown",
   "id": "7ca556a1-3e7d-4281-b149-1764a97c96a9",
   "metadata": {},
   "source": [
    "Здесь методы `from_dict` и `from_records` являются **методами класса** `DataFrame` и для их вызова не обязательно иметь объект класса DataFrame. Сделаем также с нашими методами."
   ]
  },
  {
   "cell_type": "code",
   "execution_count": 60,
   "id": "58f81663-42bf-4920-af33-65c33f5f91d9",
   "metadata": {},
   "outputs": [],
   "source": [
    "class MyCustomMap:\n",
    "    def __init__(self, dct=None):\n",
    "        self.__map = dct\n",
    "    \n",
    "    @classmethod\n",
    "    def from_dict(cls, dct):\n",
    "        return cls(dct)\n",
    "    \n",
    "    @classmethod\n",
    "    def from_lists(cls, list1, list2):\n",
    "        return cls(dict(zip(list1, list2)))\n",
    "\n",
    "    @classmethod\n",
    "    def from_strings(cls, str1, str2):\n",
    "        return cls(dict(zip(str1, str2)))\n",
    "    \n",
    "    def __repr__(self):\n",
    "        return f\"My custom map {self.__map}\"\n",
    "    \n",
    "\n",
    "def from_dict(dct):\n",
    "    return dct"
   ]
  },
  {
   "cell_type": "code",
   "execution_count": 61,
   "id": "00f2734e-5f92-4d75-b6ac-47a5fef45cff",
   "metadata": {},
   "outputs": [
    {
     "data": {
      "text/plain": [
       "My custom map {'A': 'E', 'B': 'F', 'C': 'G', 'D': 'H'}"
      ]
     },
     "execution_count": 61,
     "metadata": {},
     "output_type": "execute_result"
    }
   ],
   "source": [
    "MyCustomMap.from_strings(\"ABCD\", \"EFGH\")"
   ]
  },
  {
   "cell_type": "markdown",
   "id": "74544bf8-a672-49b8-9792-6ebf838cc79e",
   "metadata": {},
   "source": [
    "Всё отлично работает, мы всего лишь указали декоратор `classmethod` для методов, которые мы хотели сделать классовыми.\n",
    "\n",
    "❗Обратите внимание, что методы класса ведут себя немного по другому. Первым аргументом к ним попадает **не экземпляр** данного класса, а **сам класс**, поэтому первый аргумент у методов класса принято называть `cls` вместо `self` (cls - сокращение от **cl**as**s**). Используя эту особенность, мы также смогли избавиться от явного указания класса, экземпляр которого мы хотим создать. В нашей ситуации `cls` во всех методах это `MyCustomMap`.\n",
    "\n",
    "При этом всём классовый метод можно вызвать и от экземпляра, ничего не поломается."
   ]
  },
  {
   "cell_type": "code",
   "execution_count": 62,
   "id": "5ad0edc8-328f-4eb4-bf8a-f05789768630",
   "metadata": {},
   "outputs": [
    {
     "data": {
      "text/plain": [
       "My custom map {'A': 'E', 'B': 'F', 'C': 'G', 'D': 'H'}"
      ]
     },
     "execution_count": 62,
     "metadata": {},
     "output_type": "execute_result"
    }
   ],
   "source": [
    "MyCustomMap().from_strings(\"ABCD\", \"EFGH\")"
   ]
  },
  {
   "cell_type": "markdown",
   "id": "e4a6d827-9c48-4fa2-aa76-62ad1c399e65",
   "metadata": {},
   "source": [
    "##### *staticmethod*\n",
    "\n",
    "Сделаем класс, собирающий информацию о загрузке и температуре процессора в течение времени, детально в коде можно не разбираться."
   ]
  },
  {
   "cell_type": "code",
   "execution_count": 63,
   "id": "1160b93b-3de8-498f-bc3c-d78896d3bd67",
   "metadata": {},
   "outputs": [],
   "source": [
    "import psutil\n",
    "from datetime import datetime\n",
    "\n",
    "\n",
    "class CPUMonitor:\n",
    "    def __init__(self):\n",
    "        self._times = []\n",
    "        self._loads = []\n",
    "        self._temps = []\n",
    "        \n",
    "    def record(self, seconds):\n",
    "        start_time = datetime.now()\n",
    "        print(\"Recording started...\")\n",
    "        while True:\n",
    "            self._times.append(datetime.now())\n",
    "            cpu_load = self.get_cpu_load()\n",
    "            self._loads.append(cpu_load)\n",
    "            cpu_temp = self.get_cpu_temperature()\n",
    "            self._temps.append(cpu_temp)\n",
    "            print(f\"\\rRecording in progress... Current CPU load: {cpu_load}%, Current CPU temperature: {cpu_temp}\", end=\"\")\n",
    "            if (self._times[-1] - start_time).total_seconds() > seconds:\n",
    "                print(\"\\nRecording stopped\")\n",
    "                break\n",
    "                \n",
    "    def reset(self):\n",
    "        self._times = []\n",
    "        self._loads = []\n",
    "        self._temps = []\n",
    "        \n",
    "    def get_cpu_temperature(self):\n",
    "        tdie = psutil.sensors_temperatures()[\"k10temp\"][1].current\n",
    "        return tdie\n",
    "    \n",
    "    def get_cpu_load(self):\n",
    "        load_percent = psutil.cpu_percent()\n",
    "        return load_percent"
   ]
  },
  {
   "cell_type": "code",
   "execution_count": null,
   "id": "c6e6b2fe-dfd7-412b-a52a-2ad3241faf09",
   "metadata": {},
   "outputs": [],
   "source": [
    "monitor = CPUMonitor()\n",
    "monitor.record(5)"
   ]
  },
  {
   "cell_type": "markdown",
   "id": "1dd7173c-cb13-4213-b970-7b6f224dd40a",
   "metadata": {},
   "source": [
    "Но нас интересует не столько сам класс, сколько методы `get_cpu_temperature` и `get_cpu_load`, что же в них необычного?\n",
    "\n",
    "Давайте посмотрим на них внимательно. Оба метода в данный момент связаны с экземпляром класса, но никак это не используют (`self` в их коде не упоминается). Логично тогда предположить, что из этих методов можно сделать методы класса при помощи декоратора о котором мы говорили раньше. В таком случае методы будут связаны с классом. Однако в таком случае они опять никак не будут использовать эту связь.\n",
    "\n",
    "Получается так, что эти методы вообще могут не иметь никакой связи с классом и его экземплярами и, видимо, просто стоило сделать из них отдельные функции... Или всё таки нет...?\n",
    "\n",
    "Дело в том, что эти методы действительно не связаны с экземплярами класса какими-то общими данными, однако **по смыслу** функционал методов прекрасно интегрируется в класс. Т.е. нахождение методов для получения параметров процессора в классе для мониторинга этих параметров это очень уместное решение. Если бы эти методы на самом деле были отдельными функциями, то нам не удалось бы красиво инкапсулировать всё в один класс. Они связаны с классом **по смыслу**, поэтому их всё же стоит оставить в классе\n",
    "\n",
    "Специально для таких методов в питоне есть декоратор `staticmethod`, он позволяет превращать методы в **статические**"
   ]
  },
  {
   "cell_type": "code",
   "execution_count": 66,
   "id": "b17568a8-e0e2-475c-b986-3e85769eac1b",
   "metadata": {},
   "outputs": [],
   "source": [
    "class CPUMonitor:\n",
    "    def __init__(self):\n",
    "        self._times = []\n",
    "        self._loads = []\n",
    "        self._temps = []\n",
    "        \n",
    "    def record(self, seconds):\n",
    "        start_time = datetime.now()\n",
    "        print(\"Recording started...\")\n",
    "        while True:\n",
    "            self._times.append(datetime.now())\n",
    "            cpu_load = self.get_cpu_load()\n",
    "            self._loads.append(cpu_load)\n",
    "            cpu_temp = self.get_cpu_temperature()\n",
    "            self._temps.append(cpu_temp)\n",
    "            print(f\"\\rRecording in progress... Current CPU load: {cpu_load}, Current CPU temperature: {cpu_temp}\", end=\"\")\n",
    "            if (self._times[-1] - start_time).total_seconds() > seconds:\n",
    "                print(\"\\nRecording stopped\")\n",
    "                break\n",
    "                \n",
    "    def reset(self):\n",
    "        self._times = []\n",
    "        self._loads = []\n",
    "        self._temps = []\n",
    "    \n",
    "    @staticmethod\n",
    "    def get_cpu_temperature(format_=False):   # Мы убрали self, так как связи с объектом нет и он больше не нужен и добавили новый аргумент\n",
    "        tdie = psutil.sensors_temperatures()[\"k10temp\"][1].current\n",
    "        if format_:\n",
    "            tdie = str(tdie) + \"°C\"\n",
    "        return tdie\n",
    "    \n",
    "    @staticmethod\n",
    "    def get_cpu_load(format_=False):   # Мы убрали self, так как связи с объектом нет и он больше не нужен и добавили новый аргумент\n",
    "        load_percent = psutil.cpu_percent()\n",
    "        if format_:\n",
    "            load_percent = str(load_percent) + \"%\"\n",
    "        return load_percent"
   ]
  },
  {
   "cell_type": "code",
   "execution_count": null,
   "id": "81870c69-6b51-44cc-8404-e378482d6e4b",
   "metadata": {},
   "outputs": [],
   "source": [
    "monitor = CPUMonitor()\n",
    "monitor.record(5)"
   ]
  },
  {
   "cell_type": "markdown",
   "id": "f55b067d-14c0-4a4d-b812-f5acd540e5b1",
   "metadata": {},
   "source": [
    "Статические методы работают как самые обычные функции, но привязанные к классам. Мы можем обращаться к ним через точку от класса или экземпляра класса, но никак не можем получить изнутри метода данные об экземпляре или классе.\n",
    "\n",
    "❗Статические методы **не принимают** экземпляр или класс первым аргументом, они работают как обычные функции. Их можно вызывать от экземпляров и классов одинаково, передавая аргументы \"как есть\". Возможные варианты приведены ниже"
   ]
  },
  {
   "cell_type": "code",
   "execution_count": 67,
   "id": "a5847792-4499-443c-8e6b-e2f47126f321",
   "metadata": {},
   "outputs": [
    {
     "name": "stdout",
     "output_type": "stream",
     "text": [
      "0.0\n",
      "0.0\n"
     ]
    }
   ],
   "source": [
    "print(CPUMonitor.get_cpu_load())  # Вызов метода от класса без аргументов (метод теперь не принимает self или cls)\n",
    "print(CPUMonitor().get_cpu_load())  # Вызов метода от экземпляра без аргументов (метод теперь не принимает self или cls)"
   ]
  },
  {
   "cell_type": "markdown",
   "id": "2977f1e7-6a5f-43f1-9ebc-64de86741115",
   "metadata": {},
   "source": [
    "##### *functools.lru_cache*\n",
    "\n",
    "Возьмём самый избитый пример - расчёт чисел Фиббоначи через рекурсию"
   ]
  },
  {
   "cell_type": "code",
   "execution_count": 68,
   "id": "e53d5e93-f6ad-4c83-bfb2-7a93fdad6686",
   "metadata": {},
   "outputs": [],
   "source": [
    "def fibonacсi(n):\n",
    "    return (fibonacсi(n - 1) + fibonacсi(n - 2)) if n > 2 else 1"
   ]
  },
  {
   "cell_type": "code",
   "execution_count": 69,
   "id": "361641af-4f0a-47e2-a86b-e02a4877fc2b",
   "metadata": {},
   "outputs": [
    {
     "name": "stdout",
     "output_type": "stream",
     "text": [
      "CPU times: user 2.35 s, sys: 0 ns, total: 2.35 s\n",
      "Wall time: 2.35 s\n"
     ]
    },
    {
     "data": {
      "text/plain": [
       "39088169"
      ]
     },
     "execution_count": 69,
     "metadata": {},
     "output_type": "execute_result"
    }
   ],
   "source": [
    "%%time\n",
    "fibonacсi(38)"
   ]
  },
  {
   "cell_type": "markdown",
   "id": "0a009638-b792-42df-9840-6b2d91ac05da",
   "metadata": {},
   "source": [
    "Все вы прекрасно знаете, что этот код работает долго и что в процессе выполнения образуется целое дерево рекурсивных вызовов, вычисляющих одно и то же.\n",
    "\n",
    "На ум приходит одно решение - кэшировать результаты. В таком случае функция сначала проверит, есть ли в кэше данные о результате выполнения с текущими аргументами. Если такие данные есть то они возвращаются без исполнения функции.\n",
    "\n",
    "Подобное кэширование в питоне осуществляет декоратор `lru_cache` из модуля `functools`."
   ]
  },
  {
   "cell_type": "code",
   "execution_count": 94,
   "id": "24887181-c09d-486d-b10f-82a1813f1b1c",
   "metadata": {},
   "outputs": [],
   "source": [
    "from functools import lru_cache\n",
    "\n",
    "\n",
    "@lru_cache\n",
    "def fibonacсi(n):\n",
    "    return fibonacсi(n - 1) + fibonacсi(n - 2) if n > 2 else 1"
   ]
  },
  {
   "cell_type": "code",
   "execution_count": 95,
   "id": "8eb40a9e-6634-4ab9-8a97-ac108e300989",
   "metadata": {},
   "outputs": [
    {
     "name": "stdout",
     "output_type": "stream",
     "text": [
      "CPU times: user 13 µs, sys: 3 µs, total: 16 µs\n",
      "Wall time: 17.2 µs\n"
     ]
    },
    {
     "data": {
      "text/plain": [
       "39088169"
      ]
     },
     "execution_count": 95,
     "metadata": {},
     "output_type": "execute_result"
    }
   ],
   "source": [
    "%%time\n",
    "fibonacсi(38)"
   ]
  },
  {
   "cell_type": "markdown",
   "id": "d0e0f829-9fe7-4b66-9490-d5afc7a2e7d8",
   "metadata": {},
   "source": [
    "Время выполнения функции уменьшилось в $10^5$ раз за счёт кэширования результатов!\n",
    "\n",
    "`lru_cache` так же позволяет ограничить размера кэша. В таком случае туда динамически будут загружаться самые часто используемые значения. Это может быть полезным, если есть необходимость экономить память"
   ]
  },
  {
   "cell_type": "code",
   "execution_count": 96,
   "id": "9cb7424f-725d-437f-91fe-9fdd9f2c63bc",
   "metadata": {},
   "outputs": [],
   "source": [
    "@lru_cache(maxsize=128)\n",
    "def fibonacсi(n):\n",
    "    return fibonacсi(n - 1) + fibonacсi(n - 2) if n > 2 else 1"
   ]
  },
  {
   "cell_type": "code",
   "execution_count": 98,
   "id": "d4324a23-e170-43e8-80f2-28ae4059cec3",
   "metadata": {},
   "outputs": [
    {
     "name": "stdout",
     "output_type": "stream",
     "text": [
      "CPU times: user 176 µs, sys: 41 µs, total: 217 µs\n",
      "Wall time: 221 µs\n"
     ]
    },
    {
     "data": {
      "text/plain": [
       "176023680645013966468226945392411250770384383304492191886725992896575345044216019675"
      ]
     },
     "execution_count": 98,
     "metadata": {},
     "output_type": "execute_result"
    }
   ],
   "source": [
    "%%time\n",
    "fibonacсi(400)"
   ]
  },
  {
   "cell_type": "markdown",
   "id": "676c3d7c-0b0f-43bf-91f0-3cb63741d7f4",
   "metadata": {},
   "source": [
    "`lru_cache` мы можем использовать вообще для любых функций! Однако, если в функциях присутствует хоть какой-то элемент случайности, влияющий на возвращаемое значение, то использование этого декоратора будет неэффективным"
   ]
  },
  {
   "cell_type": "markdown",
   "id": "42f4cc99-55d0-4db1-aa80-7c72d1ec1dec",
   "metadata": {},
   "source": [
    "##### *dataclass*\n",
    "\n",
    "Очень часто получается так, что нам нужно создавать некоторые структуры данных при помощи классов. При это они не имеют никаких методов и нужны исключительно для хранения данных. Например"
   ]
  },
  {
   "cell_type": "code",
   "execution_count": 101,
   "id": "af990d0e-b208-4455-833b-98d025d619eb",
   "metadata": {},
   "outputs": [],
   "source": [
    "from datetime import date\n",
    "\n",
    "\n",
    "class Book:\n",
    "    def __init__(self, title, author, publication_year, num_pages, publisher, language, edition):\n",
    "        self.title = title\n",
    "        self.author = author\n",
    "        self.publication_year = publication_year\n",
    "        self.num_pages = num_pages\n",
    "        self.publisher = publisher\n",
    "        self.language = language\n",
    "        self.edition = edition\n",
    "        \n",
    "        \n",
    "book = Book(title=\"The Great Gatsby\", author=\"F. Scott Fitzgerald\", publication_year=1925, num_pages=180,\n",
    "            publisher=\"Charles Scribner's Sons\", language=\"English\", edition=1)"
   ]
  },
  {
   "cell_type": "markdown",
   "id": "d0efceaa-b32d-4bcc-9d5b-788e91f3ee97",
   "metadata": {},
   "source": [
    "Запись класса выглядит очень громоздко, в ней много лишних элементов, к тому же у объектов нет удобного встроенного отображения (метод `__repr__`)"
   ]
  },
  {
   "cell_type": "code",
   "execution_count": 103,
   "id": "d40ad85a-7333-409f-b474-a3cb86046cdb",
   "metadata": {},
   "outputs": [
    {
     "data": {
      "text/plain": [
       "<__main__.Book at 0x7ffb17c013a0>"
      ]
     },
     "execution_count": 103,
     "metadata": {},
     "output_type": "execute_result"
    }
   ],
   "source": [
    "book"
   ]
  },
  {
   "cell_type": "markdown",
   "id": "799fc553-7981-4930-aef8-de136615e554",
   "metadata": {},
   "source": [
    "Для упрощения создания подобных классов нам приходит на помощь декоратор `dataclass`. И да, декорировать можно не только функции, а любые *Callable* объекты, в том числе классы. Синтаксис создания классов при этом немного преображается"
   ]
  },
  {
   "cell_type": "code",
   "execution_count": 104,
   "id": "852a8c22-e85e-45b0-b1df-0fca16e4c8ef",
   "metadata": {},
   "outputs": [
    {
     "data": {
      "text/plain": [
       "Book(title='The Great Gatsby', author='F. Scott Fitzgerald', publication_year=1925, num_pages=180, publisher=\"Charles Scribner's Sons\", language='English', edition=1)"
      ]
     },
     "execution_count": 104,
     "metadata": {},
     "output_type": "execute_result"
    }
   ],
   "source": [
    "from datetime import date\n",
    "from dataclasses import dataclass\n",
    "\n",
    "\n",
    "@dataclass\n",
    "class Book:\n",
    "    title: str\n",
    "    author: str\n",
    "    publication_year: int\n",
    "    num_pages: int\n",
    "    publisher: str\n",
    "    language: str\n",
    "    edition: int\n",
    "    \n",
    "book = Book(title=\"The Great Gatsby\", author=\"F. Scott Fitzgerald\", publication_year=1925, num_pages=180,\n",
    "            publisher=\"Charles Scribner's Sons\", language=\"English\", edition=1)\n",
    "book"
   ]
  },
  {
   "cell_type": "markdown",
   "id": "0141eb96-4be1-4d22-a22c-5af91e3d0206",
   "metadata": {},
   "source": [
    "Мы видим, что синтаксис стал намного проще. Теперь не нужно создавать конструктор с избыточным количеством имён, к тому же у объекта сразу появляется удобное отображение, благодаря неявному добавлению метода `__repr__` в ходе декорирования.\n",
    "\n",
    "Если вам нужны классы только для хранения каких-то структур данных &mdash; датаклассы ваш выбор!\n",
    "\n",
    "❗Обратите внимание, что *аннотации типов* (вот этот синтаксис `<attribute>: <type>`) в датаклассах обязательны ❗\n",
    "\n",
    "Вы по прежнему можете передать туда любые значения, но обязаны указать их предполагаемый тип при создании класса\n",
    "\n",
    "В датаклассы можно добавлять методы, но так, как правило, не делают"
   ]
  },
  {
   "cell_type": "code",
   "execution_count": 105,
   "id": "16d4b313-79a2-4d7e-9352-8b794c80e587",
   "metadata": {},
   "outputs": [],
   "source": [
    "@dataclass\n",
    "class Book:\n",
    "    title: str\n",
    "    author: str\n",
    "    publication_year: int\n",
    "    num_pages: int\n",
    "    publisher: str\n",
    "    language: str\n",
    "    edition: int\n",
    "    \n",
    "    def num_words(self, words_per_page=250):\n",
    "        return self.num_pages * words_per_page"
   ]
  },
  {
   "cell_type": "code",
   "execution_count": 106,
   "id": "0d764efd-e018-41a7-a605-2f78991e1724",
   "metadata": {},
   "outputs": [
    {
     "data": {
      "text/plain": [
       "45000"
      ]
     },
     "execution_count": 106,
     "metadata": {},
     "output_type": "execute_result"
    }
   ],
   "source": [
    "book = Book(title=\"The Great Gatsby\", author=\"F. Scott Fitzgerald\", publication_year=1925, num_pages=180,\n",
    "            publisher=\"Charles Scribner's Sons\", language=\"English\", edition=1)\n",
    "book.num_words()"
   ]
  },
  {
   "cell_type": "markdown",
   "id": "1b0e6a79-4877-45b4-8af4-bf0c7d8e0885",
   "metadata": {},
   "source": [
    "# Итог\n",
    "\n",
    "Декораторы это полезная штука, писать их приходится не часто, но иногда они могут сильно выручить. Встроенные декораторы `classmethod` и `staticmethod` обязательно надо использовать в своих классах, про остальные достаточно просто знать и использовать при необходимости."
   ]
  },
  {
   "cell_type": "code",
   "execution_count": null,
   "id": "604277bf-c4f8-417b-93b7-bf75d75b3410",
   "metadata": {},
   "outputs": [],
   "source": []
  }
 ],
 "metadata": {
  "kernelspec": {
   "display_name": "geno_pheno",
   "language": "python",
   "name": "geno_pheno"
  },
  "language_info": {
   "codemirror_mode": {
    "name": "ipython",
    "version": 3
   },
   "file_extension": ".py",
   "mimetype": "text/x-python",
   "name": "python",
   "nbconvert_exporter": "python",
   "pygments_lexer": "ipython3",
   "version": "3.9.16"
  },
  "toc-autonumbering": false,
  "toc-showcode": false,
  "toc-showmarkdowntxt": false,
  "toc-showtags": true
 },
 "nbformat": 4,
 "nbformat_minor": 5
}
