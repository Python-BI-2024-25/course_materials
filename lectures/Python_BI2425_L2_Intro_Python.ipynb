{
 "cells": [
  {
   "cell_type": "code",
   "execution_count": 3,
   "id": "9f5cab20-7556-4315-9125-ea4bef29de8a",
   "metadata": {},
   "outputs": [
    {
     "data": {
      "text/plain": [
       "2"
      ]
     },
     "execution_count": 3,
     "metadata": {},
     "output_type": "execute_result"
    }
   ],
   "source": [
    "1 + 1"
   ]
  },
  {
   "cell_type": "code",
   "execution_count": 4,
   "id": "7148d035-b485-48db-8971-ab5373f9ff9e",
   "metadata": {},
   "outputs": [
    {
     "data": {
      "text/plain": [
       "1.0"
      ]
     },
     "execution_count": 4,
     "metadata": {},
     "output_type": "execute_result"
    }
   ],
   "source": [
    "1 / 1"
   ]
  },
  {
   "cell_type": "code",
   "execution_count": 5,
   "id": "70ab8c6b-783c-49f6-88dc-fb9fe11b9281",
   "metadata": {},
   "outputs": [
    {
     "data": {
      "text/plain": [
       "1"
      ]
     },
     "execution_count": 5,
     "metadata": {},
     "output_type": "execute_result"
    }
   ],
   "source": [
    "3 // 2"
   ]
  },
  {
   "cell_type": "code",
   "execution_count": 7,
   "id": "b868ae56-2fee-48c1-9858-35a259a7ce7a",
   "metadata": {},
   "outputs": [
    {
     "data": {
      "text/plain": [
       "1.5"
      ]
     },
     "execution_count": 7,
     "metadata": {},
     "output_type": "execute_result"
    }
   ],
   "source": [
    "3 / 2"
   ]
  },
  {
   "cell_type": "code",
   "execution_count": 8,
   "id": "b2975581-db44-4f93-a68b-06d20fdfcaa0",
   "metadata": {},
   "outputs": [
    {
     "data": {
      "text/plain": [
       "1"
      ]
     },
     "execution_count": 8,
     "metadata": {},
     "output_type": "execute_result"
    }
   ],
   "source": [
    "3 % 2"
   ]
  },
  {
   "cell_type": "code",
   "execution_count": 9,
   "id": "7d71e90a-2d54-4b23-809c-748ef18e5437",
   "metadata": {},
   "outputs": [
    {
     "data": {
      "text/plain": [
       "4"
      ]
     },
     "execution_count": 9,
     "metadata": {},
     "output_type": "execute_result"
    }
   ],
   "source": [
    "2 ** 2"
   ]
  },
  {
   "cell_type": "code",
   "execution_count": 10,
   "id": "4cc38c18-d195-492e-84a3-856dfc578dcb",
   "metadata": {},
   "outputs": [
    {
     "data": {
      "text/plain": [
       "0"
      ]
     },
     "execution_count": 10,
     "metadata": {},
     "output_type": "execute_result"
    }
   ],
   "source": [
    "2 ^ 2"
   ]
  },
  {
   "cell_type": "code",
   "execution_count": 11,
   "id": "a9060345-8703-4960-a56c-35f43d75b802",
   "metadata": {},
   "outputs": [
    {
     "data": {
      "text/plain": [
       "int"
      ]
     },
     "execution_count": 11,
     "metadata": {},
     "output_type": "execute_result"
    }
   ],
   "source": [
    "type(1)"
   ]
  },
  {
   "cell_type": "code",
   "execution_count": 12,
   "id": "7a999a8c-95a0-413a-a839-4b1ecefeec1d",
   "metadata": {},
   "outputs": [
    {
     "data": {
      "text/plain": [
       "float"
      ]
     },
     "execution_count": 12,
     "metadata": {},
     "output_type": "execute_result"
    }
   ],
   "source": [
    "type(1.0)"
   ]
  },
  {
   "cell_type": "code",
   "execution_count": 13,
   "id": "0132093a-2ed8-4469-9e65-038a1a61a0aa",
   "metadata": {},
   "outputs": [
    {
     "data": {
      "text/plain": [
       "int"
      ]
     },
     "execution_count": 13,
     "metadata": {},
     "output_type": "execute_result"
    }
   ],
   "source": [
    "type(1+1)"
   ]
  },
  {
   "cell_type": "code",
   "execution_count": 14,
   "id": "aa9f2fce-43a1-4b84-8f06-5b1a7440cf13",
   "metadata": {},
   "outputs": [
    {
     "data": {
      "text/plain": [
       "int"
      ]
     },
     "execution_count": 14,
     "metadata": {},
     "output_type": "execute_result"
    }
   ],
   "source": [
    "type(1*1)"
   ]
  },
  {
   "cell_type": "code",
   "execution_count": 15,
   "id": "dede1fb5-621b-41c7-b688-4ad9fa3f4387",
   "metadata": {},
   "outputs": [
    {
     "data": {
      "text/plain": [
       "float"
      ]
     },
     "execution_count": 15,
     "metadata": {},
     "output_type": "execute_result"
    }
   ],
   "source": [
    "type(1/1)"
   ]
  },
  {
   "cell_type": "code",
   "execution_count": 16,
   "id": "89817a80-f823-41a9-b0f6-8ae422446cd1",
   "metadata": {},
   "outputs": [
    {
     "data": {
      "text/plain": [
       "int"
      ]
     },
     "execution_count": 16,
     "metadata": {},
     "output_type": "execute_result"
    }
   ],
   "source": [
    "type(1//1)"
   ]
  },
  {
   "cell_type": "code",
   "execution_count": 17,
   "id": "e7d7117e-6b9a-4f8c-a81c-99b1b49da1b6",
   "metadata": {},
   "outputs": [
    {
     "data": {
      "text/plain": [
       "complex"
      ]
     },
     "execution_count": 17,
     "metadata": {},
     "output_type": "execute_result"
    }
   ],
   "source": [
    "type( 1 + 2j )"
   ]
  },
  {
   "cell_type": "code",
   "execution_count": 18,
   "id": "cbe98a62-4c5b-4241-a35b-b8022c13dacb",
   "metadata": {},
   "outputs": [
    {
     "data": {
      "text/plain": [
       "complex"
      ]
     },
     "execution_count": 18,
     "metadata": {},
     "output_type": "execute_result"
    }
   ],
   "source": [
    "type( 1 + 0j )"
   ]
  },
  {
   "cell_type": "code",
   "execution_count": 19,
   "id": "54a91cb5-9250-49ac-8769-d4f8c2735df7",
   "metadata": {},
   "outputs": [
    {
     "data": {
      "text/plain": [
       "(1+0j)"
      ]
     },
     "execution_count": 19,
     "metadata": {},
     "output_type": "execute_result"
    }
   ],
   "source": [
    "1 + 0j "
   ]
  },
  {
   "cell_type": "code",
   "execution_count": 20,
   "id": "fa019896-8179-4579-ae77-e29100f9d465",
   "metadata": {},
   "outputs": [
    {
     "data": {
      "text/plain": [
       "0.30000000000000004"
      ]
     },
     "execution_count": 20,
     "metadata": {},
     "output_type": "execute_result"
    }
   ],
   "source": [
    "0.1 + 0.2"
   ]
  },
  {
   "cell_type": "code",
   "execution_count": 21,
   "id": "86108bab-f2ae-4772-bd13-4e52ac29e468",
   "metadata": {},
   "outputs": [],
   "source": [
    "from decimal import Decimal "
   ]
  },
  {
   "cell_type": "code",
   "execution_count": 22,
   "id": "78a83e9e-1e30-4b22-888b-1b245f80df38",
   "metadata": {},
   "outputs": [
    {
     "data": {
      "text/plain": [
       "Decimal('0.3000000000000000166533453694')"
      ]
     },
     "execution_count": 22,
     "metadata": {},
     "output_type": "execute_result"
    }
   ],
   "source": [
    "Decimal(0.1) + Decimal(0.2) "
   ]
  },
  {
   "cell_type": "code",
   "execution_count": 23,
   "id": "650c9c83-6f0d-4df8-8e42-5be684be8174",
   "metadata": {},
   "outputs": [
    {
     "data": {
      "text/plain": [
       "'string'"
      ]
     },
     "execution_count": 23,
     "metadata": {},
     "output_type": "execute_result"
    }
   ],
   "source": [
    "'string'"
   ]
  },
  {
   "cell_type": "code",
   "execution_count": 24,
   "id": "e6c7c8d9-8beb-4567-bf53-fb2a4f3ca29a",
   "metadata": {},
   "outputs": [
    {
     "data": {
      "text/plain": [
       "False"
      ]
     },
     "execution_count": 24,
     "metadata": {},
     "output_type": "execute_result"
    }
   ],
   "source": [
    "'1' == 1"
   ]
  },
  {
   "cell_type": "code",
   "execution_count": null,
   "id": "e03e2dce-d468-470c-b30e-e753a83b73a2",
   "metadata": {},
   "outputs": [],
   "source": [
    "1) Динамическая* vs Статическая\n",
    "\n",
    "2) Сильная* vs Слабая"
   ]
  },
  {
   "cell_type": "code",
   "execution_count": 25,
   "id": "d800007a-2f21-4f98-bbc1-470222569328",
   "metadata": {},
   "outputs": [],
   "source": [
    "a = 5"
   ]
  },
  {
   "cell_type": "code",
   "execution_count": 26,
   "id": "ed75ffd7-7a38-4f95-82d4-0889551ee530",
   "metadata": {},
   "outputs": [],
   "source": [
    "a = '5'"
   ]
  },
  {
   "cell_type": "code",
   "execution_count": 27,
   "id": "e2ef681d-f942-4b8b-871d-db5a0f02332b",
   "metadata": {},
   "outputs": [
    {
     "ename": "TypeError",
     "evalue": "can only concatenate str (not \"float\") to str",
     "output_type": "error",
     "traceback": [
      "\u001b[0;31m---------------------------------------------------------------------------\u001b[0m",
      "\u001b[0;31mTypeError\u001b[0m                                 Traceback (most recent call last)",
      "Cell \u001b[0;32mIn[27], line 1\u001b[0m\n\u001b[0;32m----> 1\u001b[0m \u001b[38;5;124;43m'\u001b[39;49m\u001b[38;5;124;43mHello, python\u001b[39;49m\u001b[38;5;124;43m'\u001b[39;49m\u001b[43m \u001b[49m\u001b[38;5;241;43m+\u001b[39;49m\u001b[43m \u001b[49m\u001b[38;5;241;43m3.0\u001b[39;49m\n",
      "\u001b[0;31mTypeError\u001b[0m: can only concatenate str (not \"float\") to str"
     ]
    }
   ],
   "source": [
    "'Hello, python' + 3.0 # приведение типов"
   ]
  },
  {
   "cell_type": "code",
   "execution_count": 28,
   "id": "c631f0a6-7310-42d7-bde8-aa28a3a3624c",
   "metadata": {},
   "outputs": [
    {
     "data": {
      "text/plain": [
       "'Hello, python3.0'"
      ]
     },
     "execution_count": 28,
     "metadata": {},
     "output_type": "execute_result"
    }
   ],
   "source": [
    "'Hello, python' + '3.0'"
   ]
  },
  {
   "cell_type": "code",
   "execution_count": 30,
   "id": "3ea0beba-60f1-4671-b845-64886859d12a",
   "metadata": {},
   "outputs": [
    {
     "data": {
      "text/plain": [
       "3.0"
      ]
     },
     "execution_count": 30,
     "metadata": {},
     "output_type": "execute_result"
    }
   ],
   "source": [
    "1 + 1.0 + True"
   ]
  },
  {
   "cell_type": "code",
   "execution_count": 31,
   "id": "32060f90-0fa9-49c2-88b6-3092a673cbcf",
   "metadata": {},
   "outputs": [],
   "source": [
    "string = 'Hello, python'"
   ]
  },
  {
   "cell_type": "code",
   "execution_count": null,
   "id": "02ee3708-38eb-4da6-9f94-086b0c4b16da",
   "metadata": {},
   "outputs": [],
   "source": [
    "string[start:stop:step]"
   ]
  },
  {
   "cell_type": "code",
   "execution_count": 32,
   "id": "a68d7aa5-b0f6-49ca-b9e2-0ce0ac3021f8",
   "metadata": {},
   "outputs": [
    {
     "data": {
      "text/plain": [
       "'Hello, pytho'"
      ]
     },
     "execution_count": 32,
     "metadata": {},
     "output_type": "execute_result"
    }
   ],
   "source": [
    "string[:-1]"
   ]
  },
  {
   "cell_type": "code",
   "execution_count": 34,
   "id": "d7f8fa2c-178c-4dca-993d-ef8001707f37",
   "metadata": {},
   "outputs": [
    {
     "data": {
      "text/plain": [
       "'el,pto'"
      ]
     },
     "execution_count": 34,
     "metadata": {},
     "output_type": "execute_result"
    }
   ],
   "source": [
    "string[1::2]"
   ]
  },
  {
   "cell_type": "code",
   "execution_count": 36,
   "id": "76a8faeb-74ca-498e-a05d-14b90c1ac060",
   "metadata": {},
   "outputs": [],
   "source": [
    "s1 = 'Hello'\n",
    "s2 = 'python'"
   ]
  },
  {
   "cell_type": "code",
   "execution_count": 37,
   "id": "b2d72a6d-4380-4327-990a-2ed60c0314cd",
   "metadata": {},
   "outputs": [
    {
     "data": {
      "text/plain": [
       "'Hellopython'"
      ]
     },
     "execution_count": 37,
     "metadata": {},
     "output_type": "execute_result"
    }
   ],
   "source": [
    "s1 + s2"
   ]
  },
  {
   "cell_type": "code",
   "execution_count": 38,
   "id": "31cf32e0-9bca-4c13-bb22-d22ea3bd5838",
   "metadata": {},
   "outputs": [
    {
     "ename": "TypeError",
     "evalue": "can't multiply sequence by non-int of type 'str'",
     "output_type": "error",
     "traceback": [
      "\u001b[0;31m---------------------------------------------------------------------------\u001b[0m",
      "\u001b[0;31mTypeError\u001b[0m                                 Traceback (most recent call last)",
      "Cell \u001b[0;32mIn[38], line 1\u001b[0m\n\u001b[0;32m----> 1\u001b[0m \u001b[43ms1\u001b[49m\u001b[38;5;241;43m*\u001b[39;49m\u001b[43ms2\u001b[49m \n",
      "\u001b[0;31mTypeError\u001b[0m: can't multiply sequence by non-int of type 'str'"
     ]
    }
   ],
   "source": [
    "s1*s2 "
   ]
  },
  {
   "cell_type": "code",
   "execution_count": 39,
   "id": "dfbccfa8-561f-4fb8-8833-9230adb98d6d",
   "metadata": {},
   "outputs": [
    {
     "data": {
      "text/plain": [
       "'HelloHelloHello'"
      ]
     },
     "execution_count": 39,
     "metadata": {},
     "output_type": "execute_result"
    }
   ],
   "source": [
    "s1 * 3"
   ]
  },
  {
   "cell_type": "code",
   "execution_count": 40,
   "id": "1e4cac4f-0583-4532-913f-51462fed0a13",
   "metadata": {},
   "outputs": [
    {
     "data": {
      "text/plain": [
       "'HelloHelloHello'"
      ]
     },
     "execution_count": 40,
     "metadata": {},
     "output_type": "execute_result"
    }
   ],
   "source": [
    "3 * s1"
   ]
  },
  {
   "cell_type": "code",
   "execution_count": 41,
   "id": "4546d3d5-8fdb-47a2-a7a5-cd72926d6a5c",
   "metadata": {},
   "outputs": [
    {
     "data": {
      "text/plain": [
       "'Hello'"
      ]
     },
     "execution_count": 41,
     "metadata": {},
     "output_type": "execute_result"
    }
   ],
   "source": [
    "s1"
   ]
  },
  {
   "cell_type": "code",
   "execution_count": 43,
   "id": "64b32155-c078-49e8-a46d-a08957b08de3",
   "metadata": {},
   "outputs": [
    {
     "data": {
      "text/plain": [
       "(5, 1)"
      ]
     },
     "execution_count": 43,
     "metadata": {},
     "output_type": "execute_result"
    }
   ],
   "source": [
    "len(s1), len(' ')"
   ]
  },
  {
   "cell_type": "code",
   "execution_count": 44,
   "id": "f0935c9c-08bd-431a-aaea-54ac1fcb6d4f",
   "metadata": {},
   "outputs": [
    {
     "data": {
      "text/plain": [
       "False"
      ]
     },
     "execution_count": 44,
     "metadata": {},
     "output_type": "execute_result"
    }
   ],
   "source": [
    "s1 == s2"
   ]
  },
  {
   "cell_type": "code",
   "execution_count": 45,
   "id": "8b7022fa-da05-49a5-b9e8-724cf52a7900",
   "metadata": {},
   "outputs": [
    {
     "data": {
      "text/plain": [
       "True"
      ]
     },
     "execution_count": 45,
     "metadata": {},
     "output_type": "execute_result"
    }
   ],
   "source": [
    "s1 < s2"
   ]
  },
  {
   "cell_type": "code",
   "execution_count": 46,
   "id": "74a4989f-0fb5-465b-8dc8-adb333f038cd",
   "metadata": {},
   "outputs": [
    {
     "data": {
      "text/plain": [
       "False"
      ]
     },
     "execution_count": 46,
     "metadata": {},
     "output_type": "execute_result"
    }
   ],
   "source": [
    "s1 > s2"
   ]
  },
  {
   "cell_type": "code",
   "execution_count": 47,
   "id": "1146ca26-9ae3-46be-a176-805235dedd9d",
   "metadata": {},
   "outputs": [
    {
     "data": {
      "text/plain": [
       "('Hello', 'python')"
      ]
     },
     "execution_count": 47,
     "metadata": {},
     "output_type": "execute_result"
    }
   ],
   "source": [
    "s1, s2"
   ]
  },
  {
   "cell_type": "code",
   "execution_count": 48,
   "id": "ab5da7a4-4af4-4de8-ab41-94c07df45685",
   "metadata": {},
   "outputs": [
    {
     "data": {
      "text/plain": [
       "False"
      ]
     },
     "execution_count": 48,
     "metadata": {},
     "output_type": "execute_result"
    }
   ],
   "source": [
    "'AB' > 'BB'"
   ]
  },
  {
   "cell_type": "code",
   "execution_count": 49,
   "id": "1b64f1b1-b07b-48ad-8bf5-b5cb64f5744c",
   "metadata": {},
   "outputs": [
    {
     "data": {
      "text/plain": [
       "True"
      ]
     },
     "execution_count": 49,
     "metadata": {},
     "output_type": "execute_result"
    }
   ],
   "source": [
    "'AB' < 'BB'"
   ]
  },
  {
   "cell_type": "code",
   "execution_count": 50,
   "id": "b4a3eda4-f62d-48e8-917c-a380147e13f9",
   "metadata": {},
   "outputs": [
    {
     "data": {
      "text/plain": [
       "True"
      ]
     },
     "execution_count": 50,
     "metadata": {},
     "output_type": "execute_result"
    }
   ],
   "source": [
    "'A' < 'a'"
   ]
  },
  {
   "cell_type": "code",
   "execution_count": 51,
   "id": "f6147bff-39d0-4fb3-89a1-dec6b1597bd8",
   "metadata": {},
   "outputs": [
    {
     "data": {
      "text/plain": [
       "True"
      ]
     },
     "execution_count": 51,
     "metadata": {},
     "output_type": "execute_result"
    }
   ],
   "source": [
    "'B' < 'a'\n"
   ]
  },
  {
   "cell_type": "code",
   "execution_count": 52,
   "id": "fbaacd52-8637-43e1-881f-d827303f57b3",
   "metadata": {},
   "outputs": [
    {
     "data": {
      "text/plain": [
       "True"
      ]
     },
     "execution_count": 52,
     "metadata": {},
     "output_type": "execute_result"
    }
   ],
   "source": [
    "'1' < 'A'"
   ]
  },
  {
   "cell_type": "code",
   "execution_count": 53,
   "id": "a830f8e8-0a34-4064-ad85-232ab40d6004",
   "metadata": {},
   "outputs": [
    {
     "data": {
      "text/plain": [
       "False"
      ]
     },
     "execution_count": 53,
     "metadata": {},
     "output_type": "execute_result"
    }
   ],
   "source": [
    "'AAAAb' < 'AAAA'"
   ]
  },
  {
   "cell_type": "code",
   "execution_count": 54,
   "id": "4301fb7c-4745-40e2-89b6-1e60cedef890",
   "metadata": {},
   "outputs": [
    {
     "data": {
      "text/plain": [
       "True"
      ]
     },
     "execution_count": 54,
     "metadata": {},
     "output_type": "execute_result"
    }
   ],
   "source": [
    "'AAAAb' < 'BAAA'"
   ]
  },
  {
   "cell_type": "code",
   "execution_count": 56,
   "id": "0abc6e5f-9d93-4471-a957-dc12a761410b",
   "metadata": {},
   "outputs": [
    {
     "data": {
      "text/plain": [
       "'b'"
      ]
     },
     "execution_count": 56,
     "metadata": {},
     "output_type": "execute_result"
    }
   ],
   "source": [
    "'Ab'[1]"
   ]
  },
  {
   "cell_type": "code",
   "execution_count": 57,
   "id": "71c74684-2f3a-4b7a-b794-7ff58e133bf7",
   "metadata": {},
   "outputs": [
    {
     "data": {
      "text/plain": [
       "'A'"
      ]
     },
     "execution_count": 57,
     "metadata": {},
     "output_type": "execute_result"
    }
   ],
   "source": [
    "'Ab'[0]"
   ]
  },
  {
   "cell_type": "code",
   "execution_count": 58,
   "id": "cc1f2b4d-b8e0-44ca-94d5-c509b54df5aa",
   "metadata": {},
   "outputs": [
    {
     "data": {
      "text/plain": [
       "'bA'"
      ]
     },
     "execution_count": 58,
     "metadata": {},
     "output_type": "execute_result"
    }
   ],
   "source": [
    "'Ab'[::-1]"
   ]
  },
  {
   "cell_type": "markdown",
   "id": "98bbbb8e-2296-4faf-b13e-f4e10f4f8616",
   "metadata": {},
   "source": [
    "# Методы строк"
   ]
  },
  {
   "cell_type": "code",
   "execution_count": 59,
   "id": "139b97b6-a24f-44c3-92de-8fc9172eed48",
   "metadata": {},
   "outputs": [],
   "source": [
    "string = 'python'"
   ]
  },
  {
   "cell_type": "code",
   "execution_count": 61,
   "id": "6c671187-d653-493f-8375-df6e8fc43912",
   "metadata": {},
   "outputs": [
    {
     "data": {
      "text/plain": [
       "'Python'"
      ]
     },
     "execution_count": 61,
     "metadata": {},
     "output_type": "execute_result"
    }
   ],
   "source": [
    "string.capitalize()"
   ]
  },
  {
   "cell_type": "code",
   "execution_count": 64,
   "id": "e57b6369-e162-422a-b122-c35bc0f777b0",
   "metadata": {},
   "outputs": [
    {
     "data": {
      "text/plain": [
       "'Hello python'"
      ]
     },
     "execution_count": 64,
     "metadata": {},
     "output_type": "execute_result"
    }
   ],
   "source": [
    "'hello python'.capitalize()"
   ]
  },
  {
   "cell_type": "code",
   "execution_count": 71,
   "id": "e48eee92-9595-4da6-89c3-c3d7c929f75b",
   "metadata": {},
   "outputs": [
    {
     "data": {
      "text/plain": [
       "9"
      ]
     },
     "execution_count": 71,
     "metadata": {},
     "output_type": "execute_result"
    }
   ],
   "source": [
    "'hello python'.find('h', 1)"
   ]
  },
  {
   "cell_type": "code",
   "execution_count": 72,
   "id": "b9939f74-1984-4118-b9a6-391b35100782",
   "metadata": {},
   "outputs": [
    {
     "data": {
      "text/plain": [
       "'Hello pytHon'"
      ]
     },
     "execution_count": 72,
     "metadata": {},
     "output_type": "execute_result"
    }
   ],
   "source": [
    "'hello python'.replace('h', 'H')"
   ]
  },
  {
   "cell_type": "code",
   "execution_count": 73,
   "id": "9f96747e-99b7-4318-96f1-84eed2c31425",
   "metadata": {},
   "outputs": [
    {
     "data": {
      "text/plain": [
       "2"
      ]
     },
     "execution_count": 73,
     "metadata": {},
     "output_type": "execute_result"
    }
   ],
   "source": [
    "'hello python'.count('h')"
   ]
  },
  {
   "cell_type": "code",
   "execution_count": 74,
   "id": "9e553f58-e193-40c4-90c6-a7940ac51f52",
   "metadata": {},
   "outputs": [
    {
     "data": {
      "text/plain": [
       "'HELLO PYTHON'"
      ]
     },
     "execution_count": 74,
     "metadata": {},
     "output_type": "execute_result"
    }
   ],
   "source": [
    "'hello python'.upper()"
   ]
  },
  {
   "cell_type": "code",
   "execution_count": 75,
   "id": "77446286-c605-4466-8948-412ace0bbaec",
   "metadata": {},
   "outputs": [
    {
     "data": {
      "text/plain": [
       "'hello python'"
      ]
     },
     "execution_count": 75,
     "metadata": {},
     "output_type": "execute_result"
    }
   ],
   "source": [
    "'hello python'.lower()"
   ]
  },
  {
   "cell_type": "code",
   "execution_count": 76,
   "id": "8a53f88f-b576-451f-ba3d-250ee869829a",
   "metadata": {},
   "outputs": [
    {
     "data": {
      "text/plain": [
       "True"
      ]
     },
     "execution_count": 76,
     "metadata": {},
     "output_type": "execute_result"
    }
   ],
   "source": [
    "'1'.isdigit()"
   ]
  },
  {
   "cell_type": "code",
   "execution_count": 77,
   "id": "6db06294-cd9f-4a64-ae22-86da04728df7",
   "metadata": {},
   "outputs": [
    {
     "data": {
      "text/plain": [
       "False"
      ]
     },
     "execution_count": 77,
     "metadata": {},
     "output_type": "execute_result"
    }
   ],
   "source": [
    "'1'.isalpha()"
   ]
  },
  {
   "cell_type": "code",
   "execution_count": 88,
   "id": "747cbab5-cecd-44e6-9676-2f33484564bc",
   "metadata": {},
   "outputs": [
    {
     "data": {
      "text/plain": [
       "str"
      ]
     },
     "execution_count": 88,
     "metadata": {},
     "output_type": "execute_result"
    }
   ],
   "source": [
    "type('1')"
   ]
  },
  {
   "cell_type": "code",
   "execution_count": 78,
   "id": "c061ab16-7014-4ddf-a8e3-85528dc395dd",
   "metadata": {},
   "outputs": [
    {
     "data": {
      "text/plain": [
       "True"
      ]
     },
     "execution_count": 78,
     "metadata": {},
     "output_type": "execute_result"
    }
   ],
   "source": [
    "'a'.isalpha()"
   ]
  },
  {
   "cell_type": "code",
   "execution_count": 79,
   "id": "d28bf212-ae4e-4563-aecc-9fc2956b78a3",
   "metadata": {},
   "outputs": [
    {
     "data": {
      "text/plain": [
       "True"
      ]
     },
     "execution_count": 79,
     "metadata": {},
     "output_type": "execute_result"
    }
   ],
   "source": [
    "'python311'.isalnum()"
   ]
  },
  {
   "cell_type": "code",
   "execution_count": 80,
   "id": "5a26f724-5a45-437f-88c9-35af4392907a",
   "metadata": {},
   "outputs": [
    {
     "data": {
      "text/plain": [
       "['hello', 'python']"
      ]
     },
     "execution_count": 80,
     "metadata": {},
     "output_type": "execute_result"
    }
   ],
   "source": [
    "'hello python'.split()"
   ]
  },
  {
   "cell_type": "code",
   "execution_count": 81,
   "id": "c5a59fcd-ff13-4e86-9527-98cf288da60e",
   "metadata": {},
   "outputs": [
    {
     "data": {
      "text/plain": [
       "['hell', ' pyth', 'n']"
      ]
     },
     "execution_count": 81,
     "metadata": {},
     "output_type": "execute_result"
    }
   ],
   "source": [
    "'hello python'.split('o')"
   ]
  },
  {
   "cell_type": "code",
   "execution_count": 82,
   "id": "fd55b419-7c16-4b81-ac7c-31bf865ead38",
   "metadata": {},
   "outputs": [
    {
     "data": {
      "text/plain": [
       "True"
      ]
     },
     "execution_count": 82,
     "metadata": {},
     "output_type": "execute_result"
    }
   ],
   "source": [
    "'hello python'.startswith('he')"
   ]
  },
  {
   "cell_type": "code",
   "execution_count": 83,
   "id": "f619eacb-9e31-4b04-be5f-ecc6c1c8f7ff",
   "metadata": {},
   "outputs": [
    {
     "data": {
      "text/plain": [
       "False"
      ]
     },
     "execution_count": 83,
     "metadata": {},
     "output_type": "execute_result"
    }
   ],
   "source": [
    "'hello python'.endswith('he')"
   ]
  },
  {
   "cell_type": "code",
   "execution_count": 84,
   "id": "cd96709b-1c70-4fc7-b6b4-193e32b5ac0c",
   "metadata": {},
   "outputs": [
    {
     "data": {
      "text/plain": [
       "['h', ' python']"
      ]
     },
     "execution_count": 84,
     "metadata": {},
     "output_type": "execute_result"
    }
   ],
   "source": [
    "'hello python'.split('ello')"
   ]
  },
  {
   "cell_type": "code",
   "execution_count": 85,
   "id": "d6667aba-9592-45b8-befa-fabd3d72500e",
   "metadata": {},
   "outputs": [
    {
     "data": {
      "text/plain": [
       "'hello python'"
      ]
     },
     "execution_count": 85,
     "metadata": {},
     "output_type": "execute_result"
    }
   ],
   "source": [
    "'o'.join(['hell', ' pyth', 'n'])"
   ]
  },
  {
   "cell_type": "code",
   "execution_count": 86,
   "id": "e91d5b94-b76c-457f-9b02-26afb10af8c3",
   "metadata": {},
   "outputs": [
    {
     "data": {
      "text/plain": [
       "'hell; pyth;n'"
      ]
     },
     "execution_count": 86,
     "metadata": {},
     "output_type": "execute_result"
    }
   ],
   "source": [
    "';'.join(['hell', ' pyth', 'n'])"
   ]
  },
  {
   "cell_type": "code",
   "execution_count": 90,
   "id": "b4e4922e-7ad9-4dbc-b040-481e14a49296",
   "metadata": {},
   "outputs": [
    {
     "ename": "SyntaxError",
     "evalue": "invalid syntax (883781990.py, line 1)",
     "output_type": "error",
     "traceback": [
      "\u001b[0;36m  Cell \u001b[0;32mIn[90], line 1\u001b[0;36m\u001b[0m\n\u001b[0;31m    samtools -@ XXX\u001b[0m\n\u001b[0m              ^\u001b[0m\n\u001b[0;31mSyntaxError\u001b[0m\u001b[0;31m:\u001b[0m invalid syntax\n"
     ]
    }
   ],
   "source": [
    "samtools -@ 5"
   ]
  },
  {
   "cell_type": "code",
   "execution_count": 89,
   "id": "26e6e06a-bfbd-4912-909e-0df4a6315b43",
   "metadata": {},
   "outputs": [
    {
     "data": {
      "text/plain": [
       "5"
      ]
     },
     "execution_count": 89,
     "metadata": {},
     "output_type": "execute_result"
    }
   ],
   "source": [
    "int('5')"
   ]
  },
  {
   "cell_type": "code",
   "execution_count": 91,
   "id": "2fa3a1e9-6558-44a4-aebe-b1fee0f27981",
   "metadata": {},
   "outputs": [
    {
     "ename": "ValueError",
     "evalue": "invalid literal for int() with base 10: 'XXX'",
     "output_type": "error",
     "traceback": [
      "\u001b[0;31m---------------------------------------------------------------------------\u001b[0m",
      "\u001b[0;31mValueError\u001b[0m                                Traceback (most recent call last)",
      "Cell \u001b[0;32mIn[91], line 1\u001b[0m\n\u001b[0;32m----> 1\u001b[0m \u001b[38;5;28;43mint\u001b[39;49m\u001b[43m(\u001b[49m\u001b[38;5;124;43m'\u001b[39;49m\u001b[38;5;124;43mXXX\u001b[39;49m\u001b[38;5;124;43m'\u001b[39;49m\u001b[43m)\u001b[49m\n",
      "\u001b[0;31mValueError\u001b[0m: invalid literal for int() with base 10: 'XXX'"
     ]
    }
   ],
   "source": [
    "int('XXX')"
   ]
  },
  {
   "cell_type": "code",
   "execution_count": 93,
   "id": "8be783fe-30db-44ae-953f-9774405784b9",
   "metadata": {},
   "outputs": [],
   "source": [
    "string = '5'\n",
    "\n",
    "if string.isdigit():\n",
    "    n = int(string)"
   ]
  },
  {
   "cell_type": "code",
   "execution_count": 94,
   "id": "afb11808-b496-4736-aa45-2e75ad6229f9",
   "metadata": {},
   "outputs": [
    {
     "data": {
      "text/plain": [
       "5"
      ]
     },
     "execution_count": 94,
     "metadata": {},
     "output_type": "execute_result"
    }
   ],
   "source": [
    "n"
   ]
  },
  {
   "cell_type": "markdown",
   "id": "5843c90b-992b-420c-bbdd-60cf226c8dbc",
   "metadata": {},
   "source": [
    "# Коллекция\n",
    "\n",
    "- список (list)\n",
    "- кортеж (tuple)\n",
    "- словарь (dict), defaultdict\n",
    "- множество (set), frozenset\n",
    "\n",
    "- string"
   ]
  },
  {
   "cell_type": "code",
   "execution_count": 96,
   "id": "ded585b1-e448-4437-b280-c563a65d097c",
   "metadata": {},
   "outputs": [
    {
     "data": {
      "text/plain": [
       "False"
      ]
     },
     "execution_count": 96,
     "metadata": {},
     "output_type": "execute_result"
    }
   ],
   "source": [
    "[1,2,3] == (1,2,3)"
   ]
  },
  {
   "cell_type": "code",
   "execution_count": 121,
   "id": "5a75da72-c3fb-4b60-be27-a67abb8477e4",
   "metadata": {},
   "outputs": [],
   "source": [
    "my_list = [1,2,3] "
   ]
  },
  {
   "cell_type": "code",
   "execution_count": 122,
   "id": "5d903319-ff9e-419c-a279-7495e03e3b23",
   "metadata": {},
   "outputs": [
    {
     "data": {
      "text/plain": [
       "1"
      ]
     },
     "execution_count": 122,
     "metadata": {},
     "output_type": "execute_result"
    }
   ],
   "source": [
    "my_list[0]"
   ]
  },
  {
   "cell_type": "code",
   "execution_count": 123,
   "id": "f4f8b8a4-813c-4ff6-91a5-ec790e1b3461",
   "metadata": {},
   "outputs": [
    {
     "data": {
      "text/plain": [
       "[1, 2]"
      ]
     },
     "execution_count": 123,
     "metadata": {},
     "output_type": "execute_result"
    }
   ],
   "source": [
    "my_list[:-1]"
   ]
  },
  {
   "cell_type": "code",
   "execution_count": 124,
   "id": "8a0a6cc8-b84f-46b6-ae38-84aafb5c0c30",
   "metadata": {},
   "outputs": [],
   "source": [
    "my_list = [1,2,3] \n",
    "my_tuple = (1,2,3)"
   ]
  },
  {
   "cell_type": "code",
   "execution_count": 125,
   "id": "3d088204-1ff6-4eee-a70d-a6b4fcd45379",
   "metadata": {},
   "outputs": [
    {
     "data": {
      "text/plain": [
       "[1, 2, 3, 1, 2, 3]"
      ]
     },
     "execution_count": 125,
     "metadata": {},
     "output_type": "execute_result"
    }
   ],
   "source": [
    "my_list + my_list"
   ]
  },
  {
   "cell_type": "code",
   "execution_count": 126,
   "id": "6a48edfb-051c-4d9f-9dd4-eabeb3c771cf",
   "metadata": {},
   "outputs": [
    {
     "data": {
      "text/plain": [
       "(1, 2, 3, 1, 2, 3)"
      ]
     },
     "execution_count": 126,
     "metadata": {},
     "output_type": "execute_result"
    }
   ],
   "source": [
    "my_tuple + my_tuple"
   ]
  },
  {
   "cell_type": "markdown",
   "id": "a601ffe3-58a7-4578-9af8-248b3a19ab61",
   "metadata": {},
   "source": [
    "## Методы списков"
   ]
  },
  {
   "cell_type": "code",
   "execution_count": 127,
   "id": "766b4b8f-939a-4295-9d65-734626baa7c6",
   "metadata": {},
   "outputs": [],
   "source": [
    "my_list.append(5)"
   ]
  },
  {
   "cell_type": "code",
   "execution_count": 128,
   "id": "f6643437-b642-4852-85b7-dcf8564c8699",
   "metadata": {},
   "outputs": [
    {
     "data": {
      "text/plain": [
       "[1, 2, 3, 5]"
      ]
     },
     "execution_count": 128,
     "metadata": {},
     "output_type": "execute_result"
    }
   ],
   "source": [
    "my_list"
   ]
  },
  {
   "cell_type": "code",
   "execution_count": 129,
   "id": "7846e8d4-dcc8-4e14-95eb-79dc8ed6315d",
   "metadata": {},
   "outputs": [
    {
     "ename": "AttributeError",
     "evalue": "'tuple' object has no attribute 'append'",
     "output_type": "error",
     "traceback": [
      "\u001b[0;31m---------------------------------------------------------------------------\u001b[0m",
      "\u001b[0;31mAttributeError\u001b[0m                            Traceback (most recent call last)",
      "Cell \u001b[0;32mIn[129], line 1\u001b[0m\n\u001b[0;32m----> 1\u001b[0m \u001b[43mmy_tuple\u001b[49m\u001b[38;5;241;43m.\u001b[39;49m\u001b[43mappend\u001b[49m(\u001b[38;5;241m5\u001b[39m)\n",
      "\u001b[0;31mAttributeError\u001b[0m: 'tuple' object has no attribute 'append'"
     ]
    }
   ],
   "source": [
    "my_tuple.append(5)"
   ]
  },
  {
   "cell_type": "code",
   "execution_count": 130,
   "id": "0012c760-ebf6-42f3-a7ec-5960066b6248",
   "metadata": {},
   "outputs": [
    {
     "data": {
      "text/plain": [
       "[1, 2, 3, 5]"
      ]
     },
     "execution_count": 130,
     "metadata": {},
     "output_type": "execute_result"
    }
   ],
   "source": [
    "my_list.sort()\n",
    "my_list"
   ]
  },
  {
   "cell_type": "code",
   "execution_count": 131,
   "id": "e1796d7a-54e1-469c-9abf-7dab7b87c376",
   "metadata": {},
   "outputs": [],
   "source": [
    "my_list.remove(5)"
   ]
  },
  {
   "cell_type": "code",
   "execution_count": 132,
   "id": "8a8d438f-023b-47fe-96fc-8853cc45e32a",
   "metadata": {},
   "outputs": [
    {
     "data": {
      "text/plain": [
       "[1, 2, 3]"
      ]
     },
     "execution_count": 132,
     "metadata": {},
     "output_type": "execute_result"
    }
   ],
   "source": [
    "my_list"
   ]
  },
  {
   "cell_type": "code",
   "execution_count": 133,
   "id": "f30980ac-b9e7-4d44-9971-baeb8c4fe6af",
   "metadata": {},
   "outputs": [],
   "source": [
    "n = my_list.pop(2)"
   ]
  },
  {
   "cell_type": "code",
   "execution_count": 134,
   "id": "61d4e450-6962-451a-9217-f67b9d96d238",
   "metadata": {},
   "outputs": [
    {
     "data": {
      "text/plain": [
       "3"
      ]
     },
     "execution_count": 134,
     "metadata": {},
     "output_type": "execute_result"
    }
   ],
   "source": [
    "n"
   ]
  },
  {
   "cell_type": "code",
   "execution_count": 112,
   "id": "47e27b84-dc62-46b0-aebf-61ed6461b157",
   "metadata": {},
   "outputs": [
    {
     "data": {
      "text/plain": [
       "[1, 2]"
      ]
     },
     "execution_count": 112,
     "metadata": {},
     "output_type": "execute_result"
    }
   ],
   "source": [
    "my_list"
   ]
  },
  {
   "cell_type": "code",
   "execution_count": 117,
   "id": "ba85e75d-b88b-458a-a158-1595b7d512ac",
   "metadata": {},
   "outputs": [],
   "source": [
    "l = [1,2,1]\n",
    "l.remove(1)"
   ]
  },
  {
   "cell_type": "code",
   "execution_count": 118,
   "id": "bb69e9da-1a91-4c23-a203-1ebfd275769a",
   "metadata": {},
   "outputs": [
    {
     "data": {
      "text/plain": [
       "[2, 1]"
      ]
     },
     "execution_count": 118,
     "metadata": {},
     "output_type": "execute_result"
    }
   ],
   "source": [
    "l"
   ]
  },
  {
   "cell_type": "code",
   "execution_count": 119,
   "id": "dcb15ae2-79c9-4ece-8745-1f350e097625",
   "metadata": {},
   "outputs": [],
   "source": [
    "del l[0]"
   ]
  },
  {
   "cell_type": "code",
   "execution_count": 120,
   "id": "6f5e8238-c7be-41e8-8569-26604673bdcc",
   "metadata": {},
   "outputs": [
    {
     "data": {
      "text/plain": [
       "[1]"
      ]
     },
     "execution_count": 120,
     "metadata": {},
     "output_type": "execute_result"
    }
   ],
   "source": [
    "l"
   ]
  },
  {
   "cell_type": "code",
   "execution_count": 136,
   "id": "58a6668b-065f-45b7-9135-6303d55284bc",
   "metadata": {},
   "outputs": [
    {
     "data": {
      "text/plain": [
       "0"
      ]
     },
     "execution_count": 136,
     "metadata": {},
     "output_type": "execute_result"
    }
   ],
   "source": [
    "my_list.index(1)"
   ]
  },
  {
   "cell_type": "code",
   "execution_count": 137,
   "id": "a96e8326-af73-4e6a-ab8e-f67b08ba3b6b",
   "metadata": {},
   "outputs": [
    {
     "ename": "ValueError",
     "evalue": "10 is not in list",
     "output_type": "error",
     "traceback": [
      "\u001b[0;31m---------------------------------------------------------------------------\u001b[0m",
      "\u001b[0;31mValueError\u001b[0m                                Traceback (most recent call last)",
      "Cell \u001b[0;32mIn[137], line 1\u001b[0m\n\u001b[0;32m----> 1\u001b[0m \u001b[43mmy_list\u001b[49m\u001b[38;5;241;43m.\u001b[39;49m\u001b[43mindex\u001b[49m\u001b[43m(\u001b[49m\u001b[38;5;241;43m10\u001b[39;49m\u001b[43m)\u001b[49m\n",
      "\u001b[0;31mValueError\u001b[0m: 10 is not in list"
     ]
    }
   ],
   "source": [
    "my_list.index(10)"
   ]
  },
  {
   "cell_type": "code",
   "execution_count": 142,
   "id": "a2166a76-c2c1-4432-b09a-684d04ea76b3",
   "metadata": {},
   "outputs": [
    {
     "data": {
      "text/plain": [
       "[1, 2, 3, 1, 2, 3]"
      ]
     },
     "execution_count": 142,
     "metadata": {},
     "output_type": "execute_result"
    }
   ],
   "source": [
    "my_list = [1,2,3]\n",
    "\n",
    "my_list.extend([1, 2, 3])\n",
    "my_list"
   ]
  },
  {
   "cell_type": "code",
   "execution_count": 144,
   "id": "d0153a84-c7ac-4a19-bcf9-947987ac2d74",
   "metadata": {},
   "outputs": [
    {
     "data": {
      "text/plain": [
       "[1, 2, 3, [1, 2, 3]]"
      ]
     },
     "execution_count": 144,
     "metadata": {},
     "output_type": "execute_result"
    }
   ],
   "source": [
    "my_list = [1,2,3]\n",
    "\n",
    "my_list.append([1, 2, 3])\n",
    "my_list"
   ]
  },
  {
   "cell_type": "code",
   "execution_count": 145,
   "id": "73fcc900-c1b2-41ea-af52-179ec39c4efa",
   "metadata": {},
   "outputs": [],
   "source": [
    "my_list.insert(0, 'A')"
   ]
  },
  {
   "cell_type": "code",
   "execution_count": 146,
   "id": "d8d0e226-b04d-428a-9c73-6c5e50689365",
   "metadata": {},
   "outputs": [
    {
     "data": {
      "text/plain": [
       "['A', 1, 2, 3, [1, 2, 3]]"
      ]
     },
     "execution_count": 146,
     "metadata": {},
     "output_type": "execute_result"
    }
   ],
   "source": [
    "my_list"
   ]
  },
  {
   "cell_type": "code",
   "execution_count": 147,
   "id": "e191c607-1faa-4193-a736-eec29c5e31f3",
   "metadata": {},
   "outputs": [],
   "source": [
    "my_tuple = (1,2,3)\n"
   ]
  },
  {
   "cell_type": "code",
   "execution_count": 148,
   "id": "c4e1feeb-14a9-4693-9113-baf63aa472d0",
   "metadata": {},
   "outputs": [
    {
     "data": {
      "text/plain": [
       "[1, 2, 3]"
      ]
     },
     "execution_count": 148,
     "metadata": {},
     "output_type": "execute_result"
    }
   ],
   "source": [
    "list(my_tuple)"
   ]
  },
  {
   "cell_type": "code",
   "execution_count": 149,
   "id": "9d99ef60-ead9-4901-ab18-624f3641848d",
   "metadata": {},
   "outputs": [
    {
     "data": {
      "text/plain": [
       "{4}"
      ]
     },
     "execution_count": 149,
     "metadata": {},
     "output_type": "execute_result"
    }
   ],
   "source": [
    "{1, 4} - {0, 1}"
   ]
  },
  {
   "cell_type": "code",
   "execution_count": 150,
   "id": "06dd0463-f7ac-4388-a091-a97f748df324",
   "metadata": {},
   "outputs": [
    {
     "data": {
      "text/plain": [
       "{1, 2}"
      ]
     },
     "execution_count": 150,
     "metadata": {},
     "output_type": "execute_result"
    }
   ],
   "source": [
    "{1, 2, 1}"
   ]
  },
  {
   "cell_type": "code",
   "execution_count": 151,
   "id": "b5dd8ec7-e6f0-4681-bc53-d34cb09b18c7",
   "metadata": {},
   "outputs": [
    {
     "data": {
      "text/plain": [
       "{1, 2}"
      ]
     },
     "execution_count": 151,
     "metadata": {},
     "output_type": "execute_result"
    }
   ],
   "source": [
    "{1, 2, True}"
   ]
  },
  {
   "cell_type": "code",
   "execution_count": 153,
   "id": "5e4738b9-6693-450b-9f55-37a28ec64d4a",
   "metadata": {},
   "outputs": [
    {
     "data": {
      "text/plain": [
       "{1.0, 2}"
      ]
     },
     "execution_count": 153,
     "metadata": {},
     "output_type": "execute_result"
    }
   ],
   "source": [
    "{1.0, 2, 1.0, True}"
   ]
  },
  {
   "cell_type": "code",
   "execution_count": 154,
   "id": "1b4eace7-c3b8-4835-9ecc-e4deb4db532e",
   "metadata": {},
   "outputs": [
    {
     "data": {
      "text/plain": [
       "{True, 4, 5}"
      ]
     },
     "execution_count": 154,
     "metadata": {},
     "output_type": "execute_result"
    }
   ],
   "source": [
    "{4, 5, True}"
   ]
  },
  {
   "cell_type": "code",
   "execution_count": 155,
   "id": "012d7e91-8914-4636-a524-7afbee7e839d",
   "metadata": {},
   "outputs": [
    {
     "name": "stderr",
     "output_type": "stream",
     "text": [
      "<>:1: SyntaxWarning: 'set' object is not subscriptable; perhaps you missed a comma?\n",
      "<>:1: SyntaxWarning: 'set' object is not subscriptable; perhaps you missed a comma?\n",
      "/tmp/ipykernel_1217/3856829917.py:1: SyntaxWarning: 'set' object is not subscriptable; perhaps you missed a comma?\n",
      "  {4, 5, True}[0]\n"
     ]
    },
    {
     "ename": "TypeError",
     "evalue": "'set' object is not subscriptable",
     "output_type": "error",
     "traceback": [
      "\u001b[0;31m---------------------------------------------------------------------------\u001b[0m",
      "\u001b[0;31mTypeError\u001b[0m                                 Traceback (most recent call last)",
      "Cell \u001b[0;32mIn[155], line 1\u001b[0m\n\u001b[0;32m----> 1\u001b[0m \u001b[43m{\u001b[49m\u001b[38;5;241;43m4\u001b[39;49m\u001b[43m,\u001b[49m\u001b[43m \u001b[49m\u001b[38;5;241;43m5\u001b[39;49m\u001b[43m,\u001b[49m\u001b[43m \u001b[49m\u001b[38;5;28;43;01mTrue\u001b[39;49;00m\u001b[43m}\u001b[49m\u001b[43m[\u001b[49m\u001b[38;5;241;43m0\u001b[39;49m\u001b[43m]\u001b[49m\n",
      "\u001b[0;31mTypeError\u001b[0m: 'set' object is not subscriptable"
     ]
    }
   ],
   "source": [
    "{4, 5, True}[0]"
   ]
  },
  {
   "cell_type": "code",
   "execution_count": null,
   "id": "bd590fec-8724-496a-92f4-a50bef97fca9",
   "metadata": {},
   "outputs": [],
   "source": [
    "'ATCGTGCGTCGTGCNGCGTGCGTG'"
   ]
  },
  {
   "cell_type": "code",
   "execution_count": 157,
   "id": "9a5038a5-433d-434a-852a-1bae4dc6e9b5",
   "metadata": {},
   "outputs": [
    {
     "data": {
      "text/plain": [
       "False"
      ]
     },
     "execution_count": 157,
     "metadata": {},
     "output_type": "execute_result"
    }
   ],
   "source": [
    "set('ATCGTGCGTCGTGCNGCGTGCGTG') == {'A', 'T', 'G', 'C'}"
   ]
  },
  {
   "cell_type": "code",
   "execution_count": 158,
   "id": "c5b50f18-5635-4429-9b27-5d7d5dd1bfee",
   "metadata": {},
   "outputs": [
    {
     "data": {
      "text/plain": [
       "False"
      ]
     },
     "execution_count": 158,
     "metadata": {},
     "output_type": "execute_result"
    }
   ],
   "source": [
    "set('GTG') == {'A', 'T', 'G', 'C'}"
   ]
  },
  {
   "cell_type": "code",
   "execution_count": 159,
   "id": "e84622de-375d-4491-bfbe-65e2cb93d712",
   "metadata": {},
   "outputs": [
    {
     "data": {
      "text/plain": [
       "True"
      ]
     },
     "execution_count": 159,
     "metadata": {},
     "output_type": "execute_result"
    }
   ],
   "source": [
    "set('GTG') <= {'A', 'T', 'G', 'C'}"
   ]
  },
  {
   "cell_type": "code",
   "execution_count": 160,
   "id": "9bcf5442-c93b-41b5-9102-4da057e0986e",
   "metadata": {},
   "outputs": [
    {
     "data": {
      "text/plain": [
       "False"
      ]
     },
     "execution_count": 160,
     "metadata": {},
     "output_type": "execute_result"
    }
   ],
   "source": [
    "set('R') <= {'A', 'T', 'G', 'C'}"
   ]
  },
  {
   "cell_type": "code",
   "execution_count": 162,
   "id": "b6b287a1-13dc-4afb-94a9-be6374c6d713",
   "metadata": {},
   "outputs": [
    {
     "data": {
      "text/plain": [
       "{'A', 'C', 'G', 'R', 'T'}"
      ]
     },
     "execution_count": 162,
     "metadata": {},
     "output_type": "execute_result"
    }
   ],
   "source": [
    "set('R').union({'A', 'T', 'G', 'C'})"
   ]
  },
  {
   "cell_type": "code",
   "execution_count": 163,
   "id": "fe78537e-f036-4ecc-8889-166326e1385a",
   "metadata": {},
   "outputs": [
    {
     "data": {
      "text/plain": [
       "False"
      ]
     },
     "execution_count": 163,
     "metadata": {},
     "output_type": "execute_result"
    }
   ],
   "source": [
    "set('R').issubset({'A', 'T', 'G', 'C'})"
   ]
  },
  {
   "cell_type": "code",
   "execution_count": 164,
   "id": "b1d69fe9-1528-47e6-8239-91f63aedaf70",
   "metadata": {},
   "outputs": [
    {
     "data": {
      "text/plain": [
       "False"
      ]
     },
     "execution_count": 164,
     "metadata": {},
     "output_type": "execute_result"
    }
   ],
   "source": [
    "set('R').issuperset({'A', 'T', 'G', 'C'})"
   ]
  },
  {
   "cell_type": "code",
   "execution_count": 167,
   "id": "cc27f2a9-2027-4c4e-8264-6f073b479918",
   "metadata": {},
   "outputs": [
    {
     "data": {
      "text/plain": [
       "{1: 2, 'A': 'B'}"
      ]
     },
     "execution_count": 167,
     "metadata": {},
     "output_type": "execute_result"
    }
   ],
   "source": [
    "{1: 2, 'A': 'B'}"
   ]
  },
  {
   "cell_type": "code",
   "execution_count": 168,
   "id": "b7c0fae7-1737-450e-8256-24fbc6ae53c9",
   "metadata": {},
   "outputs": [
    {
     "data": {
      "text/plain": [
       "dict"
      ]
     },
     "execution_count": 168,
     "metadata": {},
     "output_type": "execute_result"
    }
   ],
   "source": [
    "type({1: 2, 'A': 'B'})"
   ]
  },
  {
   "cell_type": "code",
   "execution_count": 166,
   "id": "a6793310-ebab-4972-8653-6dfe0d543379",
   "metadata": {},
   "outputs": [
    {
     "ename": "TypeError",
     "evalue": "unhashable type: 'list'",
     "output_type": "error",
     "traceback": [
      "\u001b[0;31m---------------------------------------------------------------------------\u001b[0m",
      "\u001b[0;31mTypeError\u001b[0m                                 Traceback (most recent call last)",
      "Cell \u001b[0;32mIn[166], line 1\u001b[0m\n\u001b[0;32m----> 1\u001b[0m {\u001b[38;5;241m1\u001b[39m: \u001b[38;5;241m2\u001b[39m, [\u001b[38;5;241m1\u001b[39m, \u001b[38;5;241m2\u001b[39m]: \u001b[38;5;124m'\u001b[39m\u001b[38;5;124mB\u001b[39m\u001b[38;5;124m'\u001b[39m}\n",
      "\u001b[0;31mTypeError\u001b[0m: unhashable type: 'list'"
     ]
    }
   ],
   "source": [
    "{1: 2, [1, 2]: 'B'}"
   ]
  },
  {
   "cell_type": "code",
   "execution_count": 170,
   "id": "9ace0a7a-cc69-4b3d-b1dc-55895673ebb0",
   "metadata": {},
   "outputs": [],
   "source": [
    "my_dict = {1: 2, 'B':[1, 2]}"
   ]
  },
  {
   "cell_type": "code",
   "execution_count": 171,
   "id": "226d728f-d64e-468f-8034-070b61f358a3",
   "metadata": {},
   "outputs": [
    {
     "data": {
      "text/plain": [
       "2"
      ]
     },
     "execution_count": 171,
     "metadata": {},
     "output_type": "execute_result"
    }
   ],
   "source": [
    "my_dict[1]"
   ]
  },
  {
   "cell_type": "code",
   "execution_count": 172,
   "id": "b5008e35-c4ba-48e8-9c08-19e0598d7337",
   "metadata": {},
   "outputs": [
    {
     "data": {
      "text/plain": [
       "[1, 2]"
      ]
     },
     "execution_count": 172,
     "metadata": {},
     "output_type": "execute_result"
    }
   ],
   "source": [
    "my_dict['B']"
   ]
  },
  {
   "cell_type": "code",
   "execution_count": 173,
   "id": "b3589cf6-522d-4d14-aeb0-a481d80c86e4",
   "metadata": {},
   "outputs": [
    {
     "data": {
      "text/plain": [
       "dict_keys([1, 'B'])"
      ]
     },
     "execution_count": 173,
     "metadata": {},
     "output_type": "execute_result"
    }
   ],
   "source": [
    "my_dict.keys()"
   ]
  },
  {
   "cell_type": "code",
   "execution_count": 174,
   "id": "ed1ecbe4-7076-454e-951b-ddc800fa5315",
   "metadata": {},
   "outputs": [
    {
     "data": {
      "text/plain": [
       "dict_values([2, [1, 2]])"
      ]
     },
     "execution_count": 174,
     "metadata": {},
     "output_type": "execute_result"
    }
   ],
   "source": [
    "my_dict.values()"
   ]
  },
  {
   "cell_type": "code",
   "execution_count": 175,
   "id": "8500ab78-898a-4c15-b092-f1c3d17e27c4",
   "metadata": {},
   "outputs": [
    {
     "data": {
      "text/plain": [
       "dict_items([(1, 2), ('B', [1, 2])])"
      ]
     },
     "execution_count": 175,
     "metadata": {},
     "output_type": "execute_result"
    }
   ],
   "source": [
    "my_dict.items()"
   ]
  },
  {
   "cell_type": "code",
   "execution_count": 176,
   "id": "c9f3772d-32cb-461c-b6fd-e44a7950a86c",
   "metadata": {},
   "outputs": [
    {
     "name": "stdout",
     "output_type": "stream",
     "text": [
      "(1, 2)\n",
      "('B', [1, 2])\n"
     ]
    }
   ],
   "source": [
    "for x in my_dict.items():\n",
    "    print(x)"
   ]
  },
  {
   "cell_type": "code",
   "execution_count": 177,
   "id": "9633e8a0-9863-4407-a7c8-83ba7956a6ef",
   "metadata": {},
   "outputs": [
    {
     "data": {
      "text/plain": [
       "False"
      ]
     },
     "execution_count": 177,
     "metadata": {},
     "output_type": "execute_result"
    }
   ],
   "source": [
    "2 == True"
   ]
  },
  {
   "cell_type": "code",
   "execution_count": 178,
   "id": "54838146-5900-4ae4-9fd3-7a1e4819cef2",
   "metadata": {},
   "outputs": [
    {
     "name": "stdout",
     "output_type": "stream",
     "text": [
      "!\n"
     ]
    }
   ],
   "source": [
    "if 2:\n",
    "    print('!')"
   ]
  },
  {
   "cell_type": "code",
   "execution_count": 179,
   "id": "5cb9c52b-9b11-4e81-8ecc-7dce95a1b495",
   "metadata": {},
   "outputs": [],
   "source": [
    "if 0:\n",
    "    print('!')"
   ]
  },
  {
   "cell_type": "code",
   "execution_count": 180,
   "id": "575eb82e-4df6-42bc-9ed9-97566f17bc8e",
   "metadata": {},
   "outputs": [],
   "source": [
    "if []:\n",
    "    print('!')"
   ]
  },
  {
   "cell_type": "code",
   "execution_count": 183,
   "id": "170769de-4ceb-4bb4-9161-e3fc5494f4e7",
   "metadata": {},
   "outputs": [],
   "source": [
    "if {}:\n",
    "    print('!')"
   ]
  },
  {
   "cell_type": "code",
   "execution_count": 184,
   "id": "2eb31ea4-cebd-4079-8d93-8d3200d285af",
   "metadata": {},
   "outputs": [
    {
     "name": "stdout",
     "output_type": "stream",
     "text": [
      "!\n"
     ]
    }
   ],
   "source": [
    "if {1,2}:\n",
    "    print('!')"
   ]
  },
  {
   "cell_type": "code",
   "execution_count": 185,
   "id": "d54c2fc2-088b-4d98-b2b4-984e2b001ff4",
   "metadata": {},
   "outputs": [],
   "source": [
    "if '':\n",
    "    print('!')"
   ]
  },
  {
   "cell_type": "code",
   "execution_count": 186,
   "id": "5c9d0ab5-f5d5-43c9-8f4e-1efbae44529f",
   "metadata": {},
   "outputs": [
    {
     "name": "stdout",
     "output_type": "stream",
     "text": [
      "!\n"
     ]
    }
   ],
   "source": [
    "if {0}:\n",
    "    print('!')"
   ]
  },
  {
   "cell_type": "code",
   "execution_count": 188,
   "id": "5d4fe2f5-59d5-4783-9514-6418ff1f2ce4",
   "metadata": {},
   "outputs": [
    {
     "ename": "SyntaxError",
     "evalue": "cannot assign to comparison here. Maybe you meant '==' instead of '='? (1944119839.py, line 2)",
     "output_type": "error",
     "traceback": [
      "\u001b[0;36m  Cell \u001b[0;32mIn[188], line 2\u001b[0;36m\u001b[0m\n\u001b[0;31m    if (id == 1) = True:\u001b[0m\n\u001b[0m        ^\u001b[0m\n\u001b[0;31mSyntaxError\u001b[0m\u001b[0;31m:\u001b[0m cannot assign to comparison here. Maybe you meant '==' instead of '='?\n"
     ]
    }
   ],
   "source": [
    "id = 0\n",
    "if (id == 1) = True:\n",
    "    print(id)"
   ]
  },
  {
   "cell_type": "code",
   "execution_count": 189,
   "id": "f2cc5e6a-e06e-40f5-a4fc-9ebbf323e906",
   "metadata": {},
   "outputs": [],
   "source": [
    "id = 0\n",
    "if (id == 1) == True:\n",
    "    print(id)"
   ]
  },
  {
   "cell_type": "code",
   "execution_count": 197,
   "id": "75f6eea1-64fa-4567-8c2d-fef9d9de461b",
   "metadata": {},
   "outputs": [
    {
     "data": {
      "text/plain": [
       "False"
      ]
     },
     "execution_count": 197,
     "metadata": {},
     "output_type": "execute_result"
    }
   ],
   "source": [
    "(id == 1)"
   ]
  },
  {
   "cell_type": "code",
   "execution_count": 198,
   "id": "0eafc5f3-3b9a-427b-911b-dacc5290adc3",
   "metadata": {},
   "outputs": [],
   "source": [
    "if False == True:\n",
    "    print(id)"
   ]
  },
  {
   "cell_type": "code",
   "execution_count": 199,
   "id": "a3f337d1-c46a-48eb-bd9f-0cdce7918fe8",
   "metadata": {},
   "outputs": [],
   "source": [
    "if False:\n",
    "    print(id)"
   ]
  },
  {
   "cell_type": "code",
   "execution_count": 200,
   "id": "4145d77f-9019-4e07-ac58-05de1ecca355",
   "metadata": {},
   "outputs": [],
   "source": [
    "if id == 1:\n",
    "    print(id)"
   ]
  },
  {
   "cell_type": "code",
   "execution_count": null,
   "id": "cb15c3c3-30a2-4e46-9e5c-b04fbf7caaa1",
   "metadata": {},
   "outputs": [],
   "source": []
  },
  {
   "cell_type": "code",
   "execution_count": null,
   "id": "c9ebbd79-7a10-43cc-9b30-46855d432658",
   "metadata": {},
   "outputs": [],
   "source": []
  },
  {
   "cell_type": "code",
   "execution_count": 190,
   "id": "1a1150ea-134b-4b84-a18e-1b5ee9d87613",
   "metadata": {},
   "outputs": [
    {
     "ename": "TypeError",
     "evalue": "'int' object is not callable",
     "output_type": "error",
     "traceback": [
      "\u001b[0;31m---------------------------------------------------------------------------\u001b[0m",
      "\u001b[0;31mTypeError\u001b[0m                                 Traceback (most recent call last)",
      "Cell \u001b[0;32mIn[190], line 1\u001b[0m\n\u001b[0;32m----> 1\u001b[0m \u001b[38;5;28;43mid\u001b[39;49m\u001b[43m(\u001b[49m\u001b[38;5;241;43m1\u001b[39;49m\u001b[43m)\u001b[49m\n",
      "\u001b[0;31mTypeError\u001b[0m: 'int' object is not callable"
     ]
    }
   ],
   "source": [
    "id(1)"
   ]
  },
  {
   "cell_type": "code",
   "execution_count": 191,
   "id": "c7ed195d-1650-4ae8-8844-21a6f41d0e5d",
   "metadata": {},
   "outputs": [
    {
     "data": {
      "text/plain": [
       "0"
      ]
     },
     "execution_count": 191,
     "metadata": {},
     "output_type": "execute_result"
    }
   ],
   "source": [
    "id"
   ]
  },
  {
   "cell_type": "code",
   "execution_count": 192,
   "id": "75ad69a9-0a02-406a-96ad-8a8838558bb6",
   "metadata": {},
   "outputs": [],
   "source": [
    "id_ = 0"
   ]
  },
  {
   "cell_type": "code",
   "execution_count": 193,
   "id": "f8802f8e-a2b7-4364-beee-bd65ada26455",
   "metadata": {},
   "outputs": [],
   "source": [
    "student_id = 1"
   ]
  },
  {
   "cell_type": "code",
   "execution_count": 195,
   "id": "7317b184-21a7-4acd-a703-91b8c07facd4",
   "metadata": {},
   "outputs": [
    {
     "data": {
      "text/plain": [
       "(<function max>, <function min>)"
      ]
     },
     "execution_count": 195,
     "metadata": {},
     "output_type": "execute_result"
    }
   ],
   "source": [
    "max, min"
   ]
  },
  {
   "cell_type": "code",
   "execution_count": 196,
   "id": "8b9eca36-8d4b-4ace-afee-b595f57782b3",
   "metadata": {},
   "outputs": [],
   "source": [
    "max = 10"
   ]
  },
  {
   "cell_type": "code",
   "execution_count": null,
   "id": "53be58c9-3eeb-4c1e-8e0e-f09d3b115d4f",
   "metadata": {},
   "outputs": [],
   "source": []
  }
 ],
 "metadata": {
  "kernelspec": {
   "display_name": "python_bi",
   "language": "python",
   "name": "python_bi"
  },
  "language_info": {
   "codemirror_mode": {
    "name": "ipython",
    "version": 3
   },
   "file_extension": ".py",
   "mimetype": "text/x-python",
   "name": "python",
   "nbconvert_exporter": "python",
   "pygments_lexer": "ipython3",
   "version": "3.11.9"
  }
 },
 "nbformat": 4,
 "nbformat_minor": 5
}
