{
 "cells": [
  {
   "attachments": {},
   "cell_type": "markdown",
   "metadata": {},
   "source": [
    "##### Мораль\n",
    "\n",
    "- Регулярные выражения используют особый синтаксис\n",
    "\n",
    "- Регулярные выражения хороши для парсинга (имена файлов), валидации, модификации строк\n",
    "\n",
    "- Шаблон всегда записывается как сырая строка\n",
    "\n",
    "- **Не надо** учить значения всех мета-символов наизусть\n",
    "\n",
    "- **Надо** понимать и всегда тестировать регулярное выражение (на хороших тестах)\n",
    "\n",
    "- **Надо** понимать и всегда тестировать, что выводят функции и их методы (особенно при группировке и использовании мета-символов повтора)\n",
    "\n",
    "- Начал(а) писать регулярку - допиши! (завтра не получится)\n",
    "\n",
    "- **НЕ НАДО** парсить регулярками HTML"
   ]
  },
  {
   "attachments": {},
   "cell_type": "markdown",
   "metadata": {},
   "source": [
    "#### Сырые строки и экранирование"
   ]
  },
  {
   "attachments": {},
   "cell_type": "markdown",
   "metadata": {},
   "source": [
    "**Экранируемые символы и их функционал:**\n",
    "\n",
    "<details>\n",
    "<summary>Спойлер:</summary>\n",
    "\n",
    "| Символ   | Функция |\n",
    "|-----|------------------------------------------------------|\n",
    "| \\\\\\  | Сам символ обратного слеша (остается один символ \\) |\n",
    "| \\\\'  | Апостроф (остается один ‘)                          |\n",
    "| \\\\\"  | Кавычка (остается один символ \")                    |\n",
    "| \\n  | Новая строка (перевод строки)                       |\n",
    "| \\r  | Перенос каретки                                     |\n",
    "| \\t  | Горизонтальная табуляция                            |\n",
    "| \\u… | 16-битовый символ Юникода в 16-ричном представлении |\n",
    "| \\U… | 32-битовый символ Юникода в 32-ричном представлении |\n",
    "| \\x… | 16-ричное значение                                  |\n",
    "| \\o… | 8-ричное значение                                    |\n",
    "\n",
    "</details>\n",
    "\n",
    "(плюс немного напоминаний о строковых символах)"
   ]
  },
  {
   "cell_type": "code",
   "execution_count": 1,
   "metadata": {},
   "outputs": [
    {
     "name": "stdout",
     "output_type": "stream",
     "text": [
      "Hello,\n",
      "world\n"
     ]
    }
   ],
   "source": [
    "s = \"Hello,\\nworld\"\n",
    "print(s)"
   ]
  },
  {
   "cell_type": "code",
   "execution_count": 2,
   "metadata": {},
   "outputs": [
    {
     "name": "stdout",
     "output_type": "stream",
     "text": [
      "Hello,\\nworld\n"
     ]
    }
   ],
   "source": [
    "s = r'Hello,\\nworld'\n",
    "print(s)"
   ]
  },
  {
   "cell_type": "code",
   "execution_count": 3,
   "metadata": {},
   "outputs": [
    {
     "name": "stdout",
     "output_type": "stream",
     "text": [
      "string\ttabulation\n",
      "string\\ttabulation\n"
     ]
    }
   ],
   "source": [
    "print(\"string\\ttabulation\")\n",
    "print(r\"string\\ttabulation\")"
   ]
  },
  {
   "cell_type": "code",
   "execution_count": 4,
   "metadata": {},
   "outputs": [
    {
     "name": "stdout",
     "output_type": "stream",
     "text": [
      "Where's my cat?\n",
      "Where's my cat?\n",
      "Where\\'s my cat?\n",
      "Where's my cat?\n"
     ]
    }
   ],
   "source": [
    "print(\"Where's my cat?\")\n",
    "print('Where\\'s my cat?')\n",
    "print(r\"Where\\'s my cat?\")\n",
    "print('Where\\'s my cat?')"
   ]
  },
  {
   "cell_type": "code",
   "execution_count": 5,
   "metadata": {},
   "outputs": [
    {
     "name": "stdout",
     "output_type": "stream",
     "text": [
      "backslash: '' is shown?\n",
      "backslash: '\\' is shown?\n",
      "backslash: '\\' is shown?\n",
      "backslash: '\\' is shown?\n"
     ]
    }
   ],
   "source": [
    "print(\"backslash: '\\' is shown?\")\n",
    "print(\"backslash: '\\\\' is shown?\")\n",
    "print(\"backslash: '\\\\\\' is shown?\")\n",
    "print(\"backslash: \\'\\\\\\' is shown?\")"
   ]
  },
  {
   "cell_type": "code",
   "execution_count": 6,
   "metadata": {},
   "outputs": [
    {
     "name": "stdout",
     "output_type": "stream",
     "text": [
      "string\"\n"
     ]
    }
   ],
   "source": [
    "print(\"string\\\"\")"
   ]
  },
  {
   "cell_type": "code",
   "execution_count": 7,
   "metadata": {},
   "outputs": [
    {
     "name": "stdout",
     "output_type": "stream",
     "text": [
      "ccbbbbbbbbb\n"
     ]
    }
   ],
   "source": [
    "print(\"aaa\\rbbbbbbbbbbb\\rcc\")"
   ]
  },
  {
   "cell_type": "code",
   "execution_count": 8,
   "metadata": {},
   "outputs": [
    {
     "name": "stdout",
     "output_type": "stream",
     "text": [
      "ჰ\n"
     ]
    }
   ],
   "source": [
    "print(\"\\u10F0\")"
   ]
  },
  {
   "cell_type": "code",
   "execution_count": 9,
   "metadata": {},
   "outputs": [
    {
     "name": "stdout",
     "output_type": "stream",
     "text": [
      "ᄁ\n"
     ]
    }
   ],
   "source": [
    "print(\"\\U00001101\")"
   ]
  },
  {
   "attachments": {},
   "cell_type": "markdown",
   "metadata": {},
   "source": [
    "#### Встроенная библиотека для работы с регулярными выражениями"
   ]
  },
  {
   "cell_type": "code",
   "execution_count": 11,
   "metadata": {},
   "outputs": [],
   "source": [
    "import re"
   ]
  },
  {
   "cell_type": "code",
   "execution_count": 8,
   "metadata": {},
   "outputs": [
    {
     "name": "stdout",
     "output_type": "stream",
     "text": [
      "<function match at 0x7fb9868dcdc0>\n",
      "<function search at 0x7fb98688d3a0>\n",
      "<function findall at 0x7fb98688d5e0>\n",
      "<function sub at 0x7fb98688d430>\n"
     ]
    }
   ],
   "source": [
    "print(re.match)\n",
    "print(re.search)\n",
    "print(re.findall)\n",
    "print(re.sub)"
   ]
  },
  {
   "attachments": {},
   "cell_type": "markdown",
   "metadata": {},
   "source": [
    "**Основные функции библиотеки re**\n",
    "\n",
    "re.match(pattern, string) - подходит ли строка под шаблон (префикс)\n",
    "\n",
    "re.search(pattern, string) - поиск первой подстроки, подходящей под шаблон\n",
    "\n",
    "re.findall(pattern,  string) - поиск всех подстрок, подходящих под шаблон (непересекающихся)\n",
    "\n",
    "re.sub(pattern, replacement, string) - замена всех подстрок, подходящих под шаблон, чем-то еще"
   ]
  },
  {
   "attachments": {},
   "cell_type": "markdown",
   "metadata": {},
   "source": [
    "re.match - поиск префиксов"
   ]
  },
  {
   "cell_type": "code",
   "execution_count": 9,
   "metadata": {},
   "outputs": [
    {
     "data": {
      "text/plain": [
       "<re.Match object; span=(0, 3), match='cat'>"
      ]
     },
     "execution_count": 9,
     "metadata": {},
     "output_type": "execute_result"
    }
   ],
   "source": [
    "pattern = r\"cat\"\n",
    "s = \"cat\"\n",
    "re.match(pattern, s)"
   ]
  },
  {
   "cell_type": "code",
   "execution_count": 15,
   "metadata": {},
   "outputs": [
    {
     "name": "stdout",
     "output_type": "stream",
     "text": [
      "<re.Match object; span=(0, 3), match='edu'>\n"
     ]
    }
   ],
   "source": [
    "pattern = r\"edu\"\n",
    "s = \"education cation\"\n",
    "print(re.match(pattern, s))"
   ]
  },
  {
   "cell_type": "code",
   "execution_count": 16,
   "metadata": {},
   "outputs": [],
   "source": [
    "pattern = r\"cat\"\n",
    "s = \"education catastrophe\"\n",
    "re.match(pattern, s)"
   ]
  },
  {
   "attachments": {},
   "cell_type": "markdown",
   "metadata": {},
   "source": [
    "**Методы:**\n",
    "\n",
    "span() - удобно для слайсинга, кортеж, кортеж из start и end\n",
    "\n",
    "start()\n",
    "\n",
    "end()\n",
    "\n",
    "group() - возвращает вхождение"
   ]
  },
  {
   "cell_type": "code",
   "execution_count": 12,
   "metadata": {},
   "outputs": [
    {
     "data": {
      "text/plain": [
       "<re.Match object; span=(0, 3), match='cat'>"
      ]
     },
     "execution_count": 12,
     "metadata": {},
     "output_type": "execute_result"
    }
   ],
   "source": [
    "pattern = r\"cat\"\n",
    "s = \"catastrohe\"\n",
    "match1 = re.match(pattern, s)\n",
    "match1"
   ]
  },
  {
   "cell_type": "code",
   "execution_count": 13,
   "metadata": {},
   "outputs": [
    {
     "data": {
      "text/plain": [
       "(0, 3)"
      ]
     },
     "execution_count": 13,
     "metadata": {},
     "output_type": "execute_result"
    }
   ],
   "source": [
    "match1.span()"
   ]
  },
  {
   "cell_type": "code",
   "execution_count": 14,
   "metadata": {},
   "outputs": [
    {
     "data": {
      "text/plain": [
       "0"
      ]
     },
     "execution_count": 14,
     "metadata": {},
     "output_type": "execute_result"
    }
   ],
   "source": [
    "match1.start()"
   ]
  },
  {
   "cell_type": "code",
   "execution_count": 15,
   "metadata": {},
   "outputs": [
    {
     "data": {
      "text/plain": [
       "3"
      ]
     },
     "execution_count": 15,
     "metadata": {},
     "output_type": "execute_result"
    }
   ],
   "source": [
    "match1.end()"
   ]
  },
  {
   "cell_type": "code",
   "execution_count": 16,
   "metadata": {},
   "outputs": [
    {
     "data": {
      "text/plain": [
       "'cat'"
      ]
     },
     "execution_count": 16,
     "metadata": {},
     "output_type": "execute_result"
    }
   ],
   "source": [
    "match1.group()"
   ]
  },
  {
   "attachments": {},
   "cell_type": "markdown",
   "metadata": {},
   "source": [
    "re.search - поиск первого вхождения"
   ]
  },
  {
   "cell_type": "code",
   "execution_count": 28,
   "metadata": {},
   "outputs": [
    {
     "data": {
      "text/plain": [
       "<re.Match object; span=(3, 6), match='cat'>"
      ]
     },
     "execution_count": 28,
     "metadata": {},
     "output_type": "execute_result"
    }
   ],
   "source": [
    "pattern = r\"cat\"\n",
    "s = \"education\"\n",
    "#s = \"catastrophe\"\n",
    "#s = \"dhgsjdsdgyjcat\"\n",
    "re.search(pattern, s)"
   ]
  },
  {
   "attachments": {},
   "cell_type": "markdown",
   "metadata": {},
   "source": [
    "(но только первого)"
   ]
  },
  {
   "cell_type": "code",
   "execution_count": 29,
   "metadata": {},
   "outputs": [
    {
     "data": {
      "text/plain": [
       "<re.Match object; span=(3, 6), match='cat'>"
      ]
     },
     "execution_count": 29,
     "metadata": {},
     "output_type": "execute_result"
    }
   ],
   "source": [
    "pattern = r\"cat\"\n",
    "s = \"education of scatterplot\"\n",
    "re.search(pattern, s)"
   ]
  },
  {
   "attachments": {},
   "cell_type": "markdown",
   "metadata": {},
   "source": [
    "**Мета-символы**\n",
    "\n",
    "| - или (делит выражение на две части)\n",
    "\n",
    "[] - варианты возможных символов в конкретной позиции"
   ]
  },
  {
   "cell_type": "code",
   "execution_count": 34,
   "metadata": {},
   "outputs": [
    {
     "name": "stdout",
     "output_type": "stream",
     "text": [
      "<re.Match object; span=(0, 3), match='cat'>\n",
      "<re.Match object; span=(0, 3), match='cut'>\n",
      "<re.Match object; span=(2, 5), match='cat'>\n",
      "<re.Match object; span=(4, 7), match='cut'>\n"
     ]
    }
   ],
   "source": [
    "pattern = r\"c[au]t\"\n",
    "s_lst = [\"cat\", \"cut\", \"vacation\", \"haircut\"]\n",
    "for string in s_lst:\n",
    "    print(re.search(pattern, string))"
   ]
  },
  {
   "cell_type": "code",
   "execution_count": 17,
   "metadata": {},
   "outputs": [
    {
     "name": "stdout",
     "output_type": "stream",
     "text": [
      "<re.Match object; span=(0, 3), match='cat'>\n",
      "<re.Match object; span=(0, 3), match='cut'>\n",
      "<re.Match object; span=(2, 5), match='cat'>\n",
      "<re.Match object; span=(4, 7), match='cut'>\n"
     ]
    }
   ],
   "source": [
    "pattern = r\"cat|cut\"\n",
    "#pattern = r\"cat|vacat\"\n",
    "s_lst = [\"cat\", \"cut\", \"vacation\", \"haircut\"]\n",
    "for string in s_lst:\n",
    "    print(re.search(pattern, string))"
   ]
  },
  {
   "cell_type": "code",
   "execution_count": null,
   "metadata": {},
   "outputs": [],
   "source": []
  },
  {
   "cell_type": "code",
   "execution_count": null,
   "metadata": {},
   "outputs": [],
   "source": []
  },
  {
   "attachments": {},
   "cell_type": "markdown",
   "metadata": {},
   "source": [
    "re.findall(pattern, string) - поиск всех вхождений\n",
    "\n",
    "re.sub(pattern, replacement, string) - замена всех вхождений"
   ]
  },
  {
   "cell_type": "code",
   "execution_count": 46,
   "metadata": {},
   "outputs": [
    {
     "data": {
      "text/plain": [
       "['cat', 'cut', 'cet', 'cit', 'Cut', 'ctt']"
      ]
     },
     "execution_count": 46,
     "metadata": {},
     "output_type": "execute_result"
    }
   ],
   "source": [
    "s = \"My cat is the best cut of all. My cet is black and my neighbors' cit is white. Cut ctt goes meow\"\n",
    "pattern = r\"[Cc]\\wt\"\n",
    "re.findall(pattern, s)"
   ]
  },
  {
   "cell_type": "code",
   "execution_count": 43,
   "metadata": {},
   "outputs": [
    {
     "data": {
      "text/plain": [
       "\"My cat is the best cat of all. My cat is black and my neighbors' cat is white. cat goes meow\""
      ]
     },
     "execution_count": 43,
     "metadata": {},
     "output_type": "execute_result"
    }
   ],
   "source": [
    "re.sub(pattern, \"cat\", s)"
   ]
  },
  {
   "attachments": {},
   "cell_type": "markdown",
   "metadata": {},
   "source": [
    "re.sub не перезаписывает, а только возвращает измененную строку"
   ]
  },
  {
   "cell_type": "code",
   "execution_count": 44,
   "metadata": {},
   "outputs": [
    {
     "data": {
      "text/plain": [
       "\"My cat is the best cut of all. My cet is black and my neighbors' cit is white. Cut goes meow\""
      ]
     },
     "execution_count": 44,
     "metadata": {},
     "output_type": "execute_result"
    }
   ],
   "source": [
    "s"
   ]
  },
  {
   "attachments": {},
   "cell_type": "markdown",
   "metadata": {},
   "source": [
    "Альтернативный способ использования шаблонов - re.compile()"
   ]
  },
  {
   "cell_type": "code",
   "execution_count": 18,
   "metadata": {},
   "outputs": [],
   "source": [
    "expr = re.compile(r\"c[aeu]t\")"
   ]
  },
  {
   "cell_type": "code",
   "execution_count": 20,
   "metadata": {},
   "outputs": [
    {
     "data": {
      "text/plain": [
       "<re.Match object; span=(0, 3), match='cat'>"
      ]
     },
     "execution_count": 20,
     "metadata": {},
     "output_type": "execute_result"
    }
   ],
   "source": [
    "expr.match(\"caterpillar\")"
   ]
  },
  {
   "cell_type": "code",
   "execution_count": 48,
   "metadata": {},
   "outputs": [
    {
     "data": {
      "text/plain": [
       "<re.Match object; span=(4, 7), match='cat'>"
      ]
     },
     "execution_count": 48,
     "metadata": {},
     "output_type": "execute_result"
    }
   ],
   "source": [
    "expr.search(\"abracatabra\")"
   ]
  },
  {
   "cell_type": "code",
   "execution_count": 49,
   "metadata": {},
   "outputs": [
    {
     "data": {
      "text/plain": [
       "['cat', 'cut', 'cet']"
      ]
     },
     "execution_count": 49,
     "metadata": {},
     "output_type": "execute_result"
    }
   ],
   "source": [
    "expr.findall(\"cat cut cet\")"
   ]
  },
  {
   "cell_type": "code",
   "execution_count": 21,
   "metadata": {},
   "outputs": [
    {
     "data": {
      "text/plain": [
       "'I have a dog, I want to dog my hair'"
      ]
     },
     "execution_count": 21,
     "metadata": {},
     "output_type": "execute_result"
    }
   ],
   "source": [
    "expr.sub(\"dog\", \"I have a cat, I want to cut my hair\")"
   ]
  },
  {
   "attachments": {},
   "cell_type": "markdown",
   "metadata": {},
   "source": [
    "\n",
    "Удобно в случаях, если один шаблон используется много раз (при предыдущем типе записи компиляция происходит каждый раз при вызове функции, но на скорость заметно это влияет при сложных регулярках)"
   ]
  },
  {
   "cell_type": "code",
   "execution_count": 50,
   "metadata": {},
   "outputs": [
    {
     "name": "stdout",
     "output_type": "stream",
     "text": [
      "CPU times: user 867 µs, sys: 109 µs, total: 976 µs\n",
      "Wall time: 986 µs\n"
     ]
    }
   ],
   "source": [
    "%%time\n",
    "\n",
    "pattern = r\"Cat\"\n",
    "s = \"Cat goes meow\"\n",
    "\n",
    "for i in range(1000):\n",
    "    re.search(pattern, s)"
   ]
  },
  {
   "cell_type": "code",
   "execution_count": 51,
   "metadata": {},
   "outputs": [
    {
     "name": "stdout",
     "output_type": "stream",
     "text": [
      "CPU times: user 208 µs, sys: 27 µs, total: 235 µs\n",
      "Wall time: 239 µs\n"
     ]
    }
   ],
   "source": [
    "%%time\n",
    "\n",
    "cat = re.compile(r\"[Cc]at\")\n",
    "s = \"Cat goes meow\"\n",
    "\n",
    "for i in range(1000):\n",
    "    cat.search(s)"
   ]
  },
  {
   "attachments": {},
   "cell_type": "markdown",
   "metadata": {},
   "source": [
    "**Мета-символы** - расширение функционала паттерна, НО для использования в качестве обычных символов требуют экранирования \\:\n",
    "\n",
    "? - символ\\группа не обязательно присутствуют\n",
    "\n",
    "[] - множество подходящих символов\n",
    "\n",
    "\"-\" - задает диапазон символов (a-z A-Z a-h 0-9)\n",
    "\n",
    "[a-zA-Z] - все буквы алфавита\n",
    "\n",
    "^ - отрицание (если внутри [])\n",
    "\n",
    "\\d - [0-9] - любая цифра\n",
    "\n",
    "\\D - [^0-9] - что угодно, кроме цифры\n",
    "\n",
    "\\s - пробельный символ (любой, включая перенос строки)\n",
    "\n",
    "\\S - что угодно, кроме пробельного символа\n",
    "\n",
    "\\w - [a-zA-Z0-9_] - буквы, цифры, _\n",
    "\n",
    "\\W - [^a-zA-Z0-9_] - не буквы, цифры, _\n",
    "\n",
    ". - любой символ, кроме переноса строки"
   ]
  },
  {
   "attachments": {},
   "cell_type": "markdown",
   "metadata": {},
   "source": [
    "? - символ\\группа не обязательно присутствуют"
   ]
  },
  {
   "cell_type": "code",
   "execution_count": 54,
   "metadata": {},
   "outputs": [
    {
     "data": {
      "text/plain": [
       "<re.Match object; span=(12, 17), match='cats?'>"
      ]
     },
     "execution_count": 54,
     "metadata": {},
     "output_type": "execute_result"
    }
   ],
   "source": [
    "s = \"do you like cats?\"\n",
    "pattern = r\"cats\\?\"\n",
    "re.search(pattern, s)"
   ]
  },
  {
   "cell_type": "code",
   "execution_count": 53,
   "metadata": {},
   "outputs": [
    {
     "data": {
      "text/plain": [
       "<re.Match object; span=(12, 15), match='cat'>"
      ]
     },
     "execution_count": 53,
     "metadata": {},
     "output_type": "execute_result"
    }
   ],
   "source": [
    "s = \"do you like cat?\"\n",
    "pattern = r\"cats?\"\n",
    "re.search(pattern, s)"
   ]
  },
  {
   "cell_type": "code",
   "execution_count": 56,
   "metadata": {},
   "outputs": [
    {
     "data": {
      "text/plain": [
       "['d', 'o', 'y', 'o', 'u', 'l', 'i', 'k', 'e', 'c', 'a', 't']"
      ]
     },
     "execution_count": 56,
     "metadata": {},
     "output_type": "execute_result"
    }
   ],
   "source": [
    "s = \"do you like cat?\"\n",
    "pattern = r\"[a-zA-Z]\"\n",
    "re.findall(pattern, s)"
   ]
  },
  {
   "cell_type": "code",
   "execution_count": 58,
   "metadata": {},
   "outputs": [
    {
     "data": {
      "text/plain": [
       "\"   ?   2  3  5  ' \""
      ]
     },
     "execution_count": 58,
     "metadata": {},
     "output_type": "execute_result"
    }
   ],
   "source": [
    "s = \"do you like cats? i have 2 or 3 or 5 i don't remember\"\n",
    "pattern = r\"[^a-zA-Z]\"\n",
    "\"\".join(re.findall(pattern, s))"
   ]
  },
  {
   "cell_type": "code",
   "execution_count": 62,
   "metadata": {},
   "outputs": [
    {
     "data": {
      "text/plain": [
       "['2', '3', '5']"
      ]
     },
     "execution_count": 62,
     "metadata": {},
     "output_type": "execute_result"
    }
   ],
   "source": [
    "s = \"do you like cats? i have 2 or 3 or 5 i don't remember\"\n",
    "pattern = r\"\\d\"\n",
    "#pattern = r\"[0-9]\"\n",
    "re.findall(pattern, s)"
   ]
  },
  {
   "cell_type": "code",
   "execution_count": 63,
   "metadata": {},
   "outputs": [
    {
     "data": {
      "text/plain": [
       "\"do you like cats? i have  or  or  i don't remember\""
      ]
     },
     "execution_count": 63,
     "metadata": {},
     "output_type": "execute_result"
    }
   ],
   "source": [
    "s = \"do you like cats? i have 2 or 3 or 5 i don't remember\"\n",
    "pattern = r\"\\D\"\n",
    "#pattern = r\"[^0-9]\"\n",
    "\"\".join(re.findall(pattern, s))"
   ]
  },
  {
   "cell_type": "code",
   "execution_count": 70,
   "metadata": {},
   "outputs": [
    {
     "data": {
      "text/plain": [
       "['haveg', 'treme']"
      ]
     },
     "execution_count": 70,
     "metadata": {},
     "output_type": "execute_result"
    }
   ],
   "source": [
    "s = \"do you like cats? i haveg 2 or 3 or 5_ i don'tremember\"\n",
    "pattern = r\"\\w\\w\\w\\w\\w\"\n",
    "re.findall(pattern, s)"
   ]
  },
  {
   "cell_type": "code",
   "execution_count": 68,
   "metadata": {},
   "outputs": [
    {
     "data": {
      "text/plain": [
       "['do yo',\n",
       " 'u lik',\n",
       " 'e cat',\n",
       " 's? i ',\n",
       " 'have ',\n",
       " '2 or ',\n",
       " '3 or ',\n",
       " '5 i d',\n",
       " \"on't \",\n",
       " 'remem']"
      ]
     },
     "execution_count": 68,
     "metadata": {},
     "output_type": "execute_result"
    }
   ],
   "source": [
    "s = \"do you like cats? i have 2 or 3 or 5 i don't remember\"\n",
    "pattern = r\".....\"\n",
    "re.findall(pattern, s)"
   ]
  },
  {
   "cell_type": "code",
   "execution_count": 71,
   "metadata": {},
   "outputs": [
    {
     "data": {
      "text/plain": [
       "[' ', ' ', ' ', ' ', ' ', ' ', ' ', ' ', ' ', ' ', ' ', ' ', ' ']"
      ]
     },
     "execution_count": 71,
     "metadata": {},
     "output_type": "execute_result"
    }
   ],
   "source": [
    "s = \"do you like cats? i have 2 or 3 or 5 i don't remember\"\n",
    "pattern = r\"\\s\"\n",
    "re.findall(pattern, s)"
   ]
  },
  {
   "cell_type": "code",
   "execution_count": 77,
   "metadata": {},
   "outputs": [
    {
     "name": "stdout",
     "output_type": "stream",
     "text": [
      "do you like cats? i have 2 or 3 or 5 i don't remember\n"
     ]
    },
    {
     "data": {
      "text/plain": [
       "[' cats? ']"
      ]
     },
     "execution_count": 77,
     "metadata": {},
     "output_type": "execute_result"
    }
   ],
   "source": [
    "s = \"do you like cats? i have 2 or 3 or 5 i don't remember\"\n",
    "print(s)\n",
    "pattern = r\"\\scats\\?\\s\"\n",
    "re.findall(pattern, s)"
   ]
  },
  {
   "cell_type": "code",
   "execution_count": 73,
   "metadata": {},
   "outputs": [
    {
     "name": "stdout",
     "output_type": "stream",
     "text": [
      "do you like cats?\n",
      "i have 2 or 3 or 5 i don't remember\n"
     ]
    },
    {
     "data": {
      "text/plain": [
       "['d',\n",
       " 'o',\n",
       " 'y',\n",
       " 'o',\n",
       " 'u',\n",
       " 'l',\n",
       " 'i',\n",
       " 'k',\n",
       " 'e',\n",
       " 'c',\n",
       " 'a',\n",
       " 't',\n",
       " 's',\n",
       " '?',\n",
       " 'i',\n",
       " 'h',\n",
       " 'a',\n",
       " 'v',\n",
       " 'e',\n",
       " '2',\n",
       " 'o',\n",
       " 'r',\n",
       " '3',\n",
       " 'o',\n",
       " 'r',\n",
       " '5',\n",
       " 'i',\n",
       " 'd',\n",
       " 'o',\n",
       " 'n',\n",
       " \"'\",\n",
       " 't',\n",
       " 'r',\n",
       " 'e',\n",
       " 'm',\n",
       " 'e',\n",
       " 'm',\n",
       " 'b',\n",
       " 'e',\n",
       " 'r']"
      ]
     },
     "execution_count": 73,
     "metadata": {},
     "output_type": "execute_result"
    }
   ],
   "source": [
    "s = \"do you like cats?\\ni have 2 or 3 or 5 i don't remember\"\n",
    "print(s)\n",
    "pattern = r\"\\S\"\n",
    "re.findall(pattern, s)"
   ]
  },
  {
   "cell_type": "code",
   "execution_count": 83,
   "metadata": {},
   "outputs": [
    {
     "data": {
      "text/plain": [
       "<re.Match object; span=(0, 11), match='\\\\s\\\\s..h.[]\\\\'>"
      ]
     },
     "execution_count": 83,
     "metadata": {},
     "output_type": "execute_result"
    }
   ],
   "source": [
    "s = \"\\s\\s..h.[]\\\\\"\n",
    "pattern = r\"\\\\s\\\\s\\.\\..\\.\\[\\]\\\\\"\n",
    "re.search(pattern, s)"
   ]
  },
  {
   "cell_type": "code",
   "execution_count": 79,
   "metadata": {},
   "outputs": [
    {
     "data": {
      "text/plain": [
       "<re.Match object; span=(0, 7), match='gsts123'>"
      ]
     },
     "execution_count": 79,
     "metadata": {},
     "output_type": "execute_result"
    }
   ],
   "source": [
    "s = \"gsts123\"\n",
    "pattern = r\"[a-z][a-z][a-z][a-z]123\"\n",
    "re.match(pattern, s)"
   ]
  },
  {
   "attachments": {},
   "cell_type": "markdown",
   "metadata": {},
   "source": [
    "**Больше мета-символов**\n",
    "\n",
    "$ - конец строки\n",
    "\n",
    "^ - вне квадратных скобок (!!!!!!!) - начало строки\n",
    "\n",
    "\\b - граница слов (пустая строка)\n",
    "\n",
    "\\B - пустая строка но не на границе слов (граница между символами)"
   ]
  },
  {
   "cell_type": "code",
   "execution_count": 86,
   "metadata": {},
   "outputs": [
    {
     "data": {
      "text/plain": [
       "<re.Match object; span=(6, 11), match='kitty'>"
      ]
     },
     "execution_count": 86,
     "metadata": {},
     "output_type": "execute_result"
    }
   ],
   "source": [
    "s = \"kitty kitty\"\n",
    "pattern = r\"kitty$\"\n",
    "re.search(pattern, s)"
   ]
  },
  {
   "cell_type": "code",
   "execution_count": 87,
   "metadata": {},
   "outputs": [
    {
     "data": {
      "text/plain": [
       "<re.Match object; span=(0, 5), match='kitty'>"
      ]
     },
     "execution_count": 87,
     "metadata": {},
     "output_type": "execute_result"
    }
   ],
   "source": [
    "s = \"kitty kitty\"\n",
    "pattern = r\"^kitty\"\n",
    "re.search(pattern, s)"
   ]
  },
  {
   "cell_type": "code",
   "execution_count": 94,
   "metadata": {},
   "outputs": [
    {
     "data": {
      "text/plain": [
       "<re.Match object; span=(0, 5), match='kitty'>"
      ]
     },
     "execution_count": 94,
     "metadata": {},
     "output_type": "execute_result"
    }
   ],
   "source": [
    "s = \"kitty\"\n",
    "pattern = r\"^k.*y$\"\n",
    "re.search(pattern, s)"
   ]
  },
  {
   "cell_type": "code",
   "execution_count": 96,
   "metadata": {},
   "outputs": [
    {
     "data": {
      "text/plain": [
       "6"
      ]
     },
     "execution_count": 96,
     "metadata": {},
     "output_type": "execute_result"
    }
   ],
   "source": [
    "s = \"kitty cat kitten\"\n",
    "pattern = r\"\\b\"\n",
    "len(re.findall(pattern, s))"
   ]
  },
  {
   "cell_type": "code",
   "execution_count": 99,
   "metadata": {},
   "outputs": [
    {
     "data": {
      "text/plain": [
       "['cat', 'cat']"
      ]
     },
     "execution_count": 99,
     "metadata": {},
     "output_type": "execute_result"
    }
   ],
   "source": [
    "# Как найти только подстроку cat?\n",
    "\n",
    "s = \"caterpillar vacation tomcat cat\"\n",
    "pattern = r\"\\bcat\"\n",
    "re.findall(pattern, s)"
   ]
  },
  {
   "cell_type": "code",
   "execution_count": 101,
   "metadata": {},
   "outputs": [
    {
     "data": {
      "text/plain": [
       "['vacation']"
      ]
     },
     "execution_count": 101,
     "metadata": {},
     "output_type": "execute_result"
    }
   ],
   "source": [
    "s = \"caterpillar vacation tomcat cat\"\n",
    "pattern = r\"\\w*\\Bcat\\B\\w*\"\n",
    "re.findall(pattern, s)"
   ]
  },
  {
   "attachments": {},
   "cell_type": "markdown",
   "metadata": {},
   "source": [
    "**Число повторов символа** - используется после символа\n",
    "\n",
    "\\* - любое кол-во данного символа, включая 0 \n",
    "\n",
    "\\+ - любое кол-во данного символа, не включая 0\n",
    "\n",
    "? - 0 или 1 \n",
    "\n",
    "{} - в фигурные скобки заключается искомое кол-во повторов символа. \n",
    "\n",
    "b{5} == bbbbb \n",
    "\n",
    "b{1, 3} от 1 до 3 b (included borders)\n",
    "\n",
    "b{1,} от 1 до любого кол-ва b\n",
    "\n"
   ]
  },
  {
   "cell_type": "code",
   "execution_count": 22,
   "metadata": {},
   "outputs": [
    {
     "data": {
      "text/plain": [
       "['catt']"
      ]
     },
     "execution_count": 22,
     "metadata": {},
     "output_type": "execute_result"
    }
   ],
   "source": [
    "s = \"catt\"\n",
    "pattern = r\"cat{2}\"\n",
    "re.findall(pattern, s)"
   ]
  },
  {
   "cell_type": "code",
   "execution_count": 105,
   "metadata": {},
   "outputs": [
    {
     "data": {
      "text/plain": [
       "['b', 'bb', 'bbb']"
      ]
     },
     "execution_count": 105,
     "metadata": {},
     "output_type": "execute_result"
    }
   ],
   "source": [
    "s = \"b bb bbb\"\n",
    "pattern = r\"b+\"\n",
    "re.findall(pattern, s)"
   ]
  },
  {
   "attachments": {},
   "cell_type": "markdown",
   "metadata": {},
   "source": [
    "**Жадный алгоритм поиска** - возвращается самое длинное подходящее вхождение паттерна в строку"
   ]
  },
  {
   "cell_type": "code",
   "execution_count": 110,
   "metadata": {},
   "outputs": [
    {
     "data": {
      "text/plain": [
       "<re.Match object; span=(0, 17), match='catataaattttttaat'>"
      ]
     },
     "execution_count": 110,
     "metadata": {},
     "output_type": "execute_result"
    }
   ],
   "source": [
    "pattern = r\"c[at]+\"\n",
    "s = \"catataaattttttaat\"\n",
    "#s = \"cat\"\n",
    "re.search(pattern, s)"
   ]
  },
  {
   "cell_type": "code",
   "execution_count": 114,
   "metadata": {},
   "outputs": [
    {
     "data": {
      "text/plain": [
       "<re.Match object; span=(0, 2), match='ca'>"
      ]
     },
     "execution_count": 114,
     "metadata": {},
     "output_type": "execute_result"
    }
   ],
   "source": [
    "pattern = r\"c[at]+?\"\n",
    "s = \"catataaattttttaat\"\n",
    "#s = \"cat\"\n",
    "re.search(pattern, s)"
   ]
  },
  {
   "attachments": {},
   "cell_type": "markdown",
   "metadata": {},
   "source": [
    "**Как сделать алгоритм поиска не жадным (ленивым)**, то есть чтобы вернулось самое короткое вхождение паттерна в строку?\n",
    "\n",
    "(поставить ? после мета-символа, отвечающего за количество)"
   ]
  },
  {
   "cell_type": "code",
   "execution_count": 42,
   "metadata": {},
   "outputs": [],
   "source": [
    "pattern = r\"c[at]*t\"\n",
    "#pattern = r\"c[at]*?t\"\n",
    "s = \"catatat\"\n",
    "re.search(pattern, s)"
   ]
  },
  {
   "cell_type": "code",
   "execution_count": 23,
   "metadata": {},
   "outputs": [
    {
     "data": {
      "text/plain": [
       "<re.Match object; span=(0, 9), match='catdogcat'>"
      ]
     },
     "execution_count": 23,
     "metadata": {},
     "output_type": "execute_result"
    }
   ],
   "source": [
    "text = \"catdogcat\"\n",
    "pattern = r\"c[a-z]+t\"\n",
    "#pattern = r\"c[a-z]+?t\"\n",
    "re.search(pattern, text)"
   ]
  },
  {
   "attachments": {},
   "cell_type": "markdown",
   "metadata": {},
   "source": [
    "Использование мета-символов, определяющих жадность или ленивость поиска в выражениях с заданным числом повторов от a (нижняя граница **включительно**) до b (верхняя граница **включительно**)\n",
    "\n",
    "{a,b}?  ленивый поиск (меньшая подстрока)\n",
    "\n",
    "{a,b} \"адекватно жадный\" поиск\n",
    "\n",
    "{a,b}+ очень-очень-очень жадный поиск (лично я в этой конструкции вообще не вижу смысл, советую избегать)"
   ]
  },
  {
   "cell_type": "code",
   "execution_count": 24,
   "metadata": {},
   "outputs": [
    {
     "data": {
      "text/plain": [
       "<re.Match object; span=(0, 4), match='roar'>"
      ]
     },
     "execution_count": 24,
     "metadata": {},
     "output_type": "execute_result"
    }
   ],
   "source": [
    "pattern = r\"roar{1,}?\"\n",
    "s = \"roarrrrrrr\"\n",
    "re.match(pattern, s)"
   ]
  },
  {
   "cell_type": "code",
   "execution_count": 25,
   "metadata": {},
   "outputs": [
    {
     "data": {
      "text/plain": [
       "<re.Match object; span=(0, 10), match='roarrrrrrr'>"
      ]
     },
     "execution_count": 25,
     "metadata": {},
     "output_type": "execute_result"
    }
   ],
   "source": [
    "pattern = r\"roar{1,}\"\n",
    "s = \"roarrrrrrr\"\n",
    "re.match(pattern, s)"
   ]
  },
  {
   "attachments": {},
   "cell_type": "markdown",
   "metadata": {},
   "source": [
    "В следующих трех ячейках советую попробовать разобраться, только если очень хочется, это уже кроличья нора"
   ]
  },
  {
   "cell_type": "code",
   "execution_count": 26,
   "metadata": {},
   "outputs": [
    {
     "data": {
      "text/plain": [
       "6"
      ]
     },
     "execution_count": 26,
     "metadata": {},
     "output_type": "execute_result"
    }
   ],
   "source": [
    "pattern = r\"a{3,5}aa\"\n",
    "s = \"aaaaaa\"\n",
    "len(re.match(pattern, s).group())"
   ]
  },
  {
   "cell_type": "code",
   "execution_count": 27,
   "metadata": {},
   "outputs": [
    {
     "data": {
      "text/plain": [
       "5"
      ]
     },
     "execution_count": 27,
     "metadata": {},
     "output_type": "execute_result"
    }
   ],
   "source": [
    "pattern = r\"a{3,5}?aa\"\n",
    "s = \"aaaaaa\"\n",
    "len(re.match(pattern, s).group())"
   ]
  },
  {
   "cell_type": "code",
   "execution_count": 29,
   "metadata": {},
   "outputs": [
    {
     "ename": "error",
     "evalue": "multiple repeat at position 6",
     "output_type": "error",
     "traceback": [
      "\u001b[0;31m---------------------------------------------------------------------------\u001b[0m",
      "\u001b[0;31merror\u001b[0m                                     Traceback (most recent call last)",
      "Cell \u001b[0;32mIn[29], line 4\u001b[0m\n\u001b[1;32m      2\u001b[0m pattern \u001b[39m=\u001b[39m \u001b[39mr\u001b[39m\u001b[39m\"\u001b[39m\u001b[39ma\u001b[39m\u001b[39m{\u001b[39m\u001b[39m3,5}+aa\u001b[39m\u001b[39m\"\u001b[39m\n\u001b[1;32m      3\u001b[0m s \u001b[39m=\u001b[39m \u001b[39m\"\u001b[39m\u001b[39maaaaaa\u001b[39m\u001b[39m\"\u001b[39m\n\u001b[0;32m----> 4\u001b[0m re\u001b[39m.\u001b[39;49mmatch(pattern, s)\n",
      "File \u001b[0;32m~/anaconda3/lib/python3.9/re.py:191\u001b[0m, in \u001b[0;36mmatch\u001b[0;34m(pattern, string, flags)\u001b[0m\n\u001b[1;32m    188\u001b[0m \u001b[39mdef\u001b[39;00m \u001b[39mmatch\u001b[39m(pattern, string, flags\u001b[39m=\u001b[39m\u001b[39m0\u001b[39m):\n\u001b[1;32m    189\u001b[0m \u001b[39m    \u001b[39m\u001b[39m\"\"\"Try to apply the pattern at the start of the string, returning\u001b[39;00m\n\u001b[1;32m    190\u001b[0m \u001b[39m    a Match object, or None if no match was found.\"\"\"\u001b[39;00m\n\u001b[0;32m--> 191\u001b[0m     \u001b[39mreturn\u001b[39;00m _compile(pattern, flags)\u001b[39m.\u001b[39mmatch(string)\n",
      "File \u001b[0;32m~/anaconda3/lib/python3.9/re.py:304\u001b[0m, in \u001b[0;36m_compile\u001b[0;34m(pattern, flags)\u001b[0m\n\u001b[1;32m    302\u001b[0m \u001b[39mif\u001b[39;00m \u001b[39mnot\u001b[39;00m sre_compile\u001b[39m.\u001b[39misstring(pattern):\n\u001b[1;32m    303\u001b[0m     \u001b[39mraise\u001b[39;00m \u001b[39mTypeError\u001b[39;00m(\u001b[39m\"\u001b[39m\u001b[39mfirst argument must be string or compiled pattern\u001b[39m\u001b[39m\"\u001b[39m)\n\u001b[0;32m--> 304\u001b[0m p \u001b[39m=\u001b[39m sre_compile\u001b[39m.\u001b[39;49mcompile(pattern, flags)\n\u001b[1;32m    305\u001b[0m \u001b[39mif\u001b[39;00m \u001b[39mnot\u001b[39;00m (flags \u001b[39m&\u001b[39m DEBUG):\n\u001b[1;32m    306\u001b[0m     \u001b[39mif\u001b[39;00m \u001b[39mlen\u001b[39m(_cache) \u001b[39m>\u001b[39m\u001b[39m=\u001b[39m _MAXCACHE:\n\u001b[1;32m    307\u001b[0m         \u001b[39m# Drop the oldest item\u001b[39;00m\n",
      "File \u001b[0;32m~/anaconda3/lib/python3.9/sre_compile.py:788\u001b[0m, in \u001b[0;36mcompile\u001b[0;34m(p, flags)\u001b[0m\n\u001b[1;32m    786\u001b[0m \u001b[39mif\u001b[39;00m isstring(p):\n\u001b[1;32m    787\u001b[0m     pattern \u001b[39m=\u001b[39m p\n\u001b[0;32m--> 788\u001b[0m     p \u001b[39m=\u001b[39m sre_parse\u001b[39m.\u001b[39;49mparse(p, flags)\n\u001b[1;32m    789\u001b[0m \u001b[39melse\u001b[39;00m:\n\u001b[1;32m    790\u001b[0m     pattern \u001b[39m=\u001b[39m \u001b[39mNone\u001b[39;00m\n",
      "File \u001b[0;32m~/anaconda3/lib/python3.9/sre_parse.py:955\u001b[0m, in \u001b[0;36mparse\u001b[0;34m(str, flags, state)\u001b[0m\n\u001b[1;32m    952\u001b[0m state\u001b[39m.\u001b[39mstr \u001b[39m=\u001b[39m \u001b[39mstr\u001b[39m\n\u001b[1;32m    954\u001b[0m \u001b[39mtry\u001b[39;00m:\n\u001b[0;32m--> 955\u001b[0m     p \u001b[39m=\u001b[39m _parse_sub(source, state, flags \u001b[39m&\u001b[39;49m SRE_FLAG_VERBOSE, \u001b[39m0\u001b[39;49m)\n\u001b[1;32m    956\u001b[0m \u001b[39mexcept\u001b[39;00m Verbose:\n\u001b[1;32m    957\u001b[0m     \u001b[39m# the VERBOSE flag was switched on inside the pattern.  to be\u001b[39;00m\n\u001b[1;32m    958\u001b[0m     \u001b[39m# on the safe side, we'll parse the whole thing again...\u001b[39;00m\n\u001b[1;32m    959\u001b[0m     state \u001b[39m=\u001b[39m State()\n",
      "File \u001b[0;32m~/anaconda3/lib/python3.9/sre_parse.py:444\u001b[0m, in \u001b[0;36m_parse_sub\u001b[0;34m(source, state, verbose, nested)\u001b[0m\n\u001b[1;32m    442\u001b[0m start \u001b[39m=\u001b[39m source\u001b[39m.\u001b[39mtell()\n\u001b[1;32m    443\u001b[0m \u001b[39mwhile\u001b[39;00m \u001b[39mTrue\u001b[39;00m:\n\u001b[0;32m--> 444\u001b[0m     itemsappend(_parse(source, state, verbose, nested \u001b[39m+\u001b[39;49m \u001b[39m1\u001b[39;49m,\n\u001b[1;32m    445\u001b[0m                        \u001b[39mnot\u001b[39;49;00m nested \u001b[39mand\u001b[39;49;00m \u001b[39mnot\u001b[39;49;00m items))\n\u001b[1;32m    446\u001b[0m     \u001b[39mif\u001b[39;00m \u001b[39mnot\u001b[39;00m sourcematch(\u001b[39m\"\u001b[39m\u001b[39m|\u001b[39m\u001b[39m\"\u001b[39m):\n\u001b[1;32m    447\u001b[0m         \u001b[39mbreak\u001b[39;00m\n",
      "File \u001b[0;32m~/anaconda3/lib/python3.9/sre_parse.py:672\u001b[0m, in \u001b[0;36m_parse\u001b[0;34m(source, state, verbose, nested, first)\u001b[0m\n\u001b[1;32m    669\u001b[0m     \u001b[39mraise\u001b[39;00m source\u001b[39m.\u001b[39merror(\u001b[39m\"\u001b[39m\u001b[39mnothing to repeat\u001b[39m\u001b[39m\"\u001b[39m,\n\u001b[1;32m    670\u001b[0m                        source\u001b[39m.\u001b[39mtell() \u001b[39m-\u001b[39m here \u001b[39m+\u001b[39m \u001b[39mlen\u001b[39m(this))\n\u001b[1;32m    671\u001b[0m \u001b[39mif\u001b[39;00m item[\u001b[39m0\u001b[39m][\u001b[39m0\u001b[39m] \u001b[39min\u001b[39;00m _REPEATCODES:\n\u001b[0;32m--> 672\u001b[0m     \u001b[39mraise\u001b[39;00m source\u001b[39m.\u001b[39merror(\u001b[39m\"\u001b[39m\u001b[39mmultiple repeat\u001b[39m\u001b[39m\"\u001b[39m,\n\u001b[1;32m    673\u001b[0m                        source\u001b[39m.\u001b[39mtell() \u001b[39m-\u001b[39m here \u001b[39m+\u001b[39m \u001b[39mlen\u001b[39m(this))\n\u001b[1;32m    674\u001b[0m \u001b[39mif\u001b[39;00m item[\u001b[39m0\u001b[39m][\u001b[39m0\u001b[39m] \u001b[39mis\u001b[39;00m SUBPATTERN:\n\u001b[1;32m    675\u001b[0m     group, add_flags, del_flags, p \u001b[39m=\u001b[39m item[\u001b[39m0\u001b[39m][\u001b[39m1\u001b[39m]\n",
      "\u001b[0;31merror\u001b[0m: multiple repeat at position 6"
     ]
    }
   ],
   "source": [
    "# Суть разобраться тут заключается в ответе на вопрос, почему тут все падает\n",
    "pattern = r\"a{3,5}+aa\"\n",
    "s = \"aaaaaa\"\n",
    "re.match(pattern, s)"
   ]
  },
  {
   "attachments": {},
   "cell_type": "markdown",
   "metadata": {},
   "source": [
    "**Группировка символов**\n",
    "\n",
    "Метасимвол () - выделяют группу, номера групп соответствуют порядку открывающих скобок\n",
    "\n",
    "Метасимвол | - или внутри группы\n",
    "\n",
    "Метод .groups() - выводит кортеж из найденных подстрок согласно группам: какая группа что нашла"
   ]
  },
  {
   "cell_type": "code",
   "execution_count": 33,
   "metadata": {},
   "outputs": [
    {
     "name": "stdout",
     "output_type": "stream",
     "text": [
      "<re.Match object; span=(0, 3), match='cat'>\n",
      "['cat', 'cat', 'cat']\n"
     ]
    }
   ],
   "source": [
    "# Использовать группы без символов повторений практически ничего не изменит\n",
    "\n",
    "\n",
    "s = \"caterpillar catcat\"\n",
    "pattern = r\"(cat)\"\n",
    "print(re.search(pattern, s))\n",
    "print(re.findall(pattern, s))"
   ]
  },
  {
   "cell_type": "code",
   "execution_count": 32,
   "metadata": {},
   "outputs": [
    {
     "name": "stdout",
     "output_type": "stream",
     "text": [
      "<re.Match object; span=(16, 22), match='catcat'>\n",
      "('cat',)\n",
      "['cat', 'cat']\n"
     ]
    }
   ],
   "source": [
    "# Кроличья нора\n",
    "# А вот это тот пример, когда начинает становиться понятно,\n",
    "# что при использовании групп findall начинает себя немного \"странно\" вести,\n",
    "# (на самом деле все ок) потому, что выдал нам не совпадение catcat,\n",
    "# которое мы искали, а просто cat - потому что его мы сделали группой\n",
    "# Упс. \n",
    "\n",
    "s = \"caterpillar cat catcat catcatcat\"\n",
    "pattern = r\"(cat){2}\"\n",
    "print(re.search(pattern, s))\n",
    "print(re.search(pattern, s).groups())\n",
    "print(re.findall(pattern, s))"
   ]
  },
  {
   "attachments": {},
   "cell_type": "markdown",
   "metadata": {},
   "source": [
    "Без использования групп | делит выражение на две части"
   ]
  },
  {
   "attachments": {},
   "cell_type": "markdown",
   "metadata": {},
   "source": [
    "**При использовании групп поведение некоторых методов меняется**\n",
    "\n",
    "Номера групп соответствуют порядку первых открывающих скобок \n",
    "\n",
    "match().group(), search().group() - вернет найденное вхождение\n",
    "\n",
    "match().groups(), search().groups() - вернет кортеж с обнаруженным вхождением для каждой из групп по порядку\n",
    "\n",
    "findall() - для каждого обнаруженного совпадения в строке вернет кортеж с обнаруженным вхождением для каждой из групп"
   ]
  },
  {
   "attachments": {},
   "cell_type": "markdown",
   "metadata": {},
   "source": [
    "Следующие три ячейки - тоже углубление в вывод методов при использовании группировки. Можете поразбираться, разкомментить строки, сравнить выводы.\n",
    "\n",
    "Или признать, что если используете группировку, то тестировать вывод и на практике делать такую регулярку, которая выводит именно то, что вам нужно."
   ]
  },
  {
   "cell_type": "code",
   "execution_count": 35,
   "metadata": {},
   "outputs": [
    {
     "name": "stdout",
     "output_type": "stream",
     "text": [
      "<re.Match object; span=(0, 3), match='cat'>\n",
      "()\n",
      "['cat', 'kitty']\n"
     ]
    }
   ],
   "source": [
    "s = \"catkitty\"\n",
    "#s = \"kittycat\"\n",
    "pattern = r\"cat|kitty\"\n",
    "print(re.search(pattern, s))\n",
    "print(re.search(pattern, s).groups())\n",
    "print(re.findall(pattern, s))"
   ]
  },
  {
   "cell_type": "code",
   "execution_count": 36,
   "metadata": {},
   "outputs": [
    {
     "name": "stdout",
     "output_type": "stream",
     "text": [
      "<re.Match object; span=(0, 3), match='cat'>\n",
      "('cat',)\n",
      "['cat', 'kitty']\n"
     ]
    }
   ],
   "source": [
    "s = \"catkitty\"\n",
    "#s = \"kittycat\"\n",
    "pattern = r\"(cat|kitty)\"\n",
    "print(re.search(pattern, s))\n",
    "print(re.search(pattern, s).groups()) # вернется первое обнаруженное вхождение!\n",
    "print(re.findall(pattern, s))"
   ]
  },
  {
   "cell_type": "code",
   "execution_count": 38,
   "metadata": {},
   "outputs": [
    {
     "name": "stdout",
     "output_type": "stream",
     "text": [
      "<re.Match object; span=(0, 8), match='catkitty'>\n",
      "('kitty',)\n",
      "['kitty']\n"
     ]
    }
   ],
   "source": [
    "# surprise - если используем символ повторения, то запомнится последнее вхождение\n",
    "\n",
    "s = \"catkitty\"\n",
    "#s = \"kittycat\"\n",
    "pattern = r\"(cat|kitty)+\"\n",
    "print(re.search(pattern, s))\n",
    "print(re.search(pattern, s).groups()) # вернется первое обнаруженное вхождение!\n",
    "print(re.findall(pattern, s))"
   ]
  },
  {
   "cell_type": "code",
   "execution_count": null,
   "metadata": {},
   "outputs": [],
   "source": [
    "# Чтобы расслабиться - написать регулярку, чтобы в каждую группу поместилась\n",
    "# каждая отдельная часть имени\n",
    "\n",
    "s = \"Lana Del Rey\" \n",
    "pattern = r\"\"\n",
    "re.search(pattern, s)"
   ]
  },
  {
   "attachments": {},
   "cell_type": "markdown",
   "metadata": {},
   "source": [
    "Внимательнее с * и пустыми строками!"
   ]
  },
  {
   "cell_type": "code",
   "execution_count": 86,
   "metadata": {},
   "outputs": [],
   "source": [
    "s = \"GCGTATATAGCGAT\"\n",
    "pattern = r\"\"\n"
   ]
  },
  {
   "attachments": {},
   "cell_type": "markdown",
   "metadata": {},
   "source": [
    "При группировке нужно тестировать и понимать, что возвращает каждая из функций.\n",
    "\n",
    "<details>\n",
    "<summary>Напоминание: </summary>\n",
    "\n",
    "re.search(pattern, string) - первое вхождение (все как мы любим)\n",
    "\n",
    "re.search(pattern, string).groups() - кортеж из того, в какие группы попало, а в какие не попало первое вхождение\n",
    "\n",
    "re.findall(pattern, string) - лист, соответствующий количеству вхождений, из кортежей длиной кол-ва групп\n",
    "\n",
    "</details>\n",
    "\n",
    "(пример ниже может быть немного сложным, это так, интерености поведения группировки)"
   ]
  },
  {
   "cell_type": "code",
   "execution_count": 42,
   "metadata": {},
   "outputs": [
    {
     "name": "stdout",
     "output_type": "stream",
     "text": [
      "<re.Match object; span=(0, 3), match='cat'>\n",
      "('cat', None)\n",
      "[('cat', ''), ('dog', 'dog')]\n"
     ]
    }
   ],
   "source": [
    "s = \"catdog\"\n",
    "pattern = r\"(cat|(dog|fish))\"\n",
    "print(re.search(pattern, s))\n",
    "print(re.search(pattern, s).groups())\n",
    "print(re.findall(pattern, s))"
   ]
  },
  {
   "cell_type": "code",
   "execution_count": 44,
   "metadata": {},
   "outputs": [
    {
     "name": "stdout",
     "output_type": "stream",
     "text": [
      "<re.Match object; span=(0, 3), match='cat'>\n",
      "('cat', 'cat', None)\n",
      "[('cat', 'cat', ''), ('dog', '', 'dog')]\n"
     ]
    }
   ],
   "source": [
    "s = \"catdog\"\n",
    "pattern = r\"((cat)|(dog|fish))\"\n",
    "print(re.search(pattern, s))\n",
    "print(re.search(pattern, s).groups())\n",
    "print(re.findall(pattern, s))"
   ]
  },
  {
   "attachments": {},
   "cell_type": "markdown",
   "metadata": {},
   "source": [
    "**Использование номеров групп**\n",
    "\n",
    "Группы нумеруются согласно очередности открывающих скобок"
   ]
  },
  {
   "cell_type": "code",
   "execution_count": 49,
   "metadata": {},
   "outputs": [
    {
     "data": {
      "text/plain": [
       "'Margot wow Robbie, Ryan wow Gosling, America wow Ferrera'"
      ]
     },
     "execution_count": 49,
     "metadata": {},
     "output_type": "execute_result"
    }
   ],
   "source": [
    "s = \"Margot Robbie, Ryan Gosling, America Ferrera\"\n",
    "pattern = r\"((\\w+) (\\w+))\"\n",
    "re.sub(pattern, r\"\\2 wow \\3\", s)"
   ]
  },
  {
   "cell_type": "code",
   "execution_count": 46,
   "metadata": {},
   "outputs": [
    {
     "name": "stdout",
     "output_type": "stream",
     "text": [
      "Surname: Robbie, Surname: Gosling, Surname: Ferrera\n",
      "Name: Margot, Name: Ryan, Name: America\n",
      "Name, Surname: Margot Robbie, Name, Surname: Ryan Gosling, Name, Surname: America Ferrera\n"
     ]
    }
   ],
   "source": [
    "print(re.sub(pattern, r\"Surname: \\3\", s))\n",
    "print(re.sub(pattern, r\"Name: \\2\", s))\n",
    "print(re.sub(pattern, r\"Name, Surname: \\1\", s))"
   ]
  },
  {
   "attachments": {},
   "cell_type": "markdown",
   "metadata": {},
   "source": [
    "Группы можно использовать и внутри регулярного выражения"
   ]
  },
  {
   "cell_type": "code",
   "execution_count": 50,
   "metadata": {},
   "outputs": [
    {
     "name": "stdout",
     "output_type": "stream",
     "text": [
      "<re.Match object; span=(3, 10), match='bon-bon'>\n",
      "Le bon\n"
     ]
    }
   ],
   "source": [
    "s = \"Le bon-bon\"\n",
    "pattern = r\"(\\w+)-\\1\"\n",
    "print(re.search(pattern, s))\n",
    "print(re.sub(pattern, r\"\\1\", s))"
   ]
  },
  {
   "cell_type": "code",
   "execution_count": 52,
   "metadata": {},
   "outputs": [
    {
     "ename": "error",
     "evalue": "cannot refer to an open group at position 7",
     "output_type": "error",
     "traceback": [
      "\u001b[0;31m---------------------------------------------------------------------------\u001b[0m",
      "\u001b[0;31merror\u001b[0m                                     Traceback (most recent call last)",
      "Cell \u001b[0;32mIn[52], line 4\u001b[0m\n\u001b[1;32m      2\u001b[0m s \u001b[39m=\u001b[39m \u001b[39m\"\u001b[39m\u001b[39mLe bon-bon\u001b[39m\u001b[39m\"\u001b[39m\n\u001b[1;32m      3\u001b[0m pattern \u001b[39m=\u001b[39m \u001b[39mr\u001b[39m\u001b[39m\"\u001b[39m\u001b[39m((\u001b[39m\u001b[39m\\\u001b[39m\u001b[39mw+)-\u001b[39m\u001b[39m\\\u001b[39m\u001b[39m1)\u001b[39m\u001b[39m\"\u001b[39m\n\u001b[0;32m----> 4\u001b[0m \u001b[39mprint\u001b[39m(re\u001b[39m.\u001b[39;49msearch(pattern, s))\n\u001b[1;32m      5\u001b[0m \u001b[39mprint\u001b[39m(re\u001b[39m.\u001b[39msub(pattern, \u001b[39mr\u001b[39m\u001b[39m\"\u001b[39m\u001b[39m\\\u001b[39m\u001b[39m1\u001b[39m\u001b[39m\"\u001b[39m, s))\n",
      "File \u001b[0;32m~/anaconda3/lib/python3.9/re.py:201\u001b[0m, in \u001b[0;36msearch\u001b[0;34m(pattern, string, flags)\u001b[0m\n\u001b[1;32m    198\u001b[0m \u001b[39mdef\u001b[39;00m \u001b[39msearch\u001b[39m(pattern, string, flags\u001b[39m=\u001b[39m\u001b[39m0\u001b[39m):\n\u001b[1;32m    199\u001b[0m \u001b[39m    \u001b[39m\u001b[39m\"\"\"Scan through string looking for a match to the pattern, returning\u001b[39;00m\n\u001b[1;32m    200\u001b[0m \u001b[39m    a Match object, or None if no match was found.\"\"\"\u001b[39;00m\n\u001b[0;32m--> 201\u001b[0m     \u001b[39mreturn\u001b[39;00m _compile(pattern, flags)\u001b[39m.\u001b[39msearch(string)\n",
      "File \u001b[0;32m~/anaconda3/lib/python3.9/re.py:304\u001b[0m, in \u001b[0;36m_compile\u001b[0;34m(pattern, flags)\u001b[0m\n\u001b[1;32m    302\u001b[0m \u001b[39mif\u001b[39;00m \u001b[39mnot\u001b[39;00m sre_compile\u001b[39m.\u001b[39misstring(pattern):\n\u001b[1;32m    303\u001b[0m     \u001b[39mraise\u001b[39;00m \u001b[39mTypeError\u001b[39;00m(\u001b[39m\"\u001b[39m\u001b[39mfirst argument must be string or compiled pattern\u001b[39m\u001b[39m\"\u001b[39m)\n\u001b[0;32m--> 304\u001b[0m p \u001b[39m=\u001b[39m sre_compile\u001b[39m.\u001b[39;49mcompile(pattern, flags)\n\u001b[1;32m    305\u001b[0m \u001b[39mif\u001b[39;00m \u001b[39mnot\u001b[39;00m (flags \u001b[39m&\u001b[39m DEBUG):\n\u001b[1;32m    306\u001b[0m     \u001b[39mif\u001b[39;00m \u001b[39mlen\u001b[39m(_cache) \u001b[39m>\u001b[39m\u001b[39m=\u001b[39m _MAXCACHE:\n\u001b[1;32m    307\u001b[0m         \u001b[39m# Drop the oldest item\u001b[39;00m\n",
      "File \u001b[0;32m~/anaconda3/lib/python3.9/sre_compile.py:788\u001b[0m, in \u001b[0;36mcompile\u001b[0;34m(p, flags)\u001b[0m\n\u001b[1;32m    786\u001b[0m \u001b[39mif\u001b[39;00m isstring(p):\n\u001b[1;32m    787\u001b[0m     pattern \u001b[39m=\u001b[39m p\n\u001b[0;32m--> 788\u001b[0m     p \u001b[39m=\u001b[39m sre_parse\u001b[39m.\u001b[39;49mparse(p, flags)\n\u001b[1;32m    789\u001b[0m \u001b[39melse\u001b[39;00m:\n\u001b[1;32m    790\u001b[0m     pattern \u001b[39m=\u001b[39m \u001b[39mNone\u001b[39;00m\n",
      "File \u001b[0;32m~/anaconda3/lib/python3.9/sre_parse.py:955\u001b[0m, in \u001b[0;36mparse\u001b[0;34m(str, flags, state)\u001b[0m\n\u001b[1;32m    952\u001b[0m state\u001b[39m.\u001b[39mstr \u001b[39m=\u001b[39m \u001b[39mstr\u001b[39m\n\u001b[1;32m    954\u001b[0m \u001b[39mtry\u001b[39;00m:\n\u001b[0;32m--> 955\u001b[0m     p \u001b[39m=\u001b[39m _parse_sub(source, state, flags \u001b[39m&\u001b[39;49m SRE_FLAG_VERBOSE, \u001b[39m0\u001b[39;49m)\n\u001b[1;32m    956\u001b[0m \u001b[39mexcept\u001b[39;00m Verbose:\n\u001b[1;32m    957\u001b[0m     \u001b[39m# the VERBOSE flag was switched on inside the pattern.  to be\u001b[39;00m\n\u001b[1;32m    958\u001b[0m     \u001b[39m# on the safe side, we'll parse the whole thing again...\u001b[39;00m\n\u001b[1;32m    959\u001b[0m     state \u001b[39m=\u001b[39m State()\n",
      "File \u001b[0;32m~/anaconda3/lib/python3.9/sre_parse.py:444\u001b[0m, in \u001b[0;36m_parse_sub\u001b[0;34m(source, state, verbose, nested)\u001b[0m\n\u001b[1;32m    442\u001b[0m start \u001b[39m=\u001b[39m source\u001b[39m.\u001b[39mtell()\n\u001b[1;32m    443\u001b[0m \u001b[39mwhile\u001b[39;00m \u001b[39mTrue\u001b[39;00m:\n\u001b[0;32m--> 444\u001b[0m     itemsappend(_parse(source, state, verbose, nested \u001b[39m+\u001b[39;49m \u001b[39m1\u001b[39;49m,\n\u001b[1;32m    445\u001b[0m                        \u001b[39mnot\u001b[39;49;00m nested \u001b[39mand\u001b[39;49;00m \u001b[39mnot\u001b[39;49;00m items))\n\u001b[1;32m    446\u001b[0m     \u001b[39mif\u001b[39;00m \u001b[39mnot\u001b[39;00m sourcematch(\u001b[39m\"\u001b[39m\u001b[39m|\u001b[39m\u001b[39m\"\u001b[39m):\n\u001b[1;32m    447\u001b[0m         \u001b[39mbreak\u001b[39;00m\n",
      "File \u001b[0;32m~/anaconda3/lib/python3.9/sre_parse.py:841\u001b[0m, in \u001b[0;36m_parse\u001b[0;34m(source, state, verbose, nested, first)\u001b[0m\n\u001b[1;32m    838\u001b[0m         \u001b[39mraise\u001b[39;00m source\u001b[39m.\u001b[39merror(err\u001b[39m.\u001b[39mmsg, \u001b[39mlen\u001b[39m(name) \u001b[39m+\u001b[39m \u001b[39m1\u001b[39m) \u001b[39mfrom\u001b[39;00m \u001b[39mNone\u001b[39;00m\n\u001b[1;32m    839\u001b[0m sub_verbose \u001b[39m=\u001b[39m ((verbose \u001b[39mor\u001b[39;00m (add_flags \u001b[39m&\u001b[39m SRE_FLAG_VERBOSE)) \u001b[39mand\u001b[39;00m\n\u001b[1;32m    840\u001b[0m                \u001b[39mnot\u001b[39;00m (del_flags \u001b[39m&\u001b[39m SRE_FLAG_VERBOSE))\n\u001b[0;32m--> 841\u001b[0m p \u001b[39m=\u001b[39m _parse_sub(source, state, sub_verbose, nested \u001b[39m+\u001b[39;49m \u001b[39m1\u001b[39;49m)\n\u001b[1;32m    842\u001b[0m \u001b[39mif\u001b[39;00m \u001b[39mnot\u001b[39;00m source\u001b[39m.\u001b[39mmatch(\u001b[39m\"\u001b[39m\u001b[39m)\u001b[39m\u001b[39m\"\u001b[39m):\n\u001b[1;32m    843\u001b[0m     \u001b[39mraise\u001b[39;00m source\u001b[39m.\u001b[39merror(\u001b[39m\"\u001b[39m\u001b[39mmissing ), unterminated subpattern\u001b[39m\u001b[39m\"\u001b[39m,\n\u001b[1;32m    844\u001b[0m                        source\u001b[39m.\u001b[39mtell() \u001b[39m-\u001b[39m start)\n",
      "File \u001b[0;32m~/anaconda3/lib/python3.9/sre_parse.py:444\u001b[0m, in \u001b[0;36m_parse_sub\u001b[0;34m(source, state, verbose, nested)\u001b[0m\n\u001b[1;32m    442\u001b[0m start \u001b[39m=\u001b[39m source\u001b[39m.\u001b[39mtell()\n\u001b[1;32m    443\u001b[0m \u001b[39mwhile\u001b[39;00m \u001b[39mTrue\u001b[39;00m:\n\u001b[0;32m--> 444\u001b[0m     itemsappend(_parse(source, state, verbose, nested \u001b[39m+\u001b[39;49m \u001b[39m1\u001b[39;49m,\n\u001b[1;32m    445\u001b[0m                        \u001b[39mnot\u001b[39;49;00m nested \u001b[39mand\u001b[39;49;00m \u001b[39mnot\u001b[39;49;00m items))\n\u001b[1;32m    446\u001b[0m     \u001b[39mif\u001b[39;00m \u001b[39mnot\u001b[39;00m sourcematch(\u001b[39m\"\u001b[39m\u001b[39m|\u001b[39m\u001b[39m\"\u001b[39m):\n\u001b[1;32m    447\u001b[0m         \u001b[39mbreak\u001b[39;00m\n",
      "File \u001b[0;32m~/anaconda3/lib/python3.9/sre_parse.py:526\u001b[0m, in \u001b[0;36m_parse\u001b[0;34m(source, state, verbose, nested, first)\u001b[0m\n\u001b[1;32m    523\u001b[0m         \u001b[39mcontinue\u001b[39;00m\n\u001b[1;32m    525\u001b[0m \u001b[39mif\u001b[39;00m this[\u001b[39m0\u001b[39m] \u001b[39m==\u001b[39m \u001b[39m\"\u001b[39m\u001b[39m\\\\\u001b[39;00m\u001b[39m\"\u001b[39m:\n\u001b[0;32m--> 526\u001b[0m     code \u001b[39m=\u001b[39m _escape(source, this, state)\n\u001b[1;32m    527\u001b[0m     subpatternappend(code)\n\u001b[1;32m    529\u001b[0m \u001b[39melif\u001b[39;00m this \u001b[39mnot\u001b[39;00m \u001b[39min\u001b[39;00m SPECIAL_CHARS:\n",
      "File \u001b[0;32m~/anaconda3/lib/python3.9/sre_parse.py:420\u001b[0m, in \u001b[0;36m_escape\u001b[0;34m(source, escape, state)\u001b[0m\n\u001b[1;32m    418\u001b[0m \u001b[39mif\u001b[39;00m group \u001b[39m<\u001b[39m state\u001b[39m.\u001b[39mgroups:\n\u001b[1;32m    419\u001b[0m     \u001b[39mif\u001b[39;00m \u001b[39mnot\u001b[39;00m state\u001b[39m.\u001b[39mcheckgroup(group):\n\u001b[0;32m--> 420\u001b[0m         \u001b[39mraise\u001b[39;00m source\u001b[39m.\u001b[39merror(\u001b[39m\"\u001b[39m\u001b[39mcannot refer to an open group\u001b[39m\u001b[39m\"\u001b[39m,\n\u001b[1;32m    421\u001b[0m                            \u001b[39mlen\u001b[39m(escape))\n\u001b[1;32m    422\u001b[0m     state\u001b[39m.\u001b[39mchecklookbehindgroup(group, source)\n\u001b[1;32m    423\u001b[0m     \u001b[39mreturn\u001b[39;00m GROUPREF, group\n",
      "\u001b[0;31merror\u001b[0m: cannot refer to an open group at position 7"
     ]
    }
   ],
   "source": [
    "# Задача со звездочкой: почему все падает, и как исправить?\n",
    "s = \"Le bon-bon\"\n",
    "pattern = r\"((\\w+)-\\1)\"\n",
    "print(re.search(pattern, s))\n",
    "print(re.sub(pattern, r\"\\1\", s))"
   ]
  },
  {
   "attachments": {},
   "cell_type": "markdown",
   "metadata": {},
   "source": [
    "**Для тех, кто хочет знать, насколько глубока кроличья нора**\n",
    "\n",
    "(очень)\n",
    "\n",
    "Флаги\n",
    "\n",
    "re.S re.DOTALL - чтобы . соответствовала в том числе переносу строки\n",
    "\n",
    "re.DEBUG - для вывода дополнительной информации\n",
    "\n",
    "re.X re.VERBOSE - для записи паттерна на нескольких строках (как по мне, лучший флаг из всех для читабельности регулярного выражения)"
   ]
  },
  {
   "cell_type": "code",
   "execution_count": 53,
   "metadata": {},
   "outputs": [
    {
     "data": {
      "text/plain": [
       "'Allons enfants de la patrie,'"
      ]
     },
     "execution_count": 53,
     "metadata": {},
     "output_type": "execute_result"
    }
   ],
   "source": [
    "re.compile(r\".*\").match(\"Allons enfants de la patrie,\\n le jour de gloire est arrivee!\").group()"
   ]
  },
  {
   "cell_type": "code",
   "execution_count": 54,
   "metadata": {},
   "outputs": [
    {
     "data": {
      "text/plain": [
       "'Allons enfants de la patrie,\\n le jour de gloire est arrivee!'"
      ]
     },
     "execution_count": 54,
     "metadata": {},
     "output_type": "execute_result"
    }
   ],
   "source": [
    "re.compile(r\".*\", flags=re.DOTALL).match(\"Allons enfants de la patrie,\\n le jour de gloire est arrivee!\").group()"
   ]
  },
  {
   "cell_type": "code",
   "execution_count": 55,
   "metadata": {},
   "outputs": [
    {
     "data": {
      "text/plain": [
       "<re.Match object; span=(0, 4), match='TEXT'>"
      ]
     },
     "execution_count": 55,
     "metadata": {},
     "output_type": "execute_result"
    }
   ],
   "source": [
    "pattern = r\"text\"\n",
    "s = \"TEXT\"\n",
    "re.match(pattern, s, re.IGNORECASE)\n"
   ]
  },
  {
   "cell_type": "code",
   "execution_count": 56,
   "metadata": {},
   "outputs": [
    {
     "name": "stdout",
     "output_type": "stream",
     "text": [
      "LITERAL 116\n",
      "LITERAL 101\n",
      "LITERAL 120\n",
      "LITERAL 116\n",
      "\n",
      " 0. INFO 14 0b11 4 4 (to 15)\n",
      "      prefix_skip 4\n",
      "      prefix [0x74, 0x65, 0x78, 0x74] ('text')\n",
      "      overlap [0, 0, 0, 1]\n",
      "15: LITERAL 0x74 ('t')\n",
      "17. LITERAL 0x65 ('e')\n",
      "19. LITERAL 0x78 ('x')\n",
      "21. LITERAL 0x74 ('t')\n",
      "23. SUCCESS\n"
     ]
    }
   ],
   "source": [
    "pattern = r\"text\"\n",
    "s = \"TEXT\"\n",
    "re.match(pattern, s, re.DEBUG) # добавление флагов через |"
   ]
  },
  {
   "cell_type": "code",
   "execution_count": 57,
   "metadata": {},
   "outputs": [
    {
     "data": {
      "text/plain": [
       "<re.Match object; span=(0, 20), match='What if we repented?'>"
      ]
     },
     "execution_count": 57,
     "metadata": {},
     "output_type": "execute_result"
    }
   ],
   "source": [
    "pattern = r\"((\\w+)\\s)+(\\w+)\\?\"\n",
    "s = \"What if we repented?\"\n",
    "re.search(pattern, s)"
   ]
  },
  {
   "cell_type": "code",
   "execution_count": 59,
   "metadata": {},
   "outputs": [
    {
     "data": {
      "text/plain": [
       "<re.Match object; span=(0, 20), match='What if we repented?'>"
      ]
     },
     "execution_count": 59,
     "metadata": {},
     "output_type": "execute_result"
    }
   ],
   "source": [
    "#  очень удобно разбить сложный шаблон на смысловые части\n",
    "# и каждую можно закомментировать\n",
    "\n",
    "pattern = r\"\"\"((\\w+)\\s)+\n",
    "              (\\w+)\\?\"\"\"\n",
    "s = \"What if we repented?\"\n",
    "re.search(pattern, s, re.X)"
   ]
  },
  {
   "attachments": {},
   "cell_type": "markdown",
   "metadata": {},
   "source": [
    "А что если группа не нужна?\n",
    "\n",
    "?:  мета-символ (в начале группы) для её \"пропуска\""
   ]
  },
  {
   "cell_type": "code",
   "execution_count": 62,
   "metadata": {},
   "outputs": [
    {
     "name": "stdout",
     "output_type": "stream",
     "text": [
      "Last Name: Margot\n",
      "Last Name: Ryan\n",
      "Last Name: America\n",
      "['Margot', 'Ryan', 'America']\n"
     ]
    },
    {
     "data": {
      "text/plain": [
       "'Last Name: Margot, Last Name: Ryan, Last Name: America'"
      ]
     },
     "execution_count": 62,
     "metadata": {},
     "output_type": "execute_result"
    }
   ],
   "source": [
    "s = \"Margot Robbie, Ryan Gosling, America Ferrera\"\n",
    "\n",
    "pattern = r\"(\\w+) (?:\\w+)\"\n",
    "#pattern = r\"(\\w+) (\\w+)\" # для сравнения и вторым ре сабом\n",
    "#pattern = r\"(?:\\w+) (\\w+)\" # для сравнения: порядок групп меняется, то есть группа с ?: просто исчезает\n",
    "\n",
    "matches = re.findall(pattern, s)\n",
    "\n",
    "for match in matches:\n",
    "    print(f\"Last Name: {match}\")\n",
    "\n",
    "print(re.findall(pattern, s))\n",
    "\n",
    "re.sub(pattern, r\"Last Name: \\1\", s)\n",
    "#re.sub(pattern, r\"Last Name: \\2\", s) # попробуйте разкомментить и посмотреть, что будет"
   ]
  },
  {
   "attachments": {},
   "cell_type": "markdown",
   "metadata": {},
   "source": [
    "re.match(pattern, string).groupdict() - вернет словарь с вхождениями каждой группы согласно названиям,\n",
    "\n",
    "НО необходимо задать внутри каждой группы в начале ее имя конструкций ?P\\<groupname\\>"
   ]
  },
  {
   "cell_type": "code",
   "execution_count": 63,
   "metadata": {},
   "outputs": [
    {
     "data": {
      "text/plain": [
       "{'first': '12376', 'second': '232', 'third': '23823'}"
      ]
     },
     "execution_count": 63,
     "metadata": {},
     "output_type": "execute_result"
    }
   ],
   "source": [
    "s = \"12376 232 23823\"\n",
    "pattern = r\"(?P<first>\\d+) (?P<second>\\d+) (?P<third>\\d+)\"\n",
    "match = re.match(pattern, s)\n",
    "match.groupdict()"
   ]
  },
  {
   "attachments": {},
   "cell_type": "markdown",
   "metadata": {},
   "source": [
    "fidnall с перекрывающимися подстроками - использовать ?="
   ]
  },
  {
   "cell_type": "code",
   "execution_count": 64,
   "metadata": {},
   "outputs": [
    {
     "name": "stdout",
     "output_type": "stream",
     "text": [
      "['124', '247', '478', '781', '812', '123', '236']\n"
     ]
    }
   ],
   "source": [
    "s = \"124781236\"\n",
    "pattern = r\"(?=(\\d{3}))\"\n",
    "print(re.findall(pattern, s))"
   ]
  },
  {
   "attachments": {},
   "cell_type": "markdown",
   "metadata": {},
   "source": [
    "Регулярка для парсинга e-mail (просто посмотреть):\n",
    "\n",
    "(?:[a-z0-9!#$%&'*+/=?^_`{|}~-]+(?:\\.[a-z0-9!#$%&'*+/=?^_`{|}~-]+)*|\"(?:[\\x01-\\x08\\x0b\\x0c\\x0e-\\x1f\\x21\\x23-\\x5b\\x5d-\\x7f]|\\\\[\\x01-\\x09\\x0b\\x0c\\x0e-\\x7f])*\")@(?:(?:[a-z0-9](?:[a-z0-9-]*[a-z0-9])?\\.)+[a-z0-9](?:[a-z0-9-]*[a-z0-9])?|\\[(?:(?:25[0-5]|2[0-4][0-9]|[01]?[0-9][0-9]?)\\.){3}(?:25[0-5]|2[0-4][0-9]|[01]?[0-9][0-9]?|[a-z0-9-]*[a-z0-9]:(?:[\\x01-\\x08\\x0b\\x0c\\x0e-\\x1f\\x21-\\x5a\\x53-\\x7f]|\\\\[\\x01-\\x09\\x0b\\x0c\\x0e-\\x7f])+)\\])"
   ]
  },
  {
   "cell_type": "markdown",
   "metadata": {},
   "source": [
    "Ещё пара полезных ссылок:\n",
    "\n",
    "[туть песочница](https://regex101.com/)\n",
    "\n",
    "[моё любимое эссе на тему регэкспов](https://stackoverflow.com/questions/1732348/regex-match-open-tags-except-xhtml-self-contained-tags)\n"
   ]
  },
  {
   "attachments": {},
   "cell_type": "markdown",
   "metadata": {},
   "source": [
    "##### Мораль\n",
    "\n",
    "- Регулярные выражения используют особый синтаксис\n",
    "\n",
    "- Регулярные выражения хороши для парсинга (имена файлов), валидации (пароли), модификации строк\n",
    "\n",
    "- Шаблон всегда записывается как сырая строка\n",
    "\n",
    "- **Не надо** учить значения всех мета-символов наизусть\n",
    "\n",
    "- **Надо** понимать и всегда тестировать регулярное выражение (на хороших тестах)\n",
    "\n",
    "- **Надо** понимать и всегда тестировать, что выводят функции и их методы (особенно при группировке и использовании мета-символов повтора)\n",
    "\n",
    "- Начал(а) писать регулярку - допиши! (завтра не получится)\n",
    "\n",
    "- **НЕ НАДО** парсить регулярками HTML"
   ]
  }
 ],
 "metadata": {
  "kernelspec": {
   "display_name": "geno_pheno",
   "language": "python",
   "name": "geno_pheno"
  },
  "language_info": {
   "codemirror_mode": {
    "name": "ipython",
    "version": 3
   },
   "file_extension": ".py",
   "mimetype": "text/x-python",
   "name": "python",
   "nbconvert_exporter": "python",
   "pygments_lexer": "ipython3",
   "version": "3.9.16"
  },
  "orig_nbformat": 4
 },
 "nbformat": 4,
 "nbformat_minor": 2
}
