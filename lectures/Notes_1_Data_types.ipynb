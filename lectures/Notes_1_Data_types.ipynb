{
 "cells": [
  {
   "cell_type": "markdown",
   "id": "8d7cf656",
   "metadata": {},
   "source": [
    "# <center>  Python for biologists"
   ]
  },
  {
   "cell_type": "markdown",
   "id": "eaad065b",
   "metadata": {},
   "source": [
    "## Notes 1, Data types\n",
    "\n",
    "\n",
    "> Nikita Vaulin, vaulin@ro.ru, tg: @nvaulin\n",
    "    "
   ]
  },
  {
   "cell_type": "markdown",
   "id": "3c1bc47d",
   "metadata": {},
   "source": [
    "***Notion 0***. Feel free to start using shortcuts when working with Jupyter Notebook:\n",
    "- To run the cell `Ctrl`+`Enter`\n",
    "- To run the cell and step to the next one `Shift` + `Enter`\n",
    "- To run the cell and create the new one `Alt` + `Enter`\n",
    "\n",
    "There are two modes of action: cell-editing (the line on the left is green) and cell-selecting (the line on the left is blue). \n",
    "\n",
    "- cell-editing mode &#8594; `Esc` &#8594; cell-selecting mode\n",
    "- cell-selecting mode &#8594; `Enter` &#8594; cell-editing mode\n",
    "\n",
    "In cell-selecting mode you can:\n",
    "\n",
    "- Delete  a cell - `DD`\n",
    "- Undo deleting - `Z`\n"
   ]
  },
  {
   "cell_type": "markdown",
   "id": "2bf8e64a",
   "metadata": {},
   "source": [
    "### <center> Let's move on!"
   ]
  },
  {
   "cell_type": "markdown",
   "id": "6a6150f9",
   "metadata": {},
   "source": [
    "---"
   ]
  },
  {
   "cell_type": "markdown",
   "id": "974f7ffa",
   "metadata": {},
   "source": [
    "## Main data types"
   ]
  },
  {
   "cell_type": "markdown",
   "id": "9bca6a16",
   "metadata": {},
   "source": [
    "*   Integer numbers (`int`)\n",
    "*   Real numbers (`float`)\n",
    "*   Complex numbers (`complex`)\n",
    "*   Logic (`bool`) \n",
    "*   Text (`str`)"
   ]
  },
  {
   "cell_type": "markdown",
   "id": "a986b4df",
   "metadata": {},
   "source": [
    "## Useful functions"
   ]
  },
  {
   "cell_type": "markdown",
   "id": "42b3c110",
   "metadata": {},
   "source": [
    "*   `type()` - shows the type of an object\n",
    "*   `id()` - shows memory adress where object is stored. We are not interested in the adress itself, but we can compare adresses to analyse objects\n",
    "* `is` - comapares two objets. Particulary, `a is b` means `id(a) == id(b)` (this objects are actually the same object in memory)"
   ]
  },
  {
   "cell_type": "markdown",
   "id": "5e113044",
   "metadata": {},
   "source": [
    "## Integers"
   ]
  },
  {
   "cell_type": "code",
   "execution_count": 15,
   "id": "0e5e200a",
   "metadata": {},
   "outputs": [
    {
     "data": {
      "text/plain": [
       "int"
      ]
     },
     "execution_count": 15,
     "metadata": {},
     "output_type": "execute_result"
    }
   ],
   "source": [
    "type(1000)"
   ]
  },
  {
   "cell_type": "markdown",
   "id": "dc6368e4",
   "metadata": {},
   "source": [
    "Negative integers are integers as well!"
   ]
  },
  {
   "cell_type": "code",
   "execution_count": 18,
   "id": "0df61a4b",
   "metadata": {},
   "outputs": [
    {
     "data": {
      "text/plain": [
       "int"
      ]
     },
     "execution_count": 18,
     "metadata": {},
     "output_type": "execute_result"
    }
   ],
   "source": [
    "type(-1)"
   ]
  },
  {
   "cell_type": "markdown",
   "id": "71718635",
   "metadata": {},
   "source": [
    "## Floating-point numbers"
   ]
  },
  {
   "cell_type": "code",
   "execution_count": 20,
   "id": "3b701ee0",
   "metadata": {},
   "outputs": [
    {
     "data": {
      "text/plain": [
       "float"
      ]
     },
     "execution_count": 20,
     "metadata": {},
     "output_type": "execute_result"
    }
   ],
   "source": [
    "type(1.1)"
   ]
  },
  {
   "cell_type": "markdown",
   "id": "0663bd1c",
   "metadata": {},
   "source": [
    "All standard operations can be applied to the numbers:"
   ]
  },
  {
   "cell_type": "code",
   "execution_count": 55,
   "id": "c2303dd8",
   "metadata": {},
   "outputs": [
    {
     "name": "stdout",
     "output_type": "stream",
     "text": [
      "a + b = 7\n",
      "a - b = 3\n",
      "a * b = 10\n",
      "a / b = 2.5\n",
      "a // b = 2\n",
      "a % b = 1\n",
      "a ** b = 25\n",
      "a ^ b = 7\n"
     ]
    }
   ],
   "source": [
    "a = 5\n",
    "b = 2\n",
    "\n",
    "print(f'{a + b = }') # addition\n",
    "print(f'{a - b = }') # substration\n",
    "print(f'{a * b = }')  # multiplication\n",
    "print(f'{a / b = }') # division\n",
    "print(f'{a // b = }') # integer division \n",
    "print(f'{a % b = }') # division reminder\n",
    "print(f'{a ** b = }') # exponentiation\n",
    "print(f'{a ^ b = }') # NOT exponentiation! (it is bitwise exclusive 'or', we will not use it)"
   ]
  },
  {
   "cell_type": "code",
   "execution_count": 52,
   "id": "5bf477ee",
   "metadata": {},
   "outputs": [
    {
     "data": {
      "text/plain": [
       "1.0"
      ]
     },
     "execution_count": 52,
     "metadata": {},
     "output_type": "execute_result"
    }
   ],
   "source": [
    "1.0 % 2.0"
   ]
  },
  {
   "cell_type": "markdown",
   "id": "90324be0",
   "metadata": {},
   "source": [
    "## Complex numbers"
   ]
  },
  {
   "cell_type": "code",
   "execution_count": 63,
   "id": "e1590520",
   "metadata": {},
   "outputs": [
    {
     "data": {
      "text/plain": [
       "complex"
      ]
     },
     "execution_count": 63,
     "metadata": {},
     "output_type": "execute_result"
    }
   ],
   "source": [
    "type(1 + 2j)"
   ]
  },
  {
   "cell_type": "markdown",
   "id": "af25aec7",
   "metadata": {},
   "source": [
    "Note! `j` is not a multiplier, it is a special syntax for imagine part:"
   ]
  },
  {
   "cell_type": "code",
   "execution_count": 67,
   "id": "ea0dd0c3",
   "metadata": {},
   "outputs": [
    {
     "ename": "NameError",
     "evalue": "name 'j' is not defined",
     "output_type": "error",
     "traceback": [
      "\u001b[1;31m---------------------------------------------------------------------------\u001b[0m",
      "\u001b[1;31mNameError\u001b[0m                                 Traceback (most recent call last)",
      "Cell \u001b[1;32mIn[67], line 1\u001b[0m\n\u001b[1;32m----> 1\u001b[0m \u001b[38;5;28mtype\u001b[39m(\u001b[38;5;241m1\u001b[39m \u001b[38;5;241m+\u001b[39m \u001b[38;5;241m2\u001b[39m\u001b[38;5;241m*\u001b[39m\u001b[43mj\u001b[49m)\n",
      "\u001b[1;31mNameError\u001b[0m: name 'j' is not defined"
     ]
    }
   ],
   "source": [
    "type(1 + 2*j)"
   ]
  },
  {
   "cell_type": "markdown",
   "id": "cb0c8f3d",
   "metadata": {},
   "source": [
    "All operartions are like in the complex analysis:"
   ]
  },
  {
   "cell_type": "code",
   "execution_count": 73,
   "id": "b0555d00",
   "metadata": {},
   "outputs": [
    {
     "name": "stdout",
     "output_type": "stream",
     "text": [
      "a + b = (3-1j)\n",
      "a + c = (2+0j)\n",
      "a / b = (-0.30769230769230776+0.5384615384615384j)\n"
     ]
    }
   ],
   "source": [
    "a = 1 + 2j\n",
    "b = 2 - 3j\n",
    "c = 1 - 2j\n",
    "print(f'{a + b = }')\n",
    "print(f'{a + c = }')\n",
    "print(f'{a / b = }')"
   ]
  },
  {
   "cell_type": "markdown",
   "id": "5e70ba53",
   "metadata": {},
   "source": [
    "## Boolean"
   ]
  },
  {
   "cell_type": "code",
   "execution_count": 79,
   "id": "c3b1f65a",
   "metadata": {},
   "outputs": [
    {
     "data": {
      "text/plain": [
       "True"
      ]
     },
     "execution_count": 79,
     "metadata": {},
     "output_type": "execute_result"
    }
   ],
   "source": [
    "True and True is True == True or True # don't try to understand what's going on ))"
   ]
  },
  {
   "cell_type": "code",
   "execution_count": 82,
   "id": "a9f5953c",
   "metadata": {},
   "outputs": [
    {
     "data": {
      "text/plain": [
       "bool"
      ]
     },
     "execution_count": 82,
     "metadata": {},
     "output_type": "execute_result"
    }
   ],
   "source": [
    "type(False)"
   ]
  },
  {
   "cell_type": "markdown",
   "id": "a7ce652f",
   "metadata": {},
   "source": [
    "Operations with boolean objects:\n",
    "* `and`\n",
    "* `or`\n",
    "* `not`\n",
    "\n",
    "Comparisons:\n",
    "*   `==` equality check\n",
    "*   `>` greater than\n",
    "*   `<` less than\n",
    "*   `>=` greater than or equal\n",
    "*   `<=` less than or equal\n",
    "*   `!=` NONequality check"
   ]
  },
  {
   "cell_type": "markdown",
   "id": "5de261a0",
   "metadata": {},
   "source": [
    "This objects are also `True`:\n",
    "* Non-zero number\n",
    "* Non-empty string or collection or other empty object\n",
    "\n",
    "This objects are also `False`:\n",
    "* 0\n",
    "* None\n",
    "* Empty string, collection or other empty objects"
   ]
  },
  {
   "cell_type": "code",
   "execution_count": 278,
   "id": "1f32edaf",
   "metadata": {},
   "outputs": [
    {
     "data": {
      "text/plain": [
       "True"
      ]
     },
     "execution_count": 278,
     "metadata": {},
     "output_type": "execute_result"
    }
   ],
   "source": [
    "bool('False') # because non-empty string"
   ]
  },
  {
   "cell_type": "code",
   "execution_count": 280,
   "id": "c88d5ede",
   "metadata": {},
   "outputs": [
    {
     "data": {
      "text/plain": [
       "False"
      ]
     },
     "execution_count": 280,
     "metadata": {},
     "output_type": "execute_result"
    }
   ],
   "source": [
    "bool([])"
   ]
  },
  {
   "cell_type": "code",
   "execution_count": 281,
   "id": "647d491e",
   "metadata": {},
   "outputs": [
    {
     "data": {
      "text/plain": [
       "False"
      ]
     },
     "execution_count": 281,
     "metadata": {},
     "output_type": "execute_result"
    }
   ],
   "source": [
    "bool(None)"
   ]
  },
  {
   "cell_type": "markdown",
   "id": "0fd579da",
   "metadata": {},
   "source": [
    "Boolean objects are used in ***conditions***:"
   ]
  },
  {
   "cell_type": "code",
   "execution_count": 170,
   "id": "f1c56db0",
   "metadata": {},
   "outputs": [
    {
     "name": "stdout",
     "output_type": "stream",
     "text": [
      "Хочу пятерку\n"
     ]
    }
   ],
   "source": [
    "if 5 > 2:\n",
    "    print('Хочу пятерку')"
   ]
  },
  {
   "cell_type": "markdown",
   "id": "c14b6c64",
   "metadata": {},
   "source": [
    "**Do NOT** write like this:"
   ]
  },
  {
   "cell_type": "code",
   "execution_count": 173,
   "id": "11faf86e",
   "metadata": {},
   "outputs": [
    {
     "name": "stdout",
     "output_type": "stream",
     "text": [
      "Хочу пятерку\n"
     ]
    }
   ],
   "source": [
    "if (5 > 2) == True:\n",
    "    print('Хочу пятерку')"
   ]
  },
  {
   "cell_type": "markdown",
   "id": "69a9e2d9",
   "metadata": {},
   "source": [
    "We can add `else` as well"
   ]
  },
  {
   "cell_type": "code",
   "execution_count": 135,
   "id": "f096edb4",
   "metadata": {},
   "outputs": [
    {
     "name": "stdout",
     "output_type": "stream",
     "text": [
      "ничего питон не понимает в жизни\n"
     ]
    }
   ],
   "source": [
    "if 'ИБ' == 'любовь':\n",
    "    print('всё верно')\n",
    "else:    \n",
    "    print('ничего питон не понимает в жизни')"
   ]
  },
  {
   "cell_type": "markdown",
   "id": "935e840e",
   "metadata": {},
   "source": [
    "> Можно сжать всё немного покороче:"
   ]
  },
  {
   "cell_type": "code",
   "execution_count": 126,
   "id": "423c459c",
   "metadata": {},
   "outputs": [
    {
     "name": "stdout",
     "output_type": "stream",
     "text": [
      "Хочу пятерку\n"
     ]
    }
   ],
   "source": [
    "if 5 > 2: print('Хочу пятерку')"
   ]
  },
  {
   "cell_type": "code",
   "execution_count": 134,
   "id": "ddde8e75",
   "metadata": {},
   "outputs": [
    {
     "name": "stdout",
     "output_type": "stream",
     "text": [
      "ничего питон не понимает в жизни\n"
     ]
    }
   ],
   "source": [
    "if 'ИБ' == 'любовь': print('всё верно') \n",
    "else: print('ничего питон не понимает в жизни')"
   ]
  },
  {
   "cell_type": "markdown",
   "id": "8176d88f",
   "metadata": {},
   "source": [
    "> А можно еще короче (называется \"тернарый оператор\")"
   ]
  },
  {
   "cell_type": "code",
   "execution_count": 133,
   "id": "51a4b259",
   "metadata": {},
   "outputs": [
    {
     "name": "stdout",
     "output_type": "stream",
     "text": [
      "ничего питон не понимает в жизни\n"
     ]
    }
   ],
   "source": [
    "print('всё верно') if 'ИБ' == 'любовь' else print('ничего питон не понимает в жизни')"
   ]
  },
  {
   "cell_type": "code",
   "execution_count": 123,
   "id": "0be55df8",
   "metadata": {},
   "outputs": [
    {
     "name": "stdout",
     "output_type": "stream",
     "text": [
      "Я всё равно в тебя верю!\n"
     ]
    }
   ],
   "source": [
    "homework = 'Какая домашка? Вы о чём?'\n",
    "\n",
    "if homework == 'done' or homework == 'ready':\n",
    "    print('Great job!')\n",
    "elif homework == 'in progress': # don't forget :\n",
    "    print('Here we go!')\n",
    "else:\n",
    "    print('Я всё равно в тебя верю!')"
   ]
  },
  {
   "cell_type": "markdown",
   "id": "109888e3",
   "metadata": {},
   "source": [
    "## Strings"
   ]
  },
  {
   "cell_type": "code",
   "execution_count": 96,
   "id": "6d149999",
   "metadata": {},
   "outputs": [
    {
     "data": {
      "text/plain": [
       "str"
      ]
     },
     "execution_count": 96,
     "metadata": {},
     "output_type": "execute_result"
    }
   ],
   "source": [
    "type('text')"
   ]
  },
  {
   "cell_type": "code",
   "execution_count": 93,
   "id": "0d33b124",
   "metadata": {},
   "outputs": [
    {
     "data": {
      "text/plain": [
       "'Hello, python'"
      ]
     },
     "execution_count": 93,
     "metadata": {},
     "output_type": "execute_result"
    }
   ],
   "source": [
    "greeting = 'Hello'\n",
    "language = 'python'\n",
    "greeting + ', ' + language # concatenation"
   ]
  },
  {
   "cell_type": "code",
   "execution_count": 95,
   "id": "cf608e8e",
   "metadata": {},
   "outputs": [
    {
     "ename": "TypeError",
     "evalue": "can only concatenate str (not \"int\") to str",
     "output_type": "error",
     "traceback": [
      "\u001b[1;31m---------------------------------------------------------------------------\u001b[0m",
      "\u001b[1;31mTypeError\u001b[0m                                 Traceback (most recent call last)",
      "Cell \u001b[1;32mIn[95], line 1\u001b[0m\n\u001b[1;32m----> 1\u001b[0m \u001b[43mlanguage\u001b[49m\u001b[43m \u001b[49m\u001b[38;5;241;43m+\u001b[39;49m\u001b[43m \u001b[49m\u001b[38;5;241;43m2\u001b[39;49m \u001b[38;5;66;03m# the ope\u001b[39;00m\n",
      "\u001b[1;31mTypeError\u001b[0m: can only concatenate str (not \"int\") to str"
     ]
    }
   ],
   "source": [
    "language + 3.0 # the operation is impossible"
   ]
  },
  {
   "cell_type": "code",
   "execution_count": 97,
   "id": "5d90793e",
   "metadata": {},
   "outputs": [
    {
     "data": {
      "text/plain": [
       "'python3.0'"
      ]
     },
     "execution_count": 97,
     "metadata": {},
     "output_type": "execute_result"
    }
   ],
   "source": [
    "language + str(3.0)"
   ]
  },
  {
   "cell_type": "markdown",
   "id": "b9d41d35",
   "metadata": {},
   "source": [
    "But we can use multiplication to amplify strings"
   ]
  },
  {
   "cell_type": "code",
   "execution_count": 107,
   "id": "bf1bb8dd",
   "metadata": {},
   "outputs": [
    {
     "data": {
      "text/plain": [
       "'___'"
      ]
     },
     "execution_count": 107,
     "metadata": {},
     "output_type": "execute_result"
    }
   ],
   "source": [
    "'_'*3"
   ]
  },
  {
   "cell_type": "markdown",
   "id": "9398eec6",
   "metadata": {},
   "source": [
    "There are some useful string methods:"
   ]
  },
  {
   "cell_type": "code",
   "execution_count": 9,
   "id": "d0cf04b1",
   "metadata": {},
   "outputs": [
    {
     "name": "stdout",
     "output_type": "stream",
     "text": [
      "string.upper() = 'PYTHON, PYTHON'\n",
      "string.lower() = 'python, python'\n",
      "string.split() = ['Python,', 'python']\n",
      "string.split(\", \") = ['Python', 'python']\n",
      "string.swapcase() = 'pYTHON, PYTHON'\n",
      "string.capitalize() = 'Python, python'\n",
      "string.isalpha() = False\n",
      "string.isdigit() = False\n",
      "string.isalnum() = False\n",
      "string.startswith(\"Python\") = True\n",
      "string.endswith(\"python\") = True\n"
     ]
    }
   ],
   "source": [
    "string = 'Python, python'\n",
    "print(f'{string.upper() = }')\n",
    "print(f'{string.lower() = }')\n",
    "print(f'{string.split() = }')\n",
    "print(f'{string.split(\", \") = }')\n",
    "print(f'{string.swapcase() = }')\n",
    "print(f'{string.capitalize() = }')\n",
    "print(f'{string.isalpha() = }') # check for only letters\n",
    "print(f'{string.isdigit() = }') # check for only numbers\n",
    "print(f'{string.isalnum() = }') # isalhpa + isdigit\n",
    "print(f'{string.startswith(\"Python\") = }')\n",
    "print(f'{string.endswith(\"python\") = }')"
   ]
  },
  {
   "cell_type": "code",
   "execution_count": 121,
   "id": "7517e099",
   "metadata": {},
   "outputs": [
    {
     "name": "stdout",
     "output_type": "stream",
     "text": [
      "You is alpha\n"
     ]
    }
   ],
   "source": [
    "if 'You'.isalpha():\n",
    "    print('You is alpha')"
   ]
  },
  {
   "cell_type": "markdown",
   "id": "10b56f00",
   "metadata": {},
   "source": [
    "## Collections\n",
    "\n",
    "### Tuple (кортеж)\n",
    "\n",
    "Tuple is a baseline collection (like an `array` in `C/C++`). It can store different objects togewther."
   ]
  },
  {
   "cell_type": "code",
   "execution_count": 153,
   "id": "a88ef05c",
   "metadata": {},
   "outputs": [
    {
     "data": {
      "text/plain": [
       "False"
      ]
     },
     "execution_count": 153,
     "metadata": {},
     "output_type": "execute_result"
    }
   ],
   "source": [
    "a = (1, 'string', True, 10000)\n",
    "b = (1, 'string', True, 10000)\n",
    "\n",
    "id(a) == id(b) # they are two different tuples combined in different parts of your PC memory"
   ]
  },
  {
   "cell_type": "markdown",
   "id": "f43e07df",
   "metadata": {},
   "source": [
    "We can take some elements by index"
   ]
  },
  {
   "cell_type": "code",
   "execution_count": 155,
   "id": "21964788",
   "metadata": {},
   "outputs": [
    {
     "data": {
      "text/plain": [
       "1"
      ]
     },
     "execution_count": 155,
     "metadata": {},
     "output_type": "execute_result"
    }
   ],
   "source": [
    "a[0]"
   ]
  },
  {
   "cell_type": "code",
   "execution_count": 156,
   "id": "2133cac8",
   "metadata": {},
   "outputs": [
    {
     "data": {
      "text/plain": [
       "True"
      ]
     },
     "execution_count": 156,
     "metadata": {},
     "output_type": "execute_result"
    }
   ],
   "source": [
    "id(a[0]) == id(b[0]) # but the `1` is the same one for both tuples"
   ]
  },
  {
   "cell_type": "code",
   "execution_count": 165,
   "id": "a3d0a36f",
   "metadata": {},
   "outputs": [
    {
     "data": {
      "text/plain": [
       "False"
      ]
     },
     "execution_count": 165,
     "metadata": {},
     "output_type": "execute_result"
    }
   ],
   "source": [
    "id(a[3]) == id(b[3]) # the `10000` is different for this tuples (if you are lost here - write me or ask at lecture)"
   ]
  },
  {
   "cell_type": "markdown",
   "id": "82a2eab1",
   "metadata": {},
   "source": [
    "#### Slices\n",
    "\n",
    "`[1 : 2 : 3]`\n",
    "\n",
    "* `1` = start\n",
    "* `2` = end (if exists)\n",
    "* `3` = step (if exists)"
   ]
  },
  {
   "cell_type": "code",
   "execution_count": 158,
   "id": "a48c112d",
   "metadata": {},
   "outputs": [
    {
     "data": {
      "text/plain": [
       "('string', True)"
      ]
     },
     "execution_count": 158,
     "metadata": {},
     "output_type": "execute_result"
    }
   ],
   "source": [
    "a[1:3] # start to end"
   ]
  },
  {
   "cell_type": "code",
   "execution_count": 159,
   "id": "f0beee87",
   "metadata": {},
   "outputs": [
    {
     "data": {
      "text/plain": [
       "('string', True, 10000)"
      ]
     },
     "execution_count": 159,
     "metadata": {},
     "output_type": "execute_result"
    }
   ],
   "source": [
    "a[1:] # start to .... very end"
   ]
  },
  {
   "cell_type": "code",
   "execution_count": 163,
   "id": "281c6924",
   "metadata": {},
   "outputs": [
    {
     "data": {
      "text/plain": [
       "(1, 'string', True)"
      ]
     },
     "execution_count": 163,
     "metadata": {},
     "output_type": "execute_result"
    }
   ],
   "source": [
    "a[:-1] # minus is for indexing from the end"
   ]
  },
  {
   "cell_type": "code",
   "execution_count": 257,
   "id": "61ada85e",
   "metadata": {},
   "outputs": [
    {
     "data": {
      "text/plain": [
       "(1, 2)"
      ]
     },
     "execution_count": 257,
     "metadata": {},
     "output_type": "execute_result"
    }
   ],
   "source": [
    "a[::2] # only with the step of 2"
   ]
  },
  {
   "cell_type": "markdown",
   "id": "fc6c7eaf",
   "metadata": {},
   "source": [
    "We can concatenate tuples (which makes a new tuple):"
   ]
  },
  {
   "cell_type": "code",
   "execution_count": 258,
   "id": "466ce575",
   "metadata": {},
   "outputs": [
    {
     "data": {
      "text/plain": [
       "(1, 2, 3, 4)"
      ]
     },
     "execution_count": 258,
     "metadata": {},
     "output_type": "execute_result"
    }
   ],
   "source": [
    "(1, 2) + (3, 4)"
   ]
  },
  {
   "cell_type": "markdown",
   "id": "c66da22c",
   "metadata": {},
   "source": [
    "### List (список)\n",
    "\n",
    "List is a additional collection that allow elements modification: addition, removing and replacement (like a ` dynamic array` in `C/C++`)."
   ]
  },
  {
   "cell_type": "code",
   "execution_count": 235,
   "id": "312406a4",
   "metadata": {},
   "outputs": [],
   "source": [
    "a = [1, 2, 'True']"
   ]
  },
  {
   "cell_type": "code",
   "execution_count": 236,
   "id": "41314c5b",
   "metadata": {},
   "outputs": [
    {
     "data": {
      "text/plain": [
       "'True'"
      ]
     },
     "execution_count": 236,
     "metadata": {},
     "output_type": "execute_result"
    }
   ],
   "source": [
    "a[2]"
   ]
  },
  {
   "cell_type": "code",
   "execution_count": 237,
   "id": "3217aec1",
   "metadata": {},
   "outputs": [
    {
     "data": {
      "text/plain": [
       "True"
      ]
     },
     "execution_count": 237,
     "metadata": {},
     "output_type": "execute_result"
    }
   ],
   "source": [
    "a[2] = True\n",
    "a[2]"
   ]
  },
  {
   "cell_type": "code",
   "execution_count": 238,
   "id": "71ed70ae",
   "metadata": {},
   "outputs": [
    {
     "ename": "TypeError",
     "evalue": "'tuple' object does not support item assignment",
     "output_type": "error",
     "traceback": [
      "\u001b[1;31m---------------------------------------------------------------------------\u001b[0m",
      "\u001b[1;31mTypeError\u001b[0m                                 Traceback (most recent call last)",
      "Cell \u001b[1;32mIn[238], line 2\u001b[0m\n\u001b[0;32m      1\u001b[0m b \u001b[38;5;241m=\u001b[39m (\u001b[38;5;241m1\u001b[39m, \u001b[38;5;241m3\u001b[39m, \u001b[38;5;124m'\u001b[39m\u001b[38;5;124mTrue\u001b[39m\u001b[38;5;124m'\u001b[39m)\n\u001b[1;32m----> 2\u001b[0m \u001b[43mb\u001b[49m\u001b[43m[\u001b[49m\u001b[38;5;241;43m2\u001b[39;49m\u001b[43m]\u001b[49m \u001b[38;5;241m=\u001b[39m \u001b[38;5;28;01mTrue\u001b[39;00m \u001b[38;5;66;03m# Error for tuples!\u001b[39;00m\n",
      "\u001b[1;31mTypeError\u001b[0m: 'tuple' object does not support item assignment"
     ]
    }
   ],
   "source": [
    "b = (1, 3, 'True')\n",
    "b[2] = True # Error for tuples!"
   ]
  },
  {
   "cell_type": "code",
   "execution_count": 239,
   "id": "1c651caa",
   "metadata": {},
   "outputs": [
    {
     "data": {
      "text/plain": [
       "[1, 2, True, False]"
      ]
     },
     "execution_count": 239,
     "metadata": {},
     "output_type": "execute_result"
    }
   ],
   "source": [
    "a.append(False)\n",
    "a"
   ]
  },
  {
   "cell_type": "code",
   "execution_count": 240,
   "id": "4735c7cd",
   "metadata": {},
   "outputs": [
    {
     "data": {
      "text/plain": [
       "[1, 2, True]"
      ]
     },
     "execution_count": 240,
     "metadata": {},
     "output_type": "execute_result"
    }
   ],
   "source": [
    "a.remove(False)\n",
    "a"
   ]
  },
  {
   "cell_type": "code",
   "execution_count": 241,
   "id": "5660775f",
   "metadata": {},
   "outputs": [
    {
     "ename": "ValueError",
     "evalue": "list.remove(x): x not in list",
     "output_type": "error",
     "traceback": [
      "\u001b[1;31m---------------------------------------------------------------------------\u001b[0m",
      "\u001b[1;31mValueError\u001b[0m                                Traceback (most recent call last)",
      "Cell \u001b[1;32mIn[241], line 1\u001b[0m\n\u001b[1;32m----> 1\u001b[0m \u001b[43ma\u001b[49m\u001b[38;5;241;43m.\u001b[39;49m\u001b[43mremove\u001b[49m\u001b[43m(\u001b[49m\u001b[38;5;124;43m'\u001b[39;49m\u001b[38;5;124;43mТакого нету\u001b[39;49m\u001b[38;5;124;43m'\u001b[39;49m\u001b[43m)\u001b[49m\n",
      "\u001b[1;31mValueError\u001b[0m: list.remove(x): x not in list"
     ]
    }
   ],
   "source": [
    "a.remove('Такого нету')"
   ]
  },
  {
   "cell_type": "code",
   "execution_count": 242,
   "id": "311b9c0e",
   "metadata": {},
   "outputs": [
    {
     "name": "stdout",
     "output_type": "stream",
     "text": [
      "True\n",
      "[1, 2]\n"
     ]
    }
   ],
   "source": [
    "last_a = a.pop() # takes the last element, deletes it but returnes to you\n",
    "print(last_a)\n",
    "print(a)"
   ]
  },
  {
   "cell_type": "code",
   "execution_count": 243,
   "id": "b4a39528",
   "metadata": {},
   "outputs": [
    {
     "data": {
      "text/plain": [
       "[1, 2, 1, 2]"
      ]
     },
     "execution_count": 243,
     "metadata": {},
     "output_type": "execute_result"
    }
   ],
   "source": [
    "a.extend(a) # adds to the list elements from another list\n",
    "a"
   ]
  },
  {
   "cell_type": "code",
   "execution_count": 244,
   "id": "8726c056",
   "metadata": {},
   "outputs": [
    {
     "data": {
      "text/plain": [
       "[1, 1, 2, 2]"
      ]
     },
     "execution_count": 244,
     "metadata": {},
     "output_type": "execute_result"
    }
   ],
   "source": [
    "a.sort()\n",
    "a"
   ]
  },
  {
   "cell_type": "code",
   "execution_count": 245,
   "id": "2c724bba",
   "metadata": {},
   "outputs": [
    {
     "data": {
      "text/plain": [
       "[1, 'New element', 1, 2, 2]"
      ]
     },
     "execution_count": 245,
     "metadata": {},
     "output_type": "execute_result"
    }
   ],
   "source": [
    "a.insert(1, 'New element') # inserts to a certain position\n",
    "a"
   ]
  },
  {
   "cell_type": "markdown",
   "id": "ef46a54b",
   "metadata": {},
   "source": [
    "Last one, ve-ery useful method if `join`. It takes a string object and concatenates collection of strings with this string as a 'glue'"
   ]
  },
  {
   "cell_type": "code",
   "execution_count": 249,
   "id": "220e3794",
   "metadata": {},
   "outputs": [
    {
     "data": {
      "text/plain": [
       "'onetwothree'"
      ]
     },
     "execution_count": 249,
     "metadata": {},
     "output_type": "execute_result"
    }
   ],
   "source": [
    "words  = ('one', 'two', 'three')\n",
    "''.join(words)"
   ]
  },
  {
   "cell_type": "code",
   "execution_count": 253,
   "id": "0ce7d473",
   "metadata": {},
   "outputs": [
    {
     "data": {
      "text/plain": [
       "'one---two---three'"
      ]
     },
     "execution_count": 253,
     "metadata": {},
     "output_type": "execute_result"
    }
   ],
   "source": [
    "'---'.join(words)"
   ]
  },
  {
   "cell_type": "markdown",
   "id": "0497b946",
   "metadata": {},
   "source": [
    "### Set (множество)\n",
    "\n",
    "Collection of unique elements"
   ]
  },
  {
   "cell_type": "code",
   "execution_count": 329,
   "id": "e5d5a69a",
   "metadata": {},
   "outputs": [
    {
     "data": {
      "text/plain": [
       "{1, 2, 3}"
      ]
     },
     "execution_count": 329,
     "metadata": {},
     "output_type": "execute_result"
    }
   ],
   "source": [
    "a = (1, 2, 2, 3)\n",
    "a = set(a)\n",
    "a"
   ]
  },
  {
   "cell_type": "code",
   "execution_count": 330,
   "id": "ea2afd7c",
   "metadata": {},
   "outputs": [
    {
     "data": {
      "text/plain": [
       "{'h', 'n', 'o', 'p', 't', 'y'}"
      ]
     },
     "execution_count": 330,
     "metadata": {},
     "output_type": "execute_result"
    }
   ],
   "source": [
    "set('python')"
   ]
  },
  {
   "cell_type": "code",
   "execution_count": 331,
   "id": "46214f11",
   "metadata": {},
   "outputs": [
    {
     "data": {
      "text/plain": [
       "{1, 3}"
      ]
     },
     "execution_count": 331,
     "metadata": {},
     "output_type": "execute_result"
    }
   ],
   "source": [
    "b = (1, 3, True)\n",
    "b = set(b)\n",
    "b # Wow! Why so? Where is the `True`?"
   ]
  },
  {
   "cell_type": "code",
   "execution_count": 332,
   "id": "b9c5e320",
   "metadata": {},
   "outputs": [
    {
     "data": {
      "text/plain": [
       "False"
      ]
     },
     "execution_count": 332,
     "metadata": {},
     "output_type": "execute_result"
    }
   ],
   "source": [
    "id(True) == id(1) # This is different `physical` objects in your memory."
   ]
  },
  {
   "cell_type": "code",
   "execution_count": 333,
   "id": "f6bf8202",
   "metadata": {},
   "outputs": [
    {
     "data": {
      "text/plain": [
       "True"
      ]
     },
     "execution_count": 333,
     "metadata": {},
     "output_type": "execute_result"
    }
   ],
   "source": [
    "True == 1 # However, thay are equal in terms of `==`. Thus `set` uses `==` to select objects."
   ]
  },
  {
   "cell_type": "code",
   "execution_count": 334,
   "id": "93c8f9da",
   "metadata": {},
   "outputs": [
    {
     "name": "stdout",
     "output_type": "stream",
     "text": [
      "a - b = {2}\n",
      "b - a = set()\n",
      "a.union(b) = {1, 2, 3}\n",
      "a | b = {1, 2, 3}\n",
      "a.intersection(b) = {1, 3}\n",
      "a & b = {1, 3}\n"
     ]
    }
   ],
   "source": [
    "print(f'{a - b = }')\n",
    "print(f'{b - a = }')\n",
    "print(f'{a.union(b) = }')\n",
    "print(f'{a | b = }') # union\n",
    "print(f'{a.intersection(b) = }')\n",
    "print(f'{a & b = }') # intersection"
   ]
  },
  {
   "cell_type": "code",
   "execution_count": 272,
   "id": "efe4ee98",
   "metadata": {},
   "outputs": [
    {
     "data": {
      "text/plain": [
       "{1, 2, 3, 10}"
      ]
     },
     "execution_count": 272,
     "metadata": {},
     "output_type": "execute_result"
    }
   ],
   "source": [
    "a.add(10)\n",
    "a"
   ]
  },
  {
   "cell_type": "code",
   "execution_count": 273,
   "id": "9881e3a2",
   "metadata": {},
   "outputs": [
    {
     "data": {
      "text/plain": [
       "{1, 2, 3}"
      ]
     },
     "execution_count": 273,
     "metadata": {},
     "output_type": "execute_result"
    }
   ],
   "source": [
    "a.discard(10)\n",
    "a"
   ]
  },
  {
   "cell_type": "code",
   "execution_count": 275,
   "id": "8c550553",
   "metadata": {},
   "outputs": [
    {
     "data": {
      "text/plain": [
       "{1, 2, 3}"
      ]
     },
     "execution_count": 275,
     "metadata": {},
     "output_type": "execute_result"
    }
   ],
   "source": [
    "a.discard(100) # don't throws an Error if element is already absent\n",
    "a"
   ]
  },
  {
   "cell_type": "code",
   "execution_count": 276,
   "id": "cd4bfa19",
   "metadata": {},
   "outputs": [
    {
     "data": {
      "text/plain": [
       "set()"
      ]
     },
     "execution_count": 276,
     "metadata": {},
     "output_type": "execute_result"
    }
   ],
   "source": [
    "a.clear()\n",
    "a"
   ]
  },
  {
   "cell_type": "markdown",
   "id": "1525ca1b",
   "metadata": {},
   "source": [
    "### Dict (словарь)\n",
    "\n",
    "Collection with keys instead of indicies (you may now him as a hash-map)\n",
    "\n",
    "\n",
    "Dict keys should be of immutable type!"
   ]
  },
  {
   "cell_type": "code",
   "execution_count": 288,
   "id": "144d6ba4",
   "metadata": {},
   "outputs": [],
   "source": [
    "students_marks = {'Vasya': 5,\n",
    "                  'Olya': 4,\n",
    "                  'Jim': [5, 4, 3]\n",
    "                  }"
   ]
  },
  {
   "cell_type": "code",
   "execution_count": 290,
   "id": "a096af8f",
   "metadata": {},
   "outputs": [
    {
     "data": {
      "text/plain": [
       "{'Vasya': 5, 'Olya': 4, 'Jim': [5, 4, 3]}"
      ]
     },
     "execution_count": 290,
     "metadata": {},
     "output_type": "execute_result"
    }
   ],
   "source": [
    "students_marks"
   ]
  },
  {
   "cell_type": "code",
   "execution_count": 292,
   "id": "bc40b5aa",
   "metadata": {},
   "outputs": [
    {
     "ename": "TypeError",
     "evalue": "unhashable type: 'list'",
     "output_type": "error",
     "traceback": [
      "\u001b[1;31m---------------------------------------------------------------------------\u001b[0m",
      "\u001b[1;31mTypeError\u001b[0m                                 Traceback (most recent call last)",
      "Cell \u001b[1;32mIn[292], line 1\u001b[0m\n\u001b[1;32m----> 1\u001b[0m {[\u001b[38;5;241m5\u001b[39m, \u001b[38;5;241m4\u001b[39m, \u001b[38;5;241m3\u001b[39m]: \u001b[38;5;124m'\u001b[39m\u001b[38;5;124mJim\u001b[39m\u001b[38;5;124m'\u001b[39m} \u001b[38;5;66;03m# key can't be mutable!\u001b[39;00m\n",
      "\u001b[1;31mTypeError\u001b[0m: unhashable type: 'list'"
     ]
    }
   ],
   "source": [
    "{[5, 4, 3]: 'Jim'} # key can't be mutable!"
   ]
  },
  {
   "cell_type": "code",
   "execution_count": 294,
   "id": "0d25094d",
   "metadata": {},
   "outputs": [
    {
     "data": {
      "text/plain": [
       "4"
      ]
     },
     "execution_count": 294,
     "metadata": {},
     "output_type": "execute_result"
    }
   ],
   "source": [
    "students_marks['Olya'] # by key"
   ]
  },
  {
   "cell_type": "code",
   "execution_count": 297,
   "id": "93e8f13e",
   "metadata": {},
   "outputs": [
    {
     "ename": "KeyError",
     "evalue": "1",
     "output_type": "error",
     "traceback": [
      "\u001b[1;31m---------------------------------------------------------------------------\u001b[0m",
      "\u001b[1;31mKeyError\u001b[0m                                  Traceback (most recent call last)",
      "Cell \u001b[1;32mIn[297], line 1\u001b[0m\n\u001b[1;32m----> 1\u001b[0m \u001b[43mstudents_marks\u001b[49m\u001b[43m[\u001b[49m\u001b[38;5;241;43m1\u001b[39;49m\u001b[43m]\u001b[49m \u001b[38;5;66;03m# no indexing at all (thinks `1` is a key)\u001b[39;00m\n",
      "\u001b[1;31mKeyError\u001b[0m: 1"
     ]
    }
   ],
   "source": [
    "students_marks[1] # no indexing at all (thinks `1` is a key)"
   ]
  },
  {
   "cell_type": "code",
   "execution_count": 299,
   "id": "8befe006",
   "metadata": {},
   "outputs": [
    {
     "data": {
      "text/plain": [
       "{'Vasya': 7, 'Olya': 5, 'Jim': [5, 4, 3]}"
      ]
     },
     "execution_count": 299,
     "metadata": {},
     "output_type": "execute_result"
    }
   ],
   "source": [
    "students_marks['Olya'] = 5 # values can be changed\n",
    "students_marks['Vasya'] +=1\n",
    "students_marks"
   ]
  },
  {
   "cell_type": "code",
   "execution_count": 301,
   "id": "c20290d6",
   "metadata": {},
   "outputs": [
    {
     "data": {
      "text/plain": [
       "{'Vasya': 7, 'Olya': 5, 'Jim': [5, 4, 3], 'Andrey': 10}"
      ]
     },
     "execution_count": 301,
     "metadata": {},
     "output_type": "execute_result"
    }
   ],
   "source": [
    "students_marks['Andrey'] = 10 # new entry\n",
    "students_marks"
   ]
  },
  {
   "cell_type": "code",
   "execution_count": 302,
   "id": "c1bfd0bc",
   "metadata": {},
   "outputs": [
    {
     "data": {
      "text/plain": [
       "{'Vasya': 7, 'Olya': 5, 'Jim': [5, 4, 3], 'Andrey': 10}"
      ]
     },
     "execution_count": 302,
     "metadata": {},
     "output_type": "execute_result"
    }
   ],
   "source": [
    "students_marks_2 = students_marks.copy()\n",
    "students_marks_2"
   ]
  },
  {
   "cell_type": "code",
   "execution_count": 304,
   "id": "9aedb5c6",
   "metadata": {},
   "outputs": [
    {
     "data": {
      "text/plain": [
       "{}"
      ]
     },
     "execution_count": 304,
     "metadata": {},
     "output_type": "execute_result"
    }
   ],
   "source": [
    "students_marks.clear()\n",
    "students_marks"
   ]
  },
  {
   "cell_type": "code",
   "execution_count": 306,
   "id": "53028975",
   "metadata": {},
   "outputs": [
    {
     "ename": "KeyError",
     "evalue": "'Ken'",
     "output_type": "error",
     "traceback": [
      "\u001b[1;31m---------------------------------------------------------------------------\u001b[0m",
      "\u001b[1;31mKeyError\u001b[0m                                  Traceback (most recent call last)",
      "Cell \u001b[1;32mIn[306], line 1\u001b[0m\n\u001b[1;32m----> 1\u001b[0m \u001b[43mstudents_marks_2\u001b[49m\u001b[43m[\u001b[49m\u001b[38;5;124;43m'\u001b[39;49m\u001b[38;5;124;43mKen\u001b[39;49m\u001b[38;5;124;43m'\u001b[39;49m\u001b[43m]\u001b[49m\n",
      "\u001b[1;31mKeyError\u001b[0m: 'Ken'"
     ]
    }
   ],
   "source": [
    "students_marks_2['Ken'] # with no key makes Error"
   ]
  },
  {
   "cell_type": "code",
   "execution_count": 309,
   "id": "65fe88c2",
   "metadata": {},
   "outputs": [
    {
     "name": "stdout",
     "output_type": "stream",
     "text": [
      "None\n"
     ]
    }
   ],
   "source": [
    "print(students_marks_2.get('Ken')) # such way produces None instead of Error"
   ]
  },
  {
   "cell_type": "code",
   "execution_count": 312,
   "id": "3a3ab319",
   "metadata": {},
   "outputs": [
    {
     "data": {
      "text/plain": [
       "{'Vasya': 7, 'Olya': 5, 'Jim': [5, 4, 3], 'Andrey': 10, 'Oleg': None}"
      ]
     },
     "execution_count": 312,
     "metadata": {},
     "output_type": "execute_result"
    }
   ],
   "source": [
    "students_marks_2.setdefault('Oleg') # If no, creates with None (or other passed value). If yes, returns it.\n",
    "students_marks_2"
   ]
  },
  {
   "cell_type": "code",
   "execution_count": 316,
   "id": "23d8ae42",
   "metadata": {},
   "outputs": [
    {
     "data": {
      "text/plain": [
       "2"
      ]
     },
     "execution_count": 316,
     "metadata": {},
     "output_type": "execute_result"
    }
   ],
   "source": [
    "students_marks_2.setdefault('Dima', 2) # If no, creates with None (or other passed value). If yes, returns it."
   ]
  },
  {
   "cell_type": "code",
   "execution_count": 318,
   "id": "28a1a3af",
   "metadata": {},
   "outputs": [
    {
     "data": {
      "text/plain": [
       "{'Vasya': 7,\n",
       " 'Olya': 5,\n",
       " 'Jim': [5, 4, 3],\n",
       " 'Andrey': 10,\n",
       " 'Oleg': None,\n",
       " 'Dima': 2}"
      ]
     },
     "execution_count": 318,
     "metadata": {},
     "output_type": "execute_result"
    }
   ],
   "source": [
    "students_marks_2"
   ]
  },
  {
   "cell_type": "code",
   "execution_count": 319,
   "id": "d1895dc0",
   "metadata": {},
   "outputs": [
    {
     "data": {
      "text/plain": [
       "dict_keys(['Vasya', 'Olya', 'Jim', 'Andrey', 'Oleg', 'Dima'])"
      ]
     },
     "execution_count": 319,
     "metadata": {},
     "output_type": "execute_result"
    }
   ],
   "source": [
    "students_marks_2.keys()"
   ]
  },
  {
   "cell_type": "code",
   "execution_count": 321,
   "id": "20e2cc7d",
   "metadata": {},
   "outputs": [
    {
     "data": {
      "text/plain": [
       "dict_values([7, 5, [5, 4, 3], 10, None, 2])"
      ]
     },
     "execution_count": 321,
     "metadata": {},
     "output_type": "execute_result"
    }
   ],
   "source": [
    "students_marks_2.values()"
   ]
  },
  {
   "cell_type": "code",
   "execution_count": 323,
   "id": "948b32db",
   "metadata": {},
   "outputs": [
    {
     "data": {
      "text/plain": [
       "dict_items([('Vasya', 7), ('Olya', 5), ('Jim', [5, 4, 3]), ('Andrey', 10), ('Oleg', None), ('Dima', 2)])"
      ]
     },
     "execution_count": 323,
     "metadata": {},
     "output_type": "execute_result"
    }
   ],
   "source": [
    "students_marks_2.items()"
   ]
  },
  {
   "cell_type": "code",
   "execution_count": 324,
   "id": "2987c417",
   "metadata": {},
   "outputs": [
    {
     "name": "stdout",
     "output_type": "stream",
     "text": [
      "dict_keys(['Vasya', 'Olya', 'Jim', 'Andrey', 'Oleg', 'Dima'])\n",
      "{'Vasya': 7, 'Olya': 5, 'Andrey': 10, 'Oleg': None, 'Dima': 2}\n",
      "dict_keys(['Vasya', 'Olya', 'Andrey', 'Oleg', 'Dima'])\n"
     ]
    }
   ],
   "source": [
    "a = students_marks_2.keys()\n",
    "print(a)\n",
    "del students_marks_2['Jim']\n",
    "print(students_marks_2)\n",
    "print(a) # we have not touched the `a`, but it still tracks what happens with the parent dict"
   ]
  },
  {
   "cell_type": "code",
   "execution_count": 327,
   "id": "93b68551",
   "metadata": {},
   "outputs": [
    {
     "data": {
      "text/plain": [
       "{'Vasya': 5, 'Olya': 5, 'Andrey': 10, 'Oleg': None, 'Dima': 2, 'Mary': 3}"
      ]
     },
     "execution_count": 327,
     "metadata": {},
     "output_type": "execute_result"
    }
   ],
   "source": [
    "students_marks_2.update({'Mary': 3, 'Vasya': 5})\n",
    "students_marks_2"
   ]
  },
  {
   "cell_type": "code",
   "execution_count": null,
   "id": "1204678a",
   "metadata": {},
   "outputs": [],
   "source": []
  }
 ],
 "metadata": {
  "kernelspec": {
   "display_name": "Python 3 (ipykernel)",
   "language": "python",
   "name": "python3"
  },
  "language_info": {
   "codemirror_mode": {
    "name": "ipython",
    "version": 3
   },
   "file_extension": ".py",
   "mimetype": "text/x-python",
   "name": "python",
   "nbconvert_exporter": "python",
   "pygments_lexer": "ipython3",
   "version": "3.11.4"
  }
 },
 "nbformat": 4,
 "nbformat_minor": 5
}
