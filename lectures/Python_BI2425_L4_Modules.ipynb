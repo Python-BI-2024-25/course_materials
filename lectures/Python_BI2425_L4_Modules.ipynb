{
 "cells": [
  {
   "cell_type": "markdown",
   "id": "8d7cf656",
   "metadata": {},
   "source": [
    "# <center>  Python for biologists"
   ]
  },
  {
   "cell_type": "markdown",
   "id": "eaad065b",
   "metadata": {},
   "source": [
    "## Lecture 4, Modules\n",
    "28.09.2024\n",
    "\n",
    "\n",
    "> Nikita Vaulin, vaulin@ro.ru, tg: @nvaulin\n",
    "    "
   ]
  },
  {
   "cell_type": "markdown",
   "id": "3c1bc47d",
   "metadata": {},
   "source": [
    "***Микрокоммент***. \n",
    "\n",
    "Конспект лекции приведен в jupyter notebook. У jupyter есть некоторые особенности при работе с модулями. Мы еще с этим познакомимся чуть позже, но пока несколько вещей которые тут будут использоваться.\n",
    "\n",
    "(Если вы работаете просто в IDE и запускаете скрипт, то для вас все как обычно)\n",
    "\n",
    "1) **Магические ячейки**\n",
    "\n",
    "    В Jupyter можно ставить знаки `%` `%%` чтобы модифицировать поведение ячейки. У нас будет про это подробнее, но пока просто знайте, что:\n",
    "    ```python\n",
    "    %%file script.py ,\n",
    "    \n",
    "    ``` \n",
    "    написанное в начале ячейки - создает файл *script.py* и записывает туда содержимое ячейки.\n",
    "    \n",
    "2) **Переимпортирование**\n",
    "\n",
    "    По-умолчанию Jupyter не импортирует заново ранее импортированные модули (даже если запустить код импортирования). То есть обновления в них не подтянуться. Можно либо перезапустить ядро (Kernel restart), либо выполнить следующий код:"
   ]
  },
  {
   "cell_type": "code",
   "execution_count": 2,
   "id": "98d56b93-6e0c-4dee-9ff0-2a9214b6ed17",
   "metadata": {
    "tags": []
   },
   "outputs": [],
   "source": [
    "%load_ext autoreload"
   ]
  },
  {
   "cell_type": "code",
   "execution_count": 4,
   "id": "bde8118c-4dd5-4567-bd79-1cac53d0d4f9",
   "metadata": {
    "tags": []
   },
   "outputs": [],
   "source": [
    "autoreload 2 "
   ]
  },
  {
   "cell_type": "markdown",
   "id": "118527b1-f98c-433b-a307-8d6009016cd0",
   "metadata": {},
   "source": [
    "*2 это код означающий \"включи переимпортирование\"*"
   ]
  },
  {
   "cell_type": "markdown",
   "id": "2bf8e64a",
   "metadata": {},
   "source": [
    "### <center> Поехали!"
   ]
  },
  {
   "cell_type": "markdown",
   "id": "6a6150f9",
   "metadata": {},
   "source": [
    "---"
   ]
  },
  {
   "cell_type": "markdown",
   "id": "49fc657a-fb12-4886-9064-feeac80b76c0",
   "metadata": {},
   "source": [
    "# Modules\n",
    "\n",
    "- Модуль это просто скрипт\n",
    "- В момент import'а весь модуль исполняется как обычный код\n",
    "- Его переменные и другие объекты доступы через префикс - имя модуля\n",
    "- Есть специальные правила где искать эти самые модули (`sys.path`)"
   ]
  },
  {
   "cell_type": "code",
   "execution_count": 1,
   "id": "8cf7892e-0bce-43d4-8cc9-d86e6bc92a9a",
   "metadata": {},
   "outputs": [
    {
     "name": "stdout",
     "output_type": "stream",
     "text": [
      "3.141592653589793\n",
      "-0.9880316240928618\n"
     ]
    }
   ],
   "source": [
    "import math\n",
    "\n",
    "print(math.pi)\n",
    "print(math.sin(30))"
   ]
  },
  {
   "cell_type": "markdown",
   "id": "6a9a6895-8bb8-48f1-ae10-29eba98db2de",
   "metadata": {},
   "source": [
    " "
   ]
  },
  {
   "cell_type": "code",
   "execution_count": 2,
   "id": "0ead38b8-f70f-4126-9ee6-4032c2acc112",
   "metadata": {},
   "outputs": [
    {
     "name": "stdout",
     "output_type": "stream",
     "text": [
      "Overwriting my_module.py\n"
     ]
    }
   ],
   "source": [
    "%%file my_module.py \n",
    "print('Hi, i am your module!')\n",
    "\n",
    "pi = 3.14\n",
    "\n",
    "\n",
    "def sin(x):\n",
    "    return x"
   ]
  },
  {
   "cell_type": "markdown",
   "id": "96cb6f2a-3841-425b-b8f3-34e00b84ac1c",
   "metadata": {},
   "source": [
    "В момент импорта идёт печать - это потому что скрипт модуля просто исполняется"
   ]
  },
  {
   "cell_type": "code",
   "execution_count": 3,
   "id": "a91e1d11-9604-4bd8-bdb3-f6e2b7b6e53f",
   "metadata": {},
   "outputs": [
    {
     "name": "stdout",
     "output_type": "stream",
     "text": [
      "Hi, i am your module!\n"
     ]
    }
   ],
   "source": [
    "import my_module"
   ]
  },
  {
   "cell_type": "markdown",
   "id": "46a54f84-1b8e-4562-b072-33b50dfe302b",
   "metadata": {},
   "source": [
    "Обращение идёт как обычно через точку:"
   ]
  },
  {
   "cell_type": "code",
   "execution_count": 4,
   "id": "ac2950db-ebc9-4a88-9ea9-c68b8a0d9d55",
   "metadata": {},
   "outputs": [
    {
     "name": "stdout",
     "output_type": "stream",
     "text": [
      "3.14\n"
     ]
    }
   ],
   "source": [
    "print(my_module.pi)"
   ]
  },
  {
   "cell_type": "markdown",
   "id": "72a073b2-4e27-4dbe-bfc7-0cbe2fcb74aa",
   "metadata": {},
   "source": [
    "Это обычная переменная, ее можно перезаписать"
   ]
  },
  {
   "cell_type": "code",
   "execution_count": 5,
   "id": "c89166e1-a3d7-4d48-a72a-dfb8b55841c0",
   "metadata": {},
   "outputs": [
    {
     "name": "stdout",
     "output_type": "stream",
     "text": [
      "4\n"
     ]
    }
   ],
   "source": [
    "my_module.pi = 4\n",
    "print(my_module.pi)"
   ]
  },
  {
   "cell_type": "markdown",
   "id": "3d2de3c7-72a3-4406-bd82-5172a6f264a3",
   "metadata": {},
   "source": [
    "А если положить модуль в какую-то папку?"
   ]
  },
  {
   "cell_type": "code",
   "execution_count": null,
   "id": "70935a35-256a-42eb-9926-c70ef5bb3526",
   "metadata": {},
   "outputs": [],
   "source": [
    "! mkdir scripts"
   ]
  },
  {
   "cell_type": "code",
   "execution_count": 7,
   "id": "13571717-39cf-4c4a-9dc7-e5ddf3ee5c79",
   "metadata": {},
   "outputs": [
    {
     "name": "stdout",
     "output_type": "stream",
     "text": [
      "Overwriting scripts/my_math.py\n"
     ]
    }
   ],
   "source": [
    "%%file scripts/my_math.py \n",
    "\n",
    "pi = 3.1415\n"
   ]
  },
  {
   "cell_type": "code",
   "execution_count": 8,
   "id": "5537e153-4ddc-42ea-836f-8211829510f2",
   "metadata": {},
   "outputs": [],
   "source": [
    "import scripts.my_math"
   ]
  },
  {
   "cell_type": "code",
   "execution_count": 9,
   "id": "49c1e7b5-a95d-43f6-aa95-6ee7b46482ae",
   "metadata": {},
   "outputs": [
    {
     "name": "stdout",
     "output_type": "stream",
     "text": [
      "\n",
      "pi = 3.1415\n"
     ]
    }
   ],
   "source": [
    "! cat scripts/my_math.py"
   ]
  },
  {
   "cell_type": "code",
   "execution_count": 10,
   "id": "02c859bc-9262-4800-8f7d-152028ed0808",
   "metadata": {},
   "outputs": [
    {
     "data": {
      "text/plain": [
       "3.1415"
      ]
     },
     "execution_count": 10,
     "metadata": {},
     "output_type": "execute_result"
    }
   ],
   "source": [
    "scripts.my_math.pi"
   ]
  },
  {
   "cell_type": "markdown",
   "id": "7a8d8029-8cf8-476f-b94a-1363e8b8ddc1",
   "metadata": {},
   "source": [
    "## Как еще по другому можно импортироват?\n",
    "\n",
    "- Создавая alias - новое имя для модуля (`import ... as ...`)\n",
    "- Импортируя только часть функция (при этом код все равно выполняется целиком, просто ненужные функции удаляются, `from ... import ...`)"
   ]
  },
  {
   "cell_type": "code",
   "execution_count": 1,
   "id": "d99c06f0-5d47-428c-8e8c-e83c8b70501b",
   "metadata": {},
   "outputs": [
    {
     "name": "stdout",
     "output_type": "stream",
     "text": [
      "Hi, i am your module!\n"
     ]
    }
   ],
   "source": [
    "import my_module as mm"
   ]
  },
  {
   "cell_type": "code",
   "execution_count": 2,
   "id": "fc5b47a8-4992-428d-bd44-a5adc6d5fc4a",
   "metadata": {},
   "outputs": [
    {
     "ename": "NameError",
     "evalue": "name 'my_module' is not defined",
     "output_type": "error",
     "traceback": [
      "\u001b[0;31m---------------------------------------------------------------------------\u001b[0m",
      "\u001b[0;31mNameError\u001b[0m                                 Traceback (most recent call last)",
      "Cell \u001b[0;32mIn[2], line 1\u001b[0m\n\u001b[0;32m----> 1\u001b[0m \u001b[38;5;28mprint\u001b[39m(\u001b[43mmy_module\u001b[49m\u001b[38;5;241m.\u001b[39mpi)\n",
      "\u001b[0;31mNameError\u001b[0m: name 'my_module' is not defined"
     ]
    }
   ],
   "source": [
    "print(my_module.pi)"
   ]
  },
  {
   "cell_type": "code",
   "execution_count": 3,
   "id": "a3f26b38-e4da-4fd4-9d29-c972ccae35c1",
   "metadata": {},
   "outputs": [
    {
     "name": "stdout",
     "output_type": "stream",
     "text": [
      "3.14\n"
     ]
    }
   ],
   "source": [
    "print(mm.pi)"
   ]
  },
  {
   "cell_type": "code",
   "execution_count": 1,
   "id": "ac13e995-0961-4491-9415-ce0e8bf9bf5d",
   "metadata": {},
   "outputs": [
    {
     "name": "stdout",
     "output_type": "stream",
     "text": [
      "Hi, i am your module!\n"
     ]
    }
   ],
   "source": [
    "from my_module import sin as my_sin"
   ]
  },
  {
   "cell_type": "code",
   "execution_count": 2,
   "id": "aad4ba28-5ef3-48d5-b3d5-3ddf9bb45c14",
   "metadata": {},
   "outputs": [
    {
     "name": "stdout",
     "output_type": "stream",
     "text": [
      "30\n"
     ]
    }
   ],
   "source": [
    "print(my_sin(30))"
   ]
  },
  {
   "cell_type": "code",
   "execution_count": 1,
   "id": "d0dec284-ecdd-48ca-ad7b-74e4336e361f",
   "metadata": {},
   "outputs": [
    {
     "name": "stdout",
     "output_type": "stream",
     "text": [
      "Hi, i am my_module!\n"
     ]
    }
   ],
   "source": [
    "from my_module import *"
   ]
  },
  {
   "cell_type": "code",
   "execution_count": 3,
   "id": "eff16b8b-849b-4567-9e28-e7bb1e02e213",
   "metadata": {},
   "outputs": [
    {
     "name": "stdout",
     "output_type": "stream",
     "text": [
      "0\n"
     ]
    }
   ],
   "source": [
    "print(sin(30))"
   ]
  },
  {
   "cell_type": "code",
   "execution_count": 4,
   "id": "0214b6ed-6184-41bc-a2a9-233186f25315",
   "metadata": {},
   "outputs": [
    {
     "name": "stdout",
     "output_type": "stream",
     "text": [
      "3\n"
     ]
    }
   ],
   "source": [
    "print(pi)"
   ]
  },
  {
   "cell_type": "code",
   "execution_count": 1,
   "id": "00c4648e-f653-46f7-a6dc-daef4f4ea86e",
   "metadata": {},
   "outputs": [
    {
     "name": "stdout",
     "output_type": "stream",
     "text": [
      "my_module\n"
     ]
    }
   ],
   "source": [
    "import my_module"
   ]
  },
  {
   "cell_type": "code",
   "execution_count": 10,
   "id": "2a30cde8-599a-4272-bfa4-95c623f7b4ac",
   "metadata": {},
   "outputs": [
    {
     "data": {
      "text/plain": [
       "'my_module'"
      ]
     },
     "execution_count": 10,
     "metadata": {},
     "output_type": "execute_result"
    }
   ],
   "source": [
    "my_module.__name__"
   ]
  },
  {
   "cell_type": "code",
   "execution_count": 2,
   "id": "11e2ffb7-3dec-4461-b33c-a56083252c25",
   "metadata": {},
   "outputs": [
    {
     "name": "stdout",
     "output_type": "stream",
     "text": [
      "__main__\n"
     ]
    }
   ],
   "source": [
    "! python my_module.py"
   ]
  },
  {
   "cell_type": "code",
   "execution_count": 3,
   "id": "b25fe33c-d5c8-4a12-959a-73b678ec29bb",
   "metadata": {},
   "outputs": [],
   "source": [
    "import src.my_math"
   ]
  },
  {
   "cell_type": "code",
   "execution_count": 4,
   "id": "f044e691-ecb5-4424-878f-381e2b976e98",
   "metadata": {},
   "outputs": [
    {
     "data": {
      "text/plain": [
       "'src.my_math'"
      ]
     },
     "execution_count": 4,
     "metadata": {},
     "output_type": "execute_result"
    }
   ],
   "source": [
    "src.my_math.__name__"
   ]
  },
  {
   "cell_type": "code",
   "execution_count": 1,
   "id": "8a1d0854-4637-45a1-b6cd-cb467b84bef8",
   "metadata": {},
   "outputs": [],
   "source": [
    "import my_module"
   ]
  },
  {
   "cell_type": "code",
   "execution_count": 2,
   "id": "22b3520e-2cb1-47d4-9a4e-dbcf09f57d4b",
   "metadata": {},
   "outputs": [
    {
     "data": {
      "text/plain": [
       "<function my_module.read_file()>"
      ]
     },
     "execution_count": 2,
     "metadata": {},
     "output_type": "execute_result"
    }
   ],
   "source": [
    "my_module.read_file"
   ]
  },
  {
   "cell_type": "code",
   "execution_count": null,
   "id": "d5f119f2-5fed-468c-bf3d-3a89180a5a1b",
   "metadata": {},
   "outputs": [],
   "source": [
    "! python my_module.py"
   ]
  },
  {
   "cell_type": "code",
   "execution_count": null,
   "id": "2e68d34e-bde1-4641-bd4d-26e3c4dc5717",
   "metadata": {},
   "outputs": [],
   "source": []
  },
  {
   "cell_type": "markdown",
   "id": "4fa107d2-e040-425e-baac-934834a42265",
   "metadata": {},
   "source": [
    "Иногда люди импортируют все функции таким образом:\n",
    "\n",
    "```\n",
    "from ... import *\n",
    "```\n",
    "\n",
    "Так делать нельзя, это плохо по двуим причинам:\n",
    "- Опасно для работы кода, могут быть коллизии и перезаписывания каких-то функций и переменных\n",
    "- Это очень плохо читается, не знаешь откуда тот или иной объект взялся"
   ]
  }
 ],
 "metadata": {
  "kernelspec": {
   "display_name": "Python 3 (ipykernel)",
   "language": "python",
   "name": "python3"
  },
  "language_info": {
   "codemirror_mode": {
    "name": "ipython",
    "version": 3
   },
   "file_extension": ".py",
   "mimetype": "text/x-python",
   "name": "python",
   "nbconvert_exporter": "python",
   "pygments_lexer": "ipython3",
   "version": "3.11.9"
  }
 },
 "nbformat": 4,
 "nbformat_minor": 5
}
