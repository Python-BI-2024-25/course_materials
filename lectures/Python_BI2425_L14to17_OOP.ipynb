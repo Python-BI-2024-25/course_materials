{
 "cells": [
  {
   "cell_type": "markdown",
   "id": "8d7cf656",
   "metadata": {},
   "source": [
    "# <center>  Python for biologists"
   ]
  },
  {
   "cell_type": "markdown",
   "id": "eaad065b",
   "metadata": {},
   "source": [
    "## Lectures (14 - 17),  OOP\n",
    "01.02.2025, 08.02.2025, 15.02.2025, 22.02.2025,\n",
    "\n",
    "> Nikita Vaulin, vaulin@ro.ru, tg: @nvaulin\n",
    "    "
   ]
  },
  {
   "cell_type": "markdown",
   "id": "2bf8e64a",
   "metadata": {},
   "source": [
    "### <center> Let's move on!"
   ]
  },
  {
   "cell_type": "markdown",
   "id": "6a6150f9",
   "metadata": {},
   "source": [
    "---"
   ]
  },
  {
   "cell_type": "markdown",
   "id": "ac5aacbc-a96b-4221-a881-3eaf6632e597",
   "metadata": {},
   "source": [
    "# OOP - Object-oriented programming \n",
    "\n",
    "- **Класс** (тип) [Class] - абстрактное понятие, объединяющее некоторые объекты; \"фабрика объектов\", \"чертеж\" </br>\n",
    "*Примеры*: автомобиль, животное, человек, врач\n",
    "\n",
    "- **Экземпляр** (объект класса) [instance] - конкретный представитель заданного класса </br>\n",
    "*Примеры*: Гвидо ван Россум - экземпляр класса \"человек\", </br>\n",
    "&ensp;&emsp;&emsp;&emsp;&emsp; Букля - экземпляр класса \"животное\"\n",
    "\n",
    "- **Атрибут** (поле, свойство) [field, attribute, property] - некоторая характеристика, присущие объектам данного класса, какое-то существительное или прилагательное. </br>\n",
    "Формально: переменная привязанная к объекту </br>\n",
    "*Примеры*: у всех собак есть аттрибут \"количество ног\" со значением 4. </br>\n",
    "&ensp;&emsp;&emsp;&emsp;&emsp;  у всех собак есть аттрибут \"порода\" (у каждой значение может быть свое)\n",
    "\n",
    "- **Метод** [method] - некоторая функция (действие), присущее объектам данного класса, какой-то глагол </br>\n",
    "Формально: функция привязанная к объекту </br>\n",
    "*Примеры*: у всех собак есть метод \"лаять\" </br>\n",
    "\n",
    "В некотором смысле методы также являются атрибутами. В интернете можно найти много разных холиваров касательно этого терминологического момента, например [вот](https://stackoverflow.com/questions/46312470/difference-between-methods-and-attributes-in-python).\n"
   ]
  },
  {
   "cell_type": "code",
   "execution_count": 1,
   "id": "b297f15d-4384-4aaf-8b60-4f2a2104099b",
   "metadata": {},
   "outputs": [],
   "source": [
    "class Dog():\n",
    "    pass"
   ]
  },
  {
   "cell_type": "code",
   "execution_count": 2,
   "id": "27e4b611-938f-4aa1-8af8-708a9579341e",
   "metadata": {
    "tags": []
   },
   "outputs": [],
   "source": [
    "my_dog = Dog()"
   ]
  },
  {
   "cell_type": "markdown",
   "id": "b9bf407d-1d1d-4ab2-8d8f-ad580996fe06",
   "metadata": {},
   "source": [
    "| Объект         | Сущность     | Тип данных | print(...) |\n",
    "|--------------|-----------|------------|------------|\n",
    "| `Dog`  | Класс    | `<class 'type'>`  | `<class '__main__.Dog'>` |\n",
    "| `my_dog = Dog()`      | Экземпляр | `<class '__main__.Dog'>`     |  `<__main__.Dog object at 0x7b49ec1f4dc0>` |"
   ]
  },
  {
   "cell_type": "code",
   "execution_count": 3,
   "id": "7c31ea0b-34d4-472f-a2a4-2934b7e0a054",
   "metadata": {
    "tags": []
   },
   "outputs": [],
   "source": [
    "class Dog():\n",
    "    n_legs = 4\n",
    "\n",
    "    def bark():\n",
    "        print('Bark-bark!')"
   ]
  },
  {
   "cell_type": "code",
   "execution_count": 4,
   "id": "192c3b52-665a-45b5-80ce-c7b741f9691e",
   "metadata": {
    "tags": []
   },
   "outputs": [
    {
     "data": {
      "text/plain": [
       "4"
      ]
     },
     "execution_count": 4,
     "metadata": {},
     "output_type": "execute_result"
    }
   ],
   "source": [
    "Dog.n_legs"
   ]
  },
  {
   "cell_type": "code",
   "execution_count": 5,
   "id": "7f72aafd-a334-444e-ae4c-4aac3cdd48ec",
   "metadata": {
    "tags": []
   },
   "outputs": [
    {
     "name": "stdout",
     "output_type": "stream",
     "text": [
      "Bark-bark!\n"
     ]
    }
   ],
   "source": [
    "Dog.bark()"
   ]
  },
  {
   "cell_type": "code",
   "execution_count": 6,
   "id": "4496de1b-15b0-41de-b0bc-8fc4dcd3ced6",
   "metadata": {
    "tags": []
   },
   "outputs": [],
   "source": [
    "my_dog = Dog()"
   ]
  },
  {
   "cell_type": "code",
   "execution_count": 7,
   "id": "91cf6bbd-3324-4644-ba7f-46728675959f",
   "metadata": {
    "tags": []
   },
   "outputs": [
    {
     "data": {
      "text/plain": [
       "4"
      ]
     },
     "execution_count": 7,
     "metadata": {},
     "output_type": "execute_result"
    }
   ],
   "source": [
    "my_dog.n_legs"
   ]
  },
  {
   "cell_type": "code",
   "execution_count": 8,
   "id": "29700824-4889-48ae-b972-0bab2bb39004",
   "metadata": {
    "tags": []
   },
   "outputs": [
    {
     "ename": "TypeError",
     "evalue": "Dog.bark() takes 0 positional arguments but 1 was given",
     "output_type": "error",
     "traceback": [
      "\u001b[0;31m---------------------------------------------------------------------------\u001b[0m",
      "\u001b[0;31mTypeError\u001b[0m                                 Traceback (most recent call last)",
      "Cell \u001b[0;32mIn[8], line 1\u001b[0m\n\u001b[0;32m----> 1\u001b[0m \u001b[43mmy_dog\u001b[49m\u001b[38;5;241;43m.\u001b[39;49m\u001b[43mbark\u001b[49m\u001b[43m(\u001b[49m\u001b[43m)\u001b[49m\n",
      "\u001b[0;31mTypeError\u001b[0m: Dog.bark() takes 0 positional arguments but 1 was given"
     ]
    }
   ],
   "source": [
    "my_dog.bark()"
   ]
  },
  {
   "cell_type": "markdown",
   "id": "abc94aea-4d3d-45f5-8168-497318523536",
   "metadata": {},
   "source": [
    "### Важное правило\n",
    "\n",
    "> **Все методы которые работают с экземплярами класса, принимают этот самый экземпляр в качестве первого аргумента!**\n",
    "\n",
    "- Да, это происходит всегда\n",
    "- Да, это происходит неявно\n",
    "- Это всегда первый позиционный аргумент\n",
    "- Да, когда вы пишите методы, надо об этом помнить и всегда создавать первый аргумент, даже если никаких аргументов у функции больше и нет\n",
    "- В python *принято* этот аргумент называть словом `self`. В других языках иногда еще встречается `this`.\n",
    "- В 99% вы будете писать и читать методы, которые работают с экземпляром класса и потому имеют аргумент `self`"
   ]
  },
  {
   "cell_type": "code",
   "execution_count": 9,
   "id": "6ca7a0bc-fa2d-4c5d-a715-f9fcea3c1b45",
   "metadata": {
    "tags": []
   },
   "outputs": [],
   "source": [
    "class Dog():\n",
    "    n_legs = 4\n",
    "\n",
    "    def bark(self):\n",
    "        print('Bark-bark!')"
   ]
  },
  {
   "cell_type": "code",
   "execution_count": 10,
   "id": "2251095f-7b13-475f-8da7-046b58cb801e",
   "metadata": {
    "tags": []
   },
   "outputs": [
    {
     "ename": "TypeError",
     "evalue": "Dog.bark() missing 1 required positional argument: 'self'",
     "output_type": "error",
     "traceback": [
      "\u001b[0;31m---------------------------------------------------------------------------\u001b[0m",
      "\u001b[0;31mTypeError\u001b[0m                                 Traceback (most recent call last)",
      "Cell \u001b[0;32mIn[10], line 1\u001b[0m\n\u001b[0;32m----> 1\u001b[0m \u001b[43mDog\u001b[49m\u001b[38;5;241;43m.\u001b[39;49m\u001b[43mbark\u001b[49m\u001b[43m(\u001b[49m\u001b[43m)\u001b[49m\n",
      "\u001b[0;31mTypeError\u001b[0m: Dog.bark() missing 1 required positional argument: 'self'"
     ]
    }
   ],
   "source": [
    "Dog.bark()"
   ]
  },
  {
   "cell_type": "code",
   "execution_count": 11,
   "id": "3599ce8b-6bac-4240-91ec-a7a7c732b2c9",
   "metadata": {
    "tags": []
   },
   "outputs": [
    {
     "name": "stdout",
     "output_type": "stream",
     "text": [
      "Bark-bark!\n"
     ]
    }
   ],
   "source": [
    "Dog().bark()"
   ]
  },
  {
   "cell_type": "markdown",
   "id": "cf3125cf-9c9d-4a08-83c0-ea8dc566d9bd",
   "metadata": {},
   "source": [
    "- **Инициализация** [initialization, construstion] - создание экземпляра класса\n",
    "\n",
    "```python\n",
    "my_dog = Dog()\n",
    "```\n",
    "\n",
    "`Dog` - класс, как и любой класс в python является *callable* </br>\n",
    "`Dog()` - мы \"вызываем\" класс. При вызове функции происходит выполнение кода функции и возвращение результата. При вызове класса происходит выполнение инициализации и возвращние экземпляра.\n",
    "\n",
    "```python \n",
    "function -> call -> result\n",
    "```\n",
    "```python \n",
    "class -> call -> instance\n",
    "```\n",
    "\n",
    "Управление инициализацией можно осуществлять с помощью специального метода `__init__`. Это зарезервированное название в python которое интерпретируется как \"тут лежат правила инициализации\". "
   ]
  },
  {
   "cell_type": "code",
   "execution_count": 12,
   "id": "4e2c273a-025b-41f6-bef8-9693d9da9c6c",
   "metadata": {
    "tags": []
   },
   "outputs": [],
   "source": [
    "class Dog():\n",
    "    n_legs = 4\n",
    "    def __init__(self):\n",
    "        print('I am initialized!')"
   ]
  },
  {
   "cell_type": "code",
   "execution_count": 13,
   "id": "b49b0faa-f328-4d06-aa1b-8c3b3443b79c",
   "metadata": {
    "tags": []
   },
   "outputs": [
    {
     "name": "stdout",
     "output_type": "stream",
     "text": [
      "I am initialized!\n"
     ]
    }
   ],
   "source": [
    "my_dog = Dog()"
   ]
  },
  {
   "cell_type": "code",
   "execution_count": 14,
   "id": "7b45847d-fab1-4003-909e-74ad1c4419a3",
   "metadata": {
    "tags": []
   },
   "outputs": [],
   "source": [
    "class Dog():\n",
    "    n_legs = 4\n",
    "    def __init__(self, breed):\n",
    "        self.breed = breed\n",
    "        print('I am initialized!')"
   ]
  },
  {
   "cell_type": "code",
   "execution_count": 15,
   "id": "eba14a23-2ace-4ca5-b622-4a96de99a985",
   "metadata": {
    "tags": []
   },
   "outputs": [
    {
     "name": "stdout",
     "output_type": "stream",
     "text": [
      "I am initialized!\n",
      "I am initialized!\n",
      "I am initialized!\n",
      "I am initialized!\n"
     ]
    }
   ],
   "source": [
    "mukhtar = Dog('Sheepdog')\n",
    "belka = Dog('Mixed')\n",
    "strelka = Dog('Mixed')\n",
    "hachikō = Dog('Akita')"
   ]
  },
  {
   "cell_type": "code",
   "execution_count": 16,
   "id": "be5a735f-2a4b-401a-b968-a88c3b70b1ae",
   "metadata": {
    "tags": []
   },
   "outputs": [
    {
     "data": {
      "text/plain": [
       "'Sheepdog'"
      ]
     },
     "execution_count": 16,
     "metadata": {},
     "output_type": "execute_result"
    }
   ],
   "source": [
    "mukhtar.breed"
   ]
  },
  {
   "cell_type": "code",
   "execution_count": 17,
   "id": "ea05df29-3216-4206-929e-01e73625cbc5",
   "metadata": {
    "tags": []
   },
   "outputs": [
    {
     "data": {
      "text/plain": [
       "'Mixed'"
      ]
     },
     "execution_count": 17,
     "metadata": {},
     "output_type": "execute_result"
    }
   ],
   "source": [
    "strelka.breed"
   ]
  },
  {
   "cell_type": "code",
   "execution_count": 18,
   "id": "b3f70232-1cee-4186-9226-9e925339170d",
   "metadata": {
    "tags": []
   },
   "outputs": [
    {
     "name": "stdout",
     "output_type": "stream",
     "text": [
      "I am Sheepdog with 4 legs\n",
      "I am Mixed with 4 legs\n",
      "I am Mixed with 4 legs\n",
      "I am Akita with 4 legs\n"
     ]
    }
   ],
   "source": [
    "for dog in (mukhtar, belka, strelka, hachikō):\n",
    "    print(f'I am {dog.breed} with {dog.n_legs} legs')"
   ]
  },
  {
   "cell_type": "code",
   "execution_count": 19,
   "id": "1aa6ab05-083c-44b2-99e5-491a4450b581",
   "metadata": {
    "tags": []
   },
   "outputs": [],
   "source": [
    "class Dog():\n",
    "    n_legs = 4\n",
    "    def __init__(self, something):\n",
    "        self.breed = something"
   ]
  },
  {
   "cell_type": "code",
   "execution_count": 20,
   "id": "c42be8d9-778a-46a4-8cb3-6219475815f1",
   "metadata": {
    "tags": []
   },
   "outputs": [
    {
     "name": "stdout",
     "output_type": "stream",
     "text": [
      "Sheepdog\n",
      "Mixed\n"
     ]
    }
   ],
   "source": [
    "mukhtar = Dog('Sheepdog')\n",
    "belka = Dog('Mixed')\n",
    "print(mukhtar.breed)\n",
    "print(belka.breed)"
   ]
  },
  {
   "cell_type": "code",
   "execution_count": 21,
   "id": "55e69f09-f806-49c7-8a92-8eb6118deb8d",
   "metadata": {
    "tags": []
   },
   "outputs": [
    {
     "name": "stdout",
     "output_type": "stream",
     "text": [
      "mukhtar.n_legs = 4\n",
      "belka.n_legs = 4\n",
      "---\n",
      "mukhtar.n_legs = 5\n",
      "belka.n_legs = 5\n",
      "---\n",
      "mukhtar.n_legs = 5\n",
      "belka.n_legs = 3\n"
     ]
    }
   ],
   "source": [
    "print(f'{mukhtar.n_legs = }')\n",
    "print(f'{belka.n_legs = }')\n",
    "\n",
    "print('---')\n",
    "Dog.n_legs = 5 \n",
    "print(f'{mukhtar.n_legs = }')\n",
    "print(f'{belka.n_legs = }')\n",
    "\n",
    "print('---')\n",
    "belka.n_legs = 3 \n",
    "print(f'{mukhtar.n_legs = }')\n",
    "print(f'{belka.n_legs = }')\n"
   ]
  },
  {
   "cell_type": "code",
   "execution_count": 22,
   "id": "d721cca0-c104-450a-bb9f-b93cc5d7aa8a",
   "metadata": {
    "tags": []
   },
   "outputs": [],
   "source": [
    "class Dog():\n",
    "    n_legs = 4\n",
    "    def __init__(self, breed, age):\n",
    "        self.breed = breed\n",
    "        self.age = age\n",
    "        \n",
    "    def bark(self):\n",
    "        print(f'Bark-bark, I am {self.age} years old')"
   ]
  },
  {
   "cell_type": "code",
   "execution_count": 23,
   "id": "49d06167-3d00-4ab8-b3ce-8efa4ef46b74",
   "metadata": {
    "tags": []
   },
   "outputs": [
    {
     "name": "stdout",
     "output_type": "stream",
     "text": [
      "Bark-bark, I am 20 years old\n",
      "Bark-bark, I am 10 years old\n"
     ]
    }
   ],
   "source": [
    "mukhtar = Dog('Sheepdog', 20)\n",
    "belka = Dog('Mixed', 10)\n",
    "mukhtar.bark()\n",
    "belka.bark()"
   ]
  },
  {
   "cell_type": "markdown",
   "id": "0ff43e7a-54b6-4749-99c0-a6602d747fee",
   "metadata": {},
   "source": [
    " ## Интерфейс\n",
    " - **Интерфейс** - это те правила, которые создал автор объекта для взаимодействия с этим объекта. Технически можно предстввлять это как набор всех (публичных) аттрибутов и методов. В программировании это еще называют `API`, Application Programming Interface. \n",
    "\n",
    "*Аналогия* - интерфейс это кнопки на пульте. Производитель заранее задал правила: что вы можете нажимать и что будет происходить. В нашем случае `say_name()` или `bark()` это те самые кнопки. Мы как авторы класса `Dog` говорим: \"вы можете попросить нашу собаку погавкать и она погавкает\". \n",
    "\n",
    "> \"Интерфейс\" это публичный договор программиста с пользователем: \"делай это - получишь это\"\n",
    "\n",
    "При этом наш собачий API не подразумевает мяукания. Мы не писали такой функционал, наши собаки не имеют интерфейса мяукания. Тем не менее, кто то мог быть написать свои кастомные функции которые бы \"научили\" наших собак мяукать. Но мы за это уже не отвечаем. \n"
   ]
  },
  {
   "cell_type": "markdown",
   "id": "6b0e0a86-1079-432f-930d-bc1a40af7de1",
   "metadata": {
    "tags": []
   },
   "source": [
    "## Приватность атрибутов и методов\n",
    "\n",
    "Здесь в python все довольно сильно отличается от многих других языков. В общем случае приватность обеспечивается на программном уровне в виде специальных модификаторов и может ограничивать доступ к атрибутам и методам. В python в строгом смысле приватности нет, есть лишь соглашение программистов о том что атрибуты помеченные как приватные трогать не следует. \n",
    "\n",
    "По уровню приватности могут быть трех типов:\n",
    "\n",
    "- Публичные  `public` </br>\n",
    "*В общем*: Можно получить доступ где угодно </br>\n",
    "*В python*: Можно получить доступ где угодно (по имени `attr`).\n",
    "```python\n",
    "self.attr = value\n",
    "```\n",
    "  \n",
    "- Защищенные `protected` </br>\n",
    "*В общем*: Можно получить доступ внутри экземпляра данного класса, внутри наследников данного класса, но **нельзя** получить доступ снаружи класса или его наследников.</br>\n",
    "*В python*: Можно получить доступ где угодно (по имени `_attr`). Как публичные, только питонисты договорились что это не публичные \n",
    "```python\n",
    "self._attr = value\n",
    "```\n",
    "\n",
    "- Приватные `private` </br>\n",
    "*В общем*: Можно получить доступ только внутри экземпляра данного класса </br>\n",
    "*В python*: Можнополучить доступ где угодно (по имени `_<Class>__attr`). Как публичные только происходит `name mangling` (модификация имени) и питонисты договорились что это не публичные.\n",
    "```python\n",
    "self.__attr = value\n",
    "```\n",
    "\n",
    "Когда вы пишите код, следует соблюдать эти правила:\n",
    "1. Не использовать без особой нужды **\"приватные\"** и **\"защищённые\"** атрибуты снаружи класса (хотя язык позволяет это делать)\n",
    "2. Если вы не хотите, чтобы ваш атрибут кто-то использовал вне класса или в этом нет особой нужды, то сделайте его **\"приватным\"**\n",
    "3. Если вы не хотите, чтобы ваш атрибут кто-то использовал вне класса или в этом нет особой нужды, но вы хотите, чтобы он наследовался, то сделайте его **\"защищённым\"** \n",
    "\n",
    "> **Почему так?** </br>\n",
    "> Идеология Гвидо такова: мы все люди взрослые, наши поступки - наша отвественность. А запрещать человеку что-либо на его компьютере - не правильно.\n",
    "\n",
    "В целом, такая формулировка может вам показаться справедливой и вы зададитесь вопросом почему бы не сделать везде как в python? Прочувствовать ответ на этот вопрос вы сможете только если попробуете написать какой-то свой продуктовый код. И вы будете смотреть на набор костылей и узких мест в вашем коде и думать лишь одну мысль: \"Не трожьте!! Убьет!!!!\".\n",
    "\n",
    "Если что, подчёркивание в конце атрибутов (`self.attr_`) ни на что не влияет, например, в sklearn так помечаются атрибуты, которые инициализируются в процессе \"обучения\" модели\n",
    "\n",
    "\n"
   ]
  },
  {
   "cell_type": "code",
   "execution_count": 24,
   "id": "2661e9ab-0674-4576-a467-a8f680642734",
   "metadata": {
    "tags": []
   },
   "outputs": [],
   "source": [
    "class Dog():\n",
    "    def __init__(self, name, age):\n",
    "        self.name = name\n",
    "        self._age = age"
   ]
  },
  {
   "cell_type": "code",
   "execution_count": 25,
   "id": "f5231fda-08a3-4589-b111-8c75fd666f2d",
   "metadata": {
    "tags": []
   },
   "outputs": [
    {
     "name": "stdout",
     "output_type": "stream",
     "text": [
      "20\n",
      "10\n"
     ]
    }
   ],
   "source": [
    "mukhtar = Dog(name='Mukhtar', age=20)\n",
    "print(mukhtar._age)\n",
    "mukhtar._age = 10\n",
    "print(mukhtar._age)"
   ]
  },
  {
   "cell_type": "code",
   "execution_count": 26,
   "id": "b793ca5c-bde3-49bc-980f-81857bf132dd",
   "metadata": {
    "tags": []
   },
   "outputs": [],
   "source": [
    "class Dog():\n",
    "    def __init__(self, name, age):\n",
    "        self.name = name\n",
    "        self.__age = age"
   ]
  },
  {
   "cell_type": "code",
   "execution_count": 27,
   "id": "888a1d41-0a21-400e-a12a-4644a362bd8b",
   "metadata": {
    "tags": []
   },
   "outputs": [
    {
     "ename": "AttributeError",
     "evalue": "'Dog' object has no attribute '__age'",
     "output_type": "error",
     "traceback": [
      "\u001b[0;31m---------------------------------------------------------------------------\u001b[0m",
      "\u001b[0;31mAttributeError\u001b[0m                            Traceback (most recent call last)",
      "Cell \u001b[0;32mIn[27], line 2\u001b[0m\n\u001b[1;32m      1\u001b[0m mukhtar \u001b[38;5;241m=\u001b[39m Dog(name\u001b[38;5;241m=\u001b[39m\u001b[38;5;124m'\u001b[39m\u001b[38;5;124mMukhtar\u001b[39m\u001b[38;5;124m'\u001b[39m, age\u001b[38;5;241m=\u001b[39m\u001b[38;5;241m20\u001b[39m)\n\u001b[0;32m----> 2\u001b[0m \u001b[38;5;28mprint\u001b[39m(\u001b[43mmukhtar\u001b[49m\u001b[38;5;241;43m.\u001b[39;49m\u001b[43m__age\u001b[49m)\n",
      "\u001b[0;31mAttributeError\u001b[0m: 'Dog' object has no attribute '__age'"
     ]
    }
   ],
   "source": [
    "mukhtar = Dog(name='Mukhtar', age=20)\n",
    "print(mukhtar.__age)"
   ]
  },
  {
   "cell_type": "code",
   "execution_count": 28,
   "id": "5358fde6-047d-429a-a378-a00f3dba541f",
   "metadata": {
    "tags": []
   },
   "outputs": [
    {
     "name": "stdout",
     "output_type": "stream",
     "text": [
      "20\n"
     ]
    }
   ],
   "source": [
    "mukhtar = Dog(name='Mukhtar', age=20)\n",
    "print(mukhtar._Dog__age)"
   ]
  },
  {
   "cell_type": "code",
   "execution_count": 29,
   "id": "64c689b9-87c4-4d5f-a1a4-a3f5b0b0bf83",
   "metadata": {
    "tags": []
   },
   "outputs": [
    {
     "name": "stdout",
     "output_type": "stream",
     "text": [
      "20\n",
      "10\n"
     ]
    }
   ],
   "source": [
    "mukhtar = Dog(name='Mukhtar', age=20)\n",
    "print(mukhtar._Dog__age)\n",
    "mukhtar._Dog__age = 10\n",
    "print(mukhtar._Dog__age)"
   ]
  },
  {
   "cell_type": "markdown",
   "id": "8cd0793c-00ca-41a5-be63-fcf4cbb91ae0",
   "metadata": {
    "tags": []
   },
   "source": [
    "## Примеры ООП из знакомого:\n"
   ]
  },
  {
   "cell_type": "markdown",
   "id": "e787504e-a569-4442-95a7-2a18e5c359da",
   "metadata": {},
   "source": [
    "##### Мы часто использовали разные методы у базовых объектов в python"
   ]
  },
  {
   "cell_type": "code",
   "execution_count": 30,
   "id": "19220a51-16ec-432d-b2b3-cb29bbb7ca03",
   "metadata": {
    "tags": []
   },
   "outputs": [
    {
     "data": {
      "text/plain": [
       "dict_items([(1, '1'), (2, '2'), (3, '3')])"
      ]
     },
     "execution_count": 30,
     "metadata": {},
     "output_type": "execute_result"
    }
   ],
   "source": [
    "my_dict = {1: '1', 2: '2', 3:'3'}\n",
    "my_dict.items()"
   ]
  },
  {
   "cell_type": "markdown",
   "id": "2a50022c-eb2e-49f1-87a3-c7d3a06d8c9d",
   "metadata": {},
   "source": [
    "##### DataFrame в pandas - это класс, у которого очень много аттрибутов и методов. Все что мы по сути делали во время работы с pandas - это вызывали методы"
   ]
  },
  {
   "cell_type": "code",
   "execution_count": 31,
   "id": "2f5e27c6-e73c-488b-95e0-d51fd436c185",
   "metadata": {
    "tags": []
   },
   "outputs": [],
   "source": [
    "import pandas as pd"
   ]
  },
  {
   "cell_type": "code",
   "execution_count": 32,
   "id": "b9db9027-7cf4-40e4-821b-a4ba8eac990b",
   "metadata": {
    "tags": []
   },
   "outputs": [],
   "source": [
    "df = pd.DataFrame({\n",
    "                    'col1': [1, 2, 3],\n",
    "                    'col2': ['A', 'B', 'C']\n",
    "                    })"
   ]
  },
  {
   "cell_type": "code",
   "execution_count": 33,
   "id": "c881d9f6-5c9e-4d4c-a6ef-8fa3f8f797c4",
   "metadata": {
    "tags": []
   },
   "outputs": [
    {
     "data": {
      "text/plain": [
       "(3, 2)"
      ]
     },
     "execution_count": 33,
     "metadata": {},
     "output_type": "execute_result"
    }
   ],
   "source": [
    "df.shape"
   ]
  },
  {
   "cell_type": "code",
   "execution_count": 34,
   "id": "f8f8e0d4-3b98-4a80-bd28-4213d88279cc",
   "metadata": {
    "tags": []
   },
   "outputs": [
    {
     "data": {
      "text/plain": [
       "6"
      ]
     },
     "execution_count": 34,
     "metadata": {},
     "output_type": "execute_result"
    }
   ],
   "source": [
    "df.size"
   ]
  },
  {
   "cell_type": "code",
   "execution_count": 35,
   "id": "c24c19a0-101b-4392-be5d-50a292cd9ed5",
   "metadata": {
    "tags": []
   },
   "outputs": [
    {
     "data": {
      "text/html": [
       "<div>\n",
       "<style scoped>\n",
       "    .dataframe tbody tr th:only-of-type {\n",
       "        vertical-align: middle;\n",
       "    }\n",
       "\n",
       "    .dataframe tbody tr th {\n",
       "        vertical-align: top;\n",
       "    }\n",
       "\n",
       "    .dataframe thead th {\n",
       "        text-align: right;\n",
       "    }\n",
       "</style>\n",
       "<table border=\"1\" class=\"dataframe\">\n",
       "  <thead>\n",
       "    <tr style=\"text-align: right;\">\n",
       "      <th></th>\n",
       "      <th>col1</th>\n",
       "      <th>col2</th>\n",
       "    </tr>\n",
       "  </thead>\n",
       "  <tbody>\n",
       "    <tr>\n",
       "      <th>0</th>\n",
       "      <td>False</td>\n",
       "      <td>False</td>\n",
       "    </tr>\n",
       "    <tr>\n",
       "      <th>1</th>\n",
       "      <td>False</td>\n",
       "      <td>False</td>\n",
       "    </tr>\n",
       "    <tr>\n",
       "      <th>2</th>\n",
       "      <td>False</td>\n",
       "      <td>False</td>\n",
       "    </tr>\n",
       "  </tbody>\n",
       "</table>\n",
       "</div>"
      ],
      "text/plain": [
       "    col1   col2\n",
       "0  False  False\n",
       "1  False  False\n",
       "2  False  False"
      ]
     },
     "execution_count": 35,
     "metadata": {},
     "output_type": "execute_result"
    }
   ],
   "source": [
    "df.isna()"
   ]
  },
  {
   "cell_type": "code",
   "execution_count": 36,
   "id": "7316ede5-d4e5-4c71-90b8-9975ed2e5554",
   "metadata": {
    "tags": []
   },
   "outputs": [
    {
     "data": {
      "text/plain": [
       "True"
      ]
     },
     "execution_count": 36,
     "metadata": {},
     "output_type": "execute_result"
    }
   ],
   "source": [
    "id(df.col1) == id(df['col1'])"
   ]
  },
  {
   "cell_type": "markdown",
   "id": "e51a92d0-bc1b-46fa-a31a-2ccf16aec8ca",
   "metadata": {},
   "source": [
    "##### Да и самые разные крупные библиотеки построены на ООП. Например, biopython."
   ]
  },
  {
   "cell_type": "code",
   "execution_count": 37,
   "id": "005371f2-70cc-414e-b7a7-bd80998e252c",
   "metadata": {
    "tags": []
   },
   "outputs": [],
   "source": [
    "from Bio import Align\n",
    "from Bio.Seq import Seq\n",
    "from Bio.SeqRecord import SeqRecord"
   ]
  },
  {
   "cell_type": "code",
   "execution_count": 38,
   "id": "0152a857-9e3c-4699-b2a1-9d16d80f925e",
   "metadata": {
    "tags": []
   },
   "outputs": [],
   "source": [
    "aligner = Align.PairwiseAligner()\n",
    "aligner.mode = 'global'\n",
    "aligner.open_gap_score = -8\n",
    "aligner.extend_gap_score = -0.5\n",
    "aligner.substitution_matrix = Align.substitution_matrices.load(\"BLOSUM62\")"
   ]
  },
  {
   "cell_type": "code",
   "execution_count": 39,
   "id": "be23674d-e509-427c-aeca-7a7600947ace",
   "metadata": {
    "tags": []
   },
   "outputs": [
    {
     "name": "stdout",
     "output_type": "stream",
     "text": [
      "target            0 ATGCTG 6\n",
      "                  0 |---|| 6\n",
      "query             0 A---TG 3\n",
      "\n"
     ]
    }
   ],
   "source": [
    "seq1 = Seq('ATGCTG')\n",
    "seq2 = Seq('ATG')\n",
    "alignments = aligner.align(seq1, seq2)\n",
    "\n",
    "print(alignments[0])"
   ]
  },
  {
   "cell_type": "code",
   "execution_count": 40,
   "id": "f84751b7-1fa6-4e54-956d-06d94c351eb2",
   "metadata": {
    "tags": []
   },
   "outputs": [
    {
     "name": "stdout",
     "output_type": "stream",
     "text": [
      "Alpha             0 ATGCTG 6\n",
      "                  0 |---|| 6\n",
      "Beta              0 A---TG 3\n",
      "\n"
     ]
    }
   ],
   "source": [
    "seq1 = SeqRecord(Seq(\"ATGCTG\"), id=\"Alpha\")\n",
    "seq2 = SeqRecord(Seq(\"ATG\"), id=\"Beta\")\n",
    "alignments = aligner.align(seq1, seq2)\n",
    "\n",
    "print(alignments[0])"
   ]
  },
  {
   "cell_type": "markdown",
   "id": "a1798835-b722-4ac0-9fa7-2d27a09c89a2",
   "metadata": {},
   "source": [
    "> [Bio/SeqRecord.py](https://github.com/biopython/biopython/blob/d619bbfc152532085acf46816ef762e696c186de/Bio/SeqRecord.py)"
   ]
  },
  {
   "cell_type": "markdown",
   "id": "695a072b-126d-4be7-8420-62d899bd5933",
   "metadata": {},
   "source": [
    "# Dunder-методы \n",
    "\n",
    "Dunder методы (**D**ouble **under**score, иногда их ещё называют **магическими**) это специальные служебные методы в питоне, которые начинаются и заканчиваются на `__`. С их помощью питон может взаимодействовать с вашими собственными объектами при помощи его внутренних функций и операторов (например, `len`, `+`, `/` и т.д.)\n",
    "\n",
    "Далее мы просто рассмотрим некоторые популярные методы. Их очень много, поэтому при желании вы можете найти полный список самостоятельно.\n",
    "\n",
    "- `__len__` - позволяет объекту работать со встроенной в питон функцией `len`.\n",
    "- `__str__` -  определяет результат при преобразовании нашего объекта в класс `str`, это довольно важный метод, так как преобразование в `str` происходит внутри функции `print`. \n",
    "- `__repr__` определяет результат при передаче нашего объекта в функцию `repr`. Данная функция крайне редко используется в чистом виде. Она возвращает строку, которая выводится как результат последнего выражения в ноутбуке или голом интерпретаторе. Внутри `print` используется `str`, но если у объекта не определён метод `__str__`, то будет использован `__repr__`.\n",
    "-  `__add__`, `__sub__`, `__mul__`, `__div__`, `__truediv__`, `__matmul__`, `__or__`, `__and__`, ... - определяют взаимодействие с соотвествующими операторами \n",
    "- `__r...__` - для каждого (кажется) метода для взаимодействия с оператором существует метод с префиксом `r` (**r**ight; например, `__radd__`). Он определяет поведение объекта в выражениях с соответствующим оператором, в которых наш объект стоит справа от оператора.\n",
    "-  `__getitem__` - позволяет получать значения на основе заданных вами правил индексирования (`my_list[0]`)\n",
    "- ..."
   ]
  },
  {
   "cell_type": "code",
   "execution_count": 41,
   "id": "75041650-c98b-4d1f-935c-78d6729d830f",
   "metadata": {
    "tags": []
   },
   "outputs": [],
   "source": [
    "class Dog():\n",
    "    def __init__(self, name, breed, age):\n",
    "        self.breed = breed\n",
    "        self.name = name\n",
    "        self.age = age\n",
    "        \n",
    "    def __str__(self):\n",
    "        return f'{self.name} is a {self.breed}-breed dog'\n",
    "\n",
    "    def __repr__(self):\n",
    "        return f'Dog(\"{self.name}\", \"{self.breed}\", {self.age})'        \n",
    "    \n",
    "    def __eq__(self, other):\n",
    "        return self.name == other.name and self.age == other.age\n",
    "    \n",
    "    def __gt__(self, other):\n",
    "        return self.age > other.age\n",
    "    \n",
    "    def __add__(self, other):\n",
    "        if not isinstance(other, type(self)):\n",
    "            return NotImplemented\n",
    "        new_name = self.name[:len(self.name)//2] + other.name[len(other.name)//2:]\n",
    "        return Dog(new_name, 'Mixed', 0)\n",
    "        #return type(self)(new_name, 'Mixed', 0)\n",
    "    \n",
    "    def __len__(self):\n",
    "        return len(self.name)"
   ]
  },
  {
   "cell_type": "code",
   "execution_count": 42,
   "id": "386c0eb8-7514-4576-b238-b4243590aaaf",
   "metadata": {
    "tags": []
   },
   "outputs": [],
   "source": [
    "mukhtar = Dog(name='Mukhtar', breed='Sheepdog', age=20)\n",
    "belka = Dog(name='Belka', breed='Mixed', age=10)"
   ]
  },
  {
   "cell_type": "code",
   "execution_count": 43,
   "id": "aff2fbdc-5cc6-47c9-aad2-387f09d047b9",
   "metadata": {
    "tags": []
   },
   "outputs": [
    {
     "data": {
      "text/plain": [
       "Dog(\"Mukhtar\", \"Sheepdog\", 20)"
      ]
     },
     "execution_count": 43,
     "metadata": {},
     "output_type": "execute_result"
    }
   ],
   "source": [
    "mukhtar # repr"
   ]
  },
  {
   "cell_type": "code",
   "execution_count": 44,
   "id": "d062dc78-87c7-42f5-916c-e4f65761c35c",
   "metadata": {
    "tags": []
   },
   "outputs": [
    {
     "name": "stdout",
     "output_type": "stream",
     "text": [
      "Mukhtar is a Sheepdog-breed dog\n"
     ]
    }
   ],
   "source": [
    "print(mukhtar) # str"
   ]
  },
  {
   "cell_type": "code",
   "execution_count": 45,
   "id": "347e8eac-ef97-4221-825c-06cd6e30137e",
   "metadata": {
    "tags": []
   },
   "outputs": [
    {
     "data": {
      "text/plain": [
       "False"
      ]
     },
     "execution_count": 45,
     "metadata": {},
     "output_type": "execute_result"
    }
   ],
   "source": [
    "mukhtar == belka"
   ]
  },
  {
   "cell_type": "code",
   "execution_count": 46,
   "id": "36a483ef-ec40-4d40-b67c-e5a7a8611084",
   "metadata": {
    "tags": []
   },
   "outputs": [
    {
     "data": {
      "text/plain": [
       "True"
      ]
     },
     "execution_count": 46,
     "metadata": {},
     "output_type": "execute_result"
    }
   ],
   "source": [
    "mukhtar > belka"
   ]
  },
  {
   "cell_type": "code",
   "execution_count": 47,
   "id": "9a5adc70-13b5-48a3-ae74-b0cb21e41e82",
   "metadata": {
    "tags": []
   },
   "outputs": [
    {
     "data": {
      "text/plain": [
       "Dog(\"Behtar\", \"Mixed\", 0)"
      ]
     },
     "execution_count": 47,
     "metadata": {},
     "output_type": "execute_result"
    }
   ],
   "source": [
    "belka + mukhtar"
   ]
  },
  {
   "cell_type": "code",
   "execution_count": 48,
   "id": "b41feef9-21d8-415e-b55e-2694e23c8544",
   "metadata": {
    "tags": []
   },
   "outputs": [
    {
     "data": {
      "text/plain": [
       "7"
      ]
     },
     "execution_count": 48,
     "metadata": {},
     "output_type": "execute_result"
    }
   ],
   "source": [
    "len(mukhtar)"
   ]
  },
  {
   "cell_type": "code",
   "execution_count": 49,
   "id": "8a5a263a-f00d-477b-8eee-c200ecb282cb",
   "metadata": {
    "tags": []
   },
   "outputs": [
    {
     "ename": "TypeError",
     "evalue": "unsupported operand type(s) for +: 'Dog' and 'str'",
     "output_type": "error",
     "traceback": [
      "\u001b[0;31m---------------------------------------------------------------------------\u001b[0m",
      "\u001b[0;31mTypeError\u001b[0m                                 Traceback (most recent call last)",
      "Cell \u001b[0;32mIn[49], line 1\u001b[0m\n\u001b[0;32m----> 1\u001b[0m \u001b[43mbelka\u001b[49m\u001b[43m \u001b[49m\u001b[38;5;241;43m+\u001b[39;49m\u001b[43m \u001b[49m\u001b[38;5;124;43m'\u001b[39;49m\u001b[38;5;124;43mmukhtar\u001b[39;49m\u001b[38;5;124;43m'\u001b[39;49m\n",
      "\u001b[0;31mTypeError\u001b[0m: unsupported operand type(s) for +: 'Dog' and 'str'"
     ]
    }
   ],
   "source": [
    "belka + 'mukhtar'"
   ]
  },
  {
   "cell_type": "markdown",
   "id": "694e2d64-3645-4322-8467-7e231cdaaaac",
   "metadata": {},
   "source": [
    "> Пример на `__getitem__`\n",
    "\n",
    "Индексация числом"
   ]
  },
  {
   "cell_type": "code",
   "execution_count": 50,
   "id": "cd6db47e-7e75-4b40-9270-93195bdf34a7",
   "metadata": {
    "tags": []
   },
   "outputs": [
    {
     "data": {
      "text/plain": [
       "2"
      ]
     },
     "execution_count": 50,
     "metadata": {},
     "output_type": "execute_result"
    }
   ],
   "source": [
    "class WeirdList(list):\n",
    "    def __getitem__(self, slc):\n",
    "        if isinstance(slc, int):\n",
    "            return super().__getitem__(slc - 1)  # Возвращаем элемент индексом на 1 меньше\n",
    "        \n",
    "my_lst = WeirdList([1, 2, 3, 4, 5])\n",
    "my_lst[2]"
   ]
  },
  {
   "cell_type": "markdown",
   "id": "a038706d-ffc1-4e84-913c-6ff62c506549",
   "metadata": {},
   "source": [
    "Индексация срезом. Да, кстати, срез в python это отдельный объект `slice`!"
   ]
  },
  {
   "cell_type": "code",
   "execution_count": 51,
   "id": "e58d7b16-2519-4e24-b848-0bf4d47f3093",
   "metadata": {
    "tags": []
   },
   "outputs": [
    {
     "data": {
      "text/plain": [
       "[3, 13]"
      ]
     },
     "execution_count": 51,
     "metadata": {},
     "output_type": "execute_result"
    }
   ],
   "source": [
    "example_list = [1, 3, 5, 8, 13, 21, 34]   # Самый обычный список без приколов\n",
    "slc = slice(1, None, 3)   # Класс принимает 3 аргумента: start, stop, step. None эквивалентно неуказыванию индекса в квадратных скобках\n",
    "example_list[slc]    # Эти объекты можно использовать как легальные индексы"
   ]
  },
  {
   "cell_type": "code",
   "execution_count": 52,
   "id": "a86a3e56-39ad-4954-b4b8-19c07efc257d",
   "metadata": {
    "tags": []
   },
   "outputs": [
    {
     "data": {
      "text/plain": [
       "(1, None, 3)"
      ]
     },
     "execution_count": 52,
     "metadata": {},
     "output_type": "execute_result"
    }
   ],
   "source": [
    "slc.start, slc.stop, slc.step   # Эти значения можно вытащить из объекта через соответствующие атрибуты"
   ]
  },
  {
   "cell_type": "code",
   "execution_count": 53,
   "id": "ff07884b-5caf-4805-ac57-a0adab6c0c3d",
   "metadata": {
    "tags": []
   },
   "outputs": [
    {
     "data": {
      "text/plain": [
       "[2, 3, 4, 5]"
      ]
     },
     "execution_count": 53,
     "metadata": {},
     "output_type": "execute_result"
    }
   ],
   "source": [
    "class WeirdList(list):\n",
    "    def __getitem__(self, slc):\n",
    "        if isinstance(slc, int):\n",
    "            return super().__getitem__(slc - 1)  # Возвращаем элемент индексом на 1 меньше\n",
    "        elif isinstance(slc, slice):\n",
    "            new_slice = slice(slc.start - 1, slc.stop, slc.step)  # Старт на 1 меньше, стоп остаётся таким же\n",
    "            return super().__getitem__(new_slice)\n",
    "        \n",
    "my_lst = WeirdList([1, 2, 3, 4, 5])\n",
    "my_lst[2:5]    # Работает!!!!"
   ]
  },
  {
   "cell_type": "markdown",
   "id": "86ea2804-356f-4387-bccb-5dff087a8e88",
   "metadata": {},
   "source": [
    "И наконец давайте добавим индексацию по двум измерениям вложенного списка а-ля numpy."
   ]
  },
  {
   "cell_type": "code",
   "execution_count": 54,
   "id": "619347a2-b18f-4515-b2cc-4c3dce426c42",
   "metadata": {
    "tags": []
   },
   "outputs": [
    {
     "data": {
      "text/plain": [
       "[[2, 3], [5, 6], [8, 9]]"
      ]
     },
     "execution_count": 54,
     "metadata": {},
     "output_type": "execute_result"
    }
   ],
   "source": [
    "class WeirdList(list):\n",
    "    def __getitem__(self, slc):\n",
    "        if isinstance(slc, int):\n",
    "            result = super().__getitem__(slc - 1)  # Возвращаем элемент индексом на 1 меньше\n",
    "        elif isinstance(slc, slice):\n",
    "            new_start = slc.start - 1 if slc.start else 0\n",
    "            new_slice = slice(new_start, slc.stop, slc.step)  # Старт на 1 меньше, стоп остаётся таким же\n",
    "            result = super().__getitem__(new_slice)\n",
    "        elif isinstance(slc, tuple):\n",
    "            slc_dim_1, slc_dim_2 = slc\n",
    "            first_dim_sliced = self[slc_dim_1]\n",
    "            result = [WeirdList(second_dim)[slc_dim_2] for second_dim in first_dim_sliced]\n",
    "        return WeirdList(result)\n",
    "            \n",
    "            \n",
    "        \n",
    "my_lst = WeirdList([[1, 2, 3], [4, 5, 6], [7, 8, 9]])\n",
    "my_lst[:, 2:3]    # Работает!!!!"
   ]
  },
  {
   "cell_type": "markdown",
   "id": "a4c095cf-8a5a-4b3d-9012-2324bce93200",
   "metadata": {
    "tags": []
   },
   "source": [
    "# 3 + 1 кита ООП\n",
    "\n",
    "## 1. Инкапсуляция\n",
    "\n",
    "- Мы добавляем все значимые характеристики в качестве аттрибутов и все необходимые действия в качестве методов внутрь класса. В классе должен быть функционал для всего что вам нужно.\n"
   ]
  },
  {
   "cell_type": "markdown",
   "id": "df3abc68-06b8-464c-b3ad-9b15fadee7b9",
   "metadata": {},
   "source": [
    "#### Плохая инкапсуляция"
   ]
  },
  {
   "cell_type": "code",
   "execution_count": 55,
   "id": "fdb9524c-deda-428a-aa82-57a95af59c71",
   "metadata": {
    "tags": []
   },
   "outputs": [],
   "source": [
    "def say_dog_name(dog):\n",
    "    print(f'I am {dog.name}')\n",
    "    \n",
    "class Dog():\n",
    "    def __init__(self, name):\n",
    "        self.name = name"
   ]
  },
  {
   "cell_type": "code",
   "execution_count": 56,
   "id": "02292869-55ac-4c54-8ae8-7114069a8e01",
   "metadata": {
    "tags": []
   },
   "outputs": [
    {
     "name": "stdout",
     "output_type": "stream",
     "text": [
      "I am Mukhtar\n"
     ]
    }
   ],
   "source": [
    "mukhtar = Dog(name='Mukhtar')\n",
    "say_dog_name(mukhtar)"
   ]
  },
  {
   "cell_type": "markdown",
   "id": "d6cfe862-9b31-4d80-befc-0771f4dca7c4",
   "metadata": {
    "tags": []
   },
   "source": [
    "#### Хорошая инкапсуляция"
   ]
  },
  {
   "cell_type": "code",
   "execution_count": 57,
   "id": "f8196d52-7d1e-49bd-af3f-d6081331abac",
   "metadata": {
    "tags": []
   },
   "outputs": [],
   "source": [
    "class Dog():\n",
    "    def __init__(self, name):\n",
    "        self.name = name\n",
    "        \n",
    "    def say_name(self):\n",
    "        print(f'I am {self.name}')"
   ]
  },
  {
   "cell_type": "code",
   "execution_count": 58,
   "id": "9ff26df1-85b5-40f0-8409-c4852f6b88d4",
   "metadata": {
    "tags": []
   },
   "outputs": [
    {
     "name": "stdout",
     "output_type": "stream",
     "text": [
      "I am Mukhtar\n"
     ]
    }
   ],
   "source": [
    "mukhtar = Dog(name='Mukhtar')\n",
    "mukhtar.say_name()"
   ]
  },
  {
   "cell_type": "markdown",
   "id": "175e6809-4282-4227-a807-7aa64fb152c6",
   "metadata": {},
   "source": [
    "### Setter и Getter\n",
    "\n",
    "Это специальные методы для задавания и получения аттрибутов. Обычно используются в 2х случаях:\n",
    "- Необходимо реализовать какую-то логику, доп. функционал. Например, сделать проверки на ошибки. Или производить какие-то вычисления\n",
    "- Необходимо реализовать некоторый уровень инкапсуляции - мы не хотим чтобы человек залезал в \"кишки\" нашего класса, мы даем ему интерфейс (API) для взаимодействия с нашим классом\n"
   ]
  },
  {
   "cell_type": "code",
   "execution_count": 59,
   "id": "f97670f6-1044-438f-8891-38b93ecc9fe5",
   "metadata": {
    "tags": []
   },
   "outputs": [],
   "source": [
    "class Human():\n",
    "    def __init__(self, name, age):\n",
    "        self.name = name\n",
    "        self.age = age\n",
    "        \n",
    "    def __repr__(self):\n",
    "        return f'Human {self.name}, {self.age} y.o.'"
   ]
  },
  {
   "cell_type": "code",
   "execution_count": 60,
   "id": "a707e4f0-63b1-4445-85b4-88e81a468843",
   "metadata": {
    "tags": []
   },
   "outputs": [],
   "source": [
    "vasya = Human('Vasya', 42)"
   ]
  },
  {
   "cell_type": "code",
   "execution_count": 61,
   "id": "0e38ee6c-2af2-4c29-a248-8d780a48b97c",
   "metadata": {
    "tags": []
   },
   "outputs": [],
   "source": [
    "class Dog():\n",
    "    def __init__(self, name):\n",
    "        self.name = name"
   ]
  },
  {
   "cell_type": "code",
   "execution_count": 62,
   "id": "7f983c92-d821-4d6c-bfe2-286c97e2ce9d",
   "metadata": {
    "tags": []
   },
   "outputs": [
    {
     "data": {
      "text/plain": [
       "Human Vasya, 42 y.o."
      ]
     },
     "execution_count": 62,
     "metadata": {},
     "output_type": "execute_result"
    }
   ],
   "source": [
    "mukhtar = Dog(name='Mukhtar')\n",
    "mukhtar.owner = vasya\n",
    "mukhtar.owner"
   ]
  },
  {
   "cell_type": "code",
   "execution_count": 63,
   "id": "74203d5d-0147-40e6-a3df-ff3663ac8c5d",
   "metadata": {
    "tags": []
   },
   "outputs": [],
   "source": [
    "class Dog():\n",
    "    def __init__(self, name, owner):\n",
    "        self.name = name\n",
    "        self._owner = owner"
   ]
  },
  {
   "cell_type": "code",
   "execution_count": 64,
   "id": "0f1991e8-445e-4233-9dfd-07aae6a7373c",
   "metadata": {
    "tags": []
   },
   "outputs": [
    {
     "data": {
      "text/plain": [
       "Human Vasya, 42 y.o."
      ]
     },
     "execution_count": 64,
     "metadata": {},
     "output_type": "execute_result"
    }
   ],
   "source": [
    "mukhtar = Dog(name='Mukhtar', owner=vasya)\n",
    "mukhtar._owner "
   ]
  },
  {
   "cell_type": "code",
   "execution_count": 65,
   "id": "a9367f16-2c56-44ca-9040-a28845d59831",
   "metadata": {
    "tags": []
   },
   "outputs": [],
   "source": [
    "class Dog():\n",
    "    def __init__(self, name):\n",
    "        self.name = name\n",
    "        self._owner = None\n",
    "        \n",
    "    def set_owner(self, owner):\n",
    "        self._owner = owner"
   ]
  },
  {
   "cell_type": "code",
   "execution_count": 66,
   "id": "6a39c746-f47f-4a3f-9471-4341c8fe997a",
   "metadata": {
    "tags": []
   },
   "outputs": [
    {
     "data": {
      "text/plain": [
       "Human Vasya, 42 y.o."
      ]
     },
     "execution_count": 66,
     "metadata": {},
     "output_type": "execute_result"
    }
   ],
   "source": [
    "mukhtar = Dog(name='Mukhtar')\n",
    "mukhtar.set_owner(vasya)\n",
    "mukhtar._owner "
   ]
  },
  {
   "cell_type": "code",
   "execution_count": 67,
   "id": "49b3310f-5d5d-4376-acbb-0da75806cef9",
   "metadata": {
    "tags": []
   },
   "outputs": [],
   "source": [
    "class Dog():\n",
    "    def __init__(self, name):\n",
    "        self.name = name\n",
    "        \n",
    "    def set_owner(self, owner):\n",
    "        if not isinstance(owner, Human):\n",
    "            raise ValueError('Owner must be a human!')\n",
    "        if owner.age < 18:\n",
    "            raise ValueError('Owner must be an adult!')\n",
    "        print('Wow, you dog now have an owner!')\n",
    "        self._owner = owner"
   ]
  },
  {
   "cell_type": "code",
   "execution_count": 68,
   "id": "52f0ac6f-e1d1-4b62-9b93-7859cbc24f75",
   "metadata": {
    "tags": []
   },
   "outputs": [
    {
     "name": "stdout",
     "output_type": "stream",
     "text": [
      "Wow, you dog now have an owner!\n"
     ]
    },
    {
     "data": {
      "text/plain": [
       "Human Vasya, 42 y.o."
      ]
     },
     "execution_count": 68,
     "metadata": {},
     "output_type": "execute_result"
    }
   ],
   "source": [
    "mukhtar = Dog(name='Mukhtar')\n",
    "mukhtar.set_owner(vasya)\n",
    "mukhtar._owner "
   ]
  },
  {
   "cell_type": "code",
   "execution_count": 69,
   "id": "c6388ace-c210-42fc-a2c6-5b776a494356",
   "metadata": {
    "tags": []
   },
   "outputs": [
    {
     "ename": "ValueError",
     "evalue": "Owner must be an adult!",
     "output_type": "error",
     "traceback": [
      "\u001b[0;31m---------------------------------------------------------------------------\u001b[0m",
      "\u001b[0;31mValueError\u001b[0m                                Traceback (most recent call last)",
      "Cell \u001b[0;32mIn[69], line 1\u001b[0m\n\u001b[0;32m----> 1\u001b[0m \u001b[43mmukhtar\u001b[49m\u001b[38;5;241;43m.\u001b[39;49m\u001b[43mset_owner\u001b[49m\u001b[43m(\u001b[49m\u001b[43mHuman\u001b[49m\u001b[43m(\u001b[49m\u001b[38;5;124;43m'\u001b[39;49m\u001b[38;5;124;43mPetya\u001b[39;49m\u001b[38;5;124;43m'\u001b[39;49m\u001b[43m,\u001b[49m\u001b[43m \u001b[49m\u001b[38;5;241;43m12\u001b[39;49m\u001b[43m)\u001b[49m\u001b[43m)\u001b[49m\n",
      "Cell \u001b[0;32mIn[67], line 9\u001b[0m, in \u001b[0;36mDog.set_owner\u001b[0;34m(self, owner)\u001b[0m\n\u001b[1;32m      7\u001b[0m     \u001b[38;5;28;01mraise\u001b[39;00m \u001b[38;5;167;01mValueError\u001b[39;00m(\u001b[38;5;124m'\u001b[39m\u001b[38;5;124mOwner must be a human!\u001b[39m\u001b[38;5;124m'\u001b[39m)\n\u001b[1;32m      8\u001b[0m \u001b[38;5;28;01mif\u001b[39;00m owner\u001b[38;5;241m.\u001b[39mage \u001b[38;5;241m<\u001b[39m \u001b[38;5;241m18\u001b[39m:\n\u001b[0;32m----> 9\u001b[0m     \u001b[38;5;28;01mraise\u001b[39;00m \u001b[38;5;167;01mValueError\u001b[39;00m(\u001b[38;5;124m'\u001b[39m\u001b[38;5;124mOwner must be an adult!\u001b[39m\u001b[38;5;124m'\u001b[39m)\n\u001b[1;32m     10\u001b[0m \u001b[38;5;28mprint\u001b[39m(\u001b[38;5;124m'\u001b[39m\u001b[38;5;124mWow, you dog now have an owner!\u001b[39m\u001b[38;5;124m'\u001b[39m)\n\u001b[1;32m     11\u001b[0m \u001b[38;5;28mself\u001b[39m\u001b[38;5;241m.\u001b[39m_owner \u001b[38;5;241m=\u001b[39m owner\n",
      "\u001b[0;31mValueError\u001b[0m: Owner must be an adult!"
     ]
    }
   ],
   "source": [
    "mukhtar.set_owner(Human('Petya', 12))"
   ]
  },
  {
   "cell_type": "code",
   "execution_count": null,
   "id": "862c95db-48d9-45f8-ab27-22a149c67ddc",
   "metadata": {
    "tags": []
   },
   "outputs": [],
   "source": [
    "class Dog():\n",
    "    def __init__(self, name):\n",
    "        self.name = name\n",
    "        \n",
    "    def set_owner(self, owner):\n",
    "        if not isinstance(owner, Human):\n",
    "            raise ValueError('Owner must be a human!')\n",
    "        if owner.age < 18:\n",
    "            raise ValueError('Owner must be an adult!')\n",
    "        self._owner = owner\n",
    "        \n",
    "    def get_owner(self):\n",
    "        print('Here is your dog owner')\n",
    "        return self._owner"
   ]
  },
  {
   "cell_type": "code",
   "execution_count": 70,
   "id": "991270eb-cd49-424b-b164-acb0d46e0ec2",
   "metadata": {
    "tags": []
   },
   "outputs": [
    {
     "name": "stdout",
     "output_type": "stream",
     "text": [
      "Wow, you dog now have an owner!\n",
      "Human Vasya, 42 y.o.\n"
     ]
    },
    {
     "ename": "AttributeError",
     "evalue": "'Dog' object has no attribute 'get_owner'",
     "output_type": "error",
     "traceback": [
      "\u001b[0;31m---------------------------------------------------------------------------\u001b[0m",
      "\u001b[0;31mAttributeError\u001b[0m                            Traceback (most recent call last)",
      "Cell \u001b[0;32mIn[70], line 4\u001b[0m\n\u001b[1;32m      2\u001b[0m mukhtar\u001b[38;5;241m.\u001b[39mset_owner(vasya)\n\u001b[1;32m      3\u001b[0m \u001b[38;5;28mprint\u001b[39m(mukhtar\u001b[38;5;241m.\u001b[39m_owner)\n\u001b[0;32m----> 4\u001b[0m \u001b[38;5;28mprint\u001b[39m(\u001b[43mmukhtar\u001b[49m\u001b[38;5;241;43m.\u001b[39;49m\u001b[43mget_owner\u001b[49m())\n",
      "\u001b[0;31mAttributeError\u001b[0m: 'Dog' object has no attribute 'get_owner'"
     ]
    }
   ],
   "source": [
    "mukhtar = Dog(name='Mukhtar')\n",
    "mukhtar.set_owner(vasya)\n",
    "print(mukhtar._owner)\n",
    "print(mukhtar.get_owner())"
   ]
  },
  {
   "cell_type": "code",
   "execution_count": 71,
   "id": "46807a2d-5c12-4147-8dc7-cd3ebfcaf64a",
   "metadata": {
    "tags": []
   },
   "outputs": [],
   "source": [
    "# для продвинутых\n",
    "class Dog():\n",
    "    def __init__(self, name):\n",
    "        self.name = name\n",
    "        self._owner = None\n",
    "        \n",
    "    @property # <- декоратор\n",
    "    def owner(self):\n",
    "        print('Here is your dog owner')\n",
    "        return self._owner\n",
    "    \n",
    "    @owner.setter\n",
    "    def owner(self, owner):\n",
    "        if not isinstance(owner, Human):\n",
    "            raise ValueError('Owner must be a human!')\n",
    "        if owner.age < 18:\n",
    "            raise ValueError('Owner must be an adult!')\n",
    "        print('Wow, you dog now have an owner!')\n",
    "        self._owner = owner"
   ]
  },
  {
   "cell_type": "code",
   "execution_count": 72,
   "id": "81cd7c5e-9e09-439e-8ac0-794e0c0a9501",
   "metadata": {
    "tags": []
   },
   "outputs": [
    {
     "name": "stdout",
     "output_type": "stream",
     "text": [
      "Wow, you dog now have an owner!\n"
     ]
    }
   ],
   "source": [
    "mukhtar = Dog(name='Mukhtar')\n",
    "mukhtar.owner = vasya"
   ]
  },
  {
   "cell_type": "code",
   "execution_count": 73,
   "id": "801b9752-2d13-46e0-9955-ea95cb148974",
   "metadata": {
    "tags": []
   },
   "outputs": [
    {
     "name": "stdout",
     "output_type": "stream",
     "text": [
      "Here is your dog owner\n",
      "Human Vasya, 42 y.o.\n"
     ]
    }
   ],
   "source": [
    "print(mukhtar.owner)"
   ]
  },
  {
   "cell_type": "markdown",
   "id": "b04507fc-e6c7-4343-922a-0696f1b699f4",
   "metadata": {},
   "source": [
    "### Задача для консультации\n",
    "\n",
    "- Cоздайте класс Student\n",
    "- Добавьте возможность задавать имя и список оценок\n",
    "- Добавьте возможность получить среднюю оценку"
   ]
  },
  {
   "cell_type": "code",
   "execution_count": 74,
   "id": "fe66553d-f5fb-4e1b-a6b1-e8741bde2042",
   "metadata": {
    "tags": []
   },
   "outputs": [],
   "source": [
    "# не оч\n",
    "class Student:\n",
    "    def __init__(self, name, marks):\n",
    "        self.name = name\n",
    "        self.marks = list(marks)\n",
    "        self.mean_mark = sum(self.marks)/len(self.marks)  # <---------"
   ]
  },
  {
   "cell_type": "code",
   "execution_count": 75,
   "id": "7a42fa2e-3dc9-40c1-a4f9-8de8cafc8a13",
   "metadata": {
    "tags": []
   },
   "outputs": [],
   "source": [
    "# лучше\n",
    "class Student:\n",
    "    def __init__(self, name, marks):\n",
    "        self.name = name\n",
    "        self.marks = list(marks)\n",
    "\n",
    "    def get_mean_mark(self):   # <---------\n",
    "        return sum(self.marks)/len(self.marks)"
   ]
  },
  {
   "cell_type": "code",
   "execution_count": 76,
   "id": "4be6a2a5-de15-4a16-ae28-2850ce6cbd26",
   "metadata": {
    "tags": []
   },
   "outputs": [],
   "source": [
    "# еще лучше\n",
    "class Student:\n",
    "    def __init__(self, name, marks):\n",
    "        self.name = name\n",
    "        self.marks = list(marks)\n",
    "\n",
    "    def add_mark(self, new_mark):   # <---------\n",
    "        self.marks.append(new_mark)\n",
    "\n",
    "    def get_mean_mark(self):\n",
    "        return sum(self.marks)/len(self.marks)"
   ]
  },
  {
   "cell_type": "code",
   "execution_count": 77,
   "id": "ad55e21a-b72c-4193-9ce5-67eb3173d738",
   "metadata": {
    "tags": []
   },
   "outputs": [],
   "source": [
    "# еще-еще лучше\n",
    "class Student:\n",
    "    def __init__(self, name, marks):\n",
    "        self.name = name\n",
    "        self.marks = list(marks)\n",
    "\n",
    "    def add_mark(self, new_mark):\n",
    "        if isinstance(new_mark, int):  # <---------\n",
    "            self.marks.append(new_mark)\n",
    "        elif isinstance(new_mark, list):\n",
    "            self.marks.extend(new_mark)\n",
    "\n",
    "    def get_mean_mark(self):\n",
    "        return sum(self.marks)/len(self.marks)"
   ]
  },
  {
   "cell_type": "code",
   "execution_count": 78,
   "id": "985acce6-78c3-4fdd-9264-b291313b9de6",
   "metadata": {},
   "outputs": [],
   "source": [
    "# еще-еще лучше\n",
    "class Student:\n",
    "    def __init__(self, name, marks):\n",
    "        self.name = name\n",
    "        self.marks = list(marks)\n",
    "\n",
    "    def add_mark(self, new_mark):\n",
    "        if isinstance(new_mark, (int, float)):\n",
    "            self.marks.append(new_mark)\n",
    "        elif isinstance(new_mark, list):\n",
    "            if all(isinstance(item, (int, float)) for item in new_mark):\n",
    "                self.marks.extend(new_mark)\n",
    "            else:\n",
    "                raise ValueError(\"Only numbers can be passed as marks.\")\n",
    "        else:\n",
    "            raise ValueError(\"Only numbers can be passed as marks.\")\n",
    "\n",
    "    def get_mean_mark(self):\n",
    "        return sum(self.marks)/len(self.marks)"
   ]
  },
  {
   "cell_type": "markdown",
   "id": "6e737519-2249-45fa-827f-b398c68d6aae",
   "metadata": {},
   "source": [
    "## 2. Полиморфизм\n",
    "\n",
    "- Разные объекты могут иметь одинаковый интерфейс взаимодействия.\n",
    "\n",
    "Например, пульт имеет кнопку \"Выкл\". И компьютер имеет кнопку \"Выкл\". А еще чайник, телефон, секвенатор Illumina и космическая ракета (вероятно). Все эти кнопки *разные*. Они разные по форме, цвету, и, в первую очередь, по функции. Например, кнопка \"Выкл\" чайника полностью отключает чайник, кнопка \"Выкл\" телефона переводит его в спящий режим, а кнопка \"Выкл\" пульта вообще, выключает не пульт а телевизор. В этом плане термин \"Выключение\" является абстрактным, но мы понимаем его конкретную реализацию в каждом конкретном случае. Поэтому хоть все эти кнопки работают по-разному в разных устройствах, нам достаточно использовать одно слово чтобы понимать друг друга.\n",
    "\n",
    "> Кнопка \"Выкл\" проявляет полиморфное поведение"
   ]
  },
  {
   "cell_type": "code",
   "execution_count": 79,
   "id": "6211b5cd-0eb4-4a33-ac3f-4239ff47bf53",
   "metadata": {
    "tags": []
   },
   "outputs": [],
   "source": [
    "class Dog():\n",
    "    def __init__(self, name):\n",
    "        self.name = name\n",
    "        \n",
    "    def say_name(self):\n",
    "        print(f'I am dog {self.name}')\n",
    "        \n",
    "class Cat():\n",
    "    def __init__(self, name):\n",
    "        self.name = name\n",
    "        \n",
    "    def say_name(self):\n",
    "        print(f'I am cat {self.name}')"
   ]
  },
  {
   "cell_type": "code",
   "execution_count": 80,
   "id": "74aea9c6-e806-43ea-8db3-da7f8c561b7f",
   "metadata": {
    "tags": []
   },
   "outputs": [
    {
     "name": "stdout",
     "output_type": "stream",
     "text": [
      "I am cat Barsik\n",
      "I am dog Mukhtar\n"
     ]
    }
   ],
   "source": [
    "mukhtar = Dog(name='Mukhtar')\n",
    "barsik = Cat(name='Barsik')\n",
    "\n",
    "for animal in [barsik, mukhtar]:\n",
    "    animal.say_name()"
   ]
  },
  {
   "cell_type": "code",
   "execution_count": 81,
   "id": "f69e49ee-93f1-4ab7-b281-fcb077db7ef5",
   "metadata": {
    "tags": []
   },
   "outputs": [],
   "source": [
    "class Square():\n",
    "    def __init__(self, a):\n",
    "        self.a = a\n",
    "        \n",
    "    def get_area(self):\n",
    "        return self.a ** 2\n",
    "        \n",
    "class Rectangle():\n",
    "    def __init__(self, a, b):\n",
    "        self.a = a\n",
    "        self.b = b\n",
    "        \n",
    "    def get_area(self):\n",
    "        return self.a * self.b\n",
    "    \n",
    "class Circle():\n",
    "    def __init__(self, r):\n",
    "        self.r = r\n",
    "        \n",
    "    def get_area(self):\n",
    "        return 3.1415 * self.r ** 2"
   ]
  },
  {
   "cell_type": "code",
   "execution_count": 82,
   "id": "42912c28-0397-49a9-bcf7-f56f12924147",
   "metadata": {
    "tags": []
   },
   "outputs": [
    {
     "name": "stdout",
     "output_type": "stream",
     "text": [
      "4\n",
      "6\n",
      "50.264\n"
     ]
    }
   ],
   "source": [
    "for figure in [Square(2), Rectangle(2, 3), Circle(4)]:\n",
    "    print(figure.get_area())"
   ]
  },
  {
   "cell_type": "code",
   "execution_count": 83,
   "id": "383e7570-a227-485c-8f6a-6994e3b41af8",
   "metadata": {
    "tags": []
   },
   "outputs": [
    {
     "name": "stdout",
     "output_type": "stream",
     "text": [
      "3\n",
      "3\n",
      "3\n"
     ]
    }
   ],
   "source": [
    "my_list = [1, 2, 3]\n",
    "my_str = '123'\n",
    "my_dict = {1: '1', 2: '2', 3: '3'}\n",
    "\n",
    "for obj in [my_list, my_str, my_dict]:\n",
    "    print(len(obj))"
   ]
  },
  {
   "cell_type": "markdown",
   "id": "7242649c-85cb-41b0-a34c-f1d48da72d39",
   "metadata": {},
   "source": [
    "## 3. Наследование\n",
    "\n",
    "Механизм наследования позволяет создавать иерархию классов, а также использовать методы и атрибуты классов, лежащих выше в иерархии при работе с потомками. \n",
    "\n",
    "Например, если мы хотим реализовать класс `Sequence` с разнообразным функционалом работы с последовательностями (сравнение, сложнение, итерирование, ...), мы можем:\n",
    "- Вручную задать все необходимые dunder-методы\n",
    "- Заметить, что последовательности очень похожи на обычные строки и отнаследовать класс `Sequence` от `str`:"
   ]
  },
  {
   "cell_type": "code",
   "execution_count": 84,
   "id": "916d2268-7fdd-4257-8caf-921c3ab420a1",
   "metadata": {
    "tags": []
   },
   "outputs": [],
   "source": [
    "class Sequence():\n",
    "    pass"
   ]
  },
  {
   "cell_type": "code",
   "execution_count": 85,
   "id": "f5be4648-8217-48e1-9e0a-5715ca7e5b03",
   "metadata": {
    "tags": []
   },
   "outputs": [
    {
     "ename": "TypeError",
     "evalue": "Sequence() takes no arguments",
     "output_type": "error",
     "traceback": [
      "\u001b[0;31m---------------------------------------------------------------------------\u001b[0m",
      "\u001b[0;31mTypeError\u001b[0m                                 Traceback (most recent call last)",
      "Cell \u001b[0;32mIn[85], line 1\u001b[0m\n\u001b[0;32m----> 1\u001b[0m \u001b[43mSequence\u001b[49m\u001b[43m(\u001b[49m\u001b[38;5;124;43m'\u001b[39;49m\u001b[38;5;124;43mATGC\u001b[39;49m\u001b[38;5;124;43m'\u001b[39;49m\u001b[43m)\u001b[49m \u001b[38;5;241m+\u001b[39m Sequence(\u001b[38;5;124m'\u001b[39m\u001b[38;5;124mTGCA\u001b[39m\u001b[38;5;124m'\u001b[39m)\n",
      "\u001b[0;31mTypeError\u001b[0m: Sequence() takes no arguments"
     ]
    }
   ],
   "source": [
    "Sequence('ATGC') + Sequence('TGCA')"
   ]
  },
  {
   "cell_type": "code",
   "execution_count": 86,
   "id": "6ec74526-f4fc-4c69-bbf7-87d0cdecfb87",
   "metadata": {
    "tags": []
   },
   "outputs": [],
   "source": [
    "class Sequence(str):\n",
    "    pass"
   ]
  },
  {
   "cell_type": "code",
   "execution_count": 87,
   "id": "8bfe1e18-a8e4-4ff0-8c94-326e905f0689",
   "metadata": {
    "tags": []
   },
   "outputs": [
    {
     "data": {
      "text/plain": [
       "'ATGCTGCA'"
      ]
     },
     "execution_count": 87,
     "metadata": {},
     "output_type": "execute_result"
    }
   ],
   "source": [
    "Sequence('ATGC') + Sequence('TGCA')"
   ]
  },
  {
   "cell_type": "markdown",
   "id": "757ff36d-92e7-4cc8-b796-5b677def1107",
   "metadata": {},
   "source": [
    "При этом дочерний класс получает вообще **всё** что есть в родительском:"
   ]
  },
  {
   "cell_type": "code",
   "execution_count": 88,
   "id": "da305660-31ad-4f8f-99a4-25e263a055b2",
   "metadata": {
    "tags": []
   },
   "outputs": [
    {
     "data": {
      "text/plain": [
       "1"
      ]
     },
     "execution_count": 88,
     "metadata": {},
     "output_type": "execute_result"
    }
   ],
   "source": [
    "Sequence('TGCA').find('G') # мы этот метод никак не упоминали в нашем классе, но он достался по наследству"
   ]
  },
  {
   "cell_type": "markdown",
   "id": "bdc6f3dc-2961-4b63-af45-26835d5210fe",
   "metadata": {},
   "source": [
    "При этом родительские методы можно переопределять в дочерних классах (при этом происходит полное замещение, перезапись)"
   ]
  },
  {
   "cell_type": "code",
   "execution_count": 89,
   "id": "f7d4477d-5490-49e1-9325-5a4e13686893",
   "metadata": {
    "tags": []
   },
   "outputs": [],
   "source": [
    "class Sequence(str):\n",
    "    def find(self, value):\n",
    "        if value in self:\n",
    "            return 'Found!'\n",
    "        else:\n",
    "            return 'Not found :('"
   ]
  },
  {
   "cell_type": "code",
   "execution_count": 90,
   "id": "e46fad4b-f71e-479f-9d9a-62a31e1d1693",
   "metadata": {
    "tags": []
   },
   "outputs": [
    {
     "data": {
      "text/plain": [
       "'Found!'"
      ]
     },
     "execution_count": 90,
     "metadata": {},
     "output_type": "execute_result"
    }
   ],
   "source": [
    "Sequence('TGCA').find('G')"
   ]
  },
  {
   "cell_type": "markdown",
   "id": "bb7ec665-eff6-4bbf-8db1-7884cf1958f2",
   "metadata": {},
   "source": [
    "### Функция `super`\n",
    "\n",
    "При этом мы не теряем бесследно объекты родительского класса. Мы всегда можем получить что угодно из родительского класса используя функцию `super()`.\n",
    "\n",
    "Здесь мы переопределили родительский метод `find` добавив к нему снаружи какой то текст, но при этом внутри все равно обратились к стандартному строковому find'у "
   ]
  },
  {
   "cell_type": "code",
   "execution_count": 91,
   "id": "d7a34c14-b8d1-44ce-89d3-96740c6995e6",
   "metadata": {
    "tags": []
   },
   "outputs": [],
   "source": [
    "class Sequence(str):\n",
    "    def find(self, value):\n",
    "        if value in self:\n",
    "            return f'Found! {super().find(value)}'\n",
    "        else:\n",
    "            return 'Not found :('"
   ]
  },
  {
   "cell_type": "code",
   "execution_count": 92,
   "id": "591adc6f-2433-47ff-b62f-a04755feb142",
   "metadata": {
    "tags": []
   },
   "outputs": [
    {
     "data": {
      "text/plain": [
       "'Found! 1'"
      ]
     },
     "execution_count": 92,
     "metadata": {},
     "output_type": "execute_result"
    }
   ],
   "source": [
    "Sequence('TGCA').find('G')"
   ]
  },
  {
   "cell_type": "markdown",
   "id": "0241d328-f085-4e00-beb8-f5c10055d4c6",
   "metadata": {},
   "source": [
    "У `super` есть два основных способа применения:\n",
    "1. Внутри класса можно использовать просто `super()` без аргументов. В таком случае эта функция вернёт нам специальный объект, через который можно взаимодействовать с родительским классом. Это не совсем верно, но можно думать об этом, как о том, что `super()` возвращает нам `self` родителя\n",
    "2. Использовать `super` вне тела класса в 99.9999% случаев не нужно, но это при желании можно сделать следующим образом, передав в эту функцию тип объекта и сам объект"
   ]
  },
  {
   "cell_type": "code",
   "execution_count": 93,
   "id": "918a74d7-314f-48f8-8cb8-e60d1a73b053",
   "metadata": {
    "tags": []
   },
   "outputs": [
    {
     "data": {
      "text/plain": [
       "1"
      ]
     },
     "execution_count": 93,
     "metadata": {},
     "output_type": "execute_result"
    }
   ],
   "source": [
    "sequence = Sequence('TGCA')\n",
    "super(Sequence, sequence).find('G')  # Полностью аналогично вызову super().find() внутри тела класса"
   ]
  },
  {
   "cell_type": "markdown",
   "id": "e140cc60-87b8-45de-98c8-b9c0e58ed151",
   "metadata": {},
   "source": [
    "**Важно** понимать  что:\n",
    "- Наследуется все что есть (даже если вы не знаете о том что это есть), и аттрибуты и методы (включая дандеры, приватные и т.п.)\n",
    "- Перезаписывается целиком все что вы переопределили в дочернем классе"
   ]
  },
  {
   "cell_type": "markdown",
   "id": "bf7883f5-f1e4-4cdf-96ea-95ecfcc37841",
   "metadata": {},
   "source": [
    "### Пример\n",
    "\n",
    "Давайте рассмотрим такой пример в продолжение задачи с консультации. У нас есть два класса: `Teacher` с именем и списком студентов и `Student` с именем и оценками. Мы видим, что оба класса по сути дублируют функционал по определению аттрибута `name`. Этого уже достаточно чтобы задуматься о том как избежать такого дублирования. Можно создать класс `Human` который будет позволять задавать `name` и при этом будет родительским для обоих наших классов!"
   ]
  },
  {
   "cell_type": "code",
   "execution_count": 94,
   "id": "6dcb7d1d-44fa-4f87-9a46-cc5549ca271c",
   "metadata": {
    "tags": []
   },
   "outputs": [],
   "source": [
    "# код с дублированиями \n",
    "\n",
    "class Teacher:\n",
    "    def __init__(self, name, students):\n",
    "        self.name = name ## <- повторяется\n",
    "        self.students = list(students)\n",
    "\n",
    "class Student:\n",
    "    def __init__(self, name, marks: list = None, student_id = None):\n",
    "        self.name = name\n",
    "        self.marks = marks\n",
    "        self._student_id = student_id\n",
    "\n",
    "    def get_mean_mark(self):\n",
    "        return sum(self.marks)/len(self.marks)\n"
   ]
  },
  {
   "cell_type": "code",
   "execution_count": 95,
   "id": "de1dd6f3-55cd-4c5d-ab8a-e1f3cfb52fe5",
   "metadata": {
    "tags": []
   },
   "outputs": [],
   "source": [
    "# вынесли name в родительский класс\n",
    "class Human:\n",
    "    def __init__(self, name):\n",
    "        self.name = name\n",
    "\n",
    "    def say_hello(self):\n",
    "        print('Hello, I am', self.name)\n",
    "\n",
    "class Teacher(Human):\n",
    "    pass\n",
    "\n",
    "class Student(Human):\n",
    "    pass"
   ]
  },
  {
   "cell_type": "markdown",
   "id": "065275ea-ef74-4416-9bbc-4fd250189d51",
   "metadata": {},
   "source": [
    "Теперь можно создавать студентов и учителей с именами"
   ]
  },
  {
   "cell_type": "code",
   "execution_count": 96,
   "id": "611d75ce-0c1a-41f3-8494-26eb1b0873e8",
   "metadata": {
    "tags": []
   },
   "outputs": [
    {
     "name": "stdout",
     "output_type": "stream",
     "text": [
      "Hello, I am Sergey\n",
      "Hello, I am M. G. McGonagall\n"
     ]
    }
   ],
   "source": [
    "student_1 = Student('Sergey')\n",
    "student_2 = Student('Elena')\n",
    "teacher = Teacher('M. G. McGonagall')\n",
    "student_1.say_hello()\n",
    "teacher.say_hello()"
   ]
  },
  {
   "cell_type": "markdown",
   "id": "4993152c-88d1-4499-8b98-01d2d3a6c60a",
   "metadata": {},
   "source": [
    "Пришло время вернуть функционал классов `Teacher` и `Student`. Например, давайте реализуем возможность задавать список студентов у учителя."
   ]
  },
  {
   "cell_type": "code",
   "execution_count": 97,
   "id": "1e1a56de-844d-47b1-a4f1-914e561c8860",
   "metadata": {
    "tags": []
   },
   "outputs": [],
   "source": [
    "class Teacher(Human):\n",
    "    def __init__(self, students):\n",
    "        self.students = list(students)"
   ]
  },
  {
   "cell_type": "markdown",
   "id": "2715b4ea-95dc-4a09-a1be-dd71d8f94dea",
   "metadata": {},
   "source": [
    "Создадим учителя но без списка студентов. Внимание, вопрос - что будет в аттрибуте `students`?"
   ]
  },
  {
   "cell_type": "code",
   "execution_count": 98,
   "id": "34aa8d23-b3a9-4835-84f4-8e4e5f5e5de8",
   "metadata": {},
   "outputs": [],
   "source": [
    "teacher = Teacher('M. G. McGonagall')"
   ]
  },
  {
   "cell_type": "code",
   "execution_count": 99,
   "id": "ffe6718c-9fc9-4b2c-aff8-9cf41ebcc58a",
   "metadata": {
    "tags": []
   },
   "outputs": [
    {
     "data": {
      "text/plain": [
       "['M',\n",
       " '.',\n",
       " ' ',\n",
       " 'G',\n",
       " '.',\n",
       " ' ',\n",
       " 'M',\n",
       " 'c',\n",
       " 'G',\n",
       " 'o',\n",
       " 'n',\n",
       " 'a',\n",
       " 'g',\n",
       " 'a',\n",
       " 'l',\n",
       " 'l']"
      ]
     },
     "execution_count": 99,
     "metadata": {},
     "output_type": "execute_result"
    }
   ],
   "source": [
    "teacher.students"
   ]
  },
  {
   "cell_type": "markdown",
   "id": "3360d657-9480-4051-81a3-123fa79bb977",
   "metadata": {},
   "source": [
    "*Почему так?*\n",
    "\n",
    "Ответ прост: мы перезаписали `__init__` в дочернем классе и наш новый `__init__` принял строчку `'M. G. McGonagall'` в качестве аргумента `students` и раскромсал её в список `self.students = list(students)`. \n",
    "\n",
    "*Как это исправить?*\n",
    "\n",
    "Плохо - дублировать инициализацию имени."
   ]
  },
  {
   "cell_type": "code",
   "execution_count": 100,
   "id": "6e1eb7b0-794c-412b-be4d-003562d0bef5",
   "metadata": {
    "tags": []
   },
   "outputs": [],
   "source": [
    "class Teacher(Human):\n",
    "    def __init__(self, name, students):\n",
    "        self.name = name\n",
    "        self.students = list(students)"
   ]
  },
  {
   "cell_type": "markdown",
   "id": "af980032-902d-44f1-a27f-bd5ef4908af7",
   "metadata": {},
   "source": [
    "Хорошо - сперва вызвать родительский инициализатор (отдав ему `name`), а потом уже дополнить это инициализацией класса `Teacher` (списком студентов)"
   ]
  },
  {
   "cell_type": "code",
   "execution_count": 101,
   "id": "fc2be2b0-307a-478f-a4f0-6b234de2e6e0",
   "metadata": {
    "tags": []
   },
   "outputs": [],
   "source": [
    "class Teacher(Human):\n",
    "    def __init__(self, name, students):\n",
    "        super().__init__(name)\n",
    "        self.students = list(students)"
   ]
  },
  {
   "cell_type": "markdown",
   "id": "573bf4bd-15c9-42d1-8847-4e0e14da3af3",
   "metadata": {},
   "source": [
    "Итоговый код будет выглядеть как-то так:"
   ]
  },
  {
   "cell_type": "code",
   "execution_count": 102,
   "id": "98ef89db-00c1-411a-97f8-abf6de955677",
   "metadata": {
    "tags": []
   },
   "outputs": [],
   "source": [
    "class Human:\n",
    "    def __init__(self, name):\n",
    "        self.name = name\n",
    "\n",
    "    def say_hello(self):\n",
    "        print('Hello, I am', self.name)\n",
    "    \n",
    "    def __repr__(self):\n",
    "        return f'Human {self.name}'\n",
    "\n",
    "class Teacher(Human):\n",
    "    def __init__(self, name, students):\n",
    "        super().__init__(name)\n",
    "        self.students = list(students)\n",
    "        \n",
    "    \n",
    "class Student(Human):\n",
    "    def __init__(self, name, marks: list = None, student_id = None):\n",
    "        super().__init__(name)\n",
    "        self.marks = marks\n",
    "        self._student_id = student_id\n",
    "\n",
    "    def get_mean_mark(self):\n",
    "        return sum(self.marks)/len(self.marks)"
   ]
  },
  {
   "cell_type": "code",
   "execution_count": 103,
   "id": "de7e327b-ece2-489c-9994-7f5a857675c2",
   "metadata": {
    "tags": []
   },
   "outputs": [
    {
     "name": "stdout",
     "output_type": "stream",
     "text": [
      "Hello, I am M. G. McGonagall\n"
     ]
    },
    {
     "data": {
      "text/plain": [
       "[Human Sergey, Human Elena]"
      ]
     },
     "execution_count": 103,
     "metadata": {},
     "output_type": "execute_result"
    }
   ],
   "source": [
    "student_1 = Student('Sergey')\n",
    "student_2 = Student('Elena')\n",
    "teacher_1 = Teacher('M. G. McGonagall', [student_1, student_2])\n",
    "teacher_1.say_hello()\n",
    "teacher_1.students"
   ]
  },
  {
   "cell_type": "code",
   "execution_count": 104,
   "id": "2b117283-55ad-4b2b-a044-82e7e3d86423",
   "metadata": {
    "tags": []
   },
   "outputs": [],
   "source": [
    "class Sequence():\n",
    "    def __init__(self, seq):\n",
    "        self.seq = seq"
   ]
  },
  {
   "cell_type": "code",
   "execution_count": 105,
   "id": "0cc5f586-f356-4e51-85ad-d9ce36319f56",
   "metadata": {
    "tags": []
   },
   "outputs": [
    {
     "ename": "TypeError",
     "evalue": "unsupported operand type(s) for +: 'Sequence' and 'Sequence'",
     "output_type": "error",
     "traceback": [
      "\u001b[0;31m---------------------------------------------------------------------------\u001b[0m",
      "\u001b[0;31mTypeError\u001b[0m                                 Traceback (most recent call last)",
      "Cell \u001b[0;32mIn[105], line 1\u001b[0m\n\u001b[0;32m----> 1\u001b[0m \u001b[43mSequence\u001b[49m\u001b[43m(\u001b[49m\u001b[38;5;124;43m\"\u001b[39;49m\u001b[38;5;124;43mATGC\u001b[39;49m\u001b[38;5;124;43m\"\u001b[39;49m\u001b[43m)\u001b[49m\u001b[43m \u001b[49m\u001b[38;5;241;43m+\u001b[39;49m\u001b[43m \u001b[49m\u001b[43mSequence\u001b[49m\u001b[43m(\u001b[49m\u001b[38;5;124;43m\"\u001b[39;49m\u001b[38;5;124;43mCGTA\u001b[39;49m\u001b[38;5;124;43m\"\u001b[39;49m\u001b[43m)\u001b[49m\n",
      "\u001b[0;31mTypeError\u001b[0m: unsupported operand type(s) for +: 'Sequence' and 'Sequence'"
     ]
    }
   ],
   "source": [
    "Sequence(\"ATGC\") + Sequence(\"CGTA\")"
   ]
  },
  {
   "cell_type": "code",
   "execution_count": 106,
   "id": "2e088437-7172-47e9-a98c-14051d2b8149",
   "metadata": {
    "tags": []
   },
   "outputs": [],
   "source": [
    "class Sequence():\n",
    "    def __init__(self, seq):\n",
    "        self.seq = seq\n",
    "\n",
    "    def __add__(self, other):\n",
    "        return self.seq + other.seq\n",
    "\n"
   ]
  },
  {
   "cell_type": "code",
   "execution_count": 107,
   "id": "27dbe83f-691f-4504-80e0-094f648c49fb",
   "metadata": {
    "tags": []
   },
   "outputs": [
    {
     "data": {
      "text/plain": [
       "'ATGCCGTA'"
      ]
     },
     "execution_count": 107,
     "metadata": {},
     "output_type": "execute_result"
    }
   ],
   "source": [
    "Sequence(\"ATGC\") + Sequence(\"CGTA\")"
   ]
  },
  {
   "cell_type": "code",
   "execution_count": 108,
   "id": "6dd60a31-fe78-48f9-aa99-745bfadf1d0d",
   "metadata": {
    "tags": []
   },
   "outputs": [],
   "source": [
    "class Sequence(str):\n",
    "    def __init__(self, seq):\n",
    "        self.seq = seq"
   ]
  },
  {
   "cell_type": "code",
   "execution_count": 109,
   "id": "4c50f8b9-6ead-440a-8c85-a61ac7e315b1",
   "metadata": {
    "tags": []
   },
   "outputs": [
    {
     "data": {
      "text/plain": [
       "'ATGCCGTA'"
      ]
     },
     "execution_count": 109,
     "metadata": {},
     "output_type": "execute_result"
    }
   ],
   "source": [
    "Sequence(\"ATGC\") + Sequence(\"CGTA\")"
   ]
  },
  {
   "cell_type": "markdown",
   "id": "ce99023f-4903-4b08-8ec1-8af73874c21f",
   "metadata": {
    "tags": []
   },
   "source": [
    "### Функции `isinstance` и `issubclass`\n",
    "\n",
    "Функция `isinstance` </br>\n",
    "Данная функция позволяет нам узнать является ли объект экземпляром определённого класса, с учётом его родителей\n",
    "\n",
    "Функция `issubclass` </br>\n",
    "Данная функция работает точно также как и isinstance, но первым аргументом принимает класс. Т.е. мы проверяем является ли один класс наследником другого"
   ]
  },
  {
   "cell_type": "code",
   "execution_count": 110,
   "id": "df417950-f19a-4645-b766-043a1292e85a",
   "metadata": {
    "tags": []
   },
   "outputs": [
    {
     "name": "stdout",
     "output_type": "stream",
     "text": [
      "False\n",
      "True\n",
      "True\n",
      "True\n",
      "True\n",
      "True\n",
      "True\n",
      "True\n"
     ]
    }
   ],
   "source": [
    "print(issubclass(Teacher, int))\n",
    "print(issubclass(Teacher, Teacher))\n",
    "print(issubclass(Teacher, Human))\n",
    "\n",
    "print(issubclass(Teacher, object))\n",
    "print(issubclass(str, object))\n",
    "print(isinstance(1, object))\n",
    "\n",
    "print(isinstance(object, type))\n",
    "print(isinstance(type, object))"
   ]
  },
  {
   "cell_type": "markdown",
   "id": "0771f08f-6679-438d-8054-9780d9a60860",
   "metadata": {},
   "source": [
    "### Наследование приватных атрибутов и методов\n",
    "\n",
    "1. Публичные и защищенные артибуты наследуются без каких-либо проблем.\n",
    "2. Внутри класса все \"приватные\" атрибуты хранятся в виде `_<class_name>__<attribute_name>`, а при попытке получения просто подставляется имя текущего класса. Если приватный атрибут был определён в родительском классе, то он на самом деле называется `_SomeParentClass__private_attr`, а атрибута `_SomeChildClass__private_attr` (который python будет пытаться найти) просто не существует\n",
    "3. Исходя из предыдущего пункта, если мы хотим наследовать атрибут, то мы не должны делать его приватным, иначе работать это не будет\n",
    "4. Конечно, мы все еще можем получить значение атрибута напрямую использовав имя родительского класса в дочернем (`_SomeParentClass__private_attr`), но так делать  **не надо**)"
   ]
  },
  {
   "cell_type": "code",
   "execution_count": 111,
   "id": "eb236e7b-d4b5-4746-907b-b787468b7934",
   "metadata": {
    "tags": []
   },
   "outputs": [
    {
     "name": "stdout",
     "output_type": "stream",
     "text": [
      "Public: public\n",
      "Protected: protected\n",
      "Private (hacked): private\n"
     ]
    },
    {
     "ename": "AttributeError",
     "evalue": "'SomeChildClass' object has no attribute '_SomeChildClass__private_attr'",
     "output_type": "error",
     "traceback": [
      "\u001b[0;31m---------------------------------------------------------------------------\u001b[0m",
      "\u001b[0;31mAttributeError\u001b[0m                            Traceback (most recent call last)",
      "Cell \u001b[0;32mIn[111], line 25\u001b[0m\n\u001b[1;32m     23\u001b[0m some_instance\u001b[38;5;241m.\u001b[39mprint_protected()\n\u001b[1;32m     24\u001b[0m some_instance\u001b[38;5;241m.\u001b[39mprint_private_hacked()\n\u001b[0;32m---> 25\u001b[0m \u001b[43msome_instance\u001b[49m\u001b[38;5;241;43m.\u001b[39;49m\u001b[43mprint_private\u001b[49m\u001b[43m(\u001b[49m\u001b[43m)\u001b[49m\n",
      "Cell \u001b[0;32mIn[111], line 15\u001b[0m, in \u001b[0;36mSomeChildClass.print_private\u001b[0;34m(self)\u001b[0m\n\u001b[1;32m     14\u001b[0m \u001b[38;5;28;01mdef\u001b[39;00m \u001b[38;5;21mprint_private\u001b[39m(\u001b[38;5;28mself\u001b[39m):\n\u001b[0;32m---> 15\u001b[0m     \u001b[38;5;28mprint\u001b[39m(\u001b[38;5;124m'\u001b[39m\u001b[38;5;124mPrivate:\u001b[39m\u001b[38;5;124m'\u001b[39m, \u001b[38;5;28;43mself\u001b[39;49m\u001b[38;5;241;43m.\u001b[39;49m\u001b[43m__private_attr\u001b[49m)\n",
      "\u001b[0;31mAttributeError\u001b[0m: 'SomeChildClass' object has no attribute '_SomeChildClass__private_attr'"
     ]
    }
   ],
   "source": [
    "class SomeParentClass:\n",
    "    def __init__(self):\n",
    "        self.public_attr = \"public\"\n",
    "        self._protected_attr = \"protected\"\n",
    "        self.__private_attr = \"private\"\n",
    "        \n",
    "class SomeChildClass(SomeParentClass):\n",
    "    def print_public(self):\n",
    "        print('Public:', self.public_attr)\n",
    "    \n",
    "    def print_protected(self):\n",
    "        print('Protected:', self._protected_attr)\n",
    "        \n",
    "    def print_private(self):\n",
    "        print('Private:', self.__private_attr)\n",
    "\n",
    "    def print_private_hacked(self):\n",
    "        print('Private (hacked):', self._SomeParentClass__private_attr)\n",
    "        \n",
    "some_instance = SomeChildClass()\n",
    "\n",
    "some_instance.print_public()\n",
    "some_instance.print_protected()\n",
    "some_instance.print_private_hacked()\n",
    "some_instance.print_private()"
   ]
  },
  {
   "cell_type": "markdown",
   "id": "1b7e9129-987e-4b5a-8551-3b3d4f0e71f5",
   "metadata": {},
   "source": [
    "### Множественное наследование"
   ]
  },
  {
   "cell_type": "markdown",
   "id": "310b2e58-51ba-4e9e-90af-e7a93f469c79",
   "metadata": {},
   "source": [
    "Всё, что вам пока нужно знать о множественном наследовании - **оно существует**. Синтаксис выглядит следующим образом\n",
    "\n",
    "Оно работает точно так как вы ожидаете, пытаясь передать дочернему классу атрибуты от всех родителей по-очереди. При этом там имеются свои нюансы при одинаковых именах атрибутов у родителей, поиске атрибутов и т.д.. Кому интересно, в python есть специальный механизм MRO (method resolution order), который отвечает за правила поиска наследства у родителей. Используется множественное наследование довольно редко, поэтому просто достаточно помнить, что оно есть."
   ]
  },
  {
   "cell_type": "code",
   "execution_count": 112,
   "id": "ba6bd638-fae9-4a96-a749-9f730f2425e6",
   "metadata": {
    "tags": []
   },
   "outputs": [],
   "source": [
    "class Animal():\n",
    "    pass\n",
    "\n",
    "class Worker():\n",
    "    pass\n",
    "\n",
    "class Teacher(Human, Worker, Animal):\n",
    "    pass"
   ]
  },
  {
   "cell_type": "markdown",
   "id": "2890f278-4908-407f-83b6-248ab1aa8ec4",
   "metadata": {},
   "source": [
    "- **ВАЖНО** Наследование должно не только быть полезным, но и осмысленным. Не надо наследовать Teacher от Student!!!"
   ]
  },
  {
   "cell_type": "markdown",
   "id": "afa402f2-39a3-42bf-b700-7c3371c7a670",
   "metadata": {},
   "source": [
    "### Интерлюдия: исключения\n",
    "\n",
    "![image.png](data:image/png;base64,iVBORw0KGgoAAAANSUhEUgAACRgAAAbkCAIAAAAV2HhyAAAgAElEQVR4AezdCbAdVZ0/8E4gBEKSSYAwwyoQEFEWN9RBVkWZwQV1EP7qIPCXGRVGXHEZHEYcHUFQWVQGwqoCijrIklE2RQdkF5HNGECyQB4QoiiQcqrw/utNP+6/ua/fffe93k53f1Kp4r6+3ad/53NOcarOt95J1PGHAAECBAgQIECAAAECBAgQIECAAAECBAgQIECAAIFRAtGoKy4QIECAAAECBAgQIECAAAECBAgQIECAAAECBAgQINARpJkEBAgQIECAAAECBAgQIECAAAECBAgQIECAAAECBFIEBGkpKC4RIECAAAECBAgQIECAAAECBAgQIECAAAECBAgQEKSZAwQIECBAgAABAgQIECBAgAABAgQIECBAgAABAgRSBARpKSguESBAgAABAgQIECBAgAABAgQIECBAgAABAgQIEBCkmQMECBAgQIAAAQIECBAgQIAAAQIECBAgQIAAAQIEUgQEaSkoLhEgQIAAAQIECBAgQIAAAQIECBAgQIAAAQIECBAQpJkDBAgQIECAAAECBAgQIECAAAECBAgQIECAAAECBFIEBGkpKC4RIECAAAECBAgQIECAAAECBAgQIECAAAECBAgQEKSZAwQIECBAgAABAgQIECBAgAABAgQIECBAgAABAgRSBARpKSguESBAgAABAgQIECBAgAABAgQIECBAgAABAgQIEBCkmQMECBAgQIAAAQIECBAgQIAAAQIECBAgQIAAAQIEUgQEaSkoLhEgQIAAAQIECBAgQIAAAQIECBAgQIAAAQIECBAQpJkDBAgQIECAAAECBAgQIECAAAECBAgQIECAAAECBFIEBGkpKC4RIECAAAECBAgQIECAAAECBAgQIECAAAECBAgQEKSZAwQIECBAgAABAgQIECBAgAABAgQIECBAgAABAgRSBARpKSguESBAgAABAgQIECBAgAABAgQIECBAgAABAgQIEBCkmQMECBAgQIAAAQIECBAgQIAAAQIECBAgQIAAAQIEUgQEaSkoLhEgQIAAAQIECBAgQIAAAQIECBAgQIAAAQIECBAQpJkDBAgQIECAAAECBAgQIECAAAECBAgQIECAAAECBFIEBGkpKC4RIECAAAECBAgQIECAAAECBAgQIECAAAECBAgQEKSZAwQIECBAgAABAgQIECBAgAABAgQIECBAgAABAgRSBARpKSguESBAgAABAgQIECBAgAABAgQIECBAgAABAgQIEBCkmQMECBAgQIAAAQIECBAgQIAAAQIECBAgQIAAAQIEUgQEaSkoLhEgQIAAAQIECBAgQIAAAQIECBAgQIAAAQIECBAQpJkDBAgQIECAAAECBAgQIECAAAECBAgQIECAAAECBFIEBGkpKC4RIECAAAECBAgQIECAAAECBAgQIECAAAECBAgQEKSZAwQIECBAgAABAgQIECBAgAABAgQIECBAgAABAgRSBARpKSguESBAgAABAgQIECBAgAABAgQIECBAgAABAgQIEBCkmQMECBAgQIAAAQIECBAgQIAAAQIECBAgQIAAAQIEUgQEaSkoLhEgQIAAAQIECBAgQIAAAQIECBAgQIAAAQIECBAQpJkDBAgQIECAAAECBAgQIECAAAECBAgQIECAAAECBFIEBGkpKC4RIECAAAECBAgQIECAAAECBAgQIECAAAECBAgQEKSZAwQIECBAgAABAgQIECBAgAABAgQIECBAgAABAgRSBARpKSguESBAgAABAgQIECBAgAABAgQIECBAgAABAgQIEBCkmQMECBAgQIAAAQIECBAgQIAAAQIECBAgQIAAAQIEUgQEaSkoLhEgQIAAAQIECBAgQIAAAQIECBAgQIAAAQIECBAQpJkDBAgQIECAAAECBAgQIECAAAECBAgQIECAAAECBFIEBGkpKC4RIECAAAECBAgQIECAAAECBAgQIECAAAECBAgQEKSZAwQIECBAgAABAgQIECBAgAABAgQIECBAgAABAgRSBARpKSguESBAgAABAgQIECBAgAABAgQIECBAgAABAgQIEBCkmQMECBAgQIAAAQIECBAgQIAAAQIECBAgQIAAAQIEUgQEaSkoLhEgQIAAAQIECBAgQIAAAQIECBAgQIAAAQIECBAQpJkDBAgQIECAAAECBAgQIECAAAECBAgQIECAAAECBFIEBGkpKC4RIECAAAECBAgQIECAAAECBAgQIECAAAECBAgQEKSZAwQIECBAgAABAgQIECBAgAABAgQIECBAgAABAgRSBARpKSguESBAgAABAgQIECBAgAABAgQIECBAgAABAgQIEBCkmQMECBAgQIAAAQIECBAgQIAAAQIECBAgQIAAAQIEUgQEaSkoLhEgQIAAAQIECBAgQIAAAQIECBAgQIAAAQIECBAQpJkDBAgQIECAAAECBAgQIECAAAECBAgQIECAAAECBFIEBGkpKC4RIECAAAECBAgQIECAAAECBAgQIECAAAECBAgQEKSZAwQIECBAgAABAgQIECBAgAABAgQIECBAgAABAgRSBARpKSguESBAgAABAgQIECBAgAABAgQIECBAgAABAgQIEBCkmQMECBAgQIAAAQIECBAgQIAAAQIECBAgQIAAAQIEUgQEaSkoLhEgQIAAAQIECBAgQIAAAQIECBAgQIAAAQIECBAQpJkDBAgQIECAAAECBAgQIECAAAECBAgQIECAAAECBFIEBGkpKC4RIECAAAECBAgQIECAAAECBAgQIECAAAECBAgQEKSZAwQIECBAgAABAgQIECBAgAABAgQIECBAgAABAgRSBARpKSguESBAgAABAgQIECBAgAABAgQIECBAgAABAgQIEBCkmQMECBAgQIAAAQIECBAgQIAAAQIECBAgQIAAAQIEUgQEaSkoLhEgQIAAAQIECBAgQIAAAQIECBAgQIAAAQIECBAQpJkDBAgQIECAAAECBAgQIECAAAECBAgQIECAAAECBFIEBGkpKC4RIECAAAECBAgQIECAAAECBAgQIECAAAECBAgQEKSZAwQIECBAgAABAgQIECBAgAABAgQIECBAgAABAgRSBARpKSguESBAgAABAgQIECBAgAABAgQIECBAgAABAgQIEBCkmQMECBAgQIAAAQIECBAgQIAAAQIECBAgQIAAAQIEUgQEaSkoLhEgQIAAAQIECBAgQIAAAQIECBAgQIAAAQIECBAQpJkDBAgQIECAAAECBAgQIECAAAECBAgQIECAAAECBFIEBGkpKC4RIECAAAECBAgQIECAAAECBAgQIECAAAECBAgQEKSZAwQIECBAgAABAgQIECBAgAABAgQIECBAgAABAgRSBARpKSguESBAgAABAgQIECBAgAABAgQIECBAgAABAgQIEBCkmQMECBAgQIAAAQIECBAgQIAAAQIECBAgQIAAAQIEUgQEaSkoLhEgQIAAAQIECBAgQIAAAQIECBAgQIAAAQIECBAQpJkDBAgQIECAAAECDRTY7y1v3W33PfwlQIAAgQoFtt9hhz//+c8NXGN0iQABAgQIECBAoE0CgrQ2jba+EiBAgAABAgRaI7D77nsMrVrtLwECBAhUKLD7Hns988wzrVl5dJQAAQIECBAgQKCZAoK0Zo6rXhEgQIAAAQIEWi4gSKtw69yrCRAgEAsI0lq+Fus+AQIECBAgQKAZAoK0ZoyjXhAgQIAAAQIECDxHQJBmH58AAQKVCwjSnrMy+YEAAQIECBAgQKCeAoK0eo6bqgkQIECAAAECBPoKCNIq30BXAAECBARpfVcqXxIgQIAAAQIECNRDQJBWj3FSJQECBAgQIECAwIQEBGl28AkQIFC5gCBtQiuXmwkQIECAAAECBMIUEKSFOS6qIkCAAAECBAgQyCQgSKt8A10BBAgQEKRlWsk8TIAAAQIECBAgEIaAIC2McVAFAQIECBAgQIBArgKCNDv4BAgQqFxAkJbryqYxAgQIECBAgACBagQEadW4eysBAgQIECBAgEChAoK0yjfQFUCAAAFBWqErncYJECBAgAABAgTKERCklePsLQQIECBAgAABAqUKCNLs4BMgQKByAUFaqSuflxEgQIAAAQIECBQjIEgrxlWrBAgQIECAAAEClQoI0irfQFcAAQIEBGmVroReToAAAQIECBAgkI+AIC0fR60QIECAAAECBAgEJSBIs4NPgACBygUEaUGtjIohQIAAAQIECBCYnIAgbXJuniJAgAABAgQIEAhaQJBW+Qa6AggQICBIC3qlVBwBAgQIECBAgMBgAoK0wZzcRYAAAQIECBAgUCsBQZodfAIECFQuIEir1cqpWAIECBAgQIAAgXQBQVq6i6sECBAgQIAAAQK1FhCkVb6BrgACBAgI0mq9kiqeAAECBAgQIEAgFhCkmQkECBAgQIAAAQINFBCk2cEnQIBA5QKCtAaur7pEgAABAgQIEGifgCCtfWOuxwQIECBAgACBFggI0irfQFcAAQIEBGktWG91kQABAgQIECDQfAFBWvPHWA8JECBAgAABAi0UEKTZwSdAgEDlAoK0Fq6/ukyAAAECBAgQaJ6AIK15Y6pHBAgQIECAAAECHUFa5RvoCiBAgIAgzXpMgAABAgQIECDQAAFBWgMGURcIECBAgAABAgR6BQRpdvAJECBQuYAgrXdx8jMBAgQIECBAgEANBQRpNRw0JRMgQIAAAQIECIwnIEirfANdAQQIEBCkjbdY+Z4AAQIECBAgQKAGAoK0GgySEgkQIECAAAECBCYqIEizg0+AAIHKBQRpE1283E+AAAECBAgQIBCggCAtwEFREgECBAgQIECAQFYBQVrlG+gKIECAgCAt62LmeQIECBAgQIAAgQAEBGkBDIISCBAgQIAAAQIE8hYQpNnBJ0CAQOUCgrS8FzftESBAgAABAgQIVCAgSKsA3SsJECBAgAABAgSKFhCkVb6BrgACBAgI0ope7LRPgAABAgQIECBQgoAgrQRkryBAgAABAgQIEChbQJBmB58AAQKVCwjSyl78vI8AAQIECBAgQKAAAUFaAaiaJECAAAECBAgQqFpAkFb5BroCCBAgIEirejH0fgIECBAgQIAAgRwEBGk5IGqCAAECBAgQIEAgNAFBmh18AgQIVC4gSAttcVQPAQIECBAgQIDAJAQEaZNA8wgBAgQIECBAgEDoAoK0yjfQFUCAAAFBWuiLpfoIECBAgAABAgQGEBCkDYDkFgIECBAgQIAAgboJCNLs4BMgQKByAUFa3RZP9RIgQIAAAQIECKQICNJSUFwiQIAAAQIECBCou4AgrfINdAUQIEBAkFb3xVT9BAgQIECAAAECnU5HkGYaECBAgAABAgQINFBAkGYHnwABApULCNIauL7qEgECBAgQIECgfQKCtPaNuR4TIECAAAECBFogIEirfANdAQQIEBCktWC91UUCBAgQIECAQPMFBGnNH2M9JECAAAECBAi0UECQZgefAAEClQsI0lq4/uoyAQIECBAgQKB5AoK05o2pHhEgQIAAAQIECHQEaZVvoCuAAAECgjTrMQECBAgQIECAQAMEBGkNGERdIECAAAECBAgQ6BUQpNnBJ0CAQOUCgrTexcnPBAgQIECAAAECNRQQpNVw0JRMgAABAgQIECAwnoAgrfINdAUQIEBAkDbeYuV7AgQIECBAgACBGggI0mowSEokQIAAAQIECBCYqIAgzQ4+AQIEKhcQpE108XI/AQIECBAgQIBAgAKCtAAHRUkECBAgQIAAAQJZBQRplW+gK4AAAQKCtKyLmecJECBAgAABAgQCEBCkBTAISiBAgAABAgQIEMhbQJBmB58AAQKVCwjS8l7ctEeAAAECBAgQIFCBgCCtAnSvJECAAAECBAgQKFpAkFb5BroCCBAgIEgrerHTPgECBAgQIECAQAkCgrQSkL2CAAECBAgQIECgbAFBmh18AgQIVC4gSCt78fM+AgQIECBAgACBAgQEaQWgapIAAQIECBAgQKBqAUFa5RvoCiBAgIAgrerF0PsJECBAgAABAgRyEBCk5YCoCQIECBAgQIAAgdAEBGl28AkQIFC5gCAttMVRPQQIECBAgAABApMQEKRNAs0jBAgQIECAAAECoQsI0irfQFcAAQIEBGmhL5bqI0CAAAECBAgQGEBAkDYAklsIECBAgAABAgTqJiBIs4NPgACBygUEaXVbPNVLgAABAgQIECCQIiBIS0FxiQABAgQIECBAoO4CgrTKN9AVQIAAAUFa3RdT9RMgQIAAAQIECHQ6HUGaaUCAAAECBAgQINBAAUGaHXwCBAhULiBIa+D6qksECBAgQIAAgfYJCNLaN+Z6TIAAAQIECBBogYAgrfINdAUQIEBAkNaC9VYXCRAgQIAAAQLNFxCkNX+M9ZAAAQIECBAg0EIBQZodfAIECFQuIEhr4fqrywQIECBAgACB5gkI0po3pnpEgAABAgQIECDQEaRVvoGuAAIECAjSrMcECBAgQIAAAQINEBCkNWAQdYEAAQIECBAgQKBXQJBmB58AAQKVCwjSehcnPxMgQIAAAQIECNRQQJBWw0FTMgECBAgQIECAwHgCgrTKN9AVQIAAAUHaeIuV7wkQIECAAAECBGogIEirwSApkQABAgQIECBAYKICgjQ7+AQIEKhcQJA20cXL/QQIECBAgAABAgEKCNICHBQlESBAgAABAgQIZBUQpFW+ga4AAgQICNKyLmaeJ0CAAAECBAgQCEBAkBbAICiBAAECBAgQIEAgbwFBmh18AgQIVC4gSMt7cdMeAQIECBAgQIBABQKCtArQvZIAAQIECBAgQKBoAUFa5RvoCiBAgIAgrejFTvsECBAgQIAAAQIlCAjSSkD2CgIECBAgQIAAgbIFBGl28AkQIFC5gCCt7MXP+wgQIECAAAECBAoQEKQVgKpJAgQIECBAgACBqgUEaZVvoCuAAAECgrSqF0PvJ0CAAAECBAgQyEFAkJYDoiYIECBAgAABAgRCExCk2cEnQIBA5QKCtNAWR/UQIECAAAECBAhMQkCQNgk0jxAgQIAAAQIECIQuIEirfANdAQQIEBCkhb5Yqo8AAQIECBAgQGAAAUHaAEhuIUCAAAECBAgQqJuAIM0OPgECBCoXEKTVbfFULwECBAgQIECAQIqAIC0FxSUCBAgQIECAAIG6CwjSKt9AVwABAgQEaXVfTNVPgAABAgQIECDQ6XQEaaYBAQIECBAgQIBAAwUEaXbwCRAgULmAIK2B66suESBAgAABAgTaJyBIa9+Y6zEBAgQIECBAoAUCgrTKN9AVQIAAAUFaC9ZbXSRAgAABAgQINF9AkNb8MdZDAgQIECBAgEALBQRpdvAJECBQuYAgrYXrry4TIECAAAECBJonIEhr3pjqEQECBAgQIECAQEeQVvkGugIIECAgSLMeEyBAgAABAgQINEBAkNaAQdQFAgQIECBAgACBXgFBmh18AgQIVC4gSOtdnPxMgAABAgQIECBQQwFBWg0HTckECBAgQIAAAQLjCQjSKt9AVwABAgQEaeMtVr4nQIAAAQIECBCogYAgrQaDpEQCBAgQIECAAIGJCgjS7OATIECgcgFB2kQXL/cTIECAAAECBAgEKCBIC3BQlESAAAECBAgQIJBVQJBW+Qa6AggQICBIy7qYeZ4AAQIECBAgQCAAAUFaAIOgBAIECBAgQIAAgbwFBGl28AkQIFC5gCAt78VNewQIECBAgAABAhUICNIqQPdKAgQIECBAgACBogUEaZVvoDe7gNvvvv+qn9wQ//3FnYuzdHbF4093m7rmZzc9vPKpLK15lkBQAoK0ohc77RMgQIAAAQIECJQgIEgrAdkrCBAgQIAAAQIEyhYQpAW1md68Yl692x7Rs3/efchhWTr44MOrnm1p+L9nnXdhltY8SyAoAUFa2Yuf9xEgQIAAAQIECBQgIEgrAFWTBAgQIECAAAECVQsI0oLaTG9eMS/f+ZXd9CvfIG3BOec3j0uPWisgSKt6MfR+AgQIECBAgACBHAQEaTkgaoIAAQIECBAgQCA0AUFaazfuy+l4y4O05Y/+8av/cfZJp54e/3UcZTmzro5vEaSFtjiqhwABAgQIECBAYBICgrRJoHmEAAECBAgQIEAgdAFBWh333GtUc8uDtDPPvaD7C3lRFC0beqJGY6fUMgUEaaEvluojQIAAAQIECBAYQECQNgCSWwgQIECAAAECBOomIEgrc6+8he8qLkirxb+RdvpZ3xSktXDaT6LLgrS6LZ7qJUCAAAECBAgQSBEQpKWguESAAAECBAgQIFB3AUHaJLa8PTK4QI5B2orHn776pzfFf39y3S0rHn968DKqulOQVpV87d4rSKv7Yqp+AgQIECBAgACBTqcjSDMNCBAgQIAAAQIEGiggSKvdhnu9Cs4xSKtXx+NqBWl1HLVKahakNXB91SUCBAgQIECAQPsEBGntG3M9JkCAAAECBAi0QECQVsmmeXteKkhztGN7ZnuWngrSWrDe6iIBAgQIECBAoPkCgrTmj7EeEiBAgAABAgRaKCBIy7L33Z5n71y05PuX/Oi0Becdd8JJp5521re/f9mNt909SPfHCtIeeuzJH11z3dnf+M7xXzrlpFNPv/C7lwzY4CAvTd6z/NE/XnHN9ed+66ITvvLVE0/62tnf+M7PbvhF8obBP994290Xfu/Sk049/fgvnXLWeRcuvPKnDz32ZP/H/UZafx/fdgUEaS1cf3WZAAECBAgQINA8AUFa88ZUjwgQIECAAAECBDqCtO5Gtg+jBR567Mnjv3TKS1+285QpU5K/WRV/nj9/mw999BOLfjs0+sHuldFB2m8eHHr/ER+cN2/D0Q0+f9vtjjn235cNPdF9PPlh2dATe+z52u7fH1x+VfLb0Z9/+vPbDnjH38+ZM3f0izbdbPP3/OPht999/+inRl9ZsuJ3n/7Xz237gheObmfDDf/y/Ud88Nrrb+156pjPfiGuc+bMWcmndttjr279PY/4seUCgjTrMQECBAgQIECAQAMEBGkNGERdIECAAAECBAgQ6BUQpLV8+75P96+69sYXbPeiZA6U+nm99dc/bcF5Y7XTE6T96JrrNtv8eantdC/On7/NFddcP7rBBx9e1b0niqIF55w/+p74yrJH/vDew49cc801k/eP/rzuujOP+ewXHl751FjtDK1afcnCq7fYcqvRz/ZcOfLDRyUbOfCdB/XcMPrH5P0+ExCk9S5OfiZAgAABAgQIEKihgCCthoOmZAIECBAgQIAAgfEEBGl28FMFLv3hj2fPnj06/km9MmXKlM8f96XUdpJB2q6775n6+2Gj25w9e/bCK3/a0+CAQdqSFb973T77jm5zrCvvOujQFY8/3fOu+Mdvf/+ytddeZ6wHe64f8I6/X/7oH+MHBWmpni72ERCkjbdY+Z4AAQIECBAgQKAGAoK0GgySEgkQIECAAAECBCYqIEjrs7Xd2q/uW/roeuuv3xMURVG0zjozZs6cNXe99UZ/FUXRD6/+79FiySBt9FPrb7DBRhtvMvp6FEUbbbzJ0hW/TzY4YJB20MHvGd3gWtOnb7/DTvPnb5N6RuX7j/hg8kXx59t+9Zvp09ce3dRGG28yd7315sxNOTGy286xn//irFmzZ82a3ZPDzZw5K74+a9bs0W90pc0CgrSJLl7uJ0CAAAECBAgQCFBAkBbgoCiJAAECBAgQIEAgq4Agrc1792P1/WOf+HRPgPSavfe58sc/7/7G1fW3/Op9hx/Zc88ee752dIOpQdrUqVM//qljrr/5jvj+2+++/9TTzhod3X3uCycmGxwkSLvupl+uscYaycK23mbbiy+7ctkjf4ibWrzkkVO+tmDWrOf8st2UKVOuuvbG5LuGVq1+10GHJtuZOnXqp//1c7+4c3H3tm9//7L5Wz8/ec8668y4+zfLujcMrVp9+lnfTN4w1j//lnzE53YKCNKyLmaeJ0CAAAECBAgQCEBAkBbAICiBAAECBAgQIEAgbwFBWjt37fv0+p7Fy2fOnJWMfw497H0PPfbk6EdOPOlrPf8O2Q8uv6rnttFB2vTpa5913rd7bhtatfqGW++aP3+b5Hs33PAvf/vQ4907BwnS9n3jfskW/s+73v3gw6u6LXQ/3Hz7vdvvsFPyzl1337P77dCq1T+/5c5k19aaPj215geWr+zJ0j716WOT7QjSkho+9xEQpOW9uGmPAAECBAgQIECgAgFBWgXoXkmAAAECBAgQIFC0gCCtz9Z2O796/xEfTCZMb37L3/Vx+Mznjk/e/Kq/fnXPzaODtNPP+mbPPd0f773voZ7fSzvm2H/vfjtukHb5Fdcmi9nuhdt3f4Wu20j3w3/fePu0adOS9yd/2+xt+x+Y/OrLp5zWfbDnw1XX3pg8LnLfN+6XvEGQltTwuY+AIK3oxU77BAgQIECAAAECJQgI0kpA9goCBAgQIECAAIGyBQRpfba22/nV+htskMyQrv7pTX0c7l/22Jw5z/nXwm6+/d7k/T1B2lbzt3545VPJG3o+f/xTxyTf/vKdX9m9Ydwg7Q1v+v+/jjZlypTLr7i2+2zqh/c+93TKr59xbnzbXYuWTp06tVvGvHkb9j+SccedXty9ecut5iffJUhLavjcR0CQVvbi530ECBAgQIAAAQIFCAjSCkDVJAECBAgQIECAQNUCgrQ+W9st/Grxkke6mVAURXvutfe4CEd++KjkIxddvDD5SE+Q9sUvn5r8dvTnRQ+sSB4sOW/eht17xg3SkhHgi1/6su6DY324/uY7kpUffOg/xHdesvDq5PWPfeLosVqIrx/1yX+ZM2du/HeLLbdK3ixIS2r43EdAkFb1Yuj9BAgQIECAAAECOQgI0nJA1AQBAgQIECBAgEBoAoK0PlvbLfzq6p/elMyQvnLqf4yL8JPrbkk+cuJJX0s+0hOk3b/sseS3qZ8PeMffJxt8YPnK+Lb+QdoNt5P15G4AACAASURBVN6VfOqw9x6e2njy4kOPPTltrbW6T73yVbvE35506undi1EUXX/zHcmnJvRZkDYhrjbfLEgLbXFUDwECBAgQIECAwCQEBGmTQPMIAQIECBAgQIBA6AKCtDbv3Y/u+1nnXZjMkL73gx+OvqfnSs8vsR354aOSNySDtA3mzUt+NdbnTx79mWQNP7nulvjO/kHaRRcvTD71kpe+/FOfPnbcv8lH5s/fJn7Rhz76ieT1JSt+N1ap414XpI1L5IZYQJAW+mKpPgIECBAgQIAAgQEEBGkDILmFAAECBAgQIECgbgKCNPv4SYF/+cznkxnSjbfdnfx2rM+zZ8/uPrXfW/dP3pYM0gY5bnFo1eqvn3Fut7Uois755kVxg/2DtDPO/lbyqUl87h4jud9b9+8+vt766ye7M9HPgrSJirX2fkFa3RZP9RIgQIAAAQIECKQICNJSUFwiQIAAAQIECBCou4AgrbUb96kdP+Q97+1mSFEULRt6IvW2nosv2O5F3ade+rKdk98mg7Q3vGm/5Fdjfb7kv67pthZF0XEnnhzf2T9I++KXT00+NYnPc+bMjV+000te2n18+x12GqvOQa4L0gZRcs/QqtWCtLovpuonQIAAAQIECBDodDqCNNOAAAECBAgQIECggQKCNJv4SYH3H/HBboYURdFvHhxKfjvW56232bb71Mte/orkbckg7TV775P8aqzPF192Zbe1KIrOOu/b8Z39g7Sef9gs2cKAn+eut178oh12fHH3EUHaWMPker4CgrQGrq+6RIAAAQIECBBon4AgrX1jrscECBAgQIAAgRYICNLy3Q2ve2vHnXBSN0OKouian900SI/WWWdG96m37X9g8pFkkPb8bbdLfjXW555IrFtD/yCtJ3477oSTrvrJDRP6e8Otd8UlveFN+3W7003Xxqq2/3W/kdbfx7ddAUFaC9ZbXSRAgAABAgQINF9AkNb8MdZDAgQIECBAgEALBQRp3Y1sH4ZWrb7we5d2M6Qois47/7vjsty1aGnykY9+/J+TjySDtBkz1k1+NdbnD330E8kG71/2WHxn/yDtF3cuTj515rkXjNX+uNcP/6cPJZt6YPnKcR8Z6wZB2lgyrvcICNJauP7qMgECBAgQIECgeQKCtOaNqR4RIECAAAECBAh0BGk929kt//GGW+9KZkhHH/Nv44L0/CrYqaedlXwkGaRFUXTjbXcnv039/NrX/U23hg3mzeve0z9Ie3jlU2tNn9598Jhj/7374EQ/HHfiyd12Bvm1vCuuuX7+1s+P/77wRTvcesei7hsFaV0KH/oLCNKsxwQIECBAgAABAg0QEKQ1YBB1gQABAgQIECBAoFdAkNZ/d7tt3y575A9rrLFGN0babPPnLX/0j/0R3rTf27r3R1F0+RXXJu/vCdIOe+/hyW9Hf772+lunTJnSbfDlO7+ye0//IG1o1er5Wz+/++Agx0hef/Mdm262efx3s82fd+kPfxy/q+fX8g497H3dGlI/fOSoT3XfG0XRL+95oHubIK1L4UN/AUFa7+LkZwIECBAgQIAAgRoKCNJqOGhKJkCAAAECBAgQGE9AkNZ/d7uF3z5/2+2SsdDXzzi3D8L1t/xq6tSp3fvXXHPNe+97KHl/T5A2Y8a6v77/4eQNPZ/f/Ja/67YWRdERR36ke8O4Qdrb9j8w+ewFF/2g+2zqhwPfeVDy/utvviO+7c5FS5K/3Lb22uvcs3h5agvxxRdtv2O3nc2ft0XyTkFaUsPnPgKCtPEWK98TIECAAAECBAjUQECQVoNBUiIBAgQIECBAgMBEBQRpfba22/nVKV8/sxsLRVG09TbbjhUjLXvkD3+z7xuTN7/7kMN60HqCtCiK3nXQoSsef7rntvjHb1zwvWQsN2PGunctWtq9c9wg7SfX3ZL8bbY5c+f+6Jrruo/3fPjPS6+YNm1at/gdX/yS5A0HH/oP3a+iKDrkPe9Nfpv8fMJXvpq88+0HvjP5rSAtqeFzHwFB2kQXL/cTIECAAAECBAgEKCBIC3BQlESAAAECBAgQIJBVQJDWZ2u7nV89vPKpbV/wwmQ4tMWWW3V/W6trsuiBFa/ebY/kbeusM+OOe3/bvSH+MDpIi6LoTfu9bemK3/fc+dnPn5BM0aIo+qcPfjR5z7hB2tCq1T2/0DZz5qyLL7sy2Uj8+dIf/njmzFnJ4j/zueOTt916x6JkzBZF0f4HvGPZ0BPJe4ZWrb70hz9ed92ZyXZO+dqC5D09QVr/38ZLPuhz2wQEaVkXM88TIECAAAECBAgEICBIC2AQlECAAAECBAgQIJC3gCCtbfv1g/T3nG9elAyHoiiaM2fuP77/A2ec/a2f3fCL879z8Yc/9sktttyq554jP3zU6MZTg7QoirZ74fYf/tgnL/zepf956RVHH/Nvu+2xV09rM2fO6jklcpAg7b9vvL0njZs+fe13HXTody/+r1vvWPTzW+48/zsXv/HNb0n+4loURc/bYstFD6zoKf4d7zq4p6QdX/ySo4/5t/+89Iobbr3rwu9detDB7+lpZ+dXvOrhlU8l2+kJ0o478eT423H/5blkIz63QUCQlvfipj0CBAgQIECAAIEKBARpFaB7JQECBAgQIECAQNECgrQ27NFPoo9//erdemKk/j9utNHGv3lwaPSLxgrS+rcWRdGxn/9iT2uDBGlDq1Z/7BNHj9t48oZZs2b/7IZf9LxraNXqX/36wRe+aIfknf0/z5ix7o233d3Tzvcv+VHPUxvMm7fRxptMnTq1504/tlxAkFb0Yqd9AgQIECBAgACBEgQEaSUgewUBAgQIECBAgEDZAoK0lm/fj9X9+5Y+usuuu/eEQGP9uMWWW918+72pTSWDtDPPvWDjTTYdq5Hk9Y9+/J9HtzZgkDa0avVpC85be+11kg2O9XnaWmtd+N1LRr8rvnLf0kf33GvvsZ5NXp8+fe2v/sfZo9tZ9sgfZs2anbyz+3n0za60WUCQVvbi530ECBAgQIAAAQIFCAjSCkDVJAECBAgQIECAQNUCgrQ279337/vSFb//5NGf6fk3wLo5UPxhjTXWOOT//mPPGYzJZpNB2uVXXHvP4uV7v/5vexpJ/rjRRhuf/Y3vJFvofh48SBtatfqqa2/cZNPNki33fJ4yZcr+B7zjll/+utt+6oflj/7x3Ycctuaaa/Y8nvzxNXvvM/p30bqtHXHkR5I3dz93b/CBwNCq1YK0qhdD7ydAgAABAgQIEMhBQJCWA6ImCBAgQIAAAQIEQhMQpNnE7y9w56IlX/jiV/Z6zev+6q82mjZtWhRFU6dO3WDevJ1f8ap//pfP/vyWO/s/nvrtxZddeeA7D9piy62mT187iqI11lhjo4023vv1f3vK18+8f9ljqY8MrVo9oSBtaNXqpSt+f+a5F7zxzW+dP3+buPI111xzq/lbv26ffd93+JHX/OymsV40+vqi3w6dtuC8t+1/4Jw5c+MkbONNNt1zr73/4X3/9M0Lvz/6/p4rF373kh12fPE668yIn50xY93td9ip5x4/tlxAkBba4qgeAgQIECBAgACBSQgI0iaB5hECBAgQIECAAIHQBQRpLd++n1D3Vzz+9OIljzz02JMTeqr/zfctfXTABicapCXf+9BjTy5e8sjyR/+YvDiJzysef/qB5SsffHjVJJ4dWrV68ZJHlq74/eSe9VSzBQRpoS+W6iNAgAABAgQIEBhAQJA2AJJbCBAgQIAAAQIE6iYgSGv27nyTepclSGuSg740UkCQVrfFU70ECBAgQIAAAQIpAoK0FBSXCBAgQIAAAQIE6i4gSGvkpnwjO3XXoqXdf2AsiqIF55zfyG7qVDsFBGl1X0zVT4AAAQIECBAg0Ol0BGmmAQECBAgQIECAQAMFBGnt3LWvY68vvuxKQVodB07NgwgI0hq4vuoSAQIECBAgQKB9AoK09o25HhMgQIAAAQIEWiAgSBtkj9s9lQvc8stfv/RlOyeDtB9cflXlVSmAQF4CgrQWrLe6SIAAAQIECBBovoAgrfljrIcECBAgQIAAgRYKCNLy2gfXThECdy1auulmm28wb96UKVOSKdqUKVMWL3mkiDdqk0AlAoK0Fq6/ukyAAAECBAgQaJ6AIK15Y6pHBAgQIECAAAECHUFaJZvmXjqgwB33/jaZn3U/v/HNbxmwBbcRqIWAIM16TIAAAQIECBAg0AABQVoDBlEXCBAgQIAAAQIEegUEabXYZG9tkalB2vY77HTf0kdba6LjjRQQpPUuTn4mQIAAAQIECBCooYAgrYaDpmQCBAgQIECAAIHxBARpjdyUb0yn7ly0ZOrUqVEUTVtrrc2ft8Uee772zHMveHjlU43poI4QiAUEaeMtVr4nQIAAAQIECBCogYAgrQaDpEQCBAgQIECAAIGJCgjS7OMHLrBs6InfPDi04vGnA69TeQSyCAjSJrp4uZ8AAQIECBAgQCBAAUFagIOiJAIECBAgQIAAgawCgrQse9+eJUCAQC4CgrSsi5nnCRAgQIAAAQIEAhAQpAUwCEogQIAAAQIECBDIW0CQlssmuEYIECCQRUCQlvfipj0CBAgQIECAAIEKBARpFaB7JQECBAgQIECAQNECgrQse9+eJUCAQC4CgrSiFzvtEyBAgAABAgQIlCAgSCsB2SsIECBAgAABAgTKFhCk5bIJrhECBAhkERCklb34eR8BAgQIECBAgEABAoK0AlA1SYAAAQIECBAgULWAIC3L3rdnCRAgkIuAIK3qxdD7CRAgQIAAAQIEchAQpOWAqAkCBAgQIECAAIHQBARpuWyCa4QAAQJZBARpoS2O6iFAgAABAgQIEJiEgCBtEmgeIUCAAAECBAgQCF1AkJZl79uzBAgQyEVAkBb6Yqk+AgQIECBAgACBAQQEaQMguYUAAQIECBAgQKBuAoK0XDbBNUKAAIEsAoK0ui2e6iVAgAABAgQIEEgREKSloLhEgAABAgQIECBQdwFBWpa9b88SIEAgFwFBWt0XU/UTIECAAAECBAh0Oh1BmmlAgAABAgQIECDQQAFBWi6b4BohQIBAFgFBWgPXV10iQIAAAQIECLRPQJDWvjHXYwIECBAgQIBACwQEaVn2vj1LgACBXAQEaS1Yb3WRAAECBAgQINB8AUFa88dYDwkQIECAAAECLRQQpOWyCa4RAgQIZBEQpLVw/dVlAgQIECBAgEDzBARpzRtTPSJAgAABAgQIEOgI0rLsfXuWAAECuQgI0qzHBAgQIECAAAECDRAQpDVgEHWBAAECBAgQIECgV0CQlssmuEYIECCQRUCQ1rs4+ZkAAQIECBAgQKCGAoK0Gg6akgkQIECAAAECBMYTEKRl2fv2LAECBHIREKSNt1j5ngABAgQIECBAoAYCgrQaDJISCRAgQIAAAQIEJiogSMtlE1wjBAgQyCIgSJvo4uV+AgQIECBAgACBAAUEaQEOipIIECBAgAABAgSyCgjSsux9e5YAAQK5CAjSsi5mnidAgAABAgQIEAhAQJAWwCAogQABAgQIECBAIG8BQVoum+AaIUCAQBYBQVrei5v2CBAgQIAAAQIEKhAQpFWA7pUECBAgQIAAAQJFCwjSsux9e5YAAQK5CAjSil7stE+AAAECBAgQIFCCgCCtBGSvIECAAAECBAgQKFtAkJbLJrhGCBAgkEVAkFb24ud9BAgQIECAAAECBQgI0gpA1SQBAgQIECBAgEDVAoK0LHvfniVAgEAuAoK0qhdD7ydAgAABAgQIEMhBQJCWA6ImCBAgQIAAAQIEQhMQpOWyCa4RAgQIZBEQpIW2OKqHAAECBAgQIEBgEgKCtEmgeYQAAQIECBAgQCB0AUFalr1vzxIgQCAXAUFa6Iul+ggQIECAAAECBAYQEKQNgOQWAgQIECBAgACBugkI0nLZBNcIAQIEsggI0uq2eKqXAAECBAgQIEAgRUCQloLiEgECBAgQIECAQN0FBGlZ9r49S4AAgVwEBGl1X0zVT4AAAQIECBAg0Ol0BGmmAQECBAgQIECAQAMFBGm5bIJrhAABAlkEBGkNXF91iQABAgQIECDQPgFBWvvGXI8JECBAgAABAi0QEKRl2fv2LAECBHIREKS1YL3VRQIECBAgQIBA8wUEac0fYz0kQIAAAQIECLRQQJCWyya4RggQIJBFQJDWwvVXlwkQIECAAAECzRMQpDVvTPWIAAECBAgQIECgI0jLsvftWQIECOQiIEizHhMgQIAAAQIECDRAQJDWgEHUBQIECBAgQIAAgV4BQVoum+AaIUCAQBYBQVrv4uRnAgQIECBAgACBGgoI0mo4aEomQIAAAQIECBAYT0CQlmXv27MECBDIRUCQNt5i5XsCBAgQIECAAIEaCAjSajBISiRAgAABAgQIEJiogCAtl01wjRAgQCCLgCBtoouX+wkQIECAAAECBAIUEKQFOChKIkCAAAECBAgQyCogSMuy9+1ZAgQI5CIgSMu6mHmeAAECBAgQIEAgAAFBWgCDoAQCBAgQIECAAIG8BQRpuWyCa4QAAQJZBARpeS9u2iNAgAABAgQIEKhAQJBWAbpXEiBAgAABAgQIFC0gSMuy9+1ZAgQI5CIgSCt6sdM+AQIECBAgQIBACQKCtBKQvYIAAQIECBAgQKBsAUFaLpvgGiFAgEAWAUFa2Yuf9xEgQIAAAQIECBQgIEgrAFWTBAgQIECAAAECVQsI0rLsfXuWAAECuQgI0qpeDL2fAAECBAgQIEAgBwFBWg6ImiBAgAABAgQIEAhNQJCWyya4RggQIJBFQJAW2uKoHgIECBAgQIAAgUkICNImgeYRAgQIECBAgACB0AUEaVn2vj1LgACBXAQEaaEvluojQIAAAQIECBAYQECQNgCSWwgQIECAAAECBOomIEjLZRNcIwQIEMgiIEir2+KpXgIECBAgQIAAgRQBQVoKiksECBAgQIAAAQJ1FxCkZdn79iwBAgRyERCk1X0xVT8BAgQIECBAgECn0xGkmQYECBAgQIAAAQINFBCk5bIJrhECBAhkERCkNXB91SUCBAgQIECAQPsEBGntG3M9JkCAAAECBAi0QECQlmXv27MECBDIRUCQ1oL1VhcJECBAgAABAs0XEKQ1f4z1kAABAgQIECDQQgFBWi6b4BohQIBAFgFBWgvXX10mQIAAAQIECDRPQJDWvDHVIwIECBAgQIAAgY4gLcvet2cJECCQi4AgzXpMgAABAgQIECDQAAFBWgMGURcIECBAgAABAgR6BQRpuWyCa4QAAQJZBARpvYuTnwkQIECAAAECBGooIEir4aApmQABAgQIECBAYDwBQVqWvW/PEiBAIBcBQdp4i5XvCRAgQIAAAQIEaiAgSKvBICmRAAECBAgQIEBgogKCtFw2wTVCgACBLAKCtIkuXu4nQIAAAQIECBAIUECQFuCgKIkAAQIECBAgQCCrgCAty963ZwkQIJCLgCAt62LmeQIECBAgQIAAgQAEBGkBDIISCBAgQIAAAQIE8hYQpOWyCa4RAgQIZBEQpOW9uGmPAAECBAgQIECgAgFBWgXoXkmAAAECBAgQIFC0gCAty963ZwkQIJCLgCCt6MVO+wQIECBAgAABAiUICNJKQPYKAgQIECBAgACBsgUEablsgmuEAAECWQQEaWUvft5HgAABAgQIECBQgIAgrQBUTRIgQIAAAQIECFQtIEjLsvftWQIECOQiIEirejH0fgIECBAgQIAAgRwEBGk5IGqCAAECBAgQIEAgNAFBWi6b4BohQIBAFgFBWmiLo3oIECBAgAABAgQmISBImwSaRwgQIECAAAECBEIXEKRl2fv2LAECBHIREKSFvliqjwABAgQIECBAYAABQdoASG4hQIAAAQIECBCom4AgLZdNcI0QIEAgi4AgrW6Lp3oJECBAgAABAgRSBARpKSguESBAgAABAgQI1F1AkJZl79uzBAgQyEVAkFb3xVT9BAgQIECAAAECnU5HkGYaECBAgAABAgQINFBAkJbLJrhGCBAgkEVAkNbA9VWXCBAgQIAAAQLtExCktW/M9ZgAAQIECBAg0AIBQVqWvW/PEiBAIBcBQVoL1ltdJECAAAECBAg0X0CQ1vwx1kMCBAgQIECAQAsFBGm5bIJrhAABAlkEBGktXH91mQABAgQIECDQPAFBWvPGVI8IECBAgAABAgQ6grQse9+eJUCAQC4CgjTrMQECBAgQIECAQAMEBGkNGERdIECAAAECBAgQ6BUQpOWyCa4RAgQIZBEQpPUuTn4mQIAAAQIECBCooYAgrYaDpmQCBAgQIECAAIHxBARpWfa+PUuAAIFcBARp4y1WvidAgAABAgQIEKiBgCCtBoOkRAIECBAgQIAAgYkKCNJy2QTXCAECBLIICNImuni5nwABAgQIECBAIEABQVqAg6IkAgQIECBAgACBrAKCtCx7354lQIBALgKCtKyLmecJECBAgAABAgQCEBCkBTAISiBAgAABAgQIEMhbQJCWyya4RqoSuPe+hz5y1Kde/zdvuGTh1VXV4L0EsgsI0vJe3LRHgAABAgQIECBQgYAgrQJ0ryRAgAABAgQIEChaYNsXbHfuty7yl0BNBV61y67Rs39OPe2smvZC2QQ23mSTZ555puj/4WufAAECBAgQIECAQKECgrRCeTVOgAABAgQIECBQjcDChQu/7A+BegqccMIJz4Zow/894IAD6tkPVRP48tnnnFPNGuCtBAgQIECAAAECBPITEKTlZ6klAgQIECBAgAABAgQIZBZYuHBhMkjbZ599MjepAQIECBAgQIAAAQIECBCYpIAgbZJwHiNAgAABAgQIECBAgEARAoccckgySJs2bdrKlSuLeJE2CRAgQIAAAQIECBAgQGBcAUHauERuIECAAAECBAgQIECAQEkCf/rTn+bOnZsM0qIoOvPMM0t6vdcQIECAAAECBAgQIECAwHMFBGnP9fATAQIECBAgQIAAAQIEqhPoOdcxTtSc7ljdgHgzAQIECBAgQIAAAQJtFxCktX0G6D8BAgQIECBAgAABAuEI9JzrGAdpTncMZ4BUQoAAAQIECBAgQIBA2wQEaW0bcf0lQIAAAQIECBAgQCBQgeS5jlOnTt1ll126Zzw63THQMVMWAQIECBAgQIAAAQJNFxCkNX2E9Y8AAQIECBAgQIAAgZoIJM913HXXXS+66KJukOZ0x5qMoTIJECBAgAABAgQIEGiagCCtaSOqPwQIECBAgAABAgQI1FQgea7jySef/OSTT6677rpOd6zpaCqbAAECBAgQIECAAIFmCAjSmjGOekGAAAECBAgQIECAQL0Fes51XL58eafTefvb3979pTSnO9Z7gFVPgAABAgQIECBAgEA9BQRp9Rw3VRMgQIAAAQIECBAg0CyBnnMd48453bFZg6w3BAgQIECAAAECBAjUT0CQVr8xUzEBAgQIECBAgAABAs0T6DnXMe6g0x2bN9B6RIAAAQIECBAgQIBAvQQEafUaL9USIECAAAECBAgQINBAgdRzHeN+Ot2xgeOtSwQIECBAgAABAgQI1EdAkFafsVIpAQIECBAgQIAAAQINFUg91zHuq9MdGzrmukWAAAECBAgQIECAQD0EBGn1GCdVEiBAgAABAgQIECDQYIHUcx3j/jrdscHjrmsECBAgQIAAAQIECIQvIEgLf4xUSIAAAQIECBAgQIBAkwX6nOsYd9vpjk0efn0jQIAAAQIECBAgQCBsAUFa2OOjOgIECBAgQIAAAQIEmi7Q51zHuOtOd2z6FNA/AgQIECBAgAABAgTCFRCkhTs2KiNAgAABAgQIECBAoA0Cfc51jLvvdMc2TAN9JECAAAECBAgQIEAgTAFBWpjjoioCBAgQIECAAAECBFohMO65jrGC0x1bMRt0kgABAgQIECBAgACB8AQEaeGNiYoIECBAgAABAgQIEGiNwLjnOsYSTndszYzQUQIECBAgQIAAAQIEwhIQpIU1HqohQIAAAQIECBAgQKBVAuOe6xhrON2xVbNCZwkQIECAAAECBAgQCEdAkBbOWKiEAAECBAgQIECAAIF2CQx4rmOM4nTHdk0OvSVAgAABAgQIECBAIAwBQVoY46AKAgQIECBAgAABAgTaJzDguY4xjNMd2zdB9JgAAQIECBAgQIAAgeoFBGnVj4EKCBAgQIAAAQIECBBop8CA5zrGOE53bOck0WsCBAgQIECAAAECBKoVEKRV6+/tBAgQIECAAAECBAi0VGBC5zrGRk53bOlc0W0CBAgQIECAAAECBKoTEKRVZ+/NBAgQIECAAAECBAi0WGBC5zrGTk53bPF80XUCBAgQIECAAAECBKoREKRV4+6tBAgQIECAAAECBAi0XGBC5zrGVk53bPmc0X0CBAgQIECAAAECBMoXEKSVb+6NBAgQIECAAAECBAi0XWAS5zrGZE53bPvU0X8CBAgQIECAAAECBMoVEKSV6+1tBAgQIECAAAECBAgQ6HQmca5jzOZ0R9OHAAECBAgQIECAAAECZQoI0srU9i4CBAgQIECAAAECBAgMC0ziXMcYzumOJhABAgQIECBAgAABAgTKFBCklantXQQIECBAgAABAgQIEOhM+lzH2M7pjuYQAQIECBAgQIAAAQIEShMQpJVG7UUECBAgQIAAAQIECBAYFpj0uY4xn9MdTSMCBAgQIECAAAECBAiUJiBIK43aiwgQIECAAAECBAgQIDAsMOlzHWM+pzuaRgQIECBAgAABAgQIEChNQJBWGrUXESBAgAABAgQIECBAIOu5jrGg0x3NJAIECBAgQIAAAQIECJQjIEgrx9lbCBAgQIAAAQIECBAgMCyQ8VzHGNHpjiYTAQIECBAgQIAAAQIEyhEQpJXj7C0ECBAgQIAAAQIECBAYFsh4rmOM6HRHk4kAAQIECBAgQIAAAQLlCAjSynH2FgIECBAgQIAAAQIECORzrmPs6HRHRieQGgAAIABJREFU84kAAQIECBAgQIAAAQIlCAjSSkD2CgIECBAgQIAAAQIECAwL5HKuY0zpdEdTigABAgQIECBAgAABAiUICNJKQPYKAgQIECBAgAABAgQIDAvkcq5jTOl0R1OKAAECBAgQIECAAAECJQgI0kpA9goCBAgQIECAAAECBAjkea5jrOl0R7OKAAECBAgQIECAAAECRQsI0ooW1j4BAgQIECBAgAABAgSGBXI81zEGdbqjiUWAAAECBAgQIECAAIGiBQRpRQtrnwABAgQIECBAgAABAsMCOZ7rGIM63dHEIkCAAAECBAgQIECAQNECgrSihbVPgAABAgQIECBAgACB/M91jE2d7mhuESBAgAABAgQIECBAoFABQVqhvBonQIAAAQIECBAgQIDAsEDu5zrGrE53NL0IECBAgAABAgQIECBQqIAgrVBejRMgQIAAAQIECBAgQGBYIPdzHWNWpzuaXgQIECBAgAABAgQIEChUQJBWKK/GCRAgQIAAAQIECBAgUNS5jrGs0x3NMAIECBAgQIAAAQIECBQnIEgrzlbLBAgQIECAAAECBAgQGBYo6FzHGNfpjiYZAQIECBAgQIAAAQIEihMQpBVnq2UCBAgQIECAAAECBAgMCxR0rmOM63RHk4wAAQIECBAgQIAAAQLFCQjSirPVMgECBAgQIECAAAECBIo91zH2dbqjeUaAAAECBAgQIECAAIGCBARpBcFqlgABAgQIECBAgAABAsMChZ7rGBM73dFUI0CAAAECBAgQIECAQEECgrSCYDVLgAABAgQIECBAgACBYYFCz3WMiZ3uaKoRIECAAAECBAgQIECgIAFBWkGwmiVAgAABAgQIECBAgEAZ5zrGyk53NNsIECBAgAABAgQIECBQhIAgrQhVbRIgQIAAAQIECBAgQGBYoIRzHWNopzuacAQIECBAgAABAgQIEChCQJBWhKo2CRAgQIAAAQIECBAgMCxQwrmOMbTTHU04AgQIECBAgAABAgQIFCEgSCtCVZsECBAgQIAAAQIECBAo71zH2NrpjuYcAQIECBAgQIAAAQIEchcQpOVOqkECBAgQIECAAAECBAgMC5R2rmPM7XRH044AAQIECBAgQIAAAQK5CwjScifVIAECBAgQIECAAAECBIYFSjvXMeZ2uqNpR4AAAQIECBAgQIAAgdwFBGm5k2qQAAECBAgQIECAAAECZZ/rGIs73dHMI0CAAAECBAgQIECAQL4CgrR8PbVGgAABAgQIECBAgACBYYGSz3WM0Z3uaPIRIECAAAECBAgQIEAgXwFBWr6eWiNAgAABAgQIECBAgMCwQMnnOsboTnc0+QgQIECAAAECBAgQIJCvgCAtX0+tESBAgAABAgQIECBAoJpzHWN3pzuafwQIECBAgAABAgQIEMhRQJCWI6amCBAgQIAAAQIECBAgMCxQybmOMb3THU1BAgQIECBAgAABAgQI5CggSMsRU1MECBAgQIAAAQIECBAYFqjkXMeY3umOpiABAgQIECBAgAABAgRyFBCk5YipKQIECBAgQIAAAQIECFR5rmOs73RHs5AAAQIECBAgQIAAAQJ5CQjS8pLUDgECBAgQIECAAAECBIYFKjzXMR4ApzuaiAQIECBAgAABAgQIEMhLQJCWl6R2CBAgQIAAAQIECBAgMCxQ4bmO8QA43dFEJECAAAECBAgQIECAQF4CgrS8JLVDgAABAgQIECBAgACB6s91jMfA6Y7mIgECBAgQIECAAAECBHIREKTlwqgRAgQIECBAgAABAgQIDAtUfq5jPAxOdzQdCRAgQIAAAQIECBAgkIuAIC0XRo0QIECAAAECBAgQIEBgWKDycx3jYXC6o+lIgAABAgQIECBAgACBXAQEabkwaoQAAQIECBAgQIAAAQKhnOsYj0TydMcFCxYYHgIECBAgQIAAAQIECBCYhIAgbRJoHiFAgAABAgQIECBAgECKQCDnOsaVJU93fP3rX59SrksECBAgQIAAAQIECBAgMJ6AIG08Id8TIECAAAECBAgQIEBgMIFAznWMi3W642CD5i4CBAgQIECAAAECBAj0ExCk9dPxHQECBAgQIECAAAECBAYU+NOf/jR37tzof/9MnTp1+fLlAz5Y3G1OdyzOVssECBAgQIAAAQIECLREQJDWkoHWTQIECBAgQIAAAQIEihUI6lzHuKtOdyx2yLVOgAABAgQIECBAgEALBARpLRhkXSRAgAABAgQIECBAoHiBgw8+OP51tCiKTj755OJfOP4bnO44vpE7CBAgQIAAAQIECBAg0FdAkNaXx5cECBAgQIAAAQIECBAYQCDAcx3jqp3uOMDouYUAAQIECBAgQIAAAQJjCgjSxqTxBQECBAgQIECAAAECBAYUuPzyy7u/jrbrrrsO+FQJtzndsQRkryBAgAABAgQIECBAoMECgrQGD66uESBAgAABAgQIECBQkkCA5zrGPXe6Y0kzwGsIECBAgAABAgQIEGiogCCtoQOrWwQIECBAgAABAgQIlCWQPNcxiqJ77rnniTz+PP7443k088Q+++zT/W25BQsWlKXiPQQIECBAgAABAgQIEGiCgCCtCaOoDwQIECBAgAABAgQIVCiQPNexG1kF+6FCKK8mQIAAAQIECBAgQIBA7QQEabUbMgUTIECAAAECBAgQIBCWwAc+8IFgY7PRha1cuTIsPtUQIECAAAECBAgQIEAgYAFBWsCDozQCBAgQIECAAAECBOogcPzxx4/Oq4K9snr16jqgqpEAAQIECBAgQIAAAQJBCAjSghgGRRAgQIAAAQIECBAgUF+B//mf/znjjDN22WWXnXP68xd/8RfdHG7HHXfM3ur8+fPjBs8///z6OqucAAECBAgQIECAAAEC5QsI0so390YCBAgQIECAAAECBAj0E9h33327QdrixYv73eo7AgQIECBAgAABAgQIEChSQJBWpK62CRAgQIAAAQIECBAgMHEBQdrEzTxBgAABAgQIECBAgACBQgQEaYWwapQAAQIECBAgQIAAAQKTFhCkTZrOgwQIECBAgAABAgQIEMhXQJCWr6fWCBAgQIAAAQIECBAgkFVAkJZV0PMECBAgQIAAAQIECBDISUCQlhOkZggQIECAAAECBAgQIJCTgCAtJ0jNECBAgAABAgQIECBAIKuAIC2roOcJECBAgAABAgQIECCQr4AgLV9PrREgQIAAAQIECBAgQGDSAoK0SdN5kAABAgQIECBAgAABAoUICNIKYdUoAQIECBAgQIAAAQIEJi4gSJu4mScIECBAgAABAgQIECBQpIAgrUhdbRMgQIAAAQIECBAgQGACAoK0CWC5lQABAgQIECBAgAABAiUICNJKQPYKAgQIECBAgAABAgQIDCIgSBtEyT0ECBAgQIAAAQIECBAoT0CQVp61NxEgQIAAAQIECBAgQKCvgCCtL48vCRAgQIAAAQIECBAgULqAIK10ci8kQIAAAQIECBAgQIBAuoAgLd3FVQIECBAgQIAAAQIECFQlIEirSt57CRAgQIAAAQIECBAg0CMgSOsB8SMBAgQIECBAgAABAgQqFhCkVTwAXk+AAAECBAgQIECAAIFnBQRpz0r4LwECBAgQIECAAAECBMIQEKSFMQ6qIECAAAECBAgQIECAQEeQZhIQIECAAAECBAgQIEAgLAFBWljjoRoCBAgQIECAAAECBFosIEhr8eDrOgECBAgQIECAAAECQQoI0oIcFkURIECAAAECBAgQINBGAUFaG0ddnwkQIECAAAECBAgQCFlAkBby6KiNAAECBAgQIECAAIFWCQjSWjXcOkuAAAECBAgQIECAQA0EBGk1GCQlEiBAgAABAgQIECDQDgFBWjvGWS8JECBAgAABAgQIEKiPgCCtPmOlUgIECBAgQIAAAQIEGi4gSGv4AOseAQIECBAgQIAAAQK1ExCk1W7IFEyAAAECBAgQIECAQFMFBGlNHVn9IkCAAAECBAgQIECgrgKCtLqOnLoJECBAgAABAgQIEGicgCCtcUOqQwQIECBAgAABAgQI1FxAkFbzAVQ+AQIECBAgQIAAAQLNERCkNWcs9YQAAQIECBAgQIAAgWYICNKaMY56QYAAAQIECBAgQIBAAwQEaQ0YRF0gQIAAAQIECBAgQKBRAoK0Rg2nzhAgQIAAAQIECBAgUGcBQVqdR0/tBAgQIECAAAECBAg0UUCQ1sRR1ScCBAgQIECAAAECBGopIEir5bApmgABAgQIECBAgACBBgsI0ho8uLpGgAABAgQIECBAgEC9BARp9Rov1RIgQIAAAQIECBAg0HwBQVrzx1gPCRAgQIAAAQIECBCoiYAgrSYDpUwCBAgQIECAAAECBFojIEhrzVDrKAECBAgQIECAAAECoQsI0kIfIfURIECAAAECBAgQINA2AUFa20ZcfwkQIECAAAECBAgQCFZAkBbs0CiMAAECBAgQIECAAIGWCgjSWjrwuk2AAAECBAgQIECAQHgCgrTwxkRFBAgQIECAAAECBAi0W0CQ1u7x13sCBAgQIECAAAECBAISEKQFNBhKIUCAAAECBAgQIECAQKfTEaSZBgQIECBAgAABAgQIEAhEQJAWyEAogwABAgQIECBAgAABAiMCgjRTgQABAgQIECBAgAABAoEICNICGQhlECBAgAABAgQIECBAYERAkGYqECBAgAABAgQIECBAIBABQVogA6EMAgQIECBAgAABAgQIjAgI0kwFAgQIECBAgAABAgQIBCIgSAtkIJRBgAABAgQIECBAgACBEQFBmqlAgAABAgQIECBAgACBQAQEaYEMhDIIECBAgAABAgQIECAwIiBIMxUIECBAgAABAgQIECAQiIAgLZCBUAYBAgQIECBAgAABAgRGBARppgIBAgQIECBAgAABAgQCERCkBTIQyiBAgAABAgQIECBAgMCIgCDNVCBAgAABAgQIECBAgEAgAoK0QAZCGQQIECBAgAABAgQIEBgREKSZCgQIECBAgAABAgQIEAhEQJAWyEAogwABAgQIECBAgAABAiMCgjRTgQABAgQIECBAgAABAoEICNICGQhlECBAgAABAgQIECBAYERAkGYqECBAgAABAgQIECBAIBABQVogA6EMAgQIECBAgAABAgQIjAgI0kwFAgQIECBAgAABAgQIBCIgSAtkIJRBgAABAgQIECBAgACBEQFBmqlAgAABAgQIECBAgACBQAQEaYEMhDIIECBAgAABAgQIECAwIiBIMxUIECBAgAABAgQIECAQiIAgLZCBUAYBAgQIECBAgAABAgRGBARppgIBAgQIECBAgAABAgQCERCkBTIQyiBAgAABAgQIECBAgMCIgCDNVCBAgAABAgQIECBAgEAgAoK0QAZCGQQIECBAgAABAgQIEBgREKSZCgQIECBAgAABAgQIEAhEQJAWyEAogwABAgQIECBAgAABAiMCgjRTgQABAgQIECBAgAABAoEICNICGQhlECBAgAABAgQIECBAYERAkGYqECBAgAABAgQIECBAIBABQVogA6EMAgQIECBAgAABAgQIjAgI0kwFAgQIECBAgAABAgQIBCIgSAtkIJRBgAABAgQIECBAgACBEQFBmqlAgAABAgQIECBAgACBQAQEaYEMhDIIECBAgAABAgQIECAwIiBIMxUIECBAgAABAgQIECAQiIAgLZCBUAYBAgQIECBAgAABAgRGBARppgIBAgQIECBAgAABAgQCERCkBTIQyiBAgAABAgQIECBAgMCIgCDNVCBAgAABAgQIECBAgEAgAoK0QAZCGQQIECBAgAABAgQIEBgREKSZCgQIECBAgAABAgQIEAhEQJAWyEAogwABAgQIECBAgAABAiMCgjRTgQABAgQIECBAgAABAoEICNICGQhlECBAgAABAgQIECBAYERAkGYqECBAgAABAgQIECBAIBABQVogA6EMAgQIECBAgAABAgQIjAgI0kwFAgQIECBAgAABAgQIBCIgSAtkIJRBgAABAgQIECBAgACBEQFBmqlAgAABAgQIECBAgACBQAQEaYEMhDIIECBAgAABAgQIECAwIiBIMxUIECBAgAABAgQIECAQiIAgLZCBUAYBAgQIECBAgAABAgRGBARppgIBAgQIECBAgAABAgQCERCkBTIQyiBAgAABAgQIECBAgMCIgCDNVCBAgAABAgQIECBAgEAgAoK0QAZCGQQIECBAgAABAgQIEBgREKSZCgQIECBAgAABAgQIEAhEQJAWyEAogwABAgQIECBAgAABAiMCgjRTgQABAgQIECBAgAABAoEICNICGQhlECBAgAABAgQIECBAYERAkGYqECBAgAABAgQIECBAIBABQVogA6EMAgQIECBAgAABAgQIjAgI0kwFAgQIECBAgAABAgQIBCIgSAtkIJRBgAABAgQIECBAgACBEQFBmqlAgAABAgQIECBAgACBQAQEaYEMhDIIECBAgAABAgQIECAwIiBIMxUIECBAgAABAgQIECAQiIAgLZCBUAYBAgQIECBAgAABAgRGBARppgIBAgQIECBAgAABAgQCERCkBTIQyiBAgAABAgQIECBAgMCIgCDNVCBAgAABAgQIECBAgEAgAoK0QAZCGQQIECBAgAABAgQIEBgREKSZCgQIECBAgAABAgQIEAhEQJAWyEAogwABAgQIECBAgAABAiMCgjRTgQABAgQIECBAgAABAoEICNICGQhlECBAgAABAgQIECBAYERAkGYqECBAgAABAgQIECBAIBABQVogA6EMAgQIECBAgAABAgQIjAgI0kwFAgQIECBAgAABAgQIBCIgSAtkIJRBgAABAgQIECBAgACBEQFBmqlAgAABAgQIECBAgACBQAQEaYEMhDIIECBAgAABAgQIECAwIiBIMxUIECBAgAABAgQIECAQiIAgLZCBUAYBAgQIECBAgAABAgRGBARppgIBAgQIECBAgAABAgQCERCkBTIQyiBAgAABAgQIECBAgMCIgCDNVCBAgAABAgQIECBAgEAgAoK0QAZCGQQIECBAgAABAgQIEBgREKSZCgQIECBAgAABAgQIEAhEQJAWyEAogwABAgQIECBAgAABAiMCgjRTgQABAgQIECBAgAABAoEICNICGQhlECBAgAABAgQIECBAYERAkGYqECBAgAABAgQIECBAIBABQVogA6EMAgQIECBAgAABAgQIjAgI0kwFAgQIECBAgAABAgQIBCIgSAtkIJRBgAABAgQIECBAgACBEQFBmqlAgAABAgQIECBAgACBQAQEaYEMhDIIECBAgAABAgTyFNhzzz133W13fwnUVGD99TeInv2z8yteWdNeKJvAJpts+uc//znP/7lriwABAgQIECBAgEDpAoK00sm9kAABAgQIECBAoHiB3XffY2jVan8J1FTgzHMviHO0V+2y64rHn65pL5RNYPc99nrmmWeK/1++NxAgQIAAAQIECBAoUECQViCupgkQIECAAAECBKoSEKTZwa+7wPU333HRxQuXrPhd3Tui/jYLCNKqWgS9lwABAgQIECBAIEcBQVqOmJoiQIAAAQIECBAIRUCQ1ua9e30nQCAQAUFaKIuiOggQIECAAAECBDIICNIy4HmUAAECBAgQIEAgVAFBWiDb6MogQKDNAoK0UBdJdREgQIAAAQIECExAQJA2ASy3EiBAgAABAgQI1EVAkNbmvXt9J0AgEAFBWl0WTXUSIECAAAECBAj0ERCk9cHxFQECBAgQIECAQF0FBGmBbKMrgwCBNgsI0uq6iKqbAAECBAgQIEAgISBIS2D4SIAAAQIECBAg0BQBQVqb9+71nQCBQAQEaU1ZVPWDAAECBAgQINBqAUFaq4df5wkQIECAAAECTRUQpAWyja4MAgTaLCBIa+oiq18ECBAgQIAAgVYJCNJaNdw6S4AAAQIECBBoi4Agrc179/pOgEAgAoK0tiy6+kmAAAECBAgQaLSAIK3Rw6tzBAgQIECAAIG2CgjSAtlGVwYBAm0WEKS1dRHWbwIECBAgQIBAowQEaY0aTp0hQIAAAQIECBCIBQRpbd6713cCBAIREKRZlAkQIECAAAECBBogIEhrwCDqAgECBAgQIECAQK+AIC2QbXRlECDQZgFBWu/i5GcCBAgQIECAAIEaCgjSajhoSiZAgAABAgQIEBhPQJDW5r17fSdAIBABQdp4i5XvCRAgQIAAAQIEaiAgSKvBICmRAAECBAgQIEBgogKCtEC20ZVBgECbBQRpE1283E+AAAECBAgQIBCggCAtwEFREgECBAgQIECAQFYBQVqb9+71nQCBQAQEaVkXM88TIECAAAECBAgEICBIC2AQlECAAAECBAgQIJC3gCAtkG10ZRAg0GYBQVrei5v2CBAgQIAAAQIEKhAQpFWA7pUECBAgQIAAAQJFCwjS2rx3r+8ECAQiIEgrerHTPgECBAgQIECAQAkCgrQSkL2CAAECBAgQIECgbAFBWiDb6MogQKDNAoK0shc/7yNAgAABAgQIEChAQJBWAKomCRAgQIAAAQIEqhYQpLV5717fCRAIRECQVvVi6P0ECBAgQIAAAQI5CAjSckDUBAECBAgQIECAQGgCgrRAttGVQYBAmwUEaaEtjuohQIAAAQIECBCYhIAgbRJoHiFAgAABAgQIEAhdQJDW5r17fSdAIBABQVroi6X6CBAgQIAAAQIEBhAQpA2A5BYCBAgQIECAAIG6CQjSAtlGVwYBAm0WEKTVbfFULwECBAgQIECAQIqAIC0FxSUCBAgQIECAAIG6CwjS2rx3r+8ECAQiIEir+2KqfgIECBAgQIAAgU6nI0gzDQgQIECAAAECBBooIEgLZBtdGQQItFlAkNbA9VWXCBAgQIAAAQLtExCktW/M9ZgAAQIECBAg0AIBQVqb9+71nQCBQAQEaS1Yb3WRAAECBAgQINB8AUFa88dYDwkQIECAAAECLRQQpAWyja4MAgTaLCBIa+H6q8sECBAgQIAAgeYJCNKaN6Z6RIAAAQIECBAg0BGktXnvXt8JEAhEQJBmPSZAgAABAgQIEGiAgCCtAYOoCwQIECBAgAABAr0CgrRAttGVQYBAmwUEab2Lk58JECBAgAABAgRqKCBIq+GgKZkAAQIECBAgQGA8AUFam/fu9Z0AgUAEBGnjLVa+J0CAAAECBAgQqIGAIK0Gg6REAgQIECBAgACBiQoI0gLZRlcGAQJtFhCkTXTxcj8BAgQIECBAgECAAoK0AAdFSQQIECBAgAABAlkFBGlt3rvXdwIEAhEQpGVdzDxPgAABAgQIECAQgIAgLYBBUAIBAgQIECBAgEDeAoK0QLbRlUGAQJsFBGl5L27aI0CAAAECBAgQqEBAkFYBulcSIECAAAECBAgULSBIa/Pevb4TIBCIgCCt6MVO+wQIECBAgAABAiUICNJKQPYKAgQIECBAgACBsgUEaYFsoyuDAIE2CwjSyl78vI8AAQIECBAgQKAAAUFaAaiaJECAAAECBAgQqFpAkNbmvXt9J0AgEAFBWtWLofcTIECAAAECBAjkICBIywFREwQIECBAgAABAqEJCNIC2UZXBgECbRYQpIW2OKqHAAECBAj8P/buBEqOqt4feCckmSQkIQECsskSVtnBnYeALLIpIjwUEYUHKqICKggIsqgoiyKLyK4ERRBEFPQhIAhI2AKETSGAQPYJy6hs847n+OZ/3r9jWdT0LL1U9626H07Osab71q3f/dzuvmN9T98hQIBAAwKCtAbQnEKAAAECBAgQIBC6gCAt5nv3xk6AQCACgrTQF0v1ESBAgAABAgQIDENAkDYMJE0IECBAgAABAgSKJiBIC+Q2ujIIEIhZQJBWtMVTvQQIECBAgAABAjUEBGk1UDxEgAABAgQIECBQdAFBWsz37o2dAIFABARpRV9M1U+AAAECBAgQINDX1ydI8zIgQIAAAQIECBAooYAgLZDb6MogQCBmAUFaCddXQyJAgAABAgQIxCcgSItvzo2YAAECBAgQIBCBgCAt5nv3xk6AQCACgrQI1ltDJECAAAECBAiUX0CQVv45NkICBAgQIECAQIQCgrRAbqMrgwCBmAUEaRGuv4ZMgAABAgQIECifgCCtfHNqRAQIECBAgAABAn2CtJjv3Rs7AQKBCAjSrMcECBAgQIAAAQIlEBCklWASDYEAAQIECBAgQCArIEgL5Da6MggQiFlAkJZdnPxMgAABAgQIECBQQAFBWgEnTckECBAgQIAAAQJDCQjSYr53b+wECAQiIEgbarHyPAECBAgQIECAQAEEBGkFmCQlEiBAgAABAgQI1CsgSAvkNroyCBCIWUCQVu/ipT0BAgQIECBAgECAAoK0ACdFSQQIECBAgAABAs0KCNJivndv7AQIBCIgSGt2MXM+AQIECBAgQIBAAAKCtAAmQQkECBAgQIAAAQKtFhCkBXIbXRkECMQsIEhr9eKmPwIECBAgQIAAgQ4ICNI6gO6SBAgQIECAAAECeQsI0mK+d2/sBAgEIiBIy3ux0z8BAgQIECBAgEAbBARpbUB2CQIECBAgQIAAgXYLCNICuY2uDAIEYhYQpLV78XM9AgQIECBAgACBHAQEaTmg6pIAAQIECBAgQKDTAoK0mO/dGzsBAoEICNI6vRi6PgECBAgQIECAQAsEBGktQNQFAQIECBAgQIBAaAKCtEBuoyuDAIGYBQRpoS2O6iFAgAABAgQIEGhAQJDWAJpTCBAgQIAAAQIEQhcQpMV8797YCRAIRECQFvpiqT4CBAgQIECAAIFhCAjShoGkCQECBAgQIECAQNEEBGmB3EZXBgECMQsI0oq2eKqXAAECBAgQIECghoAgrQaKhwgQIECAAAECBIouIEiL+d69sRMgEIiAIK3oi6n6CRAgQIAAAQIE+vr6BGleBgQIECBAgAABAiUUEKQFchtdGQQIxCwgSCvh+mpIBAiesjrmAAAgAElEQVQQIECAAIH4BARp8c25ERMgQIAAAQIEIhAQpMV8797YCRAIRECQFsF6a4gECBAgQIAAgfILCNLKP8dGSIAAAQIECBCIUECQFshtdGUQIBCzgCAtwvXXkAkQIECAAAEC5RMQpJVvTo2IAAECBAgQIECgT5AW8717YydAIBABQZr1mAABAgQIECBAoAQCgrQSTKIhECBAgAABAgQIZAUEaYHcRlcGAQIxCwjSsouTnwkQIECAAAECBAooIEgr4KQpmQABAgQIECBAYCgBQVrM9+6NnQCBQAQEaUMtVp4nQIAAAQIECBAogIAgrQCTpEQCBAgQIECAAIF6BQRpgdxGVwYBAjELCNLqXby0J0CAAAECBAgQCFBAkBbgpCiJAAECBAgQIECgWQFBWsz37o2dAIFABARpzS5mzidAgAABAgQIEAhAQJAWwCQogQABAgQIECBAoNUCgrRAbqMrgwCBmAUEaa1e3PRHgAABAgQIECDQAQFBWgfQXZIAAQIECBAgQCBvAUFazPfujZ0AgUAEBGl5L3b6J0CAAAECBAgQaIOAIK0NyC5BgAABAgQIECDQbgFBWiC30ZVBgEDMAoK0di9+rkeAAAECBAgQIJCDgCAtB1RdEiBAgAABAgQIdFpAkBbzvXtjJ0AgEAFBWqcXQ9cnQIAAAQIECBBogYAgrQWIuiBAgAABAgQIEAhNQJAWyG10ZRAgELOAIC20xVE9BAgQIECAAAECDQgI0hpAcwoBAgQIECBAgEDoAoK0mO/dGzsBAoEICNJCXyzVR4AAAQIECBAgMAwBQdowkDQhQIAAAQIECBAomoAgLZDb6MogQCBmAUFa0RZP9RIgQIAAAQIECNQQEKTVQPEQAQIECBAgQIBA0QUEaTHfuzd2AgQCERCkFX0xVT8BAgQIECBAgEBfX58gzcuAAAECBAgQIECghAKCtAcemX3LH+4Zzr9b77zvyb8sDOS2ewhlzFv8ynDchmxz98zHQhhOKWt4dv5Lif+d9zxUyjGWY1CCtBKur4ZEgAABAgQIEIhPQJAW35wbMQECBAgQIEAgAgFB2sf2+2Slnv+WWWbyJpttvude+/zu1rvKcQe/4VHMevyZeuQGbLvV1ts0XIMTBxf47c13pN1/f8d9g7f3bKcEBGkRrLeGSIAAAQIECBAov4AgrfxzbIQECBAgQIAAgQgFBGn1BmlJLDFixIh9Prbfw39+tlN33jt+XUFax6dgyAIyQdott9875CkadERAkBbh+mvIBAgQIECAAIHyCQjSyjenRkSAAAECBAgQINAnSGs4SKsmahMmTIx2xzxBWkcSl+Si81949QcX/Oiscy+s/lv40uvJU8mBIC2hCPxAkGY9JkCAAAECBAgQKIGAIK0Ek2gIBAgQIECAAAECWQFBWpNBWqVS2eBtG81Z9NfAb9PnUV6rgrQ99tw7j/JK3+cll/0s+X5kpVKZ1/33/kMWpPU3CfMRQVp2cfIzAQIECBAgQIBAAQUEaQWcNCUTIECAAAECBAgMJSBIywRpl/306pkPP9n/3+0zHrj6ut/+4IIf7fbBPUaOHJkOMCqVyoEHHxLm3flcq8oEaRtutEl/t+E8EmcM2fzUXHjpT9Kvw+EEaf5GWvPsOfUgSBtqsfI8AQIECBAgQIBAAQQEaQWYJCUSIECAAAECBAjUKyBIywRpv7v1riFvlP/x3lkrrbRyOsMY09U1b/ErQ55YsgaZIG277Xcq2QADH85wgrTnFrz8+zvuq/67676HAx9RzOUJ0updvLQnQIAAAQIECBAIUECQFuCkKIkAAQIECBAgQKBZAUFaA0Fad0/vf99y55iurnSWdsvt98YWAwjSOjvjwwnSOluhqw9fQJDW7GLmfAIECBAgQIAAgQAEBGkBTIISCBAgQIAAAQIEWi0gSGssSOvu6f3Qh/dKB2lnnnP+8G+al6OlIK2z8yhI66x/a68uSGv14qY/AgQIECBAgACBDggI0jqA7pIECBAgQIAAAQJ5CwjSGg7Svn7SKekg7dAvHDHkjfVFL7/xwCOzr/zF9ad975wzzzn/0ulX/fq3v//LvBeHPLF/g6fnLL7l9nsvuexnp55x1qXTr7zp1hl/empe/2ZDPjL/hVdvunXGZT+9+ozv/+C7Z533o8t/fuc9Dw15VrVBEYO0ex/805W/uP6scy887XvnXDr9yt/efMeCF18b5niTZs2gJZ2kDxa+9Pqtd943/YprTvveOeecd/HPf/mbBx99Kt2g5nFOQdpjs+dc++vfnX/x9FPPOOvc8y+96tob7n3wTzULGP6D81949ZY/3DP9imtOP/Pc7597wc+u/tX9s54Y/ukxtBSk5b3Y6Z8AAQIECBAgQKANAoK0NiC7BAECBAgQIECAQLsFBGkNB2mnn3luOkg79viTB7rdf/+sJw48+JANN9pk7Nhx6VOqx0sttdSmm29x9g8umv/CqwP1kDz+3IKXv37SKZm/0Jb0ucaaa33jlDOenrM4aT/IwR13P7jPvp+YPHlKcnpysOpqbz3oM4fO+tNfBjm9u6c3pyDtgP/6zDbbbl/9t+12O8x6/JlByvjDXTOTxttsu/0++36iZuM5i/56/InfWm/9tyVjTA5WWGHFz33+8NtnPFDzxMyDTaIddczXk2qvv/G27p7eZ+e/9NVjT1h1tbcm9SQHm22x5XfPOm/hS69najjhG9+pdjJhwsSkcaVS2Xqb7ZLOk1NmPvxk8uA2225/zwOPJ09lDha8+Npp3ztniy3fMWLEiHS31eNp09Y54itHz36uO3NW+sd53X9PX+u5BS939/TOfq77iK8cveKKb+nf59s23Pic8y5O9xDzsSCt3Yuf6xEgQIAAAQIECOQgIEjLAVWXBAgQIECAAAECnRYQpDUcpP3Xpz+XzgYuuOTy/jHAopff+NKRx4waNSrdcqDj9dZ/2+DZ1VnnXrj81KkDnZ48vupqb50x89H+xSSPzFv8ymcPPWzIqpZeesIJ3/hO/yAn6SenIO1znz88GUulUtlu+52SK2YO5r/w6iabbZ5u/L2zf5hp093T++vf/n6NNddKN6t5fNiXjup/bvJIS9De/o53JZf+0eU/v+PuB9deZ73kkZoHW779nZkvb3304/vXbJl+MCn79hkPpB8f6C/53XL7vetvsGG6Zc3jZZdb7vyLpyedZw6eX9iTPuvpOYv/eO+staatnX6w//H2O+48r/vvma4i/FGQ1unF0PUJECBAgAABAgRaICBIawGiLggQIECAAAECBEITEKQ1FqQ9v7Bn2rR10qnAH++d1f/u/777fSrdZsjj1ddY85m5L/Tvp7und/oV19T8qlDNPpddbrmZDz9Zs585i/664wd2rXlWzQf32//ARS+/UbOrnIK0OYv+uu56G6SLOevcC2sWcOzxJ6eb7bTzbv2bXXXtDTW/CJg+MTneZ99P1PxeYKvQ0kHa8Sd+a9KkScmlBzlYZdXV0rPZ8iDt+htvG2YllUplxIgRp5z6vf7O3T29mSDt5tvuXmaZyYOMK3lqoO8R1rxKWR8UpIW2OKqHAAECBAgQIECgAQFBWgNoTiFAgAABAgQIEAhdQJDWWJC29z77JjHA/31r6v079r+/f90NN6fbVI8nTZq00cabvm+b92+2xZY1v1523Anf7N/VjPsfmTgxG7pMnjxl08232Grrbaatve5SSy2VudbH9vtk/366e3r3/9RBmZaVSmVMV9dGG286bdo6NbO6z33+8Jpd5RSkdff03nTrjPQX5iZNmtT/u3p33P3gmK6uZCzLLb/847PnZup88NGnurrGJm2Sg5VWXmXKsstOnlJjW8uag20VWjpIS4pJDqYsu+zKq6ya/Jg+2HiTzZKhnXzK6RMnTpo4cVImIJwwYWL18YkTJyWNh/xG2jNzX1h2ueXS16oejxs3fsKEiVOWXbb/U5VK5cbf/zG5RHKQCdLeuvoaybmjR4/edPMt9tv/wA99eK/040mD4f9lvuRyJTsQpIW+WKqPAAECBAgQIEBgGAKCtGEgaUKAAAECBAgQIFA0AUFavUHadTfcvO12OyQBQKVSGTVq1G9uur3/bf13vPPd6WarrLraOT+8ZN7iV5KWi15+4+e//M3mW7w93Wzd9TZIGiQHnz7kC+k2q6y62vkXT09/d+q+h/78oQ/vlW4zatSoR554LumhenDXfQ9nIre111nvuhtuTqp6es7ic867OBPajRgxouaWgPkFad09vV/56tfSw9lhp13SY1nw4mubbbFlusFlP7063aB6vN/+B6bbjBw58vgTv/XQY08nLa+69oZpa6+bbjNu3Pg/PTUvadDd09tCtJpB2ogRI474ytF33vNQ9Zt/jzzx3HkX/ni55ZdPV1WpVPoP8MJLf5JuU3ODxCGDtCOPPj7dSaVSef8OH7j5truTV9eMmY8ecuhhmTbbbLt9mqh6nAnSklP23Gufv8x7MWk//4VXT/rWaaPHjEkaVCqVwffVTM4t8YEgrWiLp3oJECBAgAABAgRqCAjSaqB4iAABAgQIECBAoOgCgrRMkLbe+m/baefd+v/bautt1ll3/cmTs99hGjlyZM2/jrbwpdfTXxiaMGHiQN+5eer57vROhl1dY/tvpbjl29+ZpA7LLDN5xv2P9E8UFrz42lZbb5M0q1QqV117Q6bZrrvvkW7wsf0++fzCnkyb7p7e+2c9sdHGm6Zb/sf7tu3fLBOkrbjiW/bca58G/s1Z9Nf+nc9b/Momm26WruGcH16SNDv+xG+ln/r4Jw5InkoO7p75WPprbWO6ui6dflXybHLw7PyXMlnascefnDzb3dPbQrT+Qdro0aPPu/DH6ctVj+976M+ZqjbZ9N9fSqu2aT5I+/PT8ydMmJiWPPDgQxa8+Fr/er571nlpzEql8qvf3JJpVjNIO/7Eb2WaVX/82te/kb7uB/f4SM1m8TwoSCv6Yqp+AgQIECBAgACBvr4+QZqXAQECBAgQIECAQAkFBGmZIC19c3/I4xVXfMt1N9xc817/zIefTJ9+6BeOqNms+uAxx52UbvzU893pxvO6/57ew/DDH/nP9LPp40su+1m6n++c/v30s7+56fb0sxu8baPkW0fpZtXjP947a/To0en26S9yVdtkgrR047qO019XSldy+4wH0gOfPHlK9Tt2f7x3Vvrx1ddYs2YPH9n7o+kyzjzn/HTn6eNbbr83vaflrrvvkTzbWrT+QdogVT35l4WZTRcv/9kvksK6e3qbD9I+9/nD00Qf+vBe6f4zxyd967R043e/Z6tMg/5B2rve/d5Mm+THBS++lt438j1bbZ08FeeBIK2E66shESBAgAABAgTiExCkxTfnRkyAAAECBAgQiEBAkNZMkDZu3Pgjjz7+6TmL+9/6v++hP0+eMmXs2HHVf1df99v+bZJHfnT5z9MRxezn3hSk/fnp+eln9/nYfsmJmYPHZs859AtHJP9u+cM96Qa7ffDfX0cbMWJEze0o0+0/++YN/X540WXpZ7t7evMO0rp7er9+0inpse+0824LXnwt/f28kSNHXn/jbZnCunt6H589d+TIkcm5U6euUHPnw+TE9Lff1lxrWvJ4a9EyQdrKq6yabKqZXDF9cPTXTkyGUKlUtt9x5/SzzQdpmQ0kf3/Hfen+M8d/mfdi5huZ9896It2mf5D2y+tvSjfIHKe/QPnu9/5H5tnYfhSkRbDeGiIBAgQIECBAoPwCgrTyz7EREiBAgAABAgQiFBCkNROkVUOOqVNXGDyBGDISyMRFmSCtu6c3/UfLurrG/vq/bx2yz/4N0qnJZlts2b9B5pEZ9z+STnE+deCnMw3aEKQtfOn1zJ+a23CjTdJVDfS3tX7929+nmx159HGZ4jM/HnXM1ydPnlL9t8aaayXPthYtE6Sd9K3TkgvVPJj97KL01ovphK/5b6Q9PWdxmmjb7XaoWUP6wcO+dFT6lEw8nAnSav61v3Rv6beeIE2QFuH6a8gECBAgQIAAgfIJCNLKN6dGRIAAAQIECBAg0CdIS9/Nr1QqO+y0y0c/vv9A/3bdfY9119tg9Jgx6TihUqlMmjSp5vei0rFBzeOFL70+/YprJk2alO6wf5C22RZbphuMGjXqUwd+uq707p4HHk/3cPBnD61ZT/rBBS++lh5p/236MkHa1Kkr7P6hPRv4V/NvpCWV3PPA4+PGjU8XnxxvvMlmA32j66xzL0yaVSqVmn9VLrnEQActR8sEaY/NnjPQpZPH99n3E8lARo8Zs/Cl15OnmvxG2u/vuC/puVKpfP/cC5KeBzr4w10z06d896zz0i0zQdpuH/z3DpnpZsnxxz9xQNKbIE2QZj0mQIAAAQIECBAogYAgrQSTaAgECBAgQIAAAQJZAUFaJkj73a13JTf6BzqYs+ivRx59XFfX2CQGqFQqb119jUH+5Fi1q/kvvDpj5qM/u/pX3zn9+4cceti22+2Q/sJT0lv/IO28C3+cPJs+WHmVVT/68f2/f+4Fd898bKBqq49ffd1v0yduvsXbjz3+5CH/pU+ZNm2dzCUyQdp22++UadCqH79z+vfTlVSPu7rG3nnPQwNd4oivHJ0+ZfCsbqBOWo6WDtLGj196oOumH8/8/bwHH30qebbJIO3S6VemiX7xqxuTngc6yHyJLfN1wEyQdugXvzRQP9XHBWlpH0FadnHyMwECBAgQIECAQAEFBGkFnDQlEyBAgAABAgQIDCUgSGsgSKve/r7x938cNWpUOoo469wL03fGq8cLXnxt+hXXfOKT/7X+Bhumv+CVPjFz3D9I6+7p3XX3f/+Fs0z76o8rrLDi3vvse/nPfpH+0lJSz0U/+mnNs4b/4NSpKyS9VQ/aFqQtevmN923z/kyp3zjljEw96R/32HPvpP2yyy2Xfmr4xy1HSwdpQ+58WK3zhxddlgykUqlcd8PNSf1NBmmZDUXvffBPSc+DHKS/PbnHnnunW2aCtNO+d0762f7HgrS0iSBtqMXK8wQIECBAgAABAgUQEKQVYJKUSIAAAQIECBAgUK+AIK3hIK27p/eLRxyZDjm22Xb79J3x7p7e+2c9kc5O0o0HOa4ZpC148bWTTzl9/PilBzmx+tQaa671vbN/mKnk9DPPHfLEwRtMnjwl02fbgrTunt7M16cqlcpd9z2cqSf946abb5EMZ6ONN00/NfzjlqOlXwzD+Ztk3T291994WzKQSqVy9g8uSupvMkg74KDPpnue1/33pOdBDtbfYMPkrC22fEe6ZSZIq5krp9sL0tIagrR6Fy/tCRAgQIAAAQIEAhQQpAU4KUoiQIAAAQIECBBoVkCQ1kyQ9sAjs5NQoVKprLHmWuk74z+86LKJE9/0x8/SjSuVysiRI9eatvZe//mxvf7zY+mnagZp1Z4feuzprx57wgZv2yjdvubxRz++fzoayfzNsJqnDP7glGWXTY+uu6e3bUHacwtenrb2upny3v6Od9X87l21yI032Sxp33CQ1nK0dJA2zL8Kdt0NNycDyfwlsyaDtM99/vB0z089352Z35o/rr3OeslZW779nek2grS0Rr3HgrRmFzPnEyBAgAABAgQIBCAgSAtgEpRAgAABAgQIECDQagFBWjNB2qKX31h66QlJrjB69Ogk2vntzXckjycHkyZN2u79Ox559HE//snVt8944PmFPdW77dOvuCZpU6lUBgnSkrvzM+5/5IRvfGfHD+y6zDKT0+emj488+vikfSaPOfWMs275wz11/bvngceT3qoHbQvSDjz4kPS4kuMTvvGdTEnJj7t98N87YfaPAJNmgx+0HC0dpK2y6mqDX7367Nk/uCgZb6VS+eX1NyVnNRmknXrGWemeb73zvqTnQQ7GjRufnPWRvT+abilIS2vUeyxIa/Xipj8CBAgQIECAAIEOCAjSOoDukgQIECBAgAABAnkLCNKaCdK6e3qXnzo1yRWWWmqp+S+8Wr2B/p6ttk4er1QqK6208mnfOyf9FbH0ffYGgrTk9IUvvX7rnfedcPK3t3z7O9NXrFQq48cv/cQzC6otH3rs6fSzl1z2s6SHhg/aE6Rdde0NI0aMSBefHHd1jZ1x/yM16z/0C0ckzSqVyrPzX6rZbPAHW46WDtLSr5ZByvjSkcekBzLr8WeSxk0GaVf+4vp0z9OvuCbpeaCDx2fPTZ/yla9+Ld1SkJbWqPdYkJb3Yqd/AgQIECBAgACBNggI0tqA7BIECBAgQIAAAQLtFhCkNROkzX52UTpXWGfd9at3z596vjv9+OQpU+576M+D3FhvJkhLd3vlL66fPGVK+tI//+Vvqg0WvvT6mK6u5KkTTv52+sTGjtsQpM1+dtFb3rJSUvaECRM/fcgXkh8rlcqWb39n8i3A9ChO/e7Z6WZDft3qpltnTFt73eq/t2248QOPzO7u6W05WjpIq1QqQ1bV3dO74wd2TQbS1TV20ctvJMNsMki754HHk54rlcpxJ3wz6Xmgg8xX9M49/9J0S0FaWqPeY0Fauxc/1yNAgAABAgQIEMhBQJCWA6ouCRAgQIAAAQIEOi0gSGsmSLvgksvTUcQee+5dvXt+060z0o8fc9xJg99V/+a3z0i3z2zt+KUjj/mP921b/bfd9jvVzI2S/jM7AZ763bOTp9J/Zmzd9TZIHh/oYMb9j6y62lur/1Z76+rX33hbpmUbgrQ99tw7LXP6mecufOn1LbZ8R/rBmqFg5utWBx58SKb4zI9fPurYdJ8P//nZaoPWomWCtH33+1SmjMyPf7x31siRI5PCMrPWZJA2b/ErSy21VNL5am9dPfk+ZaaM5McP7vGRpH2lUvnNTbcnT3X39ArS0hr1HgvSOr0Yuj4BAgQIECBAgEALBARpLUDUBQECBAgQIECAQGgCgrSGg7Qn/7JwhRVWTOcKxx5/cvXu+Y8u/3n68Qsv/cngd9W333HndPtMkHbQZw5NP3vH3Q8O0tsNv/tDuvG3TzszafyRvT+afupnV/8qearmwUc/vn+6ff9NFPMO0s6/eHq6gK232a5a5x13Pzh6zJjkqa6usXfd93BmCI/NnpP+Bt7YseP+/PT8TJv0jxtutEnS4VtXXyN5qrVomSBt9JgxjzzxXHKt/gd7/efHkqoqlUqS1FZbNhmkdff0rrveBun+f3jRZf1rSB6ZMfPRdKo3atSoZOPQahtBWmLVwIEgLbTFUT0ECBAgQIAAAQINCAjSGkBzCgECBAgQIECAQOgCgrTGgrSbbp2xyWabp0OI0WPGzJj5aPUG+i+vvyn91PEnfmuQG+vfOOVNX0erVCqZIO3Mc85P9/blo44dpLfjTvhmuvF/33Jn0vgPd81M/7GxyVOm/O7Wu5JnMwe/vP6m0aNHJ11tstnmmQbdPb25BmmzHn9m8uR/b1O59NITZj78ZFLDV489IamtUqlsseU7Frz4WvJs9eBTB3463eaAgz6baZD8eMb3f5Bu+Z8f/XjyVGvRMkFapVLZc699+ldevfqV1/w6/Y2xSqVy8213J4V19/Q2H6Sd88NL0gNfe531Boob5y1+Zeddd083/uQBB6eL8Y20jEa9PwrSQl8s1UeAAAECBAgQIDAMAUHaMJA0IUCAAAECBAgQKJqAIC0TpB3+5a9eOv2qgf6d/YOLvnjEkTvstEv6qznVdOHIo49Lbp0/+OhT6chhxRXf8tjsOcmzycHs57o/ecDB6XCretb9s55I2nT39P7u1rvSvXV1jR3om0NXXXtD+mtYY7q65nX/Pd3Vhz68V7qrCRMmXnfDzekG1ePrb7xtwoSJ6ZYnfeu0/s0yQdoqq642kNuQj2f+Wtiil9943zbvTxdw6hlnpQuYt/iVt224cbrB1086Jd2gu6f3gUdmp7PASqWy9z77ZkC6e3qvv/G2pZeekO7qnPMuTnfVQrT+QVqlUtnxA7s+t+Dl9BW7e3pP/e7ZmRRt1933yLTJBGlP/mVhpkF3T+/tMx5ID+2W2+9Nt1n40uvrrf+2dIM11lyr/1cPZz+7aKutt0k3GzdufP/v0vlGWtq23mNBWtEWT/USIECAAAECBAjUEBCk1UDxEAECBAgQIECAQNEFBGmZIC2dFgz/eNq0deYu+lty63zRy2+sNW3t9OlrTVv7gksur+Ylzy14+aZbZ3z7tDOnTl0h3SY5/sLhX0n/IbS5i/626mpvTZ6tHrxnq63POvfCG373h1mPP3P7jAcunX7VDjvtksnkttt+p6Sk6kHmb25VKpWurrH77X/gNdf99wOPzL575mNX/Py63T/04Uw/q6+x5uxnF2W66v+NtEyFdf140GcOTfd/yqnfS5/+nq22XvTyG+kG3T29N992dzpqGtPV9cd7Z2Xa7Lvfp9L9VCqVTTbb/LgTvvnL62+654HHr/zF9ft/6qDMYN/xznen8bt7eluIVjNIq1Qq66y7/mFfOupnV//qV7+55esnnbLd+3fMlD1y5Mj+W3pmgrTk7+Gl/9TZ4EFad0/vj39ydeZakydP+cznvnjRj3565z0PXfHz67505DFrrLlWps1hXzoqQ+0baf1B6npEkFb0xVT9BAgQIECAAAECfX19gjQvAwIECBAgQIAAgRIKCNKaD9I23mSz/hHOad87J5M9VH9cZpnJ/b/N1r/l8lOn7rTzbsmN+KuuvaF/m8EfWWnlVR598vmkh+TgyKOPG/zEzLMTJ066856HktPTB5lvpGVOrOvHdJB2130Pjx07Ljl93Ljx9z305/R1k+PPH/blpFnNDR4fffL5zBfX0u37H48fv/S9D/4p6T85aBXaQEFa/0oyj+z/qYOSYpKDa3/9u0yz5adOXWnlVUaOHJm0GTJI6+7pfc9WW2f6GfzHlVZa+annu5NLJAe+kZZQNHAgSCvh+mpIBAgQIECAAIH4BARp8c25ERMgQIAAAQIEIhAQpDUTpI0aNeorX/3avMWv9L9vvuDF13bZ7UODBxLVZ1dYYVSFRw8AACAASURBVMXrb7xtyrLLZhqP6epKd7v/pw7KNBjkx3Hjxt/yh3vSp6ePz794ejqpGqSf0WPGXHnNr9Pnpo/zCNLmv/DqpptvkS7pW9/5bvqi6eM5i/46bdo66cb9/xzdM3Nf2Ha7HdJtBjru6hr7gwt+lO4/fdwStHSQtv2OO2+08aYDFZN+fI89905/ySypat7iVyZOnJRumRwnbYYTpD0z94X3/sf7knMHP1hjzbUyW48m1xKkJRQNHAjSIlhvDZEAAQIECBAgUH4BQVr559gICRAgQIAAAQIRCgjSDjjos4MnB5lnl1lm8tvf8a6Pf+KAE7956h/umjnIHfO5i/623/4HDvL9s6WWWuqTBxz8+Oy53T29Xz7q2MyFMkFad0/vBZdcvtJKK2eaZX4cPWbMJw84eObDTw5SWHdP7y2337vKqqtlzk3/OGLEiL332XfwfloYpCV/Ye6iH/00Xca73v3ezEaLmXH9+re/T+/NOHHipP655vwXXv3kAQePGjUq3XPm+P07fKDmd9HSl2seLR2k7b3Pvk89373f/gdmKkn/OGHCxG+ccsaCF19Ll5E+znwnLzk3aTPr8WfSr8D+X52stpy76G/HHHdS5m/FJb1VD5ZaaqkD/uszTzyzIOk8czD/hVfTf1rvrHMvzDTI/HjoF7+UXGKX3T6UeTa2HwVpEa6/hkyAAAECBAgQKJ+AIK18c2pEBAgQIECAAAECfYK0vO/X33rnfYd96aiddt7trauvUY18lllm8qabb3HUMV+fMfPR5OrzFr9y1DFfX2mllattxo9f+n3bvD95Njl4dv5Lp3737E988r+2fPs7k9hj8pQpm2y2+Qf3+MiXjzp21uPPJI0HP5i76G+XXPaz3T+057Rp64wePbpSqYwaNWqtaWvv+IFdDzn0sFvvvG/w0wv37Oznus+/ePpH9v7o5MlTqvnNyqusuu12O3z6kC/85MprhzmcJtEyQVr1ojfdOuPTh3xh2rR1ql8THDFixHLLL//u92z1zW+f8djsOUMWduU1v954k83GjRtfHdT48UtvtPGmQ55Vs8Fjs+d85/Tvb/f+Hd/ylpWqL4mRI0cuP3XqO9757q99/Rt3z3ys5lkebImAIM16TIAAAQIECBAgUAIBQVoJJtEQCBAgQIAAAQIEsgKCtJbcBB9mJ88v7Jm76G+DN5676G/Pzn9p8DbVZxe9/MYzc18YZuPBO1zw4mtPz1lcc//AwU8s4rOLXn7j2fkvPb+wp8niG0CrGaSly/jLvBf7f6Mu3WCQ46fnLB7y1TXI6ZmnFr38xtNzFg/yZbhMez82KSBIyy5OfiZAgAABAgQIECiggCCtgJOmZAIECBAgQIAAgaEEBGlN3v52OoHhCwwZpA2/Ky1LJiBIG2qx8jwBAgQIECBAgEABBARpBZgkJRIgQIAAAQIECNQrIEgr2e14wwlZQJAW8ux0tjZBWr2Ll/YECBAgQIAAAQIBCgjSApwUJREgQIAAAQIECDQrIEjr7N1zV49KQJAW1XTXNVhBWrOLmfMJECBAgAABAgQCEBCkBTAJSiBAgAABAgQIEGi1gCCtrpvdGhNoRkCQ1oxeuc8VpLV6cdMfAQIECBAgQIBABwQEaR1Ad0kCBAgQIECAAIG8BQRp5b47b3RBCQjSgpqOoIoRpOW92OmfAAECBAgQIECgDQKCtDYguwQBAgQIECBAgEC7BQRpQd1MV0y5BQRp5Z7fZkYnSGv34ud6BAgQIECAAAECOQgI0nJA1SUBAgQIECBAgECnBQRpzdz7di6BugQEaXVxRdVYkNbpxdD1CRAgQIAAAQIEWiAgSGsBoi4IECBAgAABAgRCExCkRXWz3mA7K5AO0r54xJGdLcbVgxIQpIW2OKqHAAECBAgQIECgAQFBWgNoTiFAgAABAgQIEAhdQJAW1M10xZRb4C/zXpz9XHf138KXXi/3YI2uLgFBWuiLpfoIECBAgAABAgSGISBIGwaSJgQIECBAgAABAkUTEKTVdbNbYwIECOQhIEgr2uKpXgIECBAgQIAAgRoCgrQaKB4iQIAAAQIECBAouoAgLY974vokQIBAXQKCtKIvpuonQIAAAQIECBDo6+sTpHkZECBAgAABAgQIlFBAkFbXzW6NCRAgkIeAIK2E66shESBAgAABAgTiExCkxTfnRkyAAAECBAgQiEBAkJbHPXF9EiBAoC4BQVoE660hEiBAgAABAgTKLyBIK/8cGyEBAgQIECBAIEIBQVpdN7s1JkCAQB4CgrQI119DJkCAAAECBAiUT0CQVr45NSICBAgQIECAAIE+QVoe98T1SYAAgboEBGnWYwIECBAgQIAAgRIICNJKMImGQIAAAQIECBAgkBUQpNV1s1tjAgQI5CEgSMsuTn4mQIAAAQIECBAooIAgrYCTpmQCBAgQIECAAIGhBARpedwT1ycBAgTqEhCkDbVYeZ4AAQIECBAgQKAAAoK0AkySEgkQIECAAAECBOoVEKTVdbNbYwIECOQhIEird/HSngABAgQIECBAIEABQVqAk6IkAgQIECBAgACBZgUEaXncE9cnAQIE6hIQpDW7mDmfAAECBAgQIEAgAAFBWgCToAQCBAgQIECAAIFWCwjS6rrZrTEBAgTyEBCktXpx0x8BAgQIECBAgEAHBARpHUB3SQIECBAgQIAAgbwFBGl53BPXJwECBOoSEKTlvdjpnwABAgQIECBAoA0CgrQ2ILsEAQIECBAgQIBAuwUEaXXd7NaYAAECeQgI0tq9+LkeAQIECBAgQIBADgKCtBxQdUmAAAECBAgQINBpAUFaHvfE9UmAAIG6BARpnV4MXZ8AAQIECBAgQKAFAoK0FiDqggABAgQIECBAIDQBQVpdN7s1JkCAQB4CgrTQFkf1ECBAgAABAgQINCAgSGsAzSkECBAgQIAAAQKhCwjS8rgnrk8CBAjUJSBIC32xVB8BAgQIECBAgMAwBARpw0DShAABAgQIECBAoGgCgrS6bnZrTIAAgTwEBGlFWzzVS4AAAQIECBAgUENAkFYDxUMECBAgQIAAAQJFFxCk5XFPXJ8ECBCoS0CQVvTFVP0ECBAgQIAAAQJ9fX2CNC8DAgQIECBAgACBEgoI0uq62a0xAQIE8hAQpJVwfTUkAgQIECBAgEB8AoK0+ObciAkQIECAAAECEQgI0vK4J65PAgQI1CUgSItgvTVEAgQIECBAgED5BQRp5Z9jIyRAgAABAgQIRCggSKvrZrfGBAgQyENAkBbh+mvIBAgQIECAAIHyCQjSyjenRkSAAAECBAgQINAnSMvjnrg+CRAgUJeAIM16TIAAAQIECBAgUAIBQVoJJtEQCBAgQIAAAQIEsgKCtLpudmtMgACBPAQEadnFyc8ECBAgQIAAAQIFFBCkFXDSlEyAAAECBAgQIDCUgCAtj3vi+iRAgEBdAoK0oRYrzxMgQIAAAQIECBRAQJBWgElSIgECBAgQIECAQL0CgrS6bnZrTIAAgTwEBGn1Ll7aEyBAgAABAgQIBCggSAtwUpREgAABAgQIECDQrIAgLY974vokQIBAXQKCtGYXM+cTIECAAAECBAgEICBIC2ASlECAAAECBAgQINBqAUFaXTe7NSZAgEAeAoK0Vi9u+iNAgAABAgQIEOiAgCCtA+guSYAAAQIECBAgkLeAIC2Pe+L6JECAQF0CgrS8Fzv9EyBAgAABAgQItEFAkNYGZJcgQIAAAQIECBBot4Agra6b3RoTIEAgDwFBWrsXP9cjQIAAAQIECBDIQUCQlgOqLgkQIECAAAECBDotIEjL4564PgkQIFCXgCCt04uh6xMgQIAAAQIECLRAQJDWAkRdECBAgAABAgQIhCYgSKvrZrfGBAgQyENAkBba4qgeAgQIECBAgACBBgQEaQ2gOYUAAQIECBAgQCB0AUFaHvfE9UmAAIG6BARpoS+W6iNAgAABAgQIEBiGgCBtGEiaECBAgAABAgQIFE1AkFbXzW6NCRAgkIeAIK1oi6d6CRAgQIAAAQIEaggI0mqgeIgAAQIECBAgQKDoAoK0PO6J65MAAQJ1CQjSir6Yqp8AAQIECBAgQKCvr0+Q5mVAgAABAgQIECBQQgFBWl03uzUmQIBAHgKCtBKur4ZEgAABAgQIEIhPQJAW35wbMQECBAgQIEAgAgFBWh73xPVJgACBugQEaRGst4ZIgAABAgQIECi/gCCt/HNshAQIECBAgACBCAUEaXXd7NaYAAECeQgI0iJcfw2ZAAECBAgQIFA+AUFa+ebUiAgQIECAAAECBPoEaXncE9cnAQIE6hIQpFmPCRAgQIAAAQIESiAgSCvBJBoCAQIECBAgQIBAVkCQVtfNbo0JECCQh4AgLbs4+ZkAAQIECBAgQKCAAoK0Ak6akgkQIECAAAECBIYSEKTlcU9cnwQIEKhLQJA21GLleQIECBAgQIAAgQIICNIKMElKJECAAAECBAgQqFdAkFbXzW6NCRAgkIeAIK3exUt7AgQIECBAgACBAAUEaQFOipIIECBAgAABAgSaFRCk5XFPXJ8ECBCoS0CQ1uxi5nwCBAgQIECAAIEABARpAUyCEggQIECAAAECBFotIEir62a3xgQIEMhDQJDW6sVNfwQIECBAgAABAh0QEKR1AN0lCRAgQIAAAQIE8hYQpOVxT1yfBAgQqEtAkJb3Yqd/AgQIECBAgACBNggI0tqA7BIECBAgQIAAAQLtFhCk1XWzW2MCBAjkISBIa/fi53oECBAgQIAAAQI5CAjSckDVJQECBAgQIECAQKcFBGl53BPXJwECBOoSEKR1ejF0fQIECBAgQIAAgRYICNJagKgLAgQIECBAgACB0AQEaXXd7NaYAAECeQgI0kJbHNVDgAABAgQIECDQgIAgrQE0pxAgQIAAAQIECIQuIEjL4564PgkQIFCXgCAt9MVSfQQIECBAgAABAsMQEKQNA0kTAgQIECBAgACBogkI0uq62a0xAQIE8hAQpBVt8VQvAQIECBAgQIBADQFBWg0UDxEgQIAAAQIECBRdQJCWxz1xfRIgQKAuAUFa0RdT9RMgQIAAAQIECPT19QnSvAwIECBAgAABAgRKKCBIq+tmt8YECBDIQ0CQVsL11ZAIECBAgAABAvEJCNLim3MjJkCAAAECBAhEICBIy+OeuD4JECBQl4AgLYL11hAJECBAgAABAuUXEKSVf46NkAABAgQIECAQoYAgra6b3RoTIEAgDwFBWoTrryETIECAAAECBMonIEgr35waEQECBAgQIECAQJ8gLY974vokQIBAXQKCNOsxAQIECBAgQIBACQQEaSWYREMgQIAAAQIECBDICgjS6rrZrTEBAgTyEBCkZRcnPxMgQIAAAQIECBRQQJBWwElTMgECBAgQIECAwFACgrQ87onrkwABAnUJCNKGWqw8T4AAAQIECBAgUAABQVoBJkmJBAgQIECAAAEC9QoI0uq62a0xAQIE8hAQpNW7eGlPgAABAgQIECAQoIAgLcBJURIBAgQIECBAgECzAoK0PO6J65MAAQJ1CQjSml3MnE+AAAECBAgQIBCAgCAtgElQAgECBAgQIECAQKsFBGl13ezWmAABAnkICNJavbjpjwABAgQIECBAoAMCgrQOoLskAQIECBAgQIBA3gKCtDzuieuTAAECdQkI0vJe7PRPgAABAgQIECDQBgFBWhuQXYIAAQIECBAgQKDdAoK0um52a0yAAIE8BARp7V78XI8AAQIECBAgQCAHAUFaDqi6JECAAAECBAgQ6LSAIC2Pe+L6JECAQF0CgrROL4auT4AAAQIECBAg0AIBQVoLEHVBgAABAgQIECAQmoAgra6b3RoTIEAgDwFBWmiLo3oIECBAgAABAgQaEBCkNYDmFAIECBAgQIAAgdAFBGl53BPXJwECBOoSEKSFvliqjwABAgQIECBAYBgCgrRhIGlCgAABAgQIECBQNAFBWl03uzUmQIBAHgKCtKItnuolQIAAAQIECBCoISBIq4HiIQIECBAgQIAAgaILCNLyuCeuz7YJ3HHPg+usu/7SS084+msntO2iLkSg5QKCtKIvpuonQIAAAQIECBDo6+sTpHkZECBAgAABAgQIlFBgww03+tVvbvGPQEEFxo8fX/nXf2f/4KKCjkLZBNZca9o///nPEq4xhkSAAAECBAgQIBCTgCAtptk2VgIECBAgQIBANAI//ekVxx1/vH8Eiihw1Fe/+q8Q7f/+d/XVVy/iKNRM4Ljjjz/ju9+NZtkxUAIECBAgQIAAgdIKCNJKO7UGRoAAAQIECBAgQIBAEQUOPvjgdJDW1dVVxFGomQABAgQIECBAgAABAuUQEKSVYx6NggABAgQIECBAgACBkghMnjw5HaRVKpU//elPJRmbYRAgQIAAAQIECBAgQKBoAoK0os2YegkQIECAAAECBAgQKK/Aq6++mknRKpXKdtttV94RGxkBAgQIECBAgAABAgSCFhCkBT09iiNAgAABAgQIECBAICqBzL6O1VDN7o5RvQYMlgABAgQIECBAgACBoAQEaUFNh2IIECBAgAABAgQIEIhaoP++jtUsze6OUb8sDJ4AAQIECBAgQIAAgc4JCNI6Z+/KBAgQIECAAAECBAgQSAlk9nUcOXJkss2j3R1TTg4JECBAgAABAgQIECDQPgFBWvusXYkAAQIECBAgQIAAAQKDCKT3dRw5cuQOO+yQBGl2dxzEzVMECBAgQIAAAQIECBDIT0CQlp+tngkQIECAAAECBAgQIFCHQHpfxw022OCJJ55IgrRKpWJ3xzooNSVAgAABAgQIECBAgECLBARpLYLUDQECBAgQIECAAAECBJoQyOzreM011/T19XV1dSVZmt0dm9B1KgECBAgQIECAAAECBBoUEKQ1COc0AgQIECBAgAABAgQItFAgs69jtWe7O7ZQWFcECBAgQIAAAQIECBBoQECQ1gCaUwgQIECAAAECBAgQINBigcy+jtXe7e7YYmXdESBAgAABAgQIECBAoE4BQVqdYJoTIECAAAECBAgQIECg1QI193WsXsTujq3G1h8BAgQIECBAgAABAgTqEBCk1YGlKQECBAgQIECAAAECBPIQqLmvY/VCdnfMA1yfBAgQIECAAAECBAgQGKaAIG2YUJoRIECAAAECBAgQIEAgL4Ga+zpWL2Z3x7zQ9UuAAAECBAgQIECAAIFhCAjShoGkCQECBAgQIECAAAECBHITGGRfx+o17e6Ym72OCRAgQIAAAQIECBAgMISAIG0IIE8TIECAAAECBAgQIEAgV4FB9nWsXtfujrn665wAAQIECBAgQIAAAQKDCAjSBsHxFAECBAgQIECAAAECBHIXGGRfx+q17e6Y+xy4AAECBAgQIECAAAECBAYQEKQNAONhAgQIECBAgAABAgQI5C8w5L6O1RLs7pj/VLgCAQIECBAgQIAAAQIEaggI0mqgeIgAAQIECBAgQIAAAQLtERhyX8dqGXZ3bM90uAoBAgQIECBAgAABAgQyAoK0DIgfCRAgQIAAAQIECBAg0D6BIfd1rJZid8f2TYkrESBAgAABAgQIECBAICUgSEthOCRAgAABAgQIECBAgEAbBYa5r2O1Irs7tnFmXIoAAQIECBAgQIAAAQJLBARpXgoECBAgQIAAAQIECBDojMAw93WsFmd3x85MkqsSIECAAAECBAgQIBC3gCAt7vk3egIECBAgQIAAAQIEOicwzH0dqwXa3bFzE+XKBAgQIECAAAECBAjEKyBIi3fujZwAAQIECBAgQIAAgQ4K1LWvY7XO9O6O2267bQeLd2kCBAgQIECAAAECBAhEIiBIi2SiDZMAAQIECBAgQIAAgbAE6trXsVq63R3DmkLVECBAgAABAgQIECAQgYAgLYJJNkQCBAgQIECAAAECBMITqGtfx2r5dncMbxpVRIAAAQIECBAgQIBAyQUEaSWfYMMjQIAAAQIECBAgQCBAgQb2dayOwu6OAc6mkggQIECAAAECBAgQKLGAIK3Ek2toBAgQIECAAAECBAgEKtDAvo7VkdjdMdAZVRYBAgQIECBAgAABAiUVEKSVdGINiwABAgQIECBAgACBgAUa2NexOhq7OwY8q0ojQIAAAQIECBAgQKCEAoK0Ek6qIREgQIAAAQIECBAgELJAw/s6Vgdld8eQJ1dtBAgQIECAAAECBAiUTECQVrIJNRwCBAgQIECAAAECBEIXOOiggyr/+m/kyJH1lmt3x3rFtCdAgAABAgQIECBAgEDDAoK0humcSIAAAQIECBAgQIAAgUYEGt7XsXoxuzs2gu4cAgQIECBAgAABAgQINCQgSGuIzUkECBAgQIAAAQIECBBoSKDJfR2r17S7Y0P2TiJAgAABAgQIECBAgEDdAoK0usmcQIAAAQIECBAgQIAAgYYFmtzXsXpduzs27O9EAgQIECBAgAABAgQI1CUgSKuLS2MCBAgQIECAAAECBAg0JdDkvo7Va9vdsak5cDIBAgQIECBAgAABAgSGLSBIGzaVhgQIECBAgAABAgQIEGhOoCX7OlZLsLtjc1PhbAIECBAgQIAAAQIECAxLQJA2LCaNCBAgQIAAAQIECBAg0LxAS/Z1rJZhd8fmp0MPBAgQIECAAAECBAgQGFJAkDYkkQYECBAgQIAAAQIECBBojUBL9nWslmJ3x9ZMiV4IECBAgAABAgQIECAwqIAgbVAeTxIgQIAAAQIECBAgQKBFAi3c17Fakd0dWzQzuiFAgAABAgQIECBAgMCAAoK0AWk8QYAAAQIECBAgQIAAgRYKtHBfx2pVdnds4ezoigABAgQIECBAgAABAjUFBGk1WTxIgAABAgQIECBAgACBFgu0cF/HamV2d2zxDOmOAAECBAgQIECAAAEC/QQEaf1IPECAAAECBAgQIECAAIFWC7R8X8dqgXZ3bPVE6Y8AAQIECBAgQIAAAQJvEhCkvYnDDwQIECBAgAABAgQIEMhDoOX7OlaLtLtjHpOlTwIECBAgQIAAAQIECCQCgrSEwgEBAgQIECBAgAABAgTyEmj5vo7VQu3umNeE6ZcAAQIECBAgQIAAAQL/X0CQ5oVAgAABAgQIECBAgACBfAVy2texWrTdHfOdPL0TIECAAAECBAgQIBC3gCAt7vk3egIECBAgQIAAAQIE8hfIaV/HauF2d8x/Al2BAAECBAgQIECAAIF4BQRp8c69kRMgQIAAAQIECBAg0B6BnPZ1rBZvd8f2TKKrECBAgAABAgQIECAQp4AgLc55N2oCBAgQIECAAAECBNokkOu+jtUx2N2xTXPpMgQIECBAgAABAgQIxCcgSItvzo2YAAECBAgQIECAAIE2CuS6r2N1HHZ3bON8uhQBAgQIECBAgAABAnEJCNLimm+jJUCAAAECBAgQIECgzQK57utYHYvdHds8py5HgAABAgQIECBAgEA8AoK0eObaSAkQIECAAAECBAgQaLdAG/Z1rA7J7o7tnlrXI0CAAAECBAgQIEAgDgFBWhzzbJQECBAgQIAAAQIECHRCoA37OlaHZXfHTkyvaxIgQIAAAQIECBAgUH4BQVr559gICRAgQIAAAQIECBDolEAb9nWsDs3ujp2aYtclQIAAAQIECBAgQKDcAoK0cs+v0REgQIAAAQIECBAg0DGBtu3rWB2h3R07NtMuTIAAAQIECBAgQIBAeQUEaeWdWyMjQIAAAQIECBAgQKCjAm3b17E6Srs7dnS2XZwAAQIECBAgQIAAgXIKCNLKOa9GRYAAAQIECBAgQIBAxwXatq9jdaR2d+z4jCuAAAECBAgQIECAAIHyCQjSyjenRkSAAAECBAgQIECAQOcFMvs6XnvttW2oye6ObUB2CQIECBAgQIAAAQIEohIQpEU13QZLgAABAgQIECBAgECbBNq8r2N1VHZ3bNPsugwBAgQIECBAgAABAtEICNKimWoDJUCAAAECBAgQIECgjQJt3texOjK7O7Zxhl2KAAECBAgQIECAAIEoBARpUUyzQRIgQIAAAQIECBAg0E6BjuzrWB2g3R3bOdGuRYAAAQIECBAgQIBA6QUEaaWfYgMkQIAAAQIECBAgQKDdAh3Z17E6SLs7tnuyXY8AAQIECBAgQIAAgVILCNJKPb0GR4AAAQIECBAgQIBAJwQ6sq9jdaB2d+zEhLsmAQIECBAgQIAAAQKlFRCklXZqDYwAAQIECBAgQIAAgY4IdHBfx+p47e7YkXl3UQIECBAgQIAAAQIESikgSCvltBoUAQIECBAgQIAAAQIdE+jgvo7VMdvdsWNz78IECBAgQIAAAQIECJROQJBWuik1IAIECBAgQIAAAQIEOirQwX0dq+O2u2NH59/FCRAgQIAAAQIECBAolYAgrVTTaTAECBAgQIAAAQIECHRWoOP7OlaHb3fHzr4MXJ0AAQIECBAgQIAAgdIICNJKM5UGQoAAAQIECBAgQIBA5wU6vq9jlcDujp1/KaiAAAECBAgQIECAAIFSCAjSSjGNBkGAAAECBAgQIECAQBgCHd/Xscpgd8cwXg6qIECAAAECBAgQIECg8AKCtMJPoQEQIECAAAECBAgQIBCIQCD7OlY17O4YyKtCGQQIECBAgAABAgQIFFpAkFbo6VM8AQIECBAgQIAAAQIBCQSyr2NVxO6OAb0ylEKAAAECBAgQIECAQGEFBGmFnTqFEyBAgAABAgQIECAQmEAg+zpWVezuGNirQzkECBAgQIAAAQIECBRSQJBWyGlTNAECBAgQIECAAAECoQkEta9jFcfujqG9SNRDgAABAgQIECBAgEDhBARphZsyBRMgQIAAAQIECBAgEKJAUPs6VoF23HHHyr/+6+rqClFNTQQIECBAgAABAgQIEAhbQJAW9vyojgABAgQIECBAgACBgggEta9j1Syzu+Ojjz5aEEtlEiBAgAABAgQIECBAIBQBQVooM6EOAgQI9VHFewAAIABJREFUECBAgAABAgSKKxDgvo5VzLFjx/7rO2mVbbfdtrjCKidAgAABAgQIECBAgEBHBARpHWF3UQIECBAgQIAAAQIESiUQ4L6OVV+7O5bqdWYwBAgQIECAAAECBAi0XUCQ1nZyFyRAgAABAgQIECBAoHQCAe7rWDW2u2PpXmsGRIAAAQIECBAgQIBAWwUEaW3ldjECBAgQIECAAAECBMonEOy+jlVquzuW7yVnRAQIECBAgAABAgQItE1AkNY2ahciQIAAAQIECBAgQKCcAul9HZM/SBbsQTnnwKgIECBAgAABAgQIECCQj4AgLR9XvRIgQIAAAQIECBAgEI3A1KlTg43N+hf26KOPRjMzBkqAAAECBAgQIECAAIFmBQRpzQo6nwABAgQIECBAgACByAXWWmut/nlVsI/MnTs38vkyfAIECBAgQIAAAQIECAxfQJA2fCstCRAgQIAAAQIECBAgUENg7ty566+//ojW/ZcJ4ZrvOOlw4403rjEADxEgQIAAAQIECBAgQIDAAAKCtAFgPEyAAAECBAgQIECAAIEOCYwZMyaJvqZPn96hKlyWAAECBAgQIECAAAECBPoEaV4EBAgQIECAAAECBAgQCEtAkBbWfKiGAAECBAgQIECAAIGIBQRpEU++oRMgQIAAAQIECBAgEKSAIC3IaVEUAQIECBAgQIAAAQIxCgjSYpx1YyZAgAABAgQIECBAIGQBQVrIs6M2AgQIECBAgAABAgSiEhCkRTXdBkuAAAECBAgQIECAQAEEBGkFmCQlEiBAgAABAgQIECAQh4AgLY55NkoCBAgQIECAAAECBIojIEgrzlyplAABAgQIECBAgACBkgsI0ko+wYZHgAABAgQIECBAgEDhBARphZsyBRMgQIAAAQIECBAgUFYBQVpZZ9a4CBAgQIAAAQIECBAoqoAgragzp24CBAgQIECAAAECBEonIEgr3ZQaEAECBAgQIECAAAECBRcQpBV8ApVPgAABAgQIECBAgEB5BARp5ZlLIyFAgAABAgQIECBAoBwCgrRyzKNRECBAgAABAgQIECBQAgFBWgkm0RAIECBAgAABAgQIECiVgCCtVNNpMAQIECBAgAABAgQIFFlAkFbk2VM7AQIECBAgQIAAAQJlFBCklXFWjYkAAQIECBAgQIAAgUIKCNIKOW2KJkCAAAECBAgQIECgxAKCtBJPrqERIECAAAECBAgQIFAsAUFaseZLtQQIECBAgAABAgQIlF9AkFb+OTZCAgQIECBAgAABAgQKIiBIK8hEKZMAAQIECBAgQIAAgWgEBGnRTLWBEiBAgAABAgQIECAQuoAgLfQZUh8BAgQIECBAgAABArEJCNJim3HjJUCAAAECBAgQIEAgWAFBWrBTozACBAgQIECAAAECBCIVEKRFOvGGTYAAAQIECBAgQIBAeAKCtPDmREUECBAgQIAAAQIECMQtIEiLe/6NngABAgQIECBAgACBgAQEaQFNhlIIECBAgAABAgQIECDQ19cnSPMyIECAAAECBAgQIECAQCACgrRAJkIZBAgQIECAAAECBAgQWCIgSPNSIECAAAECBAgQIECAQCACgrRAJkIZBAgQIECAAAECBAgQWCIgSPNSIECAAAECBAgQIECAQCACgrRAJkIZBAgQIECAAAECBAgQWCIgSPNSIECAAAECBAgQIECAQCACgrRAJkIZBAgQIECAAAECBAgQWCIgSPNSIECAAAECBAgQIECAQCACgrRAJkIZBAgQIECAAAECBAgQWCIgSPNSIECAAAECBAgQIECAQCACgrRAJkIZBAgQIECAAAECBAgQWCIgSPNSIECAAAECBAgQIECAQCACgrRAJkIZBAgQIECAAAECBAgQWCIgSPNSIECAAAECBAgQIECAQCACgrRAJkIZBAgQIECAAAECBAgQWCIgSPNSIECAAAECBAgQIECAQCACgrRAJkIZBAgQIECAAAECBAgQWCIgSPNSIECAAAECBAgQIECAQCACgrRAJkIZBAgQIECAAAECBAgQWCIgSPNSIECAAAECBAgQIECAQCACgrRAJkIZBAgQIECAAAECBAgQWCIgSPNSIECAAAECBAgQIECAQCACgrRAJkIZBAgQIECAAAECBAgQWCIgSPNSIECAAAECBAgQIECAQCACgrRAJkIZBAgQIECAAAECBAgQWCIgSPNSIECAAAECBAgQIECAQCACgrRAJkIZBAgQIECAAAECBAgQWCIgSPNSIECAAAECBAgQIECAQCACgrRAJkIZBAgQIECAAAECBAgQWCIgSPNSIECAAAECBAgQIECAQCACgrRAJkIZBAgQIECAAAECBAgQWCIgSPNSIECAAAECBAgQIECAQCACgrRAJkIZBAgQIECAAAECBAgQWCIgSPNSIECAAAECBAgQIECAQCACgrRAJkIZBAgQIECAAAECBAgQWCIgSPNSIECAAAECBAgQIECAQCACgrRAJkIZBAgQIECAAAECBAgQWCIgSPNSIECAAAECBAgQIECAQCACgrRAJkIZBAgQIECAAAECBAgQWCIgSPNSIECAAAECBAgQIECAQCACgrRAJkIZBAgQIECAAAECBAgQWCIgSPNSIECAAAECBAgQIECAQCACgrRAJkIZBAgQIECAAAECBAgQWCIgSPNSIECAAAECBAgQIECAQCACgrRAJkIZBAgQIECAAAECBAgQWCIgSPNSIECAAAECBAgQIECAQCACgrRAJkIZBAgQIECAAAECBAgQWCIgSPNSIECAAAECBAgQIECAQCACgrRAJkIZBAgQIECAAAECBAgQWCIgSPNSIECAAAECBAgQIECAQCACgrRAJkIZBAgQIECAAAECBAgQWCIgSPNSIECAAAECBAgQIECAQCACgrRAJkIZBAgQIECAAAECBAgQWCIgSPNSIECAAAECBAgQIECAQCACgrRAJkIZBAgQIECAAAECBAgQWCIgSPNSIECAAAECBAgQIECAQCACgrRAJkIZBAgQIECAAAECBAgQWCIgSPNSIECAAAECBAgQIECAQCACgrRAJkIZBAgQIECAAAECBAgQWCIgSPNSIECAAAECBAgQIECAQCACgrRAJkIZBAgQIECAAAECBAgQWCIgSPNSIECAAAECBAgQIECAQCACgrRAJkIZBAgQIECAAAECBAgQWCIgSPNSIECAAAECBAgQIECAQCACgrRAJkIZBAgQIECAAAECBAgQWCIgSPNSIECAAAECBAgQIECAQCACgrRAJkIZBAgQIECAAAECBAgQWCIgSPNSIECAAAECBAgQIECAQCACgrRAJkIZBAgQaLHAP/7xjxNPPHHdddddzX8ECBAgQIBA0QQqqf8OP/zwm/1HgAABAgQIFFzgjjvueO2111r8//x1R4AAAQJtERCktYXZRQgQINB2gauuuip1C84hAQIECBAgQIAAAQIECBAg0EmBqVOnLly4sO23B1yQAAECBJoVEKQ1K+h8AgQIhClw8sknd/L/H7g2AQIECBAgQIAAAQIECBAg8GaBc845J8x7CKoiQIAAgUEEBGmD4HiKAAECBRbIBGnj/UeAAAECBAgUR2DkyJFvvu3mJwIECBAgQKAMAqeddlqBbzQonQABArEKCNJinXnjJkCg7ALpIO2KK64o+3CNjwABAgQIlEpgl112SW4W7r///l/wHwECBAgQIFBYgfHjxyfLuiCtVL+xGQwBAtEICNKimWoDJUAgMgFBWmQTbrgECBAgUCqBXXfdNbnj9vTTT5dqbAZDgAABAgQiE7j00kuTZV2QFtnkGy4BAiUREKSVZCINgwABAhkBQVoGxI8ECBAgQKBAAoK0Ak2WUgkQIECAwOACgrTBfTxLgACB8AUEaeHPkQoJECDQiIAgrRE15xAgQIAAgTAEBGlhzIMqCBAgQIBACwQEaS1A1AUBAgQ6KiBI6yi/ixMgQCA3AUFabrQ6JkCAAAECuQsI0nIndgECBAgQINAuAUFau6RdhwABAnkJCNLyktUvAQIEOisgSOusv6sTIECAAIFmBARpzeg5lwABAgQIBCUgSAtqOhRDgACBBgQEaQ2gOYUAAQIFEBCkFWCSlEiAAAECBAYQEKQNAONhAgQIECBQPAFBWvHmTMUECBB4s4Ag7c0efiJAgEBZBARpZZlJ4yBAgACBGAUEaTHOujETIECAQEkFBGklnVjDIkAgIgFBWkSTbagECEQlIEiLaroNlgABAgRKJiBIK9mEGg4BAgQIxCwgSIt59o2dAIFyCAjSyjGPRkGAAIGsgCAtK+JnAgQIECBQHAFBWnHmSqUECBAgQGAIAUHaEECeJkCAQPACgrTgp0iBBAgQaEhAkNYQm5MIECBAgEAQAoK0IKZBEQQIECBAoBUCgrRWKOqDAAECnRQQpHVS37UJECCQn4AgLT9bPRMgQIAAgbwFBGl5C+ufAAECBAi0TUCQ1jZqFyJAgEBOAoK0nGB1S4AAgQ4LCNI6PAEuT4AAAQIEmhAQpDWB51QCBAgQIBCWgCAtrPlQDQECBOoXEKTVb+YMAgQIFEFAkFaEWVIjAQIECBCoLSBIq+3iUQIECBAgUEABQVoBJ03JBAgQeJOAIO1NHH4gQIBAaQQEaaWZSgMhQIAAgQgFBGkRTrohEyBAgEBZBQRpZZ1Z4yJAIB4BQVo8c22kBAjEJSBIi2u+jZYAAQIEyiUgSCvXfBoNAQIECEQtIEiLevoNngCBUggI0koxjQZBgACBfgKCtH4kHiBAgAABAoUREKQVZqoUSoAAAQIEhhIQpA0l5HkCBAiELiBIC32G1EeAAIHGBARpjbk5iwABAgQIhCAgSAthFtRAgAABAgRaIiBIawmjTggQINBBAUFaB/FdmgABAjkKCNJyxNU1AQIECBDIWUCQljOw7gkQIECAQPsEBGnts3YlAgQI5CMgSMvHVa8ECBDotIAgrdMz4PoECBAgQKBxAUFa43bOJECAAAECgQkI0gKbEOUQIECgbgFBWt1kTiBAgEAhBARphZgmRRIgQIAAgZoCgrSaLB4kQIAAAQJFFBCkFXHW1EyAAIG0gCAtreGYAAEC5REQpJVnLo2EAAECBOITEKTFN+dGTIAAAQKlFRCklXZqDYwAgWgEBGnRTLWBEiAQmYAgLbIJN1wCBAgQKJWAIK1U02kwBAgQIBC3gCAt7vk3egIEyiAgSCvDLBoDAQIE+gsI0vqbeIQAAQIECBRFQJBWlJlSJwECBAgQGFJAkDYkkQYECBAIXECQFvgEKY8AAQINCgjSGoRzGgECBAgQCEBAkBbAJCiBAAECBAi0RkCQ1hpHvRAgQKBzAoK0ztm7MgECBPIUEKTlqatvAgQIECCQr4AgLV9fvRMgQIAAgTYKCNLaiO1SBAgQyEVAkJYLq04JECDQcQFBWsenQAEECBAgQKBhAUFaw3ROJECAAAECoQkI0kKbEfUQIECgXgFBWr1i2hMgQKAYAoK0YsyTKgkQIECAQC0BQVotFY8RIECAAIFCCgjSCjltiiZAgEBKQJCWwnBIgACBEgkI0ko0mYZCgAABAtEJCNKim3IDJkCAAIHyCgjSyju3RkaAQCwCgrRYZto4CRCITUCQFtuMGy8BAgQIlElAkFam2TQWAgQIEIhcQJAW+QvA8AkQKIGAIK0Ek2gIBAgQqCEgSKuB4iECBAgQIFAQAUFaQSZKmQQIECBAYGgBQdrQRloQIEAgbAFBWtjzozoCBAg0KiBIa1TOeQQIECBAoPMCgrTOz4EKCBAgQIBAiwQEaS2C1A0BAgQ6JiBI6xi9C4cvMGvWrPdutdUHdt7FPwJFFFh7nXUq//pvk003K+IQ1EzgAzvv8t6ttrrtttvCXzJUGKDA4Ycf4U1EoLgCy0+d+q9lvLL1+7Yp7kBUHrnA7rt/8H//938DXCOUVDiBf/zjH4v8R6CwAmeeeWayrB9//PGFHYfCCSz6n//5n8KtIAom0BIBQVpLGHVSToHLL7/826d9/7kFL/tHoIgC1/3m5hEjRlQqlbFjx97z4ONFHIKaCTy34OWLf3zFqaedVs5lxqhyFnjPe97rTUSguAInffPU6h23taat/cycxcUdiMojF3jPe7f65z//mfPnve6jEDjl29/eZNPNPrL3Pv4RKKLAu9793iRI23yLLYs4BDUT+Mje+7zrPe897LDDo1h1DJJAPwFBWj8SDxD4l8Dll1/+/XMv6O7p9Y9AQQVuunXGMcedNGPmowWtX9kEunt6r/j5daedfvq/Ppj9L4E6BN73vm28iQgUV2DhS6//9KpfnvjNU//01LzijkLlBN63zXaCtDqWLk0HFjj55JN/8asbvacIFFTgL/NefNuGG1cqldXXWPPPT88v6CiUTeC2P97/hS8eNvBHtWcIlFlAkFbm2TW2JgUEaX5FIECAQMcFBGlNrmUxny5I6/j7VwEECBAQpMW8ELd27II0nydFF1jw4mt3z3xs3uJXij4Q9ccsIEhr7dKmt2IJCNKKNV+qbauAIC3mXw6MnQCBQAQEaW1d+cp1MUFaIO9iZRAgELOAIK1cS2snRyNIi/mTxNgJEAhEQJDWyYXQtTstIEjr9Ay4fsACgrRA1mllECAQs4AgLeB1MvTSBGkxf3QYOwECgQgI0kJfLItTnyAtkDe1MggQiFlAkFacZVOlrRcQpLXeVI+lERCkxfzLgbETIBCIgCCtNKtq+wciSAvkXawMAgRiFhCktX/5K+sVBWkxf5IYOwECgQgI0sq6yBrXcAQEacNR0iZSAUFaIOu0MggQiFlAkBbpGtyKYQvSYv7oMHYCBAIREKS1YkHTx/8JCNICeVMrgwCBmAUEaZbkmAUEaTHPvrEPISBIi/mXA2MnQCAQAUHaEGuVpwcWEKQF8i5WBgECMQsI0gZepjxTn4AgLeZPEmMnQCAQAUFafUuX1uUSEKSVaz6NpqUCgrRA1mllECAQs4AgraUrW1ydCdJi/ugwdgIEAhEQpMW19OY5WkFaIG9qZRAgELOAIC3PhU7foQsI0kKfIfV1UECQFvMvB8ZOgEAgAoK0Dq6DRb+0IC2Qd7EyCBCIWUCQVvTFNJz6BWkxf5IYOwECgQgI0sJZFlXSfgFBWvvNXbEwAoK0QNZpZRAgELOAIK0wq2Z4hQrSYv7oMHYCBAIREKSFtzwWtSJBWiBvamUQIBCzgCCtqIuoulshIEhrhaI+SiogSIv5lwNjJ0AgEAFBWknX2HYMS5AWyLtYGQQIxCwgSGvHghfHNQRpMX+SGDsBAoEICNLiWHKNsraAIK22i0cJ9PX1CdICWaeVQYBAzAKCNCtywwKCtJg/OoydAIFABARpDa9iTswICNICeVMrgwCBmAUEaZm1yY9RCQjSoppug61PQJAW8y8Hxk6AQCACgrT6li6tUwKCtEDexcogQCBmAUFaal1y2JSAIC3mTxJjJ0AgEAFBWlMrmZMLLiBIK/gEKj9PAUFaIOu0MggQiFlAkJbnQlfyvgVpMX90GDsBAoEICNJKvta2cXiCtEDe1MogQCBmAUFaG9c9lwpOQJAW3JQoKBwBQVrMvxwYOwECgQgI0sJZFgtXiSAtkHexMggQiFlAkFa41TPYggVpMX+SGDsBAoEICNKCXSUV1gYBQVobkF2iqAKCtEDWaWUQIBCzgCCtqItoAHUL0mL+6DB2AgQCERCkBbAelqQEQVogb2plECAQs4AgrSRrqmE0JCBIa4jNSXEICNJi/uXA2AkQCERAkBbHkpvLKAVpgbyLlUGAQMwCgrRcVrgoOxWkxfxJYuwECAQiIEiLcgU26CUCgjQvBQIDCgjSAlmnlUGAQMwCgrQBVylPDCUgSIv5o8PYCRAIRECQNtRi5fnhCgjSAnlTK4MAgZgFBGnDXbS0K6OAIK2Ms2pMLRIQpMX8y4GxEyAQiIAgrUVrWozdCNICeRcrgwCBmAUEaTEuwPmMWZAW8yeJsRMgEIiAIC2fJU6vxRAQpBVjnlTZEQFBWiDrtDIIEIhZQJDWkRWwHBcVpMX80WHsBAgEIiBIK8eSGsIoBGmBvKmVQYBAzAKCtBAWRDV0SkCQ1il51y2AgCAt5l8OjJ0AgUAEBGkFWC9DLVGQFsi7WBkECMQsIEgLdZEsXl2CtJg/SYydAIFABARpxVs+Vdw6AUFa6yz1VDoBQVog67QyCBCIWUCQVrrVtX0DEqTF/NFh7AQIBCIgSGvfslf2KwnSAnlTK4MAgZgFBGllX2yNbzABQdpgOp6LXECQFvMvB8ZOgEAgAoK0yNfiZoYvSAvkXawMAgRiFhCkNbOQOTctIEiL+ZPE2AkQCERAkJZemBzHJiBIi23GjbcOAUFaIOu0MggQiFlAkFbHuqXpmwUEaTF/dBg7AQKBCAjS3rw0+alxAUFaIG9qZRAgELOAIK3xZcyZxRcQpBV/Do0gNwFBWsy/HBg7AQKBCAjSclvlyt+xIC2Qd7EyCBCIWUCQVv7ltl0jFKTF/Eli7AQIBCIgSGvXouc6IQoI0kKcFTUFIiBIC2SdVgYBAjELCNICWROLWIYgLeaPDmMnQCAQAUFaERfQMGsWpAXyplYGAQIxCwjSwlwiVdUeAUFae5xdpZACgrSYfzkwdgIEAhEQpBVyBQ2jaEFaIO9iZRAgELOAIC2MJbEMVQjSYv4kMXYCBAIREKSVYUE1hkYFBGmNyjkvAgFBWiDrtDIIEIhZQJAWwXqb1xAFaTF/dBg7AQKBCAjS8lrk4utXkBbIm1oZBAjELCBIi2/5NeJ/CwjS/m3hiEBGQJAW8y8Hxk6AQCACgrTM2uTH4QsI0gJ5FyuDAIGYBQRpw1+2tBxcQJAW8yeJsRMgEIiAIG3wpcqz5RYQpJV7fo2uKQFBWiDrtDIIEIhZQJDW1EoW98mCtJg/OoydAIFABARpcS/FrRy9IC2QN7UyCBCIWUCQ1sqFTV9FExCkFW3G1NtGAUFazL8cGDsBAoEICNLauO6V7VKCtEDexcogQCBmAUFa2RbXzo1HkBbzJ4mxEyAQiIAgrXPLoCt3XkCQ1vk5UEGwAoK0QNZpZRAgELOAIC3YVTL8wgRpMX90GDsBAoEICNLCXy6LUqEgLZA3tTIIEIhZQJBWlEVTnXkICNLyUNVnSQQEaTH/cmDsBAgEIiBIK8ma2olhCNICeRcrgwCBmAUEaZ1YAMt5TUFazJ8kxk6AQCACgrRyLrFGNTwBQdrwnLSKUkCQFsg6rQwCBGIWEKRFuQK3ZtCCtJg/OoydAIFABARprVnS9NLXJ0gL5E2tDAIEYhYQpFmQYxYQpMU8+8Y+hIAgLeZfDoydAIFABARpQ6xVnh5YQJAWyLtYGQQIxCwgSBt4mfJMfQKCtJg/SYydAIFABARp9S1dWpdLQJBWrvk0mpYKCNICWaeVQYBAzAKCtJaubHF1JkiL+aPD2AkQCERAkBbX0pvnaAVpgbyplUGAQMwCgrQ8Fzp9hy4gSAt9htTXQQFBWsy/HBg7AQKBCAjSOrgOFv3SgrRA3sXKIEAgZgFBWtEX03DqF6TF/Eli7AQIBCIgSAtnWVRJ+wUEae03d8XCCAjSAlmnlUGAQMwCgrTCrJrhFSpIi/mjw9gJEAhEQJAW3vJY1IoEaYG8qZVBgEDMAoK0oi6i6m6FgCCtFYr6KKmAIC3mXw6MnQCBQAQEaSVdY9sxLEFaIO9iZRAgELOAIK0dC14c1xCkxfxJYuwECAQiIEiLY8k1ytoCgrTaLh4l0NfXJ0gLZJ1WBgECMQsI0qzIDQsI0mL+6DB2AgQCERCkNbyKOTEjIEgL5E2tDAIEYhYQpGXWJj9GJSBIi2q6DbY+AUFazL8cGDsBAoEICNLqW7q0TgkI0gJ5FyuDAIGYBQRpqXXJYVMCgrSYP0mMnQCBQAQEaU2tZE4uuIAgreATqPw8BQRpgazTyiBAIGYBQVqeC13J+xakxfzRYewECAQiIEgr+VrbxuEJ0gJ5UyuDAIGYBQRpbVz3XCo4AUFacFOioHAEBGkx/3Jg7AQIBCIgSAtnWSxcJYK0QN7FyiBAIGYBQVrhVs9gCxakxfxJYuwECAQiIEgLdpVUWBsEBGltQHaJogoI0gJZp5VBgEDMAoK0oi6iAdQtSIv5o8PYCRAIRECQFsB6WJISBGmBvKmVQYBAzAKCtJKsqYbRkIAgrSE2J8UhIEiL+ZcDYydAIBABQVocS24uoxSkBfIuVgYBAjELCNJyWeGi7FSQFvMnibETIBCIgCAtyhXYoJcICNK8FAgMKCBIC2SdVgYBAjELCNIGXKU8MZSAIC3mjw5jJ0AgEAFB2lCLleeHKyBIC+RNrQwCBGIWEKQNd9HSrowCgrQyzqoxtUhAkBbzLwfGToBAIAKCtBataTF2I0gL5F2sDAIEYhYQpMW4AOczZkFazJ8kxk6AQCACgrR8lji9FkNAkFaMeVJlRwQEaYGs08ogQCBmAUFaR1bAclxUkBbzR4exEyAQiIAgrRxLagijEKQF8qZWBgECMQsI0kJYENXQKQFBWqfkXbcAAoK0mH85MHYCBAIREKQVYL0MtURBWiDvYmUQIBCzgCAt1EWyeHUJ0mL+JDF2AgQCERCkFW/5VHHrBARprbPUU+kEBGmBrNPKIEAgZgFBWulW1/YNSJAW80eHsRMgEIiAIK19y17ZryRIC+RNrQwCBGIWEKSVfbE1vsEEBGmD6XgucgFBWsy/HBg7AQKBCAjSIl+Lmxm+IC2Qd7EyCBCIWUCQ1sxC5ty0gCAt5k8SYydAIBABQVp6YXIcm4AgLbYZN946BARpgazTyiBAIGYBQVod65ambxYQpMX80WHsBAgEIiBIe/PS5KfGBQRpgbyplUGAwP9j777DpKjSvo/XzABDmhGUIEkRMAcQ87qKiKhrjigghlVXZF1XV1x1VYwgGBFExQgYUFFRMAGioKIEESWoRIFhmCb1GtB+/nke3su3sDwAAMmJAAAgAElEQVSe6q6p7q6uvuvU14vrsrq7wjmfU9V3Tf+qq+MsQJCWexljyegLEKRFfwzpQcEECNLifHJA3xFAQIgAQVrBqpz5KyZIE3IU0wwEEIizAEGa+eU2rB4SpMX5nYS+I4CAEAGCtLCKHtuRKECQJnFUaJMQAYI0IXWaZiCAQJwFCNKE1MQoNoMgLc5vHfQdAQSECBCkRbGAymwzQZqQg5pmIIBAnAUI0mSWSFoVjgBBWjjObCWSAgRpcT45oO8IICBEgCAtkhVURqMJ0oQcxTQDAQTiLECQJqMkmtAKgrQ4v5PQdwQQECJAkGZCQaUPuQoQpOUqx3IxECBIE1KnaQYCCMRZgCAtBvW2UF0kSIvzWwd9RwABIQIEaYUqcvFbL0GakIOaZiCAQJwFCNLiV37p8e8CBGm/WzCFgCZAkBbnkwP6jgACQgQI0rTaxEP/AgRpQo5imoEAAnEWIEjzX7aY01uAIC3O7yT0HQEEhAgQpHmXKl41W4AgzezxpXd5CRCkCanTNAMBBOIsQJCWVyWL98IEaXF+66DvCCAgRIAgLd6lOMjeE6QJOahpBgIIxFmAIC3Iwsa6oiZAkBa1EaO9IQoQpMX55IC+I4CAEAGCtBDrnmmbIkgTchTTDAQQiLMAQZppxbV4/SFIi/M7CX1HAAEhAgRpxSuDbLn4AgRpxR8DWiBWgCBNSJ2mGQggEGcBgjSxVVJ+wwjS4vzWQd8RQECIAEGa/HIZlRYSpAk5qGkGAgjEWYAgLSpFk3YWQoAgrRCqrNMQAYK0OJ8c0HcEEBAiQJBmSE0tRjcI0oQcxTQDAQTiLECQVowCaOY2CdLi/E5C3xFAQIgAQZqZJZZe+RMgSPPnxFyxFCBIE1KnaQYCCMRZgCAtlhU4mE4TpMX5rYO+I4CAEAGCtGBKGmvZto0gTchBTTMQQCDOAgRpFOQ4CxCkxXn06XstAgRpcT45oO8IICBEgCCtllrFy5kFCNKEHMU0AwEE4ixAkJa5TPFKdgIEaXF+J6HvCCAgRIAgLbvSxdxmCRCkmTWe9CZQAYI0IXWaZiCAQJwFCNICrWzxWhlBWpzfOug7AggIESBIi1fpLWRvCdKEHNQ0AwEE4ixAkFbIQse6pQsQpEkfIdpXRAGCtDifHNB3BBAQIkCQVsQ6GPVNE6QJOYppBgIIxFmAIC3qxVRO+wnS4vxOQt8RQECIAEGanLJIS8IXIEgL35wtRkaAIE1InaYZCCAQZwGCtMhUTXkNJUiL81sHfUcAASECBGnyymNUW0SQJuSgphkIIBBnAYK0qBZR2h2EAEFaEIqsw1ABgrQ4nxzQdwQQECJAkGZojQ2jWwRpQo5imoEAAnEWIEgLo+DFYxsEaXF+J6HvCCAgRIAgLR4ll16mFyBIS+/Cswhs27aNIE1InaYZCCAQZwGCNCpyzgIEaXF+66DvCCAgRIAgLecqxoKaAEGakIOaZiCAQJwFCNK02sTDWAkQpMVquOlsdgIEaXE+OaDvCCAgRIAgLbvSxdyKAEGakKOYZiCAQJwFCNKUusRkXgIEaXF+J6HvCCAgRIAgLa9KxsIRFyBIi/gA0vxCChCkCanTNAMBBOIsQJBWyEJn+LoJ0uL81kHfEUBAiABBmuG1NsTuEaQJOahpBgIIxFmAIC3EusemxAkQpIkbEhokRyASQdrnXy2d9uFn9r9Z8xZmW87nLvjGWdyeqN60NduVhDb/giUrndZ+sWh5aNs1aUMrqzY5hrPmfpW2a/O+/NaZZ+an89POw5MIhCZAkCanLEauJQRpoR2nOWyoasOPTq3JZ+LTeYty2DqL+BRYtW6zMzofffaFz6WYDQFVgCAtctVTbIMJ0tQji2kEEECgKAIEaWKrJA0LQYAgLQRkNhFVgUgEaef3vdD67b/S0tKPZy/wX0rHvzqpXnn5b0v/+v/S0tKJk6f6X0PIcx55VDentRdefFnIWzdjc2+8Nc0xtCxr/sJl7n6deXYvdZ63p850z8MzCIQmQJAW1SIqoN0EaaEdpzlsaMHiFWqtyXn6yKO65bB1FvEp8PbUmerQvD9zjs8FmQ0BR4AgTUA9NKQJBGnOYVXcifWbf549f8n4VycNvW94/wFXn3jSKUce1e3Y4044v++Ft9897KXXJn+9fF1xW8jWMwlIvoyJa3cyjZq05wnSDKmpdCMnAYK0nNhYKB4CkQvSLMt6b/onPqvsKxPfLi+vr344UlpaOvKxp30uXpTZDj7kMKfBBGm5DYEWpM378lv3erQg7a0pM9zz8AwCoQkQpMWj5BaklwRpoR2nOWyIIC0HtPAX0YK0aTNmh98Gthh1AYK0glS4WK6UIE3Cu8GY51/Za+99nb/K007UrVv3jLPOnfTuBxIaTBtUAclnX9opB9fuqAMnapogLZYVmE5vFyBIY1dAIKOAwUHaa2++V79+A/WsV36KlkimCNLyP38SGKSt2/jTI48/M3zkaPvf+s0/599N1pBWIKLUBGkZqxQv1CZAkJb2rUDIk5I/yhFCVOhm+CkK2qdaBGmFHhQj10+QVlux4nW/AgRpxX2LePWNdw/serD6GUKt06ecdsaqdZuL22y2rgpIPvvilEMdKcnTBGl+ixbzmShAkGbiqNKngARMDdLeeGtaw4aN1LPeSKRoBGmBnEsJDNKeGvOiujdWJX4IpKesxC0QUWqCtIBqWhxXQ5Dmfh+Q80xQH+WcfuY5cjoVrZb4KQp8qhWtMZXZWoK0OBbgwvSZIK2Ix/iLr7xRUlKi/tXmc3rvffb7/KulRWy5z037ubjE56okzxbU2Vchbqzt55QjJsMkeRdKJFMEaYUpcaw1GgIEadEYJ1pZFAEjg7RJ737QqFFj9aw3KikaQVogp1MCg7TRTz+n7pAEaYEMdNqVRJSaIK0oFdCMjRKkpX0rEPKk9lHOvvsdMO/Lb3P4t6bmv0J6FLlm+CkK2qda3GcpcqMsocEEaWaUVAm9IEgr1hE9f+GyJk2bqn+y2T+vfsihh/fqfcHAG2658ebb+1106THdj2vRoqU2m2VZB3Y9uHrT1mI13ud2/Vxc4nNVkmfTzr7cg+XzmUJcxqSdcqT9EnxMhknyLkSQJqEa0oYiChCkFRGfTUsXMC9Ie3vqzMaNK9RzowilaARpgZxOEaQFwhjRlfj5zFRg1wjSpBdLwe0jSBN4RDtN0j7K6d7jeOclJsIR8FMUvqve8v7MOfa/T+Z8GU7D2IphAgRpgutkxJpGkFaUN4eqxA/aHR3LysrOPa/Px7MXuNtTlfjh3gdHtmnbTv3MwbKsmwfd5Z5Z1DN+aqKoBufWGO3sS9RlTFqQlvbanZgMU26DG9pSfCMtYrWT5gYqQJAWKCcrM0vAsCDt3fc/rqysVM9oo5WiEaQFcmJEkBYIY0RXEtE/PAjSzCqtofaGIE3ym5X2UQ5BWviDFdGiED4UW8xTgCAt1Mpn9MYI0vI8GHNb/JHHn1E/Q7As68ERj3mvqirxw1HduqtLlZfXX/pdwnup4r4ak5oo+ezLz7U7MRmm4h4LtW6dIM3oSkvnahEgSKsFiJfjLGBSkDb1g0932KGJei4buRSNIK3WExo/MxCk+VEydZ6I/uFBkBbnQpxn3wnSJL+bSf4oR7JbgG2LaFEIUIBVhSNAkJZnLWNxR4AgLZxjVtvKyaeern6McMWAq7UZ0j5cvHTtzju3Uhe8f/iotHMKeTImNTHqZ18xGSYhB0WmZhCkOVWJiRgKEKTFcNDpsl8BY4K092fO0e5pnnOKtm7jT1Omzxrz/Cv3PfTI/cNHPTPu5Y8++yJTfQ38+YMPOcw5F7/w4suc9Vdv2vre9E+eGffysAdGDB85evyEN2fPX+K86n9i0dI1r7353mNPjh163/CRjz390muTc1uPvcWaLb98/tXS8a9OGvbAiAdHPPb02JfefPv9lVWb/LfHPeeseQufGvPiPfc+NGr0s5l+S+y76i1vvjP9iWeeH3rf8FGjn3190pRvVlQ7qyp0kLZu40/TPvxs7AsT7n1w5EMjH3/xlTfmLvjG2XraiZzPhguxN/oRdnqR1czOUvlPrN/88/SP5ox9YcKwB0aMGPXky6+/NX/hMj+rzZnaz8oLNw9Bmt+ixXwuAYK0wh2Y+a85ih/lzJ6/ZPyrk4aPHD3sgRFPjx3/9tSZOfzoS+DFS1pRCPZsKpFM5XBqkf/+yRoCFCBIc1UnnshRgCAtwAPT/6rattvF+Rvcsiz/t/kd8ehT6oKnnn6W/42GP2dE/1DKFiqKZ19qH2MyTGqXBU4TpOVYw1jMCAGCNCOGkU4URsCMIO2Dj+c23XFH9RQ2txRt5qfze/W+oEkT/UeGLctq226XS/82YMGSlWlr/PyFy4497oRux/Sw/419YULa2dQnH31ijDN/t2N6zPx0vv2qO0hbtjpx5d//2bx5C7WD9vQee+496I4hmdImdXPVm7YOe2BE14MOKSkpca+nY8fdr7nuBv93opi74JtLLuu/734H1K/fwL22srKyzgd2ffiRJ9Zt/Eltgzq9bHXC6f5pZ5xtvzTni69PPOkUdYWLlq5Rl0okU9NmzD719LMaNGiozmZZVp06dXr0PPG1N99LJFOBBGlViR+cFnY7psd31VsSydTS7xLXXHdDy5Y7a1u3LGufffcfMepJrbWD7rzHXon2u31HdevurFxbxHmY895oryEr4axmTiRTi5euPeEvpzhdUFNMp/3qxH9uvdOZ+aGRj6svXX/jrc5Lk979IJFMrVq3+d83DdL+mrXBu3Q96P7ho9Zv/lldgz2dD7V7beE/Q5BWmBIXi7USpIV/wPrfYoE+yrn4r39z3jmP6X7cgsUrPJr04SfznJm7HdOjV+8L0s68pua/t9x295577eMucC1atLzy7/+cMevztAtqT+ZZvIpSFOZ9+a1K9Nnni7VOOQ/zPJsK5NTCaQwTogQI0mJRcUPpJEFaUQ7teuXlTvmrqKj034ZZ8xY6C1qWdfgRR/pfNuc5l6/ZMG3G7KfGvDj0vuFPjx0/ZfqsJcuq/Kwtt4Qm8ItjEsnUgiUrX379rYcfeeL/X7Xz0pTps2q2/JK2C7PmfvXc+NceHPHY0PsffvypcX7ORgp09pW2eYV4MrdhKkRL4rxOgrRQKh4bESpAkCZ0YGiWBAEDgrSZn87fqVkz9fw1hxStasOPVwy4uk6dOup63NONGjUedOc97s/xv1i0XA2ojjv+L7Wec3TpepCz/rKysoXfrrYX0YK096Z/0m6XXZ0500507Lj7lOmzPLY4bcbsvfbeN+2y6pM77rTTY0+O9VhPIpmq2fLLtQNvrBXKXu2ee+2TKXr8evk6ddPrN//8yZwvW7RoqT5pWZYapFVv2nrl3/9ZVlamzaM+LCkpufRvA1594131yXlffuvu1Jln91LneWvKDG2e1euT6gzL12z4ePaCDh07qU+6p3v0PFHNNc/r0889j/aMtt1EMpXn3mivMCvhrGZOJFOvTHxb7cWXX69y90J9ptPuezrzX33t9epL6g7/zLiXZ346X53ZWUqdOOjgQ91fAcyNWm1JcacJ0iQUxIi2gSCtuAev99YL9FHOlX//p/qu6PHTa+s2/nRAlwPVmR94+FF3m998+/32u3VQZ0s7rb2Ba+sJpHgVpSjMmPW52t9pM2ZrXbMf5n82FcipRdq28WTRBQjSIlpDBTabIC38w3ltzfdqFWjYsFGmUMfdtpotv6hXTDpBWoAX2job/a56y623D27VqrXaWme6/W4d7hx83/I1G5z5nYmcrzjM8+KYtJePTJw8tdsxPUpLS52W2xPtdtl1yLAHnTYnkqmHH3ki7YcYu3XoeNtdQz3GqBBnX0Fdw+Rx7U7Ow6SiMR2UAEGawPpIk0ITIEgLjZoNRU8g6kHax7MXaF/VyiFFW1Pz354nnKSdyXk87NvvEvd52yGHHu4sUrdevWWrvX5nWLtyTf0ITP0I6c9HH5P263HOhpyJysrKt6fOTHvSMOndDyorK505vSdKSkoGD30g7XrsJ3v3vch7Ddqru7bfbcXaje4VasnNgiUr3SmaGqRVb9p61jnnaSvP9HCPPfdWXwokSHP/Ap+6CXVavdg/h3QnkL0xkUxlJZzVzIUL0m657W6f+2qbtu20Yc2B2r1bFvEZgrTolU8xLSZIK+KRW+umC/FRTiKZWlPzX63SDR85Om1jbrrlDrVCHX/iye7ZXnptctrvl6sLOtO9el+Q9uvmQRUv9SwotKLgJ0gL5GxKC9JyO7VwjyDPSBAgSBNTFSPfEIK0ohzRO+60k1PpLMt68ZU3/Ddj+kdz3p460/7n/IUS4IW2dkuGjxzdrHlztZFpp9u222XWvIVa43P4QymQi2O0qrdsdeL6G291R2hqR84+9/yaLb+srNpU6+czp5x25tqa77We2g8LcfYV1DVMHqccOQxT2u7zZCACBGmRr6Z0IA8BgrQ88FjUdIFIB2mz5i3UbrKXQ4qWSKb6XXSpevZmT9crL99v/84dO+6uftXMme3Kv/9TK893DbnPedWyrEcef0abQX048Iab1ZnV74GpHyGp89jTOzVr1qp1G/fzlmW1at3GfSq5Yu1G7a8Ce9kGDRo2blyh3Q/TWe2773+sttaZnjh5qjOPM1FZWbnf/p2P7nZsl64HpT25v3nQXc4anAktuTmm+3HOCtUJ5xtpg+4Yoj7vTFdWVu6ya/u0Y+TM4/w942w9kUxl+420XXZt76ywbt26nQ/s2rffJaedcbb6vDOD86N6dwy+t6KisqKiUvuMsnHjCvt5951DAtkb3UGat3C2w1Ggb6Q5gM5E0x13bN2mrfNQndj/gC7qgOZArS5e9GmCNNOLbQH7R5BW9OPXowGF+CjH3tyU6bPUb4dXVla6vwI+89P56r2qdmrWbPHStVpr5y9cVl5eX313tadbtW7TdMcdtV+ftV9ynwIFdSqVSKa8z4IKVBQ8PtWyuYI6m9I+UlRPIfyfWmgjyEMhAgRpBaxzMVs1QVpRDuquBx2ilsIWLVp+PHtBni0J6kLbRDI19oUJ3n/wqo3fcaedtL9/s01ogro4Rqt6A/5xrdrOTNPX33jrEUcelelV9fk7Bt+bdowKcfYV1DVMHqcc2Q5T2r7zZFACBGkxq7109w8CBGl/4OABAqpAdIO0zz5fvPPOrdQTKcuyHn7kiWwL5ydzvtTuFthp9z0nTp5ateFHe1XL12wYMerJioo/fKmrpKREu/PPgiUr1bPbE086xaMl6h0CKyoqV69POjOn/QiptLT03zcNmjX3K3u2BUtWjnzsaXdCdvc99zvrsScG3nCLRnTscSdM/eBT53LyWfMW9h9wtTZPt2N6aOuxH6p/DFiW1aZtuxGPPuVA2Td+fPn1tw7serC6wj323Nu9Ni25UefvecJJA2+4+dEnxrz7/sd2O5ev2eDO/AZcdc30j+bYt9n8evm6p8eOz3SbC+0PCbsx2QZpTgvPPLvXyqpNTo/Wbfzp9ruH1a1Xz5nBsiz3za983ug8qL3RHaSpzXMLZzUchftGmtPIkpKSa6674aPPvrC/+vnVN9+NGv2sdgdXy7LGPP+KMxDOhE9qZ34hEwRpamFiOisBgjQhR3HaZhTioxxnQ9f9+z/O26ZlWdptpas3bVVvIp3pPbNvv0vUlZSWlt5y291fLFrubOWl1yZ37LSHOk+DBg2132IJsHilPQsqdFHw+FTLdgjqbEr7SNFRze3UwhkjJiQIEKRlVbmY2UOAIK0oR/Tl/a9y3pPtibp16/7jmoFqQcy2YUFdaDtr7lfaZxGWZTVp0rTzgV2PPKpbx057aJ9mWJZ1ft8L1dZme8VhUFd2Zqp6JSUle+y5d6/eF5x5di/vn7EoKSnptPue557XJ+2cOzVrZv+QudrZX3+AbfEKdTTV2/9oc2b1MJBrmDxOObIdpqwaz8zZChCkedQpXjJegCDN+CGmg7kLRDRIm/PF12m/mHXjzbdnWyBPOuV09TTr/L4XqrGWs7a5C77Zb//O6px/PvoY51V74rDD/+TMUF5eP+0tDRPJ1Lvvf+zMZllW774Xqetxf4RUXl7/6bEvqfPY0599vrhjx93VVbVo0VI9lfx6+Tr1ju2WZV1yWf/qTVvdq7p/+Cj1wnbLst54a5o22/rNP6tfq2rcuML53pU257LVCfWWU+Xl9d13wkyb3LRu03b8hDe1tSWSKe0LfHXr1Rv52NPu2b5YtHzPvfZRQezpAIO0W267273dRDL1n1vvVLd76ulnabP5THcC3BuzEs5q5kIHaXXr1h01+lkNMJFMzfnia+3D3AM6/+FLafYiPqnd6y/uMwRpuZex2C9JkFbcg9d769pHOS1b7nzm2b1y+Lem5r/uDVVt+PGAzl3U6jPi0aec2W657W71pT4XXOy85Ex8Om+RWv3rlZenPd9YtW6z9vZ70y13OCtJJFMBFi/3WVAIRcHjUy37wpSgzqbSfqSY86mFOgRMF12AIC321TgwAIK0ohzOX369Ku33s0tKSg497Ig7Bt8789P52TYsqAtttZCvTdt2jz051rku1v4r6bQzzlaLfp06db765jt3g/38oRTgxTFpq17Llju/PmmK07aqxA9/v/pfauOd6WbNm7/02mR1zqv+eZ3zqj2R9qfitbOvoIK0RDKV/zVM3qccdmf9DJPDwkSBBAjSAqtqrCiCAgRpERw0mhyWQBSDtCeeeb5N23baKZT9sG7dutM+/Mx/KX1rygx1PXvvs596Sqqt5+PZC+rWravOr12hNnjoA+qr6g0b1VVddsUAdbaJk6eqr7o/Qhr99HPqDOr0Nyuqte+lDbpjiDODdiPv084423nJPXH73cPUVjm/k+zMOe/Lb9UZBlx1jfOSe+LGm29XZ3b/Ypw7udlxp52Wrqpxr8odBz7+1Dj3bPYzS1fVuO9DFVSQdtjhf8q03epNW9XvzB1x5FHanH7OhoPdG/0Lp/36WqbhsPtV0Fs7PjjiMU3PefjtyvXaDj/uxVedV+0JP9TaIhIeEqSFVfQM3A5BmoRDOFMbtI9y1MqY1bT6TWh1WzNmfa7evLFJk6b2B2cfz16gPr9r+93SrkH78VGPt99pM2arX7s/6ZTTnWYEW7zcZ0EerQqqKHh/qhXg2ZT7I8V8Ti2cIWBCggBBmoH1tUhdIkgr1hGt/QHrLtMtW+587nl9Rjz61Jdfr/LZyEAutD3o4EOdxuywQxPnLjVqG6o3bT3yqG7ObJZlqRGUM6efP5QCvDjGXfVatW7jvst0Ipk6utuxauMty2rWvHla5+7H9lTnTPtRiXb2FeBlTPlfw+R9ymGPlJ9hcsaUiQIJEKQVqQayWRECBGkihoFGyBSIYpCmnjm5p3ffY6+0F26nra8nn/r719FKSkremjIj7WzOk1f88S6Ijz4xxnkpkUx99c136m/nnnzq7x8zObNVb9ravHkLp9ntdtlV+7aW9hFSh46d7LsXOmvQJv590yBnbZZlHXzIYc4M2q3w3p85x3nJPbGyalOTJk3VVc1d8I0625wvvm7StGn9+g3sf69MfFt9VZt+ZtzL6qqWfpfQZnDHPLfdNVSbx3740MjH1VXtudc+mpi21DXX3aDOb1lWUEGaeumcttFEMqX+6XL4n/6szeDnbDjYvdG/cNogLdNw2P0qXJDWuk1b9WahGmMimbrhP7ep49uj54naPH6otUUkPCRIk1kiI9EqgjQJh3CmNmgf5ahvX1lNp43B7I3eevtgdVXHn3hy9aat6odupaWlk979wN3CxUvXqictzZu3qEr84J7NeUb99ttuHTo6zwdbvLSzoHCKgvenWgGeTbk/Uszn1MIZAiYkCBCkRaJiRqKRBGlFPKJvv3uYetWIWl616T332ufy/lc9/9Lr3qUz/wttqxI/qFfGnHHWuZl8nhrzotrIe+59yD1nrX8oBXtxjLvqPfnsC+5WJZKp8a9OUhtvWZb6JXt1kdcnTVHnvP3uYeqr9nRBz77yvIbJ+5TDbn+tw+TuMs8ELkCQFomKSSMLJECQViBYVmuCQNSDtE6773nfQ4+o51KWZV3e/yqfdVT9cKRL14NqXWrW3K/UbV10yeXaIof/6c/ODPXrN1i1brM2w0uvTXZmsCzrX9ffpM2gfYR074MjtRm0h0tX1ah3HGrevIU9w/I1G9QNHdP9OG1B98Orr71eXcQ7KnMvrj6jfa5Xa5DWokXLTPHnP64ZqLZKCy/VjdrTi5auUf/YCCpIS/tLb+rWz+97odPO3IK0YPdGLUjzEHYHad4zF/TWjmn/FlKdtR1e/TDXni2if3gQpJlQUIvUB4I09S1C2nRBP8qxO7t+88/aL5juu98BTj1K+7Od9oJvvv2+OtvAG2721rv+xlubNGlq/2u/Wwdn5mCLl3YWFE5R8PhUK9izKe0jxTxPLZwhYEKCAEFakWqggZslSCvuEf3mO9OPP/Fkn3GaZVlNd9zx8v5XzZ6/JG2z87/QVvubrtf5fdNuKJFMLVq6ZsBV1zj/0t6np9Y/lIK9OEarevvsu3+mxs9fuEw9J+nQsVOmOZcsq1LnHHTnPe45C332pX3W4f8apkQy5XHK4XSk1mFy5mSicAIEaQbWV7rkW4AgzTcVM8ZPINJBWqfd91z47epEMtW770Xq6VRJScmEie/UWlM/+3yxutRlVwyodZHqTVvr1qvnLOW+Ic899z7kvGpZlvuSq17n91Vn+HTeIm2j2kdIHhehOwv26n2Buk47vXt/5hz1yYdGPu7Mn2niw0/mqYvcP3xUpjk9nl+/+eexL0yorKxUV1VrkNbzhJMyrfOU0850VtWwYaO0v/GmLXv8iSc7iwQVpKX9fqG63T4XXOxsNIcgLfC9Ufujy0PYHaR5z1zQIG3R0jWqatppdYevW6+e9pXNiP7hQZAWv/IbWI8J0tK+UQh5Uvsop3nzFqecdmYO/zJdaxmveLIAACAASURBVGJ387PPFzdo0NCpQerE/gd0yfQ13+EjR6tzpr1VVK2MgRcv7SwonKLg8alWsGdT2keKeZ5a1Do6zBCmAEFaYFUt9isiSAvzyM20rVlzv7r+xlsPO/xP2i87qHVTna5fv8FdQ+5Le9+U/C+0raj4/S/r8vL6b74zPVOza32+1j+Ugr04Rqt62m/Dq62t2fKL6unxxbtEMqX+ml1RgrScr2EiSFMHXfg0QVrsq3GsAQjSYj38dN5bILpBmpOiJZKpFWs3tttlV/Xcq1XrNu7wRivV2u3pDux68E233FHrP3UrHTvurq1z4ber1RslaT9L9l31FvXbY+ptGJ31qB8hNWve3HneY0K7n/uHn8xLJFNPjx2vNvXVN971WIP9knbZ9dXXXl/rIus2/jRr3sIXX3njnnsf6j/g6mO6H6eefDsNcI+FFvP89fIrM21rv/07O+vZa+99M82mPq/9Cl0gt3Yc8I9r1U24p/MM0gLfG/0Lu4M0j+GwO661Nu3961WiTrvv6Qyitl+pO3zDho3UpTJNazv8/IXL1Dlr/ftQnVnONEGad6niVQ8BgjQ5B7K7JVqQFuDP3Wvb0q7jsd9yy8vrf/TZF9qczkPtTsjeWZ2zlDahlYP8T6WKUhQ8grRgz6a0jxTzPLXQxoKHxRUgSPOoU7yUlQBBWnGPZW3rK6s2Pf/S63+78h977b2v8+dMpom0QZFWoHO40LZL14PULdapU+eiSy73/tUGrRfOQ+8/lAK/OEarencOvs9piXtC7eN/br3TPYPzjHrxkJ8grRCXMeV2DRNBmjOI8icI0rKqXMxsmABBmmEDSneCFIhokKamaHYNnjh5qppgWZZ15tm9vMvzE888r56u5TDt3EdR3ZD6W1kNGzZavT7pvKqduQ57YITzkjOhfoTk526TiWTq0SfGqI1/9rlXEsmUdsOBTLebcLZrT6jfJDv9zHO0V+2H1Zu2jn1hwgUX/nWvvfdVv5+ntkGbrjVI8/hFrkaNGjtrO+Evp6Rtkvbk7XcPcxYJ6htpaQdL3W6eQVrge6MWpHkIu4M075kL9420Wm9yZYNrO/zEyVPVgdCOMu/fLVAXLO40QVqQhS1m6yJIK+7B67310IK0mi2/HN3tWLX2WZbl/YnV6Wee48y/4047eXck06uBFy/1LCi0ouARpAV7NqV9pJjnqUWmQeH5oggQpMWs9hawuwRpRTmE/Wx00dI1jz4x5vy+F6a9ctQuqbfePlhbVf4X2o4a/axTr9WJ1m3anten30MjH3ff5EZrg/PQ+w+lwC+O0are8JGjnZa4J9SuDb1vuHsG55lsg7QCXcakRaR2+72vYSJIcwZR/gRBWgHrHKsWL0CQJn6IaGDxBKIYpLlTNLsM9x9wtXr6ZVnW6Kef86jQ9z44Ups/24dNmjR1r3/YAyPU9Twz7mVnHvWWg/XKy5euqnFecibUj5BqveePvdSb70xXtzj0/ocTydTFl16hPukzTlAvtet60CFOq5yJuQu+UVuobsJjutYg7fGnxjmbUCeWrU6oq631m1L2sk8++4K6VCDfSPM+708kU3kGaYHvjVqQlknYFstq5sIFaX5+yS+RTE169wN1fB9+5Al1n/H++1CdU9Q0QVrxymDkt0yQJupY1hoTWpDm/ia6ZVmfzPlSa4/6sPOBXZ330v3276y+5H868OKlnmOEVhQ8grRgz6ay+kix1lML/8PEnCEIEKRFvpqK6QBBWggHbJ6bqN609eXX3zqvT7+ysjKnktoT9es3+GZFtbb+PC+0TSRTJ51yurYh7WGLFi3P6dV73Iuvaje911ri/YdS4BfHZFX11B5FIkjL4RomgjRth5T8kCBNTFWkIUUQIEgrAjqbjIpAFIO0TLcFX1Pz3z323Fs9A2vSpOmCJSszlWft10HUBX1ON91xR/fKFy9dq55Sn3XOefY836yoVu+xfsppZ7iXTSRT6kdIxx53Qtp5tCcnTp6qNvjpsS8lkqkr//5P9cllqxPaUmkfqrfgO+jgQ7V5Hn1ijHqLdnX99nRpaWmHjp3OPvf8s889X3211iDNfY8Le9PrN/+sfumtzwUXa01K+1D7xlIkgrTA90YtG8skbANmNXMOQVrHTns4+4PHrR3dvy2Xdny1HV77/T/vvw/TrlDCkwRpUSmaAttJkCbhEM7UhtCCtO+qt6jvtPZb7sGHHObxgdr+B3Rx3plzDtICL17qWVBoRcEjSAv2bCqrjxQJ0jIdVjKfJ0gTWB8j2iSCNJnHeNpWTZsx+4AuBzrF1J64edBd2sx5XmibSKaqN229Y/C9DRs20rblfth+tw4PPPyo1gDnofcfSoFfHJNV1VP7EokgLYdrmAjSnF1R/gRBWkRrKM0ORIAgLRBGVmKmQBSDtPemf5Kp7k794FM1rLIs65jux6X91d9EMqV9HD/0vuHTPvwsq3+ffb44bUuO6tbdORGsqKhcW/N9IpnSTqDHvjAh7bLqR0g+b2qkfYw1/aM5iWRq6H3DnTZYlmU/mXaL6pPqfRKcCNCe4e2pM9UV2tOVlZXdj+058Iabn33ulRmzPnfuYzn2hQnqzDkHaYlkqkPHTs6qjjyqm9raTNM33XKHs0hQt3Ys9DfSAt8bs8rGspo5hyBNvf+JR5DWpm27TGOqPv/wI0+o4/v6pCnqq95/H6pzipomSDOzxIbSK4I0Ucey1pjQgrRLLuuvvjE602l/O8Ru5Mmn/n55e9oLg7S+pH0YePFSz4JCKwoeQVqwZ1NZfaRIkJZ2lxP7JEFaKBUvFhshSAv5MK/etHXi5KnOP58/iOA0csXajeqfq5ZluW8kmOeFts62vli0/N83Ddp7n/2cKp9p4rw+/dLekMb7DyXtU4VMK/d4XjudyKrqqauNRJCWwzVMBGnOzix/giAtFhWXTmYQIEjLAMPTCGzbZliQlkim/n3TIPUkzLKswUMfSFunv1i0XJ3zqTEvpp0thyfve+gRdc3jXnw1kUwddvifnCd3atasasOPadesfoTUsGGjtPNoT15z3Q3Omi3LWlm1KZFMjX91kvpkptxOXdXipWvVRa7793/UV4848ij11VatWg97YETaE/REMhVgkNb92J7OdtvtsqvapEzTF1z4V2eRqARpge+NWWVjWc2cbZC2fM0GdTg8grSysrJ1G3/KNKzO89cOvFFd4YLFK5yXEsmU99+H6pyipgnSKMg5CxCkiTqWtcaEE6S99NrkkpIS9Y3RmS4vrz9r7ldaq+yHA666xpnNsqxV6zannc37ycCLl3oWFFpR8AjSgj2byuojRYI0731P2qsEaTlXMRbUBAjSQj66qxI/qDW01t9ZdzdvwsR31HrasePu7nnyudDWvbZZc78adOc9PU84aYcdmqibVqcH3nCLe0HvP5QCvzgmq6qnNj4SQVoO1zARpLn3SbHPEKRptYmHsRIgSIvVcNPZ7ATMC9LWbfzpwK4Hq+dh9es3SPszIes3/1yvvNyZc9AdQ4Kq4l8vX1enTh1nzb3O7zvvy2/VE/RL/zYg07bUj5Asy/JzTVyPnic622rWvLm95s8+X+w8aVmW+xYT7gZop84jH3vamUf7rbImTZvO+eJr51X3RIBB2sV//ZvTkbKysiXLqtyb057petAhziJRCdIC3xuzysaymjnbIG3ajNnqcHgEaT6/OtnzhJOcFZaX19e+cur996G2q8h5SJCWXelibkWAIE3OgexuSQhB2tJVNTvv3Mp5V2zcuOLy/lc5Dy3LOujgQ9Pe4HHo/Q+rs9X6zfUp02d17LSH/W+ffff//KuliWQq8OKlnQXV2qpEMpV/UfAI0oI9m8rqI0WCNPcBJfkZgjSlLjGZlwBBWvhHulpGu3Q9KNsGaO/tlZWV7jXkc6Gte23OM+s3/zz9ozmD7hhy0MGHqjXdsqyGDRu5f63N+w+lwC+O0WS8b/Gitl9+kJbbNUwEac6uK3+CIC2vSsbCERcgSIv4ANL8QgqYF6QlkqlP5nxZv34D9VSs84Fd037TRf1BET/3UZw196u27Xax/7XbZddJ736Q6Qyg2zE9nAbssEOTgTfc4jy0LGvK9FmZFtQ+QrrsioyRm72GGbM+VyO6gw85zH6+asOP6k+1tdtl17QCajNOPf0stZFvTZnhvDpl+iz1pRtvvt15Ke3EXUPuU+fP59aOg+4Yoq7qH9cMTLtF58l3pn2kzh+VIC2RTAW7N2aVjWU1sztI805Vtc9qvYO03n0vcoYy7cTHsxeUlpY6Q+w+bL3/Pky7TglPEqQVstAZvm6CNAmHcKY2hBCknX7mOc5bomVZ9z44cv3mn7ULStJeKqR91+qSy/pn6oX9/L+uv0nd0Jdfr7KfD7Z4aWdB4RQFjyAt2LOprD5SJEjz3iGlvUqQZnitDbF7BGnhH92HHnaEU+AqKirX1Pw3qzZ8+fUqZ3HLstLeQyWfC219Nmb8q5OaNG2qtuTl19/SlvX+Qynwi2Oyqnpqy4UHaTlfw0SQpu2Qkh8SpIVY99iUOAGCNHFDQoPkCBgZpCWSqbvvuV89FbMs61/X3+Su02edc54624uvvOGeR33mvD791Pkz3S4pkUw9OOIxdU512v3Rv7oJ7SOkhg0bfbtyvTqDNn3aGWerK//71f9yZthjz73Vlx59Yozzknti1ryFaj5Rp04d9RK2Z8a9rK5q9NPPudegPqN+Sc6yrHyCtNcnTVE33bhxxdJVNeq2tOmTTvn9R1/sBed9+a02TyKZOvPsXupq1dTQnjmr8/5aP+3y/qPF3mKwe2NW2VhWM7uDtOfGv+YWtp+pSvzQpm07ldo7SKtbr95X33yXaW2JZOrsc89X13b6medoM/uh1haR8JAgTU5ZjFxLCNIkHMKZ2lDoIO2xJ8eqb4lHdetut2Tmp/Pr1qvnvFReXt/91fxFS9eo38uvX7/B18vXZepIIpnad78DnBXusmt7Z85gi5d2FhROUfAI0hLJVIBnU8GeWjhDwIQEAYK0yFVPsQ0mSAv/iD6nV2+nwFmWVes1o1oLR41+Vl08069653ah7bUDb/zz0cfY/7r3OD7tV8yd9mi/JD30/oedl+yJWv9QCvbimKyqnmooPEjL+RomgjRth5T8kCBNbJWkYSEIEKSFgMwmoipgapBWs+UX9UbklmWVlZW9M+0jrVR/+Mk89etcTZo2fW/6J9o8zsPXJ02pW7euc4Z3QJcDnZfcE9+sqFbv7ugsVetdFrWPkCzL6tvvEu3mdc7mxr34qpp+NWzYaPHStc6rIx59St1up933zPQZWdWGH0886RR15gsvvsxZTyKZ0tKsW267W31Vm75z8B++jpZnkJZIpjSTXr0vqN60Vduo/XD8hDdVELtHUQnSgt0bs8rGspo5kUxpdwH1uFXpkGEPqvuVZVneQZplWWee3ctjfNXvWVqWNfWDT7U9oda/D7X5hTwkSItqERXQboI0IUdx2mYUNEhbsHhFkya/X3veqFFjtd5pPxnb9aBD3G+tF11yufoWffGlV6TtRSKZ0u5Jde55fZw5gy1eWsUPpyh4B2kBnk1l9ZFirdfoOEPAhAQBgjQB9dCQJhCkhX9ED3tghFoNGzZstGDJSp/NWLfxJ+2nxIc9MCLtsrldaHvp3waobZv56fy0K7efnPzeh+rMQ4Y9qM1c6x9KwV4ck1XVU1suOUjL5xomgjRth5T8kCDNkJpKN3ISIEjLiY2F4iFgapCWSKbmL1xWWVmpnpB16Nhp1brNWrXWvtHVuHHFxMlTtXkSydSkdz9o3LhCXdvtdw9zz6Y+073H8er89nRpaemCxSvU2bRp90dIlmWdevpZa2u+1+a8c/B9Wmh01T+vU+dZv/nnPffaR21D+906uL9Ft3RVzZFHdVNna9CgofatoPkLl6kztGy586Kla9Rt2dNLv0tcePFlajZpLzV3wTfazFklNy+9NlndumVZ3Xscv3zNBm2dDz/yRNrwUv1g0VmkuN9Iy/QtwwD3xqyEs5o5kUzNXfCNOiJlZWWT3/vQsXUm7h8+Sv26g71IrUGaZVk9Tzjpu+otznrsiaH3P6ylaCedcro2TyKZ0v4+zETtXrC4zxCkxaPkFqSXBGnFPXi9t64FaW3atnt67Eu5/dN+Laxmyy9HdztWfSvWPnWq2vDjPvvur85w6+2DtdZ+/tVS9Qohy7LO6dW7KvGDNtukdz9o1KixuqoRo55U5wmweKU9Cyp0UfAO0gI8m8rqI0WCNHUfkz9NkFaQChfLlRKkhX+8r635Xv2ZNMuy2rRt99qb7/lpSb+LLlXrY3l5/WWrE2kXzO1CWy1+S3uXHWdzNw+6S22M+zJi7Q8ld8UP9uKYrKqe2nLtlMbpoD3RoEFDZ+ZBd96jvZpIprSzr+49jnfPk9sz+V/D5H3KYbeq1mHKrfEslZUAQVosKzCd3i5AkMaugEBGAYODtEQypV1EbFnWRZdcrpVP7SeXLMsqL6/ft98lEya+8/lXSz+dt+iFlyeectoZWji0a/vdvG8wmEimho8c7ZzhORPObZe0ZjgP036EZFnW3vvsd+3AG8e/Oun1SVNuHnSX9n07y7IaN65Qb8Zor/DZ515xNm1PNGnS9G9X/uOJZ57/6LMvXnh54rUDb2y/WwdtHi3qSCRTNVt+6dCxkzpbh46dHn9qnJ12fFe9Zcr0WUOGPdi8eQt1Hmf6qn9ep92GItvkxs3SfrcO/Qdc/cy4lye/9+Hd99z/l5NPczanTQgM0pz7bGg/XBfg3piVcFYzJ5KpdRt/2nGnnVTn8vL6A2+4xf7JnOVrNrz6xrvafVCdmbW9yz2y9py777HX1dde/+Irb7zx1rRbbx/c/diezhrsidLS0rSXZGp/eGSido44IRMEaRmrFC/UJkCQJuQoTtsM7aMc7X0sq4fad38HD31AXfyII49yf3l96gefqtcf1Csv/3j2Aq2dvftepK7HsqwDuhx486C7Xp805bPPF49/dVK/iy7VToEOOfRwraYHWLyKUhRq/VQrqLOprD5SJEjT9lXhDwnSaitWvO5XgCCtKAe7+5YqJSUll/e/yuP30qZ/NOfc8/poNfScXr092p/DhbbvTf9E3UR5ef1Mv9fw0muT1UsY65WXu3My7Q+ltFccBnhxTFZVT+1msEFaUJcxBXINU62nHNG9MNRjz4/iSwRpfosW85koQJBm4qjSp4AEzA7SEsmU+xez3D+ENvCGm9XztlqnKyoqP/rsi1rPBpauqtEu9LYsa8SjT3kvmOkjpFpbdcfge9OuWbvXRK3radWqddrL6LRbXjjr2WGHJtoX45yX1IlmzZsff+LJTguzTW7efPt9N6a6fnVau3BeQpD22pvvqS20LKtZ8+atWrcpLS11TOyJoPbGrISzmtlu57UDb9R6ZD9s0KChtj+UlJTsf0AXZ2afQZozf6aJfhddqtHZD/1Tp128WE8SpAVU0+K4GoK0Yh22frZboCDtkzlf1q/fwHl7bNCg4Zwvvk7bnr9f/S9nNsuy3Dd4XPjtau2La+r87umGDRvNnr/Eva2gilfOZ0H5FAU/n2oFcjaV1UeKBGnu3UzyMwRpcSzAhekzQVpRjvTV65MHdj3YXfV23GmnU04747a7hj7y+DNjnn9l1Ohnb7tr6JV//+ehhx3hnnnX9rstWVbl0f4cLrRdW/N923a7aNs64sijho8cPfm9DxcsXjFj1udPj33puOP/ol31kvZrWFqQlvaKwwAvjsmq6ql9DDZIU9ec7bR6GVMg1zD5OeXwM0weuxkvBSJAkFaYEsdaoyFAkBaNcaKVRREwPkhbsqyqWfPm6glTixYt3d/ceuzJsepnUur82nTdevXGT3jTZ23u0fNEdfGGDRu57y2prUr9COmpMS+2btNWXUOm6ev+/R9tPc7DFWs3/unPR2daUHu+/W4d3LdhtFdVvWmrx7e+1PW0aNFy0rsfNN1xR/VJy7LqlZc7rcohuRnz/Ct+srS6deuOfWHCXnvv62xdQpBWteHHioo/3GjUaZ5j4kwEsjdmJZzVzHY7V63bfECXA51eeEwMumPIf26905nBI0jr0fPE/fbv7MzpMXH6medoX+Zz9LKidpYq+gRBWlEqoBkbJUgr+vHr0YBCBGnrNv7U+cCu6jvk3ffcn6kNa2r+27Hj7urM7l85XbF24zHdj1PnyTRdXl7/kcefybStQIqXehYUWlHw86lWIGdTWX2kSJCWaU+T+TxBmhklVUIvCNKKdYwvXVWT1ZUlWq1s0qTpJ3O+9G58bhfaun/mQNu0+2Gr1m0Wfrva3RifVxwGdXFMVlVP7YXAIC2oa5j8nHL4HCb3+PJMgAIEaRIKIm0olgBBWrHk2W4EBKIYpH34ybysCuSY5/XbG6aNnabNmN2mbTv1BE6bLikpOadX77SpTKb2aN/i6nV+30xzOs+rHyG9NWXG18vXHXf8X7SWqA9btWr9zLiXncXTTqyt+f7Gm2/XvqelrsSyrLKysov/+jd3xKiucG3N9337XaJ930hdT1lZ2YUXX7Z46dpEMvWv629SX9KCtFXrNpeX13dmePWNd9UNZZqeMn2Wd3izy67t35v+SSKZcoK00tJS7ffe7JVfcll/Z+uWZb0/c4620XUbf1J/FW/4yNHaDNrDAf+41lnhX04+TXs1kUxpXwtwZnbPmUim8t8bsxLOamanwYuXrj3+xJOdjrgnmjRtOu7FVxPJlBqkaTeyV3f4c3r1XrY60bffJe5VOc80blxx5+D7qjdtdZrhnsiK2r14UZ4hSItAvZTaRIK0ohyzPjcaYJA28Iab7Y0+8czzzluiZVmHHf4n7UaLWtvefPt99Sr1iorKqg0/avOs2/jThRdflvZ3Rp1tHXvcCWm/i6auKv/iVZSisGDxCvXcxn0DTLuP+Z9NBX5qoeIzXVwBgjSpRTJ67SJIK+KxvGRZ1amnn+UUPv8Trdu0ffOd6X5ansOFtolkSvslNu+GNWjQcNqHn6VtjP8rDgO5OMaYIC3Aa5j8BGn+hyntKPNkIAIEadErn7Q4OAGCtOAsWZNxApEI0gIphH5Wsrbm+6fGvHjKaWd27Li7/eWnOnXqdOjYqecJJ/UfcPX0j/SspdZ1ah/oT5j4Tq2LpJ1h4uSp5/Xp1363Dnb4VFZW1qpV6+OO/8uIR59aWbUp7SLuJxctXXPPvQ91P7bnzju3sntXWlrarHnzQw49/D+33vnpvEXuRdI+M/2jOVdfe/3xJ568y67t7c/mdtihSecDu15/462z5i10Fqna8OP1N97aqlVre56GDRsd3e1Y59WcJ9Zv/vn5l14/r0+/XdvvZmuUlpa2aNHyqG7dR4x60v7NtpxXXugFx094c/8Dujg/j9ywYaP99u+caaOB742ZNpTn8y+//lbvvhftsmt7+6b8JSUlzZo3P+zwPw29b3itvyOYSKa0z0ztxkyZPuvy/ld17Li7/T3RkpKSnZo1O/yII+8act+ipWv8NDgraj8rLPQ8BGnGVdfwOkSQVujDMz7rX/pd4rEnx551znlNmjS1P6Rr3abtMd2Pu7z/Vc+Nf82nQ57FS35RCOpsyqcns0VFgCAtvLJn+pYI0op+1L/02uQDOv9+X3rv1KpFi5bXDryx1rvOOJ3K4UJbe9nHnxrXqlVr78bUrVfvwosv877wV/uAwlmh00JnIv+LY7K6fKRJ0+3nHpZleX8jrVXrNk6ztWs07cYHfhlTgNcw+bx2x/8wOePFRLACBGmmF1v65yVAkOalw2sxFyBIy1RuqzdtXb5mQ6bbx2VaSn1+3cafWrRo6ZzktWrdxvuacXVZj+kVazd6fx3HY1nnpZotvyxfsyH/9axen1xb872z2rQTa2u+9/+nRdo1eDy5Yu3GfMbIY80FfWn5mg21uqkNyH9vVNdWuOkchiPtZ6ZqC1dWbXJ/eUKdwXs6W2rvtRXuVYK0mNfifLpPkFa4AzO2a67Z8suqdZtXr0/mKZBD8YpWUQjqbCpPZxaXIECQlk8hY1lVgCBNwhGdSKbmfPH1oDuG9DzhpH323X+HHZrYf9SXl9fv2HH3bsf0uODCv9548+3jX52U7R/UWkCS1YW2q9ZtHnr/wxdc+NeDDj7UudlMk6ZND+hy4Kmnn/Wv629asHiFHz3/VxzmeXGMn8YwTyYB/8OUaQ08n48AQZpamJiOmwBBWtxGnP5mIUCQlk9x9V527AsTnBTNsqx/XDPQe35eRSCGArV+ZhoTE4K0LOoWs/5RgCAtJu8SMekmRSEmA21eNwnS/liaeJS7AEGazPeH76q3LF+zoWbLL/k0L8ALbWu2/LJi7cY8L1fN6orDHC6OyceKZR2BrIbJWYqJPAUI0nIvYywZfQGCtOiPIT0omABBWp711WPxPx99jBqkZfrJDY818BICxgvwmak9xARpBaty5q+YIM3498lYdZCiEKvhNqmzBGnml9uwekiQZtI7g9YXLrTVQHiIgFgBgrSwih7bkShAkCZxVGiTEAGCtAJV7hGjnlRTtM4Hdi3QhlgtApEW4DNTe/gI0oTUxCg2gyAt0u+BNF4ToChoIDyMigBBWhQLqMw2E6RF5ajPoZ1caJsDGosgUBQBgjSZJZJWhSNAkBaOM1uJpABBWoBVecLEdx54+NFRo5/t2++Sxo0r1CBtxKgnA9wQq0LAGAE+M7WHkiAtkhVURqMJ0ox5P6QjiWSKosBuEFEBgjQZJdGEVhCkRfRNoNZmc6FtrUTMgIAcAYI0EwoqfchVgCAtVzmWi4EAQVqApVr99EdN0drv1mHdxp8C3BCrQsAYAfWoOadXb2P6lW1HCNJiUG8L1UWCtGwPN+aXLEBRkDw6tM1DgCCtUEUufuslSPM40CL3EhfaRm7IaDACtgBBWvzKLz3+XYAg7XcLphDQBAjSAjxRUD/9cYK0srKysS9MCHArrAoBkwTUo4YgTXt/5iECfgQI0kx6fAjv3gAAIABJREFUS6QvFAX2gYgKEKT5KVjM40eAIC2ibwJpm60WNefzAcuyuNA2LRdPIiBHgCDNT8FiHlMFCNJMHVn6FYAAQVqApdp9olxWVvbI488EuAlWhYBhAupRQ5AWwHs6q4ifAEGaYe+KMe8ORSHmO0B0u0+QFr/yW6geE6RF933A3XK1qDlBGhfauqF4BgFpAgRphSpyrDcKAgRpURgl2lgkAYK0AAv23ffcf/gRR5aX1y8pKWnTtt15ffp9Om9RgOtnVQiYJ6D+efmPawaa10GfPeLWjkWqgSZsliDN51HGbJEQoChEYphopFuAIM2EgiqjDwRp7uMrus+oRc0O0rjQNrqjSctjJUCQJqMk0oriCBCkFcedrUZCgCAt8LOBqg0/rl6fDHy1rBABIwVWVm1a+l3C/rd+889G9tFPpwjSIlExZTaSIM3PIcY8URGgKERlpGinJkCQJrNERrFVBGnawRXph1xoG+nho/FxFiBIi2IBpc1BCRCkBSXJegwUIEiL88kBfUcAASECBGkG1tewukSQJuQophkIIBBnAYK0sIqe+dshSDPvnYQLbc0bU3pkvABBmvnllh5mFiBIy2zDK7EXIEgz/gyADiKAgHwBgrTYV+PcAQjS5B/gtBABBIwXIEjLvYyx5B8FCNKMf7uggwggIF+AIO2PpYlH8RIgSIvXeNPbrAQI0uSXcFqIAALGCxCkZVW5mFkVIEgz/v2BDiKAgHwBgjS1MDGdjwBBmvzjnRYigIDxAgRp+RQylo26AEFa1EeQ9hdQgCDN+DMAOogAAvIFCNIKWOdMXzVBmvwDnBYigIDxAgRpphfb8PpHkGb82wUdRAAB+QIEaeGVPbYkT4AgTd6Y0CIxAgRp8ks4LUQAAeMFCNLEVMXoNYQgzfj3BzqIAALyBQjSolc+pbaYIE3+8U4LEUDAeAGCNKlFknaFIUCQFoYy24ioAEGa8WcAdBABBOQLEKRFtIZKaDZBmvwDnBYigIDxAgRpEgqiGW0gSDP+7YIOIoCAfAGCNDNKKr3ITYAgLTc3loqFAEGa/BJOCxFAwHgBgrRYVNzCdJIgzfj3BzqIAALyBQjSClPi4rhWgjT5xzstRAAB4wUI0uJYgOnzbwIEab9J8H8EXAIEacafAdBBBBCQL0CQ5qpOPOFXgCBN/gFOCxFAwHgBgjS/RYv5ahMgSDP+7YIOIoCAfAGCtNqKFa+bLECQZvLo0rc8BQjS5JdwWogAAsYLEKTlWcvivDhBmvHvD3QQAQTkCxCkxbkQB9t3gjT5xzstRAAB4wUI0oItbawtWgIEadEaL1obqgBBmvFnAHQQAQTkCxCkhVr5zNoYQZr8A5wWIoCA8QIEaWaV1mL2hiDN+LcLOogAAvIFCNKKWQjZdrEFCNKKPQJsX7AAQZr8Ek4LEUDAeAGCNMF1UnrTCNKMf3+ggwggIF+AIE16sYxO+wjS5B/vtBABBIwXIEiLTtmkpcELEKQFb8oajREgSDP+DIAOIoCAfAGCNGOqavgdIUiTf4DTQgQQMF6AIC388mfqFgnSjH+7oIMIICBfgCDN1CJLv/wIEKT5UWKemAoQpMkv4bQQAQSMFyBIi2kNDqLbBGnGvz/QQQQQkC9AkBZEQWMdvwoQpMk/3mkhAggYL0CQRkmOswBBWpxHn77XIkCQZvwZAB1EAAH5AgRptdQqXs4sQJAm/wCnhQggYLwAQVrmMsUr2QkQpBn/dkEHEUBAvgBBWnali7nNEiBIM2s86U2gAgRp8ks4LUQAAeMFCNICrWzxWhlBmvHvD3QQAQTkCxCkxav0FrK3BGnyj3daiAACxgsQpBWy0LFu6QIEadJHiPYVUYAgzfgzADqIAALyBQjSilgHo75pgjT5BzgtRAAB4wUI0qJeTOW0nyDN+LcLOogAAvIFCNLklEVaEr4AQVr45mwxMgIEafJLOC1EAAHjBQjSIlM15TWUIM349wc6iAAC8gUI0uSVx6i2iCBN/vFOCxFAwHgBgrSoFlHaHYQAQVoQiqzDUAGCNOPPAOggAgjIFyBIM7TGhtEtgjT5BzgtRAAB4wUI0sIoePHYBkGa8W8XdBABBOQLEKTFo+TSy/QCBGnpXXgWgW3bthGkyS/htBABBIwXIEijIucsQJBm/PsDHUQAAfkCBGk5VzEW1AQI0uQf77QQAQSMFyBI02oTD2MlQJAWq+Gms9kJEKQZfwZABxFAQL4AQVp2pYu5FQGCNPkHOC1EAAHjBQjSlLrEZF4CBGnGv13QQQQQkC9AkJZXJWPhiAsQpEV8AGl+IQUI0uSXcFqIAALGCxCkFbLQGb5ugjTj3x/oIAIIyBcgSDO81obYPYI0+cc7LUQAAeMFCNJCrHtsSpwAQZq4IaFBcgQI0ow/A6CDCCAgX4AgTU5ZjFxLCNLkH+C0EAEEjBcgSItc9RTbYII0498u6CACCMgXIEgTWyVpWAgCBGkhILOJqAoQpMkv4bQQAQSMFyBIi2oRFdBugjTj3x/oIAIIyBcgSBNQDw1pAkGa/OOdFiKAgPECBGmG1FS6kZMAQVpObCwUDwGCNOPPAOggAgjIFyBIi0fJLUgvCdLkH+C0EAEEjBcgSCtIhYvlSgnSjH+7oIMIICBfgCAtlhWYTm8XIEhjV0AgowBBmvwSTgsRQMB4AYK0jFWKF2oTIEgz/v2BDiKAgHwBgrTaihWv+xUgSJN/vNNCBBAwXoAgzW/RYj4TBQjSTBxV+hSQAEGa8WcAdBABBOQLEKQFVNPiuBqCNPkHOC1EAAHjBQjS4liAC9NngjTj3y7oIAIIyBcgSCtMiWOt0RAgSIvGONHKoggQpMkv4bQQAQSMFyBIK0oFNGOjBGnGvz/QQQQQkC9AkGZGSZXQC4I0+cc7LUQAAeMFCNIkFETaUCwBgrRiybPdCAgQpBl/BkAHEUBAvgBBWgTqpdQmEqTJP8BpIQIIGC9AkCa1SEavXQRpxr9d0EEEEJAvQJAWvfJJi4MTIEgLzpI1GSdAkCa/hNNCBBAwXoAgzbjqGl6HCNKMf3+ggwggIF+AIC28smf6lgjS5B/vtBABBIwXIEgzvdjSPy8BgjQvHV6LuQBBmvFnAHQQAQTkCxCkxbwW59N9gjT5BzgtRAAB4wUI0vIpZCyrChCkGf92QQcRQEC+AEGaWpiYjpsAQVrcRpz+ZiFAkCa/hNNCBBAwXoAgLYu6xax/FCBIM/79gQ4igIB8AYK0P5YmHuUuQJAm/3inhQggYLwAQVruZYwloy9AkBb9MaQHBRMgSDP+DIAOIoCAfAGCtIJVOfNXTJAm/wCnhQggYLwAQZr55TasHhKkGf92QQcRQEC+AEFaWEWP7UgUIEiTOCq0SYgAQZr8Ek4LEUDAeAGCNCE1MYrNIEgz/v2BDiKAgHwBgrQoFlCZbSZIk3+800IEEDBegCBNZomkVeEIEKSF48xWIilAkGb8GQAdRAAB+QIEaZGsoDIaTZAm/wCnhQggYLwAQZqMkmhCKwjSjH+7oIMIICBfgCDNhIJKH3IVIEjLVY7lYiBAkCa/hNNCBBAwXoAgLQb1tlBdJEgz/v2BDiKAgHwBgrRCFbn4rZcgTf7xTgsRQMB4AYK0+JVfevy7AEHa7xZMIaAJEKQZfwZABxFAQL4AQZpWm3joX4AgTf4BTgsRQMB4AYI0/2WLOb0FCNKMf7uggwggIF+AIM27VPGq2QIEaWaPL73LS4AgTX4Jp4UIIGC8AEFaXpUs3gsTpBn//kAHEUBAvgBBWrxLcZC9J0iTf7zTQgQQMF6AIC3Iwsa6oiZAkBa1EaO9IQoQpBl/BkAHEUBAvgBBWoh1z7RNEaTJP8BpIQIIGC9AkGZacS1efwjSjH+7oIMIICBfgCCteGWQLRdfgCCt+GNAC8QKEKTJL+G0EAEEjBcgSBNbJeU3jCDN+PcHOogAAvIFCNLkl8uotJAgTf7xTgsRQMB4AYK0qBRN2lkIAYK0QqiyTkMECNKMPwOggwggIF+AIM2QmlqMbhCkyT/AaSECCBgvQJBWjAJo5jYJ0ox/u6CDCCAgX4AgzcwSS6/8CRCk+XNirlgKEKTJL+G0EAEEjBcgSItlBQ6m0wRpxr8/0EEEEJAvQJAWTEljLdu2EaTJP95pIQIIGC9AkEZBjrMAQVqcR5++1yJAkGb8GQAdRAAB+QIEabXUKl7OLECQJv8Ap4UIIGC8AEFa5jLFK9kJEKQZ/3ZBBxFAQL4AQVp2pYu5zRIgSDNrPOlNoAIEafJLOC1EAAHjBQjSAq1s8VoZQZrx7w90EAEE5AsQpMWr9BaytwRp8o93WogAAsYLEKQVstCxbukCBGnSR4j2FVGAIM34MwA6iAAC8gUI0opYB6O+aYI0+Qc4LUQAAeMFCNKiXkzltJ8gzfi3CzqIAALyBQjS5JRFWhK+AEFa+OZsMTICBGnySzgtRAAB4wUI0iJTNeU1lCDN+PcHOogAAvIFCNLklceotoggTf7xTgsRQMB4AYK0qBZR2h2EAEFaEIqsw1ABgjTjzwDoIAIIyBcgSDO0xobRLYI0+Qc4LUQAAeMFCNLCKHjx2AZBmvFvF3QQAQTkCxCkxaPk0sv0AgRp6V14FoFt27YRpMkv4bQQAQSMFyBIoyLnLECQZvz7Ax1EAAH5AgRpOVcxFtQECNLkH++0EAEEjBcgSNNqEw9jJUCQFqvhprPZCRCkGX8GQAcRQEC+AEFadqWLuRUBgjT5BzgtRAAB4wUI0pS6xGReAgRpxr9d0EEEEJAvQJCWVyVj4YgLEKRFfABpfiEFCNLkl3BaiAACxgsQpBWy0Bm+boI0498f6CACCMgXIEgzvNaG2D2CNPnHOy1EAAHjBQjSQqx7bEqcAEGauCGhQXIECNKMPwOggwggIF+AIE1OWYxcSwjS5B/gtBABBIwXIEiLXPUU22CCNOPfLuggAgjIFyBIE1slaVgIAgRpISCziagKEKTJL+G0EAEEjBcgSItqERXQboI0498f6CACCMgXIEgTUA8NaQJBmvzjnRYigIDxAgRphtRUupGTAEFaTmwsFA8BgjTjzwDoIAIIyBcgSItHyS1ILwnS5B/gtBABBIwXIEgrSIWL5UoJ0ox/u6CDCCAgX4AgLZYVmE5vFyBIY1dAIKMAQZr8Ek4LEUDAeAGCtIxVihdqEyBIM/79gQ4igIB8AYK02ooVr/sVIEiTf7zTQgQQMF6AIM1v0WI+EwUI0kwcVfoUkABBmvFnAHQQAQTkCxCkBVTT4rgagjT5BzgtRAAB4wUI0uJYgAvTZ4I0498u6CACCMgXIEgrTIljrdEQIEiLxjjRyqIIEKTJL+G0EAEEjBcgSCtKBTRjowRpxr8/0EEEEJAvQJBmRkmV0AuCNPnHOy1EAAHjBQjSJBRE2lAsAYK0Ysmz3QgIEKQZfwZABxFAQL4AQVoE6qXUJhKkyT/AaSECCBgvQJAmtUhGr10Eaca/XdBBBBCQL0CQFr3ySYuDEyBIC86SNRknQJAmv4TTQgQQMF6AIM246hpehwjSjH9/oIMIICBfgCAtvLJn+pYI0uQf77QQAQSMFyBIM73Y0j8vAYI0Lx1ei7kAQZrxZwB0EAEE5AsQpMW8FufTfYI0+Qc4LUQAAeMFCNLyKWQsqwoQpBn/dkEHEUBAvgBBmlqYmI6bAEFa3Eac/mYhQJAmv4TTQgQQMF6AIC2LusWsfxQgSDP+/YEOIoCAfAGCtD+WJh7lLkCQJv94p4UIIGC8AEFa7mWMJaMvQJAW/TGkBwUTIEgz/gyADiKAgHwBgrSCVTnzV0yQJv8Ap4UIIGC8AEGa+eU2rB4SpBn/dkEHEUBAvgBBWlhFj+1IFCBIkzgqtEmIAEGa/BJOCxFAwHgBgjQhNTGKzSBIM/79gQ4igIB8AYK0KBZQmW0mSJN/vNNCBBAwXoAgTWaJpFXhCBCkhePMViIpQJBm/BkAHUQAAfkCBGmRrKAyGk2QJv8Ap4UIIGC8AEGajJJoQisI0ox/u6CDCCAgX4AgzYSCSh9yFSBIy1WO5WIgQJAmv4TTQgQQMF6AIC0G9bZQXSRIM/79gQ4igIB8AYK0QhW5+K2XIE3+8U4LEUDAeAGCtPiVX3r8uwBB2u8WTCGgCRCkGX8GQAcRQEC+AEGaVpt46F+AIE3+AU4LEUDAeAGCNP9lizm9BQjSjH+7oIMIICBfgCDNu1TxqtkCBGlmjy+9y0uAIE1+CaeFCCBgvABBWl6VLN4LE6QZ//5ABxFAQL4AQVq8S3GQvSdIk3+800IEEDBegCAtyMLGuqImQJAWtRGjvSEKEKQZfwZABxFAQL4AQVqIdc+0TRGkyT/AaaGHwNrED+ee33efffeb/N6HHrPxEgLCBQjSTCuuxesPQZrwg53mIYBAHAQI0opXBtly8QUI0oo/BrRArMC4cePue3Bk1YYf+YcAAgggUCyBMc+/Muzee8VWChomWeDPRx1drP2W7SKQv0CHDp2s3/5bvGxN/itkDQgUReDIPx/9v//7v5KLBW2LigBBWhw+o6ePCCAgXIAgLSpFk3YWQoAgrRCqrNMQgfnz5x900MHH9ujBPwQQQACBYgkcdPDB06ZNM6Su0I1wBa7o379Y+y3bRSB/gd9CtF//v/POO+e/QtaAQFEEehx33P/93/+F+/bP1swUuO2223r3vfDeB0fyDwEEEECgWAJ/u/KqK/r3N7PM0CsEahMgSKtNiNcRQAABBBBAAAEEEEAAgRAFhgwZogZpFRUVIW6cTSGAAAISBaqqql7kPwQQQACBYgusXLlSYpGgTQgUXoAgrfDGbAEBBBBAAAEEEEAAAQQQ8C3Qpk0bNUizLGvLli2+l2ZGBBBAAAEEEEAAAQQQQACBIAUI0oLUZF0IIIAAAggggAACCCCAQJ4CJSUlWpDWt2/fPNfJ4ggggAACCCCAAAIIIIAAArkJEKTl5sZSCCCAAAIIIIAAAggggEDwAtp9He1ErbKyMvgtsUYEEEAAAQQQQAABBBBAAAEfAgRpPpCYBQEEEEAAAQQQQAABBBAIRcB9X0c7S+PujqHwsxEEEEAAAQQQQAABBBBAQBcgSNNFeIwAAggggAACCCCAAAIIFEvAfV9HO0jj7o7FGhG2iwACCCCAAAIIIIAAAjEXIEiL+Q5A9xFAAAEEEEAAAQQQQECKgHpfx5KSks6dOzs/lsbdHaUMEu1AAAEEEEAAAQQQQACBmAkQpMVswOkuAggggAACCCCAAAIISBVQ7+vYunXrd955xwnSLMvi7o5Sx412IYAAAggggAACCCCAgMkCBGkmjy59QwABBBBAAAEEEEAAgQgJqPd1HDx48LZt28rKypwsjbs7RmgoaSoCCCCAAAIIIIAAAggYI0CQZsxQ0hEEEEAAAQQQQAABBBCIsIB2X0e7J9zdMcIjStMRQAABBBBAAAEEEEDACAGCNCOGkU4ggAACCCCAAAIIIIBAxAW0+zraveHujhEfVZqPAAIIIIAAAggggAACkRcgSIv8ENIBBBBAAAEEEEAAAQQQMEDAfV9Hu1Pc3dGAwaULCCCAAAIIIIAAAgggEF0BgrTojh0tRwABBBBAAAEEEEAAAUME0t7X0e4bd3c0ZIzpBgIIIIAAAggggAACCERTgCAtmuNGqxFAAAEEEEAAAQQQQMAggbT3dbT7x90dDRpnuoIAAggggAACCCCAAALREyBIi96Y0WIEEEAAAQQQQAABBBAwTCDTfR3tbnJ3R8OGm+4ggAACCCCAAAIIIIBAhAQI0iI0WDQVAQQQQAABBBBAAAEEDBTwuK+j3Vvu7mjgqNMlBBBAAAEEEEAAAQQQiIgAQVpEBopmIoAAAggggAACCCCAgKECHvd1tHvM3R0NHXm6hQACCCCAAAIIIIAAAhEQIEiLwCDRRAQQQAABBBBAAAEEEDBYwPu+jnbHubujwTsAXUMAAQQQQAABBBBAAAHJAgRpkkeHtiGAAAIIIIAAAggggIDhArXe19Huv3p3x4qKCsNR6B4CCCCAAAIIIIAAAgggIEaAIE3MUNAQBBBAAAEEEEAAAQQQiJ9Arfd1tEm4u2P8dg16jAACCCCAAAIIIIAAAiIECNJEDAONQAABBBBAAAEEEEAAgXgK+Lmvoy2j3t2xT58+8eSi1wgggAACCCCAAAIIIIBAyAIEaSGDszkEEEAAAQQQQAABBBBAYLuAz/s62nNzd0f2GwQQQAABBBBAAAEEEEAgfAGCtPDN2SICCCCAAAIIIIAAAggg8KuAz/s62ljc3ZGdBgEEEEAAAQQQQAABBBAIX4AgLXxztogAAggggAACCCCAAAII/Crg/76Othd3d2S/QQABBBBAAAEEEEAAAQRCFiBICxmczSGAAAIIIIAAAggggAACvwoMHjzY+u2/kpISPyjc3dGPEvMggAACCCCAAAIIIIAAAgEKEKQFiMmqEEAAAQQQQAABBBBAAAG/Aq1bt/4tR7Nat27tZzHu7uhHiXkQQAABBBBAAAEEEEAAgQAFCNICxGRVCCCAAAIIIIAAAggggIBfgWzv62ivl7s7+vVlPgQQQAABBBBAAAEEEEAgCAGCtCAUWQcCCCCAAAIIIIAAAgggkI1ADvd1tFfP3R2zYWZeBBBAAAEEEEAAAQQQQCBfAYK0fAVZHgEEEEAAAQQQQAABBBDIViCH+zram+DujtlSMz8CCCCAAAIIIIAAAgggkI8AQVo+eiyLAAIIIIAAAggggAACCOQikNt9He0tcXfHXMRZBgEEEEAAAQQQQAABBBDISYAgLSc2FkIAAQQQQAABBBBAAAEEchXI+b6O9ga5u2Ou8CyHAAIIIIAAAggggAACCGQtQJCWNRkLIIAAAggggAACCCCAAAL5COR8X0d7o9zdMR98lkUAAQQQQAABBBBAAAEEshIgSMuKi5kRQAABBBBAAAEEEEAAgXwF8rmvo71t7u6Y7xiwPAIIIIAAAggggAACCCDgT4AgzZ8TcyGAAAIIIIAAAggggAACQQjkeV9Huwnc3TGIoWAdCCCAAAIIIIAAAggggEDtAgRptRsxBwIIIIAAAggggAACCCAQlECe93W0m8HdHYMaDtaDAAIIIIAAAggggAACCHgLEKR5+/AqAggggAACCCCAAAIIIBCkQP73dbRbw90dgxwV1oUAAggggAACCCCAAAIIZBAgSMsAw9MIIIAAAggggAACCCCAQNACgdzX0W4Ud3cMenBYHwIIIIAAAggggAACCCCQRoAgLQ0KTyGAAAIIIIAAAggggAAChRAI5L6OdsO4u2MhBoh1IoAAAggggAACCCCAAAKaAEGaBsJDBBBAAAEEEEAAAQQQQKBQAkHd19FuH3d3LNQ4sV4EEEAAAQQQQAABBBBA4DcBgrTfJPg/AggggAACCCCAAAIIIFBIgQDv62g3k7s7FnK4WDcCCCCAAAIIIIAAAggg8KsAQRr7AQIIIIAAAggggAACCCAQhkCA93W0m8vdHcMYNraBAAIIIIAAAggggAAC8RYgSIv3+NN7BBBAAAEEEEAAAQQQCEsg2Ps62q3m7o5hjR7bQQABBBBAAAEEEEAAgZgKEKTFdODpNgIIIIAAAggggAACCIQpEPh9He3Gc3fHMAeRbSGAAAIIIIAAAggggEAMBQjSYjjodBkBBBBAAAEEEEAAAQTCFgj8vo52B7i7Y9gDyfYQQAABBBBAAAEEEEAgZgIEaTEbcLqLAAIIIIAAAggggAACxRAoxH0d7X5wd8dijCfbRAABBBBAAAEEEEAAgbgIEKTFZaTpJwIIIIAAAggggAACCBRLoED3dbS7w90dizWsbBcBBBBAAAEEEEAAAQTiIECQFodRpo8IIIAAAggggAACCCBQTIEC3dfR7hJ3dyzm0LJtBBBAAAEEEEAAAQQQMF2AIM30EaZ/CCCAAAIIIIAAAgggUGyBwt3X0e4Zd3cs9gizfQQQQAABBBBAAAEEEDBWgCDN2KGlYwgggAACCCCAAAIIICBBoKD3dbQ7yN0dJQw0bUAAAQQQQAABBBBAAAEjBQjSjBxWOoUAAggggAACCCCAAAJSBAp6X0e7k9zdUcpg0w4EEEAAAQQQQAABBBAwToAgzbghpUMIIIAAAggggAACCCAgSaDQ93W0+8rdHSWNOW1BAAEEEEAAAQQQQAABcwQI0swZS3qCAAIIIIAAAggggAAC0gRCuK+j3WXu7iht6GkPAggggAACCCCAAAIImCFAkGbGONILBBBAAAEEEEAAAQQQkCgQwn0d7W5PmTLFUv7bsmWLRA7ahAACCCCAAAIIIIAAAghETYAgLWojRnsRQAABBBBAAAEEEEAgOgLh3NfR9uDujtHZL2gpAggggAACCCCAAAIIREaAIC0yQ0VDEUAAAQQQQAABBBBAIFoCod3X0Wbh7o7R2j1oLQIIIIAAAggggAACCERCgCAtEsNEIxFAAAEEEEAAAQQQQCB6AqHd19Gm4e6O0dtFaDECCCCAAAIIIIAAAgiIFyBIEz9ENBABBBBAAAEEEEAAAQSiKRDmfR1tIe7uGM09hVYjgAACCCCAAAIIIICAXAGCNLljQ8sQQAABBBBAAAEEEEAgugIh39fRhuLujtHdYWg5AggggAACCCCAAAIIyBQgSJM5LrQKAQQQQAABBBBAAAEEoi0Q8n0dbSzu7hjtnYbWI4AAAggggAACCCCAgDwBgjR5Y0KLEEAAAQQQQAABBBBAIPoC4d/X0Tbj7o7R33foAQIIIIAAAggggAACCAgSIEgTNBg0BQEEEEAAAQQQQAABBMwQKMp9HW067u5oxi5ELxBAAAEEEEAAAQQQQECIAEGakIGgGQgggAACCCCAAAIIIGCOQFHu62jzcXdHc3YjeoIAAggggAACCCCAAAICBAjSBAwCTUAAAQQQQAABBBBAAAGzBIp1X0dbkbs7mrU30RsEEEAAAQQQQAABBBAopgBBWjH12TaKogsSAAAgAElEQVQCCCCAAAIIIIAAAgiYJ1DE+zramNzd0bydih4hgAACCCCAAAIIIIBAsQQI0oolz3YRQAABBBBAAAEEEEDATIEi3tfRBuXujmbuWPQKAQQQQAABBBBAAAEEiiFAkFYMdbaJAAIIIIAAAggggAAC5goU976Otit3dzR3/6JnCCCAAAIIIIAAAgggEKoAQVqo3GwMAQQQQAABBBBAAAEEzBYo+n0dbd4uXbpYv/1XUVFhtjm9QwABBBBAAAEEEEAAAQQKJ0CQVjhb1owAAggggAACCCCAAAKxEyj6fR1tce7uGLs9jw4jgAACCCCAAAIIIIBAYQQI0grjyloRQAABBBBAAAEEEEAglgIS7utow9epU+e376RZffr0ieVo0GkEEEAAAQQQQAABBBBAIF8BgrR8BVkeAQQQQAABBBBAAAEEELAFhNzX0W4Md3dkt0QAAQQQQAABBBBAAAEE8hcgSMvfkDUggAACCCCAAAIIIIAAAr8KCLmvoz0Y3N2RnRIBBBBAAAEEEEAAAQQQyF+AIC1/Q9aAAAIIIIAAAggggAACCPwqIOe+jvZ4cHdH9ksEEEAAAQQQQAABBBBAIE8BgrQ8AVkcAQQQQAABBBBAAAEEEPhVQNR9He0h4e6O7JoIIIAAAggggAACCCCAQJ4CBGl5ArI4AggggAACCCCAAAIIIPCrgHpfxzZt2khA4e6OEkaBNiCAAAIIIIAAAggggECkBQjSIj18NB4BBBBAAAEEEEAAAQSkCKj3dRwyZIiQZnF3RyEDQTMQQAABBBBAAAEEEEAgogIEaREdOJqNAAIIIIAAAggggAACggQE3tfR1uHujoL2EpqCAAIIIIAAAggggAACERQgSIvgoNFkBBBAAAEEEEAAAQQQECYg8L6OthB3dxS2p9AcBBBAAAEEEEAAAQQQiJgAQVrEBozmIoAAAggggAACCCCAgEABmfd1tKG4u6PAHYYmIYAAAggggAACCCCAQFQECNKiMlK0EwEEEEAAAQQQQAABBIQKqPd1tCyrLIj/rP//X2lpaf4rs1flrFAoIs1CAAEEEEAAAQQQQAABBEQKEKSJHBYahQACCCCAAAIIIIAAAtERaNu2rRpWCZ+urq6ODi0tRQABBBBAAAEEEEAAAQSKLECQVuQBYPMIIIAAAggggAACCCAQdYGdd95ZeHimNm/hwoVRB6f9CCCAAAIIIIAAAggggEBoAgRpoVGzIQQQQAABBBBAAAEEEDBTYMKECervkKmplbTpsrIyM8eAXiGAAAIIIIAAAggggAAChREgSCuMK2tFAAEEEEAAAQQQQACBmAnMnTt3VkD/1a1b10ngBg0aFMhaP/744yVLlsRsTOguAggggAACCCCAAAIIIJCvAEFavoIsjwACCCCAAAIIIIAAAggEK1CvXj0nSBs7dmywK2dtCCCAAAIIIIAAAggggAAC/gUI0vxbMScCCCCAAAIIIIAAAgggEIYAQVoYymwDAQQQQAABBBBAAAEEEPAhQJDmA4lZEEAAAQQQQAABBBBAAIEQBQjSQsRmUwgggAACCCCAAAIIIICAlwBBmpcOryGAAAIIIIAAAggggAAC4QsQpIVvzhYRQAABBBBAAAEEEEAAgbQCBGlpWXgSAQQQQAABBBBAAAEEECiaAEFa0ejZMAIIIIAAAggggAACCCDwRwGCtD968AgBBBBAAAEEEEAAAQQQKLYAQVqxR4DtI4AAAggggAACCCCAAALbBQjS2BUQQAABBBBAAAEEEEAAAVkCBGmyxoPWIIAAAggggAACCCCAQIwFCNJiPPh0HQEEEEAAAQQQQAABBEQKEKSJHBYahQACCCCAAAIIIIAAAnEUIEiL46jTZwQQQAABBBBAAAEEEJAsQJAmeXRoGwIIIIAAAggggAACCMRKgCAtVsNNZxFAAAEEEEAAAQQQQCACAgRpERgkmogAAggggAACCCCAAALxECBIi8c400sEEEAAAQQQQAABBBCIjgBBWnTGipYigAACCCCAAAIIIICA4QIEaYYPMN1DAAEEEEAAAQQQQACByAkQpEVuyGgwAggggAACCCCAAAIImCpAkGbqyNIvBBBAAAEEEEAAAQQQiKoAQVpUR452I4AAAggggAACCCCAgHECBGnGDSkdQgABBBBAAAEEEEAAgYgLEKRFfABpPgIIIIAAAggggAACCJgjQJBmzljSEwQQQAABBBBAAAEEEDBDgCDNjHGkFwgggAACCCCAAAIIIGCAAEGaAYNIFxBAAAEEEEAAAQQQQMAoAYI0o4aTziCAAAIIIIAAAggggECUBQjSojx6tB0BBBBAAAEEEEAAAQRMFCBIM3FU6RMCCCCAAAIIIIAAAghEUoAgLZLDRqMRQAABBBBAAAEEEEDAYAGCNIMHl64hgAACCCCAAAIIIIBAtAQI0qI1XrQWAQQQQAABBBBAAAEEzBcgSDN/jOkhAggggAACCCCAAAIIRESAIC0iA0UzEUAAAQQQQAABBBBAIDYCBGmxGWo6igACCCCAAAIIIIAAAtIFCNKkjxDtQwABBBBAAAEEEEAAgbgJEKTFbcTpLwIIIIAAAggggAACCIgVIEgTOzQ0DAEEEEAAAQQQQAABBGIqQJAW04Gn2wgggAACCCCAAAIIICBPgCBN3pjQIgQQQAABBBBAAAEEEIi3AEFavMef3iOAAAIIIIAAAggggIAgAYI0QYNBUxBAAAEEEEAAAQQQQACBbdu2EaSxGyCAAAIIIIAAAggggAACQgQI0oQMBM1AAAEEEEAAAQQQQAABBLYLEKSxKyCAAAIIIIAAAggggAACQgQI0oQMBM1AAAEEEEAAAQQQQAABBLYLEKSxKyCAAAIIIIAAAggggAACQgQI0oQMBM1AAAEEEEAAAQQQQAABBLYLEKSxKyCAAAIIIIAAAggggAACQgQI0oQMBM1AAAEEEEAAAQQQQAABBLYLEKSxKyCAAAIIIIAAAggggAACQgQI0oQMBM1AAAEEEEAAAQQQQAABBLYLEKSxKyCAAAIIIIAAAggggAACQgQI0oQMBM1AAAEEEEAAAQQQQAABBLYLEKSxKyCAAAIIIIAAAggggAACQgQI0oQMBM1AAAEEEEAAAQQQQAABBLYLEKSxKyCAAAIIIIAAAggggAACQgQI0oQMBM1AAAEEEEAAAQQQQAABBLYLEKSxKyCAAAIIIIAAAggggAACQgQI0oQMBM1AAAEEEEAAAQQQQAABBLYLEKSxKyCAAAIIIIAAAggggAACQgQI0oQMBM1AAAEEEEAAAQQQQAABBLYLEKSxKyCAAAIIIIAAAggggAACQgQI0oQMBM1AAAEEEEAAAQQQQAABBLYLEKSxKyCAAAIIIIAAAggggAACQgQI0oQMBM1AAAEEEEAAAQQQQAABBLYLEKSxKyCAAAIIIIAAAggggAACQgQI0oQMBM1AAAEEEEAAAQQQQAABBLYLEKSxKyCAAAIIIIAAAggggAACQgQI0oQMBM1AAAEEEEAAAQQQQAABBLYLEKSxKyCAAAIIIIAAAggggAACQgQI0oQMBM1AAAEEEEAAAQQQQAABBLYLEKSxKyCAAAIIIIAAAggggAACQgQI0oQMBM1AAAEEEEAAAQQQQAABBLYLEKSxKyCAAAIIIIAAAggggAACQgQI0oQMBM1AAAEEEEAAAQQQQAABBLYLEKSxKyCAAAIIIIAAAggggAACQgQI0oQMBM1AAAEEEEAAAQQQQAABBLYLEKSxKyCAAAIIIIAAAggggAACQgQI0oQMBM1AAAEEEEAAAQQQQAABBLYLEKSxKyCAAAIIIIAAAggggAACQgQI0oQMBM1AAAEEEEAAAQQQQAABBLYLEKSxKyCAAAIIIIAAAggggAACQgQI0oQMBM1AAAEEEEAAAQQQQAABBLYLEKSxKyCAAAIIIIAAAggggAACQgQI0oQMBM1AAAEEEEAAAQQQQAABBLYLEKSxKyCAAAIIIIAAAggggAACQgQI0oQMBM1AAAEEEEAAAQQQQAABBLYLEKSxKyCAAAIIIIAAAggggAACQgQI0oQMBM1AAAEEEEAAAQQQQAABBLYLEKSxKyCAAAIIIIAAAggggAACQgQI0oQMBM1AAAEEEEAAAQQQQAABBLYLEKSxKyCAAAIIIIAAAggggAACQgQI0oQMBM1AAAEEEEAAAQQQQAABBLYLEKSxKyCAAAIIIIAAAggggAACQgQI0oQMBM1AAAEEEEAAAQQQQAABBLYLEKSxKyCAAAIIIIAAAggggAACQgQI0oQMBM1AAAEEEEAAAQQQQAABBLYLEKSxKyCAAAIIIIAAAggggAACQgQI0oQMBM1AAAEEEBAk8PPPP//IfwgggAACCBRPoG7dutZv/40dO1ZQjaQpCCCAAAIIIIAAAggggEDMBAjSYjbgdBcBBBBAwFOgurq6Z8+ev310yf8RQAABBBAovsAZZ5wxnP8QQAABBBAIS2Dy5Mn/8z//4/lnEy8igAACCCAQLwGCtHiNN71FAAEEEPAWuO2224r/iSktQAABBBBAAAEEEEAAAQSKJ3DWWWd5/93EqwgggAACCMRKgCAtVsNNZxFAAAEEahG44oorivfnKltG4P+xdx9gklSF3vB7dtmE7LoLLEiSsCCSg6AYyCB+6FURRBERMIuKcoULiiiiKIgBEVRAFAQEyckXAQkiOWdcMiywQxoDwrz3vdeH77lffdZbVs/0dDhddarrx7PPQ3V31Qm/c2a6uv7VZwgQIECAAAECBAgQKF9gaGjov//7vyf47ORlAgQIECBQGwFBWm2GWkcJECBAoA2BXJD2Bv8RIECAAIEyBBZddNHyL6NqAQECBAjUWOA///M/2/j8ZBcCBAgQIFALAUFaLYZZJwkQIECgTYFskHbllVe2eZTdCBAgQIBAWIHtt98+vXh78MEHH+M/AgQIECDQf4H0rafRaAjSwr6zK40AAQIEKi0gSKv08Gk8AQIECAQWEKQFBlUcAQIECHQlkA3SHnzwwa7KcBABAgQIEOhMYO21106zNEFaZ3b2JkCAAIGBFhCkDfTw6hwBAgQIdCggSOsQzO4ECBAg0BcBQVpfWBVKgAABAi0FBGktebxIgAABAvUVEKTVd+z1nAABAgSaBQRpzSaeIUCAAIHiBQRpxZurkQABAgQEaeYAAQIECBAYU0CQNiaLJwkQIECgpgKCtJoOvG4TIEAgMgFBWmQDojkECBCohYAgrRbDrJMECBAg0LmAIK1zM0cQIECAwOAKCNIGd2z1jAABAlUSEKRVabS0lQABAoMiIEgblJHUDwIECBAILCBICwyqOAIECBCotIAgrdLDp/EECBAYGAFB2sAMpY4QIECgQgKCtAoNlqYSIECAQJECgrQitdVFgAABArELCNJiHyHtI0CAQD0EBGn1GGe9JECAQFwCgrS4xkNrCBAgQCAaAUFaNEOhIQQIECAQgYAgLYJB0AQCBAgQeEWQZhIQIECAQPECgrTizdVIgAABApUQEKRVYpg0kgABAgQKEhCkFQStGgIECBBoKSBIa8njRQIECBDoi4AgrS+sCiVAgACB6gsI0qo/hnpAgAABAuEEBGnhLJVEgAABAt0LCNK6t3MkAQIECHQrIEjrVs5xBAgQIDDgAoK0AR9g3SNAgACBjgQEaR1x2ZkAAQIE+iQgSOsTrGIJECBAoIWAIK0FjpcIECBAoM4CgrQ6j76+EyBAgEBeQJCWF/GYAAECBMoQEKSVoa5OAgQI1F1AkFb3GaD/BAgQIDCOgCBtHBhPEyBAgEAtBQRptRx2nSZAgEB0AoK06IZEgwgQIFADAUFaDQZZFwkQIECgGwFBWjdqjiFAgACBQRUQpA3qyOoXAQIEqiUgSKvWeGktAQIEBkNAkDYY46gXBAgQIBBcQJAWnFSBBAgQIFBhAUFahQdP0wkQIDBAAoK0ARpMXSFAgEBlBARplRkqDSVAgACBYgUEacV6q40AAQIE4hYQpMU9PlpHgACBuggI0uoy0vpJgACBmAQEaTGNhrYQIECAQEQCgrSIBkNTCBAgQKB0AUFa6UOgAQQIECDwyiuvCNJMAwIECBAoXkCQVry5GgkQIECgEgKCtEoMk0YSIECAQEECgrSCoFVDgAABAi0FBGktebxIgAABAn0REKT1hVWhBAgQIFB9AUFa9cdQDwgQIEAgnIAgLZylkggQIECgewFBWvd2jiRAgACBbgUEad3KOY4AAQIEBlxAkDbgA6x7BAgQINCRgCCtIy47EyBAgECfBARpfYJVLAECBAi0EBCktcDxEgECBAjUWUCQVufR13cCBAgQyAsI0vIiHhMgQIBAGQKCtDLU1UmAAIG6CwjS6j4D9J8AAQIExhEQpI0D42kCBAgQqKWAIK2Ww67TBAgQiE5AkBbdkGgQAQIEaiAgSKvBIOsiAQIECHQjIEjrRs0xBAgQIDCoAoK0QR1Z/SJAgEC1BARp1RovrSVAgMBgCAjSBmMc9YIAAQIEggsI0oKTKpAAAQIEKiwgSKvw4Gk6AQIEBkhAkDZAg6krBAgQqIyAIK0yQ6WhBAgQIFCsgCCtWG+1ESBAgEDcAoK0uMdH6wgQIFAXAUFaXUZaPwkQIBCTgCAtptHQFgIECBCISECQFtFgaAoBAgQIlC4gSCt9CDSAAAECBF555RVBmmlAgAABAsULCNKKN1cjAQIECFRCQJBWiWHSSAIECBAoSECQVhC0aggQIECgpYAgrSWPFwkQIECgLwKCtL6wKpQAAQIEqi8gSKv+GOoBAQIECIQTEKSFs1QSAQIECHQvIEjr3s6RBAgQINCtgCCtWznHESBAgMCACwjSBnyAdY8AAQIEOhIQpHXEZWcCBAgQ6JOAIK1PsIolQIAAgRYCgrQWOF4iQIAAgToLCNLqPPr6ToAAAQJ5AUFaXsRjAgQIEChDQJBWhro6CRAgUHcBQVrdZ4D+EyBAgMA4AoK0cWA8TYAAAQK1FBCk1XLYdZoAAQLRCQjSohsSDSJAgEANBARpNRhkXSRAgACBbgQEad2oOYYAgRYCn/jkp960yZs33Wxz/whUUWCttddZ4bUrJv/e+KZNqtgFbSaw6Wabr7TSyldffXWL39V1eOm+++67wn8EKivwpje9qfHP/04++eTK9kPD6y5w44031uEdJ9vH2267re6jrv9VFlh55ZX/+ebTuPTSS6vcFW2vtcAf//jHf/zjH9lfzrYJECDQo4AgrUdAhxMgkBfY/p3vfHjBc8Mjo/4RIECAQFkC3zvymFNOOSX/C7pmj1dddbX9v/I1/whUVODzX9z3U3vtnfz7jy8fVNFeaDaBV7969n//93/X6v1nqaWXNu4Eqiuw0sqrJEHajBmLVrcXWk5ghRVe+8gjj9Tq3UdnCRDot4Agrd/CyidQOwFBWlnXzdVLgACBVECQ9sorr2y22eYpiA0CBAgQKEVgs823rNt3At626WalUKuUQBCBiy65ao01115mmWV/ctyJQQpUCIFSBD6060ceffTR2l2P02ECBPopIEjrp66yCdRSQJBWymmiSgkQIJAVEKQJ0rLzwTYBAgTKEhCklSWvXgK9CDz9/Eu9HO5YAqULCNJqeT1Spwn0V0CQ1l9fpROooYAgrfRTRg0gQICAIE2Q5qeAAAECMQgI0mIYBW0gQIBA3QQEaTW8GqnLBPotIEjrt7DyCdROQJBWtzNU/SVAIEIBQZogLcJpqUkECNRQQJBWw0HXZQIECJQuIEir3bVIHSbQfwFBWv+N1UCgZgKCtNJPGTWAAAECgjRBmp8CAgQIxCAgSIthFLSBAAECdRMQpNXsSqTuEihCQJBWhLI6CNRKQJBWtzNU/SVAIEIBQZogLcJpqUkECNRQQJBWw0HXZQIECJQuIEir1XVInSVQjIAgrRhntRCokYAgrfRTRg0gQICAIE2Q5qeAAAECMQgI0mIYBW0gQIBA3QQEaTW6CqmrBIoSEKQVJa0eArUREKTV7QxVfwkQiFBAkCZIi3BaahIBAjUUEKTVcNB1mQABAqULCNJqcw1SRwkUJyBIK85aTQRqIiBIK/2UUQMIECAgSBOk+SkgQIBADAKCtBhGQRsIECBQNwFBWk2uQOomgSIFBGlFaquLQC0EBGl1O0PVXwIEIhQQpAnSIpyWmkSAQA0FBGk1HHRdJkCAQOkCgrRaXH/USQLFCgjSivVWG4EaCAjSSj9l1AACBAgI0gRpfgoIECAQg4AgLYZR0AYCBAjUTUCQVoOrj7pIoGgBQVrR4uojMPACgrS6naHqLwECEQoI0gRpEU5LTSJAoIYCgrQaDrouEyBAoHQBQdrAX3vUQQLFCwjSijdXI4EBFxCklX7KqAEECBAQpAnS/BQQIEAgBgFBWgyjoA0ECBCom4AgbcCvPOoegTIEBGllqKuTwEALCNLqdoaqvwQIRCggSBOkRTgtNYkAgRoKCNJqOOi6TIAAgdIFBGkDfd1R5wiUIyBIK8ddrQQGWECQVvopowYQIEBAkCZI81NAgACBGAQEaTGMgjYQIECgbgKCtAG+6qhrBMoSEKSVJa9eAgMrIEir2xmq/hIgEKGAIE2QFuG01CQCBGooIEir4aDrMgECBEoXEKQN7DVHHSNQnoAgrTx7NRMYUAFBWumnjBpAgAABQZogzU8BAQIEYhAQpMUwCtpAgACBugkI0gb0iqNuEShTQJBWpr66CQykgCCtbmeo+kuAQIQCgjRBWoTTUpMIEKihgCCthoOuywQIEChdQJA2kNcbdYpAuQKCtHL91U5gAAUEaaWfMmoAAQIEBGmCND8FBAgQiEFAkBbDKGgDAQIE6iYgSBvAq426RKBsAUFa2SOgfgIDJyBIq9sZqv4SIBChgCBNkBbhtNQkAgRqKCBIq+Gg6zIBAgRKFxCkDdy1Rh0iUL6AIK38MdACAgMmIEgr/ZRRAwgQICBIE6T5KSBAgEAMAoK0GEZBGwgQIFA3AUHagF1p1B0CMQgI0mIYBW0gMFACgrS6naHqLwECEQoI0gRpEU5LTSJAoIYCgrQaDrouEyBAoHQBQdpAXWfUGQJxCAjS4hgHrSAwQAKCtNJPGTWAAAECgjRBmp8CAgQIxCAgSIthFLSBAAECdRMQpA3QVUZdIRCLgCAtlpHQDgIDIyBIq9sZqv4SIBChgCBNkBbhtNQkAgRqKCBIq+Gg6zIBAgRKFxCkDcw1Rh0hEI+AIC2esdASAgMiIEgr/ZRRAwgQICBIE6T5KSBAgEAMAoK0GEZBGwgQIFA3AUHagFxh1A0CMQkI0mIaDW0hMBACgrS6naHqLwECEQoI0gRpEU5LTSJAoIYCgrQaDrouEyBAoHQBQdpAXF/UCQJxCQjS4hoPrSEwAAKCtNJPGTWAAAECgjRBmp8CAgQIxCAgSIthFLSBAAECdRMQpA3A1UVdIBCbgCAtthHRHgKVFxCk1e0MVX8JEIhQQJAmSItwWmoSAQI1FBCk1XDQdZkAAQKlCwjSKn9tUQcIxCcgSItvTLSIQMUFBGmlnzJqAAECBARpgjQ/BQQIEIhBQJAWwyhoAwECBOomIEir+JVFzScQo4AgLcZR0SYClRYQpNXtDFV/CRCIUECQJkiLcFpqEgECNRQQpNVw0HWZAAECpQsI0ip9XVHjCcQpIEiLc1y0ikCFBQRppZ8yagABAgQEaYI0PwUECBCIQUCQFsMoaAMBAgTqJiBIq/BVRU0nEKuAIC3WkdEuApUVEKTV7QxVfwkQiFBAkCZIi3BaahIBAjUUEKTVcNB1mQABAqULCNIqe01RwwnEKyBIi3dstIxARQUEaaWfMmoAAQIEBGmCND8FBAgQiEFAkBbDKGgDAQIE6iYgSKvoFUXNJhCzgCAt5tHRNgKVFBCk1e0MVX8JEIhQQJAmSItwWmoSAQI1FBCk1XDQdZkAAQKlCwjSKnk9UaMJxC0gSIt7fLSOQAUFBGmlnzJqAAECBARpgjQ/BQQIEIhBQJAWwyhoAwECBOomIEir4NVETSYQu4AgLfYR0j4ClRMQpNXtDFV/CRCIUECQJkiLcFpqEgECNRQQpNVw0HWZAAECpQsI0ip3LVGDCcQvIEiLf4y0kEDFBARppZ8yagABAgQEaYI0PwUECBCIQUCQFsMoaAMBAgTqJiBIq9iVRM0lUAUBQVoVRkkbCVRKQJBWtzNU/SVAIEIBQZogLcJpqUkECNRQQJBWw0HXZQIECJQuIEir1HVEjSVQDQFBWjXGSSsJVEhAkFb6KaMGECBAQJAmSPNTQIAAgRgEBGkxjII2ECBAoG4CgrQKXUXUVAJVERCkVWWktJNAZQQEaXU7Q9VfAgQiFBCkCdIinJaaRIBADQUEaTUcdF0mQIBA6QKCtMpcQ9RQAtUREKRVZ6y0lEBFBARppZ8yagABAgQEaYI0PwUECBCIQUCQFsMoaAMBAgTqJiBIq8gVRM0kUCUBQVqVRktbCVRCQJBWtzNU/SVAIEIBQZogLcJpqUkECNRQQJBWw0HXZQIECJQuIEirxPVDjSRQLQFBWrXGS2sJVEBAkFb6KaMGECBAQJAmSPNTQIAAgRgEBGkxjII2ECBAoG4CgrQKXD3URAJVExCkVW3EtJdA9AKCtLqdoeovAQIRCgjSBGkRTktNIkCghgKCtBoOui4TIECgdAFBWvTXDjWQQPUEBGnVGzMtJhC5gCCt9FNGDSBAgIAgTZDmp4AAAQIxCAjSYhgFbSBAgEDdBARpkV851DwCVRQQpFVx1LSZQNQCgrS6naHqLwECEQoI0gRpEU5LTSJAoIYCgrQaDrouEyBAoHQBQVrU1w01jkA1BQRp1Rw3rSYQsYAgrfRTRg0gQICAIE2Q5qeAAAECMQgI0mIYBW0gQIBA3QQEaRFfNdQ0AlUVEKRVdeS0m0C0AoK0up2h6i8BAhEKCNIEaRFOS00iQKCGAoK0Gg66LhMgQKB0AUFatI4D51MAACAASURBVNcMNYxAdQUEadUdOy0nEKmAIK30U0YNIECAgCBNkOangAABAjEICNJiGAVtIECAQN0EBGmRXjHULAJVFhCkVXn0tJ1AlAKCtLqdoeovAQIRCgjSBGkRTktNIkCghgKCtBoOui4TIECgdAFBWpTXCzWKQLUFBGnVHj+tJxChgCCt9FNGDSBAgIAgTZDmp4AAAQIxCAjSYhgFbSBAgEDdBARpEV4t1CQCVRcQpFV9BLWfQHQCgrS6naHqLwECEQoI0gRpEU5LTSJAoIYCgrQaDrouEyBAoHQBQVp01wo1iED1BQRp1R9DPSAQmYAgrfRTRg0gQICAIE2Q5qeAAAECMQgI0mIYBW0gQIBA3QQEaZFdKdQcAoMgIEgbhFHUBwJRCQjS6naGqr8ECEQoIEgTpEU4LTWJAIEaCgjSajjoukyAAIHSBQRpUV0n1BgCgyEgSBuMcdQLAhEJCNJKP2XUAAIECAjSBGl+CggQIBCDgCAthlHQBgIECNRNQJAW0VVCTSEwKAKCtEEZSf0gEI2AIK1uZ6j6S4BAhAKCNEFahNNSkwgQqKGAIK2Gg67LBAgQKF1AkBbNNUINITA4AoK0wRlLPSEQiYAgrfRTRg0gQICAIE2Q5qeAAAECMQgI0mIYBW0gQIBA3QQEaZFcIdQMAoMkIEgbpNHUFwJRCAjS6naGqr8ECEQoIEgTpEU4LTWJAIEaCgjSajjoukyAAIHSBQRpUVwf1AgCgyUgSBus8dQbAhEICNJKP2XUAAIECAjSBGl+CggQIBCDgCAthlHQBgIECNRNQJAWwdVBTSAwaAKCtEEbUf0hULqAIK1uZ6j6S4BAhAKCNEFahNNSkwgQqKGAIK2Gg67LBAgQKF1AkFb6tUENIDB4AoK0wRtTPSJQsoAgrfRTRg0gQICAIE2Q5qeAAAECMQgI0mIYBW0gQIBA3QQEaSVfGVQ9gUEUEKQN4qjqE4FSBQRpdTtD1V8CBCIUEKQJ0iKclppEgEANBQRpNRx0XSZAgEDpAoK0Uq8LqpzAYAoI0gZzXPWKQIkCgrTSTxk1gAABAoI0QZqfAgIECMQgIEiLYRS0gQABAnUTEKSVeFVQ1QQGVUCQNqgjq18EShMQpNXtDFV/CRCIUECQJkiLcFpqEgECNRQQpNVw0HWZAAECpQsI0kq7JqhiAoMrIEgb3LHVMwIlCQjSSj9l1AACBAgI0gRpfgoIECAQg4AgLYZR0AYCBAjUTUCQVtIVQdUSGGQBQdogj66+EShFQJBWtzNU/SVAIEIBQZogLcJpqUkECNRQQJBWw0HXZQIECJQuIEgr5XqgSgkMtoAgbbDHV+8IlCAgSCv9lFEDCBAgIEgTpPkpIECAQAwCgrQYRkEbCBAgUDcBQVoJVwNVSWDQBQRpgz7C+kegcAFBWt3OUPWXAIEIBQRpgrQIp6UmESBQQwFBWg0HXZcJECBQuoAgrfBrgSokMPgCgrTBH2M9JFCwgCCt9FNGDSBAgIAgTZDmp4AAAQIxCAjSYhgFbSBAgEDdBARpBV8JVB2BOggI0uowyvpIoFABQVrdzlD1lwCBCAUEaYK0CKelJhEgUEMBQVoNB12XCRAgULqAIK3Q64AqI1APAUFaPcZZLwkUKCBIa3HKeOf9j1525fXZf7fcOb/F/r289MiTz6cVXX39bd0VtfCFl9NCLrvy+vmPDndXTq2OCiI/odiCZ/6WHZqut6+7+e4J67JDFQUEaYK0Ks5bbSZAYPAEBGmDN6Z6RIAAgfgFBGkFXgVUFYG6CAjS6jLS+kmgMAFBWotzys232Lrxr//NW/V1Lfbv5aXfXvqHbFW//8ONXZT22NMj2UKO/+WpXRRSt0OCyE+Idvs9D2WHpuvtt266+YR12aGKAoI0QVq58/aqa2/JBvwPPNbNfRhPPvtitpBb73qgT51aMPzXtKIr/njTwhde7lNFwYt1U0VwUgUGFxCkBSetYYG33/NQ+lv6ymtuHkiB2+5+MO3jPfOfGLw+esMavDGNvEeCtMKuAaqIQH0EBGn1GWs9JVCQgCBtvBPKO+9/dPLkyc2Bx2VXXj/eIb08n4tzLrvqhi5KE6R1gRZEfsJ6BWkTEtV8B0GaIK3cH4F111s/+363z74HdNGe0848P1vIknPn9iniuvmOP2UrOu3M87tobSmHeC8ohV2lHQkI0jrisvOYAh/75F7Z39LnXHDJmLtV+sk9PvrJtI8bbfymSvdlzMZ7wxqTxZP9ExCkFXQFUDUE6iQgSKvTaOsrgUIEBGnjnQt+49Dvpp+Oshuf+ewXxjukl+cnjHOefPbFo3/2iyN/fGzy7+nnX2quTpCWM2kHbUL5XJndPfRZtDu3+hwlSBOklTvbv/r1b2Xf6VZeZV4X7fnQh/fIFvK+nT7QRSHtHJIL0n59xnntHBXDPt4LYhgFbWgtIEhr7ePVdgRyQdrZ5/+unaOqtU82SHvDRm+sVuPbaa03rHaU7BNQQJBWyPU/lRCol4AgrV7jrbcEChAQpI138rfu+htkLwim28ssu9yYIdZ45bT5/IRxzs9P/HXahkajsWD4r80lC9JyJu2gTSifK7O7h6E+i75nh526a4CjIhcQpAnSyp2it9394NDQUPZd5neXX9NRk5589sU5iy+eLeHk087uqIT2dxakWea3/dliz04FBGmditm/WUCQ1mxSuWdCfXjxhlW5oS+rwYK0Aq7+qYJA3QQEaXUbcf0l0HcBQdqYZ4rX3HhH9mpgbrsf65Pk4pzmv5F27AknZ5shSBtz4HJPtoM2oXyuzO4e5j6LrrX2ujff8acu/j2+8M/dNcBRkQsI0gRppU/Rt7xts+y7zKf32rujJp1x7m+zh8+eM2fBM3/rqIT2dxakuami/dliz04FBGmditm/WUCQ1mxSuWdyH16yb/EdbXvDqtzQl9VgQVrfr/2pgED9BARp9RtzPSbQZwFB2phniv++35dbfEL48Ec+OuZRvTz56FMv/P4PNyb/rrnxjuai2smEfCMt59YO2oTyuTK7e5j7LLrl1m/vrhxHDaqAIE2QVvrc/sFRP82+8S2zzLIdff169z0/kT1819327F+PBiZIc1NF/yaJkrsWEKR1TefAVECQllJUdyP34cUbVnWHsiotF6T1+cqf4gnUUUCQVsdR12cCfRUQpI15ZrniSitnLwh+7ZDvZB/29Ub7MdszPDLaTiYkSMvptYOWO6RPD3OfRQVpfXKubrGCNEFa6bP3gceGp02bnn2zO/fCS9ts1dPPvzR37lLZY8867+I2j+1it4EJ0rwXdDH6Dum3gCCt38J1KF+QNgCj7MPLAAxitbogSOvrdT+FE6ingCCtnuOu1wT6KCBIaz6/vOiSq7JXA1daeZWnn39pmWWXyz75q1+f1XxgX59pJxMSpOWGoB203CF9euizaJ9gB6ZYQZogLYbJ/K5375B9p/vIHh9vs1XnXnhp9sCll35NR99ma7OWdDdBWkphg0BwAUFacNIaFihIG4BB9+FlAAaxWl0QpPXxqp+iCdRVQJBW15HXbwJ9ExCkNZ9f7vnxT2cvCO67/4HDI6Of2mvv7JPvfd/7mw9s/5lrb77r5yf++jvf/eExx/5yzL921lxUO5lQiyBtwfBfL/zdlSecdNrh3z/qp8efdNW1t/Ty12tuv/fh35xz0Y+OPu7w7x91wkmnX3L5tQtfeLm5zcMjo9fedOfJp539g6N+etj3fvSzn//qqmtvGXO3Fk8++eyLl1x+7YmnnHHED4/+3pHH/OJXv7n6+tta7J99qR207P5tbt9w672nnXXBkT8+9v/r/mm/vfQPTz3399bHlvJZtKNp1v7Od89//Ozzf/fT40867Igjf/zTE04/+8Ibbr23dfdbv9p+1a3LqfSrgjRBWgwT+MRTzsi+0y2+xBJPPvtiOw376Cc+kz3wE5/+XDtHdb2PIK1rOgcSmFBAkDYhkR0mFBCkTUgU/w6lfHiJn0UL+ycgSOvbNT8FE6ivgCCtvmOv5wT6JCBIy50LLnjmb4svsUT2guD1t9wzPDL620v/kH1yxoxFH3ny+dyxuYcPPDa8+RZbJ//e/d4dk1dvvO2+d2z/rmxRd89/fHhk9OY7/pTuvPkWWyeVDo+Mfu2Q7yTPL7bYzOxRm26+Zbp/Wu+YQdo985/YbfePvfrVs7OHNxqNKVOnrr3Oekf95OfjZWALhv+aVrH5Fls/+tQLwyOj51546eZbbD1p0qRcaSu8dsVvH/6DtCXDI6M/Ovq416+xVm63RqOx8irzvv7Nw8arNFvCH667deddPjx79pzmQpZf4bUf++Ret9/7cHb/dLsjtPHk09LSjccX/vmrX//W6q9fs7k9Sy219Gc++4UWMWH/Pot2NM062jnteLLx1HN/P/z7R234ho2HhoaaBebNW+2LX9p//qPDuaPSh71UnRYywBuCNEFaDNN7wfBfZ8/5l1+5vz7jvAkbtvCFl1/zmmWyvxb+12VXT3jU8MjowhdevuXO+aeddcHh3z/qB0f99ISTTj//t79/eMFzEx5bepDW9R0e/XsvaIHW6c0Kbe4f/KaK/7n5pvPbjFp03EvdCQjSunNzVFagr0Fa2F8+XZe2x0c/mb7xvWGjN2a7H9X208+/dPnVN5506pmHf/+oo445/jfnXHTrXQ+008L437Daf8voepTHg2q/6vFK8HyzgCCtT1f8FEugzgKCtDqPvr4T6IuAIC13DnfK6eekH4oajUb6uWjhCy8vv8Jrsy8dc+wvc8fmHt734JPZ/Z9+/qVrbrxjqaWWzj7ZaDSSIO2qa2/JPn/ZVTckpX3gQ7tlnx9zO623OUg7/ewLl5w7d8yj0ie32ma7Mb8VlyvtgceG9zvgoOYILS2n0Wjs+P4PLnzh5YcXPLftdttnn2/efte7d3hi4V/Sluc2Fjzzt0/ttfciiyzSfGD2mVe9arGvHfKd5gXEOkIbTz7XpPN/+/uVVl4lW/uY23vvs1/uwORh/z6LdjTNOto525HLrrphzFg0h7D4Ekv89PiTsgem211XnZYw2BuCNEFaJDN89z0/kf25fv8HPjRhwy783ZXZQ1ZcaeXWh9x0+/17fvzTa6297vTpM7IHJtuTJ09eb4MNf3T0cS2+DNc6SLtn/hPb/T/vSm8Euf+hp1q35ysHHZLu/MMf/6z1zl3f4ZEU27/3gk5vVuh0/5Slx5sqhkdGu646bYONvgoI0vrKW5PC+xGk9f7LJ4vfe2ltBmlPLPzLrrvtmb7LbL7F1u/Y/l1pSwK+Ye13wEFpLRdcfMXwyOgjTz7/H1/+Wu4DbPJWu/6Gb/jekcc0f4ZKGzY8MhrJG1Yvbxk9jnIvVWclbbcpIEjry/U+hRKot4Agrd7jr/cE+iAgSMud2O2w487Z63rf+e4P0x32+twXsy9tve070pfG3MglB7ff+3BzitbXIG3Pj3966rRp2TaPt/3BXT/S3IVckLbX5/cZ7/Ds8/sdcNCb37pp9pnxtr9x6HebKx0eGX184Z8nzOGyZe66256577cFD9JOP/vCMS/4ZpuRbu+8y4ebr//277NoR9Oso53T0bng4itmzZqVdrD1xtDQ0KGHfT89Nt3orur08IHfEKQJ0iKZ5BdcfEX2Z3yxxWY+vvDPrduWW/p4vPsJkq+g7bPvARPeJJE0YPXXrzne145bB2lnnPvbbBfuuO+R1u1fdbXV0/1bNL7HOzySNhT2XtD63p3hkdHc7+QJ90/a3/tNFV1X3XoQvRpQQJAWELO2RQUP0oL88kmHI0hp7QRpTyz8y9bbviN9i0lWBDn5tLPTlgR8w9po4zelFf3iV7/5w3W3Zt/d0peyG2/Y6I033X5/2pjcRiRvWN29Ww2PjPY+yl1XnZP0sE0BQVofrvYpkkDdBQRpdZ8B+k8guIAgLXti9/CC52bMWDT9gDFlypTsney/u/ya9KX/+SA0Zcp9Dz6ZPTy3nTv53mLLbbKHp9utv5H2jUO/O3PmrJkzZ+WCnMUWm5k8P3PmrLTeXPSVVpF8bNvwDRvvtvvHdthx52WWXS77UqPRmDRpUrqY5ISlDQ0NvW71NXbe5cM77LjzCq9dMVdU9uHQ0NCqq63+/g98aMw9l1hyyWS5yLTGZGO33T+WLSTZnjpt2trrrDdv3mpjriv4mc9+IVtIR2gTfiPt1rsemDZtenOTlll2uTmLL55bBi3ZLdeevt7U2dE062jnhPShJ57NLXaa9HHGjEUXW2zmnMUXb5ZpNBoX//6P2RFpvnLa+schd2wdHgrSBGmRzPOFL7z82hVXyv5cn3DSaS3atvCFl5dbfoXs/ldec/N4+++y6+7ZPSfcXnGllR964tnm0ooP0nq/wyPpRWHXJVvfu9P8O3nC/YdHRoPcVNFd1c1zwDP9ExCk9c+2PiWHDdJC/fJJ/EOVNmGQ1pyiTZ027ZTTz8lOgz4FaV/9+rfavAduueVXuPmOP2WblG5H8oaV+/DSzrtVqDes7qpOAW10KiBIC36tT4EECAjSzAECBAILCNKyZ3hH/+wX2et6b3/HO7OvDo+M5i4vHva9H+V2yD7MnXxnS952u+333f/Anxx34sW//2Py7aUJ45xjTzg5W0I7izGm+++y6+6PPT2Stm3B8F8PPez7uUUaDzjw4HSHZGPMWG7ppV9zzgWXpHsuGP7rZ/f+97Si7MaSc+eefvaF2T0/94UvZXdoNBqXXH5tukOycc2Nd0yePDm726qrrX7uhZcueOZvyQ4PPv7MUcccP3Pmv3xBamhoKF0MM1tgO2gTyu+6257Z9kyaNOmrX//WbXc/mFZ0+tkXzlv1ddl9ZsxY9N4HFqQ7FBmkZZvRPM06mpNJ+/fd/6vZMhuNxlbbbHfpFdel37q79ua7Pr3X3rl9Nt9i62z3m6+cZvdvbmfu2Do8FKQJ0uKZ5/vse0D2J/Rd735vi7Zd/Ps/Znd+/RprjbfzuRdemt0z2Z41a9ba66y32eZbrb/hG8ZciPjAr32zucDig7Te7/BIelHYdckJb1bIvR1MuH+omyqa3w4mrLp5AnimrwKCtL7y1qTwgEFawF8+wyOjAUtrHaSNmaKd+ptzcxOgT0Fa87vtnMUXX3a55ZufbzQa66y7fq5VycNI3rA6fbcKOMpdVD2mpCfbFBCkBb7SpzgCBF55RZBmFhAgEFhAkJY9sdtyq22zHzCO/+Wp2VeHR0ZzUdAmb35rbofsw9zJd1Lyssstf9qZ52d3S7YnjHPayYTGjL6+ffgPmqsbHhn9ykGHZDvbvLpjc2nLLLvcPfOfaC5ts823yhbVaDSWnDt3zNW0csLHnnByrrTt3/WebFEf3PUj2Qgw3fmm2+9fe531snu+bbMt0lfTjXbQWstfd/Pd2VXIpk6bdsJJp6flpxuPPPl8Lkv78le/kb7aHKQtvfRrdthx5y7+Na+x1tE062jn5HLnYovNzDrv+fFPP/Xc37NdS7a/d+QxWahGo3HeRZdld+u06uyxddgWpAnS4pnn1950Z/anftq06WN+LSxpcG7V3+Z7MtJ+bfzGTbLFLrf8Ckf95OfpTRLJwo+/OeeiDTbcKLvb61ZfIy0h3Sg4SAt4h0dh1yWzhmPerDDm7+TkqDH3D3VTRXOQNmFT03G3UYyAIK0Y58GuJWCQFvCXz/DIaMDSWgRpY6Zovz7jvOZB73eQNjQ09MUv7X/19bcly+Dfef+jxxz7yyWWXDL7i7fRaJx4yhnNbYvkDavTd6uAo9xF1c2MnmlfQJAW+Eqf4ggQEKSZAwQIBBcQpKXndnfPfzz7XahZs2Y1hxaXXXl99oPH0NDQrXc9kJaQ22g++V58iSXmP7Iwt1vysHWcMzwy2k4m1Bx9bbnVtmNWl1yyfNWrFku70/wn35pLa04Wk8JPO+uCtJxk46if/HzMes+54JLsngd/6/DsbhddclX21TXWXDv92lN2t2T7jzfcPmXKlOz+2W+JJfu0g9Za/n07fSBbxQ+O+mlzS5JnLrvqhuyyk9u/6z3ZPXOfRbNldrT98ILnssWOeUWyxTTraE4Oj4x+5rNfyDbv3e/dMVd79uHB3zo8u3MuZu606mzJddgWpAnSoprn622wYfbHebxf6cMjoyuutHJ2zxtuvXfMjjz9/EvZBYoXW2zm1dffNuaeDzw2/LrV10jLnDZteu6vYA6PjBYcpAW8wyP3XlDWTRVjvnc0Go3x7vW578EnQ91U0WnVY04ST/ZVQJDWV96aFB4qSAv+yyfgr7LxgrTmFG3atOlj3kY5PDLa1yBtypQpxxz7y+Ypd+Nt9+Xu/1t3vTG+lBbJG1bzJ4gW71bJW0yoUe606mZqz3QkIEgLfq1PgQQI+EaaOUCAQGABQVp6evet73wvvXLXaDQ+9OE90peyGyuvMi+720EHH5p9NbvdfPL99W8elt0hu906zuk6SPvd5ddka8ltb/iGjdO+TBikrbnWOrnD04e33vVAWk6j0Vhl3qrpS7mNex9YkN3za4d8J7vDO//t/34dbWho6KJLrsq+2rz9qX9dUfAnx52Y26fHIO2e+U9kF8CcO3epMVfUTCtdd731096tvMq89Pnmb6Slu3W60U6Q1mKadTQnh0dGc7es/v4PN2Y7ldt+eMFzs2fPyfYo+wfMO606V/jAPxSkCdKimuTf/PYR2Z/lrbbZbszmXXbVDdnd1t/wDWPu1hx97fW5L4635/DI6AEHHpwt9oHHhnM7Fxmkhb3DI3ddMtvNjrbbeS9ocVPFmGlWi/0D3lTRadW5ofewAAFBWgHIA19FqCAt7C+fsKWNGaSNnaKddcF4I97XIK3F/X9/evjp3J9A/tWvz8o1MpI3rOZPEC3erdwFmBvEaj0UpAW+0qc4AgR8I80cIEAguIAgLT2/zC0nlf1LYOk+wyOjX/j3/8he7Vpr7XWzr2a3c+f9Sy21dPNX3NL9+xGkbbDhRmn5Y268+707pn2ZMEjbZdfdxywk+XJbWk6j0Xjv+94/3p7DI6PTpk1Pd84FadnYpsUF2bTw3Ppju+/5ifSlZKPHIO383/4+bWqj0dh3/wNz5ece7nfAQbNnz0n+rbTyKtlXC/ss2nqadTQnH3z8mWz3t9hym2yPxtzee5/9soecce5v0906qjo9qj4bgjRBWlSzPfcV7UUWWeS+B59sbmHuDfEbh363eZ/kmRtvu2/2nDnTp89I/mV/OTQf8otf/Sb7m2T+o2UGaWHv8CjsvaDRaLS4qWLMNKvF/tl350aj0ctNFZ1W3Tw9PNNvAUFav4XrUH6oIC3sL5+wpTUHaWOmaNm/GN089P0L0pZdbvns4snNVe//la9n32qbPwlG8oaV+wQx4btbwFHutOpmZM90JCBIC36tT4EECPhGmjlAgEBgAUFacnp37c13ZT9LLLf8Cs1rSSV7Xn71jdk9G43GeOtT5U6+t91u+xankv0I0nb+4K4tahweGX3PDjulfWn++JRb2vGQQ49oUVpaTqPR+MpBh7TYc8aMRdOds0Ha9bfckz7faDQ+/qm9WhSSvPTUc3+fMnVqetSbNnlL7pAeg7Qjf3xsWnij0bj2pjtz5bf/MPdZdO7cpd717h26+NecxXY0zTra+fd/+Jep/sMf/2zC/l55zc1Zse8deUx6SEdVp0fVZ0OQJkiLbbZvufXbsz/Oh3//qOYWzpu3WrrPpEmTxvzTmM1HTfjMQQcfmhbbaDTKDdKyl+R6v8Mj916Q7WZH2xN+I631TRXNaVaL/cPeVNFR1RNOFTv0Q0CQ1g/VupUZJEgL+8snbGnDI6O5IK05RWs0Gr8556LWQ9+/IC23fn5zM+Y/sjC7BGJuLY0il9No8QbU6VtG2FHOfXhp3c5mYc90KiBIC3ylT3EECPhGmjlAgEBwAUFacoa37/4HZq9hbbTxm8698NLx/mX/tFij0fjil/Yf8zQxd/L90U98Zszdkif7EaTtd8BBLWrsNEg78sfHtigtq3fYEUe22HO8IC33SXKDDTf68le/MeG/bL3z5q2Wq7fHIO2LX9o/W35ziJWrrsXD3MXTLbd+e4udO3qpo2nW0c4nnHRatvtnnXfxhA3LfXzde5/90kM6qjo9qj4bgjRBWmyz/Zhjf5n9DbDJW96Wa2EuOH/L2zbL7dDFw6eff+mkU8+cNWtWtuoSg7Tgd3jk3gvKuqmi+dJki3t9wt5U0VHVXUwhh/QuIEjr3VAJQYK0sL98wpaWC9LWWXf9rbd9R/adq9FoLLLIItffck/ryZD7+DPh/SirrrZ6Wkv2NHt4ZHSjjd+UvtRoNO6e/3jrqodHRnfe5cPpIVOmTn36+Zeyh0TyhpX7BNHi3Wp4ZDTsKHdUdZbOdncCgrTg1/oUSICAb6SZAwQIBBYQpCXnebm/fJZ+qGhnY8WVVh7zZDF38t1i0aThkdF+BGlH/+wXYzYsfbKjb6T1O0g77hentKPdYp+5c5dKu5Zs9BikZX0WX2KJXOEdPcx9Fu1fkNZ6mnU0J3NfCrnh1nvb6XL2Cvh7dtgpPaSjqtOj6rMhSBOkxTbbH3ny+exdI0NDQ7ff+3C2kV/6j69kfyEf8cOjs6+2s/3ksy9ee/Ndvz7jvO9894ef3mvvLbbcJvv1r7TwEoO03CXO3u/wKOy9oPW9O81pVov9w95U0VHV7cwi+wQXEKQFJ61hgUGCtLC/fMKWlgvS0jes3MZmm2/VevRz7zKhgrRFF31V63qTV3N/kfTWux7IHhXJG1buE0SLd6vhkdGwo9xR1Vk6290JCNICX+lTHAECvpFmDhAgEFxAkDY8Mnrx7/+Y+9jT6cPfXvqH5vPF3Mn3z37+q+Z90mf6EaQd/8tT0/LH3MgGRRMu7djvIO27P/hxp+y5/WfPnpPrZo9B2nobbJhWsfY66+UK7+hhYZ9FW0+zjubkHh/7VNr9RqOxYPiv7XT59WuslR614Rs2Tg/pqOr0qPpsCNIEaRHO4+vyCgAAIABJREFU9p123iX9cW40Grl1olZ//Zrpq1OmTLn/oafa6cJTz/39pFPP/PBHPvr6NdbKrs2bFtW8UWKQFvwOj8LeC1rfVNGcZrXYP+xNFR1V3c6Msk9wAUFacNIaFhgkSAv7yydsaW0GaY1Go/V9jX0K0l63+hrtzLqfHHdi9j333AsvzR4VyRtW7hNEi3er4ZHRsKPcUdVZOtvdCQjSgl/rUyABAr6RZg4QIBBYQJA2PDKa+7CX/UTR5vaYf9Ard/LdOtYSpOX+IFmb8tnd5iy+eO6svccgbZ1110/Lr0qQ1nqadTQnP/PZL6TdbzQaDzw2nOMd82F2zZk3bPTGdJ+Oqk6Pqs+GIE2QFuFsP+2sC7K/BNbbYMO0kdfceEf2peZbMdI9sxs33X5/bu2pbCHjbZcYpAW/w6Ow65Ktb6poTrNa7B/2poqOqs5OHtuFCQjSCqMe4Ipyn63OPv93XXQ27C+fsKWNF6StudY6W22zXfbtbMm5c+c/snC87vcpSNtiy23GqzH7/AUXX5Ft6o+OPi77aiRvWLlPEC3erf5nUNwFODKaHcRqbQvSAl/pUxwBAr6RZg4QIBBcQJD25LMvLjl3bvZTxNy5Sy2z7HKt/82eMyd3yFPP/T13qpo772+dcAjSzr3w0izpYUccedmV13f0r/nvEPQYpL3z396TNqk5pcsNd+uHhX0WbT3NOpqThx1xZNr9RqNx+dU3tu5j8mr2b+C9b6cPpId0VHV6VH02BGmCtAhn+1PP/X2ppZbO/h5If83u/5WvZ59vfcd90rWfHHfizJn/8sfPsiU0Go1JkyatMm/VHd//wR3f/8HsS/0O0uat+rq0utyfnAl+h0ck7wXNaVaL946wN1V0VHWEPxR1aJIgrQ6j3O8+BgnSwv7yCVvamEHa2uusd/9DT937wILc58Rdd9tzPPBOg7QWb1jZ+1Sa/6zpmA3Iffj64Y9/lt0tkjesjj5BhB3ljqrO0tnuTkCQFvxanwIJEPCNNHOAAIHAAoK00848P72C1mg0Xv3q2U8s/MuEJ39/uO7W7FGNRuM351yUO6qjk29B2m13P5gl/fmJv855dvGwxyBtr899MdukR558vos2JIdU8bNo7ssoJ5165oTdv2f+E1mxL/3HV9JDOvpxSI+qz4YgTZAW52z/5Gc+n/2h3v8rX0/audba66bPT58+46Ennm3d/t9e+od0/3Rj1qxZW2617b77H/jLk8+46tpbHnt6JCnkpFPPTPdpNBr9DtKyf5gtF6TlLjL2fodHJO8FHaVZYW+q6Kjq1pPKq30SEKT1CbZWxQYJ0sL+8glbWnOQtu566//p4aeTUf7BUT/NvosNDQ2d/78uH3MCdBqktXjDygZpyy2/wpjV5Z780dHHZdt5zgWXZHeI5A2ro08QYUe5o6qzdLa7ExCkBb7SpzgCBHwjzRwgQCC4gCAt9zdgPvThPdo888v+LahGo/GBD+2WO7Cjk29B2tPPvzR12rT049zXvvHtnGcXD3sM0g773o/S9rTzlaxLLr923qqvS/6tudY6t9w5P21zFT+LXn/LPdnuH/i1b6bdGW8jd9H5xz89Id2zox+H9Kj6bAjSBGlxzvZLr7gu+3sg+bMruV8O//ae903Y+De/ddNsOcsss+zh3z9qvL+8WGSQ9uDjz2QblgvSgt/hEcl7QUdpVtibKjqqesJ5ZYd+CAjS+qFatzKDBGlhf/mELS0XpC273PLZez4WvvDyJm9+a/bNZfXXr7ngmb81T4OOgrTWb1jZIG3y5MlPPvtic3W5Z/bZ94BsI2+/56HsDpG8YXX0CSLsKHdUdZbOdncCgrTg1/oUSICAb6SZAwQIBBaoeZD2yJPPL7roq7IfIc467+I2z/xyC1vNmjXr8YV/zh7b0cm3IG14ZDS7XEk7fyX72pvuXH6F1yb/VnjtihdcfEXWf3hktMcgLfdhbM+PfzpXfu7hv+/35excuuO+R9IdqvhZdMEzf5s8eXLaoxVeu+KEn8n/7T3vS/dvNBoXXXJVKtDRj0N6VH02BGmCtGhn+2qve3325/qKP9701a9/K/vMCSed3rrxDzw2nN1/9pw5N952X4tDigzSLrvqhmzbckFa8Ds8Inkv6CjNyuWmPd5U0VHVLSaJl/onIEjrn219Sg4SpIX95RO2tFyQlv2rwMkoX339bVOmTMm+v3z5q99ongAdBWmt37CyQVo79/8Nj4xuu932aQunTZu+8IWXsy2M5A2ro08QYUe5o6qzdLa7ExCkBb7SpzgCBHwjzRwgQCC4QM2DtJ8cd2L6+aHRaCy99Guefv6lNs/8rrv57uyxjUbjhJNOyx7b0cm3IG14ZPR9O30gS/rrM87LejZvf+BDu2X3v/amO3P79Bik3T3/8eyX5KZPn3Hfg0/mqsg+zK519toVV8q+VMXPosMjo69bfY2s8E+OOzHbqdz2tTffNWnSpHT/RRZZ5P6Hnkr36ejHIT2qPhuCNEFatLP9gAMPTn+uG43G57+473obbJg+M2vWrAnXQ77k8mvT/RuNxgEHHty6s9/89hHZ/bO3+ScH3nzHn7I75N4sctclW4d2uW8e54K04Hd4RPJe0FGaFfamio6qbj1PvNonAUFan2BrVWyQIC3sL5+wpU0YpA2PjH7xS/tn36qmT59xw6335qZBwDesXJC2y6675+rKPfzjDbdnz9ubb2GM5A2ro08QYUe5o6pzvB52ISBIC36tT4EECPhGmjlAgEBggZoHaVtv+47sJ5xP7bV3R+d86663fvbwd/7be7KHd3TyLUgbHhm98pqbh4aGUtLZc+b87vJrsqTZ7XMuuCR7p+e662+QfTXZ7jFIGx4Z3X3PT6TtaTQae3zsU821JM8c8cOjs3u+/wMfyu5Zxc+iwyOjR/3k59lOrbra6uNFiQue+ds7tn9XdueP7PHxrEBHPw7ZA2uyLUgTpEU71W++40/Z38zZ7UajsfMuH56w5b/41W+yvxyOPeHk1ofk3pp7DNJOPu3s8apbMPzX5ZZfIdu25iAt7B0ekbwXdJpmBbypotOqxxs7z/dPQJDWP9v6lBwkSAt7R1fw0vb46CfTt4/mb6QNj4w+vvDPK628SrpPo9HYYsttcnMgF6T18oaVC9KmTJ165/2P5qrLPtzx/R/Mtu09O+yUfXV4ZDSSN6xOP0EEfMPqtOocoIedCgjSAl/pUxwBAr6RZg4QIBBcoM5B2j3zn1hkkUWyHyEuufzajk74vvaNb2cPnzZt+oOPP5OW0NHJd6dBWvrnrNPqhkdGH3t6JNue4395avbV5u337LBTuv/W274jt0OutCN/fGxuh+zDtJxGo3HYEUdmX8ptz5ixaLrz1w75Tu7Vd793x/TVRqOx2GIzz73w0tw+wyOjF1x8xWKLzczuefC3Dm/eLRekjYnWWv6WO+dn47pGo7HTzrs0/12fCy6+4lWvWizbnqOOOT7bntxn0eWWX+GEk07v7t/lV9+YLbmjadbRzsMjo08//9Lqr18z26+VVl6l+Zt/8x9Z+NZNN8/uNmPGorlP751Wne1jHbYFaYK0mOf5mzZ5S/YHPLt92lkXTNjycy64JHvIV7/+rRaHHHLov3wdrdFodBqk5f5Y48c+udd41X378B9kG9ZoNJqDtLB3eOTeC7bc+u3jta3T5zv9HdvR/gFvqhCkdTqyxe8vSCvefPBqDBWkhf3lE7a0CYO04ZHR08++MPcu89PjT8oOd8A3rFyQ1mg0dthx56ee+3u2unT7tDPPz67f3mg0Lr3iuvTVZCOSN6yO3q3cBZgbxGo9FKQFv9anQAIEfCPNHCBAILBAnYO03BW0Veat2um55i13zs/dm/+jo49LC+novL91nNP8574O+96Pkoqyf7YqF31VMUjLLTPSaDSmTZu+6257nnnu/7rlzvnX3Xz3qb85913vfm+OfcWVVp7/yMJUPt3IBWljok0ov8uuu+c+A6+7/gYHfu2b51xwyfW33HPaWRfstvvHcu3Z+I2b5NYIzX0WzRXY0cPcReGOpllHOyeMvzz5jFzzZs+e88nPfP64X5xy9fW3nfqbc/fZ94Dc/bZjXozuoup0HOuwIUgTpMU8z7/7gx/nfg8kD5dYcsnse9B4Xbj1rgeyhy+99Gvunv94887zHx3+yB4fz/06bTQaN91+f27n1ks73nT7/dnqJk+efOHvrsyVMDwy+r0jj8ku3psc0hykDY+MBrzDI/deUNZNFZ2mWQFvqui06uaB80y/BQRp/RauQ/m5IO0zn/1CR3eP/fGG2xOlsL98wpbWTpA2PDK6w447Z9+S5s5dKnt3SMA3rOYgrdFobLvd9o8+9UJuyh32vR/lUrTt3/Uvq6ok+0fyhtXpJ4iAo9xp1TlnDzsVEKQFvtKnOAIEfCPNHCBAILhAnYO0N2z0xuwHm333P7DTs73hkdHch5bNt9g6LaSjk+8J45yzz/9dtrWNRmPJuXOXWXa5SZMmpTUOQJA2PDK67/4H5nra+uHMmbOuvv62FCG70Q7ahPJ3/emxNddap3Ubsq8uuuirmv8EQu6zaHb/TrcLDtKGR0bf/NZNO2rkMsss+8Bjw9mBcOU0p9H8UJAmSGueFfE8M/+RhVOmTm3+PbDHRz/ZTiMXvvDyKvNWzR6+yrxVf/bzXyVX9x596oVLLr/224f/YO7cpbL7pNuf+8KXcrcmtA7Snnz2xcWXWCI9PLkhY9/9v3rHfY8Mj4w++PgzZ513ce5PbKY7jxmkBbzDI5L3gi5+J4e6qaKLqtuZY/YJKCBIC4hZ26JyQVr6O7bNjZVXmZfSBfzlMzwyGrC0NoO0u+c//upXz852fLfdP5b2LuAbVu4zaVrjaq97/d777PfrM84776LLDjr40C232jZ9KdmYNGnSH667NW1SuhHJG1ZHH6iTxoca5S6qTvVsdCEgSAt+rU+BBAj4Rpo5QIBAYIHaBmnX33JP7lNE84J17Zz/fes738uWM3ny5PRG+45OvieMcxY887eZM2dl60q303YORpA2PDL60+NPmj59RtrBFhtTpk497czzU4HcRjtoE8oPj4w+9MSzW2y5TYtmpC9Nmzb96J/9IteM5j8zkO7fxUbxQdpDTzz7lrdt1mZTV1p5leavj7hy2jwlcs8I0gRpuSkR28P/553vbv4lcP5vf99mOw///lHNhzcajVe/evakSZPGfCn75JJz5779He9M62odpA2PjO6z7wHZw9PtGTMWzVU3NDS0zrr/98+djhmkBbzDI5Lrkt39Tg5yU0V3VadDb6MAAUFaAcgDX0WPQdpyy6+QJQr1yycpM1RpbQZpwyOjuW91Dw0NZb8nHeoNa7wgLX0HHG8jG+xl2SN5w+roA3Xa/iCj3F3VaRtsdCogSAt8pU9xBAj4Rpo5QIBAcIHaBmlHHXN89uPEuutv0OmpXrL/nfc/mrsqd+IpZyQvPfLk89OmTU9rOeu8i1tUcfs9D2XLSZc0yR7y2b3/PS0tu5Hu8+SzL2b/cljrGodHRlv/jbRcaa3/RtrsOXPSJrX+G2nLLLtcumfz30hL+3LZVTcst/wK6Z7NG0NDQzvtvMvNd/wpPWTMjQnR2pEfHhl98tkXP7LHx3N/VC/Xqq222a75u2hJqwJ+Fs19dbKjadbRzlnPJxb+5YADD879Hbhc9ydPnrzHRz95/0NPZQ9Mt7uuOi1hsDcEaYK0yGf4CSedlvuRX3a55Re+8HKbzX7qub+PGcXlymw0GksttfQFF18xZ/HFcy9NnTYtrWvCIO2RJ59fd/0NciWM+fBr3/j2Vw46JH1pvCAt1B0eAd8Lermpors0K8hNFd1VnQ69jQIEBGkFIA98FWGDtFC/fBL2UKW1H6QtfOHljd+4SfpG02g0Xr/GWgue+VvSnlBvWNkgbett37H2Outlaxxv+z077DTeEs2RvGF1l2YFGeXuqh74n+7+dVCQFvxanwIJEPCNNHOAAIHAArUN0vp3CtjXkk878/x11l1/xoxFk49Diy76qrXXWa+vNZZY+BML//LzE3/9rnfvMG/ealOmTGk0Gossssgq81bddrvtP73X3pdffWObbQuINv/R4Z8ef9L7dvrA7Nn/f3C47HLLb7HlNp/49OdOPu3sNttT3d3unv/4d777wy232vY1r1kmGZFJkyYtOXfuxm/c5CsHHXLdzXdXt2ult1yQJkgrfRK2bsATC/+SW5xqr899sfUhuVefWPiXXXfbM3vLSO663uTJkz+yx8fvmf/E8Mjov+/35dyr2SDt/oeeSn4FJfucc8ElubqGR0bvmf/E29/xzlwh2Yez58z51a/PGh4ZzQZpLW7vGB4Z7f0Oj4DXJXu5qWJ4ZLS7mxt6v6mi66qbh9gzfRIQpPUJtlbFdrpOe/aXc6PRyH0jbXhkNMgvn3QIgpTWfpA2PDJ65TU35+7GS++8DPWGlQ3Sdtp5lwceG951tz1zsNmHiy0285BDj3jqub+nLLmNSN6wunu3CjJnuq46J+lhmwKCtMBX+hRHgIBvpJkDBAgEFxCktXliF9tuDz7+zBML/xJbq/rXnqee+/uDjz8z3i2TbdYbEG3hCy8/8uTzjz090mbVg7fbwhdefvDxZ1p8/B68Lve1R4I0QVpfJ1g8hV9+9Y1777Pf29/xzteuuNLQ0FCyuuN6G2y43wEHXXvzXWk7Fzzzt/0OOGiZZZZN9ll00VdttvlW6avtb/zmnIt22XX316640tRp0xqNxtDQ0JJz575pk7ccdsSR8x9Z2H456Z6h7vBIC6zihpsqqjhq7bdZkNa+lT0LFgj7yydsab1T9PiGlQvSkvZccvm1n/j05+bNWy1ZM39oaGiJJZfc5M1v/ea3j0j/GEHvLY+5hNhGOWar0tsmSAt+rU+BBAj4Rpo5QIBAYAFBWumnjBpAgAABQZogrYY/BY89PTLhHSFPLPzLI08+HwTnoSee7fFujFwzgtzhkSuzcg/dVFG5IZuwwYK0CYnsEINA2F8+YUvr3aeLN6wxg7RsSx5e8Fy6nmT2+fpsxzbK9ZFvs6eCtMBX+hRHgIBvpJkDBAgEFxCktXliZzcCBAj0T0CQJkjr3+xSMgECBNoXEKS1b2VPAvEITBikxdNULSEwpoAgLfi1PgUSIOAbaeYAAQKBBQRpY57GeZIAAQJFCgjSBGlFzjd1ESBAYDwBQdp4Mp4nELOAIC3m0dG2dgQEaYGv9CmOAAHfSDMHCBAILiBIa+eszj4ECBDoq4AgTZDW1wmmcAIECLQpIEhrE8puBKISEKRFNRwa04WAIC34tT4FEiDgG2nmAAECgQUEaV2c5DmEAAECYQUEaYK0sDNKaQQIEOhOQJDWnZujCJQrIEgr11/tvQsI0gJf6VMcAQK+kWYOECAQXECQ1vs5nxIIECDQo4AgTZDW4xRyOAECBIIICNKCMCqEQMECgrSCwVUXXECQFvxanwIJEPCNNHOAAIHAAoK04KeACiRAgECnAoI0QVqnc8b+BAgQ6IeAIK0fqsok0G8BQVq/hZXfbwFBWuArfYojQMA30swBAgSCCwjS+n1GqHwCBAhMKCBIE6RNOEnsQIAAgQIEBGkFIKuCQHABQVpwUgUWLCBIC36tT4EECPhGmjlAgEBgAUFawSeIqiNAgECzgCBNkNY8KzxDgACB4gUEacWbq5FA7wLZIO3zX9y39wKVQKBgAUFa4Ct9iiNAwDfSzAECBIILCNIKPkFUHQECBJoFBGmCtOZZ4RkCBAgULyBIK95cjQR6F3h4wXPzHx1O/j39/Eu9F6gEAgULCNKCX+tTIAECvpFmDhAgEFhAkFbwCaLqCBAg0CwgSBOkNc8KzxAgQKB4AUFa8eZqJECAAAFBWuArfYojQMA30swBAgSCCwjSnLMSIECgdAFBmiCt9EmoAQQIEBgeGRWkmQYECBAgULyAIC34tT4FEiDgG2nmAAECgQUEacWfI6qRAAECOQFBmiAtNyU8JECAQCkCgrRS2FVKgACBmgsI0gJf6VMcAQK+kWYOECAQXECQVvMTVt0nQCAGAUGaIC2GeagNBAgQEKSZAwQIECBQvIAgLfi1PgUSIOAbaeYAAQKBBQRpxZ8jqpEAAQI5AUGaIC03JTwkQIBAKQKCtFLYVUqAAIGaCwjSAl/pUxwBAr6RZg4QIBBcQJBW8xNW3SdAIAYBQZogLYZ5qA0ECBAQpJkDBAgQIFC8gCAt+LU+BRIg4Btp5gABAoEFBGnFnyOqkQABAjkBQZogLTclPCRAgEApAoK0UthVSoAAgZoLCNICX+lTHAECvpFmDhAgEFxAkFbzE1bdJ0AgBgFBmiAthnmoDQQIEBCkmQMECBAgULyAIC34tT4FEiDgG2nmAAECgQUEacWfI6qRAAECOQFBmiAtNyU8JECAQCkCgrRS2FVKgACBmgsI0gJf6VMcAQK+kWYOECAQXECQVvMTVt0nQCAGAUGaIC2GeagNBAgQEKSZAwQIECBQvIAgLfi1PgUSIOAbaeYAAQKBBQRpxZ8jqpEAAQI5AUGaIC03JTwkQIBAKQKCtFLYVUqAAIGaCwjSAl/pUxwBAr6RZg4QIBBcQJBW8xNW3SdAIAYBQZogLYZ5qA0ECBAQpJkDBAgQIFC8gCAt+LU+BRIg4Btp5gABAoEFBGnFnyOqkQABAjkBQZogLTclPCRAgEApAoK0UthVSoAAgZoLCNICX+lTHAECvpFmDhAgEFxAkFbzE1bdJ0AgBgFBmiAthnmoDQQIEBCkmQMECBAgULyAIC34tT4FEiDgG2nmAAECgQUEacWfI6qRAAECOQFBmiAtNyU8JECAQCkCgrRS2FVKgACBmgsI0gJf6VMcAQK+kWYOECAQXECQVvMTVt0nQCAGAUGaIC2GeagNBAgQEKSZAwQIECBQvIAgLfi1PgUSIOAbaeYAAQKBBQRpxZ8jqpEAAQI5AUGaIC03JTwkQIBAKQKCtFLYVUqAAIGaCwjSAl/pUxwBAr6RZg4QIBBcQJBW8xNW3SdAIAYBQZogLYZ5qA0ECBAQpJkDBAgQIFC8gCAt+LU+BRIg4Btp5gABAoEFBGnFnyOqkQABAjkBQZogLTclPCRAgEApAoK0UthVSoAAgZoLCNICX+lTHAECvpFmDhAgEFxAkFbzE1bdJ0AgBgFBmiAthnmoDQQIEBCkmQMECBAgULyAIC34tT4FEiDgG2nmAAECgQUEacWfI6qRAAECOQFBmiAtNyU8JECAQCkCgrRS2FVKgACBmgsI0gJf6VMcAQK+kWYOECAQXECQVvMTVt0nQCAGAUGaIC2GeagNBAgQEKSZAwQIECBQvIAgLfi1PgUSIOAbaeYAAQKBBQRpxZ8jqpEAAQI5AUGaIC03JTwkQIBAKQKCtFLYVUqAAIGaCwjSAl/pUxwBAr6RZg4QIBBcQJBW8xNW3SdAIAYBQZogLYZ5qA0ECBAQpJkDBAgQIFC8gCAt+LU+BRIg4Btp5gABAoEFBGnFnyOqkQABAjkBQZogLTclPCRAgEApAoK0UthVSoAAgZoLCNICX+lTHAECvpFmDhAgEFxAkFbzE1bdJ0AgBgFBmiAthnmoDQQIEBCkmQMECBAgULyAIC34tT4FEiDgG2nmAAECgQUEacWfI6qRAAECOQFBmiAtNyU8JECAQCkCgrRS2FVKgACBmgsI0gJf6VMcAQK+kWYOECAQXECQVvMTVt0nQCAGAUGaIC2GeagNBAgQEKSZAwQIECBQvIAgLfi1PgUSIOAbaeYAAQKBBQRpxZ8jqpEAAQI5AUGaIC03JTwkQIBAKQKCtFLYVUqAAIGaCwjSAl/pUxwBAr6RZg4QIBBcQJBW8xNW3SdAIAYBQZogLYZ5qA0ECBAQpJkDBAgQIFC8gCAt+LU+BRIg4Btp5gABAoEFBGnFnyOqkQABAjkBQZogLTclPCRAgEApAoK0UthVSoAAgZoLCNICX+lTHAECvpFmDhAgEFxAkFbzE1bdJ0AgBgFBmiAthnmoDQQIEBCkmQMECBAgULyAIC34tT4FEiDgG2nmAAECgQUEacWfI6qRAAECOQFBmiAtNyU8JECAQCkCgrRS2FVKgACBmgsI0gJf6VMcAQK+kWYOECAQXECQVvMTVt0nQCAGAUGaIC2GeagNBAgQEKSZAwQIECBQvIAgLfi1PgUSIOAbaeYAAQKBBQRpxZ8jqpEAAQI5AUGaIC03JTwkQIBAKQKCtFLYVUqAAIGaCwjSAl/pUxwBAr6RZg4QIBBcQJBW8xNW3SdAIAYBQZogLYZ5qA0ECBAQpJkDBAgQIFC8gCAt+LU+BRIg4Btp5gABAoEFBGnFnyOqkQABAjkBQZogLTclPCRAgEApAoK0UthVSoAAgZoLCNICX+lTHAECvpFmDhAgEFxAkFbzE1bdJ0AgBgFBmiAthnmoDQQIEBCkmQMECBAgULyAIC34tT4FEiDgG2nmAAECgQUEacWfI6qRAAECOQFBmiAtNyU8JECAQCkCgrRS2FVKgACBmgsI0gJf6VMcAQK+kWYOECAQXECQVvMTVt0nQCAGAUGaIC2GeagNBAgQEKSZAwQIECBQvIAgLfi1PgUSIOAbaeYAAQKBBQRpxZ8jqpEAAQI5AUGaIC03JTwkQIBAKQKCtFLYVUqAAIGaCwjSAl/pUxwBAr6RZg4QIBBcQJBW8xNW3SdAIAYBQZogLYZ5qA0ECBAQpJkDBAgQIFC8gCAt+LU+BRIg4Btp5gABAoEFBGnFnyOqkQABAjkBQZogLTclPCRAgEApAoK0UthVSoAAgZoLCNICX+lTHAECvpFmDhAgEFxAkFbzE1bdJ0AgBgFBmiAthnmoDQQIEBCkmQMECBAgULyAIC34tT4FEiDgG2nmAAECgQUEacWfI6qRAAECOQFBmiAtNyU8JECAQCkCgrRS2FVKgACBmgsI0gJf6VMcAQK+kWYOECAQXECQVvMTVt0jvfiyAAAgAElEQVQnQCAGAUGaIC2GeagNBAgQEKSZAwQIECBQvIAgLfi1PgUSIOAbaeYAAQKBBQRpxZ8jqpEAAQI5AUGaIC03JTwkQIBAKQKCtFLYVUqAAIGaCwjSAl/pUxwBAr6RZg4QIBBcQJBW8xNW3SdAIAYBQZogLYZ5qA0ECBAQpJkDBAgQIFC8gCAt+LU+BRIg4Btp5gABAoEFBGnFnyOqkQABAjkBQZogLTclPCRAgEApAoK0UthVSoAAgZoLCNICX+lTHAECvpFmDhAgEFxAkFbzE1bdJ0AgBgFBmiAthnmoDQQIEBCkmQMECBAgULyAIC34tT4FEiDgG2nmAAECgQUEacWfI6qRAAECOQFBmiAtNyU8JECAQCkCgrRS2FVKgACBmgsI0gJf6VMcAQK+kWYOECAQXECQVvMTVt0nQCAGAUGaIC2GeagNBAgQEKSZAwQIECBQvIAgLfi1PgUSIOAbaeYAAQKBBQRpxZ8jqpEAAQI5AUGaIC03JTwkQIBAKQKCtFLYVUqAAIGaCwjSAl/pUxwBAr6RZg4QIBBcQJBW8xNW3SdAIAYBQZogLYZ5qA0ECBAQpJkDBAgQIFC8gCAt+LU+BRIg4Btp5gABAoEFBGnFnyOqkQABAjkBQZogLTclPCRAgEApAoK0UthVSoAAgZoLCNICX+lTHAECvpFmDhAgEFxAkFbzE1bdJ0AgBgFBmiAthnmoDQQIEBCkmQMECBAgULyAIC34tT4FEiDgG2nmAAECgQUEacWfI6qRAAECOQFBmiAtNyU8JECAQCkCgrRS2FVKgACBmgsI0gJf6VMcAQK+kWYOECAQXECQVvMTVt0nQCAGAUGaIC2GeagNBAgQEKSZAwQIECBQvIAgLfi1PgUSIOAbaeYAAQKBBQRpxZ8jqpEAAQI5AUGaIC03JTwkQIBAKQKCtFLYVUqAAIGaCwjSAl/pUxwBAr6RZg4QIBBcQJBW8xNW3SdAIAYBQZogLYZ5qA0ECBAQpJkDBAgQIFC8gCAt+LU+BRIg4Btp5gABAoEFBGnFnyOqkQABAjkBQZogLTclPCRAgEApAoK0UthVSoAAgZoLCNICX+lTHAECvpFmDhAgEFxAkFbzE1bdJ0AgBgFBmiAthnmoDQQIEBCkmQMECBAgULyAIC34tT4FEiDgG2nmAAECgQUEacWfI6qRAAECOQFBmiAtNyU8JECAQCkCgrRS2FVKgACBmgsI0gJf6VMcAQK+kWYOECAQXECQVvMTVt0nQCAGAUGaIC2GeagNBAgQEKSZAwQIECBQvIAgLfi1PgUSIOAbaeYAAQKBBQRpxZ8jqjGgwO33PrTFVtu8evbsL35p/6effylgyYoiUKSAIE2QVuR8UxcBAgTGExCkjSfjeQLRClx7013nXXRZtM3TMALtCAjSAl/pUxwBAr6RZg4QIBBcYNNNNzvyx8ce/8tT/SNQRYGVVl6l8c//Pv6pz1axC9pM4Phfnvru9+54yimnBP8NX60CN9ts83Y+ZtuHAAECBPonIEjrn62SCfRD4KCDDx0aGmo0Gv/2nvf1o3xlEihGQJBWrQ9uWkugEgK+kVaJYdJIAlUSuO666472H4HKCvwzRPuf/6+00kqV7YeGEzj6ueeeq9KbRx/aus66626z7Xb+ESBAgECJAjNnzvzHP/7Rh9/x8Rb5mmWWKRFc1QR6FEhStOQz0Zvf8tYeS3M4gbIEZs6cuXDhwnjfKrSMAIEKCgjSKjhomkyAAAEC/RE4/fTTs0Ha1KlT+1OPUgkQKELgv/7rv172HwECBAiUKvCf//mfRfzGj6mO//N//k+p5Con0L3Asccem/00tPPOO3dfliMJlCrwv//3/47pnUFbCBAYBAFB2iCMoj4QIECAQBCBt7zlLdmPjo1G49xzzw1SskIIECBAgAABAgQIECAQs8DGG2+c/TQ0Z86cmFurbQQIECBAoEgBQVqR2uoiQIAAgagFpkyZkv3o2Gg0Nttss6hbrHEECBAgQIAAAQIECBDoWeAf//jHIosskvs0dO+99/ZcsAIIECBAgMAgCAjSBmEU9YEAAQIEehfIreuYfIacNm1a7yUrgQABAgQIECBAgAABAjEL/OIXv8ilaI1GY5dddom5zdpGgAABAgQKExCkFUatIgIECBCIWqB5Xcfkk6TVHaMeNo0jQIAAAQIECBAgQKBngdy6jslHIas79uyqAAIECBAYEAFB2oAMpG4QIECAQI8C2XUdZ8+end6PaXXHHmEdToAAAQIECBAgQIBAzAJjruuYfCCyumPMA6dtBAgQIFCYgCCtMGoVESBAgEC8Atl1HadMmXL88cenQZrVHeMdNi0jQIAAAQIECBAgQKBngey6jlOnTl1xxRXTT0NWd+xZVwEECBAgMAgCgrRBGEV9IECAAIEeBbLrOm6yySa5WzKt7tgjr8MJECBAgAABAgQIEIhWILuu49ve9rb9998/DdKs7hjtqGkYAQIECBQpIEgrUltdBAgQIBCpQHZdx5NPPvmVV17ZaKON0k+PVneMdNg0iwABAgQIECBAgACB3gRyNxGeeeaZL7zwwtDQUPppyOqOvQE7mgABAgQGQUCQNgijqA8ECBAg0ItAbl3HpKgTTjgh/ehodcdeeB1LgAABAgQIECBAgEC0Arl1HZN2Wt0x2vHSMAIECBAoRUCQVgq7SgkQIEAgIoHcuo5Jy3I3ZlrdMaIB0xQCBAgQIECAAAECBAIJ5NZ1TEq1umMgXcUQIECAwIAICNIGZCB1gwABAgS6Fmhe1zEpyuqOXZM6kAABAgQIECBAgACB+AVytw+eeeaZSZut7hj/2GkhAQIECBQpIEgrUltdBAgQIBCdwJjrOiattLpjdKOlQQQIECBAgAABAgQIhBMYc13HpHirO4ZjVhIBAgQIVF5AkFb5IdQBAgQIEOhFYMx1HZMCc7dnWt2xF2fHEiBAgAABAgQIECAQm8CY6zomjbS6Y2yDpT0ECBAgUKKAIK1EfFUTIECAQPkC463rmLTM6o7lj5AWECBAgAABAgQIECDQB4HcjYPpuo5JVVZ37AO5IgkQIECgqgKCtKqOnHYTIECAQO8CLdZ1TAq3umPvyEogQIAAAQIECBAgQCBCgRbrOiattbpjhKOmSQQIECBQioAgrRR2lRIgQIBAFAIt1nVM2pe7SdPqjlEMm0YQIECAAAECBAgQINCzQIt1HZOyre7Ys7ECCBAgQGBABARpAzKQukGAAAECXQi0XtcxKdDqjl3AOoQAAQIECBAgQIAAgZgFcrcM5tZ1TFpudceYR1DbCBAgQKBIAUFakdrqIkCAAIGIBCZc1zFpq9UdIxozTSFAgAABAgQIECBAIITAhOs6JpVY3TEEtjIIECBAoPICgrTKD6EOECBAgEB3AhOu65gUm7tV0+qO3Wk7igABAgQIECBAgACBeAQmXNcxaarVHeMZMi0hQIAAgRIFBGkl4quaAAECBMoUaGddx6R9Vncsc5zUTYAAAQIECBAgQIBAUIHczYJjruuYVPjnP/95aGio8c//7r333qANURgBAgQIEKiGgCCtGuOklQQIECAQVqDNdR2TSq3uGBZfaQQIECBAgAABAgQIlCjQ5rqOSQut7ljiSKmaAAECBCIREKRFMhCaQYAAAQKFCrS5rmPSptwNm1Z3LHSoVEaAAAECBAgQIECAQFCB7LqOm266aeuyDzjggH9+Ia0xZ86c1jt7lQABAgQIDKSAIG0gh1WnCBAgQGACgfbXdUwKsrrjBKBeJkCAAAECBAgQIECgCgK52wTPPvvs1q22umNrH68SIECAQB0EBGl1GGV9JECAAIF/EehoXcfkSKs7/ougBwQIECBAgAABAgQIVFOgo3Udky6utNJK6ZfSdtlll2r2W6sJECBAgED3AoK07u0cSYAAAQIVFehoXcekj7nbNq3uWNGh12wCBAgQIECAAAECNRfoaF3HxMrqjjWfM7pPgAABAoI0c4AAAQIEaifQ6bqOCZDVHWs3UXSYAAECBAgQIECAwGAJ5G4QnHBdx6T3VnccrFmgNwQIECDQsYAgrWMyBxAgQIBApQW6WNcx6a/VHSs97hpPgAABAgQIECBAgEAX6zomaFZ3NHkIECBAoM4CgrQ6j76+EyBAoI4CXazrmDDlbt60umMdZ48+EyBAgAABAgQIEKiyQBfrOibdtbpjlYdd2wkQIECgVwFBWq+CjidAgACBagl0t65j0kerO1ZrrLWWAAECBAgQIECAAIFUIHdrYJvrOiaHW90xZbRBgAABAjUUEKTVcNB1mQABAvUV6Hpdx4TM6o71nTp6ToAAAQIECBAgQKDiAl2v65j02+qOFR9/zSdAgACB7gUEad3bOZIAAQIEKifQ9bqOSU9zt3Ba3bFyE0CDCRAgQIAAAQIECNRWoOt1HRMxqzvWduboOAECBAgI0swBAgQIEKiRQC/rOiZMVnes0XTRVQIECBAgQIAAAQKDIpC7KbCjdR0TA6s7Dspc0A8CBAgQ6FhAkNYxmQMIECBAoKICPa7rmPTa6o4VHX3NJkCAAAECBAgQIFBngR7XdUzorO5Y5ymk7wQIEKizgCCtzqOv7wQIEKiXQI/rOiZYuRs5re5YrzmktwQIECBAgAABAgSqKdDjuo5Jp63uWM3B12oCBAgQ6FVAkNaroOMJECBAoCoCva/rmPTU6o5VGXHtJECAAAECBAgQIEDglVdeyd0O2MW6jgmj1R1NJwIECBCop4AgrZ7jrtcECBConUCQdR0TNas71m726DABAgQIECBAgACBKgsEWdcxAbC6Y5UngrYTIECAQJcCgrQu4RxGgAABAtUSCLKuY9Ll3O2cVnes1kzQWgIECBAgQIAAAQJ1EwiyrmOCZnXHuk0e/SVAgACBV155RZBmGhAgQIBALQRCreuYYFndsRaTRicJECBAgAABAgQIVF8gdyNg1+s6JhJWd6z+jNADAgQIEOhYQJDWMZkDCBAgQKByAgHXdUz6bnXHys0BDSZAgAABAgQIECBQT4GA6zomgFZ3rOdE0msCBAjUWUCQVufR13cCBAjURSDguo4JWe6mTqs71mUm6ScBAgQIECBAgACBqgkEXNcx6brVHas2BbSXAAECBHoVEKT1Kuh4AgQIEIhfIOy6jkl/re4Y/7hrIQECBAgQIECAAIGaC+RuAexxXccE0+qONZ9Uuk+AAIEaCgjSajjoukyAAIF6CQRf1zHhs7pjvaaR3hIgQIAAAQIECBCooEDwdR0TA6s7VnAuaDIBAgQIdC8gSOvezpEECBAgUAmB4Os6Jr3O3dppdcdKTAaNJECAAAECBAgQIFArgeDrOiZ6Vnes1SzSWQIECBAQpJkDBAgQIDDgAv1Y1zEhs7rjgE8d3SNAgAABAgQIECBQZYHczX9B1nVMPKzuWOV5oe0ECBAg0LGAIK1jMgcQIECAQIUE+rSuYyJgdccKzQRNJUCAAAECBAgQIFA3gT6t65gwWt2xbtNJfwkQIFBnAUFanUdf3wkQIDD4An1a1zGBy93gaXXHwZ9PekiAAAECBAgQIECgOgJ9WtcxAbC6Y3UmgpYSIECAQK8CgrReBR1PgAABAjEL9G9dx6TX2dUdN91005gptI0AAQIECBAgQIAAgfoI5G77C7iuY2Jodcf6zCU9JUCAAAFBmjlAgAABAgMr0Nd1HRM1qzsO7OzRMQIECBAgQIAAAQJVFujruo4JjNUdqzxBtJ0AAQIEOhAQpHWAZVcCBAgQqJZAX9d1TCj6fZtntcC1lgABAgQIECBAgACBSAT6uq5j0kerO0Yy1ppBgAABAv0WEKT1W1j5BAgQIFCaQL/XdUw6ZnXH0gZYxQQIECBAgAABAgQIjCVQzA1/Vnccy95zBAgQIDCAAoK0ARxUXSJAgACBV155pYB1HRPn7OqOU6dOhU+AAAECBAgQIECAAIFyBQpY1zHpoNUdyx1otRMgQIBAMQKCtGKc1UKAAAECRQsUsK5j0qVibvYsmk99BAgQIECAAAECBAhUVqCAdR0TG6s7VnaOaDgBAgQIdCAgSOsAy64ECBAgUCGBYtZ1TECs7lihiaGpBAgQIECAAAECBAZboMhb/azuONhzSe8IECBAIBEQpJkJBAgQIDCAAoWt65jYWd1xAOeQLhEgQIAAAQIECBCopkBh6zomPFZ3rOY00WoCBAgQ6EBAkNYBll0JECBAoCoCha3rmIAUectnVYZAOwkQIECAAAECBAgQKEWgsHUdk95Z3bGUUVYpAQIECBQpIEgrUltdBAgQIFCQQJHrOiZdsrpjQUOrGgIECBAgQIAAAQIExhco/iY/qzuOPxpeIUCAAIEBERCkDchA6gYBAgQIpAIFr+uY1Gt1x9TfBgECBAgQIECAAAECZQkUvK5j0k2rO5Y13OolQIAAgWIEBGnFOKuFAAECBIoTKHhdx6Rjxd/4WRyomggQIECAAAECBAgQqIhAwes6JipWd6zI7NBMAgQIEOhSQJDWJZzDCBAgQCBageLXdUworO4Y7ZTQMAIECBAgQIAAAQJ1ECjr9j6rO9ZhdukjAQIE6iwgSKvz6Os7AQIEBlCglHUdE0erOw7gfNIlAgQIECBAgAABAtURKGVdx4TH6o7VmSZaSoAAAQIdCwjSOiZzAAECBAjELFDKuo4JSFm3f8Y8HNpGgAABAgQIECBAgEBhAqWs65j0zuqOhY2yiggQIECgeAFBWvHmaiRAgACBPgqUta5j0iWrO/ZxaBVNgAABAgQIECBAgMD4AuXe2Gd1x/FHxisECBAgUHkBQVrlh1AHCBAgQCAVKHFdx6QNVndMx8IGAQIECBAgQIAAAQJFCpS4rmPSTas7Fjnc6iJAgACBIgUEaUVqq4sAAQIE+itQ4rqOScfKvQm0v7hKJ0CAAAECBAgQIEAgYoES13VMVKzuGPHs0DQCBAgQ6ElAkNYTn4MJECBAICqBctd1TCis7hjVlNAYAgQIECBAgAABAnUQiOGWPqs71mGm6SMBAgTqKSBIq+e46zUBAgQGUKD0dR0TU6s7DuDc0iUCBAgQIECAAAECcQuUvq5jwmN1x7inidYRIECAQJcCgrQu4RxGgAABArEJlL6uYwISw62gsQ2N9hAgQIAAAQIECBAg0FeB0td1THpndce+jrLCCRAgQKAsAUFaWfLqJUCAAIHAAjGs65h0yeqOgYdWcQQIECBAgAABAgQIjC8Qz818Vnccf5S8QoAAAQIVFhCkVXjwNJ0AAQIEUoFI1nVM2mN1x3RcbBAgQIAAAQIECBAg0G+BSNZ1TLppdcd+D7fyCRAgQKB4AUFa8eZqJECAAIHwApGs65h0LJ4bQsNDK5EAAQIECBAgQIAAgcgEIlnXMVGxumNks0NzCBAgQCCAgCAtAKIiCBAgQKB0gXjWdUworO5Y+pTQAAIECBAgQIAAAQJ1EIjtNj6rO9Zh1ukjAQIE6iYgSKvbiOsvAQIEBlAgqnUdE1+rOw7gPNMlAgQIECBAgAABAvEJRLWuY8Jjdcf4pokWESBAgEBPAoK0nvgcTIAAAQIxCES1rmMCEtttoTEMkzYQIECAAAECBAgQIBBcIKp1HZPeWd0x+CgrkAABAgTKFRCkleuvdgIECBAIIBDbuo5Jl6zuGGBoFUGAAAECBAgQIECAwPgCcd7AZ3XH8UfMKwQIECBQSQFBWiWHTaMJECBAIBWIcF3HpG1Wd0zHyAYBAgQIECBAgAABAv0QiHBdx6SbVnfsx3ArkwABAgTKEhCklSWvXgIECBAIIxDhuo5Jx+K8OTQMulIIECBAgAABAgQIEIhAIMJ1HRMVqztGMDs0gQABAgSCCQjSglEqiAABAgRKEciu63jooYfOD/HfbbfdFqKY+fPmzWv8879NN920FB+VEiBAgAABAgQIECAwkAIx37pndceBnHI6RYAAgdoKCNJqO/Q6ToAAgUEQyK7r+M/EKt7/D4K4PhAgQIAAAQIECBAgEIdAdl3HRqOxfc//bbfddmusscYqq6yyzTbb9FzY9tkPZjvssEMcZlpBgAABAgS6ERCkdaPmGAIECBCIRGD77f/l41n2o1qE2z/84Q8jcdMMAgQIECBAgAABAgSqLpBd1zHCjz+5JlVdW/sJECBAoM4CgrQ6j76+EyBAoPICn//853Mfz2J+eNNNN1VeXAcIECBAgAABAgQIEIhD4DWveU3MH39ybYvDTCsIECBAgEA3AoK0btQcQ4AAAQKRCPzXf/3XPvvss/jii88K9N+kSZPSz3vTp0/vvdQZM2YkBb7vfe+LBE0zCBAgQIAAAQIECBAYAIEPfvCD6YeX+DcGAFwXCBAgQKC2AoK02g69jhMgQIDAGAJrrrlm+hHUSoxjAHmKAAECBAgQIECAAIFoBM4+++yPfvSjewb6b/LkyemnoQ9/+MNBSl133XXf+ta3jo6ORmOmIQQIECBAoGMBQVrHZA4gQIAAgQEWEKQN8ODqGgECBAgQIECAAAECLQSmT5+eBmkvvvhiiz29RIAAAQIEaiUgSKvVcOssAQIECEwgIEibAMjLBAgQIECAAAECBAgMqIAgbUAHVrcIECBAoFcBQVqvgo4nQIAAgUESEKQN0mjqCwECBAgQIECAAAEC7QsI0tq3sicBAgQI1EpAkFar4dZZAgQIEJhAQJA2AZCXCRAgQIAAAQIECBAYUAFB2oAOrG4RIECAQK8CgrReBR1PgAABAoMkIEgbpNHUFwIECBAgQIAAAQIE2hcQpLVvZU8CBAgQqJWAIK1Ww62zBAgQIDCBgCBtAiAvEyBAgAABAgQIECAwoAKCtAEdWN0iQIAAgV4FBGm9CjqeAAECBAZJQJA2SKOpLwQIECBAgAABAgQItC8gSGvfyp4ECBAgUCsBQVqthltnCRAgQGACAUHaBEBeJkCAAAECBAgQIEBgQAUEaQM6sLpFgAABAr0KCNJ6FXQ8AQIECAySgCBtkEZTXwgQIECAAAECBAgQaF9AkNa+lT0JECBAoFYCgrRaDbfOEiBAgMAEAoK0CYC8TIAAAQIECBAgQIDAgAoI0gZ0YHWLAAECBHoVEKT1Kuh4AgQIEBgkAUHaII2mvhAgQIAAAQIECBAg0L6AIK19K3sSIECAQK0EBGm1Gm6dJUCAAIEJBARpEwB5mQABAgQIECBAgACBARUQpA3owOoWAQIECPQqIEjrVdDxBAgQIDBIAoK0QRpNfSFAgAABAgT+X/buO1qKIuH/f997gUsWRFHEjBjXhKgYEBCzLOacs6JiXtew5pxzABOuGDAgYgIBRQQEVFRQQDCQB5FZV9E5zznPH7/znP59a2u7b89UV1fNdFe/Pf7Rt29VddWreqrvh7p3BgEEEEBAXYCNNHUrSiKAAAII5EqAjbRcTTeDRQABBBCoIMBGWgUgvo0AAggggAACCCCAAAKOCrCR5ujEMiwEEEAAgaQCbKQlFaQ+AggggIBLAmykuTSbjAUBBBBAAAEEEEAAAQTUBdhIU7eiJAIIIIBArgTYSMvVdDNYBBBAAIEKAmykVQDi2wgggAACCCCAAAIIIOCoABtpjk4sw0IAAQQQSCrARlpSQeojgAACCLgkwEaaS7PJWBBAAAEEEEAAAQQQQEBdgI00dStKIoAAAgjkSoCNtFxNN4NFAAEEEKggwEZaBSC+jQACCCCAAAIIIIAAAo4KsJHm6MQyLAQQQACBpAJspCUVpD4CCCCAgEsCbKS5NJuMBQEEEEAAAQQQQAABBNQF2EhTt6IkAggggECuBNhIy9V0M1gEEEAAgQoCbKRVAOLbCCCAAAIIIIAAAggg4KgAG2mOTizDQgABBBBIKsBGWlJB6iOAAAIIuCTARppLs8lYEEAAAQQQQAABBBBAQF2AjTR1K0oigAACCORKgI20XE03g0UAAQQQqCDARloFIL6NAAIIIIAAAggggAACjgqwkeboxDIsBBBAAIGkAmykJRWkPgIIIICASwJspLk0m4wFAQQQQAABBBBAAAEE1AXYSFO3oiQCCCCAQK4E2EjL1XQzWAQQQACBCgJspFUA4tsIIIAAAggggAACCCDgqAAbaY5OLMNCAAEEEEgqwEZaUkHqI4AAAgi4JMBGmkuzyVgQQAABBBBAAAEEEEBAXYCNNHUrSiKAAAII5EqAjbRcTTeDRQABBBCoIMBGWgUgvo0AAggggAACCCCAAAKOCrCR5ujEMiwEEEAAgaQCbKQlFaQ+AggggIBLAmykuTSbjAUBBBBAAAEEEEAAAQTUBdhIU7eiJAIIIIBArgTYSMvVdDNYBBBAAIEKAmykVQDi2wgggAACCCCAAAIIIOCoABtpjk4sw0IAAQQQSCrARlpSQeojgAACCLgkwEaaS7PJWBBAAAEEEEAAAQQQQEBdgI00dStKIoAAAgjkSoCNtFxNN4NFAAEEEKggwEZaBSC+jQACCCCAAAIIIIAAAo4KsJHm6MQyLAQQQACBpAJspCUVpD4CCCCAgEsCbKS5NJuMBQEEEEAAAQQQQAABBNQF2EhTt6IkAggggECuBNhIy9V0M1gEEEAAgQoCbKRVAOLbCCCAAAIIIIAAAggg4KgAG2mOTizDQgABBBBIKsBGWlJB6iOAAAIIuCTARppLs8lYEEAAAQQQQAABBBBAQF2AjTR1K0oigAACCORKgI20XE03g0UAAQQQqCDARloFIL6NAAIIIIAAAggggAACjgqwkeboxDIsBBBAAIGkAmykJRWkPgIIIICASwJspLk0m4wFAQQQQAABBBBAAAEE1AXYSFO3oiQCCCCAQK4E2EjL1XQzWAQQQACBCgJspFUA4tsIIIAAAggggAACCCDgqAAbaY5OLMNCAAEEEEgqwEZaUkHqI4AAAgi4JMBGmkuzyVgQQAABBBBAAAEEEEBAXYCNNHUrSiKAAAII5EqAjbRcTTeDRQABBBCoIMBGWgUgvo0AAggggAACCCCAAIo/9PAAACAASURBVAKOCrCR5ujEMiwEEEAAgaQCbKQlFaQ+AggggIBLAmykuTSbjAUBBBBAAAEEEEAAAQTUBdhIU7eiJAIIIIBArgTYSMvVdDNYBBBAAIEKAmykVQDi2wgggAACCCCAAAIIIOCoABtpjk4sw0IAAQQQSCrARlpSQeojgAACCLgkwEaaS7PJWBBAAAEEEEAAAQQQQEBdgI00dStKIoAAAgjkSoCNtFxNN4NFAAEEEKggwEZaBSC+jQACCCCAAAIIIIAAAo4KsJHm6MQyLAQQQACBpAJspCUVpD4CCCCAgEsCbKS5NJuMBQEEEEAAAQQQQAABBNQF2EhTt6IkAggggECuBNhIy9V0M1gEEEAAgQoCbKRVAOLbCCCAAAIIIIAAAggg4KgAG2mOTizDQgABBBBIKsBGWlJB6iOAAAIIuCTARppLs8lYEEAAAQQQQAABBBBAQF2AjTR1K0oigAACCORKgI20XE03g0UAAQQQqCDARloFIL6NAAIIIIAAAggggAACjgqwkeboxDIsBBBAAIGkAmykJRWkPgIIIICASwJspLk0m4wFAQQQQAABBBBAAAEE1AXYSFO3oiQCCCCAQK4E2EjL1XQzWAQQQACBCgJspFUA4tsIIIAAAggggAACCCDgqAAbaY5OLMNCAAEEEEgqwEZaUkHqI4AAAgi4JMBGmkuzyVgQQAABBBBAAAEEEEBAXYCNNHUrSiKAAAII5EqAjbRcTTeDRQABBBCoIMBGWgUgvo0AAggggAACCCCAAAKOCrCR5ujEMiwEEEAAgaQCbKQlFaQ+AggggIBLAmykuTSbjAUBBBBAAAEEEEAAAQTUBdhIU7eiJAIIIIBArgTYSMvVdDNYBBBAAIEKAmykVQDi2wgggAACCCCAAAIIIOCoABtpjk4sw0IAAQQQSCrARlpSQeojgAACCLgkwEaaS7PJWBBAAAEEEEAAAQQQQEBdgI00dStKIoAAAgjkSoCNtFxNN4NFIJHA//7v/z711FP7779/X/5DwF0BT/qvrq7O3YEyMgSUBAYPHvzDDz8kenhQGQEEEEAAgQwKFIvFm2++uV+/fkrPSwoh4IqAFIa83Xff3ZVhMQ4ElATIPhl8XNNlBKonwEZa9ay5EgJZFxg+fLj8UzXHCCCAAAJ5ENh1112z/vyi/wgggAACCMQVOO+88/LwlGeMCCCAAAKyANkn7uOS8gjkR4CNtPzMNSNFIKnAxRdfLP94wTECCCCAQB4E6uvrkz4/qI8AAggggEDWBHr27JmHpzxjRAABBBCQBcg+WXtc018EqifARlr1rLkSAlkXYCNN/umKYwQQQCAnAoTJrD++6T8CCCCAgIYAG2k5+TmHYSKAAAKyANlH44lJFQRyIsBGWk4mmmEiYEBA3kh76qmnlvIfAo4KLFmyZP78+Y4OjmEhoCrQpk0bP1ISJg08QWkCAQQQQCBrAvJG2ty5c1Ufn5RDIPsCCxcu/OGHH7I/DkaAQAwBsk/WntL0F4EaCLCRVgN0LolARgXkjbR33303o6Og2wgggAACKgLdu3dnI00FijIIIIAAAk4KyBtpv/32m5NjZFAIIIAAAr4A2Yc7AQEEKgqwkVaRiAIIIPD/C7CRxq2AAAII5EeAMJmfuWakCCCAAAJhATbSwiacQQABBFwVIPu4OrOMCwGDAmykGcSkKQQcF2AjzfEJZngIIICAJECYlDA4RAABBBDInQAbabmbcgaMAAI5FiD75HjyGToCqgJspKlKUQ4BBNhI4x5AAAEE8iNAmMzPXDNSBBBAAIGwABtpYRPOIIAAAq4KkH1cnVnGhYBBATbSDGLSFAKOC7CR5vgEMzwEEEBAEiBMShgcIoAAAgjkToCNtNxNOQNGAIEcC5B9cjz5DB0BVQE20lSlKIcAAmykcQ8ggAAC+REgTOZnrhkpAggggEBYgI20sAlnEEAAAVcFyD6uzizjQsCgABtpBjFpCgHHBdhIc3yCGR4CCCAgCRAmJQwOEUAAAQRyJ8BGWu6mnAEjgECOBcg+OZ58ho6AqgAbaapSlEMAATbSuAcQQACB/AgQJvMz14wUAQQQQCAswEZa2IQzCCCAgKsCZB9XZ5ZxIWBQgI00g5g0hYDjAmykOT7BDA8BBBCQBAiTEgaHCCCAAAK5E2AjLXdTzoARQCDHAmSfHE8+Q0dAVYCNNFUpyiGAABtp3AMIIIBAfgQIk/mZa0aKAAIIIBAWYCMtbMIZBBBAwFUBso+rM8u4EDAowEaaQUyaQsBxATbSHJ9ghocAAghIAoRJCYNDBBBAAIHcCbCRlrspZ8AIIJBjAbJPjiefoSOgKsBGmqoU5RBAgI007gEEEEAgPwKEyfzMNSNFAAEEEAgLsJEWNuEMAggg4KoA2cfVmWVcCBgUYCPNICZNIeC4ABtpjk8ww0MAAQQkAcKkhMEhAggggEDuBNhIy92UM2AEEMixANknx5PP0BFQFWAjTVWKcgggwEYa9wACCCCQHwHCZH7mmpEigAACCIQF2EgLm3AGAQQQcFWA7OPqzDIuBAwKsJFmEJOmEHBcgI00xyeY4SGAAAKSAGFSwuAQAQQQQCB3Amyk5W7KGTACCORYgOyT48ln6AioCrCRpipFOQQQYCONewABBBDIjwBhMj9zzUgRQAABBMICbKSFTTiDAAIIuCpA9nF1ZhkXAgYF2EgziElTCDguwEaa4xPM8BBAAAFJgDApYXCIAAIIIJA7ATbScjflDBgBBHIsQPbJ8eQzdARUBdhIU5WiHAIIsJHGPYAAAgjkR4AwmZ+5ZqQIIIAAAmEBNtLCJpxBAAEEXBUg+7g6s4wLAYMCbKQZxKQpBBwXYCPN8QlmeAgggIAkQJiUMDhEAAEEEMidABtpuZtyBowAAjkWIPvkePIZOgKqAmykqUpRDgEE2EjjHkAAAQTyI0CYzM9cM1IEEEAAgbAAG2lhE84ggAACrgqQfVydWcaFgEEBNtIMYtIUAo4LsJHm+AQzPAQQQEASIExKGBwigAACCOROgI203E05A0YAgRwLkH1yPPkMHQFVATbSVKUohwACbKRxDyCAAAL5ESBM5meuGSkCCCCAQFiAjbSwCWcQQAABVwXIPq7OLONCwKAAG2kGMWkKAccF2EhzfIIZHgIIICAJECYlDA4RQAABBHInwEZa7qacASOAQI4FyD45nnyGjoCqABtpqlKUQwABNtK4BxBAAIH8CBAm8zPXjBQBBBBAICzARlrYhDMIIICAqwJkH1dnlnEhYFCAjTSDmDSFgOMCbKQ5PsEMDwEEEJAECJMSBocIIIAAArkTYCMtd1POgBFAIMcCZJ8cTz5DR0BVgI00VSnKIYAAG2ncAwgggEB+BAiT+ZlrRooAAgggEBZgIy1swhkEEEDAVQGyj6szy7gQMCjARppBTJpCwHEBNtIcn2CGhwACCEgChEkJg0MEEEAAgdwJsJGWuylnwAggkGMBsk+OJ5+hI6AqwEaaqhTlEECAjTTuAQQQQCA/AoTJ/Mw1I0UAAQQQCAuwkRY24QwCCCDgqgDZx9WZZVwIGBRgI80gJk0h4LgAG2mOTzDDQwABBCQBwqSEwSECCCCAQO4E2EjL3ZQzYAQQyLEA2SfHk8/QEVAVYCNNVYpyCCDARhr3AAIIIJAfAcJkfuaakSKAAAIIhAXYSAubcAYBBBBwVYDs4+rMMi4EDAqwkWYQk6YQcFyAjTTHJ5jhIYAAApIAYVLC4BABBBBAIHcCbKTlbsoZMAII5FiA7JPjyWfoCKgKsJGmKmWk3BtvjDzvvEEXXDiY/xHIosD2O+zg/b//Bg48JItDoM8IXHDh4MGDL1q9erWRVb18IzfccAPgCGRXoEOHDv6SX1dXl91R0HMELr30sv/5n/8pv1zzXUsCZB9egJkW6Ny58/+LPt7Z55yb6bHQ+TwLkH3yPPuMXV2A7KNuRck0C5B9LOUav1k20qzyBhs/6OCDR4x8Z8Kk6fyPQBYFrr3+Zj9MNmve/LVR72VxCPQZgQmTpvffZ785c+YEF2gLX2+xxZaAI5BdgX32O8Bf87fe5i/ZHQU9R6DXbnssW7bMwhpPk5UFDjr44FdHvstNiEBGBQ457Ej/ObjRxpuM/3haRkdBtxEg+3APIKAiQPZRUaJM+gXIPpUjSoISbKQlwItf9fAjjvzmu8WFYon/EciiwNKVqx96dOixJ5w86p1xWew/fUbAFzjt9LOqs5HWe68+mCOQXYFv5y+54u//OO/8iz77al52R0HPETjiqGPYSIufWszUIPvwAsy0wLwfC9dcd/OZ5wya+tnsTA+EzudcgOyT8xuA4SsKkH0UoSiWcgGyj5kYE9EKG2kRMHZOEyZTvtzQPQQQyIMAYTIPs8wYEUAAAV+AMGkn1ii1SvbhZYgAAgjUXIDsU/MpoAMIIIBA1QTIPkopRbcQG2m6clr1CJNVWzi4EAIIIBAlQJiMkuE8Aggg4J4AYVIrtZipRPZx7wXFiBBAIHMCZJ/MTRkdRgABBLQFyD5mYkxEK2ykRcDYOU2Y1F4IqIgAAgiYEiBMmpKkHQQQQCD9AoRJO7FGqVWyT/pfIPQQAQScFyD7OD/FDBABBBAQAmQfpZSiW4iNNF05rXqESfHC5gABBBColQBhslbyXBcBBBCovgBhUiu1mKlE9qn+Dc8VEUAAgYAA2ScAwpcIIICAwwJkHzMxJqIVNtIiYOycJkw6vFQxNAQQyIoAYTIrM0U/EUAAgeQChEk7sUapVbJP8huYFhBAAIGEAmSfhIBURwABBDIkQPZRSim6hdhI05XTqkeYzNDSQ1cRQMBVAcKkqzPLuBBAAIGwAGFSK7WYqUT2Cd+QnEEAAQSqLED2qTI4l0MAAQRqKED2MRNjIlphIy0Cxs5pwmQNlxIujQACCPgChEnuBAQQQCA/AoRJO7FGqVWyT35eaIwUAQRSK0D2Se3U0DEEEEDAuADZRyml6BZiI01XTqseYdL4AkGDCCCAQFwBwmRcMcojgAAC2RUgTGqlFjOVyD7ZfeHQcwQQcEaA7OPMVDIQBBBAoKIA2cdMjIlohY20CBg7pwmTFV/wFEAAAQRsCxAmbQvTPgIIIJAeAcKknVij1CrZJz0vBHqCAAK5FSD75HbqGTgCCORQgOyjlFJ0C7GRpiunVY8wmcMljCEjgEDaBAiTaZsR+oMAAgjYEyBMaqUWM5XIPvZubFpGAAEEFAXIPopQFEMAAQQcECD7mIkxEa2wkRYBY+c0YdKBJYkhIIBA1gUIk1mfQfqPAAIIqAsQJu3EGqVWyT7qNyolEUAAAUsCZB9LsDSLAAIIpFCA7KOUUnQLsZGmK6dVjzCZwiWGLiGAQN4ECJN5m3HGiwACeRYgTGqlFjOVyD55fukxdgQQSIkA2SclE0E3EEAAgSoIkH3MxJiIVthIi4Cxc5owWYUlg0sggAAC5QUIk+V9+C4CCCDgkgBh0k6sUWqV7OPSS4mxIIBARgXIPhmdOLqNAAIIaAiQfZRSim4hNtJ05bTqESY1lgCqIIAAAmYFCJNmPWkNAQQQSLMAYVIrtZipRPZJ80uDviGAQE4EyD45mWiGiQACCBSKJbKPmRgT0QobaREwdk4TJlnUEEAAgZoLECZrPgV0AAEEEKiaAGHSTqxRapXsU7X7nAshgAACUQJknygZziOAAALuCZB9lFKKbiE20nTltOoRJt1boRgRAghkToAwmbkpo8MIIICAtgBhUiu1mKlE9tG+b6mIAAIImBIg+5iSpB0EEEAg/QJkHzMxJqIVNtIiYOycJkymf8Whhwgg4LwAYdL5KWaACCCAgBAgTNqJNUqtkn3EfcgBAgggUCsBsk+t5LkuAgggUH0Bso9SStEtxEaarpxWPcJk9VcQrogAAggEBAiTARC+RAABBBwWIExqpRYzlcg+Dr+yGBoCCGRFgOyTlZminwgggEByAbKPmRgT0QobaREwdk4TJpOvCLSAAAIIJBQgTCYEpDoCCCCQIQHCpJ1Yo9Qq2SdDrxS6igACrgqQfVydWcaFAAIIhAXIPkopRbcQG2m6clr1CJPhVzhnEEAAgSoLECarDM7lEEAAgRoKECa1UouZSmSfGt75XBoBBBDwBcg+3AkIIIBAfgTIPmZiTEQrbKRFwNg5TZjMz8rFSBFAILUChMnUTg0dQwABBIwLECbtxBqlVsk+xu9nGkQAAQTiCpB94opRHgEEEMiuANlHKaXoFmIjTVdOqx5hMrsrET1HAAFnBAiTzkwlA0EAAQQqChAmtVKLmUpkn4r3JwUQQAAB2wJkH9vCtI8AAgikR4DsYybGRLTCRloEjJ3ThMn0rCz0BAEEcitAmMzt1DNwBBDIoQBh0k6sUWqV7JPDVxxDRgCBtAmQfdI2I/QHAQQQsCdA9lFKKbqF2EjTldOqR5i0t1LQMgIIIKAoQJhUhKIYAggg4IAAYVIrtZipRPZx4BXEEBBAIOsCZJ+szyD9RwABBNQFyD5mYkxEK2ykRcDYOU2YVH/lUxIBBBCwJECYtARLswgggEAKBQiTdmKNUqtknxS+IugSAgjkTYDsk7cZZ7wIIJBnAbKPUkrRLcRGmq6cVj3CZJ7XMsaOAAIpESBMpmQi6AYCCCBQBQHCpFZqMVOJ7FOFO5xLIIAAAuUFyD7lffguAggg4JIA2cdMjIlohY20CBg7pwmTLq1NjAUBBDIqQJjM6MTRbQQQQEBDgDBpJ9YotUr20bhjqYIAAgiYFSD7mPWkNQQQQCDNAmQfpZSiW4iNNF05rXqEyTSvNfQNAQRyIkCYzMlEM0wEEECgUCwRJrVSi5lKZB9egwgggEDNBcg+NZ8COoAAAghUTYDsYybGRLTCRloEjJ3ThMmqLRxcCAEEEIgSIExGyXAeAQQQcE+AMGkn1ii1SvZx7wXFiBBAIHMCZJ/MTRkdRgABBLQFyD5KKUW3EBtpunJa9QiT2gsBFRFAAAFTAoRJU5K0gwACCKRfgDCplVrMVCL7pP8FQg8RQMB5AbKP81PMABFAAAEhQPYxE2MiWmEjLQLGzmnCpHhhc4AAAgjUSoAwWSt5rosAAghUX4AwaSfWKLVK9qn+Dc8VEUAAgYAA2ScAwpcIIICAwwJkH6WUoluIjTRdOa16hEmHlyqGhgACWREgTGZlpugnAgggkFyAMKmVWsxUIvskv4FpAQEEEEgoQPZJCEh1BBBAIEMCZB8zMSaiFTbSImDsnCZMZmjpoasIIOCqAGHS1ZllXAgggEBYgDBpJ9YotUr2Cd+QnEEAAQSqLED2qTI4l0MAAQRqKED2UUopuoXYSNOV06pHmKzhUsKlEUAAAV+AMMmdgAACCORHgDCplVrMVCL75OeFxkgRQCC1AmSf1E4NHUMAAQSMC5B9zMSYiFbYSIuAsXOaMGl8gaBBBBBAIK4AYTKuGOURQACB7AoQJu3EGqVWyT7ZfeHQcwQQcEaA7OPMVDIQBBBAoKIA2UcppegWYiNNV06rHmGy4gueAggggIBtAcKkbWHaRwABBNIjQJjUSi1mKpF90vNCoCcIIJBbAbJPbqeegSOAQA4FyD5mYkxEK2ykRcDYOU2YzOESxpARQCBtAoTJtM0I/UEAAQTsCRAm7cQapVbJPvZubFpGAAEEFAXIPopQFEMAAQQcECD7KKUU3UJspOnKadUjTDqwJDEEBBDIugBhMuszSP8RQAABdQHCpFZqMVOJ7KN+o1ISAQQQsCRA9rEES7MIIIBACgXIPmZiTEQrbKRFwNg5TZhM4RJDlxBAIG8ChMm8zTjjRQCBPAsQJu3EGqVWyT55fukxdgQQSIkA2SclE0E3EEAAgSoIkH2UUopuITbSdOW06hEmq7BkcAkEEECgvABhsrwP30UAAQRcEiBMaqUWM5XIPi69lBgLAghkVIDsk9GJo9sIIICAhgDZx0yMiWiFjbQIGDunCZMaSwBVEEAAAbMChEmznrSGAAIIpFmAMGkn1ii1SvZJ80uDviGAQE4EyD45mWiGiQACCBSKJbKPUkrRLcRGmq6cVj3CJIsaAgggUHMBwmTNp4AOIIAAAlUTIExqpRYzlcg+VbvPuRACCCAQJUD2iZLhPAIIIOCeANnHTIyJaIWNtAgYO6cJk+6tUIwIAQQyJ0CYzNyU0WEEEEBAW4AwaSfWKLVK9tG+b6mIAAIImBIg+5iSpB0EEEAg/QJkH6WUoluIjTRdOa16hMn0rzj0EAEEnBcgTDo/xQwQAQQQEAKESa3UYqYS2UfchxwggAACtRIg+9RKnusigAAC1Rcg+5iJMRGtsJEWAWPnNGGy+isIV0QAAQQCAoTJAAhfIoAAAg4LECbtxBqlVsk+Dr+yGBoCCGRFgOyTlZminwgggEByAbKPUkrRLcRGmq6cVj3CZPIVgRYQQACBhAKEyYSAVEcAAQQyJECY1EotZiqRfTL0SqGrCCDgqgDZx9WZZVwIIIBAWIDsYybGRLTCRloEjJ3ThMnwK5wzCCCAQJUFCJNVBudyCCCAQA0FCJN2Yo1Sq2SfGt75XBoBBBDwBcg+3AkIIIBAfgTIPkopRbcQG2m6clr1CJP5WbkYKQIIpFaAMJnaqaFjCCCAgHEBwqRWajFTiexj/H6mQQQQQCCuANknrhjlEUAAgewKkH3MxJiIVthIi4Cxc5owmd2ViJ4jgIAzAoRJZ6aSgSCAAAIVBQiTdmKNUqtkn4r3JwUQQAAB2wJkH9vCtI8AAgikR4Dso5RSdAuxkaYrp1WPMJmelYWeIIBAbgUIk7mdegaOAAI5FCBMaqUWM5XIPjl8xTFkBBBImwDZJ20zQn8QQAABewJkHzMxJqIVNtIiYOycJkzaWyloGQEEEFAUIEwqQlEMAQQQcECAMGkn1ii1SvZx4BXEEBBAIOsCZJ+szyD9RwABBNQFyD5KKUW3EBtpunJa9QiT6q98SiKAAAKWBAiTlmBpFgEEEEihAGFSK7WYqUT2SeErgi4hgEDeBMg+eZtxxosAAnkWIPuYiTERrbCRFgFj5zRhMs9rGWNHAIGUCBAmUzIRdAMBBBCoggBh0k6sUWqV7FOFO5xLIIAAAuUFyD7lffguAggg4JIA2UcppegWYiNNV06rHmHSpbWJsSCAQEYFCJMZnTi6jQACCGgIECa1UouZSmQfjTuWKggggIBZAbKPWU9aQwABBNIsQPYxE2MiWmEjLQLGzmnCZJrXGvqGAAI5ESBM5mSiGSYCCCBQKJYIk3ZijVKrZB9egwgggEDNBcg+NZ8COoAAAghUTYDso5RSdAuxkaYrp1WPMFm1hYMLIYAAAlEChMkoGc4jgAAC7gkQJrVSi5lKZB/3XlCMCAEEMidA9snclNFhBBBAQFuA7GMmxkS0wkZaBIyd04RJ7YWAiggggIApAcKkKUnaQQABBNIvQJi0E2uUWiX7pP8FQg8RQMB5AbKP81PMABFAAAEhQPZRSim6hdhI05XTqkeYFC9sDhBAAIFaCRAmayXPdRFAAIHqCxAmtVKLmUpkn+rf8FwRAQQQCAiQfQIgfIkAAgg4LED2MRNjIlphIy0Cxs5pwqTDSxVDQwCBrAgQJrMyU/QTAQQQSC5AmLQTa5RaJfskv4FpAQEEEEgoQPZJCEh1BBBAIEMCZB+llKJbiI00XTmteoTJDC09dBUBBFwVIEy6OrOMCwEEEAgLECa1UouZSmSf8A3JGQQQQKDKAmSfKoNzOQQQQKCGAmQfMzEmohU20iJg7JwmTNZwKeHSCCCAgC9AmOROQAABBPIjQJi0E2uUWiX75OeFxkgRQCC1AmSf1E4NHUMAAQSMC5B9lFKKbiE20nTltOoRJo0vEDSIAAIIxBUgTMYVozwCCCCQXQHCpFZqMVOJ7JPdFw49RwABZwTIPs5MJQNBAAEEKgqQfczEmIhW2EiLgLFzmjBZ8QVPAQQQQMC2AGHStjDtI4AAAukRIEzaiTVKrZJ90vNCoCcIIJBbAbJPbqeegSOAQA4FyD5KKUW3EBtpunJa9QiTOVzCGDICCKRNgDCZthmhPwgggIA9AcKkVmoxU4nsY+/GpmUEEEBAUYDsowhFMQQQQMABAbKPmRgT0QobaREwdk4TJh1YkhgCAghkXYAwmfUZpP8IIICAugBh0k6sUWqV7KN+o1ISAQQQsCRA9rEES7MIIIBACgXIPkopRbcQG2m6clr1CJMpXGLoEgII5E2AMJm3GWe8CCCQZwHCpFZqMVOJ7JPnlx5jRwCBlAiQfVIyEXQDAQQQqIIA2cdMjIlohY20CBg7pwmTVVgyuAQCCCBQXoAwWd6H7yKAAAIuCRAm7cQapVbJPi69lBgLAghkVIDsk9GJo9sIIICAhgDZRyml6BZiI01XTqseYVJjCaAKAgggYFaAMGnWk9YQQACBNAsQJrVSi5lKZJ80vzToGwII5ESA7JOTiWaYCCCAQKFYIvuYiTERrbCRFgFj5zRhkkUNAQQQqLkAYbLmU0AHEEAAgaoJECbtxBqlVsk+VbvPuRACCCAQJUD2iZLhPAIIIOCeANlHKaXoFmIjTVdOqx5h0r0VihEhgEDmBAiTmZsyOowAAghoCxAmtVKLmUpkH+37looIIICAKQGyjylJ2kEAAQTSL0D2MRNjIlphIy0Cxs7pzIXJaV98+8GHU5P/P2XGrPSvNRo9XLT8V0WcjyZ/9s13i5ev+jPuVX5Y8ou4xMdTv4hbXaW8G5dQGalemcUrfhNTkOTA1VeBnmptaxEma+uvePXlq/4cM37yjbfeNeiCi488+riDBhxywEEDTjz59L9ddd2DjwwZ9c64JT//rtiUe8V+WlacMGn6M8+/8uw/R7z7wceLV/zmj3Fx4d9imZowabrGQydtVqzAaZuRLPaHMGkn1ii1mrnsk8U7XL3PM76cK54RE6d8rl6xCiW/X7xS9G3y9K+qcMXkl+AJldyQFqojQPapjnOmr/LZV/P+swjP+DruWKbPnCOqBZLkxAAAIABJREFU+wdLV66O20g1y7OAV1Oba1VZgOyjlFJ0C7GRpiunVS9zYfKgAYd4hv6bNW9hldeOKlzuk2lfxuJp1qxZt27dzzv/otHvf6j475vvjJ0oX2LcxGnGx+XGJYyziAZnzl4gT4H28R69+4g2OaitAGGytv4Vrz7p05knn3rmuut2Kf9yW7NTpxNPPn3shCkVG3SpwJwFS0846bT6+noZZ8Kk6f4YZ3w5Vz7/0qujsj52VuCsz2Aa+k+Y1EotZiplLvuk4Y6114fDjjhafka8M3aivWvFbfnNtz+Q+/b519/FbaH65XlCVd+cK+oJkH303HJV69gTThaLcH19/aRPZ6oP/6XX3mrR2Ciqe55XX18/cvRY9RaqX5IFvPrmXLFqAmQfMzEmohU20iJg7JzOXJg0uJH29dyfqrZqVO1CcTfS5J8tduzRc8z4yRW7Gtjl+uCjTytWiVvAjUvEHbV6eX7GUrfKSknCZGpnata8hSefemZDQ4O8WpY/rqurO+yIoz/7al5qB2WwY/MXrliv6/phkKiNtBdHvGnw6jVpihW4JuyOXZQwaSfWKLWauezj2M0fGE5gI+3tMR8FCtTwy8BG2owv59awM4qX5gmlCEWxmguQfWo+BenvgLyR5nne++M/UezziJHvNDa2lONJfX39w48/rVi9VsVYwGslz3WrIED2UUopuoXYSNOV06qXuTDJRlr5NS7JRpr/ezrnD760/CXc2OWqwijKMyb5Lj9jJdFLZ13CZDrnZeTosR06dJRjmPpxh44dbfyeQdqgTjntrCZN2EhrkkU+yd8Ep+1mrmZ/CJNaqcVMpcxln2remdW/FhtpZs3JCGY9ac2eANnHnq0zLettpL0+6v2WLVvJP3JnYhetUCyxgDtz6zKQsADZx0yMiWiFjbQIGDunMxcm2UgLL0nymYQbaf4PHCefemaZt3mswhaUG5eQ58XssamfsQ457EizHaM1bQHCpDadvYqPDx3WvEULOYaJ4y7rdd2jd5/Djjj60MOP2n3Pvbp0WU98Sz7Iw15ah47/tdHYunWbAw8eeMJJp82cvcCfmsBbO/IXaeIOYQW29+JNf8uESTuxRqnVzGWf9N/PSXrIRloSvXBdMkLYhDPpFCD7pHNeUtUrjY20N9/+oHXrNuKHbf83xdP/t2g+Owt4qm4/OmNWgOyjlFJ0C7GRpiunVS9zYXL2vEUzvpwb9/9TzzhHfpp6nrfFllsvWv6r2aUhDa0FNtL23mf/Jq0+nvrFG2+NefCRIQMPPaJt23YBHM/zLrz48qjhBHa5+Iy0KCh75wM/Y23zl+2anOWKJxcu/5e9TtJyLAHCZCyuKhR+7oURdXV1gbWxdes25w++tMmPQBs7YcoFF10WSG6e5/3fXtqHU6vQ4Zpc4uu5P8lEvfv0Cz9Ynd9IYwWuyb2X9YsSJrVSi5lKmcs+Wb/by/efjbTyPnG/S0aIK0b5WgmQfWoln6Hrxt1Ie+u9CW3atJWzSVb+Fs2fFBbwDN2cdDWuANnHTIyJaIWNtAgYO6fzECZHjh7brFkz+YHatm27ydO/ivvKz0T5wEbagIGHVuz2vB8LZ5w9KPAJQA0NDVFvQv3j0lXjJk7z//9k2pcV29co4MYlNAauWCXwM1a//vspVqRYagUIk6mams+//i78jo4DBh4m/soqqrczv/n+kMOOlB83/7eX1qHjxCmfR1XJ9PmxE6bIg31syHPh4Ti/kcYKHJ50zlQUIEzaiTVKreYh+1S8A9NTgI00s3NBRjDrSWv2BMg+9mydaTnWRto7YycGfkE8W7to4bd2JGI4cyczkEKxRPZRSim6hdhI05XTqud8mPxqzo9rr91Z/pc+z/Oeeu5FV9cyjY00n2LY8FebN28uQ2219V+WrlztKlSmx0VIzvT0Ndl5wmSTLDU5uXzVnz133lVeDMv/kW64k5dc/vdA9f0PHBAu5sCZMeMnyyP9eOoX4UGxkRY24QwChEmt1GKmkvPZJ1uvLzbSzM4XGcGsJ63ZEyD72LN1pmX1jbT3xk1q3769nEoyt4vGRpoz9y0DaVKA7GMmxkS0wkZaBIyd026HySU//75rr93lB6rneecOGtzkC9uNk9obaYVi6fGhwwJWL7z8hhssjo2CkOzYhBaKJcJkeub02X+OCKyEZ593YdzuXXzZlXIjdXV1kz6dGbeR9JdnI83zPH5dNP03agp7SJi0E2uUWnU7+6Twbi/fJTbSyvvE/S4ZIa4Y5WslQPaplXyGrqu4kTZ2wpQ11uggJ68s7qKxkZahO5OuagiQfZRSim4hNtJ05bTquR0mzxk0WH6gep7Xa7c9lvz8u8rLfsnPv48ZP/m5F0bcff8j9zzw6DPPv9Lk79qrNCXKTJ7x9VPPvXj7Xfc/+uSziwv/FufDB7PmLXx91PuPDx12x90PPPz40y+/PvrTz78JFwufSbKRViiW9t3/IFksK39FMX/hig8++vSp51684+4Hnh720pjxk7/5bnEYJ+EZ7Ukpc90lP//+wYdThw1/9a77Hr7/4SdeHPHm9JlzypT3v1X9kKx+6/o9VCxvg1Tx0hWRq1yAMFll8DKX26nnLvIy2GmtteYvXFGmfJPfWvLz7zv26Cm3c+wJJzdZ0sbJqj2/LG2k2VgZDDpXfwUuFEtxVzbF8jaoFS9tcEay2BRhUiu1mKnkdvbJ3MshyUaa3k/RMtGPS1eNenf8kGdeuOPuBx598tk33hozZ8FSUeDNtz+Qn+MzvpwrvhV1YOP5G3WtJs+n/wml+Izg8dTk/Lp0kuzj0mxaGovKRtq4idM6dOwor9Xau2gs4OX/iTJWHjG+his+OyzdijSbXIDsYybGRLTCRloEjJ3TDofJIc+8ID9QPc/r3Hmdr+b8WHEJmDjl86OPOzH8ATme562/wYZnnD1o5jffl2nku58Kffr29/8feOgRfslpX3x7wEED5P7Mmrcw3MjSlavvvPehHjvtXFdXJxf2j7t1637xZVfO+7EQrijOJNxIC1RvaGgI93PGl3PFAPv07T/1s9n+1W+69W75vMrO37sffCxXufSKq/ymoi4hhukf/Lh01T9uuLVLl/XCVp7nbbzJpjfdenfUv4ArXqJQLCWflMWFf8vD/HHpqkKxNO/HwsWXXbnOOuuGO7/1Nts+9OjQwGDlLy2F5Li3btzyYgjJSbUvLfqQtgPCZEpmZNQ74wIvydvvul+vbx9P/UJeyZu3aCGeHQZXy0DfqvP8ev2t9/v226dP3/6BzcKeO+8q1jrxOwHqb+2YZGU4/azzxKUPO+LoAIv4cuyEKaKYfxD1uXeLV/zWr/9+ovB+BxwsGrG0AheKpbgrW9zyYghJqP1GtC8t+pDzA8KknVij1KrD2SeLL6uKG2nGf4r2lT746NO/HnJ4q1atAw/9Zs2a9d/3gNdHvV8olmJtpCV5/p56+tnicdO33z5RDya/5x9+MkMU7tO3/9HHnSjPe0qeUNrPCB5P8my6fUz2cXt+jYyu4kbahEnTO665pryM6+2iaS/gn3/93d777C/W5GHDX6048MeGPCfK9+nbX/4g7awv4Mn/6Uz72VGRnQI1FyD7KKUU3UJspOnKadVzNUx+Mu3LNm3ays/UZs2ajRw9tvzysXjFb+cMGtysWTO5Yvi4TZu21910+7Jf/miytW/nL5GrLPvlj0+mfdm58zrySc/zwhtUH3z06ZZbbRMoFv5yzU6dHh86rMlLF4qlwE7YgIGHRpWMOh/4h9Gnh70cKPnR5M/kXn3w0ad+gbPPu1A+f/U/bgpUDH958qlnylVuvPUuv0zUJeQWHnj4ybXWXluu3uTx+htsOHnG13JF9UsUiiUjk/LTsqLct/kLV0z6dOam3TaTT4aP++97QNTvBFn6GSvurRu3vC9vhFTv0uHbID1nCJMpmYtBF1wsvxi7bba54h8xN9n//vseILc26IKL/WIGV0tx3Wo+v6685np5XE0eT5g03e+b4kZawpUh8OT6YtZ8ISMfXHl1sOdRv7Uw+v0P5XH12n1P0Y6lFbhQLMVd2eKW94eQkNpvRO/SwpADwqRWajFTydXsk9GXVcWNNOM/RS9dufq88y9qaGiQF/nAcV1d3RlnD3rtzffk81F/kZb8+Xve+RfJFyrzjsFLfv59ux12lAvf++Bj8tSn5Aml94zg8SRPpfPHZB/npzj5AMtvpE2c8nmntdaS10ONXbSEC/gXs+bLvze5z34HVhz1Dj12En1uaGj4eu5PokqmF3Aj/3Sm9+wQgBykWYDsYybGRLTCRloEjJ3TTobJ7xev3HyLrcTzyT+47qbbyy8rC5f/K/DGhoEWAl+ecNJpy1f9GW4zsPrP/Ob78C5aeCPtrfcmBD4fNXA5+cu6urpb77g3fGkjG2nX33yHfK0LLroscKGoXa73x38iV9x2ux0CFQNfLl7xm/wLRM2bN/92/hK/TNQlRAvDhr8q/8giXzd8vGanTuHoW/EShWLJ1KQE/gkg/C7e4T77ZwK/ZCqGb+lnrLi3btzyBkk1Li300nlAmEzJvGy3/Q7y6zH8mwSx+vniiDfl1rpvvqVf3eBq6TdY5eeX8Y205Ivt5VdeK1M/+MiQJmdqrz57y8U8zzvm+JOaLBnYcrvuxttEMUsrcHgjreLPDxorYXJq30Hj0gKQg0KxRJi0E2uUWnUy+2T3ZRV3Iy3hT9FLV64+/MhjAg+CqC8DcTKcJgrFkpHn78Ll/wpc64GHn2xyTq+69ka5t/JfS/vlU/KE0nhG8HhqcsYdPkn2cXhyTQ2tzEbapE9nrr12Z3k91NhFM7KA77xLL9GN5i1afPdTubePmjzja1E4/EHL2V3ATf07j8azw9TNRju2Bcg+SilFtxAbabpyWvWcDJOHHn6U/HzyPO/gvx5ScV046ZQzArU8z2vR2PiXbbfv1q17k9s2551/UbjZwOrft98+4WYDG2kLFv28ZqdO4WKtWrVu27advNskl3lv3KTw1ZP/RdrzL74mX2WP3n0CVymzBbXJpt3kutO++DZQV/5y+Csj5cLyH8+VucT/vTXz9K/atWsv1/U8r0OHjtvv2GOP3n26bbZ5+JdMw59OVP4ShWLJ4KQENtI23Ghj0fnmzZtvv2OPE046beChR8jnRYEmP5nP0s9YcW/duOUNksa9tHzjpfOYMJmGeZn3w/L6+nrx6mtsbBn1V6GKvV1c+HdjY0vRYH19/feLV/p1Ta2WfmtVfn5de8Mt7dq1D6/DrVu38c+3a9devFFJxb9IM7IyBPYmjzjq2PAcLV7xW/hdvNbfYMNwyUKxtOdefcXEeZ4nL8WWVuDwRlrFnx/iroRGqH2uuJduEjnPJwmTWqnFTCUns092X01xN9Lkn5Y1foq+7sbb5LVdHLdv337DjTZuMu6JMk1upJl6/o4ZP1l+T5T27duLt4MWkztxyuctGhtFfzqttdbseYvEd/2DlDyh4j4jeDwF5jEPX5J98jDLCccYtZE2ecbXgQ/I0NhFKxRLRhbwm2+7WyzLnuc98sQzZUZ9+ZXXyIUDbzSV0QXc4D+dxX12lKHmW2kTIPuYiTERrbCRFgFj57R7YfKW2++RH06e53Xr1j3qg7LE4vLJtC8Duy+bdd9i5Oixi1f85peZv3DFQ48ODfy7YV1dnXhjQ9FUYPWXO7Pv/gddfuU1jw157r1xk+S3Cwv8Kr3neXvvs//YCVNEmckzvj530GC5Kc/z+vTtLy4qDpJvpI2bOE2+0IYbbSwa9w/KbEFdesVVct1/3HBroK785RFHHSsXHv7KSPHdMpcoFEtnnXuBXLHr+hs8PnSYsCoUS9O++HbgoUfIZZo1axb4eLzylygUSwYnJbCRJjp22BFHi39VLxRLS37+/YZb7mzeooUo4Hne4EuuECziwNLPWHFv3bjlDZLGvbSgS+0BYTINUxP4NJReu+2RvFe9dttDfkW/+fYHfpumVkv/D5Fr9fwaM36yPDp5t0nQVdxIM7IyLF/1p/xmv+uss67ogDh4Z+xEubfiWHycmyi5aPmv8g5o4DloaQUOb6SJHnqe1+TPD3FXQiPUvlLcSwtbDnwBwqSdWKPUqnvZJ9Mvq7gbaWJh1Pgpev7CFeFfTxx0wcXjP57mv2P/t/OXPD3spahPXw5vpBnMj4Vi6bK/XS1G53le4C3Clq5cLb8hmOd5z70wIjz1KXlCxX1G8HgKT6XzZ8g+zk9x8gE2uZE29bPZ667bRV4tPc+Lei+KMn0wtYDP/OZ7+ZcwDjhoQJmLyp/u0a5d+5+WFeXCGV3ADf7TWdxnh6zHccoFyD5KKUW3EBtpunJa9RwLk6Pf/7B58+byY7VVq9YfTf6s4ppy0IBD5FrHnnBy4KnmtzB95py/bLu9XHLPvfoGGm9y9V+v6/ovvToqUNL/8tv5S9q2bSe3edqZ5y5duTpc+J4HHpV/V9HzPPFvsqJw8o20ud8vkzvToUNH0bh/UGYLKnD17XfsEagrvvxpWVH+ELt11+0iD7nMJQrF0k49dxE9XGONDpOnfyWaFQdLV67eo3cfUczzvJdfHy2+WyiWyl/C7KQ0uZF27fW3yP0Rx1f/4ya523895HDxLXEQ+BlrnXXWPeyIozX+X7j8X6LNqH/DLX/ryl31j6PKmyWN+yqTh5nOY8JkGubl6WEvy7d0k39zHLefgQ9dE7+laGq1LBRLNXx+Jd9IM7gyHH3cifL0hXf1rr3+FrmAOA6/g9bI0WPFdz3PO+3Mc+V5t7QCswjLyM4fEya1UouZSo5ln6y/WPQ20vR+ig78KUDzFi0efvzpMOAXs+ZvseXW8lPAPw5vpBl8/haKpcUrfgu8v/RDjz0luhd4hB1/4qniW/JBSp5QsX5QN/iTgMaTVNbjuJoCZJ9qamf0WuGNtGlffNtlva7h9fnv19wQd4wGF/Bde+0uutTY2HLBop+b7Mx74yaJYp7nHXfCKYFiWVzA/VXX1L9nxnp2BPT4MuUCZB8zMSaiFTbSImDsnHYpTM6etyj8K4TiXy3LLCtvj/lIfqRttfVf5D9vClSc9OnMwF7dF7Pmy2XCq/+anTrN+2G5XEY+Dny+9MBDj5C/Gzi+4ZY75a6G/2Ai8I+z8vslBpoq82Xr1m3EVerr6wMfBVd+C2rb7f7rE4bCmdO/7pBnXhCXCP/dVZlLLC78W35Xk0MPPypqIE8996J8idvvul8uWeYShWLJ7KSEN9J27bW73Bn5eOnK1fJvy+62R2/5u/5x4GcseZixjuW/h2syeZa/dWPd6mZJY106DJjCM4TJNEzKXfc9LL+C5I/F0u5eYNG+7c77RFNGVsvaPr+Sb6QZXBkCj5XwJ4nuvc/+8vyK46OOOV5Min8Q+LOAF0e8KRewtAKzCMvIzh8TJu3EGqVWXco+DrxSNDbS9H6KDu/WPPHU81GA835Y3qFjR/GY8A8Cocbs89fvyUeTP5NjTocOHf131Jj06Uz5/EYbbxL4GV4MJCVPqFg/qBv8SUDjSSroOKiyANmnyuBZvFxgI23IMy90XX+DwMrsf9m8efMPPpyqPkazC/itd9wr9yrwho2iV2eeM0guNnL0WPEt/yCLC7jZfzqL9ewI6PFlygXIPkopRbcQG2m6clr1nAmT4b9A8jzv1DPOUVlNDv7rf/4cra6u7u0xH5Wvdc5/v8viY0Oek8uHV//rb75DLhA47rTWWvIDddzEaYEC8pffL17ZocN/5brAe1IZ2Ujr1q273KXAG2OW34K67qbb5bpRYz/w4IFysamfzZaHWeYSAd6jjz1Brigfz5q3cNAFF4v/Az9alblEoVgyOynhjbQ33hojdzVwLP8tXa/d9wx8t1AsWfoZK2DreV7U9PldilXeLGmsS4cBU3iGMJmGSfn7NTfI69L9Dz+RvFcPPjJEbvPKq68XbRpZLWv7/Eq+kWZwZZj3Y0H+o+3AO6ssXblafnNm+Q2y1uu6vpgU/0B+Q85WrVoH/njX0grc5D//sQgHpsaZLwmTWqnFTCVnso8bLweNjTS9n6Lvf/gJ+XG8xZZbB35TMOB58WVXyuU9zwtspJl9/oqr/+OGW+Xr7nfAwUtXrpbfjaO+vv6t9yaI8oGDlDyhYv2gbvAnAY0naQCQL6smQPapGnV2LxTYSJPXxvBx9823DPzEXmbgZhfwr+b8KH/M9sF/PSR86aUrV6+9dmfR7Q023Cj8DMriAm72n85iPTvCyJxJswDZx0yMiWiFjbQIGDunnQmTF1x0mXgs+Qc9dtp5ceHfKkuJ/OP7Dj12qlhl8vSv5GudctpZcpXA6t+58zplnujzF66Qm+rbbx+5qSaPB19yhVxlxMh35GJGNtI22ngT+RI/LPlFvkT5LaiZsxfIbxLdY6ed5br+8bwfC/KvVYb3ispfQv7H0MbGlqPeHR++RMUzZS5hfFICG2mbb7FV+e7JPzKGcaq2kVb+1g0n1TLljZPGepWV107JdwmTaZiIwJs+yW+ppN29J556Xl5O5U89NLJa1vD5VSiWEm6kGV8Z5A2w9u3by+8YPHbCFDER7dq1f/Lpf4ovPc/79PNvxBT/uHSV/FmV+x1wsPiWf1C1lFtmUfV7or4SGqdWv3RAjy99AcKknVij1Koz2ceNV1PcjTTtn6IvvPhyedkP/B5kGHPWvIVyWglvpJl9/ooOLPvlj5136SV3dZu/bCd/Kf8gIWqJg5Q8odSfETyexNzl7YDsk7cZ1xiv/K8i8jLoed5m3be4+/5HAifPOvcCxasYX8B77b6n6EzLlq0C/4BWKJZefn20KOB53qVXXBXuauYW8EKxZHYNV392hPU4k3IBso9SStEtxEaarpxWPTfC5LP/HCFv3niet2anToF3XIxaVqZ+Nlt+pJ15zqCokuL80pWr5X9lC7zBSGD133f/g0TF8MG4idPkq6v8AcSHn8yQq9zzwKNys8k30pav+lPOjc2bN5fbr/jpYoViabc9eose1tXVhSfigYefFAU8z3vo0aGxLiH/JYHnec2aNTvltLPK/yVfoP3yozA+KYGNtCZ/R0nu4fEnnip8VDbS1l6784CBh2n8H9jijXXrhjfSytzqxknjdlXmTecxYTIN83LjrXeJl57neTffdnfyXt1570Nym4F38E+4Wtb2+ZV8I834yhD4CJn3xk0SMyi/x+be++w/Z8FS+ceGex98TJQcMfIdecruuu9h8S3/IJByTa3AsRZVvyfqK6FxavVLB/T40hcgTGqlFjOV3Mg+zryU4m6kaf8UPWDgYWJtb926jfybFlGY+x1wsKgS2Egz/vyV+zD1s9mtWrWWLy2Ot91uh8UrfpMLB45T8oRSf0bweArMYH6+JPvkZ661Rxq1kbZZ9y2+nvtToVg67oRTxPLoeV5dXd2rI9+teDkbC/jtd90v92Tos8MD3Tj62BPkAlNmzAoUCP+2dK0ihvoCXiiWzK7hsS4dBuRMmgXIPmZiTEQrbKRFwNg57UCYnPrZ7Pbt28uPpfr6+lfeeFtxEQn8k9mOPXpede2NFf+XL9etW3f5WoHV//SzzpO/Gzh+ethLclOvvfleoED4y8AvfQR+LTH5RtqseQvlLnVaa61AH8r8LZdfMvDLQTfdGvzH6D59+4tLtG3bLvwLO+Uv8eiTz4rq8sF6Xdc/5viT7n/4iSZ/LlEfhfFJCWykDbrwkkBnAl/G3Ujr13+/QAt6X8a6dcP/5lvmVjdOGrereiDVrEWYrKZ21LUCe/xN/qpgVN2o84G3i5Q/I61QLCVcLWv7/Eq+kWZ8ZQj8osnV/7hJzMv+Bw4Qz4trr7+lUCz9ZdvtxZkjjjpWlAz82ffM2QvEt/yDwD9TmlqBYy2qfk/UV0Lj1OqXDujxpS9AmLQTa5RadSD7uPQ6iruRpv1TtLzmb7nVNiqGgc+zkd/a0fjzN9CfwL/J+k+rxsaWH0/9IlAy8GVKnlDqzwgeT4EZzM+XZJ/8zLX2SJvcSBO7aIViacGinzfYcCPx87zneV3W6zrvx0L5K9pYwL+e+5P87o4DDz1C7sOPS1e1bdtO9LPnzrvK3xXHmVvAC8WS2TVc/dkh0DjIigDZRyml6BZiI01XTqte1sPkj0tXbb3NtuKZ5B/IH0JTcVkZ8swLgepxv1x77c7yVQKrf/kPOAm8D7787lJym4FjeePwkMOOlL+bfCPt/fGfyAKBbcLyf8vl92Tu98uaN28uGtl5l15yD2fNW9jQ0CC+e8JJp8nf9Y/Lb6QViqWDBvznY+1EU/JB587rHHn0cc+/+NqyX/4It19+FMYnJbCRdue9DzXZJXEyJRtp5W/d8L/5lilvnDTWq0zApvmAMJmG2Xn+xdfkZeTAgwcm79XhRx4jt/nsP0fIbSZcLWv7/Eq+kWZ8ZSgUS+t1XV+A77lXX1972S9/dOj4n48XfWfsxEKxdK70cafrrttFzIv8UTRbb7OtOC8OqpZyyyyqfmfUV0Lj1OqXFm4cyAKESa3UYqZS1rOPfCM5cBx3I037p+g2bdqKp8P+Bw5QoZP/lDnwF2nGn7+B/ixf9edeffYWHfYPwr+bGKgV/oMGe7/qUf4Jpf6M4PEUnsScnCH75GSikwwzvJEm76L5LY8cPVbewfI877Ajji5/UUsLuPw5961bt/lpWVF0I/CW8lEPspREDPUFvFAsmV3DY11a8HKQCQGyj5kYE9EKG2kRMHZOZz1MHnXM8YGMsc9+B4Y/t7PMynLXfQ8HWoj7ZYcOHeX2A6v/E089L383cHzqGefIl1P8ULctt9pG1Ap8CFnyjbSnh70sGvc8Lxw1K+5yFYqlffc/SDRSV1c385vvxcBvveNe8S3P894e85H4ljioeImlK1ffeOtdrVu3kZtq8njjTTaV37NL5RLGJyWwkfbAw0+KbjR5kJKNtPK3bngjrUx546SxXmVNIqftJGEyDTPy+dffycvImp06Je9Vl/W6ym2G/7wpyWrXo642AAAgAElEQVRZ2+dX8o004ytDoVg66ZQzBHhjY0v/DWwnTJouTrZu3cZ/X6wXXn5DnPQ8b/KMr/3fbG3WrJk4H/ibb/9+qFrKLbOo+j1RXwmNU6tfOvmLyMkWCJN2Yo1Sq1nPPo69IuJupOn9FP3dTwWxsHueV+ZNFGTeoc8Ol2vJf5Fm/PkrX9c/Dvyav+d5n0z7MlwscCYlTyj1ZwSPp8AM5udLsk9+5lp7pIGNtPAumt+y/Ltx/qL95NP/LHNRSwt44P38n3n+FdEH+Y2CWzQ2zvthufiWfJC5BbxQLJldw9WfHbIbx5kQIPsopRTdQmyk6cpp1ct0mAw8qzzP23CjjaMeS1GLS+C9vOS8pHjccc015cYDq3/4/ZHlwuedf5F8le9+qvB36H7dzbpvIWrt1HMXucHkG2mXX3mtaNzzvMAn+pT/Wy7Rk8eHDpMbufWOe8W3eu68q/hW9823FOflg4obaX7hL2bN/9tV12219V9Eg1EHxxx/UmCTsswljE9KRjfSyt+64Y20MuWNk8Z6lcm3VmqPCZMpmRr5o6c9z4v74YuBUUye/pW8KAX+fNkvnGS1rO3zK/lGmvGVoVAsDRv+qmzuf1KC/Ascffr29+XnL1wh75ndff8jhWLpxRFvytVHv/9hYE6r+fv+ZRZVv1fqK6FxavVLhwE5UyiWCJNaqcVMpUxnH/dePtXZSFv2yx/y51sff+KpKpKPDXlOfiLIG2nGn7+B/vy4dFW3zTaXr+55Xs+dd416pw1RvWr/Dlv+CaX+jODxJOYubwdkn7zNuMZ4Axtpo94d32QjC5f/a/MttpIXzA4dOsq/yR2oZWkBnz1vkfzGS4cfeYx/3TkLlspv1zRg4KGB/ogvM7eAF4ols2u4+rNDoHGQFQGyj5kYE9EKG2kRMHZOZzdMvjdukpyIPM9rbGz5wYdT464jI0ePlR+6d9z9wAcfTo31/9TPZssXjbX633H3A/LVx388TW4q6lj+AGrxhPYLJ99I69atu9ylESPfCXSjzBaUKPnDkl/kPxfrtfue/rdmfDlXbvy6m24XVeQDlUvI5SdP/+q6m27fd/+D1lijg9y+fHz5ldfKVcpcwviksJFmnDTWq0ye99QeEyZTMjUDBh4mrxvhP8mN1c9DDjtSbu3gvx4Srp5ktazt8yv5RprxlaFQLP2w5JcWjY2C3f+TMnla5Td/lt/F8dDDjyoUS4MuuFjU7bjmmk3+k2VKUm6s32YwTu3eIhx+bVo9Q5i0E2uUWs1u9rF6T9aq8epspBWKpU27bSaW9z1691EZ71XX3iiqBN7a0fjzN9Cf0848V760OI6KTqJ6Sp5Q6s8IHk9i7vJ2QPbJ24xrjDewkfb++E+iGhk7YYq8WeV5Xt9++0S9T5W9Bbx3n35iuW7Xrv2i5b8WiqXAb/8PG/5q1Cgyt4AXiiWza7j6syPKkPOpFSD7KKUU3UJspOnKadXLaJj8dv6SrutvIJ5S/sF9Dz2usWp8MWu+3M5Tz72o0YhcJdbq/9Jrb8lXL/NYFZeYPW+RXOWyv10tvlUolhJupI16Z5zceJs2bX9Y8ovcvuJfpBWKJfmTgerr67+e+1OhWLrmuptF+82aNZs1b2Ggcf/LMrtcTZYXJ5f98sf4j6ddd+Nt8j+P+lds3brNnAVLRckylzA+KWykGSeN9SoTk57mA8JkSmYnsAZ6njdy9Fi9vo1+/0Ox3PkHz73wXx+QJprVXi1r+/xKvpFmfGXwSfv07S/kd+zRs1AsrbX22uLMqHfGCfmLLv2bON+58zqFYmm7HXYUZ4446lhRUj5IScqNtZFmnNq9RVie4iocEya1UouZShnNPlW4LWtyiaptpPXbe1+xvG+w4UYqgz3x5NNFlcBGmvHnr9yfl18fXVdXJ19aHDc2tpw8/Su5cOA4JU8o9WcEj6fADObnS7JPfuZae6TqG2mFYulvV10nlkr/QH5XJLkP9hbwu+9/RO7D8y++ViiWdu21uzjZaa21/HeYl/sjjjO3gBeKJbNruPqzQ6BxkBUBso+ZGBPRChtpETB2TmcxTC775Y++/fYRTyP/4LgTTtFbQZb98of82+vX3XibXjuiVqzVf+pns+WBXHPdzaKdqIPAb9A8/PjTcskkG2lLV67ebvsd5P6cdMoZcuP+cZktKLlw4ONn7rj7gUKxtPU224r2Dzgo8oO+FS8hXy58/NJrb3Xo2FFczvO8V954WxQrcwnjk8JGmnHSWK8yMelpPiBMpmd2duzRU143tt+xR9TvM5bp8/JVf/bYaWe5nc6d11ny8+9NVtFeLWv7/Eq+kWZ8ZfB5b7r1biHf0NDw9piPxJeNjS39Xw71S7468l3xLf8zO+WPK3986LAm5yslKTfWRppxavcW4Sbn2t5JwqSdWKPUahazj71bseYtV20j7dTTzxYLfkNDwzffLa449sBzXH5rR+PPX9GZeT8sX3fdLqKrbdu2O+vcC8SXnuft1HOXJv9a2m8hJU8o9WcEjycx9Xk7IPvkbcY1xhtrI23Jz78HQlzLlq2a/GhJewv4t/OXyO8bf/SxJ8z4cq78ixFnnD2ojEPmFvBCsWR2DVd/dpRh5FvpFCD7KKUU3UJspOnKadXLYpi89Iqr5Djhed622+2wcPm/tNcL+T3oN99iq4rtTJ7+1fobbOj/v8GGG7313gS5SqzVf/GK3+R3Ut5gw42i/qVVXOKvhxwuD//tMR+JbyX8i7TL/na13LLneWMnTJEb94/LbEHJhRev+K3jmmuKBvfo3WfilM/Fl57nlfnzuzKXuOTyv++5V1///3799yuTJAvF0oOPDJGveMc9D4oelrmE8UlhI804aaxXmZj0NB8QJtMzO0OeeUFeNzzPe/TJZ+N279Ennw00cukVV0U1kmS1rOHzK/lGmvGVwReeMmOWjN+v/37iy9333EuehZ+WFeXfpJH/XqGhoSHqI1dTknJjbaQZp3ZvEZZvjCocEya1UouZSlnMPlW4J2t1iaptpF13423iWeB53oUXX15+yO9+8LFcPvAXaYViyezzV3Qm8KbQd9338LJf/ghs6ZX5vc+UPKHUnxE8nsTU5+2A7JO3GdcYb6yNNP+fwlq2bCUv3dvv2KPJf16ztIAXiiX5jTHWWKPD5VdeK/dnzPjJZRwyt4AXiiWza7j6s6MMI99KpwDZx0yMiWiFjbQIGDunMxcmX3j5Dfl3OjzP69Ch4/SZc5IsFvLbanme9+KIN8u3dszxJ8mPw8A7bMRd/QOfjPrYkOfKXH3yjK/l35dv1qyZ/HaFSTbSrrz6enlQnuftd8DBTfakzBZUoPwpp50l2mxoaJDfIKXMH2eUf/fIM84eJNr0PG/ilM8DF5W/DLy12m133ie+W34UZieFjbRCsWSWNO6rTMx7ag8Ik+mZmqUrV2+w4UbyOtO2bbvXR72v3sPXR73ftm07uYWu628QfptcuUHt1bK2z68x4yfLw/x46hfyoPzjwEdjBp6wZlcGcfVNNu0md0wcX37lNaKMf7D7nnuJ78oHvXbbI1BSfJmSlBtrI41FWExfSg4Ik3ZijVKrmcs+KblpLXWjahtpb7w1Rl7k27ZtF/XbEv5IDxpwiFw+vJFm9vnrX/TxocPki/bu088/P3HK5/JHgzc2tmzyzywKxVJKnlCxflA3+5NArEtbuqtpVkWA7KOilPMycTfSCsXSLbffI6+inuc1+buMNhZwf7Lue+jxQAfElxV/ZT+LC7jZiMEC7vBLnuyjlFJ0C7GRpiunVS9bYXL6zDkdOvzXm/XV1dX986XXEy43H34yQ96c69CxY5kPMn3jrTHyB5lut8OOgavHXf0feuwp8XD1PG+z7lt8O39JoE3/y8UrfjvgoAFy4ZNPPTNQUuOtHceMnyy/cbPffrt27Wd+832gcf/L8ltQcpXwpw2Jzp8/+FK5ZOC4zCUCP5o0+YORaE3+SDbP89794GPxrTKXKBRLZieFjTTjpHFfZWLeU3tAmEzV1Ax9drj8UPA8r7Gx5UOPPaXSyYceHSr/kZO/6PlvkV+muvZqWdvnV/KNNLOLrRA+85z/+pUL8egJb4iGP1DBL3zt9beI1gIHKUm5cTfSzFK7twgHZtn2l4RJrdRiplK2so/tW7Hm7VdtI61QLPXceVfxOPA87+jjTly6cnWTAi+9Okr+zUW/lvzWjoViyezz198Dk3NumzZt5SsGnlY9dtq5yc6n5AkV6xnB46nJm9D5k2Qf56c4+QA1NtKWr/qzd59+8lLf0NAg/yuQ3yvjC7gY7JwFS+V3d5R7UvFjXLK4gJv9d55Yzw5hzkEmBMg+ZmJMRCtspEXA2DmdrTC5/Y495EeR53ndN9/y6WEv6/3/3U8FseIMPPQIueW2bduNHD1WfFccvPXehMDfGdxwy53iu/5B3NV/2S9/bLHl1vLVN95k08BfuRWKpXk/LN+jdx+5WKtWrb+a82Pg6oGNtCifR5545oZb7jzj7EFN/tp+XV1dmbcyK78FJfdn+ao/1+u6vtxncRz1e5R+9TKXeH/8J6IR/1+3o/6G7+XXR8v/nN2isXFx4d+ie2UuUSiWzE6K7Y20rutvoPcSeHrYy+M/niZM4t66scqbJY11aTHANB8QJtM2O3fe+5C81PjHu/ba/a33JjT5kWnLV/056t3xu+y6W7hWkx82GRiv9mpZKJZq+PxKvpFmdmUQqoEPvvYnpXmLFj8tK4oy/sFb700IT5nneR9N/ixQUnwZSLmmVuC4G2Nxy5uldm8RFvNbnQPCpJ1Yo9RqtrJPdW7IGl6lmhtpL78+OrDg9+u/3/yFKwLDf/CRIU3+M6i8reVXMfj8Xb7qz7367C13z/94adG3xSt+kz9q2vO8f9xwq/iuOEjJEyrWM4LHk5i+XB2QfXI13XqD1dhIKxRLn3/9Xfv27eXldNNum4XfGsTgAh4Ynfyu8qIb9fX1M2cvCJQMfJnFBdzsP53FenYE9Pgy5QJkH6WUoluIjTRdOa162QqT8ptaiGeS9sG4if/ZQpj06czALx42NrY84aTTXh357mdfzZsyY9bwV0YOGHho4G8UNtp4k/C7gmis/s/+c0RgFB06dDz7vAuHPPPCx1O/GP7KyEsu//vGm2waKDP4kivCa2VgIy1QReXL+vr6+x56PNyyOFN+C0oU8w8GXXhJ+KI779IrUCzwZZlLLFr+6/obbBhoc7c9ej/w8JOj3/9w5uwFH03+7OlhL++z34GByerXfz/5KmUu4RczOCm2N9ICGrG+lD/wNu6tG7e8QdK4l5anPp3HhMkUzkvg81TEK6vLel1PPf3sm2+7+8mn/znkmRduvu3uU08/u0uX9UQB+eDQw48q/1GOYuB6q2WhWKrh8yv5RlqhWDK4MgjMRct/bdWqtTwRnuft2mt3UUAcLF7xW+vWbQIl199gQ1EgfBBIuYG6sb6UV+C4G2Ma5Q1Su7cIhyfa6hnCpFZqMVMpW9nH6n2YhsaruZEW/qM0z/M23mTTcwcNfub5V0a//+Ett99z4MEDo5bx8EaawefvrXfcK193tz16h39rZ+yEKfJHa7dobJz06czAJKbkCRX3GcHjKTCPefiS7JOHWU44Rr2NtPDfSHmed8ppZwU6Y3ABD7T8wMNPyuu5fyzeqjdQWP4yowu4wTQX99kh63GccgGyj5kYE9EKG2kRMHZOZytM2ttIKxRLl195TfiBV+ZMu3btm/w8GL3Vf7c9epe5VvhbXbqsJ/9FnVg0E26krdmp09Bnh4vWmjyouAUl1xo3cVq48+U36sp/RlqhWAr/Pmn4EoEzXdbr+vXcn+SOqYzC1KSwkSbkTZHqvcpEN1J4QJhM4aQUiqVLLv97YDGJ9eWRRx/X5AdcNzlYvdXSb6pWzy8jG2mFYsnUyiDD7nfAwYHJuujSv8kFxHH490ZPPf1s8d3wQUpSrsZGmkFq9xbh8ERbPUOYtBNrlFrNVvaxeh+mofEqb6SNemec/Bb9gcdE4Ms2bdrKZ8Ibaaby4yfTvmzZspW4VqtWrad98W2Ts3P+4EtFMc/zwm/wmJInlMYzwtRPAhqXbpKak7YFyD62hR1oX3sjrVAshT/nMvA5zaYW8LDzvB+Whx80Kp8RkN0F3FTEYAEP307OnCH7KKUU3UJspOnKadXLVpi0upFWKJYeHzpMjjFyUAkcN2/R4qVXRzW5qOmt/gsW/bz7nnsFrhL15cabbDp95pwmr669kdaisfHU088O/4Fd+CoqW1Byre6bbykPpHXrNt8vXikXCB9XvMRJp5wht1n+uFWr1h98ODVwlYqXKBRLpiaFjTSBb4pU71UmupHCA8JkCifF79KLI97ssdPO5ReZ8HfXWKPD40OHxR2UxmopLlGT55epjTRTK4PQKBRL4TfnfPn10XIBcRz+08Phr4wU3w0fpCTl6m2kmaJ2bxEOT7TVM4RJrdRiplK2so/V+zANjVd5I61QLD33wojwP3GGn+PNmzcfNvzVLbfaRnyryY205Plxyc+/Bz684Jbb74mamoXL/9WtW3fRJc/zAp/omZInlMYzgsdT1KS7ep7s4+rMGhxXko20b75bvNbaa8urZefO68xZsDTQPSMBKtBmoVjqv+8B8qVbt24Tfm/JcK3sLuCm/ulM49kRZuRMOgXIPmZiTEQrbKRFwNg5na0w2bnzOvIDKclxXV3dZ1/NCy8xH3z0adf1NyjTcl1d3ZFHHxcVpQrF0g9LfmlsbClaeO3N98JXafLMouW//v2aGwK//Cja8Q8aGhpOPf3s8E8AosEZX84NvKVhoAXxZfPmzbus13WHHjsdevhRTzz1fPgTAkSbgYOZsxfIb4MZflORQPkrr75eXNTzvGNPODlQIPylyiWeeOr5qPdSE5dr3qLFyaee2eRkqVyiUCwZmZQlP/8uf7TeAw8/GR6yfEZ+h7cDDx4of8s/Nvgz1uVXXiPaj3vrxi3vX8gIqd6lxUhTeECYTOGkyF166dVRittpnTuvc+XV15dZpeVmA8caq6XcQvWfX59+/o38xGnyr7TnLFgq/5PlG2+Nkfssjo2sDKI1/wMSxLPA87xmzZpFJdixE6bIJVu2bBX+KDW5ZUsrsMbPD3oroRFqvUvLjDk/JkzaiTVKrWYr+zj/SjntzHPlFVh+431/7MZ/ii4US2PGT95uhx3l6waON9xo4/fHf1IolsRGWn19ffijqcXsJHn+DnnmBfnqu/bavfw7Qo96Z5z85G3Xrv3iFb+JnqTkCaX3jODxJOYxDwdknzzMcsIxBjbSPvxkRqwGn3sh+Pkpl/3t6nALSRbwcGv+mcDv8x197AlRJeXzmV7AjfzTmd6zQzbkOLUCZB+llKJbiI00XTmteoTJ8EKzaPmvTz334oCBh3Xr1t3/579mzZpt2m2zffc/6NxBg8d//J9PVgvXTX5m1ryFt991f7+991133S7+1evr69dae+2dd+l19T9umjJjVvJLONPCD0t+ueOeB088+fSdeu4iNiA7dOy43Q47/vWQwy+94qqKH+iqSMGkKEKpF4M0YEWYDICk88vXR73/jxtuPfHk0/fo3We9ruv7/5LV2Niyy3pdd9l1t8GXXPHSa28tWv5rDTtf2+dX8oGzMiQ3VGwBakUoS8UIk1qpxUwlso+luzpbzS775Y8XXn7jmONP2mjjTfzfgKyvr+/ceZ3effo99OjQH5euijucrD9/447XXnkeT/ZsU9Uy2SdV05HzzhhfwANvw/vqyHfzI8wanp+5jjVSso+ZGBPRChtpETB2ThMmy7/4l65cPX/hCvUPuSnfWtzvLl/15/yFK5auXB23Yg7LL1/154JFP0f9wYFBECbFIKbfFKSFYokwafy+qkKDi5b/qvFvbVXomH+J2j6/kg+TlSG5oWILUCtCGSxGmLQTa5RaJfsYvJOdaWrBop8Nxr2sP3/TM608ntIzF8Z7QvYxTkqDRgSSL+BLfv5dfietLut1Lf93xka6nc5GWMPTOS816RXZRyml6BZiI01XTqseYbImiwgXRQABBGQBwqSswTECCCDgtgBhUiu1mKlE9nH7xcXoEEAgEwJkn0xME53UEBg2/FX5DXsvvPhyjUaogoBjAmQfMzEmohU20iJg7JwmTDq2PDEcBBDIogBhMouzRp8RQAABPQHCpJ1Yo9Qq2UfvpqUWAgggYFCA7GMQk6ZSJbDnXn3ljbRJn85MVffoDAI1ESD7KKUU3UJspOnKadUjTNZkEeGiCCCAgCxAmJQ1OEYAAQTcFiBMaqUWM5XIPm6/uBgdAghkQoDsk4lpopNxBR56dKi8i7b9jj3itkB5BJwUIPuYiTERrbCRFgFj5zRh0slFikEhgEC2BAiT2ZoveosAAggkESBM2ok1Sq2SfZLcutRFAAEEjAiQfYww0kgaBF4d+e69Dz726JPPnnDSaW3btpM30h56dGgaekgfEKi5ANlHKaXoFmIjTVdOqx5hsuYLCh1AAAEECJPcAwgggEB+BAiTWqnFTCWyT35eaIwUAQRSK0D2Se3U0LG4Aj133lXePBPHG2+y6ZKff4/bGuURcFKA7GMmxkS0wkZaBIyd04RJJxcpBoUAAtkSIExma77oLQIIIJBEgDBpJ9YotUr2SXLrUhcBBBAwIkD2McJII2kQaHIjraGhYdjwV9PQPfqAQBoEyD5KKUW3EBtpunJa9QiTaVhT6AMCCORcgDCZ8xuA4SOAQK4ECJNaqcVMJbJPrl5rDBYBBNIpQPZJ57zQKw2B8EZaQ0PDI088o9EUVRBwVYDsYybGRLTCRloEjJ3ThElX1ynGhQACGRIgTGZosugqAgggkFCAMGkn1ii1SvZJePdSHQEEEEguQPZJbkgLKRG45fZ7eu22R2Njy7q6uq7rb3DM8SdNmTErJX2jGwikRIDso5RSdAuxkaYrp1WPMJmSZYVuIIBAngUIk3mefcaOAAJ5EyBMaqUWM5XIPnl7uTFeBBBIoQDZJ4WTQpeSCCxe8dtPy4pJWqAuAg4LkH3MxJiIVthIi4Cxc5ow6fBSxdAQQCArAoTJrMwU/UQAAQSSCxAm7cQapVbJPslvYFpAAAEEEgqQfRICUh0BBBDIkADZRyml6BZiI01XTqseYTJDSw9dRQABVwUIk67OLONCAAEEwgKESa3UYqYS2Sd8Q3IGAQQQqLIA2afK4FwOAQQQqKEA2cdMjIlohY20CBg7pwmTNVxKuDQCCCDgCxAmuRMQQACB/AgQJu3EGqVWyT75eaExUgQQSK0A2Se1U0PHEEAAAeMCZB+llKJbiI00XTmteoRJ4wsEDSKAAAJxBQiTccUojwACCGRXgDCplVrMVCL7ZPeFQ88RQMAZAbKPM1PJQBBAAIGKAmQfMzEmohU20iJg7JwmTFZ8wVMAAQQQsC1AmLQtTPsIIIBAegQIk3ZijVKrZJ/0vBDoCQII5FaA7JPbqWfgCCCQQwGyj1JK0S3ERpqunFY9wmQOlzCGjAACaRMgTKZtRugPAgggYE+AMKmVWsxUIvvYu7FpGQEEEFAUIPsoQlEMAQQQcECA7GMmxkS0wkZaBIyd04RJB5YkhoAAAlkXIExmfQbpPwIIIKAuQJi0E2uUWiX7qN+olEQAAQQsCZB9LMHSLAIIIJBCAbKPUkrRLcRGmq6cVj3CZAqXGLqEAAJ5EyBM5m3GGS8CCORZgDCplVrMVCL75Pmlx9gRQCAlAmSflEwE3UAAAQSqIED2MRNjIlphIy0Cxs5pwmQVlgwugQACCJQXIEyW9+G7CCCAgEsChEk7sUapVbKPSy8lxoIAAhkVIPtkdOLoNgIIIKAhQPZRSim6hdhI05XTqkeY1FgCqIIAAgiYFSBMmvWkNQQQQCDNAoRJrdRiphLZJ80vDfqGAAI5ESD75GSiGSYCCCBQKJbIPmZiTEQrbKRFwNg5TZhkUUMAAQRqLkCYrPkU0AEEEECgagKESTuxRqlVsk/V7nMuhAACCEQJkH2iZDiPAAIIuCdA9lFKKbqF2EjTldOqR5h0b4ViRAggkDkBwmTmpowOI4AAAtoChEmt1GKmEtlH+76lIgIIIGBKgOxjSpJ2EEAAgfQLkH3MxJiIVthIi4Cxc5owmf4Vhx4igIDzAoRJ56eYASKAAAJCgDBpJ9YotUr2EfchBwgggECtBMg+tZLnuggggED1Bcg+SilFtxAbabpyWvUIk9VfQbgiAgggEBAgTAZA+BIBBBBwWIAwqZVazFQi+zj8ymJoCCCQFQGyT1Zmin4igAACyQXIPmZiTEQrbKRFwNg5TZhMviLQAgIIIJBQgDCZEJDqCCCAQIYECJN2Yo1Sq2SfDL1S6CoCCLgqQPZxdWYZFwIIIBAWIPsopRTdQmyk6cpp1SNMhl/hnEEAAQSqLECYrDI4l0MAAQRqKECY1EotZiqRfWp453NpBBBAwBcg+3AnIIAAAvkRIPuYiTERrbCRFgFj5zRhMj8rFyNFAIHUChAmUzs1dAwBBBAwLkCYtBNrlFol+xi/n2kQAQQQiCtA9okrRnkEEEAguwJkH6WUoluIjTRdOa16hMnsrkT0HAEEnBEgTDozlQwEAQQQqChAmNRKLWYqkX0q3p8UQAABBGwLkH1sC9M+AgggkB4Bso+ZGBPRChtpETB2ThMm07Oy0BMEEMitAGEyt1PPwBFAIIcChEk7sUapVbJPDl9xDBkBBNImQPZJ24zQHwQQQMCeANlHKaXoFmIjTVdOqx5h0t5KQcsIIICAogBhUhGKYggggIADAoRJrdRiphLZx4FXEENAAIGsC5B9sj6D9B8BBBBQFyD7mIkxEa2wkRYBY+c0YVL9lU9JBBBAwJIAYdISLM0igAACKRQgTNqJNUqtkn1S+IqgSwggkDcBsk/eZpzxIoBAngXIPkopRbcQG2m6clr1CJN5XssYOwIIpESAMJmSiaAbCCCAQBUECJNaqcVMJbJPFe5wLoEAAmWJjC4AABaUSURBVAiUFyD7lPfhuwgggIBLAmQfMzEmohU20iJg7JwmTLq0NjEWBBDIqABhMqMTR7cRQAABDQHCpJ1Yo9Qq2UfjjqUKAgggYFaA7GPWk9YQQACBNAuQfZRSim4hNtJ05bTqESbTvNbQNwQQyIkAYTInE80wEUAAgUKxRJjUSi1mKpF9eA0igAACNRcg+9R8CugAAgggUDUBso+ZGBPRChtpETB2ThMmq7ZwcCEEEEAgSoAwGSXDeQQQQMA9AcKknVij1CrZx70XFCNCAIHMCZB9MjdldBgBBBDQFiD7KKUU3UJspOnKadUjTGovBFREAAEETAkQJk1J0g4CCCCQfgHCpFZqMVOJ7JP+Fwg9RAAB5wXIPs5PMQNEAAEEhADZx0yMiWiFjbQIGDunCZPihc0BAgggUCsBwmSt5LkuAgggUH0BwqSdWKPUKtmn+jc8V0QAAQQCAmSfAAhfIoAAAg4LkH2UUopuITbSdOW06hEmHV6qGBoCCGRFgDCZlZminwgggEByAcKkVmoxU4nsk/wGpgUEEEAgoQDZJyEg1RFAAIEMCZB9zMSYiFbYSIuAsXOaMJmhpYeuIoCAqwKESVdnlnEhgAACYQHCpJ1Yo9Qq2Sd8Q3IGAQQQqLIA2afK4FwOAQQQqKEA2UcppegWYiNNV06rHmGyhksJl0YAAQR8AcIkdwICCCCQHwHCpFZqMVOJ7JOfFxojRQCB1AqQfVI7NXQMAQQQMC5A9jETYyJaYSMtAsbOacKk8QWCBhFAAIG4AoTJuGKURwABBLIrQJi0E2uUWiX7ZPeFQ88RQMAZAbKPM1PJQBBAAIGKAmQfpZSiW4iNNF05rXqEyYoveAoggAACtgUIk7aFaR8BBBBIjwBhUiu1mKlE9knPC4GeIIBAbgXIPrmdegaOAAI5FCD7mIkxEa2wkRYBY+c0YTKHSxhDRgCBtAkQJtM2I/QHAQQQsCdAmLQTa5RaJfvYu7FpGQEEEFAUIPsoQlEMAQQQcECA7KOUUnQLsZGmK6dVjzDpwJLEEBBAIOsChMmszyD9RwABBNQFCJNaqcVMJbKP+o1KSQQQQMCSANnHEizNIoAAAikUIPuYiTERrbCRFgFj5zRhMoVLDF1CAIG8CRAm8zbjjBcBBPIsQJi0E2uUWiX75Pmlx9gRQCAlAmSflEwE3UAAAQSqIED2UUopuoXYSNOV06pHmKzCksElEEAAgfIChMnyPnwXAQQQcEmAMKmVWsxUIvu49FJiLAggkFEBsk9GJ45uI4AAAhoCZB8zMSaiFTbSImDsnCZMaiwBVEEAAQTMChAmzXrSGgIIIJBmAcKknVij1CrZJ80vDfqGAAI5ESD75GSiGSYCCCBQKJbIPkopRbcQG2m6clr1CJMsaggggEDNBQiTNZ8COoAAAghUTYAwqZVazFQi+1TtPudCCCCAQJQA2SdKhvMIIICAewJkHzMxJqIVNtIiYOycJky6t0IxIgQQyJwAYTJzU0aHEUAAAW0BwqSdWKPUKtlH+76lIgIIIGBKgOxjSpJ2EEAAgfQLkH2UUopuITbSdOW06hEm07/i0EMEEHBegDDp/BQzQAQQQEAIECa1UouZSmQfcR9ygAACCNRKgOxTK3muiwACCFRfgOxjJsZEtMJGWgSMndOEyeqvIFwRAQQQCAgQJgMgfIkAAgg4LECYtBNrlFol+zj8ymJoCCCQFQGyT1Zmin4igAACyQXIPkopRbcQG2m6clr1CJPJVwRaQAABBBIKECYTAlIdAQQQyJAAYVIrtZipRPbJ0CuFriKAgKsCZB9XZ5ZxIYAAAmEBso+ZGBPRChtpETB2ThMmw69wziCAAAJVFiBMVhmcyyGAAAI1FCBM2ok1Sq2SfWp453NpBBBAwBcg+3AnIIAAAvkRIPsopRTdQmyk6cpp1SNM5mflYqQIIJBaAcJkaqeGjiGAAALGBQiTWqnFTCWyj/H7mQYRQACBuAJkn7hilEcAAQSyK0D2MRNjIlphIy0Cxs5pwmR2VyJ6jgACzggQJp2ZSgaCAAIIVBQgTNqJNUqtkn0q3p8UQAABBGwLkH1sC9M+AgggkB4Bso9SStEtxEaarpxWPcJkelYWeoIAArkVIEzmduoZOAII5FCAMKmVWsxUIvvk8BXHkBFAIG0CZJ+0zQj9QQABBOwJkH3MxJiIVthIi4Cxc5owaW+loGUEEEBAUYAwqQhFMQQQQMABAcKknVij1CrZx4FXEENAAIGsC5B9sj6D9B8BBBBQFyD7KKUU3UJspOnKadUjTKq/8imJAAIIWBIgTFqCpVkEEEAghQKESa3UYqYS2SeFrwi6hAACeRMg++RtxhkvAgjkWYDsYybGRLTCRloEjJ3ThMk8r2WMHQEEUiJAmEzJRNANBBBAoAoChEk7sUapVbJPFe5wLoEAAgiUFyD7lPfhuwgggIBLAmQfpZSiW4iNNF05rXqESZfWJsaCAAIZFSBMZnTi6DYCCCCgIUCY1EotZiqRfTTuWKoggAACZgXIPmY9aQ0BBBBIswDZx0yMiWiFjbQIGDunCZNpXmvoGwII5ESAMJmTiWaYCCCAQKFYIkzaiTVKrZJ9eA0igAACNRcg+9R8CugAAgggUDUBso9SStEtxEaarpxWPcJk1RYOLoQAAghECRAmo2Q4jwACCLgnQJjUSi1mKpF93HtBMSIEEMicANknc1NGhxFAAAFtAbKPmRgT0QobaREwdk4TJrUXAioigAACpgQIk6YkaQcBBBBIvwBh0k6sUWqV7JP+Fwg9RAAB5wXIPs5PMQNEAAEEhADZRyml6BZiI01XTqseYVK8sDlAAAEEaiVAmKyVPNdFAAEEqi9AmNRKLWYqkX2qf8NzRQQQQCAgQPYJgPAlAggg4LAA2cdMjIlohY20CBg7pwmTDi9VDA0BBLIiQJjMykzRTwQQQCC5AGHSTqxRapXsk/wGpgUEEEAgoQDZJyEg1RFAAIEMCZB9lFKKbiE20nTltOoRJjO09NBVBBBwVYAw6erMMi4EEEAgLECY1EotZiqRfcI3JGcQQACBKguQfaoMzuUQQACBGgqQfczEmIhW2EiLgLFzmjBZw6WESyOAAAK+AGGSOwEBBBDIjwBh0k6sUWqV7JOfFxojRQCB1AqQfVI7NXQMAQQQMC5A9lFKKbqF2EjTldOqR5g0vkDQIAIIIBBXgDAZV4zyCCCAQHYFCJNaqcVMJbJPdl849BwBBJwRIPs4M5UMBAEEEKgoQPYxE2MiWmEjLQLGzmnCZMUXPAUQQAAB2wKESdvCtI8AAgikR4AwaSfWKLVK9knPC4GeIIBAbgXIPrmdegaOAAI5FCD7KKUU3UJspOnKadUjTOZwCWPICCCQNgHCZNpmhP4ggAAC9gQIk1qpxUwlso+9G5uWEUAAAUUBso8iFMUQQAABBwTIPmZiTEQrbKRFwNg5TZh0YEliCAggkHUBwmTWZ5D+I4AAAuoChEk7sUapVbKP+o1KSQQQQMCSANnHEizNIoAAAikUIPsopRTdQmyk6cpp1SNMpnCJoUsIIJA3AcJk3mac8SKAQJ4FCJNaqcVMJbJPnl96jB0BBFIiQPZJyUTQDQQQQKAKAmQfMzEmohU20iJg7JwmTFZhyeASCCCAQHkBwmR5H76LAAIIuCRAmLQTa5RaJfu49FJiLAggkFEBsk9GJ45uI4AAAhoCZB+llKJbiI00XTmteoRJjSWAKggggIBZAcKkWU9aQwABBNIsQJjUSi1mKpF90vzSoG8IIJATAbJPTiaaYSKAAAKFYonsYybGRLTCRloEjJ3ThEkWNQQQQKDmAoTJmk8BHUAAAQSqJkCYtBNrlFol+1TtPudCCCCAQJQA2SdKhvMIIICAewJkH6WUoluIjTRdOa16hEn3VihGhAACmRMgTGZuyugwAgggoC1AmNRKLWYqkX2071sqIoAAAqYEyD6mJGkHAQQQSL8A2cdMjIlohY20CBg7py+59NKePXfuvVef/689OzZBGACDMLpKyAK6/0Rps4GFlQN8hoMHNjbn7zsUwnkRIECAwFMCx3Fc19X8zf+kvl7vp76jzyVAgACBr8B5nvd9//w7e/MvAc8+foYECBB4XMCzz+MVOIAAAQJ/E/Dskz7oGNJSXuEECBAgQIAAAQIECBAgQIAAAQIECBAgQIAAAQKrAoa01ebcTYAAAQIECBAgQIAAAQIECBAgQIAAAQIECBAgkAoY0lJe4QQIECBAgAABAgQIECBAgAABAgQIECBAgAABAqsChrTV5txNgAABAgQIECBAgAABAgQIECBAgAABAgQIECCQChjSUl7hBAgQIECAAAECBAgQIECAAAECBAgQIECAAAECqwKGtNXm3E2AAAECBAgQIECAAAECBAgQIECAAAECBAgQIJAKGNJSXuEECBAgQIAAAQIECBAgQIAAAQIECBAgQIAAAQKrAoa01ebcTYAAAQIECBAgQIAAAQIECBAgQIAAAQIECBAgkAoY0lJe4QQIECBAgAABAgQIECBAgAABAgQIECBAgAABAqsChrTV5txNgAABAgQIECBAgAABAgQIECBAgAABAgQIECCQChjSUl7hBAgQIECAAAECBAgQIECAAAECBAgQIECAAAECqwKGtNXm3E2AAAECBAgQIECAAAECBAgQIECAAAECBAgQIJAKGNJSXuEECBAgQIAAAQIECBAgQIAAAQIECBAgQIAAAQKrAoa01ebcTYAAAQIECBAgQIAAAQIECBAgQIAAAQIECBAgkAoY0lJe4QQIECBAgAABAgQIECBAgAABAgQIECBAgAABAqsChrTV5txNgAABAgQIECBAgAABAgQIECBAgAABAgQIECCQChjSUl7hBAgQIECAAAECBAgQIECAAAECBAgQIECAAAECqwKGtNXm3E2AAAECBAgQIECAAAECBAgQIECAAAECBAgQIJAKGNJSXuEECBAgQIAAAQIECBAgQIAAAQIECBAgQIAAAQKrAoa01ebcTYAAAQIECBAgQIAAAQIECBAgQIAAAQIECBAgkAoY0lJe4QQIECBAgAABAgQIECBAgAABAgQIECBAgAABAqsChrTV5txNgAABAgQIECBAgAABAgQIECBAgAABAgQIECCQChjSUl7hBAgQIECAAAECBAgQIECAAAECBAgQIECAAAECqwKGtNXm3E2AAAECBAgQIECAAAECBAgQIECAAAECBAgQIJAKGNJSXuEECBAgQIAAAQIECBAgQIAAAQIECBAgQIAAAQKrAoa01ebcTYAAAQIECBAgQIAAAQIECBAgQIAAAQIECBAgkAoY0lJe4QQIECBAgAABAgQIECBAgAABAgQIECBAgAABAqsChrTV5txNgAABAgQIECBAgAABAgQIECBAgAABAgQIECCQChjSUl7hBAgQIECAAAECBAgQIECAAAECBAgQIECAAAECqwKGtNXm3E2AAAECBAgQIECAAAECBAgQIECAAAECBAgQIJAKGNJSXuEECBAgQIAAAQIECBAgQIAAAQIECBAgQIAAAQKrAoa01ebcTYAAAQIECBAgQIAAAQIECBAgQIAAAQIECBAgkAoY0lJe4QQIECBAgAABAgQIECBAgAABAgQIECBAgAABAqsChrTV5txNgAABAgQIECBAgAABAgQIECBAgAABAgQIECCQChjSUl7hBAgQIECAAAECBAgQIECAAAECBAgQIECAAAECqwKGtNXm3E2AAAECBAgQIECAAAECBAgQIECAAAECBAgQIJAKGNJSXuEECBAgQIAAAQIECBAgQIAAAQIECBAgQIAAAQKrAoa01ebcTYAAAQIECBAgQIAAAQIECBAgQIAAAQIECBAgkAoY0lJe4QQIECBAgAABAgQIECBAgAABAgQIECBAgAABAqsChrTV5txNgAABAgQIECBAgAABAgQIECBAgAABAgQIECCQChjSUl7hBAgQIECAAAECBAgQIECAAAECBAgQIECAAAECqwKGtNXm3E2AAAECBAgQIECAAAECBAgQIECAAAECBAgQIJAKGNJSXuEECBAgQIAAAQIECBAgQIAAAQIECBAgQIAAAQKrAoa01ebcTYAAAQIECBAgQIAAAQIECBAgQIAAAQIECBAgkAoY0lJe4QQIECBAgAABAgQIECBAgAABAgQIECBAgAABAqsChrTV5txNgAABAgQIECBAgAABAgQIECBAgAABAgQIECCQChjSUl7hBAgQIECAAAECBAgQIECAAAECBAgQIECAAAECqwKGtNXm3E2AAAECBAgQIECAAAECBAgQIECAAAECBAgQIJAKGNJSXuEECBAgQIAAAQIECBAgQIAAAQIECBAgQIAAAQKrAoa01ebcTYAAAQIECBAgQIAAAQIECBAgQIAAAQIECBAgkAoY0lJe4QQIECBAgAABAgQIECBAgAABAgQIECBAgAABAqsChrTV5txNgAABAgQIECBAgAABAgQIECBAgAABAgQIECCQChjSUl7hBAgQIECAAAECBAgQIECAAAECBAgQIECAAAECqwKGtNXm3E2AAAECBAgQIECAAAECBAgQIECAAAECBAgQIJAKGNJSXuEECBAgQIAAAQIECBAgQIAAAQIECBAgQIAAAQKrAoa01ebcTYAAAQIECBAgQIAAAQIECBAgQIAAAQIECBAgkAoY0lJe4QQIECBAgAABAgQIECBAgAABAgQIECBAgAABAqsChrTV5txNgAABAgQIECBAgAABAgQIECBAgAABAgQIECCQChjSUl7hBAgQIECAAAECBAgQIECAAAECBAgQIECAAAECqwKGtNXm3E2AAAECBAgQIECAAAECBAgQIECAAAECBAgQIJAKGNJSXuEECBAgQIAAAQIECBAgQIAAAQIECBAgQIAAAQKrAoa01ebcTYAAAQIECBAgQIAAAQIECBAgQIAAAQIECBAgkAoY0lJe4QQIECBAgAABAgQIECBAgAABAgQIECBAgAABAqsChrTV5txNgAABAgQIECBAgAABAgQIECBAgAABAgQIECCQChjSUl7hBAgQIECAAAECBAgQIECAAAECBAgQIECAAAECqwKGtNXm3E2AAAECBAgQIECAAAECBAgQIECAAAECBAgQIJAKGNJSXuEECBAgQIAAAQIECBAgQIAAAQIECBAgQIAAAQKrAoa01ebcTYAAAQIECBAgQIAAAQIECBAgQIAAAQIECBAgkAoY0lJe4QQIECBAgAABAgQIECBAgAABAgQIECBAgAABAqsChrTV5txNgAABAgQIECBAgAABAgQIECBAgAABAgQIECCQChjSUl7hBAgQIECAAAECBAgQIECAAAECBAgQIECAAAECqwKGtNXm3E2AAAECBAgQIECAAAECBAgQIECAAAECBAgQIJAKGNJSXuEECBAgQIAAAQIECBAgQIAAAQIECBAgQIAAAQKrAoa01ebcTYAAAQIECBAgQIAAAQIECBAgQIAAAQIECBAgkAoY0lJe4QQIECBAgAABAgQIECBAgAABAgQIECBAgAABAqsChrTV5txNgAABAgQIECBAgAABAgQIECBAgAABAgQIECCQChjSUl7hBAgQIECAAAECBAgQIECAAAECBAgQIECAAAECqwKGtNXm3E2AAAECBAgQIECAAAECBAgQIECAAAECBAgQIJAKGNJSXuEECBAgQIAAAQIECBAgQIAAAQIECBAgQIAAAQKrAh859ePGGT0V5QAAAABJRU5ErkJggg==)"
   ]
  },
  {
   "cell_type": "code",
   "execution_count": 113,
   "id": "db226b57-78d9-4517-866a-0f9642d69dee",
   "metadata": {
    "tags": []
   },
   "outputs": [],
   "source": [
    "class MotifNotFoundError(ValueError):\n",
    "    pass\n",
    "\n",
    "\n",
    "def find_motif(sequence, motif):\n",
    "    motif_position = sequence.find(motif)\n",
    "    if motif_position != -1:\n",
    "        return motif_position\n",
    "    else:\n",
    "        raise MotifNotFoundError()"
   ]
  },
  {
   "cell_type": "code",
   "execution_count": 114,
   "id": "1cd2611e-d5d9-4b32-9ea3-2b613e657a3c",
   "metadata": {
    "tags": []
   },
   "outputs": [
    {
     "ename": "MotifNotFoundError",
     "evalue": "",
     "output_type": "error",
     "traceback": [
      "\u001b[0;31m---------------------------------------------------------------------------\u001b[0m",
      "\u001b[0;31mMotifNotFoundError\u001b[0m                        Traceback (most recent call last)",
      "Cell \u001b[0;32mIn[114], line 1\u001b[0m\n\u001b[0;32m----> 1\u001b[0m \u001b[43mfind_motif\u001b[49m\u001b[43m(\u001b[49m\u001b[38;5;124;43m'\u001b[39;49m\u001b[38;5;124;43mATGC\u001b[39;49m\u001b[38;5;124;43m'\u001b[39;49m\u001b[43m,\u001b[49m\u001b[43m \u001b[49m\u001b[38;5;124;43m'\u001b[39;49m\u001b[38;5;124;43mF\u001b[39;49m\u001b[38;5;124;43m'\u001b[39;49m\u001b[43m)\u001b[49m\n",
      "Cell \u001b[0;32mIn[113], line 10\u001b[0m, in \u001b[0;36mfind_motif\u001b[0;34m(sequence, motif)\u001b[0m\n\u001b[1;32m      8\u001b[0m     \u001b[38;5;28;01mreturn\u001b[39;00m motif_position\n\u001b[1;32m      9\u001b[0m \u001b[38;5;28;01melse\u001b[39;00m:\n\u001b[0;32m---> 10\u001b[0m     \u001b[38;5;28;01mraise\u001b[39;00m MotifNotFoundError()\n",
      "\u001b[0;31mMotifNotFoundError\u001b[0m: "
     ]
    }
   ],
   "source": [
    "find_motif('ATGC', 'F')"
   ]
  },
  {
   "cell_type": "markdown",
   "id": "c538dcda-c7bc-405a-a1bd-980e821f2479",
   "metadata": {},
   "source": [
    "#### Обработка исключений"
   ]
  },
  {
   "cell_type": "markdown",
   "id": "832bcf92-7d61-49a6-843a-1f651dc06f88",
   "metadata": {},
   "source": [
    "Мы знаем конструкцию `if-else`:\n",
    "\n",
    "```python\n",
    "if <condition>:\n",
    "    something()\n",
    "elif <other condition>:\n",
    "    other_something()\n",
    "else: \n",
    "    somtehing_else()\n",
    "```\n",
    "\n",
    "Чем-то похожей на нее является конструкция для обработки исключений `try-except`:\n",
    "```python\n",
    "try:\n",
    "    something_dangerous()\n",
    "except (ValueError, ArithmeticError):\n",
    "    something()\n",
    "except TypeError as e:\n",
    "    something_else(e)\n",
    "except:\n",
    "    another_one_something()\n",
    "```\n",
    "\n",
    "- Можно просто обработать ситуацию возникновения исключения, а можно что-то сделать с самим исключением. Для этого его нужно перехватить с помощью `as e`. Имя `e` может быть любым, но в таком варианте является конвенцией\n",
    "- Исключение `e` обрабатывается веткой `except`, если её первый аргумент expr можно сопоставить с исключением: `isinstance(e, expr)`\n",
    "- При наличии нескольких веток `except` интерпретатор сверху вниз ищет подходящую.\n",
    "- Переменная `e` существует *только* внутри блока `except`\n"
   ]
  },
  {
   "cell_type": "code",
   "execution_count": 41,
   "id": "c3536fa1-4fb9-4911-a741-dea0448348b0",
   "metadata": {
    "tags": []
   },
   "outputs": [
    {
     "name": "stdout",
     "output_type": "stream",
     "text": [
      "e: division by zero\n",
      "exited\n"
     ]
    },
    {
     "ename": "NameError",
     "evalue": "name 'e' is not defined",
     "output_type": "error",
     "traceback": [
      "\u001b[0;31m---------------------------------------------------------------------------\u001b[0m",
      "\u001b[0;31mNameError\u001b[0m                                 Traceback (most recent call last)",
      "Cell \u001b[0;32mIn[41], line 6\u001b[0m\n\u001b[1;32m      4\u001b[0m     \u001b[38;5;28mprint\u001b[39m(\u001b[38;5;124m'\u001b[39m\u001b[38;5;124me:\u001b[39m\u001b[38;5;124m'\u001b[39m, e)\n\u001b[1;32m      5\u001b[0m \u001b[38;5;28mprint\u001b[39m(\u001b[38;5;124m'\u001b[39m\u001b[38;5;124mexited\u001b[39m\u001b[38;5;124m'\u001b[39m)\n\u001b[0;32m----> 6\u001b[0m \u001b[38;5;28mprint\u001b[39m(\u001b[43me\u001b[49m)\n",
      "\u001b[0;31mNameError\u001b[0m: name 'e' is not defined"
     ]
    }
   ],
   "source": [
    "try:\n",
    "    1/0\n",
    "except ArithmeticError as e:\n",
    "    print('e:', e)\n",
    "print('exited')\n",
    "print(e)\n",
    "    "
   ]
  },
  {
   "cell_type": "markdown",
   "id": "57b8cd89-564d-4d23-b013-3e4b07e29a1b",
   "metadata": {},
   "source": [
    "Если еще некоторые ключевые слова:\n",
    "- `finally` - выполнится после `try-except` в любом случае\n",
    "- `else` - выполнится после `try-except` если ошибки не случилось"
   ]
  },
  {
   "cell_type": "code",
   "execution_count": 42,
   "id": "366a3d6e-1de4-43d8-b1b2-09035de1d2b6",
   "metadata": {},
   "outputs": [
    {
     "name": "stdout",
     "output_type": "stream",
     "text": [
      "e: division by zero\n",
      "0\n"
     ]
    }
   ],
   "source": [
    "var  = 0\n",
    "try:\n",
    "    var = 1/var\n",
    "except ArithmeticError as e:\n",
    "    print('e:', e)\n",
    "else:\n",
    "    var = var/1\n",
    "finally:\n",
    "    print(var)"
   ]
  },
  {
   "cell_type": "code",
   "execution_count": 43,
   "id": "529ab960-4a59-44d9-a0a6-a2149562c20e",
   "metadata": {},
   "outputs": [
    {
     "name": "stdout",
     "output_type": "stream",
     "text": [
      "1.0\n"
     ]
    }
   ],
   "source": [
    "var  = 1\n",
    "try:\n",
    "    var = 1/var\n",
    "except ArithmeticError as e:\n",
    "    print('e:', e)\n",
    "else:\n",
    "    var = var/1\n",
    "finally:\n",
    "    print(var)"
   ]
  },
  {
   "cell_type": "markdown",
   "id": "4b0bb40b-1f6e-4041-ab47-1cc73e2104d8",
   "metadata": {},
   "source": [
    "Эти блоки (`else` и `finally`) используются не так часто, но иногда они полезны. Ключевое правило при работе с `try-except` - делать это только там где нужно. **Не пишите весь код внутри `try-except`**. Используйте его на конкретных строчках где возможна ошибка. Ну и помните, что возможно по логике вам нужен не `try-except`, а предварительное условие с проверкой данных. **Ловить исключения не всегда хорошо!** Если программа упала с ошибкой - это здорово, мы этого ожидаем. Вот если ошибка есть, а программа не упала - вот это очень плохо. Поэтому если что-то в вашем коде падает - скорее всего лучше просто оставить как есть чтобы оно падало. Самый частый кейс ловли исключений - для сохранения инфы в файл с логами. Ловить исключения просто чтобы их не было не правильно!"
   ]
  },
  {
   "cell_type": "markdown",
   "id": "ceab497b-f68a-4b20-9e4e-3308b45c3643",
   "metadata": {},
   "source": [
    "### Композиция\n",
    "\n",
    "Экземпляры класса в ходе работы могут использовать (и даже пораждать) экземляры других классов. При этом прямой родственной связи (наследования) между ними может и не быть."
   ]
  },
  {
   "cell_type": "code",
   "execution_count": 115,
   "id": "2087bff3-3adc-450a-bae0-ca482cfeab54",
   "metadata": {
    "tags": []
   },
   "outputs": [],
   "source": [
    "class Human():\n",
    "    pass\n",
    "\n",
    "class Dog():\n",
    "    def __init__(self, name, owner):\n",
    "        self.name = name\n",
    "        self.owner = Human(owner)"
   ]
  },
  {
   "cell_type": "markdown",
   "id": "05212898-f4fa-4e6a-8af5-582887903452",
   "metadata": {},
   "source": [
    "## 0. Абстракция\n",
    " \n",
    " - Мы обобщаем все объекты с которыми работаем до какого-то Класса, \"шаблона\". В этом \"шаблоне\" мы упускаем неважные детали и подчеркиваем важные. Например, если мы хотим работать с собаками, нам логичнее создать класс `Dog`. Мы не создаем по классу под каждую породу `class Sheepdog(), class Mixed(), ...`, порода выступает лишь в качестве характеристики собаки. При этом и слишком абстрагироваться тоже не стоит (`class Animal(), class LivingCreature()`). Внутри класса мы создаем необходимые нам аттрибуты и методы, игнорируя лишние (например, количество волос или имя хозяина). Хотя в иной ситуации имя хозяина нам будет важно, а возраст собаки нет.\n",
    " "
   ]
  },
  {
   "cell_type": "code",
   "execution_count": 116,
   "id": "b102b74a-5f48-4318-96a1-b228915f9589",
   "metadata": {
    "tags": []
   },
   "outputs": [],
   "source": [
    "from abc import ABC, abstractmethod"
   ]
  },
  {
   "cell_type": "code",
   "execution_count": 117,
   "id": "a17a42ee-3668-4c42-a689-a1d60f6fe665",
   "metadata": {
    "tags": []
   },
   "outputs": [],
   "source": [
    "class BiologicalSequence(ABC):\n",
    "    @abstractmethod\n",
    "    def get_content_statistics():\n",
    "        pass\n",
    "\n",
    "\n",
    "class NucleicAcidSequence(BiologicalSequence):\n",
    "    def __init__(self, seq):\n",
    "        self.seq = seq\n",
    "        self.length = len(self.seq)\n",
    "\n",
    "    def complement(self):\n",
    "        complement_seq = self.seq.translate(str.maketrans(\"ATGCU\", \"TACGA\"))\n",
    "        return complement_seq #Sequence(complement_seq)\n",
    "\n",
    "class DNASequence(NucleicAcidSequence):\n",
    "    pass\n",
    "\n",
    "class RNASequence(NucleicAcidSequence):\n",
    "    pass"
   ]
  },
  {
   "cell_type": "code",
   "execution_count": 118,
   "id": "74f8d515-5fdd-499a-9f7f-264c41afc877",
   "metadata": {
    "tags": []
   },
   "outputs": [
    {
     "ename": "TypeError",
     "evalue": "Can't instantiate abstract class DNASequence with abstract method get_content_statistics",
     "output_type": "error",
     "traceback": [
      "\u001b[0;31m---------------------------------------------------------------------------\u001b[0m",
      "\u001b[0;31mTypeError\u001b[0m                                 Traceback (most recent call last)",
      "Cell \u001b[0;32mIn[118], line 1\u001b[0m\n\u001b[0;32m----> 1\u001b[0m \u001b[43mDNASequence\u001b[49m\u001b[43m(\u001b[49m\u001b[38;5;124;43m'\u001b[39;49m\u001b[38;5;124;43mATGC\u001b[39;49m\u001b[38;5;124;43m'\u001b[39;49m\u001b[43m)\u001b[49m\n",
      "\u001b[0;31mTypeError\u001b[0m: Can't instantiate abstract class DNASequence with abstract method get_content_statistics"
     ]
    }
   ],
   "source": [
    " DNASequence('ATGC')"
   ]
  },
  {
   "cell_type": "markdown",
   "id": "469a63a9-9ac0-4d2e-9011-01614d3d3ddc",
   "metadata": {},
   "source": [
    "# Декораторы в ООП\n",
    "\n",
    "- `abstractmethod` - метод который должен быть доопределен в дочернем классе, создание \"шаблона\"\n",
    "- `staticmethod` - метод который работает БЕЗ `self` первым аргументом (то есть не зависит от конкретного экземпляра)\n",
    "- `classmethod` - метод который в качестве первого аргумента принимает сам класс (конвенция - `cls`)\n",
    "- `property` и `setter.<attr>` - методы для задания и получения значений аттрибутов\n",
    "\n",
    "\n",
    "- `dataclass` - класс для более удобной работы когда есть много полей (аттрибутов)"
   ]
  },
  {
   "cell_type": "code",
   "execution_count": 119,
   "id": "b95c0d50-e8a7-4a96-9b80-e4a90e214639",
   "metadata": {
    "tags": []
   },
   "outputs": [],
   "source": [
    "class NucleicAcidSequence(BiologicalSequence):\n",
    "    def __init__(self, seq):\n",
    "        self.seq = seq\n",
    "        self.length = len(self.seq)\n",
    "\n",
    "    def complement(self):\n",
    "        complement_seq = self.seq.translate(str.maketrans(\"ATGCU\", \"TACGA\"))\n",
    "        return complement_seq #Sequence(complement_seq)\n",
    "\n",
    "    def get_content_statistics():\n",
    "        pass\n",
    "\n",
    "    @staticmethod\n",
    "    def check_alphabet(alphabet, sequence):\n",
    "        return set(sequence) == set(alphabet)\n",
    "\n",
    "class DNASequence(NucleicAcidSequence):\n",
    "    possible_letters = ('A', 'T', 'G', 'C')\n",
    "\n",
    "    @classmethod\n",
    "    def print_alphabet(cls):\n",
    "        print(set(cls.possible_letters))"
   ]
  },
  {
   "cell_type": "code",
   "execution_count": 120,
   "id": "d78093c8-934e-4f93-9186-255670adfb6c",
   "metadata": {
    "tags": []
   },
   "outputs": [
    {
     "data": {
      "text/plain": [
       "True"
      ]
     },
     "execution_count": 120,
     "metadata": {},
     "output_type": "execute_result"
    }
   ],
   "source": [
    "my_dna = DNASequence('ATGC')\n",
    "NucleicAcidSequence.check_alphabet(my_dna.possible_letters, my_dna.seq)"
   ]
  },
  {
   "cell_type": "code",
   "execution_count": 121,
   "id": "62eb3dd9-c2b7-41f1-bff5-c210a33a1fe7",
   "metadata": {
    "tags": []
   },
   "outputs": [
    {
     "name": "stdout",
     "output_type": "stream",
     "text": [
      "{'A', 'G', 'C', 'T'}\n"
     ]
    }
   ],
   "source": [
    "DNASequence.print_alphabet()"
   ]
  },
  {
   "cell_type": "code",
   "execution_count": 122,
   "id": "400b87b9-0ff6-4d54-8756-f01a599da14e",
   "metadata": {
    "tags": []
   },
   "outputs": [],
   "source": [
    "from dataclasses import dataclass\n",
    "\n",
    "@dataclass\n",
    "class FastaRecord:\n",
    "    id_: str\n",
    "    description: str\n",
    "    seq: str\n",
    "\n",
    "    def __repr__(self):\n",
    "        header = f'>{self.id_} {self.description}\\n'\n",
    "        return f'{header}{self.seq}'\n",
    "    \n",
    "\n",
    "@dataclass\n",
    "class Alignment():\n",
    "    \"\"\"\n",
    "    Alignment dataclass stores main features of the BLAST search hit alignment result.\n",
    "    \"\"\"\n",
    "    subj_name: str\n",
    "    subj_id: str\n",
    "    subj_len: int\n",
    "    score: int\n",
    "    e_value: float\n",
    "    identity: int\n",
    "    n_gaps: int\n",
    "    query_seq: str\n",
    "    subject_seq: str\n",
    "    subj_range: tuple\n",
    "    align_len: int\n",
    "\n",
    "    def __repr__(self):\n",
    "        return f'ID:{self.subj_id}_len={self.align_len}_E-val={self.e_value:2.2e}'"
   ]
  },
  {
   "cell_type": "markdown",
   "id": "fbace12e-794a-4b4a-905d-3b3b9c6edaad",
   "metadata": {},
   "source": [
    "# (иногда) Полезные функции при работе с ООП"
   ]
  },
  {
   "cell_type": "markdown",
   "id": "81b91c95-a830-4c5b-95c6-e56816cd0d3a",
   "metadata": {
    "tags": []
   },
   "source": [
    "## Функция `dir`\n",
    "При передаче ей любого объекта она возвращает полный список его атрибутов и методов. Альтернативой `dir` также является автодополнение в IDE, но они имеют один минус - зачастую не показывают приватные атрибуты (начинающиеся с `_`), `dir` же даёт нам полный список"
   ]
  },
  {
   "cell_type": "code",
   "execution_count": 123,
   "id": "6cb8d2a7-45dd-463e-b5eb-9ccce2472ba9",
   "metadata": {
    "tags": []
   },
   "outputs": [
    {
     "name": "stdout",
     "output_type": "stream",
     "text": [
      "__add__\t __class__\t __contains__\t __delattr__\t __dict__\t __dir__\n",
      " __doc__\t __eq__\t __format__\t __ge__\t __getattribute__\t __getitem__\n",
      " __getnewargs__\t __getstate__\t __gt__\t __hash__\t __init__\t __init_subclass__\n",
      " __iter__\t __le__\t __len__\t __lt__\t __mod__\t __module__\n",
      " __mul__\t __ne__\t __new__\t __reduce__\t __reduce_ex__\t __repr__\n",
      " __rmod__\t __rmul__\t __setattr__\t __sizeof__\t __str__\t __subclasshook__\n",
      " __weakref__\t capitalize\t casefold\t center\t count\t encode\n",
      " endswith\t expandtabs\t find\t format\t format_map\t index\n",
      " isalnum\t isalpha\t isascii\t isdecimal\t isdigit\t isidentifier\n",
      " islower\t isnumeric\t isprintable\t isspace\t istitle\t isupper\n",
      " join\t ljust\t lower\t lstrip\t maketrans\t partition\n",
      " removeprefix\t removesuffix\t replace\t rfind\t rindex\t rjust\n",
      " rpartition\t rsplit\t rstrip\t split\t splitlines\t startswith\n",
      " strip\t swapcase\t title\t translate\t upper\t\n"
     ]
    }
   ],
   "source": [
    "dir_content = dir(sequence)\n",
    "\n",
    "# тут небольшая муть чтобы чуть компактнее все это дело печаталось\n",
    "seps = ['\\t' if i%6!=0 else '\\n' for i in range(len(dir_content)) ][1:]\n",
    "print(*[x+y for x, y in zip(dir_content, seps)])"
   ]
  },
  {
   "cell_type": "markdown",
   "id": "630d0f52-8cea-4b84-bb2d-96b917ccabff",
   "metadata": {},
   "source": [
    "## Функции ***attr\n",
    "\n",
    "Данные функции позволяют взаимодействовать с атрибутами объектов. Они используются не очень часто, но в некоторых ситуациях незаменимы или просто сильно облегчают работу\n",
    "\n",
    "- `hasattr` </br>\n",
    "Позволяет нам проверить, имеет ли объект тот или иной атрибут. Это бывает нужно, чтобы избежать ошибок `AttributeError`\n",
    "\n",
    "- `getattr` </br>\n",
    "Позволяет нам получить значение атрибута из объекта или вернуть значение по-умолчанию (аналогично методу `get` словаря). `getattr(obj, attr_name)` эквивалентно `obj.attr_name`\n",
    "\n",
    "- `setattr` </br>\n",
    "Позволяет задать значение для атрибута. `setattr(obj, attr_name, value)` эквивалентно `obj.attr_name = value`\n",
    "\n",
    "- `delattr` </br>\n",
    "Позволяет удалить атрибут. `delattr(obj, attr_name)` эквивалентно `del obj.attr_name`"
   ]
  },
  {
   "cell_type": "code",
   "execution_count": 124,
   "id": "6b471c28-13de-4ac9-b6fe-6c17faca5bf0",
   "metadata": {
    "tags": []
   },
   "outputs": [],
   "source": [
    "class Sequence(str):\n",
    "    pass\n",
    "seq_obj = Sequence(\"Some string\")"
   ]
  },
  {
   "cell_type": "code",
   "execution_count": 125,
   "id": "05b77020-3513-4681-80b8-1d6e610d1ace",
   "metadata": {
    "tags": []
   },
   "outputs": [
    {
     "data": {
      "text/plain": [
       "True"
      ]
     },
     "execution_count": 125,
     "metadata": {},
     "output_type": "execute_result"
    }
   ],
   "source": [
    "hasattr(seq_obj, \"removesuffix\")"
   ]
  },
  {
   "cell_type": "code",
   "execution_count": 126,
   "id": "0955b6eb-c865-4702-ba25-d4d54992ecec",
   "metadata": {
    "tags": []
   },
   "outputs": [
    {
     "data": {
      "text/plain": [
       "<function Sequence.lower()>"
      ]
     },
     "execution_count": 126,
     "metadata": {},
     "output_type": "execute_result"
    }
   ],
   "source": [
    "getattr(seq_obj, \"lower\")"
   ]
  },
  {
   "cell_type": "code",
   "execution_count": 127,
   "id": "eb57aad7-39ff-4c4f-8f4e-6ddd2fc89869",
   "metadata": {
    "tags": []
   },
   "outputs": [
    {
     "data": {
      "text/plain": [
       "<function Sequence.replace(old, new, count=-1, /)>"
      ]
     },
     "execution_count": 127,
     "metadata": {},
     "output_type": "execute_result"
    }
   ],
   "source": [
    "getattr(seq_obj, \"replace\")"
   ]
  },
  {
   "cell_type": "code",
   "execution_count": 128,
   "id": "f1209263-fd52-4cfb-bbd3-4e10c13e97e1",
   "metadata": {
    "tags": []
   },
   "outputs": [
    {
     "name": "stdout",
     "output_type": "stream",
     "text": [
      "False\n",
      "True\n",
      "1\n"
     ]
    }
   ],
   "source": [
    "print(hasattr(seq_obj, \"new_attribute\"))\n",
    "\n",
    "setattr(seq_obj, \"new_attribute\", 1)\n",
    "\n",
    "print(hasattr(seq_obj, \"new_attribute\"))\n",
    "print(seq_obj.new_attribute)"
   ]
  },
  {
   "cell_type": "markdown",
   "id": "7bed6506-e09c-4f3c-b37a-ed90dda162d3",
   "metadata": {},
   "source": [
    "# Поподробнее про интерфейсы на примерах\n",
    "\n",
    "На самом деле, когда мы писали dunder методы, мы как раз занимались **имплементированием интерфейсов**, которые требуются для взаимодействия со встроенными в питон объектами.\n",
    "\n",
    "## Пример 1. `Sized`\n",
    "\n",
    "Реализован когда у объекта определен метод `__len__`. С ним мы уже знакомы."
   ]
  },
  {
   "cell_type": "code",
   "execution_count": 129,
   "id": "f14a8e81-309d-4f13-8aef-6a7188dd2772",
   "metadata": {
    "tags": []
   },
   "outputs": [],
   "source": [
    "my_list = [1, 2, 3]\n",
    "my_str = '123'\n",
    "my_dict = {1: '1', 2: '2', 3: '3'}\n",
    "my_df = pd.DataFrame({\n",
    "                    'col1': [1, 2, 3],\n",
    "                    'col2': ['A', 'B', 'C']\n",
    "                    })"
   ]
  },
  {
   "cell_type": "code",
   "execution_count": 130,
   "id": "91abc656-acd6-4c82-91d7-93b3a91a5f7c",
   "metadata": {
    "tags": []
   },
   "outputs": [
    {
     "name": "stdout",
     "output_type": "stream",
     "text": [
      "3\n",
      "3\n",
      "3\n",
      "3\n"
     ]
    }
   ],
   "source": [
    "for obj in [my_list, my_str, my_dict, my_df]:\n",
    "    print(len(obj))"
   ]
  },
  {
   "cell_type": "markdown",
   "id": "03758293-59e6-4c4c-91fa-7a280180d02c",
   "metadata": {},
   "source": [
    "## Пример 2. `Callable`\n",
    "\n",
    " По названию понятно, что `Callable` имеет какое-то отношение к объектам, которые мы можем вызывать.\n",
    "\n",
    "Объекты с интерфейсом `Callable` в питоне должны уметь \"вызываться\" при помощи скобочек. Для того, чтобы сделать данный интерфейс нам необходимо определить для объекта метод `__call__`, который выполняется при вызове"
   ]
  },
  {
   "cell_type": "code",
   "execution_count": 131,
   "id": "9532833c-43d5-440f-b5bc-9c855871b35f",
   "metadata": {
    "tags": []
   },
   "outputs": [
    {
     "name": "stdout",
     "output_type": "stream",
     "text": [
      "True\n",
      "True\n"
     ]
    }
   ],
   "source": [
    "from operator import add, sub\n",
    "\n",
    "\n",
    "class Add:\n",
    "    def __call__(self, operand1, operand2):\n",
    "        return operand1 + operand2\n",
    "    \n",
    "class Subtract:\n",
    "    def __call__(self, operand1, operand2):\n",
    "        return operand1 - operand2\n",
    "    \n",
    "class Divide:\n",
    "    def __call__(self, operand1, operand2):\n",
    "        return operand1 / operand2\n",
    "    \n",
    "class Multiply:\n",
    "    def __call__(self, operand1, operand2):\n",
    "        return operand1 * operand2\n",
    "    \n",
    "class SomeRandomClass:\n",
    "    def __call__(self, operand1, operand2):\n",
    "        return \".....\"\n",
    "    \n",
    "class Matmul:\n",
    "    def multiply_matrices(self, operand1, operand2):\n",
    "        return operand1 @ operand2\n",
    "    \n",
    "print(hasattr(add, \"__call__\"))\n",
    "print(hasattr(sub, \"__call__\"))"
   ]
  },
  {
   "cell_type": "markdown",
   "id": "6beee9bb-4130-421a-8da2-d710d67b2538",
   "metadata": {},
   "source": [
    "В примере выше мы написали несколько классов, а также импортировали две функции. Мы видим, что функции `add` и `sub`, а также классы `Add`, `Subtract`, `Divide` и `Multiply` **реализуют** интерфейс `Callable`, так как у них определены методы `__call__`. Класс `Matmul` не реализует данный интерфейс, так как у него не определён метод `__call__`. Давайте запустим этот код"
   ]
  },
  {
   "cell_type": "code",
   "execution_count": 132,
   "id": "c9447a33-b403-4536-ada4-a8767be2364b",
   "metadata": {
    "tags": []
   },
   "outputs": [
    {
     "name": "stdout",
     "output_type": "stream",
     "text": [
      "11\n",
      "3\n",
      "11\n",
      "3\n",
      "1.75\n",
      "28\n",
      ".....\n"
     ]
    },
    {
     "ename": "TypeError",
     "evalue": "'Matmul' object is not callable",
     "output_type": "error",
     "traceback": [
      "\u001b[0;31m---------------------------------------------------------------------------\u001b[0m",
      "\u001b[0;31mTypeError\u001b[0m                                 Traceback (most recent call last)",
      "Cell \u001b[0;32mIn[132], line 3\u001b[0m\n\u001b[1;32m      1\u001b[0m objects \u001b[38;5;241m=\u001b[39m [add, sub, Add(), Subtract(), Divide(), Multiply(), SomeRandomClass(), Matmul()]\n\u001b[1;32m      2\u001b[0m \u001b[38;5;28;01mfor\u001b[39;00m obj \u001b[38;5;129;01min\u001b[39;00m objects:\n\u001b[0;32m----> 3\u001b[0m     result \u001b[38;5;241m=\u001b[39m \u001b[43mobj\u001b[49m\u001b[43m(\u001b[49m\u001b[38;5;241;43m7\u001b[39;49m\u001b[43m,\u001b[49m\u001b[43m \u001b[49m\u001b[38;5;241;43m4\u001b[39;49m\u001b[43m)\u001b[49m   \u001b[38;5;66;03m# Это эквивалентно obj.__call__(7, 4) \u001b[39;00m\n\u001b[1;32m      4\u001b[0m     \u001b[38;5;28mprint\u001b[39m(result)\n",
      "\u001b[0;31mTypeError\u001b[0m: 'Matmul' object is not callable"
     ]
    }
   ],
   "source": [
    "objects = [add, sub, Add(), Subtract(), Divide(), Multiply(), SomeRandomClass(), Matmul()]\n",
    "for obj in objects:\n",
    "    result = obj(7, 4)   # Это эквивалентно obj.__call__(7, 4) \n",
    "    print(result)"
   ]
  },
  {
   "cell_type": "markdown",
   "id": "83877d2e-82bb-459b-b28f-7bb527e18bb9",
   "metadata": {},
   "source": [
    "Мы видим, что вызов `obj(7, 4)` для всех заданных нами объектов, кроме `Matmul()` прошёл успешно, так как все они **реализуют** метод `__call__` для \"взаимодействия со скобочками\", но не `Matmul`. Даже в тексте ошибки питон пишет нам, что `Matmul` это не `Callable`.\n",
    "\n",
    "Также обратите внимание, что интерфейсу совершенно всё равно, что делают наши методы. Самое главное, чтобы они имели метод `__call__`. Мы хорошо видим это на примере класса `SomeRandomClass`, который по логике работы отличается от остальных, но также как и все реализует интерфейс.\n",
    "\n",
    "\n",
    "На самом деле, интерфейс, который мы описали выше это не только `Callable`. При определении интерфейса **имеет значение не только название метода, но и его \"сигнатура\"** (набор аргументов, которые он принимает и возвращаемых значений всместе с их типами). Иначе говоря, если бы мы переписали класс `Add` следующим образом, то он перестал бы соответствовать интерфейсу, заданному классами выше ( интерфейс `Callable с двумя позиционными аргументами`), т.к. принимает другое количество аргументов, но при этом он всё ещё будет соответствовать интерфейсу `Callable`, так как по-прежнему будет иметь метод `__call__`."
   ]
  },
  {
   "cell_type": "markdown",
   "id": "f2ba1f30-fbc5-4548-af9c-8996eb780859",
   "metadata": {},
   "source": [
    "## Пример 3. `Container`\n",
    "\n",
    "Реализован когда у объекта определен метод `__contains__`, позволяет объекту работать с оператором `in`."
   ]
  },
  {
   "cell_type": "code",
   "execution_count": 133,
   "id": "d7fc8d46-eff8-43fd-aecd-37a24ba020a7",
   "metadata": {
    "tags": []
   },
   "outputs": [
    {
     "data": {
      "text/plain": [
       "True"
      ]
     },
     "execution_count": 133,
     "metadata": {},
     "output_type": "execute_result"
    }
   ],
   "source": [
    "'A' in 'AB' # строки реализуют интерфейс Container"
   ]
  },
  {
   "cell_type": "code",
   "execution_count": 134,
   "id": "6a18f6b7-b10a-410f-aa72-5d3c2d8315a5",
   "metadata": {
    "tags": []
   },
   "outputs": [
    {
     "ename": "TypeError",
     "evalue": "argument of type 'int' is not iterable",
     "output_type": "error",
     "traceback": [
      "\u001b[0;31m---------------------------------------------------------------------------\u001b[0m",
      "\u001b[0;31mTypeError\u001b[0m                                 Traceback (most recent call last)",
      "Cell \u001b[0;32mIn[134], line 1\u001b[0m\n\u001b[0;32m----> 1\u001b[0m \u001b[38;5;241;43m5\u001b[39;49m\u001b[43m \u001b[49m\u001b[38;5;129;43;01min\u001b[39;49;00m\u001b[43m \u001b[49m\u001b[38;5;241;43m6\u001b[39;49m \u001b[38;5;66;03m# а вот числа нет\u001b[39;00m\n",
      "\u001b[0;31mTypeError\u001b[0m: argument of type 'int' is not iterable"
     ]
    }
   ],
   "source": [
    "5 in 6 # а вот числа нет"
   ]
  },
  {
   "cell_type": "code",
   "execution_count": 135,
   "id": "9231681f-39d7-44b9-823e-d5f27908baa8",
   "metadata": {
    "tags": []
   },
   "outputs": [
    {
     "data": {
      "text/plain": [
       "True"
      ]
     },
     "execution_count": 135,
     "metadata": {},
     "output_type": "execute_result"
    }
   ],
   "source": [
    "# Но мы можем доопределить целые числа методом __contains__ чтобы все заработало\n",
    "class MyInt(int):\n",
    "    def __contains__(self, item): # здесь подразумевается self - справа от in, а item - слева\n",
    "        return item < self\n",
    "    \n",
    "MyInt(5) in MyInt(6) "
   ]
  },
  {
   "cell_type": "code",
   "execution_count": 136,
   "id": "3baa6dcf-6847-46e7-b194-43f2eac59747",
   "metadata": {
    "tags": []
   },
   "outputs": [
    {
     "data": {
      "text/plain": [
       "True"
      ]
     },
     "execution_count": 136,
     "metadata": {},
     "output_type": "execute_result"
    }
   ],
   "source": [
    "5 in MyInt(6) # и даже так"
   ]
  },
  {
   "cell_type": "markdown",
   "id": "4c6ec946-57ef-4c40-8bd6-8457a5da7f56",
   "metadata": {},
   "source": [
    "## Пример 4. `Iterable`\n",
    "Реализован когда у объекта определен метод `__iter__`, позволяет объекту работать с циклом `for`, но это тема отдельной лекции (про итераторы)"
   ]
  },
  {
   "cell_type": "markdown",
   "id": "1ad28052-fef8-4ccb-bb39-02315a3603ee",
   "metadata": {},
   "source": [
    "## Пример 5. `say_name`\n",
    "На самом деле в части про полиморфизм мы по сути сделали так, что и собаки и кошки реализовывали интерфейс `say_name`"
   ]
  },
  {
   "cell_type": "code",
   "execution_count": 137,
   "id": "d3aa4c78-fee9-4277-ba31-c98500d7f144",
   "metadata": {
    "tags": []
   },
   "outputs": [
    {
     "name": "stdout",
     "output_type": "stream",
     "text": [
      "I am cat Barsik\n",
      "I am dog Mukhtar\n"
     ]
    }
   ],
   "source": [
    "class Dog():\n",
    "    def __init__(self, name):\n",
    "        self.name = name\n",
    "        \n",
    "    def say_name(self):\n",
    "        print(f'I am dog {self.name}')\n",
    "        \n",
    "class Cat():\n",
    "    def __init__(self, name):\n",
    "        self.name = name\n",
    "        \n",
    "    def say_name(self):\n",
    "        print(f'I am cat {self.name}')\n",
    "        \n",
    "mukhtar = Dog(name='Mukhtar')\n",
    "barsik = Cat(name='Barsik')\n",
    "\n",
    "for animal in [barsik, mukhtar]:\n",
    "    animal.say_name()"
   ]
  },
  {
   "cell_type": "markdown",
   "id": "22496f47-a04d-4ab3-8971-24d0005d2b15",
   "metadata": {},
   "source": [
    "## Пример 6. Интерлюдия. Контекстный менеджер.\n",
    "\n",
    "Как пользователь, вы уже знакомы с контекстными менеджерами - это все что работает через ключевое слово with ([ссылка](https://docs.python.org/3/reference/compound_stmts.html#with) на доку в питоне,а еще они есть и в [R](https://search.r-project.org/CRAN/refmans/crunch/html/with-context-manager.html)). В базовом варианте они позволяют обеспечить 100%-е выполнение определенного кода в начале и в конце программы (даже если что-либо падало с ошибкой). Самый популярный вариант - чтение файлов, где контекстные менеджеры позволяют гарантировать закрытие файла и освобождение ресурсов по завершению:"
   ]
  },
  {
   "cell_type": "code",
   "execution_count": 37,
   "id": "4a7fb4ec-3176-46f0-807e-9fa25d6f9dc0",
   "metadata": {},
   "outputs": [
    {
     "name": "stdout",
     "output_type": "stream",
     "text": [
      "{\n",
      "\n",
      "True\n"
     ]
    }
   ],
   "source": [
    "with open('Lecture_14_15_16_OOP.ipynb') as f:\n",
    "    print(f.readline()) \n",
    "    \n",
    "print(f.closed)"
   ]
  },
  {
   "cell_type": "markdown",
   "id": "9d1c7fc9-e457-448d-81dd-23be5af68ea0",
   "metadata": {},
   "source": [
    "Что нам тут дает конструкция `with`?:\n",
    "1) Открытие файла\n",
    "2) Доступ к нему через переменную `f`\n",
    "3) Закрытие файла"
   ]
  },
  {
   "cell_type": "markdown",
   "id": "0afcdf3f-a1e1-4ddd-a142-92793027da9a",
   "metadata": {},
   "source": [
    "В какой-то степени о контекстных менеджерах можно мыслить как о выполнении блока `try-except-finally`.\n",
    "\n",
    "\n",
    "```python\n",
    "file = open(\"Lecture_14_15_16_OOP.ipynb\", \"r\")\n",
    "try:\n",
    "    # Действия с файлом\n",
    "    content = file.readline()\n",
    "finally:\n",
    "    file.close()\n",
    "```"
   ]
  },
  {
   "cell_type": "markdown",
   "id": "e74e691d-0cb4-477a-b934-df5295fcd717",
   "metadata": {},
   "source": [
    "При этом контекстные менеджеры это не обязательно про работу с файлами. Есть какие-то совсем хитрые, например контекстный менеджер из библиотеки `tqdm` позволяет сделать трекер выполнения программы."
   ]
  },
  {
   "cell_type": "code",
   "execution_count": 10,
   "id": "01db52dd-bacf-4109-8933-c79d657b36da",
   "metadata": {},
   "outputs": [
    {
     "name": "stderr",
     "output_type": "stream",
     "text": [
      "5it [00:05,  1.00s/it]\n"
     ]
    }
   ],
   "source": [
    "import time\n",
    "import tqdm\n",
    "\n",
    "with tqdm.tqdm() as progress_bar:\n",
    "    for i in range(10):\n",
    "        time.sleep(0.5)\n",
    "        \n",
    "        if i % 2 == 0:\n",
    "            progress_bar.update()       "
   ]
  },
  {
   "cell_type": "markdown",
   "id": "ace424b0-21bb-4e8b-bf6c-62e1b3c037b1",
   "metadata": {},
   "source": [
    "Теперь давайте разберемся с тем а как же это работает. Контекстные менеджеры это просто объекты с двумя реализоваными дандер-методами ([ссылка](https://docs.python.org/3/reference/datamodel.html#context-managers)):\n",
    "- `__enter__` - код который выполняется в начале (в момент захода в блок) </br>\n",
    "   По-умолчанию принимает 1 аргумент (как обычно, `self`)\n",
    "\n",
    "- `__close__` - код который выполняется в конце (в момент выхода из блока) </br>\n",
    "   По-умолчанию принимает 4 аргумента (`self`, а также `exc_type`, `exc_value`, `traceback`). Последние 3 в любом случае будут переданы в функцию `__close__`, поэтому надо не забыть их принять. Они будут хранить в себе информацию о том как завершилась работа контекстного менеджера.\n"
   ]
  },
  {
   "cell_type": "code",
   "execution_count": 21,
   "id": "cf0f5441-2e45-4785-853b-c47a147066ed",
   "metadata": {},
   "outputs": [],
   "source": [
    "class MyContextManager():\n",
    "    def __enter__(self):\n",
    "        pass\n",
    "    \n",
    "    def __exit__(self, exc_type, exc_value, traceback):\n",
    "        pass"
   ]
  },
  {
   "cell_type": "code",
   "execution_count": 22,
   "id": "71a73820-2063-492e-bc5e-fa02cf14d5ec",
   "metadata": {},
   "outputs": [],
   "source": [
    "with MyContextManager():\n",
    "    pass"
   ]
  },
  {
   "cell_type": "markdown",
   "id": "d824df9e-9a9e-433e-9e90-b8d7670c5cc9",
   "metadata": {},
   "source": [
    "Работает!"
   ]
  },
  {
   "cell_type": "code",
   "execution_count": 23,
   "id": "c9e92c6e-8f54-49f9-a3fe-07828a56dad8",
   "metadata": {},
   "outputs": [],
   "source": [
    "class MyContextManager():\n",
    "    def __enter__(self):\n",
    "        print('Started')\n",
    "    \n",
    "    def __exit__(self, exc_type, exc_value, traceback):\n",
    "        print('Ended')"
   ]
  },
  {
   "cell_type": "code",
   "execution_count": 24,
   "id": "adf943bf-e531-4329-8f12-43904bcb83d0",
   "metadata": {},
   "outputs": [
    {
     "name": "stdout",
     "output_type": "stream",
     "text": [
      "Started\n",
      "Work in progress\n",
      "Ended\n"
     ]
    }
   ],
   "source": [
    "with MyContextManager():\n",
    "    print('Work in progress')"
   ]
  },
  {
   "cell_type": "code",
   "execution_count": 25,
   "id": "9b27eafe-2d35-432d-a0cb-8e2c7aa72dbf",
   "metadata": {},
   "outputs": [],
   "source": [
    "class MyContextManager():\n",
    "    def __enter__(self):\n",
    "        print('Started')\n",
    "    \n",
    "    def __exit__(self, exc_type, exc_value, traceback):\n",
    "        print(f'Ended. {exc_type=}, {exc_value=}, {traceback=}')"
   ]
  },
  {
   "cell_type": "code",
   "execution_count": 26,
   "id": "1209a11d-21d7-4ff5-87fb-536d830cb332",
   "metadata": {},
   "outputs": [
    {
     "name": "stdout",
     "output_type": "stream",
     "text": [
      "Started\n",
      "Work in progress\n",
      "Ended. exc_type=None, exc_value=None, traceback=None\n"
     ]
    }
   ],
   "source": [
    "with MyContextManager():\n",
    "    print('Work in progress')"
   ]
  },
  {
   "cell_type": "code",
   "execution_count": 27,
   "id": "81b39093-e3fa-4ede-ac78-30c0db6a8281",
   "metadata": {},
   "outputs": [
    {
     "name": "stdout",
     "output_type": "stream",
     "text": [
      "Started\n",
      "Work in progress\n",
      "Ended. exc_type=<class 'ValueError'>, exc_value=ValueError('Something is wrong'), traceback=<traceback object at 0x7fd21c519680>\n"
     ]
    },
    {
     "ename": "ValueError",
     "evalue": "Something is wrong",
     "output_type": "error",
     "traceback": [
      "\u001b[0;31m---------------------------------------------------------------------------\u001b[0m",
      "\u001b[0;31mValueError\u001b[0m                                Traceback (most recent call last)",
      "Cell \u001b[0;32mIn[27], line 3\u001b[0m\n\u001b[1;32m      1\u001b[0m \u001b[38;5;28;01mwith\u001b[39;00m MyContextManager():\n\u001b[1;32m      2\u001b[0m     \u001b[38;5;28mprint\u001b[39m(\u001b[38;5;124m'\u001b[39m\u001b[38;5;124mWork in progress\u001b[39m\u001b[38;5;124m'\u001b[39m)\n\u001b[0;32m----> 3\u001b[0m     \u001b[38;5;28;01mraise\u001b[39;00m \u001b[38;5;167;01mValueError\u001b[39;00m(\u001b[38;5;124m'\u001b[39m\u001b[38;5;124mSomething is wrong\u001b[39m\u001b[38;5;124m'\u001b[39m)\n",
      "\u001b[0;31mValueError\u001b[0m: Something is wrong"
     ]
    }
   ],
   "source": [
    "with MyContextManager():\n",
    "    print('Work in progress')\n",
    "    raise ValueError('Something is wrong')"
   ]
  },
  {
   "cell_type": "markdown",
   "id": "24a5afb0-3016-4475-8913-0501ae643b09",
   "metadata": {},
   "source": [
    "Как видите контекстный менеджер закрылся, хоть и упал с ошибкой, при этом он сохранил информацию о том что пошло не так"
   ]
  },
  {
   "cell_type": "markdown",
   "id": "bee39fb5-fbd1-4c0c-be3d-50515a2f59c3",
   "metadata": {},
   "source": [
    "Соотвественно всем знакомый нам контекстный менеджер для открытия файлов будет выглядеть как то так. \n"
   ]
  },
  {
   "cell_type": "code",
   "execution_count": 31,
   "id": "e5a7bf43-9308-4404-aa3f-11e4f2e65925",
   "metadata": {},
   "outputs": [],
   "source": [
    "class MyOpen():\n",
    "    def __init__(self, file_path, mode='r'):\n",
    "        self.file_path = file_path\n",
    "        self.mode = mode\n",
    "        \n",
    "    def __enter__(self):\n",
    "        self.file_handler = open(self.file_path, mode=self.mode)\n",
    "        return self.file_handler\n",
    "    \n",
    "    def __exit__(self, exc_type, exc_val, exc_tb):\n",
    "        if self.file_handler:\n",
    "            self.file_handler.close()"
   ]
  },
  {
   "cell_type": "code",
   "execution_count": 38,
   "id": "7f08d54d-86b1-4ea6-ba48-fac5085f2ae4",
   "metadata": {},
   "outputs": [
    {
     "name": "stdout",
     "output_type": "stream",
     "text": [
      "{\n",
      "\n",
      "True\n"
     ]
    }
   ],
   "source": [
    "with MyOpen('Lecture_14_15_16_OOP.ipynb') as f:\n",
    "    print(f.readline())\n",
    "    \n",
    "print(f.closed)"
   ]
  },
  {
   "cell_type": "markdown",
   "id": "d6398609-d142-4470-9fa6-e47a773102c4",
   "metadata": {},
   "source": [
    "## Пример 7. Кастомные датасеты для ML \n",
    "\n",
    "ML у вас, конечно же, идет на курсе по ML. И все применения вы разбираете там. Однако тут очень удачно провести параллели и поговорить о начинке. Так, например, есть такая замечательная вещь как Dataset. \n",
    "Представьте - вы делаете модель для классификации картинок на кошек и собачек. У вас есть папка на 10к картинок. Как с этим работать? Список на 10к numpy-матриц?\n",
    "\n",
    "В общем понятно что все уже придумали. В pyTorch есть абстрактный класс `Dataset`, который позволяет на его основе создавать классы под ваши конкретные данные (это могут быть и не картинки). Для того чтоб все работало надо реализовать 2 дандера:\n",
    "\n",
    "- `__len__` - выдает размер датасета\n",
    "- `__getitem__` - выдает определенный объект (например, картинку) и его лейбл (например, \"кот\"). \n",
    "\n",
    "В целом всё. После этого вы засовываете его в специальный класс `DataLoader` (тут уже ничего самим дописывать не надо) и `DataLoader` на основе кода позволяет удобно манипулировать данными, итерироваться по ним, подгружать батчами и всякое такое. Прелесть!"
   ]
  },
  {
   "cell_type": "code",
   "execution_count": 1,
   "id": "3a4e171d-dccc-4e06-9d0f-5321e441fb65",
   "metadata": {},
   "outputs": [],
   "source": [
    "from torch.utils.data import Dataset, DataLoader"
   ]
  },
  {
   "cell_type": "code",
   "execution_count": null,
   "id": "706f24be-115d-4ac1-a650-e9cc2f40e476",
   "metadata": {},
   "outputs": [],
   "source": [
    "class CustomImageDataset(Dataset):\n",
    "    def __init__(self, annotations_file, img_dir):\n",
    "        self.img_labels = pd.read_csv(annotations_file)\n",
    "        self.img_dir = img_dir\n",
    "\n",
    "    def __len__(self):\n",
    "        return len(self.img_labels)\n",
    "\n",
    "    def __getitem__(self, idx):\n",
    "        img_path = os.path.join(self.img_dir, self.img_labels.iloc[idx, 0])\n",
    "        image = read_image(img_path)\n",
    "        label = self.img_labels.iloc[idx, 1]\n",
    "        return image, label"
   ]
  },
  {
   "cell_type": "markdown",
   "id": "115fe497-13e1-410c-9db0-9d5d47ea657c",
   "metadata": {},
   "source": [
    "## Абстрактные классы позволяют задавать интерфейс\n",
    "\n",
    "В стандартной библиотеке питона есть [большая коллекция уже написанных абстрактных классов](https://docs.python.org/3/library/collections.abc.html#collections-abstract-base-classes), наиболее часто используемые есть в модуле `collections.abc`"
   ]
  },
  {
   "cell_type": "code",
   "execution_count": 138,
   "id": "8f43d308-db4b-475f-95e0-93447c5051fe",
   "metadata": {
    "tags": []
   },
   "outputs": [],
   "source": [
    "from collections.abc import Iterable, Sized, Container   # И многие другие"
   ]
  },
  {
   "cell_type": "markdown",
   "id": "59efd44b-5b0b-4e29-ad57-1b5beb50e49f",
   "metadata": {},
   "source": [
    "Данные классы интересны тем, что позволяют проверять соответствие интерфейсу при помощи `isinstance` не прибегая к наследованию. О чем же речь?"
   ]
  },
  {
   "cell_type": "code",
   "execution_count": 139,
   "id": "8607aceb-b0fd-48a7-a95f-544ab571f1dc",
   "metadata": {
    "tags": []
   },
   "outputs": [],
   "source": [
    "class S1:    # Этот класс реализует интерфейс Sized (но не наследуется от Sized!!!)\n",
    "    def __len__(self):\n",
    "        return 2\n",
    "\n",
    "    \n",
    "class S2:    # Этот класс также реализует интерфейс Sized (но не наследуется от Sized!!!) и ещё Iterable (также без наследования)\n",
    "    def __len__(self):\n",
    "        return 2\n",
    "    \n",
    "    def __iter__(self):\n",
    "        return 2\n",
    "    \n",
    "\n",
    "class S3:    # Этот класс реализует интерфейс Container (но не наследуется от Container!!!)\n",
    "    def __contains__(self, obj):\n",
    "        return True"
   ]
  },
  {
   "cell_type": "markdown",
   "id": "3a5abcf5-658d-4380-8d38-d0d883dc5ae0",
   "metadata": {},
   "source": [
    "При помощи `isinstance` мы можем проверять соответствуют ли наши классы интерфейсам из `collections.abc`, не наследуясь от данных классов в явном виде"
   ]
  },
  {
   "cell_type": "code",
   "execution_count": 140,
   "id": "3ee9b843-c141-4865-855e-8d58fc2f1894",
   "metadata": {
    "tags": []
   },
   "outputs": [
    {
     "name": "stdout",
     "output_type": "stream",
     "text": [
      "True\n",
      "True\n",
      "False\n"
     ]
    }
   ],
   "source": [
    "print(isinstance(S1(), Sized))\n",
    "print(isinstance(S2(), Sized))\n",
    "print(isinstance(S3(), Sized))"
   ]
  },
  {
   "cell_type": "code",
   "execution_count": 141,
   "id": "71d73adf-c29b-47a3-aac2-99fd55deda46",
   "metadata": {
    "tags": []
   },
   "outputs": [
    {
     "name": "stdout",
     "output_type": "stream",
     "text": [
      "False\n",
      "True\n",
      "False\n"
     ]
    }
   ],
   "source": [
    "print(isinstance(S1(), Iterable))\n",
    "print(isinstance(S2(), Iterable))\n",
    "print(isinstance(S3(), Iterable))"
   ]
  },
  {
   "cell_type": "code",
   "execution_count": 142,
   "id": "2637cd45-4e17-48d1-9b62-5ab74593fdf7",
   "metadata": {
    "tags": []
   },
   "outputs": [
    {
     "name": "stdout",
     "output_type": "stream",
     "text": [
      "False\n",
      "False\n",
      "True\n"
     ]
    }
   ],
   "source": [
    "print(isinstance(S1(), Container))\n",
    "print(isinstance(S2(), Container))\n",
    "print(isinstance(S3(), Container))"
   ]
  },
  {
   "cell_type": "markdown",
   "id": "c37b5b6a-1894-4b70-95f7-bdc59740474c",
   "metadata": {},
   "source": [
    "Круто, а зачем это нужно?\n",
    "\n",
    "Это нужно, чтобы сделать ваш код более гибким. Вспомним ДЗ fastq-filtrator, код, где нужно было преобразовывать bounds в зависимости от типа.\n",
    "\n",
    "Как писали многие из вас (и это вполне нормальный вариант)"
   ]
  },
  {
   "cell_type": "code",
   "execution_count": 143,
   "id": "3f935956-4385-4194-aa8f-30bf41d0fbb0",
   "metadata": {
    "tags": []
   },
   "outputs": [],
   "source": [
    "def gc_content(sequence, bounds):\n",
    "    if isinstance(bounds, float):\n",
    "        lower_bound, upper_bound = 0, bounds\n",
    "    elif isinstance(bounds, tuple):\n",
    "        lower_bound, upper_bound = bounds\n",
    "        \n",
    "    return \"Success\"  # Опустим сам расчёт GC"
   ]
  },
  {
   "cell_type": "markdown",
   "id": "8f750568-bb67-456f-ada0-7c4576831a66",
   "metadata": {},
   "source": [
    "Код работает, но он не очень гибок. Например, код также должен работать при передаче объекта типа `int` в аргумент `bounds` или если мы передадим `list`. Вообще, когда мы видим данный аргумент впервые, мы скорее всего ожидаем, что он принимает `контейнер из двух упорядоченных чисел или одно число`, но на практике обрабатывается только случай с `float` и `tuple`. Абстрактные классы могут помочь нам избавится от данной проблемы"
   ]
  },
  {
   "cell_type": "code",
   "execution_count": 144,
   "id": "e2775dbc-589f-4c98-8a1c-9b079ec0436a",
   "metadata": {
    "tags": []
   },
   "outputs": [],
   "source": [
    "from decimal import Decimal\n",
    "from numbers import Number   # В модуле numbers тоже хранятся абстракные классы, но не для коллекций, а для чисел\n",
    "from collections.abc import Iterable\n",
    "\n",
    "import numpy as np"
   ]
  },
  {
   "cell_type": "code",
   "execution_count": 145,
   "id": "bf5e106f-441e-4961-9561-d749e139fb2e",
   "metadata": {
    "tags": []
   },
   "outputs": [],
   "source": [
    "def gc_content(sequence, bounds):\n",
    "    if isinstance(bounds, Number):   # Если `bounds` - число, то это верхняя граница\n",
    "        lower_bound, upper_bound = 0, bounds\n",
    "    elif isinstance(bounds, Iterable):   # Если `bounds` - итерируемый объект, то первый элемент это нижняя граница, а второй - верхняя\n",
    "        lower_bound, upper_bound = bounds\n",
    "    else:\n",
    "        raise TypeError(\"Invalid type\")\n",
    "        \n",
    "    return \"Success\"  # Опустим сам расчёт GCм"
   ]
  },
  {
   "cell_type": "code",
   "execution_count": 146,
   "id": "afc8c562-52be-43c0-9ef2-faf60e8af9f3",
   "metadata": {
    "tags": []
   },
   "outputs": [
    {
     "name": "stdout",
     "output_type": "stream",
     "text": [
      "Success\n",
      "Success\n",
      "Success\n",
      "Success\n",
      "Success\n",
      "Success\n",
      "Success\n"
     ]
    }
   ],
   "source": [
    "print(gc_content(\"ATGC\", 1))   # Тип int\n",
    "print(gc_content(\"ATGC\", 1.0))   # Тип float\n",
    "print(gc_content(\"ATGC\", Decimal(4)))   # Тип Decimal, он тоже соответствует интерфейсу Number\n",
    "print(gc_content(\"ATGC\", (1, 2)))   # Тип tuple\n",
    "print(gc_content(\"ATGC\", [1, 2]))   # Тип list\n",
    "print(gc_content(\"ATGC\", np.array([1, 2])))   # Тип np.ndarray\n",
    "print(gc_content(\"ATGC\", map(lambda x: x + 1, [1, 2])))   # Тип map object"
   ]
  },
  {
   "cell_type": "markdown",
   "id": "826c4ceb-9f03-4b15-a4dd-313a68b5d401",
   "metadata": {},
   "source": [
    "В итоге, благодаря абстрактным классам, наш код стал намного более гибким, а функция стала принимать большое число разнообразных объектов.\n",
    "\n",
    "\"Если по чему-то можно итерироваться, значит это границы для GC-состава\" ©Конфуций\n",
    "\n",
    "Абстрактные классы из стандартной библиотеки не покрывают всех потребностей и при желании можно было бы написать куда более подробный интерфейс, но так делать вовсе не обязательно. Например, `неотрицательное, некомплексное число меньшее или равное 100 или упорядоченная, итерируемая коллекция из двух неотрицательных, некомплексных чисел меньших или равных 100, где первое число меньше или равно второму`"
   ]
  },
  {
   "cell_type": "markdown",
   "id": "c2db86fd-38b4-4736-b3b1-ffc9152fea84",
   "metadata": {},
   "source": [
    "# Утиная типизация (Duck typing)\n",
    "\n",
    "\n",
    "Пример выше наглядно иллюстрирует понятие \"утиная типизация\". Суть утиной типизации в том, что поведение объекта пределяется не его типом, а тем какие методы у него есть (какой интерфейс он реализует). Это значит, что если что-то плавает как утка и крякает как утка, то значит это утка. Или более умными словами: если что-то реализует интерфейс 'Утка', значит это утка\".\n"
   ]
  },
  {
   "cell_type": "markdown",
   "id": "43ad8491-5e56-46ca-a5e8-4521c5250ec3",
   "metadata": {},
   "source": [
    "# Доп. материалы\n",
    "\n",
    "## Материалы по ООП\n",
    "\n",
    "- [ООП в картинках | Хабр](https://habr.com/ru/articles/463125/)\n",
    "- [Прикладной Python, курс VK | YouTube](https://youtube.com/playlist?list=PLrCZzMib1e9qM62lMXC90SiFy7-1-kAPJ&si=LgDhDlQ9Dx0KW3Ud), лекции 3 и 5\n",
    "- [Порядок разрешения методов в Python | Хабр](https://habr.com/ru/articles/62203/)\n",
    "\n",
    "\n",
    "## Принципы SOLID\n",
    "\n",
    "По сути это рекомендации по работе с ООП (как PEP8 - рекомендация по стилю кода). В лекции мы это не рассматриваем, так как рассказывать про это слишком душно, тем не менее знать это крайне полезно.\n",
    "\n",
    "Если при написании ООП кода руководствоваться здравым смыслом и желанием, чтобы ваш код был поддерживаемым и читаемым, то тогда вы автоматически прийдёте к этим правилам, даже ни разу не прочитав их. Прочитать/посмотреть видео можно в интернете, материалов предостаточно. Могу посоветовать вот эти видео.\n",
    "\n",
    "- Попроще\n",
    "\n",
    "[![](https://markdown-videos-api.jorgenkh.no/youtube/ihBN8dQ7XAM?si=QmMwX-xKDQtVU71o)](https://youtu.be/D9Nm_hk2BzQ?si=ihBN8dQ7XAM?si=QmMwX-xKDQtVU71o)\n",
    "\n",
    "- Поподробнее\n",
    "\n",
    "[![](https://markdown-videos-api.jorgenkh.no/youtube/D9Nm_hk2BzQ?si=LVvxWM2skQWgnUJg)](https://youtu.be/D9Nm_hk2BzQ?si=LVvxWM2skQWgnUJg)\n",
    "\n",
    "\n",
    "Но не стесняйтесь при желании нагуглить что-то что будет понятнее именно вам. "
   ]
  },
  {
   "cell_type": "code",
   "execution_count": null,
   "id": "204e03fe-0f8c-4716-87b2-dfa3058f5b06",
   "metadata": {},
   "outputs": [],
   "source": []
  }
 ],
 "metadata": {
  "kernelspec": {
   "display_name": "Python 3 (ipykernel)",
   "language": "python",
   "name": "python3"
  },
  "language_info": {
   "codemirror_mode": {
    "name": "ipython",
    "version": 3
   },
   "file_extension": ".py",
   "mimetype": "text/x-python",
   "name": "python",
   "nbconvert_exporter": "python",
   "pygments_lexer": "ipython3",
   "version": "3.12.1"
  },
  "toc-autonumbering": false,
  "toc-showcode": false,
  "toc-showmarkdowntxt": false
 },
 "nbformat": 4,
 "nbformat_minor": 5
}
