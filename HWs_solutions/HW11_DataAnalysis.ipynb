{
 "cells": [
  {
   "attachments": {},
   "cell_type": "markdown",
   "id": "2c93b4c0-bc13-43a2-b1f1-8d7e58668428",
   "metadata": {
    "deletable": false,
    "nbgrader": {
     "checksum": "6443c14dc0ed3436aa63b4529271d39f",
     "grade": false,
     "grade_id": "cell-cbd47f11274d3d92",
     "locked": true,
     "schema_version": 3,
     "solution": false,
     "task": false
    },
    "tags": []
   },
   "source": [
    "# <center>  Python for biologists\n",
    "    \n",
    "## HW11, Data Analysis\n",
    "\n",
    "### Правила\n",
    "\n",
    "- Не создавайте доп. веток в репозитории, не копируйте ноутбук.\n",
    "- Пишите код только там, где это от вас требуется (`# YOUR CODE HERE`)\n",
    "- Используйте разобранный нами функционал, решения через циклы, `Counter` и т.п. засчитываться не будут.\n",
    "- Перед отправкой проверьте что ваш ноутбук работает (юпитер-ноутбук). Нажмите на панели сверху `Kernel` -> `Restart Kernel and Run All Cells...`. Проверье что нет ошибок.\n",
    "    \n",
    "\n",
    "#### Погнали!\n",
    "\n",
    "---\n"
   ]
  },
  {
   "cell_type": "code",
   "execution_count": 1,
   "id": "a1838cb9-6a11-4e60-9aab-5fbd10a56eae",
   "metadata": {
    "tags": []
   },
   "outputs": [],
   "source": [
    "import numpy as np\n",
    "import pandas as pd\n",
    "import matplotlib.pyplot as plt\n",
    "import seaborn as sns\n",
    "\n",
    "from IPython.display import display\n",
    "\n",
    "# здесь любые импорты которые вам еще понадобятся (только здесь)"
   ]
  },
  {
   "cell_type": "markdown",
   "id": "25f6ed01-7325-4e7b-a7c0-3ced64223778",
   "metadata": {
    "deletable": false,
    "editable": false,
    "nbgrader": {
     "checksum": "9b82e61eab3d90ecc64fac372c9dabe7",
     "grade": false,
     "grade_id": "cell-3c2e2ca861e7cec4",
     "locked": true,
     "schema_version": 3,
     "solution": false,
     "task": false
    },
    "tags": []
   },
   "source": [
    "# Продвинутая работа с одним дата-фреймом  </br> на примере биомедицинских данных\n",
    "\n",
    "Мы будем работать с фармакокинетическим Варифариновым датасетом `warfarin.csv` (конкретный пример взят [отсюда](https://insightrx.github.io/PKPDsim/reference/pkdata.html?q=pkdata), но почитать можно [тут](https://dataset.lixoft.com/data-set-examples/warfarin-data-set/) и [тут](https://ascpt.onlinelibrary.wiley.com/doi/10.1038/clpt.2010.37/)). \n",
    "\n",
    "Датасет содержит следующие колонки:\n",
    "- `ID` - Идентификатор пациента\n",
    "- `Time` - Время внесения записи\n",
    "- `WT` - Вес пациента\n",
    "- `AGE` - Возраст пациента\n",
    "- `SEX` - Пол пациента\n",
    "- `CRCL` - Клиренс креатинина пациента (показатель работоспособности почек)\n",
    "- `EVID` - Event ID - флаг который обозначает тип события: 1 - администрирование (введение) дозы варфарина, 0 - запись концентрации варфарина в крови\n",
    "- `AMT` - Amount, Доза варфарина которая была дана пациенту\n",
    "- `DV` - Зависимая переменная в анализе, концентрация варфарина в крови\n",
    "\n",
    "Соотвественно про данные история такая, что не может быть одновременной записи DV и AMT. Мы либо даем дозу, либо измеряем концентрацию - не одновременно. Это и обозначает флаг EVID.  Поэтому если в DV стоит 0 - это не значит что концентрация 0, скорее всего эта запись отмечена флагом EVID 1, то мы и не знаем концентрацию, мы её не измеряли. \n",
    "\n",
    "\n"
   ]
  },
  {
   "cell_type": "code",
   "execution_count": 2,
   "id": "09e1ed37-79fe-4017-b4c2-0c9518c78bc2",
   "metadata": {
    "editable": true,
    "slideshow": {
     "slide_type": ""
    },
    "tags": []
   },
   "outputs": [],
   "source": [
    "warfarin = pd.read_csv('data/warfarin.csv', sep='\\t')"
   ]
  },
  {
   "cell_type": "markdown",
   "id": "bf1bcd5d-3b31-42bd-9931-71811dcfbb87",
   "metadata": {
    "deletable": false,
    "slideshow": {
     "slide_type": ""
    },
    "tags": []
   },
   "source": [
    "### Задание 1 📈 \n",
    "\n",
    "Сколько в среднем имеется записей на пациента? \n",
    "\n",
    "\n",
    "*(5 баллов)*"
   ]
  },
  {
   "cell_type": "code",
   "execution_count": 3,
   "id": "30242f14-3e0b-4217-9f51-7283e235f059",
   "metadata": {
    "deletable": false,
    "editable": true,
    "nbgrader": {
     "checksum": "00a8a27e3fffb2295a5a8a43581e8baa",
     "grade": false,
     "grade_id": "cell-6f5fe9c04f6aa64c",
     "locked": false,
     "schema_version": 3,
     "solution": true,
     "task": false
    },
    "slideshow": {
     "slide_type": ""
    },
    "tags": []
   },
   "outputs": [],
   "source": [
    "result = warfarin.groupby('ID').size().mean()"
   ]
  },
  {
   "cell_type": "code",
   "execution_count": 4,
   "id": "b4d00fa6-8b4b-4576-a5d0-ddd2cc7685a1",
   "metadata": {
    "deletable": false,
    "editable": false,
    "nbgrader": {
     "checksum": "6b1dc732d56c493ace1e8943baf16717",
     "grade": true,
     "grade_id": "cell-c4f593da078a6398",
     "locked": true,
     "points": 5,
     "schema_version": 3,
     "solution": false,
     "task": false
    },
    "tags": []
   },
   "outputs": [],
   "source": [
    "assert result == 13.0"
   ]
  },
  {
   "cell_type": "markdown",
   "id": "98d06848-fb5d-4996-956c-609445f41b48",
   "metadata": {
    "deletable": false,
    "nbgrader": {
     "checksum": "213cb8ea6d66102ce5a8cf58342d12f5",
     "grade": false,
     "grade_id": "cell-8bbbc2ef32020fc1",
     "locked": true,
     "schema_version": 3,
     "solution": false,
     "task": false
    },
    "slideshow": {
     "slide_type": ""
    },
    "tags": []
   },
   "source": [
    "### Задание 2 📈 \n",
    "\n",
    "Выведите средний возраст всех пациентов. \n",
    "\n",
    "\n",
    "*(5 баллов)*"
   ]
  },
  {
   "cell_type": "code",
   "execution_count": 5,
   "id": "058389ba-cc67-4ad9-98be-3f70e356afe5",
   "metadata": {
    "deletable": false,
    "nbgrader": {
     "checksum": "7de6e174e21179486fb2c4dc0cb70d30",
     "grade": false,
     "grade_id": "cell-ce0eb3dfad2d51e0",
     "locked": false,
     "schema_version": 3,
     "solution": true,
     "task": false
    },
    "tags": []
   },
   "outputs": [],
   "source": [
    "result = warfarin.AGE.mean()"
   ]
  },
  {
   "cell_type": "code",
   "execution_count": 6,
   "id": "675ba0f4-fa59-44e6-a04c-6cb1b681cc41",
   "metadata": {
    "deletable": false,
    "editable": false,
    "nbgrader": {
     "checksum": "56d34f439d7d1d38427c0420a0493bfa",
     "grade": true,
     "grade_id": "cell-eb37d95aff8119f5",
     "locked": true,
     "points": 5,
     "schema_version": 3,
     "solution": false,
     "task": false
    },
    "tags": []
   },
   "outputs": [],
   "source": [
    "assert np.isclose(result, 53.0883, atol=1e-3)"
   ]
  },
  {
   "cell_type": "markdown",
   "id": "5c9a8fe5-57c5-40f2-afa9-54186fb8d2ce",
   "metadata": {
    "deletable": false,
    "nbgrader": {
     "checksum": "6380c518dfa1e7dacb8daa944e7b225d",
     "grade": false,
     "grade_id": "cell-919af5ebb07ef645",
     "locked": true,
     "schema_version": 3,
     "solution": false,
     "task": false
    },
    "slideshow": {
     "slide_type": ""
    },
    "tags": []
   },
   "source": [
    "### Задание 3 📈 \n",
    "\n",
    "Выведите в виде списка имена колонок, где у каждого пациента значения не меняются\n",
    "\n",
    "\n",
    "*(5 баллов)*"
   ]
  },
  {
   "cell_type": "code",
   "execution_count": 7,
   "id": "c99d02fd-ff19-456a-a064-a3f85f4865cd",
   "metadata": {
    "deletable": false,
    "editable": true,
    "nbgrader": {
     "checksum": "c6bb50c3e1ba06ac94b535992519ef5f",
     "grade": false,
     "grade_id": "cell-e0569e8231c29692",
     "locked": false,
     "schema_version": 3,
     "solution": true,
     "task": false
    },
    "slideshow": {
     "slide_type": ""
    },
    "tags": []
   },
   "outputs": [],
   "source": [
    "result = warfarin.groupby('ID').nunique().eq(1).all(axis=0)\n",
    "result = result[result].index.to_list()"
   ]
  },
  {
   "cell_type": "code",
   "execution_count": 8,
   "id": "4214f96c-4ea8-44f2-b457-e8bcca1530c2",
   "metadata": {
    "deletable": false,
    "editable": false,
    "nbgrader": {
     "checksum": "69c95c7c64493508a7792775d9711641",
     "grade": true,
     "grade_id": "cell-101db6ab751404e7",
     "locked": true,
     "points": 5,
     "schema_version": 3,
     "solution": false,
     "task": false
    },
    "tags": []
   },
   "outputs": [],
   "source": [
    "assert result == ['WT', 'CRCL', 'AGE', 'SEX']"
   ]
  },
  {
   "cell_type": "markdown",
   "id": "bfe0ab00-c674-4808-bc08-cb79ef4ca218",
   "metadata": {
    "deletable": false,
    "nbgrader": {
     "checksum": "5f70fa392a1e00c15ffd91da0639bbad",
     "grade": false,
     "grade_id": "cell-798c5f0e86a4836e",
     "locked": true,
     "schema_version": 3,
     "solution": false,
     "task": false
    },
    "slideshow": {
     "slide_type": ""
    },
    "tags": []
   },
   "source": [
    "### Задание 4 📈 \n",
    "\n",
    "Постройте [Spaghetti plot](https://en.wikipedia.org/wiki/Spaghetti_plot) DV vs TIME по каждому ID, отметьте вертикальными линиями моменты времени когда вводилась доза. Референсный график приеден в файле `spaghetti_plot.png`.  Обратите внимание, что на референсе `DV` не \"проваливается\" до 0. Почему?\n",
    "\n",
    "Легенду по цветами выводить не надо :)\n",
    "\n",
    "*(15 баллов)*"
   ]
  },
  {
   "cell_type": "code",
   "execution_count": 9,
   "id": "c242ba30-f855-4ce2-b8a5-755745bf69dc",
   "metadata": {
    "deletable": false,
    "editable": true,
    "nbgrader": {
     "checksum": "5b37bf87560aa88137c7407a7004d355",
     "grade": true,
     "grade_id": "cell-3b61cbd9c6903d26",
     "locked": false,
     "points": 15,
     "schema_version": 3,
     "solution": true,
     "task": false
    },
    "slideshow": {
     "slide_type": ""
    },
    "tags": []
   },
   "outputs": [
    {
     "data": {
      "image/png": "[encoded data removed]",
      "text/plain": [
       "<Figure size 700x400 with 1 Axes>"
      ]
     },
     "metadata": {},
     "output_type": "display_data"
    }
   ],
   "source": [
    "fig = plt.figure(figsize=(7, 4))\n",
    "sns.lineplot(data=warfarin.query('DV > 0'), x='TIME', y='DV', hue='ID', legend=None)\n",
    "for time in warfarin.query('DV == 0').TIME.unique():\n",
    "    plt.axvline(time, color='k', linestyle='--', linewidth=1)\n",
    "plt.title('Sphagetti Plot DV vs. TIME by ID');"
   ]
  },
  {
   "cell_type": "markdown",
   "id": "88cc425c-c5d4-4145-be9a-1651cc52bd89",
   "metadata": {
    "deletable": false,
    "editable": false,
    "nbgrader": {
     "checksum": "a13c596e41aee7e49485167121950176",
     "grade": false,
     "grade_id": "cell-a407499f199c8aea",
     "locked": true,
     "schema_version": 3,
     "solution": false,
     "task": false
    },
    "tags": []
   },
   "source": [
    "> Ну а далее ученые-фармакометрики строят по этим графикам математические модели (нелинейные) чтобы уметь описывать фармакокинетический профиль концентрации лекарства в крови, учитывать влияние пола / веса / генотипа / ... человека, и в конце-концов, предсказывать ту самую оптимальную дозу для конкретного пациента. Таргетная терапия! Но это уже совсем другая история."
   ]
  },
  {
   "cell_type": "markdown",
   "id": "9cf08558-6680-4e1d-bb5e-57a8b62e26ae",
   "metadata": {
    "deletable": false,
    "editable": true,
    "nbgrader": {
     "checksum": "7ec0dc30e3ffd00ee6a09525aa0293c9",
     "grade": false,
     "grade_id": "cell-1e17f64fe7d7c4d1",
     "locked": true,
     "schema_version": 3,
     "solution": false,
     "task": false
    },
    "slideshow": {
     "slide_type": ""
    },
    "tags": []
   },
   "source": [
    "# Продвинутая работа с несколькими дата-фреймами  </br> на примере биоинформатических данных\n",
    "\n",
    "Мы будем работать со следующими омиксными данными:\n",
    "- RNA-seq малых РНК из нейронов здорового человека и пациента с некоторым нейродегенеративным заболеванием\n",
    "- ChIP-seq'и за белки 'CTCF' и 'SMC3' (они в том числе отвечают за структуру хроматина и экспрессию генов)\n",
    "\n",
    "Все это лежит в папке `data`"
   ]
  },
  {
   "cell_type": "markdown",
   "id": "629e5584-e587-4149-b57f-ee515f9d35f4",
   "metadata": {
    "deletable": false,
    "editable": true,
    "nbgrader": {
     "checksum": "47e064b342b014920f07d9ebce7ec09f",
     "grade": false,
     "grade_id": "cell-88c5c3b73a941844",
     "locked": true,
     "schema_version": 3,
     "solution": false,
     "task": false
    },
    "slideshow": {
     "slide_type": ""
    },
    "tags": []
   },
   "source": [
    "### Задание 6 📈 Подготовка данных\n",
    "\n",
    "\n",
    "##### 1) Прочитайте данные в 3 датафрема `ctcf`, `smc3` и `rnaseq`. Для этого вам понадобится:\n",
    "- Понять названия колонок (про форматы данных можно почитать [тут](https://genome.ucsc.edu/FAQ/FAQformat.html))\n",
    "- Понять как прочитать BigWig данные (они бинарные). Существует библиотека `pyBigWig`, но она хранит датасеты в очень странном фармате, в данной домашке ЗАПРЕЩАЕТСЯ её использовать. Сконвертируйте в коммандной строке BigWig в bedGraph и читайте bedGraph в pandas-dataframe.\n",
    "- Прочитав два дата-фрейма для РНК-сека вам нужно объединить их в один дата-фрейм добавив колонку обозначающую тип образца\n",
    "\n",
    "\n",
    "\n",
    "##### 2) Создайте датафрейм с аннотацией генома человека версии GRCh38.p13. Для этого вам понадобится:\n",
    "- Найти эту аннотацию. Я советую формат `gff3`.\n",
    "- Файл будет очень большой, советую предобработать его в командной строке:\n",
    "    - Отобрать только нужные колонки\n",
    "    - Отобрать только записи соответвующие генам\n",
    "    - (Если компьютер слабый) отобрать только записи соответствующие 15 хромосоме.\n",
    "- Прочитать это дело в pandas-data frame\n",
    "- Имя гена находится в последней колонке gff3, где много полей аггрегированы через `;`. Вам нужно:\n",
    "    - Найти как называется нужное поле, где лежит имя гена.\n",
    "    - Достать имя гена в отдельную колонку (например `gene` или `gene_name`). </br>\n",
    "    Достать имя гена может быть не очень тривиально. Можно сделать это в баше, можно сделать это в питоне. Тут на ваше усмотрение. В питоне по-сути у вас есть колонка с кучей информации в виде строки откуда вам нужно что-то достать. Ровно для этого мы и разобрали [ацессор `str`](https://pandas.pydata.org/pandas-docs/stable/user_guide/text.html)! Могу предложить 2 пути:\n",
    "        - (Попродвинутее)  Используйте `str.replace` с параметром `regex=True`. Не зря же мы учили регексы!\n",
    "        - (Попроще) Используйте `str.split` чтобы отрезать ненужное и вырезать нужное\n",
    "        \n",
    "        \n",
    "##### 3) Во всех датафреймах оставьте только нужные колонки\n",
    "    Это колонки с хромосомой, координатами начала и конца, цепью +/-, значением сигнала (для ChIP-seq и RNA-seq) и именем гена (для аннотации)\n",
    "\n",
    "\n",
    "> Да, обрабатывать готовые данные в питоне легко, но перед любым анализом всегда есть мучительный процесс поиска и подготовки.  Ведь реальный анализ всегда начинается с этого. Теперь вы будете во всеоружии!:)\n",
    "\n",
    "*(15 баллов)*"
   ]
  },
  {
   "cell_type": "code",
   "execution_count": 10,
   "id": "81e253a0-90a5-4b82-8283-6c8bbc084a71",
   "metadata": {
    "deletable": false,
    "editable": true,
    "nbgrader": {
     "checksum": "6ce32f7cc58a00691d3d2895b1cff365",
     "grade": true,
     "grade_id": "cell-685ff84d6e4843ab",
     "locked": false,
     "points": 15,
     "schema_version": 3,
     "solution": true,
     "task": false
    },
    "slideshow": {
     "slide_type": ""
    },
    "tags": []
   },
   "outputs": [],
   "source": [
    "### ChIP-seq ###\n",
    "narrow_peak_colnames = ('chr', 'start', 'stop', 'name', 'score', 'strand', \n",
    "                        'signalValue', 'pValue', 'qValue', 'peak')\n",
    "ctcf = pd.read_csv('data/CTCF_neurons.bigNarrowPeak', sep='\\t', header=None, names=narrow_peak_colnames)\n",
    "smc3 = pd.read_csv('data/SMC3_neurons.bigNarrowPeak', sep='\\t', header=None, names=narrow_peak_colnames)\n",
    "\n",
    "\n",
    "### RNA-seq ###\n",
    "bedgraph_colnames = ('chr', 'start', 'stop', 'signalValue')\n",
    "rnaseq_hc = pd.read_csv('data/SmallRNAseq_health.bedGraph', sep='\\t', header=None, names=bedgraph_colnames)\n",
    "rnaseq_de =  pd.read_csv('data/SmallRNAseq_desease.bedGraph', sep='\\t', header=None, names=bedgraph_colnames)\n",
    "\n",
    "# Объединить можно двумя способами\n",
    "# В 1 строку - с параметром keys\n",
    "rnaseq = pd.concat([rnaseq_hc, rnaseq_de], \n",
    "                   keys=('Health', 'Desease'), \n",
    "                   names=['Sample']).reset_index('Sample')\n",
    "# В 3 строчки - предсоздав колонку\n",
    "rnaseq_hc['Sample'] = 'Health'\n",
    "rnaseq_de['Sample'] = 'Desease'\n",
    "rnaseq = pd.concat([rnaseq_hc, rnaseq_de])\n",
    "\n",
    "\n",
    "### Аннотация ####\n",
    "gff_colnames = ('chr', 'DB', 'type', 'start', 'stop', 'strand', 'data')\n",
    "genes = pd.read_csv('data/genes.tsv', sep='\\t', header=None, skiprows=7, names=gff_colnames)\n",
    "genes = genes.query('chr==\"chr15\"').query('type==\"gene\"')\n",
    "genes['gene'] = genes['data'].str.extract(r'gene_name=([^;]+)', expand=False)\n",
    "genes = genes[['chr',  'start', 'stop', 'strand', 'gene']]\n",
    "genes = genes.drop_duplicates()\n",
    "\n",
    "# Учитываем что начало гена зависит от его цепи!!!\n",
    "genes[['start', 'stop']] = genes.apply(lambda x: (x.start, x.stop) if x.strand == '+' else (x.stop, x.start), \n",
    "                                       axis=1, result_type='expand')"
   ]
  },
  {
   "cell_type": "markdown",
   "id": "0a5884dd-fa55-47d2-8d5b-e62ec89572ee",
   "metadata": {
    "deletable": false,
    "nbgrader": {
     "checksum": "cfdc4aae0dd9e9dd9933c4417301c47d",
     "grade": false,
     "grade_id": "cell-8baffbee1cfaed29",
     "locked": true,
     "schema_version": 3,
     "solution": false,
     "task": false
    },
    "slideshow": {
     "slide_type": ""
    },
    "tags": []
   },
   "source": [
    "### Задание 7 📈 Аннотация\n",
    "\n",
    "1) Возьмите данные ChIP-seq и аннотацию. Для экономии ресурсов отберите только 15 хромосому.\n",
    "2) Смерджте дата-фреймы ChIP-seq так чтобы получить набор только пересекающихся пиков\n",
    "3) Обработайте смердженный датафрейм: \n",
    "    - Создайте колонки `start` и `stop` которые будут отмечать координаты объединения двух пиков (то есть самое левое начало и самый правый конец)\n",
    "    - Отберите топ 100 записей по суммарной интенсивности сигналов CTCF и SMC3 \n",
    "    - Отберите только нужные колонки: хромосома, `start` и `stop`, интенсивности сигналов\n",
    "    \n",
    "    </br>\n",
    "\n",
    "4) Добавьте аннотацию. \n",
    "    - Смерджьте датафрейм пиков с датафремом аннотации.\n",
    "    - Отберите только те пики, которые покрывают НАЧАЛО какого-то гена (т.к. регуляция экспрессии обычно происходит в начале гена, нам интересно посмотреть на началах каких генов сидят CTCF и SMC3\n",
    "    - Напечатайте этот датафрейм.\n",
    "\n",
    "    </br>\n",
    "\n",
    "5) Биоинформатика... </br>\n",
    "    А теперь, если бы это были ваши данные, вы бы пошли гуглить, что же за гены оказались потенциально под очень сильным влиянием одновременно и CTCF и SMC3. Но это уже совсем другая история.\n",
    "\n",
    "\n",
    "*(30 баллов)*"
   ]
  },
  {
   "cell_type": "code",
   "execution_count": 11,
   "id": "55034dea-8710-405c-aa7b-460cef034e68",
   "metadata": {
    "deletable": false,
    "editable": true,
    "nbgrader": {
     "checksum": "214876c84708d76892e2300be55dc24b",
     "grade": true,
     "grade_id": "cell-c23bca0f835b4cad",
     "locked": false,
     "points": 30,
     "schema_version": 3,
     "solution": true,
     "task": false
    },
    "slideshow": {
     "slide_type": ""
    },
    "tags": []
   },
   "outputs": [
    {
     "data": {
      "text/html": [
       "<div>\n",
       "<style scoped>\n",
       "    .dataframe tbody tr th:only-of-type {\n",
       "        vertical-align: middle;\n",
       "    }\n",
       "\n",
       "    .dataframe tbody tr th {\n",
       "        vertical-align: top;\n",
       "    }\n",
       "\n",
       "    .dataframe thead th {\n",
       "        text-align: right;\n",
       "    }\n",
       "</style>\n",
       "<table border=\"1\" class=\"dataframe\">\n",
       "  <thead>\n",
       "    <tr style=\"text-align: right;\">\n",
       "      <th></th>\n",
       "      <th>chr</th>\n",
       "      <th>start_x</th>\n",
       "      <th>stop_x</th>\n",
       "      <th>start_y</th>\n",
       "      <th>stop_y</th>\n",
       "      <th>strand</th>\n",
       "      <th>gene</th>\n",
       "    </tr>\n",
       "  </thead>\n",
       "  <tbody>\n",
       "    <tr>\n",
       "      <th>149233</th>\n",
       "      <td>chr15</td>\n",
       "      <td>34209876</td>\n",
       "      <td>34210512</td>\n",
       "      <td>34210096</td>\n",
       "      <td>34140674</td>\n",
       "      <td>-</td>\n",
       "      <td>KATNBL1</td>\n",
       "    </tr>\n",
       "    <tr>\n",
       "      <th>171438</th>\n",
       "      <td>chr15</td>\n",
       "      <td>34342915</td>\n",
       "      <td>34343564</td>\n",
       "      <td>34343136</td>\n",
       "      <td>34341719</td>\n",
       "      <td>-</td>\n",
       "      <td>NOP10</td>\n",
       "    </tr>\n",
       "    <tr>\n",
       "      <th>171439</th>\n",
       "      <td>chr15</td>\n",
       "      <td>34342915</td>\n",
       "      <td>34343564</td>\n",
       "      <td>34343315</td>\n",
       "      <td>34357737</td>\n",
       "      <td>+</td>\n",
       "      <td>NUTM1</td>\n",
       "    </tr>\n",
       "    <tr>\n",
       "      <th>127145</th>\n",
       "      <td>chr15</td>\n",
       "      <td>40217070</td>\n",
       "      <td>40217730</td>\n",
       "      <td>40217428</td>\n",
       "      <td>40277487</td>\n",
       "      <td>+</td>\n",
       "      <td>PAK6</td>\n",
       "    </tr>\n",
       "    <tr>\n",
       "      <th>93892</th>\n",
       "      <td>chr15</td>\n",
       "      <td>40893918</td>\n",
       "      <td>40894580</td>\n",
       "      <td>40894450</td>\n",
       "      <td>40903975</td>\n",
       "      <td>+</td>\n",
       "      <td>VPS18</td>\n",
       "    </tr>\n",
       "    <tr>\n",
       "      <th>74050</th>\n",
       "      <td>chr15</td>\n",
       "      <td>44663440</td>\n",
       "      <td>44664131</td>\n",
       "      <td>44663688</td>\n",
       "      <td>44554818</td>\n",
       "      <td>-</td>\n",
       "      <td>SPG11</td>\n",
       "    </tr>\n",
       "    <tr>\n",
       "      <th>131920</th>\n",
       "      <td>chr15</td>\n",
       "      <td>50908237</td>\n",
       "      <td>50908959</td>\n",
       "      <td>50908603</td>\n",
       "      <td>50839875</td>\n",
       "      <td>-</td>\n",
       "      <td>CTD-2378E12.1</td>\n",
       "    </tr>\n",
       "    <tr>\n",
       "      <th>131921</th>\n",
       "      <td>chr15</td>\n",
       "      <td>50908237</td>\n",
       "      <td>50908959</td>\n",
       "      <td>50908672</td>\n",
       "      <td>51005895</td>\n",
       "      <td>+</td>\n",
       "      <td>AP4E1</td>\n",
       "    </tr>\n",
       "    <tr>\n",
       "      <th>214133</th>\n",
       "      <td>chr15</td>\n",
       "      <td>55196804</td>\n",
       "      <td>55197473</td>\n",
       "      <td>55197049</td>\n",
       "      <td>55180806</td>\n",
       "      <td>-</td>\n",
       "      <td>RSL24D1</td>\n",
       "    </tr>\n",
       "    <tr>\n",
       "      <th>110074</th>\n",
       "      <td>chr15</td>\n",
       "      <td>66497545</td>\n",
       "      <td>66498259</td>\n",
       "      <td>66497780</td>\n",
       "      <td>66490135</td>\n",
       "      <td>-</td>\n",
       "      <td>SNAPC5</td>\n",
       "    </tr>\n",
       "    <tr>\n",
       "      <th>105812</th>\n",
       "      <td>chr15</td>\n",
       "      <td>74302671</td>\n",
       "      <td>74303431</td>\n",
       "      <td>74303005</td>\n",
       "      <td>74304343</td>\n",
       "      <td>+</td>\n",
       "      <td>RP11-60L3.2</td>\n",
       "    </tr>\n",
       "    <tr>\n",
       "      <th>59459</th>\n",
       "      <td>chr15</td>\n",
       "      <td>82540219</td>\n",
       "      <td>82540896</td>\n",
       "      <td>82540459</td>\n",
       "      <td>82536750</td>\n",
       "      <td>-</td>\n",
       "      <td>RPS17</td>\n",
       "    </tr>\n",
       "    <tr>\n",
       "      <th>161579</th>\n",
       "      <td>chr15</td>\n",
       "      <td>82540219</td>\n",
       "      <td>82540896</td>\n",
       "      <td>82540459</td>\n",
       "      <td>82536750</td>\n",
       "      <td>-</td>\n",
       "      <td>RPS17</td>\n",
       "    </tr>\n",
       "    <tr>\n",
       "      <th>59461</th>\n",
       "      <td>chr15</td>\n",
       "      <td>82540219</td>\n",
       "      <td>82540896</td>\n",
       "      <td>82540870</td>\n",
       "      <td>82562374</td>\n",
       "      <td>+</td>\n",
       "      <td>RP11-379H8.1</td>\n",
       "    </tr>\n",
       "    <tr>\n",
       "      <th>161581</th>\n",
       "      <td>chr15</td>\n",
       "      <td>82540219</td>\n",
       "      <td>82540896</td>\n",
       "      <td>82540870</td>\n",
       "      <td>82562374</td>\n",
       "      <td>+</td>\n",
       "      <td>RP11-379H8.1</td>\n",
       "    </tr>\n",
       "    <tr>\n",
       "      <th>4120</th>\n",
       "      <td>chr15</td>\n",
       "      <td>89358444</td>\n",
       "      <td>89359341</td>\n",
       "      <td>89358841</td>\n",
       "      <td>89360377</td>\n",
       "      <td>+</td>\n",
       "      <td>CTD-2335A18.2</td>\n",
       "    </tr>\n",
       "    <tr>\n",
       "      <th>17553</th>\n",
       "      <td>chr15</td>\n",
       "      <td>92808971</td>\n",
       "      <td>92809953</td>\n",
       "      <td>92809884</td>\n",
       "      <td>92617448</td>\n",
       "      <td>-</td>\n",
       "      <td>FAM174B</td>\n",
       "    </tr>\n",
       "    <tr>\n",
       "      <th>84153</th>\n",
       "      <td>chr15</td>\n",
       "      <td>92808971</td>\n",
       "      <td>92809953</td>\n",
       "      <td>92809884</td>\n",
       "      <td>92617448</td>\n",
       "      <td>-</td>\n",
       "      <td>FAM174B</td>\n",
       "    </tr>\n",
       "    <tr>\n",
       "      <th>102052</th>\n",
       "      <td>chr15</td>\n",
       "      <td>100341526</td>\n",
       "      <td>100342513</td>\n",
       "      <td>100342005</td>\n",
       "      <td>99971437</td>\n",
       "      <td>-</td>\n",
       "      <td>ADAMTS17</td>\n",
       "    </tr>\n",
       "  </tbody>\n",
       "</table>\n",
       "</div>"
      ],
      "text/plain": [
       "          chr    start_x     stop_x    start_y    stop_y strand           gene\n",
       "149233  chr15   34209876   34210512   34210096  34140674      -        KATNBL1\n",
       "171438  chr15   34342915   34343564   34343136  34341719      -          NOP10\n",
       "171439  chr15   34342915   34343564   34343315  34357737      +          NUTM1\n",
       "127145  chr15   40217070   40217730   40217428  40277487      +           PAK6\n",
       "93892   chr15   40893918   40894580   40894450  40903975      +          VPS18\n",
       "74050   chr15   44663440   44664131   44663688  44554818      -          SPG11\n",
       "131920  chr15   50908237   50908959   50908603  50839875      -  CTD-2378E12.1\n",
       "131921  chr15   50908237   50908959   50908672  51005895      +          AP4E1\n",
       "214133  chr15   55196804   55197473   55197049  55180806      -        RSL24D1\n",
       "110074  chr15   66497545   66498259   66497780  66490135      -         SNAPC5\n",
       "105812  chr15   74302671   74303431   74303005  74304343      +    RP11-60L3.2\n",
       "59459   chr15   82540219   82540896   82540459  82536750      -          RPS17\n",
       "161579  chr15   82540219   82540896   82540459  82536750      -          RPS17\n",
       "59461   chr15   82540219   82540896   82540870  82562374      +   RP11-379H8.1\n",
       "161581  chr15   82540219   82540896   82540870  82562374      +   RP11-379H8.1\n",
       "4120    chr15   89358444   89359341   89358841  89360377      +  CTD-2335A18.2\n",
       "17553   chr15   92808971   92809953   92809884  92617448      -        FAM174B\n",
       "84153   chr15   92808971   92809953   92809884  92617448      -        FAM174B\n",
       "102052  chr15  100341526  100342513  100342005  99971437      -       ADAMTS17"
      ]
     },
     "execution_count": 11,
     "metadata": {},
     "output_type": "execute_result"
    }
   ],
   "source": [
    "## Объединяем: 2 варианта ##\n",
    "ctcf = ctcf.query('chr==\"chr15\"')\n",
    "smc3 = smc3.query('chr==\"chr15\"')\n",
    "\n",
    "# Через библиотеку, например, bioframe\n",
    "import bioframe as bf\n",
    "ctcf_bf = ctcf.rename({'stop':'end', 'chr':'chrom'}, axis=1) # в bioframe ожидаются\n",
    "smc3_bf = smc3.rename({'stop':'end', 'chr':'chrom'}, axis=1) # конкретные имена колонок\n",
    "merged = bf.overlap(ctcf_bf, smc3_bf, how='inner', suffixes=('_x','_y'))\n",
    "merged['chrom'] = merged['chrom_x']\n",
    "\n",
    "# Через обычный pandas merge\n",
    "merged = smc3.merge(ctcf, on='chr').query('(start_x <= start_y <= stop_x) or' + \n",
    "                                          '(start_x <= stop_y <= stop_x) or ' +\n",
    "                                          '(start_y <= start_x <= stop_y) or' +\n",
    "                                          '(start_y <= stop_x <= stop_y)')\n",
    "\n",
    "## Сохраняем новые границы ##\n",
    "merged['start'] = merged[['start_x', 'stop_x', 'start_y', 'stop_y']].min(axis=1)\n",
    "merged['stop'] = merged[['start_x', 'stop_x', 'start_y', 'stop_y']].max(axis=1)\n",
    "\n",
    "## Отбираем топ 100 ##\n",
    "merged = merged.loc[(merged.signalValue_x + merged.signalValue_y).nlargest(100).index, \n",
    "                    ['chr',  'start', 'stop']]\n",
    "\n",
    "## Добавляем аннотацию генов ##\n",
    "merged.merge(genes, on='chr', how='left') \\\n",
    "      .query('start_x <= start_y <= stop_x')\\\n",
    "      .sort_values(by=['start_x', 'stop_x', 'start_y', 'stop_y'])"
   ]
  },
  {
   "cell_type": "markdown",
   "id": "9fdf9299-2c91-46a7-be84-3f94b5bc6ff4",
   "metadata": {
    "deletable": false,
    "nbgrader": {
     "checksum": "a0545369cc2d75b42acd65e1332ceb59",
     "grade": false,
     "grade_id": "cell-598a78173f13cecd",
     "locked": true,
     "schema_version": 3,
     "solution": false,
     "task": false
    },
    "slideshow": {
     "slide_type": ""
    },
    "tags": []
   },
   "source": [
    "### Задание 8 📈 Статистическое сравнение данных\n",
    "\n",
    " Данные у вас хранятся в агрегированном виде (координаты сжаты до начал и концов интервалов). В связи с этим невозможно делать статистическое сравнение сигналов, так как, условно, какой-то сигнал задан на интервале в 100 п.н., а какой-то в 1000 п.н.. Поэтому данные придется немного предобработать. \n",
    "\n",
    "1) Возьмите данные RNA-seq. Для экономии ресурсов отберите только 15 хромосому.\n",
    "2) Переведите датафрейм `['chr', 'start', 'stop', 'signalValue']` в `['chr', 'pos', 'signalValue']`, то есть чтобы у вас каждая позиция была записана в явном виде. \n",
    "\n",
    "Было:\n",
    "```python\n",
    "start stop signal\n",
    "1     2    10\n",
    "4     6    100\n",
    "```\n",
    "Стало:\n",
    "```python\n",
    "pos signal\n",
    "1    10\n",
    "2    10\n",
    "4    100\n",
    "5    100\n",
    "6    100\n",
    "```\n",
    "\n",
    "Сделать можно разными путями. Я могу посоветовать например [такое](https://pandas.pydata.org/pandas-docs/stable/reference/api/pandas.DataFrame.explode.html). Для этого нужно иметь одну колонку где все нужные координаты из интервала будут записаны в виде списка (все, а не только начало и конец). Я думаю, что проще всего это будет сделать с помощью `apply` (мы же умеем применять его к строкам) и старого доброго `range` :)\n",
    "\n",
    "\n",
    "3) Статистически интенсивности сигналов РНК-сека на хромосоме 15 между двумя группами образцов. Следите чтобы ваши выводы были корректными.\n",
    "\n",
    "#### Самый главный график\n",
    "\n",
    "4) Нарисуйте 2 боксполта интенсивностей сигналов РНК-сека (в log-шкале по y) и проаннотируйте над ними p-value. Если вызывает трудности, начните [отсюда](https://stackoverflow.com/questions/36578458/how-does-one-insert-statistical-annotations-stars-or-p-values). Можете найти референс в файле `boxplot.png`\n",
    "\n",
    "\n",
    "*(25 баллов)*"
   ]
  },
  {
   "cell_type": "code",
   "execution_count": 12,
   "id": "7124c85a-5d75-4c85-b6d9-97b6710af3e2",
   "metadata": {},
   "outputs": [],
   "source": [
    "import pingouin as pg"
   ]
  },
  {
   "cell_type": "code",
   "execution_count": 13,
   "id": "3e0d2a39-8658-4266-aee5-2d45d82fe878",
   "metadata": {
    "deletable": false,
    "editable": true,
    "nbgrader": {
     "checksum": "9fe39acf6c7676fe899e6f645ccf3a38",
     "grade": true,
     "grade_id": "cell-064ed90e1cda2af5",
     "locked": false,
     "points": 25,
     "schema_version": 3,
     "solution": true,
     "task": false
    },
    "slideshow": {
     "slide_type": ""
    },
    "tags": []
   },
   "outputs": [
    {
     "data": {
      "text/html": [
       "<div>\n",
       "<style scoped>\n",
       "    .dataframe tbody tr th:only-of-type {\n",
       "        vertical-align: middle;\n",
       "    }\n",
       "\n",
       "    .dataframe tbody tr th {\n",
       "        vertical-align: top;\n",
       "    }\n",
       "\n",
       "    .dataframe thead th {\n",
       "        text-align: right;\n",
       "    }\n",
       "</style>\n",
       "<table border=\"1\" class=\"dataframe\">\n",
       "  <thead>\n",
       "    <tr style=\"text-align: right;\">\n",
       "      <th></th>\n",
       "      <th>T</th>\n",
       "      <th>dof</th>\n",
       "      <th>alternative</th>\n",
       "      <th>p-val</th>\n",
       "      <th>CI95%</th>\n",
       "      <th>cohen-d</th>\n",
       "      <th>BF10</th>\n",
       "      <th>power</th>\n",
       "    </tr>\n",
       "  </thead>\n",
       "  <tbody>\n",
       "    <tr>\n",
       "      <th>T-test</th>\n",
       "      <td>-32.906593</td>\n",
       "      <td>132789.194258</td>\n",
       "      <td>two-sided</td>\n",
       "      <td>1.595899e-236</td>\n",
       "      <td>[-75.02, -66.58]</td>\n",
       "      <td>0.123157</td>\n",
       "      <td>1.827e+232</td>\n",
       "      <td>1.0</td>\n",
       "    </tr>\n",
       "  </tbody>\n",
       "</table>\n",
       "</div>"
      ],
      "text/plain": [
       "                T            dof alternative          p-val             CI95%  \\\n",
       "T-test -32.906593  132789.194258   two-sided  1.595899e-236  [-75.02, -66.58]   \n",
       "\n",
       "         cohen-d        BF10  power  \n",
       "T-test  0.123157  1.827e+232    1.0  "
      ]
     },
     "metadata": {},
     "output_type": "display_data"
    },
    {
     "data": {
      "text/plain": [
       "Text(0, 0.5, 'RNA-seq signal')"
      ]
     },
     "execution_count": 13,
     "metadata": {},
     "output_type": "execute_result"
    },
    {
     "data": {
      "image/png": "[encoded data removed]",
      "text/plain": [
       "<Figure size 640x480 with 1 Axes>"
      ]
     },
     "metadata": {},
     "output_type": "display_data"
    }
   ],
   "source": [
    "rnaseq = rnaseq.query('chr == \"chr15\"')\n",
    "\n",
    "# Получаем позиции\n",
    "rnaseq['position'] = rnaseq.apply(lambda row: list(range(row['start'], row['stop']+1)), axis=1)\n",
    "rnaseq = rnaseq.explode('position')\n",
    "\n",
    "# Любой стат.тест который вам покажется релевантным\n",
    "ttset_res = pg.ttest(rnaseq.query('Sample == \"Health\"').signalValue, \n",
    "                     rnaseq.query('Sample == \"Desease\"').signalValue)\n",
    "display(ttset_res)\n",
    "\n",
    "### Боксплоты ###\n",
    "# Общие настройки\n",
    "sns.set_style(\"white\")\n",
    "sns.set_context(\"notebook\")\n",
    "sns.set_palette('Set2')\n",
    "\n",
    "# Сам график\n",
    "sns.boxplot(rnaseq, y='signalValue', x='Sample', hue='Sample',\n",
    "            boxprops={'edgecolor':'k'})\n",
    "\n",
    "# Аннотация p-value\n",
    "x1, x2 = 0, 1\n",
    "max_ = rnaseq['signalValue'].max()\n",
    "range_ = rnaseq['signalValue'].max() - rnaseq['signalValue'].min()\n",
    "y, h, col = max_ + range_, range_, 'k'\n",
    "plt.plot([x1, x1, x2, x2], [y, y+h, y+h, y], lw=1.5, c=col)\n",
    "plt.text((x1+x2)*.5, y+h, f\"p-value ={ttset_res['p-val']['T-test']:.2g}\", ha='center', va='bottom', color=col);\n",
    "\n",
    "# Расставляем y-ticks\n",
    "plt.yscale('log')\n",
    "ylims = plt.gca().get_ylim()\n",
    "plt.ylim((ylims[0], ylims[1]*2))\n",
    "\n",
    "# Подписи графика\n",
    "plt.title('Chr 15 small RNA-seq signal')\n",
    "plt.xlabel('Sample')\n",
    "plt.ylabel('RNA-seq signal')"
   ]
  },
  {
   "cell_type": "markdown",
   "id": "9945f441-4341-4661-ad51-bb1ed64ab8a9",
   "metadata": {
    "deletable": false,
    "editable": false,
    "nbgrader": {
     "checksum": "bb53a824cdef0afca14e04e53a5a4654",
     "grade": false,
     "grade_id": "cell-8101f76cf6368400",
     "locked": true,
     "schema_version": 3,
     "solution": false,
     "task": false
    },
    "tags": []
   },
   "source": [
    "> Получается, мы показали наличие или отсутствие разницы в экспрессии малых РНК в нейронах между здоровыми людьми и пациентами с некоторым нейродегенеративным заболеванием. Осталось найти статьи чтобы проследить связь этих РНК с функциями некоторых конкретных генов и белков - и пожалуйста, у вас уже есть готовые наметки чтобы выстраивать патоэтиологию заболевания. Но это уже совсем другая история."
   ]
  },
  {
   "cell_type": "markdown",
   "id": "ce3e6915-08b8-44c9-92dc-f5494eba1642",
   "metadata": {
    "deletable": false,
    "editable": false,
    "nbgrader": {
     "checksum": "2f08dd670d3ccf5f953814c04017538f",
     "grade": false,
     "grade_id": "cell-7410aee8cbe80827",
     "locked": true,
     "schema_version": 3,
     "solution": false,
     "task": false
    },
    "tags": []
   },
   "source": [
    "---\n",
    "\n",
    "Надеюсь, у тебя всё получилось! Но в любом случае - ты молодец:)🥳\n",
    "\n",
    "---"
   ]
  }
 ],
 "metadata": {
  "kernelspec": {
   "display_name": "Python 3 (ipykernel)",
   "language": "python",
   "name": "python3"
  },
  "language_info": {
   "codemirror_mode": {
    "name": "ipython",
    "version": 3
   },
   "file_extension": ".py",
   "mimetype": "text/x-python",
   "name": "python",
   "nbconvert_exporter": "python",
   "pygments_lexer": "ipython3",
   "version": "3.11.10"
  }
 },
 "nbformat": 4,
 "nbformat_minor": 5
}
